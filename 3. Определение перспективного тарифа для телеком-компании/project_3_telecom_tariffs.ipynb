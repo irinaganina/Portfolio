{
 "cells": [
  {
   "cell_type": "markdown",
   "metadata": {
    "toc": true
   },
   "source": [
    "<h1>Содержание<span class=\"tocSkip\"></span></h1>\n",
    "<div class=\"toc\"><ul class=\"toc-item\"><li><span><a href=\"#Описание-тарифов\" data-toc-modified-id=\"Описание-тарифов-1\">Описание тарифов</a></span><ul class=\"toc-item\"><li><span><a href=\"#Тариф-«Смарт»\" data-toc-modified-id=\"Тариф-«Смарт»-1.1\">Тариф «Смарт»</a></span></li><li><span><a href=\"#Тариф-«Ультра»\" data-toc-modified-id=\"Тариф-«Ультра»-1.2\">Тариф «Ультра»</a></span></li></ul></li><li><span><a href=\"#Описание-данных\" data-toc-modified-id=\"Описание-данных-2\">Описание данных</a></span></li><li><span><a href=\"#Изучение-данных-из-файла\" data-toc-modified-id=\"Изучение-данных-из-файла-3\">Изучение данных из файла</a></span><ul class=\"toc-item\"><li><ul class=\"toc-item\"><li><span><a href=\"#Вывод\" data-toc-modified-id=\"Вывод-3.0.1\">Вывод</a></span></li></ul></li></ul></li><li><span><a href=\"#Расчёты-и-добавление-результатов-в-таблицу\" data-toc-modified-id=\"Расчёты-и-добавление-результатов-в-таблицу-4\">Расчёты и добавление результатов в таблицу</a></span><ul class=\"toc-item\"><li><ul class=\"toc-item\"><li><span><a href=\"#Вывод\" data-toc-modified-id=\"Вывод-4.0.1\">Вывод</a></span></li></ul></li></ul></li><li><span><a href=\"#Анализ-данных\" data-toc-modified-id=\"Анализ-данных-5\">Анализ данных</a></span><ul class=\"toc-item\"><li><ul class=\"toc-item\"><li><span><a href=\"#Вывод\" data-toc-modified-id=\"Вывод-5.0.1\">Вывод</a></span></li></ul></li></ul></li><li><span><a href=\"#Построение-гистограмм\" data-toc-modified-id=\"Построение-гистограмм-6\">Построение гистограмм</a></span><ul class=\"toc-item\"><li><ul class=\"toc-item\"><li><ul class=\"toc-item\"><li><span><a href=\"#Вывод\" data-toc-modified-id=\"Вывод-6.0.0.1\">Вывод</a></span></li></ul></li></ul></li></ul></li><li><span><a href=\"#Проверка-гипотез\" data-toc-modified-id=\"Проверка-гипотез-7\">Проверка гипотез</a></span><ul class=\"toc-item\"><li><span><a href=\"#Cредняя-выручка-пользователей-тарифов-«Ультра»-и-«Смарт»-различаются\" data-toc-modified-id=\"Cредняя-выручка-пользователей-тарифов-«Ультра»-и-«Смарт»-различаются-7.1\">Cредняя выручка пользователей тарифов «Ультра» и «Смарт» различаются</a></span><ul class=\"toc-item\"><li><span><a href=\"#Формулировка-гипотез\" data-toc-modified-id=\"Формулировка-гипотез-7.1.1\">Формулировка гипотез</a></span></li></ul></li><li><span><a href=\"#Вывод\" data-toc-modified-id=\"Вывод-7.2\">Вывод</a></span></li><li><span><a href=\"#Cредняя-выручка-пользователей-из-Москвы-отличается-от-выручки-пользователей-из-других-регионов\" data-toc-modified-id=\"Cредняя-выручка-пользователей-из-Москвы-отличается-от-выручки-пользователей-из-других-регионов-7.3\">Cредняя выручка пользователей из Москвы отличается от выручки пользователей из других регионов</a></span><ul class=\"toc-item\"><li><span><a href=\"#Формулировка-гипотез\" data-toc-modified-id=\"Формулировка-гипотез-7.3.1\">Формулировка гипотез</a></span></li><li><span><a href=\"#Вывод\" data-toc-modified-id=\"Вывод-7.3.2\">Вывод</a></span></li></ul></li></ul></li><li><span><a href=\"#Общий-вывод\" data-toc-modified-id=\"Общий-вывод-8\">Общий вывод</a></span></li></ul></div>"
   ]
  },
  {
   "cell_type": "markdown",
   "metadata": {},
   "source": [
    "# Определение перспективного тарифа для телеком-компании\n",
    "Компания «Мегалайн» — федеральный оператор сотовой связи - предлагает два тарифных плана: «Смарт» и «Ультра». Чтобы скорректировать рекламный бюджет, коммерческий департамент хочет понять, какой тариф приносит больше денег.\n",
    "\n",
    "Представлены данные 500 пользователей «Мегалайна»: кто они, откуда, каким тарифом пользуются, сколько звонков и сообщений каждый отправил за 2018 год. Проанализируем поведение клиентов и сделать вывод — какой тариф лучше."
   ]
  },
  {
   "cell_type": "markdown",
   "metadata": {},
   "source": [
    "## Описание тарифов\n",
    "### Тариф «Смарт»\n",
    "\n",
    "Ежемесячная плата: 550 рублей\n",
    "Включено 500 минут разговора, 50 сообщений и 15 Гб интернет-трафика\n",
    "\n",
    "Стоимость услуг сверх тарифного пакета: \n",
    "* минута разговора: 3 рубля  \n",
    "* сообщение: 3 рубля;\n",
    "* 1 Гб интернет-трафика: 200 рублей.\n",
    "\n",
    "*«Мегалайн» всегда округляет вверх значения минут и мегабайтов. Если пользователь проговорил всего 1 секунду, в тарифе засчитывается целая минута*\n",
    "\n",
    "### Тариф «Ультра»\n",
    "\n",
    "Ежемесячная плата: 1950 рублей\n",
    "Включено 3000 минут разговора, 1000 сообщений и 30 Гб интернет-трафика\n",
    "\n",
    "Стоимость услуг сверх тарифного пакета: \n",
    "* минута разговора: 1 рубль;\n",
    "* сообщение: 1 рубль;\n",
    "* 1 Гб интернет-трафика: 150 рублей."
   ]
  },
  {
   "cell_type": "markdown",
   "metadata": {},
   "source": [
    "## Описание данных\n",
    "\n",
    "**Таблица users (информация о пользователях):**\n",
    "* user_id — уникальный идентификатор пользователя\n",
    "* first_name — имя пользователя\n",
    "* last_name — фамилия пользователя\n",
    "* age — возраст пользователя (годы)\n",
    "* reg_date — дата подключения тарифа (день, месяц, год)\n",
    "* churn_date — дата прекращения пользования тарифом (если значение пропущено, то тариф ещё действовал на момент выгрузки данных)\n",
    "* city — город проживания пользователя\n",
    "* tarif — название тарифного плана\n",
    "\n",
    "**Таблица calls (информация о звонках):**\n",
    "* id — уникальный номер звонка\n",
    "* call_date — дата звонка\n",
    "* duration — длительность звонка в минутах\n",
    "* user_id — идентификатор пользователя, сделавшего звонок\n",
    "\n",
    "**Таблица messages (информация о сообщениях):**\n",
    "* id — уникальный номер сообщения\n",
    "* message_date — дата сообщения\n",
    "* user_id — идентификатор пользователя, отправившего сообщение\n",
    "\n",
    "**Таблица internet (информация об интернет-сессиях):**\n",
    "* id — уникальный номер сессии\n",
    "* mb_used — объём потраченного за сессию интернет-трафика (в мегабайтах)\n",
    "* session_date — дата интернет-сессии\n",
    "* user_id — идентификатор пользователя\n",
    "\n",
    "**Таблица tariffs (информация о тарифах):**\n",
    "* tariff_name — название тарифа\n",
    "* rub_monthly_fee — ежемесячная абонентская плата в рублях\n",
    "* minutes_included — количество минут разговора в месяц, включённых в абонентскую плату\n",
    "* messages_included — количество сообщений в месяц, включённых в абонентскую плату\n",
    "* mb_per_month_included — объём интернет-трафика, включённого в абонентскую плату (в мегабайтах)\n",
    "* rub_per_minute — стоимость минуты разговора сверх тарифного пакета (например, если в тарифе 100 минут разговора в месяц, то со 101 минуты будет взиматься плата)\n",
    "* rub_per_message — стоимость отправки сообщения сверх тарифного пакета\n",
    "* rub_per_gb — стоимость дополнительного гигабайта интернет-трафика сверх тарифного пакета (1 гигабайт = 1024 мегабайта)"
   ]
  },
  {
   "cell_type": "markdown",
   "metadata": {},
   "source": [
    "## Изучение данных из файла"
   ]
  },
  {
   "cell_type": "code",
   "execution_count": 1,
   "metadata": {},
   "outputs": [],
   "source": [
    "import pandas as pd\n",
    "import numpy as np\n",
    "import matplotlib.pyplot as plt\n",
    "import seaborn as sns\n",
    "from scipy import stats as st\n",
    "\n",
    "\n",
    "calls = pd.read_csv('/datasets/calls.csv', sep=',')\n",
    "internet = pd.read_csv('/datasets/internet.csv', sep=',')\n",
    "messages = pd.read_csv('/datasets/messages.csv', sep=',')\n",
    "tariffs = pd.read_csv('/datasets/tariffs.csv', sep=',')\n",
    "users = pd.read_csv('/datasets/users.csv', sep=',')"
   ]
  },
  {
   "cell_type": "code",
   "execution_count": 2,
   "metadata": {},
   "outputs": [
    {
     "name": "stdout",
     "output_type": "stream",
     "text": [
      "<class 'pandas.core.frame.DataFrame'>\n",
      "RangeIndex: 202607 entries, 0 to 202606\n",
      "Data columns (total 4 columns):\n",
      "id           202607 non-null object\n",
      "call_date    202607 non-null object\n",
      "duration     202607 non-null float64\n",
      "user_id      202607 non-null int64\n",
      "dtypes: float64(1), int64(1), object(2)\n",
      "memory usage: 6.2+ MB\n"
     ]
    },
    {
     "data": {
      "text/html": [
       "<div>\n",
       "<style scoped>\n",
       "    .dataframe tbody tr th:only-of-type {\n",
       "        vertical-align: middle;\n",
       "    }\n",
       "\n",
       "    .dataframe tbody tr th {\n",
       "        vertical-align: top;\n",
       "    }\n",
       "\n",
       "    .dataframe thead th {\n",
       "        text-align: right;\n",
       "    }\n",
       "</style>\n",
       "<table border=\"1\" class=\"dataframe\">\n",
       "  <thead>\n",
       "    <tr style=\"text-align: right;\">\n",
       "      <th></th>\n",
       "      <th>id</th>\n",
       "      <th>call_date</th>\n",
       "      <th>duration</th>\n",
       "      <th>user_id</th>\n",
       "    </tr>\n",
       "  </thead>\n",
       "  <tbody>\n",
       "    <tr>\n",
       "      <td>0</td>\n",
       "      <td>1000_0</td>\n",
       "      <td>2018-07-25</td>\n",
       "      <td>0.00</td>\n",
       "      <td>1000</td>\n",
       "    </tr>\n",
       "    <tr>\n",
       "      <td>1</td>\n",
       "      <td>1000_1</td>\n",
       "      <td>2018-08-17</td>\n",
       "      <td>0.00</td>\n",
       "      <td>1000</td>\n",
       "    </tr>\n",
       "    <tr>\n",
       "      <td>2</td>\n",
       "      <td>1000_2</td>\n",
       "      <td>2018-06-11</td>\n",
       "      <td>2.85</td>\n",
       "      <td>1000</td>\n",
       "    </tr>\n",
       "    <tr>\n",
       "      <td>3</td>\n",
       "      <td>1000_3</td>\n",
       "      <td>2018-09-21</td>\n",
       "      <td>13.80</td>\n",
       "      <td>1000</td>\n",
       "    </tr>\n",
       "    <tr>\n",
       "      <td>4</td>\n",
       "      <td>1000_4</td>\n",
       "      <td>2018-12-15</td>\n",
       "      <td>5.18</td>\n",
       "      <td>1000</td>\n",
       "    </tr>\n",
       "    <tr>\n",
       "      <td>...</td>\n",
       "      <td>...</td>\n",
       "      <td>...</td>\n",
       "      <td>...</td>\n",
       "      <td>...</td>\n",
       "    </tr>\n",
       "    <tr>\n",
       "      <td>202602</td>\n",
       "      <td>1499_215</td>\n",
       "      <td>2018-12-26</td>\n",
       "      <td>0.76</td>\n",
       "      <td>1499</td>\n",
       "    </tr>\n",
       "    <tr>\n",
       "      <td>202603</td>\n",
       "      <td>1499_216</td>\n",
       "      <td>2018-10-18</td>\n",
       "      <td>18.83</td>\n",
       "      <td>1499</td>\n",
       "    </tr>\n",
       "    <tr>\n",
       "      <td>202604</td>\n",
       "      <td>1499_217</td>\n",
       "      <td>2018-11-10</td>\n",
       "      <td>10.81</td>\n",
       "      <td>1499</td>\n",
       "    </tr>\n",
       "    <tr>\n",
       "      <td>202605</td>\n",
       "      <td>1499_218</td>\n",
       "      <td>2018-10-06</td>\n",
       "      <td>4.27</td>\n",
       "      <td>1499</td>\n",
       "    </tr>\n",
       "    <tr>\n",
       "      <td>202606</td>\n",
       "      <td>1499_219</td>\n",
       "      <td>2018-12-14</td>\n",
       "      <td>19.62</td>\n",
       "      <td>1499</td>\n",
       "    </tr>\n",
       "  </tbody>\n",
       "</table>\n",
       "<p>202607 rows × 4 columns</p>\n",
       "</div>"
      ],
      "text/plain": [
       "              id   call_date  duration  user_id\n",
       "0         1000_0  2018-07-25      0.00     1000\n",
       "1         1000_1  2018-08-17      0.00     1000\n",
       "2         1000_2  2018-06-11      2.85     1000\n",
       "3         1000_3  2018-09-21     13.80     1000\n",
       "4         1000_4  2018-12-15      5.18     1000\n",
       "...          ...         ...       ...      ...\n",
       "202602  1499_215  2018-12-26      0.76     1499\n",
       "202603  1499_216  2018-10-18     18.83     1499\n",
       "202604  1499_217  2018-11-10     10.81     1499\n",
       "202605  1499_218  2018-10-06      4.27     1499\n",
       "202606  1499_219  2018-12-14     19.62     1499\n",
       "\n",
       "[202607 rows x 4 columns]"
      ]
     },
     "execution_count": 2,
     "metadata": {},
     "output_type": "execute_result"
    }
   ],
   "source": [
    "calls.info()\n",
    "calls"
   ]
  },
  {
   "cell_type": "code",
   "execution_count": 3,
   "metadata": {},
   "outputs": [],
   "source": [
    "#преобразование типов данных\n",
    "calls['call_date'] = pd.to_datetime(calls['call_date'])\n",
    "calls['user_id']  = calls['user_id'].astype('str')\n",
    "calls['duration']  = np.ceil(calls['duration']).astype('int')"
   ]
  },
  {
   "cell_type": "code",
   "execution_count": 4,
   "metadata": {},
   "outputs": [
    {
     "name": "stdout",
     "output_type": "stream",
     "text": [
      "<class 'pandas.core.frame.DataFrame'>\n",
      "RangeIndex: 149396 entries, 0 to 149395\n",
      "Data columns (total 5 columns):\n",
      "Unnamed: 0      149396 non-null int64\n",
      "id              149396 non-null object\n",
      "mb_used         149396 non-null float64\n",
      "session_date    149396 non-null object\n",
      "user_id         149396 non-null int64\n",
      "dtypes: float64(1), int64(2), object(2)\n",
      "memory usage: 5.7+ MB\n"
     ]
    }
   ],
   "source": [
    "internet.info()"
   ]
  },
  {
   "cell_type": "code",
   "execution_count": 5,
   "metadata": {},
   "outputs": [],
   "source": [
    "#преобразование типов данных\n",
    "internet['session_date'] = pd.to_datetime(internet['session_date'])\n",
    "internet['user_id']  = internet['user_id'].astype('str')\n",
    "internet.drop('Unnamed: 0', axis=1, inplace=True)"
   ]
  },
  {
   "cell_type": "code",
   "execution_count": 6,
   "metadata": {},
   "outputs": [
    {
     "name": "stdout",
     "output_type": "stream",
     "text": [
      "<class 'pandas.core.frame.DataFrame'>\n",
      "RangeIndex: 149396 entries, 0 to 149395\n",
      "Data columns (total 4 columns):\n",
      "id              149396 non-null object\n",
      "mb_used         149396 non-null float64\n",
      "session_date    149396 non-null datetime64[ns]\n",
      "user_id         149396 non-null object\n",
      "dtypes: datetime64[ns](1), float64(1), object(2)\n",
      "memory usage: 4.6+ MB\n"
     ]
    }
   ],
   "source": [
    "internet.info()"
   ]
  },
  {
   "cell_type": "code",
   "execution_count": 7,
   "metadata": {},
   "outputs": [
    {
     "name": "stdout",
     "output_type": "stream",
     "text": [
      "<class 'pandas.core.frame.DataFrame'>\n",
      "RangeIndex: 123036 entries, 0 to 123035\n",
      "Data columns (total 3 columns):\n",
      "id              123036 non-null object\n",
      "message_date    123036 non-null object\n",
      "user_id         123036 non-null int64\n",
      "dtypes: int64(1), object(2)\n",
      "memory usage: 2.8+ MB\n"
     ]
    }
   ],
   "source": [
    "messages.info()"
   ]
  },
  {
   "cell_type": "code",
   "execution_count": 8,
   "metadata": {},
   "outputs": [],
   "source": [
    "#преобразование типов данных\n",
    "messages['user_id']  = messages['user_id'].astype('str')\n",
    "messages['message_date'] = pd.to_datetime(messages['message_date'])"
   ]
  },
  {
   "cell_type": "code",
   "execution_count": 9,
   "metadata": {},
   "outputs": [
    {
     "name": "stdout",
     "output_type": "stream",
     "text": [
      "<class 'pandas.core.frame.DataFrame'>\n",
      "RangeIndex: 2 entries, 0 to 1\n",
      "Data columns (total 8 columns):\n",
      "messages_included        2 non-null int64\n",
      "mb_per_month_included    2 non-null int64\n",
      "minutes_included         2 non-null int64\n",
      "rub_monthly_fee          2 non-null int64\n",
      "rub_per_gb               2 non-null int64\n",
      "rub_per_message          2 non-null int64\n",
      "rub_per_minute           2 non-null int64\n",
      "tariff_name              2 non-null object\n",
      "dtypes: int64(7), object(1)\n",
      "memory usage: 256.0+ bytes\n"
     ]
    }
   ],
   "source": [
    "tariffs.info()"
   ]
  },
  {
   "cell_type": "code",
   "execution_count": 10,
   "metadata": {},
   "outputs": [
    {
     "name": "stdout",
     "output_type": "stream",
     "text": [
      "<class 'pandas.core.frame.DataFrame'>\n",
      "RangeIndex: 500 entries, 0 to 499\n",
      "Data columns (total 8 columns):\n",
      "user_id       500 non-null int64\n",
      "age           500 non-null int64\n",
      "churn_date    38 non-null object\n",
      "city          500 non-null object\n",
      "first_name    500 non-null object\n",
      "last_name     500 non-null object\n",
      "reg_date      500 non-null object\n",
      "tariff        500 non-null object\n",
      "dtypes: int64(2), object(6)\n",
      "memory usage: 31.4+ KB\n"
     ]
    }
   ],
   "source": [
    "users.info()"
   ]
  },
  {
   "cell_type": "code",
   "execution_count": 11,
   "metadata": {},
   "outputs": [
    {
     "data": {
      "text/html": [
       "<div>\n",
       "<style scoped>\n",
       "    .dataframe tbody tr th:only-of-type {\n",
       "        vertical-align: middle;\n",
       "    }\n",
       "\n",
       "    .dataframe tbody tr th {\n",
       "        vertical-align: top;\n",
       "    }\n",
       "\n",
       "    .dataframe thead th {\n",
       "        text-align: right;\n",
       "    }\n",
       "</style>\n",
       "<table border=\"1\" class=\"dataframe\">\n",
       "  <thead>\n",
       "    <tr style=\"text-align: right;\">\n",
       "      <th></th>\n",
       "      <th>user_id</th>\n",
       "      <th>age</th>\n",
       "      <th>churn_date</th>\n",
       "      <th>city</th>\n",
       "      <th>first_name</th>\n",
       "      <th>last_name</th>\n",
       "      <th>reg_date</th>\n",
       "      <th>tariff</th>\n",
       "    </tr>\n",
       "  </thead>\n",
       "  <tbody>\n",
       "    <tr>\n",
       "      <td>0</td>\n",
       "      <td>1000</td>\n",
       "      <td>52</td>\n",
       "      <td>NaN</td>\n",
       "      <td>Краснодар</td>\n",
       "      <td>Рафаил</td>\n",
       "      <td>Верещагин</td>\n",
       "      <td>2018-05-25</td>\n",
       "      <td>ultra</td>\n",
       "    </tr>\n",
       "    <tr>\n",
       "      <td>1</td>\n",
       "      <td>1001</td>\n",
       "      <td>41</td>\n",
       "      <td>NaN</td>\n",
       "      <td>Москва</td>\n",
       "      <td>Иван</td>\n",
       "      <td>Ежов</td>\n",
       "      <td>2018-11-01</td>\n",
       "      <td>smart</td>\n",
       "    </tr>\n",
       "    <tr>\n",
       "      <td>2</td>\n",
       "      <td>1002</td>\n",
       "      <td>59</td>\n",
       "      <td>NaN</td>\n",
       "      <td>Стерлитамак</td>\n",
       "      <td>Евгений</td>\n",
       "      <td>Абрамович</td>\n",
       "      <td>2018-06-17</td>\n",
       "      <td>smart</td>\n",
       "    </tr>\n",
       "    <tr>\n",
       "      <td>3</td>\n",
       "      <td>1003</td>\n",
       "      <td>23</td>\n",
       "      <td>NaN</td>\n",
       "      <td>Москва</td>\n",
       "      <td>Белла</td>\n",
       "      <td>Белякова</td>\n",
       "      <td>2018-08-17</td>\n",
       "      <td>ultra</td>\n",
       "    </tr>\n",
       "    <tr>\n",
       "      <td>4</td>\n",
       "      <td>1004</td>\n",
       "      <td>68</td>\n",
       "      <td>NaN</td>\n",
       "      <td>Новокузнецк</td>\n",
       "      <td>Татьяна</td>\n",
       "      <td>Авдеенко</td>\n",
       "      <td>2018-05-14</td>\n",
       "      <td>ultra</td>\n",
       "    </tr>\n",
       "  </tbody>\n",
       "</table>\n",
       "</div>"
      ],
      "text/plain": [
       "   user_id  age churn_date         city first_name  last_name    reg_date  \\\n",
       "0     1000   52        NaN    Краснодар     Рафаил  Верещагин  2018-05-25   \n",
       "1     1001   41        NaN       Москва       Иван       Ежов  2018-11-01   \n",
       "2     1002   59        NaN  Стерлитамак    Евгений  Абрамович  2018-06-17   \n",
       "3     1003   23        NaN       Москва      Белла   Белякова  2018-08-17   \n",
       "4     1004   68        NaN  Новокузнецк    Татьяна   Авдеенко  2018-05-14   \n",
       "\n",
       "  tariff  \n",
       "0  ultra  \n",
       "1  smart  \n",
       "2  smart  \n",
       "3  ultra  \n",
       "4  ultra  "
      ]
     },
     "execution_count": 11,
     "metadata": {},
     "output_type": "execute_result"
    }
   ],
   "source": [
    "users.head()"
   ]
  },
  {
   "cell_type": "code",
   "execution_count": 12,
   "metadata": {},
   "outputs": [],
   "source": [
    "#преобразование типов данных\n",
    "users['reg_date'] = pd.to_datetime(users['reg_date'])\n",
    "users['churn_date'] = pd.to_datetime(users['churn_date'])\n",
    "users['user_id']  = users['user_id'].astype('str')"
   ]
  },
  {
   "cell_type": "code",
   "execution_count": 13,
   "metadata": {},
   "outputs": [
    {
     "data": {
      "text/html": [
       "<div>\n",
       "<style scoped>\n",
       "    .dataframe tbody tr th:only-of-type {\n",
       "        vertical-align: middle;\n",
       "    }\n",
       "\n",
       "    .dataframe tbody tr th {\n",
       "        vertical-align: top;\n",
       "    }\n",
       "\n",
       "    .dataframe thead th {\n",
       "        text-align: right;\n",
       "    }\n",
       "</style>\n",
       "<table border=\"1\" class=\"dataframe\">\n",
       "  <thead>\n",
       "    <tr style=\"text-align: right;\">\n",
       "      <th></th>\n",
       "      <th>id</th>\n",
       "      <th>call_date</th>\n",
       "      <th>user_id</th>\n",
       "    </tr>\n",
       "  </thead>\n",
       "  <tbody>\n",
       "    <tr>\n",
       "      <td>count</td>\n",
       "      <td>202607</td>\n",
       "      <td>202607</td>\n",
       "      <td>202607</td>\n",
       "    </tr>\n",
       "    <tr>\n",
       "      <td>unique</td>\n",
       "      <td>202607</td>\n",
       "      <td>365</td>\n",
       "      <td>492</td>\n",
       "    </tr>\n",
       "    <tr>\n",
       "      <td>top</td>\n",
       "      <td>1229_81</td>\n",
       "      <td>2018-12-31 00:00:00</td>\n",
       "      <td>1377</td>\n",
       "    </tr>\n",
       "    <tr>\n",
       "      <td>freq</td>\n",
       "      <td>1</td>\n",
       "      <td>1435</td>\n",
       "      <td>1760</td>\n",
       "    </tr>\n",
       "    <tr>\n",
       "      <td>first</td>\n",
       "      <td>NaN</td>\n",
       "      <td>2018-01-01 00:00:00</td>\n",
       "      <td>NaN</td>\n",
       "    </tr>\n",
       "    <tr>\n",
       "      <td>last</td>\n",
       "      <td>NaN</td>\n",
       "      <td>2018-12-31 00:00:00</td>\n",
       "      <td>NaN</td>\n",
       "    </tr>\n",
       "  </tbody>\n",
       "</table>\n",
       "</div>"
      ],
      "text/plain": [
       "             id            call_date user_id\n",
       "count    202607               202607  202607\n",
       "unique   202607                  365     492\n",
       "top     1229_81  2018-12-31 00:00:00    1377\n",
       "freq          1                 1435    1760\n",
       "first       NaN  2018-01-01 00:00:00     NaN\n",
       "last        NaN  2018-12-31 00:00:00     NaN"
      ]
     },
     "execution_count": 13,
     "metadata": {},
     "output_type": "execute_result"
    }
   ],
   "source": [
    "#описательные статистики для категориальных  данных\n",
    "calls.select_dtypes(include=[\"object\", \"datetime\"]).describe()"
   ]
  },
  {
   "cell_type": "code",
   "execution_count": 14,
   "metadata": {},
   "outputs": [
    {
     "data": {
      "text/html": [
       "<div>\n",
       "<style scoped>\n",
       "    .dataframe tbody tr th:only-of-type {\n",
       "        vertical-align: middle;\n",
       "    }\n",
       "\n",
       "    .dataframe tbody tr th {\n",
       "        vertical-align: top;\n",
       "    }\n",
       "\n",
       "    .dataframe thead th {\n",
       "        text-align: right;\n",
       "    }\n",
       "</style>\n",
       "<table border=\"1\" class=\"dataframe\">\n",
       "  <thead>\n",
       "    <tr style=\"text-align: right;\">\n",
       "      <th></th>\n",
       "      <th>duration</th>\n",
       "    </tr>\n",
       "  </thead>\n",
       "  <tbody>\n",
       "    <tr>\n",
       "      <td>count</td>\n",
       "      <td>202607.000000</td>\n",
       "    </tr>\n",
       "    <tr>\n",
       "      <td>mean</td>\n",
       "      <td>7.158198</td>\n",
       "    </tr>\n",
       "    <tr>\n",
       "      <td>std</td>\n",
       "      <td>5.959173</td>\n",
       "    </tr>\n",
       "    <tr>\n",
       "      <td>min</td>\n",
       "      <td>0.000000</td>\n",
       "    </tr>\n",
       "    <tr>\n",
       "      <td>25%</td>\n",
       "      <td>2.000000</td>\n",
       "    </tr>\n",
       "    <tr>\n",
       "      <td>50%</td>\n",
       "      <td>6.000000</td>\n",
       "    </tr>\n",
       "    <tr>\n",
       "      <td>75%</td>\n",
       "      <td>11.000000</td>\n",
       "    </tr>\n",
       "    <tr>\n",
       "      <td>max</td>\n",
       "      <td>38.000000</td>\n",
       "    </tr>\n",
       "  </tbody>\n",
       "</table>\n",
       "</div>"
      ],
      "text/plain": [
       "            duration\n",
       "count  202607.000000\n",
       "mean        7.158198\n",
       "std         5.959173\n",
       "min         0.000000\n",
       "25%         2.000000\n",
       "50%         6.000000\n",
       "75%        11.000000\n",
       "max        38.000000"
      ]
     },
     "execution_count": 14,
     "metadata": {},
     "output_type": "execute_result"
    }
   ],
   "source": [
    "#описательные статистики для количественных типов данных\n",
    "calls.select_dtypes(include=[\"float\", \"int\"]).describe()"
   ]
  },
  {
   "cell_type": "code",
   "execution_count": 15,
   "metadata": {},
   "outputs": [
    {
     "data": {
      "text/html": [
       "<div>\n",
       "<style scoped>\n",
       "    .dataframe tbody tr th:only-of-type {\n",
       "        vertical-align: middle;\n",
       "    }\n",
       "\n",
       "    .dataframe tbody tr th {\n",
       "        vertical-align: top;\n",
       "    }\n",
       "\n",
       "    .dataframe thead th {\n",
       "        text-align: right;\n",
       "    }\n",
       "</style>\n",
       "<table border=\"1\" class=\"dataframe\">\n",
       "  <thead>\n",
       "    <tr style=\"text-align: right;\">\n",
       "      <th></th>\n",
       "      <th>id</th>\n",
       "      <th>session_date</th>\n",
       "      <th>user_id</th>\n",
       "    </tr>\n",
       "  </thead>\n",
       "  <tbody>\n",
       "    <tr>\n",
       "      <td>count</td>\n",
       "      <td>149396</td>\n",
       "      <td>149396</td>\n",
       "      <td>149396</td>\n",
       "    </tr>\n",
       "    <tr>\n",
       "      <td>unique</td>\n",
       "      <td>149396</td>\n",
       "      <td>365</td>\n",
       "      <td>497</td>\n",
       "    </tr>\n",
       "    <tr>\n",
       "      <td>top</td>\n",
       "      <td>1229_81</td>\n",
       "      <td>2018-12-31 00:00:00</td>\n",
       "      <td>1496</td>\n",
       "    </tr>\n",
       "    <tr>\n",
       "      <td>freq</td>\n",
       "      <td>1</td>\n",
       "      <td>1057</td>\n",
       "      <td>834</td>\n",
       "    </tr>\n",
       "    <tr>\n",
       "      <td>first</td>\n",
       "      <td>NaN</td>\n",
       "      <td>2018-01-01 00:00:00</td>\n",
       "      <td>NaN</td>\n",
       "    </tr>\n",
       "    <tr>\n",
       "      <td>last</td>\n",
       "      <td>NaN</td>\n",
       "      <td>2018-12-31 00:00:00</td>\n",
       "      <td>NaN</td>\n",
       "    </tr>\n",
       "  </tbody>\n",
       "</table>\n",
       "</div>"
      ],
      "text/plain": [
       "             id         session_date user_id\n",
       "count    149396               149396  149396\n",
       "unique   149396                  365     497\n",
       "top     1229_81  2018-12-31 00:00:00    1496\n",
       "freq          1                 1057     834\n",
       "first       NaN  2018-01-01 00:00:00     NaN\n",
       "last        NaN  2018-12-31 00:00:00     NaN"
      ]
     },
     "execution_count": 15,
     "metadata": {},
     "output_type": "execute_result"
    }
   ],
   "source": [
    "#описательные статистики для категориальных  данных\n",
    "internet.select_dtypes(include=[\"object\", \"datetime\"]).describe()"
   ]
  },
  {
   "cell_type": "code",
   "execution_count": 16,
   "metadata": {},
   "outputs": [
    {
     "data": {
      "text/html": [
       "<div>\n",
       "<style scoped>\n",
       "    .dataframe tbody tr th:only-of-type {\n",
       "        vertical-align: middle;\n",
       "    }\n",
       "\n",
       "    .dataframe tbody tr th {\n",
       "        vertical-align: top;\n",
       "    }\n",
       "\n",
       "    .dataframe thead th {\n",
       "        text-align: right;\n",
       "    }\n",
       "</style>\n",
       "<table border=\"1\" class=\"dataframe\">\n",
       "  <thead>\n",
       "    <tr style=\"text-align: right;\">\n",
       "      <th></th>\n",
       "      <th>mb_used</th>\n",
       "    </tr>\n",
       "  </thead>\n",
       "  <tbody>\n",
       "    <tr>\n",
       "      <td>count</td>\n",
       "      <td>149396.000000</td>\n",
       "    </tr>\n",
       "    <tr>\n",
       "      <td>mean</td>\n",
       "      <td>370.192426</td>\n",
       "    </tr>\n",
       "    <tr>\n",
       "      <td>std</td>\n",
       "      <td>278.300951</td>\n",
       "    </tr>\n",
       "    <tr>\n",
       "      <td>min</td>\n",
       "      <td>0.000000</td>\n",
       "    </tr>\n",
       "    <tr>\n",
       "      <td>25%</td>\n",
       "      <td>138.187500</td>\n",
       "    </tr>\n",
       "    <tr>\n",
       "      <td>50%</td>\n",
       "      <td>348.015000</td>\n",
       "    </tr>\n",
       "    <tr>\n",
       "      <td>75%</td>\n",
       "      <td>559.552500</td>\n",
       "    </tr>\n",
       "    <tr>\n",
       "      <td>max</td>\n",
       "      <td>1724.830000</td>\n",
       "    </tr>\n",
       "  </tbody>\n",
       "</table>\n",
       "</div>"
      ],
      "text/plain": [
       "             mb_used\n",
       "count  149396.000000\n",
       "mean      370.192426\n",
       "std       278.300951\n",
       "min         0.000000\n",
       "25%       138.187500\n",
       "50%       348.015000\n",
       "75%       559.552500\n",
       "max      1724.830000"
      ]
     },
     "execution_count": 16,
     "metadata": {},
     "output_type": "execute_result"
    }
   ],
   "source": [
    "#описательные статистики для количественных  данных\n",
    "internet.select_dtypes(include=[\"float\", \"int\"]).describe()"
   ]
  },
  {
   "cell_type": "code",
   "execution_count": 17,
   "metadata": {},
   "outputs": [
    {
     "data": {
      "text/html": [
       "<div>\n",
       "<style scoped>\n",
       "    .dataframe tbody tr th:only-of-type {\n",
       "        vertical-align: middle;\n",
       "    }\n",
       "\n",
       "    .dataframe tbody tr th {\n",
       "        vertical-align: top;\n",
       "    }\n",
       "\n",
       "    .dataframe thead th {\n",
       "        text-align: right;\n",
       "    }\n",
       "</style>\n",
       "<table border=\"1\" class=\"dataframe\">\n",
       "  <thead>\n",
       "    <tr style=\"text-align: right;\">\n",
       "      <th></th>\n",
       "      <th>id</th>\n",
       "      <th>message_date</th>\n",
       "      <th>user_id</th>\n",
       "    </tr>\n",
       "  </thead>\n",
       "  <tbody>\n",
       "    <tr>\n",
       "      <td>count</td>\n",
       "      <td>123036</td>\n",
       "      <td>123036</td>\n",
       "      <td>123036</td>\n",
       "    </tr>\n",
       "    <tr>\n",
       "      <td>unique</td>\n",
       "      <td>123036</td>\n",
       "      <td>364</td>\n",
       "      <td>426</td>\n",
       "    </tr>\n",
       "    <tr>\n",
       "      <td>top</td>\n",
       "      <td>1400_87</td>\n",
       "      <td>2018-12-31 00:00:00</td>\n",
       "      <td>1277</td>\n",
       "    </tr>\n",
       "    <tr>\n",
       "      <td>freq</td>\n",
       "      <td>1</td>\n",
       "      <td>859</td>\n",
       "      <td>1463</td>\n",
       "    </tr>\n",
       "    <tr>\n",
       "      <td>first</td>\n",
       "      <td>NaN</td>\n",
       "      <td>2018-01-02 00:00:00</td>\n",
       "      <td>NaN</td>\n",
       "    </tr>\n",
       "    <tr>\n",
       "      <td>last</td>\n",
       "      <td>NaN</td>\n",
       "      <td>2018-12-31 00:00:00</td>\n",
       "      <td>NaN</td>\n",
       "    </tr>\n",
       "  </tbody>\n",
       "</table>\n",
       "</div>"
      ],
      "text/plain": [
       "             id         message_date user_id\n",
       "count    123036               123036  123036\n",
       "unique   123036                  364     426\n",
       "top     1400_87  2018-12-31 00:00:00    1277\n",
       "freq          1                  859    1463\n",
       "first       NaN  2018-01-02 00:00:00     NaN\n",
       "last        NaN  2018-12-31 00:00:00     NaN"
      ]
     },
     "execution_count": 17,
     "metadata": {},
     "output_type": "execute_result"
    }
   ],
   "source": [
    "#описательные статистики для категориальных  данных\n",
    "messages.select_dtypes(include=[\"object\", \"datetime\"]).describe()"
   ]
  },
  {
   "cell_type": "code",
   "execution_count": 18,
   "metadata": {},
   "outputs": [
    {
     "data": {
      "text/html": [
       "<div>\n",
       "<style scoped>\n",
       "    .dataframe tbody tr th:only-of-type {\n",
       "        vertical-align: middle;\n",
       "    }\n",
       "\n",
       "    .dataframe tbody tr th {\n",
       "        vertical-align: top;\n",
       "    }\n",
       "\n",
       "    .dataframe thead th {\n",
       "        text-align: right;\n",
       "    }\n",
       "</style>\n",
       "<table border=\"1\" class=\"dataframe\">\n",
       "  <thead>\n",
       "    <tr style=\"text-align: right;\">\n",
       "      <th></th>\n",
       "      <th>user_id</th>\n",
       "      <th>churn_date</th>\n",
       "      <th>city</th>\n",
       "      <th>first_name</th>\n",
       "      <th>last_name</th>\n",
       "      <th>reg_date</th>\n",
       "      <th>tariff</th>\n",
       "    </tr>\n",
       "  </thead>\n",
       "  <tbody>\n",
       "    <tr>\n",
       "      <td>count</td>\n",
       "      <td>500</td>\n",
       "      <td>38</td>\n",
       "      <td>500</td>\n",
       "      <td>500</td>\n",
       "      <td>500</td>\n",
       "      <td>500</td>\n",
       "      <td>500</td>\n",
       "    </tr>\n",
       "    <tr>\n",
       "      <td>unique</td>\n",
       "      <td>500</td>\n",
       "      <td>33</td>\n",
       "      <td>76</td>\n",
       "      <td>246</td>\n",
       "      <td>419</td>\n",
       "      <td>270</td>\n",
       "      <td>2</td>\n",
       "    </tr>\n",
       "    <tr>\n",
       "      <td>top</td>\n",
       "      <td>1456</td>\n",
       "      <td>2018-10-03 00:00:00</td>\n",
       "      <td>Москва</td>\n",
       "      <td>Радим</td>\n",
       "      <td>Андреенко</td>\n",
       "      <td>2018-05-28 00:00:00</td>\n",
       "      <td>smart</td>\n",
       "    </tr>\n",
       "    <tr>\n",
       "      <td>freq</td>\n",
       "      <td>1</td>\n",
       "      <td>2</td>\n",
       "      <td>99</td>\n",
       "      <td>6</td>\n",
       "      <td>5</td>\n",
       "      <td>8</td>\n",
       "      <td>351</td>\n",
       "    </tr>\n",
       "    <tr>\n",
       "      <td>first</td>\n",
       "      <td>NaN</td>\n",
       "      <td>2018-08-17 00:00:00</td>\n",
       "      <td>NaN</td>\n",
       "      <td>NaN</td>\n",
       "      <td>NaN</td>\n",
       "      <td>2018-01-01 00:00:00</td>\n",
       "      <td>NaN</td>\n",
       "    </tr>\n",
       "    <tr>\n",
       "      <td>last</td>\n",
       "      <td>NaN</td>\n",
       "      <td>2018-12-30 00:00:00</td>\n",
       "      <td>NaN</td>\n",
       "      <td>NaN</td>\n",
       "      <td>NaN</td>\n",
       "      <td>2018-12-31 00:00:00</td>\n",
       "      <td>NaN</td>\n",
       "    </tr>\n",
       "  </tbody>\n",
       "</table>\n",
       "</div>"
      ],
      "text/plain": [
       "       user_id           churn_date    city first_name  last_name  \\\n",
       "count      500                   38     500        500        500   \n",
       "unique     500                   33      76        246        419   \n",
       "top       1456  2018-10-03 00:00:00  Москва      Радим  Андреенко   \n",
       "freq         1                    2      99          6          5   \n",
       "first      NaN  2018-08-17 00:00:00     NaN        NaN        NaN   \n",
       "last       NaN  2018-12-30 00:00:00     NaN        NaN        NaN   \n",
       "\n",
       "                   reg_date tariff  \n",
       "count                   500    500  \n",
       "unique                  270      2  \n",
       "top     2018-05-28 00:00:00  smart  \n",
       "freq                      8    351  \n",
       "first   2018-01-01 00:00:00    NaN  \n",
       "last    2018-12-31 00:00:00    NaN  "
      ]
     },
     "execution_count": 18,
     "metadata": {},
     "output_type": "execute_result"
    }
   ],
   "source": [
    "#описательные статистики для категориальных  данных\n",
    "users.select_dtypes(include=[\"object\", \"datetime\"]).describe()"
   ]
  },
  {
   "cell_type": "code",
   "execution_count": 19,
   "metadata": {},
   "outputs": [
    {
     "data": {
      "text/html": [
       "<div>\n",
       "<style scoped>\n",
       "    .dataframe tbody tr th:only-of-type {\n",
       "        vertical-align: middle;\n",
       "    }\n",
       "\n",
       "    .dataframe tbody tr th {\n",
       "        vertical-align: top;\n",
       "    }\n",
       "\n",
       "    .dataframe thead th {\n",
       "        text-align: right;\n",
       "    }\n",
       "</style>\n",
       "<table border=\"1\" class=\"dataframe\">\n",
       "  <thead>\n",
       "    <tr style=\"text-align: right;\">\n",
       "      <th></th>\n",
       "      <th>age</th>\n",
       "    </tr>\n",
       "  </thead>\n",
       "  <tbody>\n",
       "    <tr>\n",
       "      <td>count</td>\n",
       "      <td>500.00000</td>\n",
       "    </tr>\n",
       "    <tr>\n",
       "      <td>mean</td>\n",
       "      <td>46.58800</td>\n",
       "    </tr>\n",
       "    <tr>\n",
       "      <td>std</td>\n",
       "      <td>16.66763</td>\n",
       "    </tr>\n",
       "    <tr>\n",
       "      <td>min</td>\n",
       "      <td>18.00000</td>\n",
       "    </tr>\n",
       "    <tr>\n",
       "      <td>25%</td>\n",
       "      <td>32.00000</td>\n",
       "    </tr>\n",
       "    <tr>\n",
       "      <td>50%</td>\n",
       "      <td>46.00000</td>\n",
       "    </tr>\n",
       "    <tr>\n",
       "      <td>75%</td>\n",
       "      <td>62.00000</td>\n",
       "    </tr>\n",
       "    <tr>\n",
       "      <td>max</td>\n",
       "      <td>75.00000</td>\n",
       "    </tr>\n",
       "  </tbody>\n",
       "</table>\n",
       "</div>"
      ],
      "text/plain": [
       "             age\n",
       "count  500.00000\n",
       "mean    46.58800\n",
       "std     16.66763\n",
       "min     18.00000\n",
       "25%     32.00000\n",
       "50%     46.00000\n",
       "75%     62.00000\n",
       "max     75.00000"
      ]
     },
     "execution_count": 19,
     "metadata": {},
     "output_type": "execute_result"
    }
   ],
   "source": [
    "#описательные статистики для количественных  данных\n",
    "users.select_dtypes(include=[\"float\", \"int\"]).describe()"
   ]
  },
  {
   "cell_type": "code",
   "execution_count": 20,
   "metadata": {},
   "outputs": [
    {
     "data": {
      "text/plain": [
       "0"
      ]
     },
     "execution_count": 20,
     "metadata": {},
     "output_type": "execute_result"
    }
   ],
   "source": [
    "#проверка наличия дубликатов\n",
    "calls.duplicated().sum()"
   ]
  },
  {
   "cell_type": "code",
   "execution_count": 21,
   "metadata": {},
   "outputs": [
    {
     "data": {
      "text/plain": [
       "0"
      ]
     },
     "execution_count": 21,
     "metadata": {},
     "output_type": "execute_result"
    }
   ],
   "source": [
    "#проверка наличия дубликатов\n",
    "internet.duplicated().sum()"
   ]
  },
  {
   "cell_type": "code",
   "execution_count": 22,
   "metadata": {},
   "outputs": [
    {
     "data": {
      "text/plain": [
       "0"
      ]
     },
     "execution_count": 22,
     "metadata": {},
     "output_type": "execute_result"
    }
   ],
   "source": [
    "#проверка наличия дубликатов\n",
    "messages.duplicated().sum()"
   ]
  },
  {
   "cell_type": "code",
   "execution_count": 23,
   "metadata": {},
   "outputs": [
    {
     "data": {
      "text/plain": [
       "0"
      ]
     },
     "execution_count": 23,
     "metadata": {},
     "output_type": "execute_result"
    }
   ],
   "source": [
    "#проверка наличия дубликатов\n",
    "users.duplicated().sum()"
   ]
  },
  {
   "cell_type": "code",
   "execution_count": 24,
   "metadata": {},
   "outputs": [
    {
     "data": {
      "text/plain": [
       "id           0\n",
       "call_date    0\n",
       "duration     0\n",
       "user_id      0\n",
       "dtype: int64"
      ]
     },
     "execution_count": 24,
     "metadata": {},
     "output_type": "execute_result"
    }
   ],
   "source": [
    "#проверка наличия пропущенных значений\n",
    "calls.isnull().sum()"
   ]
  },
  {
   "cell_type": "code",
   "execution_count": 25,
   "metadata": {},
   "outputs": [
    {
     "data": {
      "text/plain": [
       "id              0\n",
       "mb_used         0\n",
       "session_date    0\n",
       "user_id         0\n",
       "dtype: int64"
      ]
     },
     "execution_count": 25,
     "metadata": {},
     "output_type": "execute_result"
    }
   ],
   "source": [
    "#проверка наличия пропущенных значений\n",
    "internet.isnull().sum()"
   ]
  },
  {
   "cell_type": "code",
   "execution_count": 26,
   "metadata": {},
   "outputs": [
    {
     "data": {
      "text/plain": [
       "user_id         0\n",
       "age             0\n",
       "churn_date    462\n",
       "city            0\n",
       "first_name      0\n",
       "last_name       0\n",
       "reg_date        0\n",
       "tariff          0\n",
       "dtype: int64"
      ]
     },
     "execution_count": 26,
     "metadata": {},
     "output_type": "execute_result"
    }
   ],
   "source": [
    "#проверка наличия пропущенных значений\n",
    "users.isnull().sum()"
   ]
  },
  {
   "cell_type": "code",
   "execution_count": 27,
   "metadata": {},
   "outputs": [
    {
     "data": {
      "text/plain": [
       "id              0\n",
       "message_date    0\n",
       "user_id         0\n",
       "dtype: int64"
      ]
     },
     "execution_count": 27,
     "metadata": {},
     "output_type": "execute_result"
    }
   ],
   "source": [
    "#проверка наличия пропущенных значений\n",
    "messages.isnull().sum()"
   ]
  },
  {
   "cell_type": "code",
   "execution_count": 28,
   "metadata": {},
   "outputs": [
    {
     "data": {
      "text/plain": [
       "array([[<matplotlib.axes._subplots.AxesSubplot object at 0x7f8bbe818390>]],\n",
       "      dtype=object)"
      ]
     },
     "execution_count": 28,
     "metadata": {},
     "output_type": "execute_result"
    },
    {
     "data": {
      "image/png": "[encoded data removed]",
      "text/plain": [
       "<Figure size 432x288 with 1 Axes>"
      ]
     },
     "metadata": {
      "needs_background": "light"
     },
     "output_type": "display_data"
    }
   ],
   "source": [
    "internet['mb_used'].describe()\n",
    "mb_used= pd.DataFrame(internet['mb_used'])\n",
    "mb_used.hist(bins=30, range=(0,1000))"
   ]
  },
  {
   "cell_type": "code",
   "execution_count": 29,
   "metadata": {},
   "outputs": [
    {
     "data": {
      "text/html": [
       "<div>\n",
       "<style scoped>\n",
       "    .dataframe tbody tr th:only-of-type {\n",
       "        vertical-align: middle;\n",
       "    }\n",
       "\n",
       "    .dataframe tbody tr th {\n",
       "        vertical-align: top;\n",
       "    }\n",
       "\n",
       "    .dataframe thead th {\n",
       "        text-align: right;\n",
       "    }\n",
       "</style>\n",
       "<table border=\"1\" class=\"dataframe\">\n",
       "  <thead>\n",
       "    <tr style=\"text-align: right;\">\n",
       "      <th></th>\n",
       "      <th>id</th>\n",
       "      <th>mb_used</th>\n",
       "      <th>session_date</th>\n",
       "      <th>user_id</th>\n",
       "    </tr>\n",
       "  </thead>\n",
       "  <tbody>\n",
       "    <tr>\n",
       "      <td>11</td>\n",
       "      <td>1000_11</td>\n",
       "      <td>0.0</td>\n",
       "      <td>2018-08-28</td>\n",
       "      <td>1000</td>\n",
       "    </tr>\n",
       "    <tr>\n",
       "      <td>38</td>\n",
       "      <td>1000_38</td>\n",
       "      <td>0.0</td>\n",
       "      <td>2018-11-27</td>\n",
       "      <td>1000</td>\n",
       "    </tr>\n",
       "    <tr>\n",
       "      <td>46</td>\n",
       "      <td>1000_46</td>\n",
       "      <td>0.0</td>\n",
       "      <td>2018-06-30</td>\n",
       "      <td>1000</td>\n",
       "    </tr>\n",
       "    <tr>\n",
       "      <td>67</td>\n",
       "      <td>1000_67</td>\n",
       "      <td>0.0</td>\n",
       "      <td>2018-06-16</td>\n",
       "      <td>1000</td>\n",
       "    </tr>\n",
       "    <tr>\n",
       "      <td>72</td>\n",
       "      <td>1000_72</td>\n",
       "      <td>0.0</td>\n",
       "      <td>2018-06-15</td>\n",
       "      <td>1000</td>\n",
       "    </tr>\n",
       "    <tr>\n",
       "      <td>...</td>\n",
       "      <td>...</td>\n",
       "      <td>...</td>\n",
       "      <td>...</td>\n",
       "      <td>...</td>\n",
       "    </tr>\n",
       "    <tr>\n",
       "      <td>149380</td>\n",
       "      <td>1499_141</td>\n",
       "      <td>0.0</td>\n",
       "      <td>2018-12-11</td>\n",
       "      <td>1499</td>\n",
       "    </tr>\n",
       "    <tr>\n",
       "      <td>149381</td>\n",
       "      <td>1499_142</td>\n",
       "      <td>0.0</td>\n",
       "      <td>2018-11-01</td>\n",
       "      <td>1499</td>\n",
       "    </tr>\n",
       "    <tr>\n",
       "      <td>149383</td>\n",
       "      <td>1499_144</td>\n",
       "      <td>0.0</td>\n",
       "      <td>2018-11-27</td>\n",
       "      <td>1499</td>\n",
       "    </tr>\n",
       "    <tr>\n",
       "      <td>149386</td>\n",
       "      <td>1499_147</td>\n",
       "      <td>0.0</td>\n",
       "      <td>2018-10-21</td>\n",
       "      <td>1499</td>\n",
       "    </tr>\n",
       "    <tr>\n",
       "      <td>149393</td>\n",
       "      <td>1499_154</td>\n",
       "      <td>0.0</td>\n",
       "      <td>2018-10-27</td>\n",
       "      <td>1499</td>\n",
       "    </tr>\n",
       "  </tbody>\n",
       "</table>\n",
       "<p>19598 rows × 4 columns</p>\n",
       "</div>"
      ],
      "text/plain": [
       "              id  mb_used session_date user_id\n",
       "11       1000_11      0.0   2018-08-28    1000\n",
       "38       1000_38      0.0   2018-11-27    1000\n",
       "46       1000_46      0.0   2018-06-30    1000\n",
       "67       1000_67      0.0   2018-06-16    1000\n",
       "72       1000_72      0.0   2018-06-15    1000\n",
       "...          ...      ...          ...     ...\n",
       "149380  1499_141      0.0   2018-12-11    1499\n",
       "149381  1499_142      0.0   2018-11-01    1499\n",
       "149383  1499_144      0.0   2018-11-27    1499\n",
       "149386  1499_147      0.0   2018-10-21    1499\n",
       "149393  1499_154      0.0   2018-10-27    1499\n",
       "\n",
       "[19598 rows x 4 columns]"
      ]
     },
     "execution_count": 29,
     "metadata": {},
     "output_type": "execute_result"
    }
   ],
   "source": [
    "internet[internet['mb_used'] == 0]"
   ]
  },
  {
   "cell_type": "code",
   "execution_count": 30,
   "metadata": {},
   "outputs": [
    {
     "data": {
      "text/html": [
       "<div>\n",
       "<style scoped>\n",
       "    .dataframe tbody tr th:only-of-type {\n",
       "        vertical-align: middle;\n",
       "    }\n",
       "\n",
       "    .dataframe tbody tr th {\n",
       "        vertical-align: top;\n",
       "    }\n",
       "\n",
       "    .dataframe thead th {\n",
       "        text-align: right;\n",
       "    }\n",
       "</style>\n",
       "<table border=\"1\" class=\"dataframe\">\n",
       "  <thead>\n",
       "    <tr style=\"text-align: right;\">\n",
       "      <th></th>\n",
       "      <th>id</th>\n",
       "      <th>mb_used</th>\n",
       "      <th>session_date</th>\n",
       "      <th>user_id</th>\n",
       "    </tr>\n",
       "  </thead>\n",
       "  <tbody>\n",
       "    <tr>\n",
       "      <td>11</td>\n",
       "      <td>1000_11</td>\n",
       "      <td>1.0</td>\n",
       "      <td>2018-08-28</td>\n",
       "      <td>1000</td>\n",
       "    </tr>\n",
       "    <tr>\n",
       "      <td>38</td>\n",
       "      <td>1000_38</td>\n",
       "      <td>1.0</td>\n",
       "      <td>2018-11-27</td>\n",
       "      <td>1000</td>\n",
       "    </tr>\n",
       "    <tr>\n",
       "      <td>46</td>\n",
       "      <td>1000_46</td>\n",
       "      <td>1.0</td>\n",
       "      <td>2018-06-30</td>\n",
       "      <td>1000</td>\n",
       "    </tr>\n",
       "    <tr>\n",
       "      <td>67</td>\n",
       "      <td>1000_67</td>\n",
       "      <td>1.0</td>\n",
       "      <td>2018-06-16</td>\n",
       "      <td>1000</td>\n",
       "    </tr>\n",
       "    <tr>\n",
       "      <td>72</td>\n",
       "      <td>1000_72</td>\n",
       "      <td>1.0</td>\n",
       "      <td>2018-06-15</td>\n",
       "      <td>1000</td>\n",
       "    </tr>\n",
       "    <tr>\n",
       "      <td>...</td>\n",
       "      <td>...</td>\n",
       "      <td>...</td>\n",
       "      <td>...</td>\n",
       "      <td>...</td>\n",
       "    </tr>\n",
       "    <tr>\n",
       "      <td>149380</td>\n",
       "      <td>1499_141</td>\n",
       "      <td>1.0</td>\n",
       "      <td>2018-12-11</td>\n",
       "      <td>1499</td>\n",
       "    </tr>\n",
       "    <tr>\n",
       "      <td>149381</td>\n",
       "      <td>1499_142</td>\n",
       "      <td>1.0</td>\n",
       "      <td>2018-11-01</td>\n",
       "      <td>1499</td>\n",
       "    </tr>\n",
       "    <tr>\n",
       "      <td>149383</td>\n",
       "      <td>1499_144</td>\n",
       "      <td>1.0</td>\n",
       "      <td>2018-11-27</td>\n",
       "      <td>1499</td>\n",
       "    </tr>\n",
       "    <tr>\n",
       "      <td>149386</td>\n",
       "      <td>1499_147</td>\n",
       "      <td>1.0</td>\n",
       "      <td>2018-10-21</td>\n",
       "      <td>1499</td>\n",
       "    </tr>\n",
       "    <tr>\n",
       "      <td>149393</td>\n",
       "      <td>1499_154</td>\n",
       "      <td>1.0</td>\n",
       "      <td>2018-10-27</td>\n",
       "      <td>1499</td>\n",
       "    </tr>\n",
       "  </tbody>\n",
       "</table>\n",
       "<p>19599 rows × 4 columns</p>\n",
       "</div>"
      ],
      "text/plain": [
       "              id  mb_used session_date user_id\n",
       "11       1000_11      1.0   2018-08-28    1000\n",
       "38       1000_38      1.0   2018-11-27    1000\n",
       "46       1000_46      1.0   2018-06-30    1000\n",
       "67       1000_67      1.0   2018-06-16    1000\n",
       "72       1000_72      1.0   2018-06-15    1000\n",
       "...          ...      ...          ...     ...\n",
       "149380  1499_141      1.0   2018-12-11    1499\n",
       "149381  1499_142      1.0   2018-11-01    1499\n",
       "149383  1499_144      1.0   2018-11-27    1499\n",
       "149386  1499_147      1.0   2018-10-21    1499\n",
       "149393  1499_154      1.0   2018-10-27    1499\n",
       "\n",
       "[19599 rows x 4 columns]"
      ]
     },
     "execution_count": 30,
     "metadata": {},
     "output_type": "execute_result"
    }
   ],
   "source": [
    "internet.loc[internet['mb_used'] == 0,'mb_used'] = 1\n",
    "internet[internet['mb_used'] == 1]"
   ]
  },
  {
   "cell_type": "markdown",
   "metadata": {},
   "source": [
    "#### Вывод\n",
    "Произведены преобразования типов данных для дальнейшего удобства работы с ними.\n",
    "Дубликаты отсутствуют.\n",
    "В duration нулями обозначены пропущенные звонки, поэтому их не нужно удалять.\n",
    "Есть пропуски в churn_date, но это значит, что тариф ещё действовал на момент выгрузки данных.\n",
    "\n",
    "Нулевые значения израсходованного трафика могут говорить о безлимитах на использование приложений. Однако в условиях тарифа этого нет. Скорее всего эти данные потеряны из-за сбоя. Учитывая, что таких нулевых значений много (около 13% всего датафрейма), мы не можем их удалить, поскольку это исказит результаты. Для веб-трафика отдельные сессии не считаются. Вместо этого общая сумма за месяц округляется в бОльшую сторону.Поскольку таких значений много, а замена нулевых значений на числовые значения (медиана или среднее по пользователю) может привести к необоснованному росту перерасхода по тарифу, которого фактически не было. Оставить пропуски пустыми тоже нельзя, поскольку тогда прибыль компании будут занижена. Поэтому пропуски заменены на 1."
   ]
  },
  {
   "cell_type": "markdown",
   "metadata": {},
   "source": [
    "## Расчёты и добавление результатов в таблицу"
   ]
  },
  {
   "cell_type": "code",
   "execution_count": 31,
   "metadata": {},
   "outputs": [
    {
     "name": "stdout",
     "output_type": "stream",
     "text": [
      "<class 'pandas.core.frame.DataFrame'>\n",
      "RangeIndex: 202607 entries, 0 to 202606\n",
      "Data columns (total 5 columns):\n",
      "id           202607 non-null object\n",
      "call_date    202607 non-null datetime64[ns]\n",
      "duration     202607 non-null int64\n",
      "user_id      202607 non-null object\n",
      "month        202607 non-null int64\n",
      "dtypes: datetime64[ns](1), int64(2), object(2)\n",
      "memory usage: 7.7+ MB\n"
     ]
    }
   ],
   "source": [
    "#добавляем столбец с номером месяца\n",
    "calls['month'] = calls['call_date'].dt.month\n",
    "calls.info()"
   ]
  },
  {
   "cell_type": "code",
   "execution_count": 32,
   "metadata": {},
   "outputs": [
    {
     "data": {
      "text/html": [
       "<div>\n",
       "<style scoped>\n",
       "    .dataframe tbody tr th:only-of-type {\n",
       "        vertical-align: middle;\n",
       "    }\n",
       "\n",
       "    .dataframe tbody tr th {\n",
       "        vertical-align: top;\n",
       "    }\n",
       "\n",
       "    .dataframe thead th {\n",
       "        text-align: right;\n",
       "    }\n",
       "</style>\n",
       "<table border=\"1\" class=\"dataframe\">\n",
       "  <thead>\n",
       "    <tr style=\"text-align: right;\">\n",
       "      <th></th>\n",
       "      <th>user_id</th>\n",
       "      <th>month</th>\n",
       "      <th>duration_sum</th>\n",
       "      <th>calls_amount</th>\n",
       "    </tr>\n",
       "  </thead>\n",
       "  <tbody>\n",
       "    <tr>\n",
       "      <td>0</td>\n",
       "      <td>1000</td>\n",
       "      <td>5</td>\n",
       "      <td>159</td>\n",
       "      <td>22</td>\n",
       "    </tr>\n",
       "    <tr>\n",
       "      <td>1</td>\n",
       "      <td>1000</td>\n",
       "      <td>6</td>\n",
       "      <td>172</td>\n",
       "      <td>43</td>\n",
       "    </tr>\n",
       "    <tr>\n",
       "      <td>2</td>\n",
       "      <td>1000</td>\n",
       "      <td>7</td>\n",
       "      <td>340</td>\n",
       "      <td>47</td>\n",
       "    </tr>\n",
       "    <tr>\n",
       "      <td>3</td>\n",
       "      <td>1000</td>\n",
       "      <td>8</td>\n",
       "      <td>408</td>\n",
       "      <td>52</td>\n",
       "    </tr>\n",
       "    <tr>\n",
       "      <td>4</td>\n",
       "      <td>1000</td>\n",
       "      <td>9</td>\n",
       "      <td>466</td>\n",
       "      <td>58</td>\n",
       "    </tr>\n",
       "    <tr>\n",
       "      <td>...</td>\n",
       "      <td>...</td>\n",
       "      <td>...</td>\n",
       "      <td>...</td>\n",
       "      <td>...</td>\n",
       "    </tr>\n",
       "    <tr>\n",
       "      <td>3169</td>\n",
       "      <td>1498</td>\n",
       "      <td>10</td>\n",
       "      <td>247</td>\n",
       "      <td>41</td>\n",
       "    </tr>\n",
       "    <tr>\n",
       "      <td>3170</td>\n",
       "      <td>1499</td>\n",
       "      <td>9</td>\n",
       "      <td>70</td>\n",
       "      <td>9</td>\n",
       "    </tr>\n",
       "    <tr>\n",
       "      <td>3171</td>\n",
       "      <td>1499</td>\n",
       "      <td>10</td>\n",
       "      <td>449</td>\n",
       "      <td>68</td>\n",
       "    </tr>\n",
       "    <tr>\n",
       "      <td>3172</td>\n",
       "      <td>1499</td>\n",
       "      <td>11</td>\n",
       "      <td>612</td>\n",
       "      <td>74</td>\n",
       "    </tr>\n",
       "    <tr>\n",
       "      <td>3173</td>\n",
       "      <td>1499</td>\n",
       "      <td>12</td>\n",
       "      <td>492</td>\n",
       "      <td>69</td>\n",
       "    </tr>\n",
       "  </tbody>\n",
       "</table>\n",
       "<p>3174 rows × 4 columns</p>\n",
       "</div>"
      ],
      "text/plain": [
       "     user_id  month  duration_sum  calls_amount\n",
       "0       1000      5           159            22\n",
       "1       1000      6           172            43\n",
       "2       1000      7           340            47\n",
       "3       1000      8           408            52\n",
       "4       1000      9           466            58\n",
       "...      ...    ...           ...           ...\n",
       "3169    1498     10           247            41\n",
       "3170    1499      9            70             9\n",
       "3171    1499     10           449            68\n",
       "3172    1499     11           612            74\n",
       "3173    1499     12           492            69\n",
       "\n",
       "[3174 rows x 4 columns]"
      ]
     },
     "execution_count": 32,
     "metadata": {},
     "output_type": "execute_result"
    }
   ],
   "source": [
    "#группируем данные по пользователям и месяцам\n",
    "user_calls = calls.groupby(['user_id','month']).agg({'duration':'sum', 'id':'count'}).reset_index().rename(columns={'duration': 'duration_sum', 'id': 'calls_amount'})\n",
    "user_calls"
   ]
  },
  {
   "cell_type": "code",
   "execution_count": 33,
   "metadata": {},
   "outputs": [
    {
     "name": "stdout",
     "output_type": "stream",
     "text": [
      "<class 'pandas.core.frame.DataFrame'>\n",
      "RangeIndex: 123036 entries, 0 to 123035\n",
      "Data columns (total 4 columns):\n",
      "id              123036 non-null object\n",
      "message_date    123036 non-null datetime64[ns]\n",
      "user_id         123036 non-null object\n",
      "month           123036 non-null int64\n",
      "dtypes: datetime64[ns](1), int64(1), object(2)\n",
      "memory usage: 3.8+ MB\n"
     ]
    }
   ],
   "source": [
    "#добавляем столбец с номером месяца\n",
    "messages['month'] = messages['message_date'].dt.month\n",
    "messages.info()"
   ]
  },
  {
   "cell_type": "code",
   "execution_count": 34,
   "metadata": {},
   "outputs": [
    {
     "data": {
      "text/html": [
       "<div>\n",
       "<style scoped>\n",
       "    .dataframe tbody tr th:only-of-type {\n",
       "        vertical-align: middle;\n",
       "    }\n",
       "\n",
       "    .dataframe tbody tr th {\n",
       "        vertical-align: top;\n",
       "    }\n",
       "\n",
       "    .dataframe thead th {\n",
       "        text-align: right;\n",
       "    }\n",
       "</style>\n",
       "<table border=\"1\" class=\"dataframe\">\n",
       "  <thead>\n",
       "    <tr style=\"text-align: right;\">\n",
       "      <th></th>\n",
       "      <th>user_id</th>\n",
       "      <th>month</th>\n",
       "      <th>messages_amount</th>\n",
       "    </tr>\n",
       "  </thead>\n",
       "  <tbody>\n",
       "    <tr>\n",
       "      <td>0</td>\n",
       "      <td>1000</td>\n",
       "      <td>5</td>\n",
       "      <td>22</td>\n",
       "    </tr>\n",
       "    <tr>\n",
       "      <td>1</td>\n",
       "      <td>1000</td>\n",
       "      <td>6</td>\n",
       "      <td>60</td>\n",
       "    </tr>\n",
       "    <tr>\n",
       "      <td>2</td>\n",
       "      <td>1000</td>\n",
       "      <td>7</td>\n",
       "      <td>75</td>\n",
       "    </tr>\n",
       "    <tr>\n",
       "      <td>3</td>\n",
       "      <td>1000</td>\n",
       "      <td>8</td>\n",
       "      <td>81</td>\n",
       "    </tr>\n",
       "    <tr>\n",
       "      <td>4</td>\n",
       "      <td>1000</td>\n",
       "      <td>9</td>\n",
       "      <td>57</td>\n",
       "    </tr>\n",
       "    <tr>\n",
       "      <td>...</td>\n",
       "      <td>...</td>\n",
       "      <td>...</td>\n",
       "      <td>...</td>\n",
       "    </tr>\n",
       "    <tr>\n",
       "      <td>2712</td>\n",
       "      <td>1498</td>\n",
       "      <td>10</td>\n",
       "      <td>42</td>\n",
       "    </tr>\n",
       "    <tr>\n",
       "      <td>2713</td>\n",
       "      <td>1499</td>\n",
       "      <td>9</td>\n",
       "      <td>11</td>\n",
       "    </tr>\n",
       "    <tr>\n",
       "      <td>2714</td>\n",
       "      <td>1499</td>\n",
       "      <td>10</td>\n",
       "      <td>48</td>\n",
       "    </tr>\n",
       "    <tr>\n",
       "      <td>2715</td>\n",
       "      <td>1499</td>\n",
       "      <td>11</td>\n",
       "      <td>59</td>\n",
       "    </tr>\n",
       "    <tr>\n",
       "      <td>2716</td>\n",
       "      <td>1499</td>\n",
       "      <td>12</td>\n",
       "      <td>66</td>\n",
       "    </tr>\n",
       "  </tbody>\n",
       "</table>\n",
       "<p>2717 rows × 3 columns</p>\n",
       "</div>"
      ],
      "text/plain": [
       "     user_id  month  messages_amount\n",
       "0       1000      5               22\n",
       "1       1000      6               60\n",
       "2       1000      7               75\n",
       "3       1000      8               81\n",
       "4       1000      9               57\n",
       "...      ...    ...              ...\n",
       "2712    1498     10               42\n",
       "2713    1499      9               11\n",
       "2714    1499     10               48\n",
       "2715    1499     11               59\n",
       "2716    1499     12               66\n",
       "\n",
       "[2717 rows x 3 columns]"
      ]
     },
     "execution_count": 34,
     "metadata": {},
     "output_type": "execute_result"
    }
   ],
   "source": [
    "#дгруппируем данные по пользователям и месяцам\n",
    "user_messages = messages.groupby(['user_id','month']).agg({'id':'count'}).reset_index().rename(columns={'id': 'messages_amount'})\n",
    "user_messages"
   ]
  },
  {
   "cell_type": "code",
   "execution_count": 35,
   "metadata": {},
   "outputs": [
    {
     "name": "stdout",
     "output_type": "stream",
     "text": [
      "<class 'pandas.core.frame.DataFrame'>\n",
      "RangeIndex: 149396 entries, 0 to 149395\n",
      "Data columns (total 5 columns):\n",
      "id              149396 non-null object\n",
      "mb_used         149396 non-null float64\n",
      "session_date    149396 non-null datetime64[ns]\n",
      "user_id         149396 non-null object\n",
      "month           149396 non-null int64\n",
      "dtypes: datetime64[ns](1), float64(1), int64(1), object(2)\n",
      "memory usage: 5.7+ MB\n"
     ]
    }
   ],
   "source": [
    "#добавляем столбец с номером месяца\n",
    "internet['month'] = internet['session_date'].dt.month\n",
    "internet.info()"
   ]
  },
  {
   "cell_type": "code",
   "execution_count": 36,
   "metadata": {},
   "outputs": [
    {
     "data": {
      "text/html": [
       "<div>\n",
       "<style scoped>\n",
       "    .dataframe tbody tr th:only-of-type {\n",
       "        vertical-align: middle;\n",
       "    }\n",
       "\n",
       "    .dataframe tbody tr th {\n",
       "        vertical-align: top;\n",
       "    }\n",
       "\n",
       "    .dataframe thead th {\n",
       "        text-align: right;\n",
       "    }\n",
       "</style>\n",
       "<table border=\"1\" class=\"dataframe\">\n",
       "  <thead>\n",
       "    <tr style=\"text-align: right;\">\n",
       "      <th></th>\n",
       "      <th>user_id</th>\n",
       "      <th>month</th>\n",
       "      <th>mb_used_amount</th>\n",
       "    </tr>\n",
       "  </thead>\n",
       "  <tbody>\n",
       "    <tr>\n",
       "      <td>0</td>\n",
       "      <td>1000</td>\n",
       "      <td>5</td>\n",
       "      <td>2254.49</td>\n",
       "    </tr>\n",
       "    <tr>\n",
       "      <td>1</td>\n",
       "      <td>1000</td>\n",
       "      <td>6</td>\n",
       "      <td>23238.77</td>\n",
       "    </tr>\n",
       "    <tr>\n",
       "      <td>2</td>\n",
       "      <td>1000</td>\n",
       "      <td>7</td>\n",
       "      <td>14004.64</td>\n",
       "    </tr>\n",
       "    <tr>\n",
       "      <td>3</td>\n",
       "      <td>1000</td>\n",
       "      <td>8</td>\n",
       "      <td>14057.93</td>\n",
       "    </tr>\n",
       "    <tr>\n",
       "      <td>4</td>\n",
       "      <td>1000</td>\n",
       "      <td>9</td>\n",
       "      <td>14570.91</td>\n",
       "    </tr>\n",
       "    <tr>\n",
       "      <td>...</td>\n",
       "      <td>...</td>\n",
       "      <td>...</td>\n",
       "      <td>...</td>\n",
       "    </tr>\n",
       "    <tr>\n",
       "      <td>3198</td>\n",
       "      <td>1498</td>\n",
       "      <td>10</td>\n",
       "      <td>20589.36</td>\n",
       "    </tr>\n",
       "    <tr>\n",
       "      <td>3199</td>\n",
       "      <td>1499</td>\n",
       "      <td>9</td>\n",
       "      <td>1846.75</td>\n",
       "    </tr>\n",
       "    <tr>\n",
       "      <td>3200</td>\n",
       "      <td>1499</td>\n",
       "      <td>10</td>\n",
       "      <td>17803.51</td>\n",
       "    </tr>\n",
       "    <tr>\n",
       "      <td>3201</td>\n",
       "      <td>1499</td>\n",
       "      <td>11</td>\n",
       "      <td>17973.31</td>\n",
       "    </tr>\n",
       "    <tr>\n",
       "      <td>3202</td>\n",
       "      <td>1499</td>\n",
       "      <td>12</td>\n",
       "      <td>13060.58</td>\n",
       "    </tr>\n",
       "  </tbody>\n",
       "</table>\n",
       "<p>3203 rows × 3 columns</p>\n",
       "</div>"
      ],
      "text/plain": [
       "     user_id  month  mb_used_amount\n",
       "0       1000      5         2254.49\n",
       "1       1000      6        23238.77\n",
       "2       1000      7        14004.64\n",
       "3       1000      8        14057.93\n",
       "4       1000      9        14570.91\n",
       "...      ...    ...             ...\n",
       "3198    1498     10        20589.36\n",
       "3199    1499      9         1846.75\n",
       "3200    1499     10        17803.51\n",
       "3201    1499     11        17973.31\n",
       "3202    1499     12        13060.58\n",
       "\n",
       "[3203 rows x 3 columns]"
      ]
     },
     "execution_count": 36,
     "metadata": {},
     "output_type": "execute_result"
    }
   ],
   "source": [
    "#группируем данные по пользователям и месяцам\n",
    "user_internet = internet.groupby(['user_id','month']).agg({'mb_used':'sum'}).reset_index().rename(columns={'mb_used': 'mb_used_amount'})\n",
    "user_internet"
   ]
  },
  {
   "cell_type": "code",
   "execution_count": 37,
   "metadata": {},
   "outputs": [
    {
     "data": {
      "text/html": [
       "<div>\n",
       "<style scoped>\n",
       "    .dataframe tbody tr th:only-of-type {\n",
       "        vertical-align: middle;\n",
       "    }\n",
       "\n",
       "    .dataframe tbody tr th {\n",
       "        vertical-align: top;\n",
       "    }\n",
       "\n",
       "    .dataframe thead th {\n",
       "        text-align: right;\n",
       "    }\n",
       "</style>\n",
       "<table border=\"1\" class=\"dataframe\">\n",
       "  <thead>\n",
       "    <tr style=\"text-align: right;\">\n",
       "      <th></th>\n",
       "      <th>user_id</th>\n",
       "      <th>month</th>\n",
       "      <th>duration_sum</th>\n",
       "      <th>calls_amount</th>\n",
       "      <th>messages_amount</th>\n",
       "    </tr>\n",
       "  </thead>\n",
       "  <tbody>\n",
       "    <tr>\n",
       "      <td>0</td>\n",
       "      <td>1000</td>\n",
       "      <td>5</td>\n",
       "      <td>159.0</td>\n",
       "      <td>22.0</td>\n",
       "      <td>22.0</td>\n",
       "    </tr>\n",
       "    <tr>\n",
       "      <td>1</td>\n",
       "      <td>1000</td>\n",
       "      <td>6</td>\n",
       "      <td>172.0</td>\n",
       "      <td>43.0</td>\n",
       "      <td>60.0</td>\n",
       "    </tr>\n",
       "    <tr>\n",
       "      <td>2</td>\n",
       "      <td>1000</td>\n",
       "      <td>7</td>\n",
       "      <td>340.0</td>\n",
       "      <td>47.0</td>\n",
       "      <td>75.0</td>\n",
       "    </tr>\n",
       "    <tr>\n",
       "      <td>3</td>\n",
       "      <td>1000</td>\n",
       "      <td>8</td>\n",
       "      <td>408.0</td>\n",
       "      <td>52.0</td>\n",
       "      <td>81.0</td>\n",
       "    </tr>\n",
       "    <tr>\n",
       "      <td>4</td>\n",
       "      <td>1000</td>\n",
       "      <td>9</td>\n",
       "      <td>466.0</td>\n",
       "      <td>58.0</td>\n",
       "      <td>57.0</td>\n",
       "    </tr>\n",
       "    <tr>\n",
       "      <td>...</td>\n",
       "      <td>...</td>\n",
       "      <td>...</td>\n",
       "      <td>...</td>\n",
       "      <td>...</td>\n",
       "      <td>...</td>\n",
       "    </tr>\n",
       "    <tr>\n",
       "      <td>3208</td>\n",
       "      <td>1489</td>\n",
       "      <td>8</td>\n",
       "      <td>NaN</td>\n",
       "      <td>NaN</td>\n",
       "      <td>17.0</td>\n",
       "    </tr>\n",
       "    <tr>\n",
       "      <td>3209</td>\n",
       "      <td>1489</td>\n",
       "      <td>9</td>\n",
       "      <td>NaN</td>\n",
       "      <td>NaN</td>\n",
       "      <td>32.0</td>\n",
       "    </tr>\n",
       "    <tr>\n",
       "      <td>3210</td>\n",
       "      <td>1489</td>\n",
       "      <td>10</td>\n",
       "      <td>NaN</td>\n",
       "      <td>NaN</td>\n",
       "      <td>21.0</td>\n",
       "    </tr>\n",
       "    <tr>\n",
       "      <td>3211</td>\n",
       "      <td>1489</td>\n",
       "      <td>11</td>\n",
       "      <td>NaN</td>\n",
       "      <td>NaN</td>\n",
       "      <td>20.0</td>\n",
       "    </tr>\n",
       "    <tr>\n",
       "      <td>3212</td>\n",
       "      <td>1489</td>\n",
       "      <td>12</td>\n",
       "      <td>NaN</td>\n",
       "      <td>NaN</td>\n",
       "      <td>35.0</td>\n",
       "    </tr>\n",
       "  </tbody>\n",
       "</table>\n",
       "<p>3213 rows × 5 columns</p>\n",
       "</div>"
      ],
      "text/plain": [
       "     user_id  month  duration_sum  calls_amount  messages_amount\n",
       "0       1000      5         159.0          22.0             22.0\n",
       "1       1000      6         172.0          43.0             60.0\n",
       "2       1000      7         340.0          47.0             75.0\n",
       "3       1000      8         408.0          52.0             81.0\n",
       "4       1000      9         466.0          58.0             57.0\n",
       "...      ...    ...           ...           ...              ...\n",
       "3208    1489      8           NaN           NaN             17.0\n",
       "3209    1489      9           NaN           NaN             32.0\n",
       "3210    1489     10           NaN           NaN             21.0\n",
       "3211    1489     11           NaN           NaN             20.0\n",
       "3212    1489     12           NaN           NaN             35.0\n",
       "\n",
       "[3213 rows x 5 columns]"
      ]
     },
     "execution_count": 37,
     "metadata": {},
     "output_type": "execute_result"
    }
   ],
   "source": [
    "#объединяем данные по пользователям и месяцам\n",
    "df=user_calls.merge(user_messages, on = ['user_id', 'month'], how='outer')\n",
    "df"
   ]
  },
  {
   "cell_type": "code",
   "execution_count": 38,
   "metadata": {},
   "outputs": [
    {
     "data": {
      "text/html": [
       "<div>\n",
       "<style scoped>\n",
       "    .dataframe tbody tr th:only-of-type {\n",
       "        vertical-align: middle;\n",
       "    }\n",
       "\n",
       "    .dataframe tbody tr th {\n",
       "        vertical-align: top;\n",
       "    }\n",
       "\n",
       "    .dataframe thead th {\n",
       "        text-align: right;\n",
       "    }\n",
       "</style>\n",
       "<table border=\"1\" class=\"dataframe\">\n",
       "  <thead>\n",
       "    <tr style=\"text-align: right;\">\n",
       "      <th></th>\n",
       "      <th>user_id</th>\n",
       "      <th>month</th>\n",
       "      <th>duration_sum</th>\n",
       "      <th>calls_amount</th>\n",
       "      <th>messages_amount</th>\n",
       "      <th>mb_used_amount</th>\n",
       "    </tr>\n",
       "  </thead>\n",
       "  <tbody>\n",
       "    <tr>\n",
       "      <td>0</td>\n",
       "      <td>1000</td>\n",
       "      <td>5</td>\n",
       "      <td>159.0</td>\n",
       "      <td>22.0</td>\n",
       "      <td>22.0</td>\n",
       "      <td>2254.49</td>\n",
       "    </tr>\n",
       "    <tr>\n",
       "      <td>1</td>\n",
       "      <td>1000</td>\n",
       "      <td>6</td>\n",
       "      <td>172.0</td>\n",
       "      <td>43.0</td>\n",
       "      <td>60.0</td>\n",
       "      <td>23238.77</td>\n",
       "    </tr>\n",
       "    <tr>\n",
       "      <td>2</td>\n",
       "      <td>1000</td>\n",
       "      <td>7</td>\n",
       "      <td>340.0</td>\n",
       "      <td>47.0</td>\n",
       "      <td>75.0</td>\n",
       "      <td>14004.64</td>\n",
       "    </tr>\n",
       "    <tr>\n",
       "      <td>3</td>\n",
       "      <td>1000</td>\n",
       "      <td>8</td>\n",
       "      <td>408.0</td>\n",
       "      <td>52.0</td>\n",
       "      <td>81.0</td>\n",
       "      <td>14057.93</td>\n",
       "    </tr>\n",
       "    <tr>\n",
       "      <td>4</td>\n",
       "      <td>1000</td>\n",
       "      <td>9</td>\n",
       "      <td>466.0</td>\n",
       "      <td>58.0</td>\n",
       "      <td>57.0</td>\n",
       "      <td>14570.91</td>\n",
       "    </tr>\n",
       "    <tr>\n",
       "      <td>...</td>\n",
       "      <td>...</td>\n",
       "      <td>...</td>\n",
       "      <td>...</td>\n",
       "      <td>...</td>\n",
       "      <td>...</td>\n",
       "      <td>...</td>\n",
       "    </tr>\n",
       "    <tr>\n",
       "      <td>3209</td>\n",
       "      <td>1489</td>\n",
       "      <td>9</td>\n",
       "      <td>NaN</td>\n",
       "      <td>NaN</td>\n",
       "      <td>32.0</td>\n",
       "      <td>17220.30</td>\n",
       "    </tr>\n",
       "    <tr>\n",
       "      <td>3210</td>\n",
       "      <td>1489</td>\n",
       "      <td>10</td>\n",
       "      <td>NaN</td>\n",
       "      <td>NaN</td>\n",
       "      <td>21.0</td>\n",
       "      <td>19570.44</td>\n",
       "    </tr>\n",
       "    <tr>\n",
       "      <td>3211</td>\n",
       "      <td>1489</td>\n",
       "      <td>11</td>\n",
       "      <td>NaN</td>\n",
       "      <td>NaN</td>\n",
       "      <td>20.0</td>\n",
       "      <td>17501.56</td>\n",
       "    </tr>\n",
       "    <tr>\n",
       "      <td>3212</td>\n",
       "      <td>1489</td>\n",
       "      <td>12</td>\n",
       "      <td>NaN</td>\n",
       "      <td>NaN</td>\n",
       "      <td>35.0</td>\n",
       "      <td>17330.51</td>\n",
       "    </tr>\n",
       "    <tr>\n",
       "      <td>3213</td>\n",
       "      <td>1476</td>\n",
       "      <td>4</td>\n",
       "      <td>NaN</td>\n",
       "      <td>NaN</td>\n",
       "      <td>NaN</td>\n",
       "      <td>530.78</td>\n",
       "    </tr>\n",
       "  </tbody>\n",
       "</table>\n",
       "<p>3214 rows × 6 columns</p>\n",
       "</div>"
      ],
      "text/plain": [
       "     user_id  month  duration_sum  calls_amount  messages_amount  \\\n",
       "0       1000      5         159.0          22.0             22.0   \n",
       "1       1000      6         172.0          43.0             60.0   \n",
       "2       1000      7         340.0          47.0             75.0   \n",
       "3       1000      8         408.0          52.0             81.0   \n",
       "4       1000      9         466.0          58.0             57.0   \n",
       "...      ...    ...           ...           ...              ...   \n",
       "3209    1489      9           NaN           NaN             32.0   \n",
       "3210    1489     10           NaN           NaN             21.0   \n",
       "3211    1489     11           NaN           NaN             20.0   \n",
       "3212    1489     12           NaN           NaN             35.0   \n",
       "3213    1476      4           NaN           NaN              NaN   \n",
       "\n",
       "      mb_used_amount  \n",
       "0            2254.49  \n",
       "1           23238.77  \n",
       "2           14004.64  \n",
       "3           14057.93  \n",
       "4           14570.91  \n",
       "...              ...  \n",
       "3209        17220.30  \n",
       "3210        19570.44  \n",
       "3211        17501.56  \n",
       "3212        17330.51  \n",
       "3213          530.78  \n",
       "\n",
       "[3214 rows x 6 columns]"
      ]
     },
     "execution_count": 38,
     "metadata": {},
     "output_type": "execute_result"
    }
   ],
   "source": [
    "#объединяем данные по пользователям и месяцам\n",
    "df=df.merge(user_internet, on = ['user_id', 'month'], how='outer')\n",
    "df"
   ]
  },
  {
   "cell_type": "code",
   "execution_count": 39,
   "metadata": {},
   "outputs": [
    {
     "name": "stdout",
     "output_type": "stream",
     "text": [
      "<class 'pandas.core.frame.DataFrame'>\n",
      "Int64Index: 3214 entries, 0 to 3213\n",
      "Data columns (total 13 columns):\n",
      "user_id            3214 non-null object\n",
      "month              3214 non-null int64\n",
      "duration_sum       3174 non-null float64\n",
      "calls_amount       3174 non-null float64\n",
      "messages_amount    2717 non-null float64\n",
      "mb_used_amount     3203 non-null float64\n",
      "age                3214 non-null int64\n",
      "churn_date         187 non-null datetime64[ns]\n",
      "city               3214 non-null object\n",
      "first_name         3214 non-null object\n",
      "last_name          3214 non-null object\n",
      "reg_date           3214 non-null datetime64[ns]\n",
      "tariff             3214 non-null object\n",
      "dtypes: datetime64[ns](2), float64(4), int64(2), object(5)\n",
      "memory usage: 351.5+ KB\n"
     ]
    }
   ],
   "source": [
    "#объединяем данные по пользователям\n",
    "df=df.merge(users, on='user_id', how='left')\n",
    "df.info()"
   ]
  },
  {
   "cell_type": "code",
   "execution_count": 40,
   "metadata": {},
   "outputs": [
    {
     "name": "stdout",
     "output_type": "stream",
     "text": [
      "<class 'pandas.core.frame.DataFrame'>\n",
      "Int64Index: 3214 entries, 0 to 3213\n",
      "Data columns (total 13 columns):\n",
      "user_id            3214 non-null object\n",
      "month              3214 non-null int64\n",
      "duration_sum       3214 non-null float64\n",
      "calls_amount       3214 non-null float64\n",
      "messages_amount    3214 non-null float64\n",
      "mb_used_amount     3214 non-null float64\n",
      "age                3214 non-null int64\n",
      "churn_date         187 non-null datetime64[ns]\n",
      "city               3214 non-null object\n",
      "first_name         3214 non-null object\n",
      "last_name          3214 non-null object\n",
      "reg_date           3214 non-null datetime64[ns]\n",
      "tariff             3214 non-null object\n",
      "dtypes: datetime64[ns](2), float64(4), int64(2), object(5)\n",
      "memory usage: 351.5+ KB\n"
     ]
    }
   ],
   "source": [
    "df['duration_sum'] = df['duration_sum'].fillna(0)\n",
    "df['calls_amount'] = df['calls_amount'].fillna(0)\n",
    "df['messages_amount'] = df['messages_amount'].fillna(0)\n",
    "df['mb_used_amount'] = df['mb_used_amount'].fillna(0)\n",
    "df.info()"
   ]
  },
  {
   "cell_type": "markdown",
   "metadata": {},
   "source": [
    "**Вывод**\n",
    "\n",
    "Пропуски в данных говорят о том, что пользователь пользуется только одной из услуг: например, звонит, но не использует интернет. Пропуски (кроме churn_date, о том, почему не заменяю них писала выше) были заменены на нули. "
   ]
  },
  {
   "cell_type": "code",
   "execution_count": 41,
   "metadata": {},
   "outputs": [],
   "source": [
    "#переименовываем столбец tariff_name датафрейма tariffs, чтобы затем объединить данные по тарифам\n",
    "df['tariff']  = df['tariff'].astype('str')\n",
    "tariffs['tariff_name']  = tariffs['tariff_name'].astype('str')\n",
    "tariffs = tariffs.rename(columns={'tariff_name':'tariff'})"
   ]
  },
  {
   "cell_type": "code",
   "execution_count": 42,
   "metadata": {},
   "outputs": [
    {
     "data": {
      "text/html": [
       "<div>\n",
       "<style scoped>\n",
       "    .dataframe tbody tr th:only-of-type {\n",
       "        vertical-align: middle;\n",
       "    }\n",
       "\n",
       "    .dataframe tbody tr th {\n",
       "        vertical-align: top;\n",
       "    }\n",
       "\n",
       "    .dataframe thead th {\n",
       "        text-align: right;\n",
       "    }\n",
       "</style>\n",
       "<table border=\"1\" class=\"dataframe\">\n",
       "  <thead>\n",
       "    <tr style=\"text-align: right;\">\n",
       "      <th></th>\n",
       "      <th>user_id</th>\n",
       "      <th>month</th>\n",
       "      <th>duration_sum</th>\n",
       "      <th>calls_amount</th>\n",
       "      <th>messages_amount</th>\n",
       "      <th>mb_used_amount</th>\n",
       "      <th>age</th>\n",
       "      <th>churn_date</th>\n",
       "      <th>city</th>\n",
       "      <th>first_name</th>\n",
       "      <th>last_name</th>\n",
       "      <th>reg_date</th>\n",
       "      <th>tariff</th>\n",
       "      <th>messages_included</th>\n",
       "      <th>mb_per_month_included</th>\n",
       "      <th>minutes_included</th>\n",
       "      <th>rub_monthly_fee</th>\n",
       "      <th>rub_per_gb</th>\n",
       "      <th>rub_per_message</th>\n",
       "      <th>rub_per_minute</th>\n",
       "    </tr>\n",
       "  </thead>\n",
       "  <tbody>\n",
       "    <tr>\n",
       "      <td>0</td>\n",
       "      <td>1000</td>\n",
       "      <td>5</td>\n",
       "      <td>159.0</td>\n",
       "      <td>22.0</td>\n",
       "      <td>22.0</td>\n",
       "      <td>2254.49</td>\n",
       "      <td>52</td>\n",
       "      <td>NaT</td>\n",
       "      <td>Краснодар</td>\n",
       "      <td>Рафаил</td>\n",
       "      <td>Верещагин</td>\n",
       "      <td>2018-05-25</td>\n",
       "      <td>ultra</td>\n",
       "      <td>1000</td>\n",
       "      <td>30720</td>\n",
       "      <td>3000</td>\n",
       "      <td>1950</td>\n",
       "      <td>150</td>\n",
       "      <td>1</td>\n",
       "      <td>1</td>\n",
       "    </tr>\n",
       "    <tr>\n",
       "      <td>1</td>\n",
       "      <td>1000</td>\n",
       "      <td>6</td>\n",
       "      <td>172.0</td>\n",
       "      <td>43.0</td>\n",
       "      <td>60.0</td>\n",
       "      <td>23238.77</td>\n",
       "      <td>52</td>\n",
       "      <td>NaT</td>\n",
       "      <td>Краснодар</td>\n",
       "      <td>Рафаил</td>\n",
       "      <td>Верещагин</td>\n",
       "      <td>2018-05-25</td>\n",
       "      <td>ultra</td>\n",
       "      <td>1000</td>\n",
       "      <td>30720</td>\n",
       "      <td>3000</td>\n",
       "      <td>1950</td>\n",
       "      <td>150</td>\n",
       "      <td>1</td>\n",
       "      <td>1</td>\n",
       "    </tr>\n",
       "    <tr>\n",
       "      <td>2</td>\n",
       "      <td>1000</td>\n",
       "      <td>7</td>\n",
       "      <td>340.0</td>\n",
       "      <td>47.0</td>\n",
       "      <td>75.0</td>\n",
       "      <td>14004.64</td>\n",
       "      <td>52</td>\n",
       "      <td>NaT</td>\n",
       "      <td>Краснодар</td>\n",
       "      <td>Рафаил</td>\n",
       "      <td>Верещагин</td>\n",
       "      <td>2018-05-25</td>\n",
       "      <td>ultra</td>\n",
       "      <td>1000</td>\n",
       "      <td>30720</td>\n",
       "      <td>3000</td>\n",
       "      <td>1950</td>\n",
       "      <td>150</td>\n",
       "      <td>1</td>\n",
       "      <td>1</td>\n",
       "    </tr>\n",
       "    <tr>\n",
       "      <td>3</td>\n",
       "      <td>1000</td>\n",
       "      <td>8</td>\n",
       "      <td>408.0</td>\n",
       "      <td>52.0</td>\n",
       "      <td>81.0</td>\n",
       "      <td>14057.93</td>\n",
       "      <td>52</td>\n",
       "      <td>NaT</td>\n",
       "      <td>Краснодар</td>\n",
       "      <td>Рафаил</td>\n",
       "      <td>Верещагин</td>\n",
       "      <td>2018-05-25</td>\n",
       "      <td>ultra</td>\n",
       "      <td>1000</td>\n",
       "      <td>30720</td>\n",
       "      <td>3000</td>\n",
       "      <td>1950</td>\n",
       "      <td>150</td>\n",
       "      <td>1</td>\n",
       "      <td>1</td>\n",
       "    </tr>\n",
       "    <tr>\n",
       "      <td>4</td>\n",
       "      <td>1000</td>\n",
       "      <td>9</td>\n",
       "      <td>466.0</td>\n",
       "      <td>58.0</td>\n",
       "      <td>57.0</td>\n",
       "      <td>14570.91</td>\n",
       "      <td>52</td>\n",
       "      <td>NaT</td>\n",
       "      <td>Краснодар</td>\n",
       "      <td>Рафаил</td>\n",
       "      <td>Верещагин</td>\n",
       "      <td>2018-05-25</td>\n",
       "      <td>ultra</td>\n",
       "      <td>1000</td>\n",
       "      <td>30720</td>\n",
       "      <td>3000</td>\n",
       "      <td>1950</td>\n",
       "      <td>150</td>\n",
       "      <td>1</td>\n",
       "      <td>1</td>\n",
       "    </tr>\n",
       "    <tr>\n",
       "      <td>...</td>\n",
       "      <td>...</td>\n",
       "      <td>...</td>\n",
       "      <td>...</td>\n",
       "      <td>...</td>\n",
       "      <td>...</td>\n",
       "      <td>...</td>\n",
       "      <td>...</td>\n",
       "      <td>...</td>\n",
       "      <td>...</td>\n",
       "      <td>...</td>\n",
       "      <td>...</td>\n",
       "      <td>...</td>\n",
       "      <td>...</td>\n",
       "      <td>...</td>\n",
       "      <td>...</td>\n",
       "      <td>...</td>\n",
       "      <td>...</td>\n",
       "      <td>...</td>\n",
       "      <td>...</td>\n",
       "      <td>...</td>\n",
       "    </tr>\n",
       "    <tr>\n",
       "      <td>3209</td>\n",
       "      <td>1489</td>\n",
       "      <td>9</td>\n",
       "      <td>0.0</td>\n",
       "      <td>0.0</td>\n",
       "      <td>32.0</td>\n",
       "      <td>17220.30</td>\n",
       "      <td>35</td>\n",
       "      <td>NaT</td>\n",
       "      <td>Санкт-Петербург</td>\n",
       "      <td>Павел</td>\n",
       "      <td>Гончаров</td>\n",
       "      <td>2018-08-15</td>\n",
       "      <td>smart</td>\n",
       "      <td>50</td>\n",
       "      <td>15360</td>\n",
       "      <td>500</td>\n",
       "      <td>550</td>\n",
       "      <td>200</td>\n",
       "      <td>3</td>\n",
       "      <td>3</td>\n",
       "    </tr>\n",
       "    <tr>\n",
       "      <td>3210</td>\n",
       "      <td>1489</td>\n",
       "      <td>10</td>\n",
       "      <td>0.0</td>\n",
       "      <td>0.0</td>\n",
       "      <td>21.0</td>\n",
       "      <td>19570.44</td>\n",
       "      <td>35</td>\n",
       "      <td>NaT</td>\n",
       "      <td>Санкт-Петербург</td>\n",
       "      <td>Павел</td>\n",
       "      <td>Гончаров</td>\n",
       "      <td>2018-08-15</td>\n",
       "      <td>smart</td>\n",
       "      <td>50</td>\n",
       "      <td>15360</td>\n",
       "      <td>500</td>\n",
       "      <td>550</td>\n",
       "      <td>200</td>\n",
       "      <td>3</td>\n",
       "      <td>3</td>\n",
       "    </tr>\n",
       "    <tr>\n",
       "      <td>3211</td>\n",
       "      <td>1489</td>\n",
       "      <td>11</td>\n",
       "      <td>0.0</td>\n",
       "      <td>0.0</td>\n",
       "      <td>20.0</td>\n",
       "      <td>17501.56</td>\n",
       "      <td>35</td>\n",
       "      <td>NaT</td>\n",
       "      <td>Санкт-Петербург</td>\n",
       "      <td>Павел</td>\n",
       "      <td>Гончаров</td>\n",
       "      <td>2018-08-15</td>\n",
       "      <td>smart</td>\n",
       "      <td>50</td>\n",
       "      <td>15360</td>\n",
       "      <td>500</td>\n",
       "      <td>550</td>\n",
       "      <td>200</td>\n",
       "      <td>3</td>\n",
       "      <td>3</td>\n",
       "    </tr>\n",
       "    <tr>\n",
       "      <td>3212</td>\n",
       "      <td>1489</td>\n",
       "      <td>12</td>\n",
       "      <td>0.0</td>\n",
       "      <td>0.0</td>\n",
       "      <td>35.0</td>\n",
       "      <td>17330.51</td>\n",
       "      <td>35</td>\n",
       "      <td>NaT</td>\n",
       "      <td>Санкт-Петербург</td>\n",
       "      <td>Павел</td>\n",
       "      <td>Гончаров</td>\n",
       "      <td>2018-08-15</td>\n",
       "      <td>smart</td>\n",
       "      <td>50</td>\n",
       "      <td>15360</td>\n",
       "      <td>500</td>\n",
       "      <td>550</td>\n",
       "      <td>200</td>\n",
       "      <td>3</td>\n",
       "      <td>3</td>\n",
       "    </tr>\n",
       "    <tr>\n",
       "      <td>3213</td>\n",
       "      <td>1476</td>\n",
       "      <td>4</td>\n",
       "      <td>0.0</td>\n",
       "      <td>0.0</td>\n",
       "      <td>0.0</td>\n",
       "      <td>530.78</td>\n",
       "      <td>50</td>\n",
       "      <td>NaT</td>\n",
       "      <td>Москва</td>\n",
       "      <td>Валентина</td>\n",
       "      <td>Семенова</td>\n",
       "      <td>2018-04-30</td>\n",
       "      <td>ultra</td>\n",
       "      <td>1000</td>\n",
       "      <td>30720</td>\n",
       "      <td>3000</td>\n",
       "      <td>1950</td>\n",
       "      <td>150</td>\n",
       "      <td>1</td>\n",
       "      <td>1</td>\n",
       "    </tr>\n",
       "  </tbody>\n",
       "</table>\n",
       "<p>3214 rows × 20 columns</p>\n",
       "</div>"
      ],
      "text/plain": [
       "     user_id  month  duration_sum  calls_amount  messages_amount  \\\n",
       "0       1000      5         159.0          22.0             22.0   \n",
       "1       1000      6         172.0          43.0             60.0   \n",
       "2       1000      7         340.0          47.0             75.0   \n",
       "3       1000      8         408.0          52.0             81.0   \n",
       "4       1000      9         466.0          58.0             57.0   \n",
       "...      ...    ...           ...           ...              ...   \n",
       "3209    1489      9           0.0           0.0             32.0   \n",
       "3210    1489     10           0.0           0.0             21.0   \n",
       "3211    1489     11           0.0           0.0             20.0   \n",
       "3212    1489     12           0.0           0.0             35.0   \n",
       "3213    1476      4           0.0           0.0              0.0   \n",
       "\n",
       "      mb_used_amount  age churn_date             city first_name  last_name  \\\n",
       "0            2254.49   52        NaT        Краснодар     Рафаил  Верещагин   \n",
       "1           23238.77   52        NaT        Краснодар     Рафаил  Верещагин   \n",
       "2           14004.64   52        NaT        Краснодар     Рафаил  Верещагин   \n",
       "3           14057.93   52        NaT        Краснодар     Рафаил  Верещагин   \n",
       "4           14570.91   52        NaT        Краснодар     Рафаил  Верещагин   \n",
       "...              ...  ...        ...              ...        ...        ...   \n",
       "3209        17220.30   35        NaT  Санкт-Петербург      Павел   Гончаров   \n",
       "3210        19570.44   35        NaT  Санкт-Петербург      Павел   Гончаров   \n",
       "3211        17501.56   35        NaT  Санкт-Петербург      Павел   Гончаров   \n",
       "3212        17330.51   35        NaT  Санкт-Петербург      Павел   Гончаров   \n",
       "3213          530.78   50        NaT           Москва  Валентина   Семенова   \n",
       "\n",
       "       reg_date tariff  messages_included  mb_per_month_included  \\\n",
       "0    2018-05-25  ultra               1000                  30720   \n",
       "1    2018-05-25  ultra               1000                  30720   \n",
       "2    2018-05-25  ultra               1000                  30720   \n",
       "3    2018-05-25  ultra               1000                  30720   \n",
       "4    2018-05-25  ultra               1000                  30720   \n",
       "...         ...    ...                ...                    ...   \n",
       "3209 2018-08-15  smart                 50                  15360   \n",
       "3210 2018-08-15  smart                 50                  15360   \n",
       "3211 2018-08-15  smart                 50                  15360   \n",
       "3212 2018-08-15  smart                 50                  15360   \n",
       "3213 2018-04-30  ultra               1000                  30720   \n",
       "\n",
       "      minutes_included  rub_monthly_fee  rub_per_gb  rub_per_message  \\\n",
       "0                 3000             1950         150                1   \n",
       "1                 3000             1950         150                1   \n",
       "2                 3000             1950         150                1   \n",
       "3                 3000             1950         150                1   \n",
       "4                 3000             1950         150                1   \n",
       "...                ...              ...         ...              ...   \n",
       "3209               500              550         200                3   \n",
       "3210               500              550         200                3   \n",
       "3211               500              550         200                3   \n",
       "3212               500              550         200                3   \n",
       "3213              3000             1950         150                1   \n",
       "\n",
       "      rub_per_minute  \n",
       "0                  1  \n",
       "1                  1  \n",
       "2                  1  \n",
       "3                  1  \n",
       "4                  1  \n",
       "...              ...  \n",
       "3209               3  \n",
       "3210               3  \n",
       "3211               3  \n",
       "3212               3  \n",
       "3213               1  \n",
       "\n",
       "[3214 rows x 20 columns]"
      ]
     },
     "execution_count": 42,
     "metadata": {},
     "output_type": "execute_result"
    }
   ],
   "source": [
    "#объединяем данные по тарифам\n",
    "df = df.merge(tariffs, on='tariff', how='left')\n",
    "df"
   ]
  },
  {
   "cell_type": "code",
   "execution_count": 43,
   "metadata": {},
   "outputs": [],
   "source": [
    "#рассчитываем перерасход по каждой услуге\n",
    "df['minutes_overrun'] = df['duration_sum'] - df['minutes_included']\n",
    "df['messages_overrun'] = df['messages_amount'] - df['messages_included']\n",
    "df['mb_used_overrun'] = df['mb_used_amount'] - df['mb_per_month_included']\n",
    "df['gb_used_overrun'] = np.ceil(df['mb_used_overrun']/1024).astype('int')"
   ]
  },
  {
   "cell_type": "code",
   "execution_count": 44,
   "metadata": {},
   "outputs": [],
   "source": [
    "#напишем функцию для расчета дохода\n",
    "def get_revenue(row):\n",
    "    revenue_by_min=0\n",
    "    revenue_by_message=0\n",
    "    revenue_by_gb=0\n",
    "    \n",
    "    if row['minutes_overrun']>0:\n",
    "        revenue_by_min=row['minutes_overrun']*row['rub_per_minute']\n",
    "    \n",
    "    if row['messages_overrun']>0:\n",
    "        revenue_by_message=row['messages_overrun']*row['rub_per_message']\n",
    "    \n",
    "    if row['gb_used_overrun']>0:\n",
    "        revenue_by_gb=row['gb_used_overrun']*row['rub_per_gb']\n",
    "        \n",
    "    return revenue_by_min+revenue_by_message+revenue_by_gb"
   ]
  },
  {
   "cell_type": "code",
   "execution_count": 45,
   "metadata": {},
   "outputs": [
    {
     "data": {
      "text/html": [
       "<div>\n",
       "<style scoped>\n",
       "    .dataframe tbody tr th:only-of-type {\n",
       "        vertical-align: middle;\n",
       "    }\n",
       "\n",
       "    .dataframe tbody tr th {\n",
       "        vertical-align: top;\n",
       "    }\n",
       "\n",
       "    .dataframe thead th {\n",
       "        text-align: right;\n",
       "    }\n",
       "</style>\n",
       "<table border=\"1\" class=\"dataframe\">\n",
       "  <thead>\n",
       "    <tr style=\"text-align: right;\">\n",
       "      <th></th>\n",
       "      <th>user_id</th>\n",
       "      <th>month</th>\n",
       "      <th>duration_sum</th>\n",
       "      <th>calls_amount</th>\n",
       "      <th>messages_amount</th>\n",
       "      <th>mb_used_amount</th>\n",
       "      <th>age</th>\n",
       "      <th>churn_date</th>\n",
       "      <th>city</th>\n",
       "      <th>first_name</th>\n",
       "      <th>...</th>\n",
       "      <th>rub_monthly_fee</th>\n",
       "      <th>rub_per_gb</th>\n",
       "      <th>rub_per_message</th>\n",
       "      <th>rub_per_minute</th>\n",
       "      <th>minutes_overrun</th>\n",
       "      <th>messages_overrun</th>\n",
       "      <th>mb_used_overrun</th>\n",
       "      <th>gb_used_overrun</th>\n",
       "      <th>revenue</th>\n",
       "      <th>revenue_per_user</th>\n",
       "    </tr>\n",
       "  </thead>\n",
       "  <tbody>\n",
       "    <tr>\n",
       "      <td>0</td>\n",
       "      <td>1000</td>\n",
       "      <td>5</td>\n",
       "      <td>159.0</td>\n",
       "      <td>22.0</td>\n",
       "      <td>22.0</td>\n",
       "      <td>2254.49</td>\n",
       "      <td>52</td>\n",
       "      <td>NaT</td>\n",
       "      <td>Краснодар</td>\n",
       "      <td>Рафаил</td>\n",
       "      <td>...</td>\n",
       "      <td>1950</td>\n",
       "      <td>150</td>\n",
       "      <td>1</td>\n",
       "      <td>1</td>\n",
       "      <td>-2841.0</td>\n",
       "      <td>-978.0</td>\n",
       "      <td>-28465.51</td>\n",
       "      <td>-27</td>\n",
       "      <td>0.0</td>\n",
       "      <td>1950</td>\n",
       "    </tr>\n",
       "    <tr>\n",
       "      <td>1</td>\n",
       "      <td>1000</td>\n",
       "      <td>6</td>\n",
       "      <td>172.0</td>\n",
       "      <td>43.0</td>\n",
       "      <td>60.0</td>\n",
       "      <td>23238.77</td>\n",
       "      <td>52</td>\n",
       "      <td>NaT</td>\n",
       "      <td>Краснодар</td>\n",
       "      <td>Рафаил</td>\n",
       "      <td>...</td>\n",
       "      <td>1950</td>\n",
       "      <td>150</td>\n",
       "      <td>1</td>\n",
       "      <td>1</td>\n",
       "      <td>-2828.0</td>\n",
       "      <td>-940.0</td>\n",
       "      <td>-7481.23</td>\n",
       "      <td>-7</td>\n",
       "      <td>0.0</td>\n",
       "      <td>1950</td>\n",
       "    </tr>\n",
       "    <tr>\n",
       "      <td>2</td>\n",
       "      <td>1000</td>\n",
       "      <td>7</td>\n",
       "      <td>340.0</td>\n",
       "      <td>47.0</td>\n",
       "      <td>75.0</td>\n",
       "      <td>14004.64</td>\n",
       "      <td>52</td>\n",
       "      <td>NaT</td>\n",
       "      <td>Краснодар</td>\n",
       "      <td>Рафаил</td>\n",
       "      <td>...</td>\n",
       "      <td>1950</td>\n",
       "      <td>150</td>\n",
       "      <td>1</td>\n",
       "      <td>1</td>\n",
       "      <td>-2660.0</td>\n",
       "      <td>-925.0</td>\n",
       "      <td>-16715.36</td>\n",
       "      <td>-16</td>\n",
       "      <td>0.0</td>\n",
       "      <td>1950</td>\n",
       "    </tr>\n",
       "    <tr>\n",
       "      <td>3</td>\n",
       "      <td>1000</td>\n",
       "      <td>8</td>\n",
       "      <td>408.0</td>\n",
       "      <td>52.0</td>\n",
       "      <td>81.0</td>\n",
       "      <td>14057.93</td>\n",
       "      <td>52</td>\n",
       "      <td>NaT</td>\n",
       "      <td>Краснодар</td>\n",
       "      <td>Рафаил</td>\n",
       "      <td>...</td>\n",
       "      <td>1950</td>\n",
       "      <td>150</td>\n",
       "      <td>1</td>\n",
       "      <td>1</td>\n",
       "      <td>-2592.0</td>\n",
       "      <td>-919.0</td>\n",
       "      <td>-16662.07</td>\n",
       "      <td>-16</td>\n",
       "      <td>0.0</td>\n",
       "      <td>1950</td>\n",
       "    </tr>\n",
       "    <tr>\n",
       "      <td>4</td>\n",
       "      <td>1000</td>\n",
       "      <td>9</td>\n",
       "      <td>466.0</td>\n",
       "      <td>58.0</td>\n",
       "      <td>57.0</td>\n",
       "      <td>14570.91</td>\n",
       "      <td>52</td>\n",
       "      <td>NaT</td>\n",
       "      <td>Краснодар</td>\n",
       "      <td>Рафаил</td>\n",
       "      <td>...</td>\n",
       "      <td>1950</td>\n",
       "      <td>150</td>\n",
       "      <td>1</td>\n",
       "      <td>1</td>\n",
       "      <td>-2534.0</td>\n",
       "      <td>-943.0</td>\n",
       "      <td>-16149.09</td>\n",
       "      <td>-15</td>\n",
       "      <td>0.0</td>\n",
       "      <td>1950</td>\n",
       "    </tr>\n",
       "  </tbody>\n",
       "</table>\n",
       "<p>5 rows × 26 columns</p>\n",
       "</div>"
      ],
      "text/plain": [
       "  user_id  month  duration_sum  calls_amount  messages_amount  mb_used_amount  \\\n",
       "0    1000      5         159.0          22.0             22.0         2254.49   \n",
       "1    1000      6         172.0          43.0             60.0        23238.77   \n",
       "2    1000      7         340.0          47.0             75.0        14004.64   \n",
       "3    1000      8         408.0          52.0             81.0        14057.93   \n",
       "4    1000      9         466.0          58.0             57.0        14570.91   \n",
       "\n",
       "   age churn_date       city first_name  ... rub_monthly_fee rub_per_gb  \\\n",
       "0   52        NaT  Краснодар     Рафаил  ...            1950        150   \n",
       "1   52        NaT  Краснодар     Рафаил  ...            1950        150   \n",
       "2   52        NaT  Краснодар     Рафаил  ...            1950        150   \n",
       "3   52        NaT  Краснодар     Рафаил  ...            1950        150   \n",
       "4   52        NaT  Краснодар     Рафаил  ...            1950        150   \n",
       "\n",
       "  rub_per_message  rub_per_minute  minutes_overrun  messages_overrun  \\\n",
       "0               1               1          -2841.0            -978.0   \n",
       "1               1               1          -2828.0            -940.0   \n",
       "2               1               1          -2660.0            -925.0   \n",
       "3               1               1          -2592.0            -919.0   \n",
       "4               1               1          -2534.0            -943.0   \n",
       "\n",
       "   mb_used_overrun  gb_used_overrun  revenue  revenue_per_user  \n",
       "0        -28465.51              -27      0.0              1950  \n",
       "1         -7481.23               -7      0.0              1950  \n",
       "2        -16715.36              -16      0.0              1950  \n",
       "3        -16662.07              -16      0.0              1950  \n",
       "4        -16149.09              -15      0.0              1950  \n",
       "\n",
       "[5 rows x 26 columns]"
      ]
     },
     "execution_count": 45,
     "metadata": {},
     "output_type": "execute_result"
    }
   ],
   "source": [
    "#рассчитываем общий доход: перерасход+стоимость самого тарифа\n",
    "df['revenue'] =  df.apply(get_revenue, axis=1)\n",
    "df['revenue_per_user'] = df['revenue'] + df['rub_monthly_fee'] \n",
    "df['revenue_per_user'] = df['revenue_per_user'].astype('int')\n",
    "df.head()"
   ]
  },
  {
   "cell_type": "markdown",
   "metadata": {},
   "source": [
    "#### Вывод\n",
    "Посчитаны для каждого пользователя:\n",
    "\n",
    "* количество сделанных звонков и израсходованных минут разговора по месяцам;\n",
    "* количество отправленных сообщений по месяцам;\n",
    "* объем израсходованного интернет-трафика по месяцам;\n",
    "* помесячная выручка с каждого пользователя (вычтите бесплатный лимит из суммарного количества звонков, сообщений и интернет-трафика; остаток умножьте на значение из тарифного плана; прибавьте абонентскую плату, соответствующую тарифному плану)."
   ]
  },
  {
   "cell_type": "markdown",
   "metadata": {},
   "source": [
    "## Анализ данных"
   ]
  },
  {
   "cell_type": "code",
   "execution_count": 46,
   "metadata": {},
   "outputs": [],
   "source": [
    "#Выборка данных по тарифу Ultra\n",
    "ultra_stat = df.query('tariff == \"ultra\"')"
   ]
  },
  {
   "cell_type": "code",
   "execution_count": 47,
   "metadata": {},
   "outputs": [
    {
     "data": {
      "text/html": [
       "<div>\n",
       "<style scoped>\n",
       "    .dataframe tbody tr th:only-of-type {\n",
       "        vertical-align: middle;\n",
       "    }\n",
       "\n",
       "    .dataframe tbody tr th {\n",
       "        vertical-align: top;\n",
       "    }\n",
       "\n",
       "    .dataframe thead th {\n",
       "        text-align: right;\n",
       "    }\n",
       "</style>\n",
       "<table border=\"1\" class=\"dataframe\">\n",
       "  <thead>\n",
       "    <tr style=\"text-align: right;\">\n",
       "      <th></th>\n",
       "      <th>user_id</th>\n",
       "      <th>month</th>\n",
       "      <th>duration_sum</th>\n",
       "      <th>calls_amount</th>\n",
       "      <th>messages_amount</th>\n",
       "      <th>mb_used_amount</th>\n",
       "      <th>age</th>\n",
       "      <th>churn_date</th>\n",
       "      <th>city</th>\n",
       "      <th>first_name</th>\n",
       "      <th>...</th>\n",
       "      <th>rub_monthly_fee</th>\n",
       "      <th>rub_per_gb</th>\n",
       "      <th>rub_per_message</th>\n",
       "      <th>rub_per_minute</th>\n",
       "      <th>minutes_overrun</th>\n",
       "      <th>messages_overrun</th>\n",
       "      <th>mb_used_overrun</th>\n",
       "      <th>gb_used_overrun</th>\n",
       "      <th>revenue</th>\n",
       "      <th>revenue_per_user</th>\n",
       "    </tr>\n",
       "  </thead>\n",
       "  <tbody>\n",
       "    <tr>\n",
       "      <td>0</td>\n",
       "      <td>1000</td>\n",
       "      <td>5</td>\n",
       "      <td>159.0</td>\n",
       "      <td>22.0</td>\n",
       "      <td>22.0</td>\n",
       "      <td>2254.49</td>\n",
       "      <td>52</td>\n",
       "      <td>NaT</td>\n",
       "      <td>Краснодар</td>\n",
       "      <td>Рафаил</td>\n",
       "      <td>...</td>\n",
       "      <td>1950</td>\n",
       "      <td>150</td>\n",
       "      <td>1</td>\n",
       "      <td>1</td>\n",
       "      <td>-2841.0</td>\n",
       "      <td>-978.0</td>\n",
       "      <td>-28465.51</td>\n",
       "      <td>-27</td>\n",
       "      <td>0.0</td>\n",
       "      <td>1950</td>\n",
       "    </tr>\n",
       "    <tr>\n",
       "      <td>1</td>\n",
       "      <td>1000</td>\n",
       "      <td>6</td>\n",
       "      <td>172.0</td>\n",
       "      <td>43.0</td>\n",
       "      <td>60.0</td>\n",
       "      <td>23238.77</td>\n",
       "      <td>52</td>\n",
       "      <td>NaT</td>\n",
       "      <td>Краснодар</td>\n",
       "      <td>Рафаил</td>\n",
       "      <td>...</td>\n",
       "      <td>1950</td>\n",
       "      <td>150</td>\n",
       "      <td>1</td>\n",
       "      <td>1</td>\n",
       "      <td>-2828.0</td>\n",
       "      <td>-940.0</td>\n",
       "      <td>-7481.23</td>\n",
       "      <td>-7</td>\n",
       "      <td>0.0</td>\n",
       "      <td>1950</td>\n",
       "    </tr>\n",
       "    <tr>\n",
       "      <td>2</td>\n",
       "      <td>1000</td>\n",
       "      <td>7</td>\n",
       "      <td>340.0</td>\n",
       "      <td>47.0</td>\n",
       "      <td>75.0</td>\n",
       "      <td>14004.64</td>\n",
       "      <td>52</td>\n",
       "      <td>NaT</td>\n",
       "      <td>Краснодар</td>\n",
       "      <td>Рафаил</td>\n",
       "      <td>...</td>\n",
       "      <td>1950</td>\n",
       "      <td>150</td>\n",
       "      <td>1</td>\n",
       "      <td>1</td>\n",
       "      <td>-2660.0</td>\n",
       "      <td>-925.0</td>\n",
       "      <td>-16715.36</td>\n",
       "      <td>-16</td>\n",
       "      <td>0.0</td>\n",
       "      <td>1950</td>\n",
       "    </tr>\n",
       "    <tr>\n",
       "      <td>3</td>\n",
       "      <td>1000</td>\n",
       "      <td>8</td>\n",
       "      <td>408.0</td>\n",
       "      <td>52.0</td>\n",
       "      <td>81.0</td>\n",
       "      <td>14057.93</td>\n",
       "      <td>52</td>\n",
       "      <td>NaT</td>\n",
       "      <td>Краснодар</td>\n",
       "      <td>Рафаил</td>\n",
       "      <td>...</td>\n",
       "      <td>1950</td>\n",
       "      <td>150</td>\n",
       "      <td>1</td>\n",
       "      <td>1</td>\n",
       "      <td>-2592.0</td>\n",
       "      <td>-919.0</td>\n",
       "      <td>-16662.07</td>\n",
       "      <td>-16</td>\n",
       "      <td>0.0</td>\n",
       "      <td>1950</td>\n",
       "    </tr>\n",
       "    <tr>\n",
       "      <td>4</td>\n",
       "      <td>1000</td>\n",
       "      <td>9</td>\n",
       "      <td>466.0</td>\n",
       "      <td>58.0</td>\n",
       "      <td>57.0</td>\n",
       "      <td>14570.91</td>\n",
       "      <td>52</td>\n",
       "      <td>NaT</td>\n",
       "      <td>Краснодар</td>\n",
       "      <td>Рафаил</td>\n",
       "      <td>...</td>\n",
       "      <td>1950</td>\n",
       "      <td>150</td>\n",
       "      <td>1</td>\n",
       "      <td>1</td>\n",
       "      <td>-2534.0</td>\n",
       "      <td>-943.0</td>\n",
       "      <td>-16149.09</td>\n",
       "      <td>-15</td>\n",
       "      <td>0.0</td>\n",
       "      <td>1950</td>\n",
       "    </tr>\n",
       "    <tr>\n",
       "      <td>...</td>\n",
       "      <td>...</td>\n",
       "      <td>...</td>\n",
       "      <td>...</td>\n",
       "      <td>...</td>\n",
       "      <td>...</td>\n",
       "      <td>...</td>\n",
       "      <td>...</td>\n",
       "      <td>...</td>\n",
       "      <td>...</td>\n",
       "      <td>...</td>\n",
       "      <td>...</td>\n",
       "      <td>...</td>\n",
       "      <td>...</td>\n",
       "      <td>...</td>\n",
       "      <td>...</td>\n",
       "      <td>...</td>\n",
       "      <td>...</td>\n",
       "      <td>...</td>\n",
       "      <td>...</td>\n",
       "      <td>...</td>\n",
       "      <td>...</td>\n",
       "    </tr>\n",
       "    <tr>\n",
       "      <td>3204</td>\n",
       "      <td>1473</td>\n",
       "      <td>9</td>\n",
       "      <td>0.0</td>\n",
       "      <td>0.0</td>\n",
       "      <td>19.0</td>\n",
       "      <td>17292.85</td>\n",
       "      <td>18</td>\n",
       "      <td>NaT</td>\n",
       "      <td>Красноярск</td>\n",
       "      <td>Николай</td>\n",
       "      <td>...</td>\n",
       "      <td>1950</td>\n",
       "      <td>150</td>\n",
       "      <td>1</td>\n",
       "      <td>1</td>\n",
       "      <td>-3000.0</td>\n",
       "      <td>-981.0</td>\n",
       "      <td>-13427.15</td>\n",
       "      <td>-13</td>\n",
       "      <td>0.0</td>\n",
       "      <td>1950</td>\n",
       "    </tr>\n",
       "    <tr>\n",
       "      <td>3205</td>\n",
       "      <td>1473</td>\n",
       "      <td>10</td>\n",
       "      <td>0.0</td>\n",
       "      <td>0.0</td>\n",
       "      <td>20.0</td>\n",
       "      <td>13691.65</td>\n",
       "      <td>18</td>\n",
       "      <td>NaT</td>\n",
       "      <td>Красноярск</td>\n",
       "      <td>Николай</td>\n",
       "      <td>...</td>\n",
       "      <td>1950</td>\n",
       "      <td>150</td>\n",
       "      <td>1</td>\n",
       "      <td>1</td>\n",
       "      <td>-3000.0</td>\n",
       "      <td>-980.0</td>\n",
       "      <td>-17028.35</td>\n",
       "      <td>-16</td>\n",
       "      <td>0.0</td>\n",
       "      <td>1950</td>\n",
       "    </tr>\n",
       "    <tr>\n",
       "      <td>3206</td>\n",
       "      <td>1473</td>\n",
       "      <td>11</td>\n",
       "      <td>0.0</td>\n",
       "      <td>0.0</td>\n",
       "      <td>14.0</td>\n",
       "      <td>21676.80</td>\n",
       "      <td>18</td>\n",
       "      <td>NaT</td>\n",
       "      <td>Красноярск</td>\n",
       "      <td>Николай</td>\n",
       "      <td>...</td>\n",
       "      <td>1950</td>\n",
       "      <td>150</td>\n",
       "      <td>1</td>\n",
       "      <td>1</td>\n",
       "      <td>-3000.0</td>\n",
       "      <td>-986.0</td>\n",
       "      <td>-9043.20</td>\n",
       "      <td>-8</td>\n",
       "      <td>0.0</td>\n",
       "      <td>1950</td>\n",
       "    </tr>\n",
       "    <tr>\n",
       "      <td>3207</td>\n",
       "      <td>1473</td>\n",
       "      <td>12</td>\n",
       "      <td>0.0</td>\n",
       "      <td>0.0</td>\n",
       "      <td>20.0</td>\n",
       "      <td>18419.26</td>\n",
       "      <td>18</td>\n",
       "      <td>NaT</td>\n",
       "      <td>Красноярск</td>\n",
       "      <td>Николай</td>\n",
       "      <td>...</td>\n",
       "      <td>1950</td>\n",
       "      <td>150</td>\n",
       "      <td>1</td>\n",
       "      <td>1</td>\n",
       "      <td>-3000.0</td>\n",
       "      <td>-980.0</td>\n",
       "      <td>-12300.74</td>\n",
       "      <td>-12</td>\n",
       "      <td>0.0</td>\n",
       "      <td>1950</td>\n",
       "    </tr>\n",
       "    <tr>\n",
       "      <td>3213</td>\n",
       "      <td>1476</td>\n",
       "      <td>4</td>\n",
       "      <td>0.0</td>\n",
       "      <td>0.0</td>\n",
       "      <td>0.0</td>\n",
       "      <td>530.78</td>\n",
       "      <td>50</td>\n",
       "      <td>NaT</td>\n",
       "      <td>Москва</td>\n",
       "      <td>Валентина</td>\n",
       "      <td>...</td>\n",
       "      <td>1950</td>\n",
       "      <td>150</td>\n",
       "      <td>1</td>\n",
       "      <td>1</td>\n",
       "      <td>-3000.0</td>\n",
       "      <td>-1000.0</td>\n",
       "      <td>-30189.22</td>\n",
       "      <td>-29</td>\n",
       "      <td>0.0</td>\n",
       "      <td>1950</td>\n",
       "    </tr>\n",
       "  </tbody>\n",
       "</table>\n",
       "<p>985 rows × 26 columns</p>\n",
       "</div>"
      ],
      "text/plain": [
       "     user_id  month  duration_sum  calls_amount  messages_amount  \\\n",
       "0       1000      5         159.0          22.0             22.0   \n",
       "1       1000      6         172.0          43.0             60.0   \n",
       "2       1000      7         340.0          47.0             75.0   \n",
       "3       1000      8         408.0          52.0             81.0   \n",
       "4       1000      9         466.0          58.0             57.0   \n",
       "...      ...    ...           ...           ...              ...   \n",
       "3204    1473      9           0.0           0.0             19.0   \n",
       "3205    1473     10           0.0           0.0             20.0   \n",
       "3206    1473     11           0.0           0.0             14.0   \n",
       "3207    1473     12           0.0           0.0             20.0   \n",
       "3213    1476      4           0.0           0.0              0.0   \n",
       "\n",
       "      mb_used_amount  age churn_date        city first_name  ...  \\\n",
       "0            2254.49   52        NaT   Краснодар     Рафаил  ...   \n",
       "1           23238.77   52        NaT   Краснодар     Рафаил  ...   \n",
       "2           14004.64   52        NaT   Краснодар     Рафаил  ...   \n",
       "3           14057.93   52        NaT   Краснодар     Рафаил  ...   \n",
       "4           14570.91   52        NaT   Краснодар     Рафаил  ...   \n",
       "...              ...  ...        ...         ...        ...  ...   \n",
       "3204        17292.85   18        NaT  Красноярск    Николай  ...   \n",
       "3205        13691.65   18        NaT  Красноярск    Николай  ...   \n",
       "3206        21676.80   18        NaT  Красноярск    Николай  ...   \n",
       "3207        18419.26   18        NaT  Красноярск    Николай  ...   \n",
       "3213          530.78   50        NaT      Москва  Валентина  ...   \n",
       "\n",
       "     rub_monthly_fee rub_per_gb rub_per_message  rub_per_minute  \\\n",
       "0               1950        150               1               1   \n",
       "1               1950        150               1               1   \n",
       "2               1950        150               1               1   \n",
       "3               1950        150               1               1   \n",
       "4               1950        150               1               1   \n",
       "...              ...        ...             ...             ...   \n",
       "3204            1950        150               1               1   \n",
       "3205            1950        150               1               1   \n",
       "3206            1950        150               1               1   \n",
       "3207            1950        150               1               1   \n",
       "3213            1950        150               1               1   \n",
       "\n",
       "      minutes_overrun  messages_overrun  mb_used_overrun  gb_used_overrun  \\\n",
       "0             -2841.0            -978.0        -28465.51              -27   \n",
       "1             -2828.0            -940.0         -7481.23               -7   \n",
       "2             -2660.0            -925.0        -16715.36              -16   \n",
       "3             -2592.0            -919.0        -16662.07              -16   \n",
       "4             -2534.0            -943.0        -16149.09              -15   \n",
       "...               ...               ...              ...              ...   \n",
       "3204          -3000.0            -981.0        -13427.15              -13   \n",
       "3205          -3000.0            -980.0        -17028.35              -16   \n",
       "3206          -3000.0            -986.0         -9043.20               -8   \n",
       "3207          -3000.0            -980.0        -12300.74              -12   \n",
       "3213          -3000.0           -1000.0        -30189.22              -29   \n",
       "\n",
       "      revenue  revenue_per_user  \n",
       "0         0.0              1950  \n",
       "1         0.0              1950  \n",
       "2         0.0              1950  \n",
       "3         0.0              1950  \n",
       "4         0.0              1950  \n",
       "...       ...               ...  \n",
       "3204      0.0              1950  \n",
       "3205      0.0              1950  \n",
       "3206      0.0              1950  \n",
       "3207      0.0              1950  \n",
       "3213      0.0              1950  \n",
       "\n",
       "[985 rows x 26 columns]"
      ]
     },
     "execution_count": 47,
     "metadata": {},
     "output_type": "execute_result"
    }
   ],
   "source": [
    "ultra_stat"
   ]
  },
  {
   "cell_type": "code",
   "execution_count": 48,
   "metadata": {},
   "outputs": [
    {
     "name": "stdout",
     "output_type": "stream",
     "text": [
      "Средняя продолжительность звонков в месяц: 527\n",
      "Медианная продолжительность звонков в месяц: 518\n",
      "Дисперсия: 100771\n",
      "Стандартное отклонение: 317\n"
     ]
    }
   ],
   "source": [
    "#описание звонков\n",
    "mean_minutes_ultra = ultra_stat['duration_sum'].mean()\n",
    "print('Средняя продолжительность звонков в месяц:',round(mean_minutes_ultra))\n",
    "median_minutes_ultra = ultra_stat['duration_sum'].median()\n",
    "print('Медианная продолжительность звонков в месяц:',round(median_minutes_ultra))\n",
    "variance_estimate_minutes_ultra = np.var(ultra_stat['duration_sum'])\n",
    "print('Дисперсия:',round(variance_estimate_minutes_ultra))\n",
    "standard_deviation_minutes_ultra = np.sqrt(variance_estimate_minutes_ultra)\n",
    "print('Стандартное отклонение:',round(standard_deviation_minutes_ultra))"
   ]
  },
  {
   "cell_type": "code",
   "execution_count": 49,
   "metadata": {},
   "outputs": [
    {
     "name": "stdout",
     "output_type": "stream",
     "text": [
      "Среднее количество израсходаванного трафика в месяц: 19\n",
      "Медианное количество израсходованного трафика в месяц: 19\n",
      "Дисперсия: 97\n",
      "Стандартное отклонение: 10\n"
     ]
    },
    {
     "name": "stderr",
     "output_type": "stream",
     "text": [
      "/opt/conda/lib/python3.7/site-packages/ipykernel_launcher.py:2: SettingWithCopyWarning: \n",
      "A value is trying to be set on a copy of a slice from a DataFrame.\n",
      "Try using .loc[row_indexer,col_indexer] = value instead\n",
      "\n",
      "See the caveats in the documentation: http://pandas.pydata.org/pandas-docs/stable/user_guide/indexing.html#returning-a-view-versus-a-copy\n",
      "  \n"
     ]
    }
   ],
   "source": [
    "#описание трафика\n",
    "ultra_stat['gb_used']=np.ceil(ultra_stat['mb_used_amount']/1024)\n",
    "mean_gb_ultra = ultra_stat['gb_used'].mean()\n",
    "print('Среднее количество израсходаванного трафика в месяц:',round(mean_gb_ultra))\n",
    "median_gb_ultra = ultra_stat['gb_used'].median()\n",
    "print('Медианное количество израсходованного трафика в месяц:',round(median_gb_ultra))\n",
    "variance_estimate_gb_ultra = np.var(ultra_stat['gb_used'])\n",
    "print('Дисперсия:',round(variance_estimate_gb_ultra))\n",
    "standard_deviation_gb_ultra = np.sqrt(variance_estimate_gb_ultra)\n",
    "print('Стандартное отклонение:',round(standard_deviation_gb_ultra))\n",
    "pd.set_option('chained_assignment', None)"
   ]
  },
  {
   "cell_type": "code",
   "execution_count": 50,
   "metadata": {},
   "outputs": [
    {
     "name": "stdout",
     "output_type": "stream",
     "text": [
      "Среднее количество сообщений в месяц: 49\n",
      "Медианное количество сообщений в месяц: 38\n",
      "Дисперсия: 2283\n",
      "Стандартное отклонение 48\n"
     ]
    }
   ],
   "source": [
    "#описание сообщений\n",
    "mean_messages_ultra = ultra_stat['messages_amount'].mean()\n",
    "print('Среднее количество сообщений в месяц:',round(mean_messages_ultra))\n",
    "median_messages_ultra = ultra_stat['messages_amount'].median()\n",
    "print('Медианное количество сообщений в месяц:',round(median_messages_ultra))\n",
    "variance_estimate_messages_ultra = np.var(ultra_stat['messages_amount'])\n",
    "print('Дисперсия:',round(variance_estimate_messages_ultra))\n",
    "standard_deviation_messages_ultra = np.sqrt(variance_estimate_messages_ultra)\n",
    "print('Стандартное отклонение',round(standard_deviation_messages_ultra))"
   ]
  },
  {
   "cell_type": "code",
   "execution_count": 51,
   "metadata": {},
   "outputs": [],
   "source": [
    "#Выборка данных тариф Smart\n",
    "smart_stat = df.query('tariff == \"smart\"')"
   ]
  },
  {
   "cell_type": "code",
   "execution_count": 52,
   "metadata": {},
   "outputs": [
    {
     "data": {
      "text/html": [
       "<div>\n",
       "<style scoped>\n",
       "    .dataframe tbody tr th:only-of-type {\n",
       "        vertical-align: middle;\n",
       "    }\n",
       "\n",
       "    .dataframe tbody tr th {\n",
       "        vertical-align: top;\n",
       "    }\n",
       "\n",
       "    .dataframe thead th {\n",
       "        text-align: right;\n",
       "    }\n",
       "</style>\n",
       "<table border=\"1\" class=\"dataframe\">\n",
       "  <thead>\n",
       "    <tr style=\"text-align: right;\">\n",
       "      <th></th>\n",
       "      <th>user_id</th>\n",
       "      <th>month</th>\n",
       "      <th>duration_sum</th>\n",
       "      <th>calls_amount</th>\n",
       "      <th>messages_amount</th>\n",
       "      <th>mb_used_amount</th>\n",
       "      <th>age</th>\n",
       "      <th>churn_date</th>\n",
       "      <th>city</th>\n",
       "      <th>first_name</th>\n",
       "      <th>...</th>\n",
       "      <th>rub_monthly_fee</th>\n",
       "      <th>rub_per_gb</th>\n",
       "      <th>rub_per_message</th>\n",
       "      <th>rub_per_minute</th>\n",
       "      <th>minutes_overrun</th>\n",
       "      <th>messages_overrun</th>\n",
       "      <th>mb_used_overrun</th>\n",
       "      <th>gb_used_overrun</th>\n",
       "      <th>revenue</th>\n",
       "      <th>revenue_per_user</th>\n",
       "    </tr>\n",
       "  </thead>\n",
       "  <tbody>\n",
       "    <tr>\n",
       "      <td>8</td>\n",
       "      <td>1001</td>\n",
       "      <td>11</td>\n",
       "      <td>430.0</td>\n",
       "      <td>59.0</td>\n",
       "      <td>0.0</td>\n",
       "      <td>18437.34</td>\n",
       "      <td>41</td>\n",
       "      <td>NaT</td>\n",
       "      <td>Москва</td>\n",
       "      <td>Иван</td>\n",
       "      <td>...</td>\n",
       "      <td>550</td>\n",
       "      <td>200</td>\n",
       "      <td>3</td>\n",
       "      <td>3</td>\n",
       "      <td>-70.0</td>\n",
       "      <td>-50.0</td>\n",
       "      <td>3077.34</td>\n",
       "      <td>4</td>\n",
       "      <td>800.0</td>\n",
       "      <td>1350</td>\n",
       "    </tr>\n",
       "    <tr>\n",
       "      <td>9</td>\n",
       "      <td>1001</td>\n",
       "      <td>12</td>\n",
       "      <td>414.0</td>\n",
       "      <td>63.0</td>\n",
       "      <td>0.0</td>\n",
       "      <td>14042.66</td>\n",
       "      <td>41</td>\n",
       "      <td>NaT</td>\n",
       "      <td>Москва</td>\n",
       "      <td>Иван</td>\n",
       "      <td>...</td>\n",
       "      <td>550</td>\n",
       "      <td>200</td>\n",
       "      <td>3</td>\n",
       "      <td>3</td>\n",
       "      <td>-86.0</td>\n",
       "      <td>-50.0</td>\n",
       "      <td>-1317.34</td>\n",
       "      <td>-1</td>\n",
       "      <td>0.0</td>\n",
       "      <td>550</td>\n",
       "    </tr>\n",
       "    <tr>\n",
       "      <td>10</td>\n",
       "      <td>1002</td>\n",
       "      <td>6</td>\n",
       "      <td>117.0</td>\n",
       "      <td>15.0</td>\n",
       "      <td>4.0</td>\n",
       "      <td>10863.82</td>\n",
       "      <td>59</td>\n",
       "      <td>NaT</td>\n",
       "      <td>Стерлитамак</td>\n",
       "      <td>Евгений</td>\n",
       "      <td>...</td>\n",
       "      <td>550</td>\n",
       "      <td>200</td>\n",
       "      <td>3</td>\n",
       "      <td>3</td>\n",
       "      <td>-383.0</td>\n",
       "      <td>-46.0</td>\n",
       "      <td>-4496.18</td>\n",
       "      <td>-4</td>\n",
       "      <td>0.0</td>\n",
       "      <td>550</td>\n",
       "    </tr>\n",
       "    <tr>\n",
       "      <td>11</td>\n",
       "      <td>1002</td>\n",
       "      <td>7</td>\n",
       "      <td>214.0</td>\n",
       "      <td>26.0</td>\n",
       "      <td>11.0</td>\n",
       "      <td>17594.10</td>\n",
       "      <td>59</td>\n",
       "      <td>NaT</td>\n",
       "      <td>Стерлитамак</td>\n",
       "      <td>Евгений</td>\n",
       "      <td>...</td>\n",
       "      <td>550</td>\n",
       "      <td>200</td>\n",
       "      <td>3</td>\n",
       "      <td>3</td>\n",
       "      <td>-286.0</td>\n",
       "      <td>-39.0</td>\n",
       "      <td>2234.10</td>\n",
       "      <td>3</td>\n",
       "      <td>600.0</td>\n",
       "      <td>1150</td>\n",
       "    </tr>\n",
       "    <tr>\n",
       "      <td>12</td>\n",
       "      <td>1002</td>\n",
       "      <td>8</td>\n",
       "      <td>289.0</td>\n",
       "      <td>42.0</td>\n",
       "      <td>13.0</td>\n",
       "      <td>20329.26</td>\n",
       "      <td>59</td>\n",
       "      <td>NaT</td>\n",
       "      <td>Стерлитамак</td>\n",
       "      <td>Евгений</td>\n",
       "      <td>...</td>\n",
       "      <td>550</td>\n",
       "      <td>200</td>\n",
       "      <td>3</td>\n",
       "      <td>3</td>\n",
       "      <td>-211.0</td>\n",
       "      <td>-37.0</td>\n",
       "      <td>4969.26</td>\n",
       "      <td>5</td>\n",
       "      <td>1000.0</td>\n",
       "      <td>1550</td>\n",
       "    </tr>\n",
       "    <tr>\n",
       "      <td>...</td>\n",
       "      <td>...</td>\n",
       "      <td>...</td>\n",
       "      <td>...</td>\n",
       "      <td>...</td>\n",
       "      <td>...</td>\n",
       "      <td>...</td>\n",
       "      <td>...</td>\n",
       "      <td>...</td>\n",
       "      <td>...</td>\n",
       "      <td>...</td>\n",
       "      <td>...</td>\n",
       "      <td>...</td>\n",
       "      <td>...</td>\n",
       "      <td>...</td>\n",
       "      <td>...</td>\n",
       "      <td>...</td>\n",
       "      <td>...</td>\n",
       "      <td>...</td>\n",
       "      <td>...</td>\n",
       "      <td>...</td>\n",
       "      <td>...</td>\n",
       "    </tr>\n",
       "    <tr>\n",
       "      <td>3208</td>\n",
       "      <td>1489</td>\n",
       "      <td>8</td>\n",
       "      <td>0.0</td>\n",
       "      <td>0.0</td>\n",
       "      <td>17.0</td>\n",
       "      <td>11056.56</td>\n",
       "      <td>35</td>\n",
       "      <td>NaT</td>\n",
       "      <td>Санкт-Петербург</td>\n",
       "      <td>Павел</td>\n",
       "      <td>...</td>\n",
       "      <td>550</td>\n",
       "      <td>200</td>\n",
       "      <td>3</td>\n",
       "      <td>3</td>\n",
       "      <td>-500.0</td>\n",
       "      <td>-33.0</td>\n",
       "      <td>-4303.44</td>\n",
       "      <td>-4</td>\n",
       "      <td>0.0</td>\n",
       "      <td>550</td>\n",
       "    </tr>\n",
       "    <tr>\n",
       "      <td>3209</td>\n",
       "      <td>1489</td>\n",
       "      <td>9</td>\n",
       "      <td>0.0</td>\n",
       "      <td>0.0</td>\n",
       "      <td>32.0</td>\n",
       "      <td>17220.30</td>\n",
       "      <td>35</td>\n",
       "      <td>NaT</td>\n",
       "      <td>Санкт-Петербург</td>\n",
       "      <td>Павел</td>\n",
       "      <td>...</td>\n",
       "      <td>550</td>\n",
       "      <td>200</td>\n",
       "      <td>3</td>\n",
       "      <td>3</td>\n",
       "      <td>-500.0</td>\n",
       "      <td>-18.0</td>\n",
       "      <td>1860.30</td>\n",
       "      <td>2</td>\n",
       "      <td>400.0</td>\n",
       "      <td>950</td>\n",
       "    </tr>\n",
       "    <tr>\n",
       "      <td>3210</td>\n",
       "      <td>1489</td>\n",
       "      <td>10</td>\n",
       "      <td>0.0</td>\n",
       "      <td>0.0</td>\n",
       "      <td>21.0</td>\n",
       "      <td>19570.44</td>\n",
       "      <td>35</td>\n",
       "      <td>NaT</td>\n",
       "      <td>Санкт-Петербург</td>\n",
       "      <td>Павел</td>\n",
       "      <td>...</td>\n",
       "      <td>550</td>\n",
       "      <td>200</td>\n",
       "      <td>3</td>\n",
       "      <td>3</td>\n",
       "      <td>-500.0</td>\n",
       "      <td>-29.0</td>\n",
       "      <td>4210.44</td>\n",
       "      <td>5</td>\n",
       "      <td>1000.0</td>\n",
       "      <td>1550</td>\n",
       "    </tr>\n",
       "    <tr>\n",
       "      <td>3211</td>\n",
       "      <td>1489</td>\n",
       "      <td>11</td>\n",
       "      <td>0.0</td>\n",
       "      <td>0.0</td>\n",
       "      <td>20.0</td>\n",
       "      <td>17501.56</td>\n",
       "      <td>35</td>\n",
       "      <td>NaT</td>\n",
       "      <td>Санкт-Петербург</td>\n",
       "      <td>Павел</td>\n",
       "      <td>...</td>\n",
       "      <td>550</td>\n",
       "      <td>200</td>\n",
       "      <td>3</td>\n",
       "      <td>3</td>\n",
       "      <td>-500.0</td>\n",
       "      <td>-30.0</td>\n",
       "      <td>2141.56</td>\n",
       "      <td>3</td>\n",
       "      <td>600.0</td>\n",
       "      <td>1150</td>\n",
       "    </tr>\n",
       "    <tr>\n",
       "      <td>3212</td>\n",
       "      <td>1489</td>\n",
       "      <td>12</td>\n",
       "      <td>0.0</td>\n",
       "      <td>0.0</td>\n",
       "      <td>35.0</td>\n",
       "      <td>17330.51</td>\n",
       "      <td>35</td>\n",
       "      <td>NaT</td>\n",
       "      <td>Санкт-Петербург</td>\n",
       "      <td>Павел</td>\n",
       "      <td>...</td>\n",
       "      <td>550</td>\n",
       "      <td>200</td>\n",
       "      <td>3</td>\n",
       "      <td>3</td>\n",
       "      <td>-500.0</td>\n",
       "      <td>-15.0</td>\n",
       "      <td>1970.51</td>\n",
       "      <td>2</td>\n",
       "      <td>400.0</td>\n",
       "      <td>950</td>\n",
       "    </tr>\n",
       "  </tbody>\n",
       "</table>\n",
       "<p>2229 rows × 26 columns</p>\n",
       "</div>"
      ],
      "text/plain": [
       "     user_id  month  duration_sum  calls_amount  messages_amount  \\\n",
       "8       1001     11         430.0          59.0              0.0   \n",
       "9       1001     12         414.0          63.0              0.0   \n",
       "10      1002      6         117.0          15.0              4.0   \n",
       "11      1002      7         214.0          26.0             11.0   \n",
       "12      1002      8         289.0          42.0             13.0   \n",
       "...      ...    ...           ...           ...              ...   \n",
       "3208    1489      8           0.0           0.0             17.0   \n",
       "3209    1489      9           0.0           0.0             32.0   \n",
       "3210    1489     10           0.0           0.0             21.0   \n",
       "3211    1489     11           0.0           0.0             20.0   \n",
       "3212    1489     12           0.0           0.0             35.0   \n",
       "\n",
       "      mb_used_amount  age churn_date             city first_name  ...  \\\n",
       "8           18437.34   41        NaT           Москва       Иван  ...   \n",
       "9           14042.66   41        NaT           Москва       Иван  ...   \n",
       "10          10863.82   59        NaT      Стерлитамак    Евгений  ...   \n",
       "11          17594.10   59        NaT      Стерлитамак    Евгений  ...   \n",
       "12          20329.26   59        NaT      Стерлитамак    Евгений  ...   \n",
       "...              ...  ...        ...              ...        ...  ...   \n",
       "3208        11056.56   35        NaT  Санкт-Петербург      Павел  ...   \n",
       "3209        17220.30   35        NaT  Санкт-Петербург      Павел  ...   \n",
       "3210        19570.44   35        NaT  Санкт-Петербург      Павел  ...   \n",
       "3211        17501.56   35        NaT  Санкт-Петербург      Павел  ...   \n",
       "3212        17330.51   35        NaT  Санкт-Петербург      Павел  ...   \n",
       "\n",
       "     rub_monthly_fee rub_per_gb rub_per_message  rub_per_minute  \\\n",
       "8                550        200               3               3   \n",
       "9                550        200               3               3   \n",
       "10               550        200               3               3   \n",
       "11               550        200               3               3   \n",
       "12               550        200               3               3   \n",
       "...              ...        ...             ...             ...   \n",
       "3208             550        200               3               3   \n",
       "3209             550        200               3               3   \n",
       "3210             550        200               3               3   \n",
       "3211             550        200               3               3   \n",
       "3212             550        200               3               3   \n",
       "\n",
       "      minutes_overrun  messages_overrun  mb_used_overrun  gb_used_overrun  \\\n",
       "8               -70.0             -50.0          3077.34                4   \n",
       "9               -86.0             -50.0         -1317.34               -1   \n",
       "10             -383.0             -46.0         -4496.18               -4   \n",
       "11             -286.0             -39.0          2234.10                3   \n",
       "12             -211.0             -37.0          4969.26                5   \n",
       "...               ...               ...              ...              ...   \n",
       "3208           -500.0             -33.0         -4303.44               -4   \n",
       "3209           -500.0             -18.0          1860.30                2   \n",
       "3210           -500.0             -29.0          4210.44                5   \n",
       "3211           -500.0             -30.0          2141.56                3   \n",
       "3212           -500.0             -15.0          1970.51                2   \n",
       "\n",
       "      revenue  revenue_per_user  \n",
       "8       800.0              1350  \n",
       "9         0.0               550  \n",
       "10        0.0               550  \n",
       "11      600.0              1150  \n",
       "12     1000.0              1550  \n",
       "...       ...               ...  \n",
       "3208      0.0               550  \n",
       "3209    400.0               950  \n",
       "3210   1000.0              1550  \n",
       "3211    600.0              1150  \n",
       "3212    400.0               950  \n",
       "\n",
       "[2229 rows x 26 columns]"
      ]
     },
     "execution_count": 52,
     "metadata": {},
     "output_type": "execute_result"
    }
   ],
   "source": [
    "smart_stat"
   ]
  },
  {
   "cell_type": "code",
   "execution_count": 53,
   "metadata": {},
   "outputs": [
    {
     "name": "stdout",
     "output_type": "stream",
     "text": [
      "Средняя продолжительность звонков в месяц: 418\n",
      "Медианная продолжительность звонков в месяц: 422\n",
      "Дисперсия: 36203\n",
      "Стандартное отклонение 190\n"
     ]
    }
   ],
   "source": [
    "#описание звонков\n",
    "mean_minutes_smart = smart_stat['duration_sum'].mean()\n",
    "print('Средняя продолжительность звонков в месяц:',round(mean_minutes_smart))\n",
    "median_minutes_smart = smart_stat['duration_sum'].median()\n",
    "print('Медианная продолжительность звонков в месяц:',round(median_minutes_smart))\n",
    "variance_estimate_minutes_smart = np.var(smart_stat['duration_sum'])\n",
    "print('Дисперсия:',round(variance_estimate_minutes_smart))\n",
    "standard_deviation_minutes_smart = np.sqrt(variance_estimate_minutes_smart)\n",
    "print('Стандартное отклонение',round(standard_deviation_minutes_smart))"
   ]
  },
  {
   "cell_type": "code",
   "execution_count": 54,
   "metadata": {},
   "outputs": [
    {
     "name": "stdout",
     "output_type": "stream",
     "text": [
      "Среднее количество израсходаванного трафика в месяц: 16\n",
      "Медианное количество израсходованного трафика в месяц: 17\n",
      "Дисперсия: 33\n",
      "Стандартное отклонение: 6\n"
     ]
    }
   ],
   "source": [
    "#описание трафика\n",
    "smart_stat['gb_used']=np.ceil(smart_stat['mb_used_amount']/1024)\n",
    "mean_gb_smart = smart_stat['gb_used'].mean()\n",
    "print('Среднее количество израсходаванного трафика в месяц:',round(mean_gb_smart))\n",
    "median_gb_smart = smart_stat['gb_used'].median()\n",
    "print('Медианное количество израсходованного трафика в месяц:',round(median_gb_smart))\n",
    "variance_estimate_gb_smart = np.var(smart_stat['gb_used'])\n",
    "print('Дисперсия:',round(variance_estimate_gb_smart))\n",
    "standard_deviation_gb_smart = np.sqrt(variance_estimate_gb_smart)\n",
    "print('Стандартное отклонение:',round(standard_deviation_gb_smart))\n",
    "pd.set_option('chained_assignment', None)"
   ]
  },
  {
   "cell_type": "code",
   "execution_count": 55,
   "metadata": {},
   "outputs": [
    {
     "name": "stdout",
     "output_type": "stream",
     "text": [
      "Среднее количество сообщений в месяц: 33\n",
      "Медианное количество сообщений в месяц: 28\n",
      "Дисперсия: 796\n",
      "Стандартное отклонение 28\n"
     ]
    }
   ],
   "source": [
    "#описание сообщений\n",
    "mean_messages_smart = smart_stat['messages_amount'].mean()\n",
    "print('Среднее количество сообщений в месяц:',round(mean_messages_smart))\n",
    "median_messages_smart = smart_stat['messages_amount'].median()\n",
    "print('Медианное количество сообщений в месяц:',round(median_messages_smart))\n",
    "variance_estimate_messages_smart = np.var(smart_stat['messages_amount'])\n",
    "print('Дисперсия:',round(variance_estimate_messages_smart))\n",
    "standard_deviation_messages_smart = np.sqrt(variance_estimate_messages_smart)\n",
    "print('Стандартное отклонение',round(standard_deviation_messages_smart))"
   ]
  },
  {
   "cell_type": "code",
   "execution_count": 56,
   "metadata": {},
   "outputs": [
    {
     "data": {
      "text/html": [
       "<div>\n",
       "<style scoped>\n",
       "    .dataframe tbody tr th:only-of-type {\n",
       "        vertical-align: middle;\n",
       "    }\n",
       "\n",
       "    .dataframe tbody tr th {\n",
       "        vertical-align: top;\n",
       "    }\n",
       "\n",
       "    .dataframe thead th {\n",
       "        text-align: right;\n",
       "    }\n",
       "</style>\n",
       "<table border=\"1\" class=\"dataframe\">\n",
       "  <thead>\n",
       "    <tr style=\"text-align: right;\">\n",
       "      <th></th>\n",
       "      <th>ultra</th>\n",
       "      <th>smart</th>\n",
       "    </tr>\n",
       "  </thead>\n",
       "  <tbody>\n",
       "    <tr>\n",
       "      <td>Средняя продолжительность звонков в месяц</td>\n",
       "      <td>526</td>\n",
       "      <td>417</td>\n",
       "    </tr>\n",
       "    <tr>\n",
       "      <td>Медианная продолжительность звонков в месяц</td>\n",
       "      <td>518</td>\n",
       "      <td>422</td>\n",
       "    </tr>\n",
       "    <tr>\n",
       "      <td>Дисперсия minutes</td>\n",
       "      <td>100771</td>\n",
       "      <td>36203</td>\n",
       "    </tr>\n",
       "    <tr>\n",
       "      <td>Стандартное отклонение minutes</td>\n",
       "      <td>190</td>\n",
       "      <td>190</td>\n",
       "    </tr>\n",
       "    <tr>\n",
       "      <td>Среднее количество израсходаванного трафика в месяц</td>\n",
       "      <td>19</td>\n",
       "      <td>16</td>\n",
       "    </tr>\n",
       "    <tr>\n",
       "      <td>Медианное количество израсходаванного трафика в месяц</td>\n",
       "      <td>19</td>\n",
       "      <td>17</td>\n",
       "    </tr>\n",
       "    <tr>\n",
       "      <td>Дисперсия gb</td>\n",
       "      <td>97</td>\n",
       "      <td>33</td>\n",
       "    </tr>\n",
       "    <tr>\n",
       "      <td>Стандартное отклонение gb</td>\n",
       "      <td>9</td>\n",
       "      <td>5</td>\n",
       "    </tr>\n",
       "    <tr>\n",
       "      <td>Среднее количество сообщений в месяц</td>\n",
       "      <td>49</td>\n",
       "      <td>33</td>\n",
       "    </tr>\n",
       "    <tr>\n",
       "      <td>Медианное количество сообщений в месяц</td>\n",
       "      <td>38</td>\n",
       "      <td>28</td>\n",
       "    </tr>\n",
       "    <tr>\n",
       "      <td>Дисперсия messages</td>\n",
       "      <td>2282</td>\n",
       "      <td>796</td>\n",
       "    </tr>\n",
       "    <tr>\n",
       "      <td>Стандартное отклонение messages</td>\n",
       "      <td>47</td>\n",
       "      <td>28</td>\n",
       "    </tr>\n",
       "  </tbody>\n",
       "</table>\n",
       "</div>"
      ],
      "text/plain": [
       "                                                     ultra  smart\n",
       "Средняя продолжительность звонков в месяц              526    417\n",
       "Медианная продолжительность звонков в месяц            518    422\n",
       "Дисперсия minutes                                   100771  36203\n",
       "Стандартное отклонение minutes                         190    190\n",
       "Среднее количество израсходаванного трафика в м...      19     16\n",
       "Медианное количество израсходаванного трафика в...      19     17\n",
       "Дисперсия gb                                            97     33\n",
       "Стандартное отклонение gb                                9      5\n",
       "Среднее количество сообщений в месяц                    49     33\n",
       "Медианное количество сообщений в месяц                  38     28\n",
       "Дисперсия messages                                    2282    796\n",
       "Стандартное отклонение messages                         47     28"
      ]
     },
     "execution_count": 56,
     "metadata": {},
     "output_type": "execute_result"
    }
   ],
   "source": [
    "#сведем полученные значения в один датафрейм для простоты восприятия и удобства анализа\n",
    "indicator = ['Средняя продолжительность звонков в месяц','Медианная продолжительность звонков в месяц','Дисперсия minutes','Стандартное отклонение minutes','Среднее количество израсходаванного трафика в месяц','Медианное количество израсходаванного трафика в месяц','Дисперсия gb','Стандартное отклонение gb','Среднее количество сообщений в месяц','Медианное количество сообщений в месяц','Дисперсия messages','Стандартное отклонение messages']\n",
    "ultra = [mean_minutes_ultra, median_minutes_ultra, variance_estimate_minutes_ultra, standard_deviation_minutes_smart,mean_gb_ultra, median_gb_ultra, variance_estimate_gb_ultra, standard_deviation_gb_ultra,mean_messages_ultra,median_messages_ultra, variance_estimate_messages_ultra, standard_deviation_messages_ultra]\n",
    "smart = [mean_minutes_smart, median_minutes_smart, variance_estimate_minutes_smart, standard_deviation_minutes_smart,mean_gb_smart, median_gb_smart, variance_estimate_gb_smart, standard_deviation_gb_smart,mean_messages_smart,median_messages_smart, variance_estimate_messages_smart, standard_deviation_messages_smart]\n",
    "comparison = pd.DataFrame(index= indicator, columns = ['ultra','smart'])\n",
    "comparison['ultra'] = ultra\n",
    "comparison ['smart'] = smart\n",
    "comparison['ultra']  = comparison['ultra'].astype('int')\n",
    "comparison['smart']  = comparison['smart'].astype('int')\n",
    "comparison\n"
   ]
  },
  {
   "cell_type": "markdown",
   "metadata": {},
   "source": [
    "#### Вывод"
   ]
  },
  {
   "cell_type": "markdown",
   "metadata": {},
   "source": [
    "Пользователи тарифа ultra разговаривают по телефону больше, чем пользователи тарифа smart - медианная и средняя продолжительность звонка больше. Такая же ситуация наблюдается для количества израсходованных гигабайт и сообщений. Полученные значения связаны с особенностями тарифов - в тарифе ultra пакеты минут, гигабайт и смс шире. При этом важно отметить, что средняя продолжительность звонков и количество смс на тарифе ultra в несколько раз меньше установленных лимитов.  "
   ]
  },
  {
   "cell_type": "markdown",
   "metadata": {},
   "source": [
    "## Построение гистограмм"
   ]
  },
  {
   "cell_type": "code",
   "execution_count": 57,
   "metadata": {},
   "outputs": [],
   "source": [
    "def histogram_drawing(column, title):\n",
    "    sns.set_style('darkgrid')\n",
    "    plt.figure(figsize=(12,6))\n",
    "    plt.title(title, fontsize=15)\n",
    "    sns.distplot(smart_stat[column], label='Тариф Smart', kde=False)\n",
    "    sns.distplot(ultra_stat[column], label='Тариф Ultra', kde=False)\n",
    "    plt.axvline(np.mean(smart_stat[column]), linestyle='--', label='Smart среднее')\n",
    "    plt.axvline(np.mean(ultra_stat[column]), linestyle='-', label='Ultra среднее')\n",
    "    plt.legend()"
   ]
  },
  {
   "cell_type": "code",
   "execution_count": 58,
   "metadata": {},
   "outputs": [
    {
     "data": {
      "image/png": "[encoded data removed]",
      "text/plain": [
       "<Figure size 864x432 with 1 Axes>"
      ]
     },
     "metadata": {},
     "output_type": "display_data"
    }
   ],
   "source": [
    "histogram_drawing('gb_used', 'Распределение по гигабайтам у тарифов Ultra и Smart')"
   ]
  },
  {
   "cell_type": "code",
   "execution_count": 59,
   "metadata": {},
   "outputs": [
    {
     "data": {
      "image/png": "[encoded data removed]",
      "text/plain": [
       "<Figure size 864x432 with 1 Axes>"
      ]
     },
     "metadata": {},
     "output_type": "display_data"
    }
   ],
   "source": [
    "histogram_drawing('duration_sum', 'Распределение по минутам у тарифов Ultra и Smart')"
   ]
  },
  {
   "cell_type": "code",
   "execution_count": 60,
   "metadata": {},
   "outputs": [
    {
     "data": {
      "image/png": "[encoded data removed]",
      "text/plain": [
       "<Figure size 864x432 with 1 Axes>"
      ]
     },
     "metadata": {},
     "output_type": "display_data"
    }
   ],
   "source": [
    "histogram_drawing('messages_amount', 'Распределение по сообщениям у тарифов Ultra и Smart')"
   ]
  },
  {
   "cell_type": "code",
   "execution_count": 61,
   "metadata": {},
   "outputs": [
    {
     "data": {
      "image/png": "[encoded data removed]",
      "text/plain": [
       "<Figure size 864x432 with 1 Axes>"
      ]
     },
     "metadata": {},
     "output_type": "display_data"
    },
    {
     "data": {
      "image/png": "[encoded data removed]",
      "text/plain": [
       "<Figure size 864x432 with 1 Axes>"
      ]
     },
     "metadata": {},
     "output_type": "display_data"
    },
    {
     "data": {
      "image/png": "[encoded data removed]",
      "text/plain": [
       "<Figure size 864x432 with 1 Axes>"
      ]
     },
     "metadata": {},
     "output_type": "display_data"
    }
   ],
   "source": [
    "#построение диаграммы \"ящик с усами\" с помощью цилка\n",
    "for columns in df[['mb_used_amount','duration_sum','messages_amount']]:\n",
    "    plt.figure(figsize=(12,6))\n",
    "    plt.title(columns, fontsize=15)\n",
    "    sns.boxplot(data=df, x=columns, y='tariff')"
   ]
  },
  {
   "cell_type": "markdown",
   "metadata": {},
   "source": [
    "##### Вывод\n",
    "Исходя из полученных графиков видно, что пользователи тарифа Smart в среднем:\n",
    "\n",
    "* проговаривают ~ 417 минут, когда пользователи тарифа Ultra проговаривают 526 минут;\n",
    "* скачивают ~ 16 гигабайт, когда пользователи тарифа Ultra скачивают ~ 19 гигабайт;\n",
    "* отправляют ~ 33 сообщений, когда пользователи тарифа Ultra отправляют ~ 49 сообщений."
   ]
  },
  {
   "cell_type": "markdown",
   "metadata": {},
   "source": [
    "## Проверка гипотез"
   ]
  },
  {
   "cell_type": "markdown",
   "metadata": {},
   "source": [
    "### Cредняя выручка пользователей тарифов «Ультра» и «Смарт» различаются"
   ]
  },
  {
   "cell_type": "code",
   "execution_count": 62,
   "metadata": {},
   "outputs": [],
   "source": [
    "#Прибыль тариф Smart\n",
    "smart_hyp = smart_stat['revenue_per_user']\n",
    "#Прибыль тариф Ultra\n",
    "ultra_hyp = ultra_stat['revenue_per_user']"
   ]
  },
  {
   "cell_type": "markdown",
   "metadata": {},
   "source": [
    "#### Формулировка гипотез\n",
    "\n",
    "Нулевая гипотеза: средняя выручка пользователей трифов \"Ультра\" и \"Смарт\" равны.\n",
    "\n",
    "Альтернативная гипотеза: средняя выручка пользователей трифов \"Ультра\" и \"Смарт\" различается."
   ]
  },
  {
   "cell_type": "code",
   "execution_count": 63,
   "metadata": {},
   "outputs": [
    {
     "name": "stdout",
     "output_type": "stream",
     "text": [
      "p-значение: 8.541077046002364e-160\n",
      "Отвергаем нулевую гипотезу\n"
     ]
    }
   ],
   "source": [
    "alpha = 0.05#задаем критический уровень статистической значимости\n",
    "\n",
    "results = st.ttest_ind(smart_hyp, ultra_hyp)#проверка гипотезы о равенстве средних двух независимых совокупностей\n",
    "\n",
    "print('p-значение:', results.pvalue)\n",
    "\n",
    "if results.pvalue < alpha:\n",
    "    print(\"Отвергаем нулевую гипотезу\")\n",
    "else:\n",
    "    print(\"Не получилось отвергнуть нулевую гипотезу\")"
   ]
  },
  {
   "cell_type": "code",
   "execution_count": 64,
   "metadata": {},
   "outputs": [
    {
     "name": "stdout",
     "output_type": "stream",
     "text": [
      "Средняя выручка в месяц с пользователя тарифа \"Смарт\": 1292\n",
      "Средняя выручка в месяц с пользователя тарифа \"Ультра\": 2070\n",
      "Общая выручка в год со всех пользователей тарифа \"Смарт\": 2878951\n",
      "Общая выручка в год со всех пользователей тарифа \"Ультра\": 2039250\n"
     ]
    }
   ],
   "source": [
    "print('Средняя выручка в месяц с пользователя тарифа \"Смарт\":', round(smart_hyp.mean()))\n",
    "print('Средняя выручка в месяц с пользователя тарифа \"Ультра\":', round(ultra_hyp.mean()))\n",
    "print('Общая выручка в год со всех пользователей тарифа \"Смарт\":', round(smart_hyp.sum()))\n",
    "print('Общая выручка в год со всех пользователей тарифа \"Ультра\":', round(ultra_hyp.sum()))"
   ]
  },
  {
   "cell_type": "markdown",
   "metadata": {},
   "source": [
    "### Вывод\n",
    "\n",
    "Нулевая гипотеза о равенстве средней выручки не подтвердилась. Средняя выручка тарифов smart и ultra различается."
   ]
  },
  {
   "cell_type": "markdown",
   "metadata": {},
   "source": [
    "### Cредняя выручка пользователей из Москвы отличается от выручки пользователей из других регионов"
   ]
  },
  {
   "cell_type": "code",
   "execution_count": 65,
   "metadata": {},
   "outputs": [],
   "source": [
    "#Выборка данных Москва\n",
    "moscow = df.query('city == \"Москва\"')\n",
    "#Выборка данных другие города\n",
    "others = df.query('city != \"Москва\"')"
   ]
  },
  {
   "cell_type": "code",
   "execution_count": 66,
   "metadata": {},
   "outputs": [],
   "source": [
    "moscow_hyp = moscow['revenue_per_user']\n",
    "others_hyp = others['revenue_per_user']"
   ]
  },
  {
   "cell_type": "markdown",
   "metadata": {},
   "source": [
    "#### Формулировка гипотез\n",
    "\n",
    "Нулевая гипотеза: средняя выручка пользователей из Москвы и других городов равны.\n",
    "\n",
    "Альтернативная гипотеза: средняя выручка пользователей из Москвы и других различается."
   ]
  },
  {
   "cell_type": "code",
   "execution_count": 67,
   "metadata": {},
   "outputs": [
    {
     "name": "stdout",
     "output_type": "stream",
     "text": [
      "p-значение: 0.5205986870288124\n",
      "Не получилось отвергнуть нулевую гипотезу\n"
     ]
    }
   ],
   "source": [
    "alpha = 0.05#задаем критический уровень статистической значимости\n",
    "\n",
    "results = st.ttest_ind(moscow_hyp, others_hyp)#проверка гипотезы о равенстве средних двух независимых совокупностей\n",
    "\n",
    "print('p-значение:', results.pvalue)\n",
    "\n",
    "if results.pvalue < alpha:\n",
    "    print(\"Отвергаем нулевую гипотезу\")\n",
    "else:\n",
    "    print(\"Не получилось отвергнуть нулевую гипотезу\")"
   ]
  },
  {
   "cell_type": "markdown",
   "metadata": {},
   "source": [
    "#### Вывод\n",
    "\n",
    "Нулевую гипотезу о равенстве средней выручки не получилось отвергнуть. Средняя выручка в Москве и других городах одинакова."
   ]
  },
  {
   "cell_type": "markdown",
   "metadata": {},
   "source": [
    "## Общий вывод"
   ]
  },
  {
   "cell_type": "markdown",
   "metadata": {},
   "source": [
    "В ходе анализа были рассчитаны следующие показатели:\n",
    "\n",
    "* количество сделанных звонков и израсходованных минут разговора по месяцам;\n",
    "* количество отправленных сообщений по месяцам;\n",
    "* объем израсходованного интернет-трафика по месяцам;\n",
    "* помесячную выручку с каждого пользователя.\n",
    "\n",
    "\n",
    "**В результате было выявлено, что пользователи тарифа \"Смарт\" чаще пользователей тарифа \"Ультра\" совершают перерасход пакетов минут, смс и гигабайт. Это связано с тем, что пакеты тарифа \"Ультра\" в несколько раз шире пакетов тарифа \"Смарт\". Из-за небольших лимитов, пользователи тарифа \"Смарт\" совершают перерасход в среднем почти на 750 рублей в месяц**.\n",
    "\n",
    "Проверны гипотезы о равенстве средней выручки пользователей и о  равенстве средней выручки пользователей из Москвы и других регионов.\n",
    "\n",
    "По результатам проверки гипотез можно сделать следующие выводы:\n",
    "\n",
    "* выручка с пользователя тарифа \"Смарт\" меньше выручки с пользователя тарифа \"Ультра\", что связано с тем, что \"Ультра\" изначально дороже \"Смарта\" и даже с учетом перерасхода, выручка с пользователя в среднем ниже.\n",
    "\n",
    "* общая выручка от тарифа \"Смарт\" выше, чем от тарифа \"Ультра\", иными словами **тариф \"Смарт\" выгоднее для компании**.\n",
    "\n",
    "* географическое положение не влияет на выручку с пользователя -  средняя выручка в Москве и других городах одинакова.\n",
    "\n",
    "\n",
    "Недорогие тарифы изначально привлекательнее для пользователей, даже не смотря на небольшие пакеты услуг. В итоге пользователи совершают значительные по стоимости (выше стоимости самого тарифа) перерасходы. С учетом полученных результатов, для получения большей прибыли компании \"Мегалайн\" следует усилить продвижение тарифа \"Смарт\". При этом стоит пересмотреть тариф \"Ультра\" и скорректировать величину пакетов и его стоимоть."
   ]
  }
 ],
 "metadata": {
  "ExecuteTimeLog": [
   {
    "duration": 959,
    "start_time": "2021-09-27T16:58:57.994Z"
   },
   {
    "duration": 13,
    "start_time": "2021-09-27T16:59:16.570Z"
   },
   {
    "duration": 1890,
    "start_time": "2021-09-27T16:59:36.773Z"
   },
   {
    "duration": 462,
    "start_time": "2021-09-27T16:59:48.665Z"
   },
   {
    "duration": 8,
    "start_time": "2021-09-27T16:59:50.390Z"
   },
   {
    "duration": 14,
    "start_time": "2021-09-27T17:00:05.311Z"
   },
   {
    "duration": 8,
    "start_time": "2021-09-27T17:00:32.199Z"
   },
   {
    "duration": 9,
    "start_time": "2021-09-27T17:00:42.807Z"
   },
   {
    "duration": 10,
    "start_time": "2021-09-27T17:01:00.266Z"
   },
   {
    "duration": 9,
    "start_time": "2021-09-27T17:01:05.839Z"
   },
   {
    "duration": 9,
    "start_time": "2021-09-27T17:01:09.699Z"
   },
   {
    "duration": 396,
    "start_time": "2021-09-27T17:01:13.468Z"
   },
   {
    "duration": 8,
    "start_time": "2021-09-27T17:01:13.867Z"
   },
   {
    "duration": 15,
    "start_time": "2021-09-27T17:01:13.877Z"
   },
   {
    "duration": 13,
    "start_time": "2021-09-27T17:01:13.894Z"
   },
   {
    "duration": 9,
    "start_time": "2021-09-27T17:01:13.909Z"
   },
   {
    "duration": 11,
    "start_time": "2021-09-27T17:01:13.919Z"
   },
   {
    "duration": 31,
    "start_time": "2021-09-27T17:03:55.493Z"
   },
   {
    "duration": 6,
    "start_time": "2021-09-27T17:04:40.641Z"
   },
   {
    "duration": 17,
    "start_time": "2021-09-27T17:04:46.424Z"
   },
   {
    "duration": 18,
    "start_time": "2021-09-27T17:04:52.450Z"
   },
   {
    "duration": 34,
    "start_time": "2021-09-27T17:06:31.328Z"
   },
   {
    "duration": 8,
    "start_time": "2021-09-27T17:06:43.732Z"
   },
   {
    "duration": 9,
    "start_time": "2021-09-27T17:06:51.365Z"
   },
   {
    "duration": 7,
    "start_time": "2021-09-27T17:07:01.402Z"
   },
   {
    "duration": 10,
    "start_time": "2021-09-27T17:07:07.854Z"
   },
   {
    "duration": 31,
    "start_time": "2021-09-27T17:16:51.360Z"
   },
   {
    "duration": 350,
    "start_time": "2021-09-27T17:17:00.707Z"
   },
   {
    "duration": 34,
    "start_time": "2021-09-27T17:17:07.658Z"
   },
   {
    "duration": 8,
    "start_time": "2021-09-27T17:17:19.323Z"
   },
   {
    "duration": 6,
    "start_time": "2021-09-27T17:17:44.928Z"
   },
   {
    "duration": 9,
    "start_time": "2021-09-27T17:18:03.839Z"
   },
   {
    "duration": 7,
    "start_time": "2021-09-27T17:18:42.564Z"
   },
   {
    "duration": 10,
    "start_time": "2021-09-27T17:18:53.108Z"
   },
   {
    "duration": 54,
    "start_time": "2021-09-27T17:26:50.013Z"
   },
   {
    "duration": 75,
    "start_time": "2021-09-27T17:27:02.402Z"
   },
   {
    "duration": 31,
    "start_time": "2021-09-27T17:27:13.145Z"
   },
   {
    "duration": 157,
    "start_time": "2021-09-27T17:27:36.962Z"
   },
   {
    "duration": 54,
    "start_time": "2021-09-27T17:27:55.312Z"
   },
   {
    "duration": 6948,
    "start_time": "2021-09-27T17:29:18.799Z"
   },
   {
    "duration": 42,
    "start_time": "2021-09-27T17:29:35.505Z"
   },
   {
    "duration": 148,
    "start_time": "2021-09-27T17:29:44.477Z"
   },
   {
    "duration": 46,
    "start_time": "2021-09-27T17:29:57.704Z"
   },
   {
    "duration": 392,
    "start_time": "2021-09-27T17:30:01.525Z"
   },
   {
    "duration": 20,
    "start_time": "2021-09-27T17:30:01.919Z"
   },
   {
    "duration": 8,
    "start_time": "2021-09-27T17:30:01.941Z"
   },
   {
    "duration": 13,
    "start_time": "2021-09-27T17:30:01.950Z"
   },
   {
    "duration": 12,
    "start_time": "2021-09-27T17:30:01.965Z"
   },
   {
    "duration": 28,
    "start_time": "2021-09-27T17:30:01.979Z"
   },
   {
    "duration": 56,
    "start_time": "2021-09-27T17:30:02.008Z"
   },
   {
    "duration": 22,
    "start_time": "2021-09-27T17:31:52.138Z"
   },
   {
    "duration": 21,
    "start_time": "2021-09-27T17:32:04.581Z"
   },
   {
    "duration": 1211,
    "start_time": "2021-09-27T17:33:15.368Z"
   },
   {
    "duration": 21,
    "start_time": "2021-09-27T17:33:37.816Z"
   },
   {
    "duration": 381,
    "start_time": "2021-09-27T17:34:03.670Z"
   },
   {
    "duration": 21,
    "start_time": "2021-09-27T17:34:04.053Z"
   },
   {
    "duration": 17,
    "start_time": "2021-09-27T17:34:04.076Z"
   },
   {
    "duration": 10,
    "start_time": "2021-09-27T17:34:04.095Z"
   },
   {
    "duration": 12,
    "start_time": "2021-09-27T17:34:04.107Z"
   },
   {
    "duration": 11,
    "start_time": "2021-09-27T17:34:04.121Z"
   },
   {
    "duration": 51,
    "start_time": "2021-09-27T17:34:04.133Z"
   },
   {
    "duration": 19,
    "start_time": "2021-09-27T17:34:57.349Z"
   },
   {
    "duration": 15,
    "start_time": "2021-09-27T17:35:08.801Z"
   },
   {
    "duration": 422,
    "start_time": "2021-09-27T17:35:20.206Z"
   },
   {
    "duration": 21,
    "start_time": "2021-09-27T17:35:20.630Z"
   },
   {
    "duration": 21,
    "start_time": "2021-09-27T17:35:20.654Z"
   },
   {
    "duration": 17,
    "start_time": "2021-09-27T17:35:20.677Z"
   },
   {
    "duration": 16,
    "start_time": "2021-09-27T17:35:20.696Z"
   },
   {
    "duration": 15,
    "start_time": "2021-09-27T17:35:20.713Z"
   },
   {
    "duration": 45,
    "start_time": "2021-09-27T17:35:20.729Z"
   },
   {
    "duration": 130,
    "start_time": "2021-09-27T17:35:29.070Z"
   },
   {
    "duration": 963,
    "start_time": "2021-09-27T17:38:07.305Z"
   },
   {
    "duration": 22,
    "start_time": "2021-09-27T17:38:08.270Z"
   },
   {
    "duration": 19,
    "start_time": "2021-09-27T17:38:08.294Z"
   },
   {
    "duration": 15,
    "start_time": "2021-09-27T17:38:08.315Z"
   },
   {
    "duration": 21,
    "start_time": "2021-09-27T17:38:08.332Z"
   },
   {
    "duration": 13,
    "start_time": "2021-09-27T17:38:08.354Z"
   },
   {
    "duration": 86,
    "start_time": "2021-09-27T17:40:11.518Z"
   },
   {
    "duration": 330,
    "start_time": "2021-09-27T17:40:24.312Z"
   },
   {
    "duration": 997,
    "start_time": "2021-09-27T17:40:43.842Z"
   },
   {
    "duration": 20,
    "start_time": "2021-09-27T17:40:44.841Z"
   },
   {
    "duration": 17,
    "start_time": "2021-09-27T17:40:44.863Z"
   },
   {
    "duration": 13,
    "start_time": "2021-09-27T17:40:44.882Z"
   },
   {
    "duration": 13,
    "start_time": "2021-09-27T17:40:44.897Z"
   },
   {
    "duration": 11,
    "start_time": "2021-09-27T17:40:44.912Z"
   },
   {
    "duration": 63,
    "start_time": "2021-09-27T17:40:44.924Z"
   },
   {
    "duration": 103,
    "start_time": "2021-09-27T17:44:17.818Z"
   },
   {
    "duration": 259,
    "start_time": "2021-09-27T17:46:18.553Z"
   },
   {
    "duration": 410,
    "start_time": "2021-09-27T17:46:29.065Z"
   },
   {
    "duration": 20,
    "start_time": "2021-09-27T17:46:29.477Z"
   },
   {
    "duration": 19,
    "start_time": "2021-09-27T17:46:29.499Z"
   },
   {
    "duration": 26,
    "start_time": "2021-09-27T17:46:29.520Z"
   },
   {
    "duration": 25,
    "start_time": "2021-09-27T17:46:29.548Z"
   },
   {
    "duration": 10,
    "start_time": "2021-09-27T17:46:29.575Z"
   },
   {
    "duration": 68,
    "start_time": "2021-09-27T17:46:29.586Z"
   },
   {
    "duration": 271,
    "start_time": "2021-09-27T17:46:44.310Z"
   },
   {
    "duration": 240,
    "start_time": "2021-09-27T17:46:59.508Z"
   },
   {
    "duration": 987,
    "start_time": "2021-09-27T17:47:14.169Z"
   },
   {
    "duration": 21,
    "start_time": "2021-09-27T17:47:15.158Z"
   },
   {
    "duration": 22,
    "start_time": "2021-09-27T17:47:15.180Z"
   },
   {
    "duration": 13,
    "start_time": "2021-09-27T17:47:15.204Z"
   },
   {
    "duration": 23,
    "start_time": "2021-09-27T17:47:15.219Z"
   },
   {
    "duration": 19,
    "start_time": "2021-09-27T17:47:15.244Z"
   },
   {
    "duration": 56,
    "start_time": "2021-09-27T17:47:15.265Z"
   },
   {
    "duration": 274,
    "start_time": "2021-09-27T17:47:28.987Z"
   },
   {
    "duration": 242,
    "start_time": "2021-09-27T17:54:15.731Z"
   },
   {
    "duration": 964,
    "start_time": "2021-09-27T17:54:36.088Z"
   },
   {
    "duration": 21,
    "start_time": "2021-09-27T17:54:37.054Z"
   },
   {
    "duration": 16,
    "start_time": "2021-09-27T17:54:37.077Z"
   },
   {
    "duration": 14,
    "start_time": "2021-09-27T17:54:37.094Z"
   },
   {
    "duration": 15,
    "start_time": "2021-09-27T17:54:37.110Z"
   },
   {
    "duration": 9,
    "start_time": "2021-09-27T17:54:37.150Z"
   },
   {
    "duration": 270,
    "start_time": "2021-09-27T17:54:37.161Z"
   },
   {
    "duration": 263,
    "start_time": "2021-09-27T18:29:36.114Z"
   },
   {
    "duration": 284,
    "start_time": "2021-09-27T18:32:02.211Z"
   },
   {
    "duration": 235,
    "start_time": "2021-09-27T18:47:03.665Z"
   },
   {
    "duration": 284,
    "start_time": "2021-09-27T18:47:11.549Z"
   },
   {
    "duration": 411,
    "start_time": "2021-09-27T18:56:21.282Z"
   },
   {
    "duration": 23,
    "start_time": "2021-09-27T18:56:21.695Z"
   },
   {
    "duration": 19,
    "start_time": "2021-09-27T18:56:21.720Z"
   },
   {
    "duration": 15,
    "start_time": "2021-09-27T18:56:21.741Z"
   },
   {
    "duration": 15,
    "start_time": "2021-09-27T18:56:21.757Z"
   },
   {
    "duration": 20,
    "start_time": "2021-09-27T18:56:21.774Z"
   },
   {
    "duration": 247,
    "start_time": "2021-09-27T18:56:21.796Z"
   },
   {
    "duration": 37,
    "start_time": "2021-09-27T19:17:05.308Z"
   },
   {
    "duration": 47,
    "start_time": "2021-09-27T19:17:29.033Z"
   },
   {
    "duration": 47,
    "start_time": "2021-09-27T19:17:38.676Z"
   },
   {
    "duration": 270,
    "start_time": "2021-09-27T19:19:20.525Z"
   },
   {
    "duration": 1057,
    "start_time": "2021-09-27T19:19:30.129Z"
   },
   {
    "duration": 23,
    "start_time": "2021-09-27T19:19:31.188Z"
   },
   {
    "duration": 20,
    "start_time": "2021-09-27T19:19:31.213Z"
   },
   {
    "duration": 15,
    "start_time": "2021-09-27T19:19:31.235Z"
   },
   {
    "duration": 16,
    "start_time": "2021-09-27T19:19:31.251Z"
   },
   {
    "duration": 13,
    "start_time": "2021-09-27T19:19:31.269Z"
   },
   {
    "duration": 60,
    "start_time": "2021-09-27T19:19:31.284Z"
   },
   {
    "duration": 252,
    "start_time": "2021-09-27T19:19:31.346Z"
   },
   {
    "duration": 476,
    "start_time": "2021-09-27T19:22:13.876Z"
   },
   {
    "duration": 19,
    "start_time": "2021-09-27T19:22:14.354Z"
   },
   {
    "duration": 17,
    "start_time": "2021-09-27T19:22:14.375Z"
   },
   {
    "duration": 15,
    "start_time": "2021-09-27T19:22:14.394Z"
   },
   {
    "duration": 8,
    "start_time": "2021-09-27T19:22:14.411Z"
   },
   {
    "duration": 35,
    "start_time": "2021-09-27T19:22:14.421Z"
   },
   {
    "duration": 416,
    "start_time": "2021-09-27T19:24:40.467Z"
   },
   {
    "duration": 20,
    "start_time": "2021-09-27T19:24:40.885Z"
   },
   {
    "duration": 17,
    "start_time": "2021-09-27T19:24:40.907Z"
   },
   {
    "duration": 14,
    "start_time": "2021-09-27T19:24:40.926Z"
   },
   {
    "duration": 7,
    "start_time": "2021-09-27T19:24:40.942Z"
   },
   {
    "duration": 11,
    "start_time": "2021-09-27T19:24:40.951Z"
   },
   {
    "duration": 23,
    "start_time": "2021-09-27T19:24:54.010Z"
   },
   {
    "duration": 22,
    "start_time": "2021-09-27T19:25:10.481Z"
   },
   {
    "duration": 35,
    "start_time": "2021-09-27T19:25:23.955Z"
   },
   {
    "duration": 19,
    "start_time": "2021-09-27T19:25:33.334Z"
   },
   {
    "duration": 18,
    "start_time": "2021-09-27T19:25:41.382Z"
   },
   {
    "duration": 7,
    "start_time": "2021-09-27T19:25:58.402Z"
   },
   {
    "duration": 10,
    "start_time": "2021-09-27T19:26:13.298Z"
   },
   {
    "duration": 10,
    "start_time": "2021-09-27T19:26:22.884Z"
   },
   {
    "duration": 14,
    "start_time": "2021-09-27T19:26:58.396Z"
   },
   {
    "duration": 19,
    "start_time": "2021-09-27T19:27:28.226Z"
   },
   {
    "duration": 20,
    "start_time": "2021-09-27T19:27:39.140Z"
   },
   {
    "duration": 401,
    "start_time": "2021-09-27T19:28:15.915Z"
   },
   {
    "duration": 26,
    "start_time": "2021-09-27T19:28:16.318Z"
   },
   {
    "duration": 24,
    "start_time": "2021-09-27T19:28:16.346Z"
   },
   {
    "duration": 20,
    "start_time": "2021-09-27T19:28:16.372Z"
   },
   {
    "duration": 7,
    "start_time": "2021-09-27T19:28:16.393Z"
   },
   {
    "duration": 15,
    "start_time": "2021-09-27T19:28:16.402Z"
   },
   {
    "duration": 12,
    "start_time": "2021-09-27T19:30:07.676Z"
   },
   {
    "duration": 129,
    "start_time": "2021-09-27T19:31:37.438Z"
   },
   {
    "duration": 144,
    "start_time": "2021-09-27T19:32:05.099Z"
   },
   {
    "duration": 125,
    "start_time": "2021-09-27T19:32:20.529Z"
   },
   {
    "duration": 19,
    "start_time": "2021-09-27T19:32:27.033Z"
   },
   {
    "duration": 89,
    "start_time": "2021-09-27T19:32:38.400Z"
   },
   {
    "duration": 154,
    "start_time": "2021-09-27T19:32:50.176Z"
   },
   {
    "duration": 129,
    "start_time": "2021-09-27T19:34:03.062Z"
   },
   {
    "duration": 128,
    "start_time": "2021-09-27T19:34:22.624Z"
   },
   {
    "duration": 128,
    "start_time": "2021-09-27T19:34:32.405Z"
   },
   {
    "duration": 136,
    "start_time": "2021-09-27T19:34:44.224Z"
   },
   {
    "duration": 1627,
    "start_time": "2021-09-30T19:44:56.930Z"
   },
   {
    "duration": 38,
    "start_time": "2021-09-30T19:44:58.560Z"
   },
   {
    "duration": 34,
    "start_time": "2021-09-30T19:44:58.603Z"
   },
   {
    "duration": 47,
    "start_time": "2021-09-30T19:44:58.639Z"
   },
   {
    "duration": 11,
    "start_time": "2021-09-30T19:44:58.689Z"
   },
   {
    "duration": 15,
    "start_time": "2021-09-30T19:44:58.702Z"
   },
   {
    "duration": 610,
    "start_time": "2021-09-30T20:31:37.533Z"
   },
   {
    "duration": 43,
    "start_time": "2021-09-30T20:31:38.146Z"
   },
   {
    "duration": 27,
    "start_time": "2021-09-30T20:31:38.193Z"
   },
   {
    "duration": 41,
    "start_time": "2021-09-30T20:31:38.223Z"
   },
   {
    "duration": 9,
    "start_time": "2021-09-30T20:31:38.267Z"
   },
   {
    "duration": 15,
    "start_time": "2021-09-30T20:31:38.278Z"
   },
   {
    "duration": 369,
    "start_time": "2021-09-30T20:33:11.645Z"
   },
   {
    "duration": 287,
    "start_time": "2021-09-30T20:33:52.525Z"
   },
   {
    "duration": 294,
    "start_time": "2021-09-30T20:38:18.156Z"
   },
   {
    "duration": 338,
    "start_time": "2021-09-30T20:39:27.538Z"
   },
   {
    "duration": 302,
    "start_time": "2021-09-30T20:39:34.727Z"
   },
   {
    "duration": 1196,
    "start_time": "2021-09-30T20:40:00.851Z"
   },
   {
    "duration": 228,
    "start_time": "2021-09-30T20:45:34.906Z"
   },
   {
    "duration": 63,
    "start_time": "2021-09-30T20:45:49.067Z"
   },
   {
    "duration": 56,
    "start_time": "2021-09-30T20:46:27.967Z"
   },
   {
    "duration": 28,
    "start_time": "2021-09-30T20:46:45.798Z"
   },
   {
    "duration": 40,
    "start_time": "2021-09-30T20:47:12.014Z"
   },
   {
    "duration": 75,
    "start_time": "2021-09-30T20:47:48.494Z"
   },
   {
    "duration": 14,
    "start_time": "2021-09-30T20:47:52.105Z"
   },
   {
    "duration": 181,
    "start_time": "2021-09-30T20:49:23.499Z"
   },
   {
    "duration": 55,
    "start_time": "2021-09-30T20:49:28.534Z"
   },
   {
    "duration": 174,
    "start_time": "2021-09-30T20:50:31.477Z"
   },
   {
    "duration": 121,
    "start_time": "2021-09-30T20:50:58.193Z"
   },
   {
    "duration": 18,
    "start_time": "2021-09-30T20:51:32.801Z"
   },
   {
    "duration": 28,
    "start_time": "2021-09-30T20:52:24.607Z"
   },
   {
    "duration": 33,
    "start_time": "2021-09-30T20:52:35.226Z"
   },
   {
    "duration": 9,
    "start_time": "2021-09-30T20:55:18.156Z"
   },
   {
    "duration": 723,
    "start_time": "2021-09-30T20:57:24.599Z"
   },
   {
    "duration": 208,
    "start_time": "2021-10-02T18:27:13.351Z"
   },
   {
    "duration": 1884,
    "start_time": "2021-10-02T18:27:23.040Z"
   },
   {
    "duration": 22,
    "start_time": "2021-10-02T18:27:24.926Z"
   },
   {
    "duration": 183,
    "start_time": "2021-10-02T18:27:24.950Z"
   },
   {
    "duration": 17,
    "start_time": "2021-10-02T18:27:25.135Z"
   },
   {
    "duration": 148,
    "start_time": "2021-10-02T18:27:25.154Z"
   },
   {
    "duration": 20,
    "start_time": "2021-10-02T18:27:25.304Z"
   },
   {
    "duration": 93,
    "start_time": "2021-10-02T18:27:25.326Z"
   },
   {
    "duration": 15,
    "start_time": "2021-10-02T18:27:25.422Z"
   },
   {
    "duration": 5,
    "start_time": "2021-10-02T18:27:25.440Z"
   },
   {
    "duration": 13,
    "start_time": "2021-10-02T18:27:25.448Z"
   },
   {
    "duration": 41,
    "start_time": "2021-10-02T18:27:25.463Z"
   },
   {
    "duration": 355,
    "start_time": "2021-10-02T18:27:25.506Z"
   },
   {
    "duration": 191,
    "start_time": "2021-10-02T18:27:25.863Z"
   },
   {
    "duration": 164,
    "start_time": "2021-10-02T18:28:55.265Z"
   },
   {
    "duration": 31,
    "start_time": "2021-10-02T18:30:11.335Z"
   },
   {
    "duration": 434,
    "start_time": "2021-10-02T18:33:38.612Z"
   },
   {
    "duration": 20,
    "start_time": "2021-10-02T18:33:39.048Z"
   },
   {
    "duration": 177,
    "start_time": "2021-10-02T18:33:39.071Z"
   },
   {
    "duration": 19,
    "start_time": "2021-10-02T18:33:39.250Z"
   },
   {
    "duration": 150,
    "start_time": "2021-10-02T18:33:39.271Z"
   },
   {
    "duration": 15,
    "start_time": "2021-10-02T18:33:39.423Z"
   },
   {
    "duration": 94,
    "start_time": "2021-10-02T18:33:39.440Z"
   },
   {
    "duration": 12,
    "start_time": "2021-10-02T18:33:39.536Z"
   },
   {
    "duration": 5,
    "start_time": "2021-10-02T18:33:39.551Z"
   },
   {
    "duration": 12,
    "start_time": "2021-10-02T18:33:39.558Z"
   },
   {
    "duration": 31,
    "start_time": "2021-10-02T18:33:39.572Z"
   },
   {
    "duration": 342,
    "start_time": "2021-10-02T18:33:39.605Z"
   },
   {
    "duration": 195,
    "start_time": "2021-10-02T18:33:39.949Z"
   },
   {
    "duration": 165,
    "start_time": "2021-10-02T18:33:40.146Z"
   },
   {
    "duration": 38,
    "start_time": "2021-10-02T18:33:40.313Z"
   },
   {
    "duration": 458,
    "start_time": "2021-10-02T18:39:46.783Z"
   },
   {
    "duration": 21,
    "start_time": "2021-10-02T18:39:47.243Z"
   },
   {
    "duration": 168,
    "start_time": "2021-10-02T18:39:47.266Z"
   },
   {
    "duration": 17,
    "start_time": "2021-10-02T18:39:47.436Z"
   },
   {
    "duration": 141,
    "start_time": "2021-10-02T18:39:47.455Z"
   },
   {
    "duration": 20,
    "start_time": "2021-10-02T18:39:47.597Z"
   },
   {
    "duration": 95,
    "start_time": "2021-10-02T18:39:47.619Z"
   },
   {
    "duration": 13,
    "start_time": "2021-10-02T18:39:47.717Z"
   },
   {
    "duration": 7,
    "start_time": "2021-10-02T18:39:47.733Z"
   },
   {
    "duration": 14,
    "start_time": "2021-10-02T18:39:47.742Z"
   },
   {
    "duration": 43,
    "start_time": "2021-10-02T18:39:47.757Z"
   },
   {
    "duration": 355,
    "start_time": "2021-10-02T18:39:47.802Z"
   },
   {
    "duration": 22,
    "start_time": "2021-10-02T18:39:48.158Z"
   },
   {
    "duration": 185,
    "start_time": "2021-10-02T18:39:48.182Z"
   },
   {
    "duration": 39,
    "start_time": "2021-10-02T18:39:48.368Z"
   },
   {
    "duration": 183,
    "start_time": "2021-10-02T18:39:48.409Z"
   },
   {
    "duration": 202,
    "start_time": "2021-10-02T18:39:48.594Z"
   },
   {
    "duration": 12,
    "start_time": "2021-10-02T18:39:48.785Z"
   },
   {
    "duration": 11,
    "start_time": "2021-10-02T18:39:48.787Z"
   },
   {
    "duration": 183,
    "start_time": "2021-10-02T18:40:12.596Z"
   },
   {
    "duration": 411,
    "start_time": "2021-10-02T18:40:18.926Z"
   },
   {
    "duration": 18,
    "start_time": "2021-10-02T18:40:19.339Z"
   },
   {
    "duration": 149,
    "start_time": "2021-10-02T18:40:19.359Z"
   },
   {
    "duration": 21,
    "start_time": "2021-10-02T18:40:19.510Z"
   },
   {
    "duration": 129,
    "start_time": "2021-10-02T18:40:19.533Z"
   },
   {
    "duration": 20,
    "start_time": "2021-10-02T18:40:19.664Z"
   },
   {
    "duration": 93,
    "start_time": "2021-10-02T18:40:19.686Z"
   },
   {
    "duration": 20,
    "start_time": "2021-10-02T18:40:19.781Z"
   },
   {
    "duration": 8,
    "start_time": "2021-10-02T18:40:19.804Z"
   },
   {
    "duration": 18,
    "start_time": "2021-10-02T18:40:19.815Z"
   },
   {
    "duration": 8,
    "start_time": "2021-10-02T18:40:19.835Z"
   },
   {
    "duration": 423,
    "start_time": "2021-10-02T18:40:19.844Z"
   },
   {
    "duration": 32,
    "start_time": "2021-10-02T18:40:20.269Z"
   },
   {
    "duration": 197,
    "start_time": "2021-10-02T18:40:20.303Z"
   },
   {
    "duration": 33,
    "start_time": "2021-10-02T18:40:20.502Z"
   },
   {
    "duration": 181,
    "start_time": "2021-10-02T18:40:20.536Z"
   },
   {
    "duration": 31,
    "start_time": "2021-10-02T18:40:20.721Z"
   },
   {
    "duration": 12,
    "start_time": "2021-10-02T18:40:20.754Z"
   },
   {
    "duration": 410,
    "start_time": "2021-10-02T18:41:09.031Z"
   },
   {
    "duration": 19,
    "start_time": "2021-10-02T18:41:09.443Z"
   },
   {
    "duration": 163,
    "start_time": "2021-10-02T18:41:09.464Z"
   },
   {
    "duration": 17,
    "start_time": "2021-10-02T18:41:09.629Z"
   },
   {
    "duration": 135,
    "start_time": "2021-10-02T18:41:09.647Z"
   },
   {
    "duration": 19,
    "start_time": "2021-10-02T18:41:09.783Z"
   },
   {
    "duration": 85,
    "start_time": "2021-10-02T18:41:09.803Z"
   },
   {
    "duration": 21,
    "start_time": "2021-10-02T18:41:09.890Z"
   },
   {
    "duration": 15,
    "start_time": "2021-10-02T18:41:09.914Z"
   },
   {
    "duration": 14,
    "start_time": "2021-10-02T18:41:09.932Z"
   },
   {
    "duration": 9,
    "start_time": "2021-10-02T18:41:09.948Z"
   },
   {
    "duration": 366,
    "start_time": "2021-10-02T18:41:09.959Z"
   },
   {
    "duration": 22,
    "start_time": "2021-10-02T18:41:10.327Z"
   },
   {
    "duration": 207,
    "start_time": "2021-10-02T18:41:10.350Z"
   },
   {
    "duration": 26,
    "start_time": "2021-10-02T18:41:10.560Z"
   },
   {
    "duration": 184,
    "start_time": "2021-10-02T18:41:10.600Z"
   },
   {
    "duration": 46,
    "start_time": "2021-10-02T18:41:10.786Z"
   },
   {
    "duration": 12,
    "start_time": "2021-10-02T18:41:10.834Z"
   },
   {
    "duration": 171,
    "start_time": "2021-10-02T18:44:04.728Z"
   },
   {
    "duration": 89,
    "start_time": "2021-10-02T18:44:13.319Z"
   },
   {
    "duration": 62,
    "start_time": "2021-10-02T18:44:26.093Z"
   },
   {
    "duration": 44,
    "start_time": "2021-10-02T18:44:33.064Z"
   },
   {
    "duration": 9,
    "start_time": "2021-10-02T18:44:42.802Z"
   },
   {
    "duration": 182,
    "start_time": "2021-10-02T18:45:24.140Z"
   },
   {
    "duration": 24,
    "start_time": "2021-10-02T18:45:37.057Z"
   },
   {
    "duration": 20,
    "start_time": "2021-10-02T18:45:46.420Z"
   },
   {
    "duration": 17,
    "start_time": "2021-10-02T18:45:57.366Z"
   },
   {
    "duration": 6,
    "start_time": "2021-10-02T18:46:04.344Z"
   },
   {
    "duration": 20,
    "start_time": "2021-10-02T18:46:14.311Z"
   },
   {
    "duration": 184,
    "start_time": "2021-10-02T18:48:24.457Z"
   },
   {
    "duration": 11,
    "start_time": "2021-10-02T18:48:31.340Z"
   },
   {
    "duration": 17,
    "start_time": "2021-10-02T18:48:42.275Z"
   },
   {
    "duration": 417,
    "start_time": "2021-10-02T18:50:31.318Z"
   },
   {
    "duration": 21,
    "start_time": "2021-10-02T18:50:31.738Z"
   },
   {
    "duration": 163,
    "start_time": "2021-10-02T18:50:31.762Z"
   },
   {
    "duration": 19,
    "start_time": "2021-10-02T18:50:31.927Z"
   },
   {
    "duration": 151,
    "start_time": "2021-10-02T18:50:31.948Z"
   },
   {
    "duration": 23,
    "start_time": "2021-10-02T18:50:32.102Z"
   },
   {
    "duration": 15,
    "start_time": "2021-10-02T18:50:32.127Z"
   },
   {
    "duration": 105,
    "start_time": "2021-10-02T18:50:32.143Z"
   },
   {
    "duration": 11,
    "start_time": "2021-10-02T18:50:32.253Z"
   },
   {
    "duration": 8,
    "start_time": "2021-10-02T18:50:32.267Z"
   },
   {
    "duration": 34,
    "start_time": "2021-10-02T18:50:32.277Z"
   },
   {
    "duration": 9,
    "start_time": "2021-10-02T18:50:32.314Z"
   },
   {
    "duration": 380,
    "start_time": "2021-10-02T18:50:32.325Z"
   },
   {
    "duration": 26,
    "start_time": "2021-10-02T18:50:32.707Z"
   },
   {
    "duration": 188,
    "start_time": "2021-10-02T18:50:32.735Z"
   },
   {
    "duration": 19,
    "start_time": "2021-10-02T18:50:32.926Z"
   },
   {
    "duration": 182,
    "start_time": "2021-10-02T18:50:32.947Z"
   },
   {
    "duration": 31,
    "start_time": "2021-10-02T18:50:33.131Z"
   },
   {
    "duration": 15,
    "start_time": "2021-10-02T18:50:33.164Z"
   },
   {
    "duration": 117,
    "start_time": "2021-10-02T18:50:33.181Z"
   },
   {
    "duration": 49,
    "start_time": "2021-10-02T18:50:33.300Z"
   },
   {
    "duration": 63,
    "start_time": "2021-10-02T18:50:33.351Z"
   },
   {
    "duration": 8,
    "start_time": "2021-10-02T18:50:33.416Z"
   },
   {
    "duration": 21,
    "start_time": "2021-10-02T18:50:33.426Z"
   },
   {
    "duration": 16,
    "start_time": "2021-10-02T18:50:33.449Z"
   },
   {
    "duration": 36,
    "start_time": "2021-10-02T18:50:33.467Z"
   },
   {
    "duration": 21,
    "start_time": "2021-10-02T18:50:33.507Z"
   },
   {
    "duration": 179,
    "start_time": "2021-10-02T18:52:41.172Z"
   },
   {
    "duration": 174,
    "start_time": "2021-10-02T18:52:49.598Z"
   },
   {
    "duration": 9,
    "start_time": "2021-10-02T18:52:56.301Z"
   },
   {
    "duration": 8,
    "start_time": "2021-10-02T18:53:07.454Z"
   },
   {
    "duration": 8,
    "start_time": "2021-10-02T18:53:46.008Z"
   },
   {
    "duration": 8,
    "start_time": "2021-10-02T18:53:59.376Z"
   },
   {
    "duration": 10,
    "start_time": "2021-10-02T18:54:05.470Z"
   },
   {
    "duration": 9,
    "start_time": "2021-10-02T18:54:11.922Z"
   },
   {
    "duration": 11,
    "start_time": "2021-10-02T18:58:25.753Z"
   },
   {
    "duration": 8,
    "start_time": "2021-10-02T19:01:20.690Z"
   },
   {
    "duration": 10,
    "start_time": "2021-10-02T19:01:27.385Z"
   },
   {
    "duration": 400,
    "start_time": "2021-10-02T19:01:40.832Z"
   },
   {
    "duration": 19,
    "start_time": "2021-10-02T19:01:41.233Z"
   },
   {
    "duration": 153,
    "start_time": "2021-10-02T19:01:41.255Z"
   },
   {
    "duration": 20,
    "start_time": "2021-10-02T19:01:41.410Z"
   },
   {
    "duration": 153,
    "start_time": "2021-10-02T19:01:41.431Z"
   },
   {
    "duration": 25,
    "start_time": "2021-10-02T19:01:41.586Z"
   },
   {
    "duration": 21,
    "start_time": "2021-10-02T19:01:41.613Z"
   },
   {
    "duration": 107,
    "start_time": "2021-10-02T19:01:41.637Z"
   },
   {
    "duration": 14,
    "start_time": "2021-10-02T19:01:41.746Z"
   },
   {
    "duration": 10,
    "start_time": "2021-10-02T19:01:41.761Z"
   },
   {
    "duration": 10,
    "start_time": "2021-10-02T19:01:41.772Z"
   },
   {
    "duration": 8,
    "start_time": "2021-10-02T19:01:41.800Z"
   },
   {
    "duration": 363,
    "start_time": "2021-10-02T19:01:41.810Z"
   },
   {
    "duration": 37,
    "start_time": "2021-10-02T19:01:42.175Z"
   },
   {
    "duration": 176,
    "start_time": "2021-10-02T19:01:42.214Z"
   },
   {
    "duration": 29,
    "start_time": "2021-10-02T19:01:42.392Z"
   },
   {
    "duration": 169,
    "start_time": "2021-10-02T19:01:42.423Z"
   },
   {
    "duration": 39,
    "start_time": "2021-10-02T19:01:42.593Z"
   },
   {
    "duration": 13,
    "start_time": "2021-10-02T19:01:42.633Z"
   },
   {
    "duration": 111,
    "start_time": "2021-10-02T19:01:42.647Z"
   },
   {
    "duration": 48,
    "start_time": "2021-10-02T19:01:42.760Z"
   },
   {
    "duration": 46,
    "start_time": "2021-10-02T19:01:42.809Z"
   },
   {
    "duration": 9,
    "start_time": "2021-10-02T19:01:42.859Z"
   },
   {
    "duration": 49,
    "start_time": "2021-10-02T19:01:42.869Z"
   },
   {
    "duration": 17,
    "start_time": "2021-10-02T19:01:42.920Z"
   },
   {
    "duration": 5,
    "start_time": "2021-10-02T19:01:42.939Z"
   },
   {
    "duration": 18,
    "start_time": "2021-10-02T19:01:42.946Z"
   },
   {
    "duration": 6,
    "start_time": "2021-10-02T19:01:42.966Z"
   },
   {
    "duration": 11,
    "start_time": "2021-10-02T19:01:42.999Z"
   },
   {
    "duration": 2383,
    "start_time": "2021-10-02T19:01:43.012Z"
   },
   {
    "duration": 12,
    "start_time": "2021-10-02T19:01:45.399Z"
   },
   {
    "duration": 405,
    "start_time": "2021-10-02T19:04:29.932Z"
   },
   {
    "duration": 20,
    "start_time": "2021-10-02T19:04:30.339Z"
   },
   {
    "duration": 164,
    "start_time": "2021-10-02T19:04:30.361Z"
   },
   {
    "duration": 16,
    "start_time": "2021-10-02T19:04:30.527Z"
   },
   {
    "duration": 148,
    "start_time": "2021-10-02T19:04:30.545Z"
   },
   {
    "duration": 24,
    "start_time": "2021-10-02T19:04:30.695Z"
   },
   {
    "duration": 23,
    "start_time": "2021-10-02T19:04:30.721Z"
   },
   {
    "duration": 88,
    "start_time": "2021-10-02T19:04:30.747Z"
   },
   {
    "duration": 14,
    "start_time": "2021-10-02T19:04:30.837Z"
   },
   {
    "duration": 7,
    "start_time": "2021-10-02T19:04:30.853Z"
   },
   {
    "duration": 13,
    "start_time": "2021-10-02T19:04:30.862Z"
   },
   {
    "duration": 28,
    "start_time": "2021-10-02T19:04:30.876Z"
   },
   {
    "duration": 344,
    "start_time": "2021-10-02T19:04:30.905Z"
   },
   {
    "duration": 21,
    "start_time": "2021-10-02T19:04:31.251Z"
   },
   {
    "duration": 171,
    "start_time": "2021-10-02T19:04:31.273Z"
   },
   {
    "duration": 19,
    "start_time": "2021-10-02T19:04:31.445Z"
   },
   {
    "duration": 167,
    "start_time": "2021-10-02T19:04:31.465Z"
   },
   {
    "duration": 35,
    "start_time": "2021-10-02T19:04:31.634Z"
   },
   {
    "duration": 35,
    "start_time": "2021-10-02T19:04:31.670Z"
   },
   {
    "duration": 108,
    "start_time": "2021-10-02T19:04:31.707Z"
   },
   {
    "duration": 40,
    "start_time": "2021-10-02T19:04:31.817Z"
   },
   {
    "duration": 59,
    "start_time": "2021-10-02T19:04:31.858Z"
   },
   {
    "duration": 9,
    "start_time": "2021-10-02T19:04:31.920Z"
   },
   {
    "duration": 37,
    "start_time": "2021-10-02T19:04:31.931Z"
   },
   {
    "duration": 31,
    "start_time": "2021-10-02T19:04:31.970Z"
   },
   {
    "duration": 8,
    "start_time": "2021-10-02T19:04:32.003Z"
   },
   {
    "duration": 27,
    "start_time": "2021-10-02T19:04:32.012Z"
   },
   {
    "duration": 13,
    "start_time": "2021-10-02T19:04:32.041Z"
   },
   {
    "duration": 17,
    "start_time": "2021-10-02T19:04:32.056Z"
   },
   {
    "duration": 27,
    "start_time": "2021-10-02T19:04:32.075Z"
   },
   {
    "duration": 11,
    "start_time": "2021-10-02T19:04:32.106Z"
   },
   {
    "duration": 180,
    "start_time": "2021-10-02T19:12:36.226Z"
   },
   {
    "duration": 229,
    "start_time": "2021-10-02T19:13:36.798Z"
   },
   {
    "duration": 185,
    "start_time": "2021-10-02T19:13:47.395Z"
   },
   {
    "duration": 179,
    "start_time": "2021-10-02T19:13:51.688Z"
   },
   {
    "duration": 184,
    "start_time": "2021-10-02T19:19:27.037Z"
   },
   {
    "duration": 174,
    "start_time": "2021-10-02T19:20:04.424Z"
   },
   {
    "duration": 60,
    "start_time": "2021-10-02T19:21:02.988Z"
   },
   {
    "duration": 52,
    "start_time": "2021-10-02T19:21:16.923Z"
   },
   {
    "duration": 15,
    "start_time": "2021-10-02T19:21:23.899Z"
   },
   {
    "duration": 178,
    "start_time": "2021-10-02T19:21:45.821Z"
   },
   {
    "duration": 181,
    "start_time": "2021-10-02T19:23:14.651Z"
   },
   {
    "duration": 169,
    "start_time": "2021-10-02T19:23:22.860Z"
   },
   {
    "duration": 191,
    "start_time": "2021-10-02T19:24:29.876Z"
   },
   {
    "duration": 180,
    "start_time": "2021-10-02T19:24:35.673Z"
   },
   {
    "duration": 8,
    "start_time": "2021-10-02T19:25:25.261Z"
   },
   {
    "duration": 8,
    "start_time": "2021-10-02T19:25:58.436Z"
   },
   {
    "duration": 59,
    "start_time": "2021-10-02T19:26:12.116Z"
   },
   {
    "duration": 12,
    "start_time": "2021-10-02T19:26:12.703Z"
   },
   {
    "duration": 8,
    "start_time": "2021-10-02T19:26:18.457Z"
   },
   {
    "duration": 66,
    "start_time": "2021-10-02T19:26:44.070Z"
   },
   {
    "duration": 9,
    "start_time": "2021-10-02T19:26:44.716Z"
   },
   {
    "duration": 56,
    "start_time": "2021-10-02T19:27:20.423Z"
   },
   {
    "duration": 50,
    "start_time": "2021-10-02T19:28:08.281Z"
   },
   {
    "duration": 47,
    "start_time": "2021-10-02T19:28:40.211Z"
   },
   {
    "duration": 4367,
    "start_time": "2021-10-02T19:30:52.371Z"
   },
   {
    "duration": 197,
    "start_time": "2021-10-02T19:31:26.019Z"
   },
   {
    "duration": 389,
    "start_time": "2021-10-02T19:32:21.140Z"
   },
   {
    "duration": 20,
    "start_time": "2021-10-02T19:32:21.531Z"
   },
   {
    "duration": 149,
    "start_time": "2021-10-02T19:32:21.553Z"
   },
   {
    "duration": 18,
    "start_time": "2021-10-02T19:32:21.704Z"
   },
   {
    "duration": 141,
    "start_time": "2021-10-02T19:32:21.723Z"
   },
   {
    "duration": 16,
    "start_time": "2021-10-02T19:32:21.866Z"
   },
   {
    "duration": 22,
    "start_time": "2021-10-02T19:32:21.884Z"
   },
   {
    "duration": 103,
    "start_time": "2021-10-02T19:32:21.909Z"
   },
   {
    "duration": 11,
    "start_time": "2021-10-02T19:32:22.014Z"
   },
   {
    "duration": 8,
    "start_time": "2021-10-02T19:32:22.027Z"
   },
   {
    "duration": 10,
    "start_time": "2021-10-02T19:32:22.037Z"
   },
   {
    "duration": 10,
    "start_time": "2021-10-02T19:32:22.049Z"
   },
   {
    "duration": 343,
    "start_time": "2021-10-02T19:32:22.061Z"
   },
   {
    "duration": 22,
    "start_time": "2021-10-02T19:32:22.406Z"
   },
   {
    "duration": 188,
    "start_time": "2021-10-02T19:32:22.429Z"
   },
   {
    "duration": 19,
    "start_time": "2021-10-02T19:32:22.619Z"
   },
   {
    "duration": 160,
    "start_time": "2021-10-02T19:32:22.640Z"
   },
   {
    "duration": 30,
    "start_time": "2021-10-02T19:32:22.802Z"
   },
   {
    "duration": 12,
    "start_time": "2021-10-02T19:32:22.833Z"
   },
   {
    "duration": 113,
    "start_time": "2021-10-02T19:32:22.847Z"
   },
   {
    "duration": 49,
    "start_time": "2021-10-02T19:32:22.962Z"
   },
   {
    "duration": 41,
    "start_time": "2021-10-02T19:32:23.013Z"
   },
   {
    "duration": 7,
    "start_time": "2021-10-02T19:32:23.059Z"
   },
   {
    "duration": 45,
    "start_time": "2021-10-02T19:32:23.068Z"
   },
   {
    "duration": 17,
    "start_time": "2021-10-02T19:32:23.115Z"
   },
   {
    "duration": 6,
    "start_time": "2021-10-02T19:32:23.134Z"
   },
   {
    "duration": 15,
    "start_time": "2021-10-02T19:32:23.142Z"
   },
   {
    "duration": 5,
    "start_time": "2021-10-02T19:32:23.159Z"
   },
   {
    "duration": 53,
    "start_time": "2021-10-02T19:32:23.166Z"
   },
   {
    "duration": 9,
    "start_time": "2021-10-02T19:32:23.221Z"
   },
   {
    "duration": 70,
    "start_time": "2021-10-02T19:32:23.231Z"
   },
   {
    "duration": 45,
    "start_time": "2021-10-02T19:32:23.302Z"
   },
   {
    "duration": 184,
    "start_time": "2021-10-02T19:32:23.349Z"
   },
   {
    "duration": 55,
    "start_time": "2021-10-02T19:32:23.479Z"
   },
   {
    "duration": 28,
    "start_time": "2021-10-02T19:32:57.643Z"
   },
   {
    "duration": 35,
    "start_time": "2021-10-02T19:33:09.502Z"
   },
   {
    "duration": 30,
    "start_time": "2021-10-02T19:34:43.623Z"
   },
   {
    "duration": 35,
    "start_time": "2021-10-02T19:35:49.934Z"
   },
   {
    "duration": 57,
    "start_time": "2021-10-02T19:35:53.053Z"
   },
   {
    "duration": 169,
    "start_time": "2021-10-02T19:36:04.022Z"
   },
   {
    "duration": 32,
    "start_time": "2021-10-02T19:36:10.728Z"
   },
   {
    "duration": 434,
    "start_time": "2021-10-02T19:40:09.713Z"
   },
   {
    "duration": 22,
    "start_time": "2021-10-02T19:40:10.149Z"
   },
   {
    "duration": 159,
    "start_time": "2021-10-02T19:40:10.174Z"
   },
   {
    "duration": 18,
    "start_time": "2021-10-02T19:40:10.335Z"
   },
   {
    "duration": 158,
    "start_time": "2021-10-02T19:40:10.355Z"
   },
   {
    "duration": 20,
    "start_time": "2021-10-02T19:40:10.516Z"
   },
   {
    "duration": 22,
    "start_time": "2021-10-02T19:40:10.537Z"
   },
   {
    "duration": 106,
    "start_time": "2021-10-02T19:40:10.561Z"
   },
   {
    "duration": 12,
    "start_time": "2021-10-02T19:40:10.670Z"
   },
   {
    "duration": 7,
    "start_time": "2021-10-02T19:40:10.700Z"
   },
   {
    "duration": 34,
    "start_time": "2021-10-02T19:40:10.709Z"
   },
   {
    "duration": 22,
    "start_time": "2021-10-02T19:40:10.744Z"
   },
   {
    "duration": 360,
    "start_time": "2021-10-02T19:40:10.768Z"
   },
   {
    "duration": 23,
    "start_time": "2021-10-02T19:40:11.130Z"
   },
   {
    "duration": 224,
    "start_time": "2021-10-02T19:40:11.155Z"
   },
   {
    "duration": 34,
    "start_time": "2021-10-02T19:40:11.382Z"
   },
   {
    "duration": 179,
    "start_time": "2021-10-02T19:40:11.419Z"
   },
   {
    "duration": 39,
    "start_time": "2021-10-02T19:40:11.600Z"
   },
   {
    "duration": 14,
    "start_time": "2021-10-02T19:40:11.641Z"
   },
   {
    "duration": 128,
    "start_time": "2021-10-02T19:40:11.657Z"
   },
   {
    "duration": 51,
    "start_time": "2021-10-02T19:40:11.786Z"
   },
   {
    "duration": 39,
    "start_time": "2021-10-02T19:40:11.839Z"
   },
   {
    "duration": 26,
    "start_time": "2021-10-02T19:40:11.879Z"
   },
   {
    "duration": 27,
    "start_time": "2021-10-02T19:40:11.908Z"
   },
   {
    "duration": 16,
    "start_time": "2021-10-02T19:40:11.937Z"
   },
   {
    "duration": 19,
    "start_time": "2021-10-02T19:40:11.955Z"
   },
   {
    "duration": 37,
    "start_time": "2021-10-02T19:40:11.977Z"
   },
   {
    "duration": 23,
    "start_time": "2021-10-02T19:40:12.016Z"
   },
   {
    "duration": 26,
    "start_time": "2021-10-02T19:40:12.041Z"
   },
   {
    "duration": 9,
    "start_time": "2021-10-02T19:40:12.068Z"
   },
   {
    "duration": 68,
    "start_time": "2021-10-02T19:40:12.079Z"
   },
   {
    "duration": 54,
    "start_time": "2021-10-02T19:40:12.149Z"
   },
   {
    "duration": 32,
    "start_time": "2021-10-02T19:40:12.205Z"
   },
   {
    "duration": 34,
    "start_time": "2021-10-02T19:40:12.239Z"
   },
   {
    "duration": 57,
    "start_time": "2021-10-02T19:40:12.275Z"
   },
   {
    "duration": 36,
    "start_time": "2021-10-02T19:40:12.334Z"
   },
   {
    "duration": 434,
    "start_time": "2021-10-02T19:40:30.789Z"
   },
   {
    "duration": 19,
    "start_time": "2021-10-02T19:40:31.225Z"
   },
   {
    "duration": 153,
    "start_time": "2021-10-02T19:40:31.246Z"
   },
   {
    "duration": 22,
    "start_time": "2021-10-02T19:40:31.402Z"
   },
   {
    "duration": 147,
    "start_time": "2021-10-02T19:40:31.427Z"
   },
   {
    "duration": 27,
    "start_time": "2021-10-02T19:40:31.577Z"
   },
   {
    "duration": 20,
    "start_time": "2021-10-02T19:40:31.607Z"
   },
   {
    "duration": 115,
    "start_time": "2021-10-02T19:40:31.630Z"
   },
   {
    "duration": 12,
    "start_time": "2021-10-02T19:40:31.747Z"
   },
   {
    "duration": 19,
    "start_time": "2021-10-02T19:40:31.761Z"
   },
   {
    "duration": 22,
    "start_time": "2021-10-02T19:40:31.782Z"
   },
   {
    "duration": 29,
    "start_time": "2021-10-02T19:40:31.806Z"
   },
   {
    "duration": 371,
    "start_time": "2021-10-02T19:40:31.837Z"
   },
   {
    "duration": 29,
    "start_time": "2021-10-02T19:40:32.211Z"
   },
   {
    "duration": 194,
    "start_time": "2021-10-02T19:40:32.241Z"
   },
   {
    "duration": 19,
    "start_time": "2021-10-02T19:40:32.437Z"
   },
   {
    "duration": 182,
    "start_time": "2021-10-02T19:40:32.457Z"
   },
   {
    "duration": 30,
    "start_time": "2021-10-02T19:40:32.640Z"
   },
   {
    "duration": 29,
    "start_time": "2021-10-02T19:40:32.672Z"
   },
   {
    "duration": 113,
    "start_time": "2021-10-02T19:40:32.703Z"
   },
   {
    "duration": 39,
    "start_time": "2021-10-02T19:40:32.819Z"
   },
   {
    "duration": 54,
    "start_time": "2021-10-02T19:40:32.860Z"
   },
   {
    "duration": 9,
    "start_time": "2021-10-02T19:40:32.916Z"
   },
   {
    "duration": 31,
    "start_time": "2021-10-02T19:40:32.927Z"
   },
   {
    "duration": 15,
    "start_time": "2021-10-02T19:40:32.960Z"
   },
   {
    "duration": 8,
    "start_time": "2021-10-02T19:40:33.000Z"
   },
   {
    "duration": 19,
    "start_time": "2021-10-02T19:40:33.013Z"
   },
   {
    "duration": 8,
    "start_time": "2021-10-02T19:40:33.034Z"
   },
   {
    "duration": 37,
    "start_time": "2021-10-02T19:40:33.044Z"
   },
   {
    "duration": 74,
    "start_time": "2021-10-02T19:40:33.083Z"
   },
   {
    "duration": 67,
    "start_time": "2021-10-02T19:40:33.158Z"
   },
   {
    "duration": 25,
    "start_time": "2021-10-02T19:40:33.226Z"
   },
   {
    "duration": 50,
    "start_time": "2021-10-02T19:40:33.253Z"
   },
   {
    "duration": 33,
    "start_time": "2021-10-02T19:40:33.305Z"
   },
   {
    "duration": 34,
    "start_time": "2021-10-02T19:40:33.340Z"
   },
   {
    "duration": 414,
    "start_time": "2021-10-02T19:41:37.053Z"
   },
   {
    "duration": 20,
    "start_time": "2021-10-02T19:41:37.469Z"
   },
   {
    "duration": 156,
    "start_time": "2021-10-02T19:41:37.491Z"
   },
   {
    "duration": 18,
    "start_time": "2021-10-02T19:41:37.649Z"
   },
   {
    "duration": 153,
    "start_time": "2021-10-02T19:41:37.669Z"
   },
   {
    "duration": 18,
    "start_time": "2021-10-02T19:41:37.824Z"
   },
   {
    "duration": 15,
    "start_time": "2021-10-02T19:41:37.844Z"
   },
   {
    "duration": 123,
    "start_time": "2021-10-02T19:41:37.861Z"
   },
   {
    "duration": 24,
    "start_time": "2021-10-02T19:41:37.987Z"
   },
   {
    "duration": 8,
    "start_time": "2021-10-02T19:41:38.013Z"
   },
   {
    "duration": 15,
    "start_time": "2021-10-02T19:41:38.023Z"
   },
   {
    "duration": 7,
    "start_time": "2021-10-02T19:41:38.039Z"
   },
   {
    "duration": 390,
    "start_time": "2021-10-02T19:41:38.048Z"
   },
   {
    "duration": 21,
    "start_time": "2021-10-02T19:41:38.439Z"
   },
   {
    "duration": 191,
    "start_time": "2021-10-02T19:41:38.461Z"
   },
   {
    "duration": 20,
    "start_time": "2021-10-02T19:41:38.653Z"
   },
   {
    "duration": 162,
    "start_time": "2021-10-02T19:41:38.674Z"
   },
   {
    "duration": 33,
    "start_time": "2021-10-02T19:41:38.837Z"
   },
   {
    "duration": 29,
    "start_time": "2021-10-02T19:41:38.872Z"
   },
   {
    "duration": 107,
    "start_time": "2021-10-02T19:41:38.904Z"
   },
   {
    "duration": 43,
    "start_time": "2021-10-02T19:41:39.013Z"
   },
   {
    "duration": 64,
    "start_time": "2021-10-02T19:41:39.057Z"
   },
   {
    "duration": 7,
    "start_time": "2021-10-02T19:41:39.122Z"
   },
   {
    "duration": 31,
    "start_time": "2021-10-02T19:41:39.131Z"
   },
   {
    "duration": 35,
    "start_time": "2021-10-02T19:41:39.164Z"
   },
   {
    "duration": 7,
    "start_time": "2021-10-02T19:41:39.201Z"
   },
   {
    "duration": 20,
    "start_time": "2021-10-02T19:41:39.212Z"
   },
   {
    "duration": 9,
    "start_time": "2021-10-02T19:41:39.234Z"
   },
   {
    "duration": 55,
    "start_time": "2021-10-02T19:41:39.245Z"
   },
   {
    "duration": 60,
    "start_time": "2021-10-02T19:41:39.303Z"
   },
   {
    "duration": 75,
    "start_time": "2021-10-02T19:41:39.365Z"
   },
   {
    "duration": 26,
    "start_time": "2021-10-02T19:41:39.442Z"
   },
   {
    "duration": 51,
    "start_time": "2021-10-02T19:41:39.470Z"
   },
   {
    "duration": 31,
    "start_time": "2021-10-02T19:41:39.523Z"
   },
   {
    "duration": 55,
    "start_time": "2021-10-02T19:41:39.556Z"
   },
   {
    "duration": 63,
    "start_time": "2021-10-02T19:43:13.822Z"
   },
   {
    "duration": 113,
    "start_time": "2021-10-02T19:43:38.257Z"
   },
   {
    "duration": 85,
    "start_time": "2021-10-02T19:44:50.057Z"
   },
   {
    "duration": 64,
    "start_time": "2021-10-02T19:45:14.985Z"
   },
   {
    "duration": 3,
    "start_time": "2021-10-02T19:45:47.916Z"
   },
   {
    "duration": 17,
    "start_time": "2021-10-02T19:46:19.214Z"
   },
   {
    "duration": 189,
    "start_time": "2021-10-02T19:46:31.093Z"
   },
   {
    "duration": 212,
    "start_time": "2021-10-02T20:46:47.111Z"
   },
   {
    "duration": 210,
    "start_time": "2021-10-02T20:47:14.186Z"
   },
   {
    "duration": 211,
    "start_time": "2021-10-02T20:47:42.306Z"
   },
   {
    "duration": 32,
    "start_time": "2021-10-02T20:48:09.275Z"
   },
   {
    "duration": 44,
    "start_time": "2021-10-02T20:48:26.297Z"
   },
   {
    "duration": 207,
    "start_time": "2021-10-02T20:49:27.121Z"
   },
   {
    "duration": 218,
    "start_time": "2021-10-02T20:49:45.067Z"
   },
   {
    "duration": 202,
    "start_time": "2021-10-02T20:50:18.383Z"
   },
   {
    "duration": 526,
    "start_time": "2021-10-02T20:50:45.043Z"
   },
   {
    "duration": 40,
    "start_time": "2021-10-02T20:51:14.800Z"
   },
   {
    "duration": 180,
    "start_time": "2021-10-02T20:52:48.381Z"
   },
   {
    "duration": 26,
    "start_time": "2021-10-02T20:52:56.810Z"
   },
   {
    "duration": 39,
    "start_time": "2021-10-02T20:55:27.351Z"
   },
   {
    "duration": 28,
    "start_time": "2021-10-02T20:56:04.760Z"
   },
   {
    "duration": 27,
    "start_time": "2021-10-02T20:56:31.298Z"
   },
   {
    "duration": 25,
    "start_time": "2021-10-02T20:58:06.447Z"
   },
   {
    "duration": 35,
    "start_time": "2021-10-02T20:58:35.074Z"
   },
   {
    "duration": 9,
    "start_time": "2021-10-02T21:01:19.596Z"
   },
   {
    "duration": 21,
    "start_time": "2021-10-02T21:01:25.638Z"
   },
   {
    "duration": 21,
    "start_time": "2021-10-02T21:02:05.318Z"
   },
   {
    "duration": 11,
    "start_time": "2021-10-02T21:02:55.794Z"
   },
   {
    "duration": 44,
    "start_time": "2021-10-02T21:03:02.041Z"
   },
   {
    "duration": 207,
    "start_time": "2021-10-02T21:03:51.842Z"
   },
   {
    "duration": 420,
    "start_time": "2021-10-02T21:05:31.610Z"
   },
   {
    "duration": 19,
    "start_time": "2021-10-02T21:05:32.032Z"
   },
   {
    "duration": 149,
    "start_time": "2021-10-02T21:05:32.053Z"
   },
   {
    "duration": 28,
    "start_time": "2021-10-02T21:05:32.207Z"
   },
   {
    "duration": 142,
    "start_time": "2021-10-02T21:05:32.237Z"
   },
   {
    "duration": 22,
    "start_time": "2021-10-02T21:05:32.381Z"
   },
   {
    "duration": 19,
    "start_time": "2021-10-02T21:05:32.406Z"
   },
   {
    "duration": 113,
    "start_time": "2021-10-02T21:05:32.426Z"
   },
   {
    "duration": 11,
    "start_time": "2021-10-02T21:05:32.542Z"
   },
   {
    "duration": 6,
    "start_time": "2021-10-02T21:05:32.555Z"
   },
   {
    "duration": 11,
    "start_time": "2021-10-02T21:05:32.563Z"
   },
   {
    "duration": 30,
    "start_time": "2021-10-02T21:05:32.575Z"
   },
   {
    "duration": 341,
    "start_time": "2021-10-02T21:05:32.607Z"
   },
   {
    "duration": 20,
    "start_time": "2021-10-02T21:05:32.950Z"
   },
   {
    "duration": 179,
    "start_time": "2021-10-02T21:05:32.972Z"
   },
   {
    "duration": 19,
    "start_time": "2021-10-02T21:05:33.153Z"
   },
   {
    "duration": 165,
    "start_time": "2021-10-02T21:05:33.174Z"
   },
   {
    "duration": 32,
    "start_time": "2021-10-02T21:05:33.341Z"
   },
   {
    "duration": 37,
    "start_time": "2021-10-02T21:05:33.375Z"
   },
   {
    "duration": 106,
    "start_time": "2021-10-02T21:05:33.413Z"
   },
   {
    "duration": 41,
    "start_time": "2021-10-02T21:05:33.520Z"
   },
   {
    "duration": 52,
    "start_time": "2021-10-02T21:05:33.563Z"
   },
   {
    "duration": 14,
    "start_time": "2021-10-02T21:05:33.617Z"
   },
   {
    "duration": 20,
    "start_time": "2021-10-02T21:05:33.632Z"
   },
   {
    "duration": 17,
    "start_time": "2021-10-02T21:05:33.654Z"
   },
   {
    "duration": 10,
    "start_time": "2021-10-02T21:05:33.703Z"
   },
   {
    "duration": 14,
    "start_time": "2021-10-02T21:05:33.717Z"
   },
   {
    "duration": 40,
    "start_time": "2021-10-02T21:05:33.732Z"
   },
   {
    "duration": 62,
    "start_time": "2021-10-02T21:05:33.773Z"
   },
   {
    "duration": 26,
    "start_time": "2021-10-02T21:05:33.837Z"
   },
   {
    "duration": 38,
    "start_time": "2021-10-02T21:05:33.864Z"
   },
   {
    "duration": 34,
    "start_time": "2021-10-02T21:05:33.904Z"
   },
   {
    "duration": 26,
    "start_time": "2021-10-02T21:05:33.940Z"
   },
   {
    "duration": 49,
    "start_time": "2021-10-02T21:05:33.968Z"
   },
   {
    "duration": 24,
    "start_time": "2021-10-02T21:05:34.019Z"
   },
   {
    "duration": 24,
    "start_time": "2021-10-02T21:05:34.044Z"
   },
   {
    "duration": 196,
    "start_time": "2021-10-02T21:05:34.069Z"
   },
   {
    "duration": 198,
    "start_time": "2021-10-02T21:06:07.531Z"
   },
   {
    "duration": 33,
    "start_time": "2021-10-02T21:06:45.064Z"
   },
   {
    "duration": 447,
    "start_time": "2021-10-02T21:07:00.402Z"
   },
   {
    "duration": 28,
    "start_time": "2021-10-02T21:07:00.851Z"
   },
   {
    "duration": 159,
    "start_time": "2021-10-02T21:07:00.881Z"
   },
   {
    "duration": 19,
    "start_time": "2021-10-02T21:07:01.042Z"
   },
   {
    "duration": 151,
    "start_time": "2021-10-02T21:07:01.063Z"
   },
   {
    "duration": 27,
    "start_time": "2021-10-02T21:07:01.217Z"
   },
   {
    "duration": 25,
    "start_time": "2021-10-02T21:07:01.247Z"
   },
   {
    "duration": 148,
    "start_time": "2021-10-02T21:07:01.276Z"
   },
   {
    "duration": 12,
    "start_time": "2021-10-02T21:07:01.426Z"
   },
   {
    "duration": 8,
    "start_time": "2021-10-02T21:07:01.440Z"
   },
   {
    "duration": 15,
    "start_time": "2021-10-02T21:07:01.450Z"
   },
   {
    "duration": 7,
    "start_time": "2021-10-02T21:07:01.466Z"
   },
   {
    "duration": 388,
    "start_time": "2021-10-02T21:07:01.474Z"
   },
   {
    "duration": 22,
    "start_time": "2021-10-02T21:07:01.864Z"
   },
   {
    "duration": 198,
    "start_time": "2021-10-02T21:07:01.887Z"
   },
   {
    "duration": 27,
    "start_time": "2021-10-02T21:07:02.087Z"
   },
   {
    "duration": 174,
    "start_time": "2021-10-02T21:07:02.117Z"
   },
   {
    "duration": 41,
    "start_time": "2021-10-02T21:07:02.292Z"
   },
   {
    "duration": 13,
    "start_time": "2021-10-02T21:07:02.334Z"
   },
   {
    "duration": 114,
    "start_time": "2021-10-02T21:07:02.349Z"
   },
   {
    "duration": 57,
    "start_time": "2021-10-02T21:07:02.464Z"
   },
   {
    "duration": 43,
    "start_time": "2021-10-02T21:07:02.522Z"
   },
   {
    "duration": 7,
    "start_time": "2021-10-02T21:07:02.568Z"
   },
   {
    "duration": 50,
    "start_time": "2021-10-02T21:07:02.577Z"
   },
   {
    "duration": 19,
    "start_time": "2021-10-02T21:07:02.629Z"
   },
   {
    "duration": 7,
    "start_time": "2021-10-02T21:07:02.650Z"
   },
   {
    "duration": 48,
    "start_time": "2021-10-02T21:07:02.659Z"
   },
   {
    "duration": 43,
    "start_time": "2021-10-02T21:07:02.709Z"
   },
   {
    "duration": 53,
    "start_time": "2021-10-02T21:07:02.754Z"
   },
   {
    "duration": 29,
    "start_time": "2021-10-02T21:07:02.809Z"
   },
   {
    "duration": 28,
    "start_time": "2021-10-02T21:07:02.840Z"
   },
   {
    "duration": 57,
    "start_time": "2021-10-02T21:07:02.870Z"
   },
   {
    "duration": 26,
    "start_time": "2021-10-02T21:07:02.929Z"
   },
   {
    "duration": 19,
    "start_time": "2021-10-02T21:07:02.957Z"
   },
   {
    "duration": 43,
    "start_time": "2021-10-02T21:07:02.977Z"
   },
   {
    "duration": 29,
    "start_time": "2021-10-02T21:07:03.022Z"
   },
   {
    "duration": 175,
    "start_time": "2021-10-02T21:07:03.053Z"
   },
   {
    "duration": 38,
    "start_time": "2021-10-02T21:07:10.867Z"
   },
   {
    "duration": 57,
    "start_time": "2021-10-02T21:07:22.488Z"
   },
   {
    "duration": 12,
    "start_time": "2021-10-02T21:08:09.843Z"
   },
   {
    "duration": 18,
    "start_time": "2021-10-02T21:08:19.835Z"
   },
   {
    "duration": 187,
    "start_time": "2021-10-02T21:08:32.909Z"
   },
   {
    "duration": 409,
    "start_time": "2021-10-02T21:08:58.305Z"
   },
   {
    "duration": 20,
    "start_time": "2021-10-02T21:08:58.716Z"
   },
   {
    "duration": 149,
    "start_time": "2021-10-02T21:08:58.738Z"
   },
   {
    "duration": 34,
    "start_time": "2021-10-02T21:08:58.889Z"
   },
   {
    "duration": 143,
    "start_time": "2021-10-02T21:08:58.925Z"
   },
   {
    "duration": 17,
    "start_time": "2021-10-02T21:08:59.070Z"
   },
   {
    "duration": 32,
    "start_time": "2021-10-02T21:08:59.088Z"
   },
   {
    "duration": 102,
    "start_time": "2021-10-02T21:08:59.122Z"
   },
   {
    "duration": 14,
    "start_time": "2021-10-02T21:08:59.227Z"
   },
   {
    "duration": 8,
    "start_time": "2021-10-02T21:08:59.243Z"
   },
   {
    "duration": 10,
    "start_time": "2021-10-02T21:08:59.253Z"
   },
   {
    "duration": 50,
    "start_time": "2021-10-02T21:08:59.265Z"
   },
   {
    "duration": 379,
    "start_time": "2021-10-02T21:08:59.317Z"
   },
   {
    "duration": 24,
    "start_time": "2021-10-02T21:08:59.698Z"
   },
   {
    "duration": 183,
    "start_time": "2021-10-02T21:08:59.723Z"
   },
   {
    "duration": 21,
    "start_time": "2021-10-02T21:08:59.908Z"
   },
   {
    "duration": 178,
    "start_time": "2021-10-02T21:08:59.931Z"
   },
   {
    "duration": 34,
    "start_time": "2021-10-02T21:09:00.111Z"
   },
   {
    "duration": 13,
    "start_time": "2021-10-02T21:09:00.147Z"
   },
   {
    "duration": 124,
    "start_time": "2021-10-02T21:09:00.162Z"
   },
   {
    "duration": 69,
    "start_time": "2021-10-02T21:09:00.289Z"
   },
   {
    "duration": 61,
    "start_time": "2021-10-02T21:09:00.359Z"
   },
   {
    "duration": 7,
    "start_time": "2021-10-02T21:09:00.421Z"
   },
   {
    "duration": 26,
    "start_time": "2021-10-02T21:09:00.429Z"
   },
   {
    "duration": 16,
    "start_time": "2021-10-02T21:09:00.457Z"
   },
   {
    "duration": 30,
    "start_time": "2021-10-02T21:09:00.475Z"
   },
   {
    "duration": 17,
    "start_time": "2021-10-02T21:09:00.509Z"
   },
   {
    "duration": 49,
    "start_time": "2021-10-02T21:09:00.528Z"
   },
   {
    "duration": 59,
    "start_time": "2021-10-02T21:09:00.579Z"
   },
   {
    "duration": 27,
    "start_time": "2021-10-02T21:09:00.641Z"
   },
   {
    "duration": 55,
    "start_time": "2021-10-02T21:09:00.670Z"
   },
   {
    "duration": 32,
    "start_time": "2021-10-02T21:09:00.727Z"
   },
   {
    "duration": 51,
    "start_time": "2021-10-02T21:09:00.761Z"
   },
   {
    "duration": 20,
    "start_time": "2021-10-02T21:09:00.813Z"
   },
   {
    "duration": 21,
    "start_time": "2021-10-02T21:09:00.835Z"
   },
   {
    "duration": 56,
    "start_time": "2021-10-02T21:09:00.857Z"
   },
   {
    "duration": 194,
    "start_time": "2021-10-02T21:09:00.915Z"
   },
   {
    "duration": 267,
    "start_time": "2021-10-02T21:09:42.052Z"
   },
   {
    "duration": 181,
    "start_time": "2021-10-02T21:10:54.047Z"
   },
   {
    "duration": 182,
    "start_time": "2021-10-02T21:11:00.834Z"
   },
   {
    "duration": 389,
    "start_time": "2021-10-02T21:11:07.525Z"
   },
   {
    "duration": 194,
    "start_time": "2021-10-02T21:12:53.899Z"
   },
   {
    "duration": 225,
    "start_time": "2021-10-02T21:13:00.151Z"
   },
   {
    "duration": 395,
    "start_time": "2021-10-02T21:15:08.266Z"
   },
   {
    "duration": 22,
    "start_time": "2021-10-02T21:15:08.663Z"
   },
   {
    "duration": 143,
    "start_time": "2021-10-02T21:15:08.687Z"
   },
   {
    "duration": 18,
    "start_time": "2021-10-02T21:15:08.832Z"
   },
   {
    "duration": 141,
    "start_time": "2021-10-02T21:15:08.852Z"
   },
   {
    "duration": 18,
    "start_time": "2021-10-02T21:15:08.995Z"
   },
   {
    "duration": 15,
    "start_time": "2021-10-02T21:15:09.015Z"
   },
   {
    "duration": 106,
    "start_time": "2021-10-02T21:15:09.032Z"
   },
   {
    "duration": 12,
    "start_time": "2021-10-02T21:15:09.141Z"
   },
   {
    "duration": 8,
    "start_time": "2021-10-02T21:15:09.156Z"
   },
   {
    "duration": 11,
    "start_time": "2021-10-02T21:15:09.166Z"
   },
   {
    "duration": 8,
    "start_time": "2021-10-02T21:15:09.199Z"
   },
   {
    "duration": 382,
    "start_time": "2021-10-02T21:15:09.209Z"
   },
   {
    "duration": 26,
    "start_time": "2021-10-02T21:15:09.592Z"
   },
   {
    "duration": 192,
    "start_time": "2021-10-02T21:15:09.620Z"
   },
   {
    "duration": 21,
    "start_time": "2021-10-02T21:15:09.813Z"
   },
   {
    "duration": 173,
    "start_time": "2021-10-02T21:15:09.835Z"
   },
   {
    "duration": 35,
    "start_time": "2021-10-02T21:15:10.010Z"
   },
   {
    "duration": 13,
    "start_time": "2021-10-02T21:15:10.047Z"
   },
   {
    "duration": 127,
    "start_time": "2021-10-02T21:15:10.061Z"
   },
   {
    "duration": 50,
    "start_time": "2021-10-02T21:15:10.190Z"
   },
   {
    "duration": 71,
    "start_time": "2021-10-02T21:15:10.242Z"
   },
   {
    "duration": 10,
    "start_time": "2021-10-02T21:15:10.315Z"
   },
   {
    "duration": 29,
    "start_time": "2021-10-02T21:15:10.327Z"
   },
   {
    "duration": 46,
    "start_time": "2021-10-02T21:15:10.357Z"
   },
   {
    "duration": 6,
    "start_time": "2021-10-02T21:15:10.404Z"
   },
   {
    "duration": 16,
    "start_time": "2021-10-02T21:15:10.413Z"
   },
   {
    "duration": 70,
    "start_time": "2021-10-02T21:15:10.432Z"
   },
   {
    "duration": 42,
    "start_time": "2021-10-02T21:15:10.504Z"
   },
   {
    "duration": 28,
    "start_time": "2021-10-02T21:15:10.548Z"
   },
   {
    "duration": 46,
    "start_time": "2021-10-02T21:15:10.577Z"
   },
   {
    "duration": 32,
    "start_time": "2021-10-02T21:15:10.624Z"
   },
   {
    "duration": 51,
    "start_time": "2021-10-02T21:15:10.658Z"
   },
   {
    "duration": 20,
    "start_time": "2021-10-02T21:15:10.710Z"
   },
   {
    "duration": 20,
    "start_time": "2021-10-02T21:15:10.732Z"
   },
   {
    "duration": 52,
    "start_time": "2021-10-02T21:15:10.754Z"
   },
   {
    "duration": 176,
    "start_time": "2021-10-02T21:15:10.808Z"
   },
   {
    "duration": 17,
    "start_time": "2021-10-02T21:16:43.809Z"
   },
   {
    "duration": 420,
    "start_time": "2021-10-02T21:17:02.669Z"
   },
   {
    "duration": 24,
    "start_time": "2021-10-02T21:17:03.091Z"
   },
   {
    "duration": 160,
    "start_time": "2021-10-02T21:17:03.118Z"
   },
   {
    "duration": 22,
    "start_time": "2021-10-02T21:17:03.279Z"
   },
   {
    "duration": 151,
    "start_time": "2021-10-02T21:17:03.303Z"
   },
   {
    "duration": 17,
    "start_time": "2021-10-02T21:17:03.456Z"
   },
   {
    "duration": 27,
    "start_time": "2021-10-02T21:17:03.475Z"
   },
   {
    "duration": 114,
    "start_time": "2021-10-02T21:17:03.504Z"
   },
   {
    "duration": 12,
    "start_time": "2021-10-02T21:17:03.622Z"
   },
   {
    "duration": 18,
    "start_time": "2021-10-02T21:17:03.636Z"
   },
   {
    "duration": 11,
    "start_time": "2021-10-02T21:17:03.656Z"
   },
   {
    "duration": 35,
    "start_time": "2021-10-02T21:17:03.668Z"
   },
   {
    "duration": 373,
    "start_time": "2021-10-02T21:17:03.705Z"
   },
   {
    "duration": 38,
    "start_time": "2021-10-02T21:17:04.080Z"
   },
   {
    "duration": 193,
    "start_time": "2021-10-02T21:17:04.120Z"
   },
   {
    "duration": 20,
    "start_time": "2021-10-02T21:17:04.316Z"
   },
   {
    "duration": 179,
    "start_time": "2021-10-02T21:17:04.338Z"
   },
   {
    "duration": 33,
    "start_time": "2021-10-02T21:17:04.519Z"
   },
   {
    "duration": 13,
    "start_time": "2021-10-02T21:17:04.553Z"
   },
   {
    "duration": 124,
    "start_time": "2021-10-02T21:17:04.568Z"
   },
   {
    "duration": 54,
    "start_time": "2021-10-02T21:17:04.694Z"
   },
   {
    "duration": 61,
    "start_time": "2021-10-02T21:17:04.749Z"
   },
   {
    "duration": 10,
    "start_time": "2021-10-02T21:17:04.812Z"
   },
   {
    "duration": 20,
    "start_time": "2021-10-02T21:17:04.824Z"
   },
   {
    "duration": 16,
    "start_time": "2021-10-02T21:17:04.846Z"
   },
   {
    "duration": 6,
    "start_time": "2021-10-02T21:17:04.864Z"
   },
   {
    "duration": 25,
    "start_time": "2021-10-02T21:17:04.901Z"
   },
   {
    "duration": 45,
    "start_time": "2021-10-02T21:17:04.928Z"
   },
   {
    "duration": 68,
    "start_time": "2021-10-02T21:17:04.975Z"
   },
   {
    "duration": 35,
    "start_time": "2021-10-02T21:17:05.045Z"
   },
   {
    "duration": 47,
    "start_time": "2021-10-02T21:17:05.082Z"
   },
   {
    "duration": 42,
    "start_time": "2021-10-02T21:17:05.131Z"
   },
   {
    "duration": 55,
    "start_time": "2021-10-02T21:17:05.175Z"
   },
   {
    "duration": 20,
    "start_time": "2021-10-02T21:17:05.233Z"
   },
   {
    "duration": 97,
    "start_time": "2021-10-02T21:17:05.255Z"
   },
   {
    "duration": 26,
    "start_time": "2021-10-02T21:17:05.354Z"
   },
   {
    "duration": 906,
    "start_time": "2021-10-02T21:17:05.382Z"
   },
   {
    "duration": 405,
    "start_time": "2021-10-02T21:17:14.780Z"
   },
   {
    "duration": 24,
    "start_time": "2021-10-02T21:17:15.187Z"
   },
   {
    "duration": 180,
    "start_time": "2021-10-02T21:17:15.213Z"
   },
   {
    "duration": 43,
    "start_time": "2021-10-02T21:17:15.401Z"
   },
   {
    "duration": 201,
    "start_time": "2021-10-02T21:17:15.457Z"
   },
   {
    "duration": 18,
    "start_time": "2021-10-02T21:17:15.659Z"
   },
   {
    "duration": 27,
    "start_time": "2021-10-02T21:17:15.679Z"
   },
   {
    "duration": 105,
    "start_time": "2021-10-02T21:17:15.708Z"
   },
   {
    "duration": 17,
    "start_time": "2021-10-02T21:17:15.818Z"
   },
   {
    "duration": 18,
    "start_time": "2021-10-02T21:17:15.837Z"
   },
   {
    "duration": 9,
    "start_time": "2021-10-02T21:17:15.857Z"
   },
   {
    "duration": 38,
    "start_time": "2021-10-02T21:17:15.868Z"
   },
   {
    "duration": 357,
    "start_time": "2021-10-02T21:17:15.908Z"
   },
   {
    "duration": 22,
    "start_time": "2021-10-02T21:17:16.266Z"
   },
   {
    "duration": 187,
    "start_time": "2021-10-02T21:17:16.289Z"
   },
   {
    "duration": 23,
    "start_time": "2021-10-02T21:17:16.478Z"
   },
   {
    "duration": 173,
    "start_time": "2021-10-02T21:17:16.503Z"
   },
   {
    "duration": 48,
    "start_time": "2021-10-02T21:17:16.678Z"
   },
   {
    "duration": 13,
    "start_time": "2021-10-02T21:17:16.727Z"
   },
   {
    "duration": 120,
    "start_time": "2021-10-02T21:17:16.742Z"
   },
   {
    "duration": 61,
    "start_time": "2021-10-02T21:17:16.864Z"
   },
   {
    "duration": 41,
    "start_time": "2021-10-02T21:17:16.927Z"
   },
   {
    "duration": 7,
    "start_time": "2021-10-02T21:17:16.970Z"
   },
   {
    "duration": 53,
    "start_time": "2021-10-02T21:17:16.978Z"
   },
   {
    "duration": 16,
    "start_time": "2021-10-02T21:17:17.033Z"
   },
   {
    "duration": 5,
    "start_time": "2021-10-02T21:17:17.051Z"
   },
   {
    "duration": 14,
    "start_time": "2021-10-02T21:17:17.060Z"
   },
   {
    "duration": 49,
    "start_time": "2021-10-02T21:17:17.100Z"
   },
   {
    "duration": 65,
    "start_time": "2021-10-02T21:17:17.151Z"
   },
   {
    "duration": 27,
    "start_time": "2021-10-02T21:17:17.218Z"
   },
   {
    "duration": 26,
    "start_time": "2021-10-02T21:17:17.247Z"
   },
   {
    "duration": 57,
    "start_time": "2021-10-02T21:17:17.275Z"
   },
   {
    "duration": 27,
    "start_time": "2021-10-02T21:17:17.333Z"
   },
   {
    "duration": 17,
    "start_time": "2021-10-02T21:17:17.362Z"
   },
   {
    "duration": 41,
    "start_time": "2021-10-02T21:17:17.381Z"
   },
   {
    "duration": 28,
    "start_time": "2021-10-02T21:17:17.424Z"
   },
   {
    "duration": 178,
    "start_time": "2021-10-02T21:17:17.453Z"
   },
   {
    "duration": 4418,
    "start_time": "2021-10-02T21:19:26.968Z"
   },
   {
    "duration": 428,
    "start_time": "2021-10-02T21:19:46.948Z"
   },
   {
    "duration": 22,
    "start_time": "2021-10-02T21:19:47.378Z"
   },
   {
    "duration": 163,
    "start_time": "2021-10-02T21:19:47.403Z"
   },
   {
    "duration": 17,
    "start_time": "2021-10-02T21:19:47.568Z"
   },
   {
    "duration": 138,
    "start_time": "2021-10-02T21:19:47.587Z"
   },
   {
    "duration": 18,
    "start_time": "2021-10-02T21:19:47.726Z"
   },
   {
    "duration": 14,
    "start_time": "2021-10-02T21:19:47.745Z"
   },
   {
    "duration": 111,
    "start_time": "2021-10-02T21:19:47.762Z"
   },
   {
    "duration": 4623,
    "start_time": "2021-10-02T21:19:47.875Z"
   },
   {
    "duration": -116,
    "start_time": "2021-10-02T21:19:52.618Z"
   },
   {
    "duration": -116,
    "start_time": "2021-10-02T21:19:52.619Z"
   },
   {
    "duration": -116,
    "start_time": "2021-10-02T21:19:52.620Z"
   },
   {
    "duration": -116,
    "start_time": "2021-10-02T21:19:52.621Z"
   },
   {
    "duration": -115,
    "start_time": "2021-10-02T21:19:52.622Z"
   },
   {
    "duration": -115,
    "start_time": "2021-10-02T21:19:52.623Z"
   },
   {
    "duration": -114,
    "start_time": "2021-10-02T21:19:52.624Z"
   },
   {
    "duration": -114,
    "start_time": "2021-10-02T21:19:52.625Z"
   },
   {
    "duration": -112,
    "start_time": "2021-10-02T21:19:52.625Z"
   },
   {
    "duration": -112,
    "start_time": "2021-10-02T21:19:52.626Z"
   },
   {
    "duration": -111,
    "start_time": "2021-10-02T21:19:52.627Z"
   },
   {
    "duration": -110,
    "start_time": "2021-10-02T21:19:52.627Z"
   },
   {
    "duration": -126,
    "start_time": "2021-10-02T21:19:52.645Z"
   },
   {
    "duration": -191,
    "start_time": "2021-10-02T21:19:52.711Z"
   },
   {
    "duration": -196,
    "start_time": "2021-10-02T21:19:52.717Z"
   },
   {
    "duration": -196,
    "start_time": "2021-10-02T21:19:52.718Z"
   },
   {
    "duration": -195,
    "start_time": "2021-10-02T21:19:52.719Z"
   },
   {
    "duration": -195,
    "start_time": "2021-10-02T21:19:52.720Z"
   },
   {
    "duration": -195,
    "start_time": "2021-10-02T21:19:52.721Z"
   },
   {
    "duration": -195,
    "start_time": "2021-10-02T21:19:52.722Z"
   },
   {
    "duration": -194,
    "start_time": "2021-10-02T21:19:52.722Z"
   },
   {
    "duration": -195,
    "start_time": "2021-10-02T21:19:52.724Z"
   },
   {
    "duration": -194,
    "start_time": "2021-10-02T21:19:52.724Z"
   },
   {
    "duration": -194,
    "start_time": "2021-10-02T21:19:52.725Z"
   },
   {
    "duration": -194,
    "start_time": "2021-10-02T21:19:52.726Z"
   },
   {
    "duration": -193,
    "start_time": "2021-10-02T21:19:52.726Z"
   },
   {
    "duration": -193,
    "start_time": "2021-10-02T21:19:52.727Z"
   },
   {
    "duration": -198,
    "start_time": "2021-10-02T21:19:52.733Z"
   },
   {
    "duration": 414,
    "start_time": "2021-10-02T21:20:15.994Z"
   },
   {
    "duration": 24,
    "start_time": "2021-10-02T21:20:16.410Z"
   },
   {
    "duration": 164,
    "start_time": "2021-10-02T21:20:16.436Z"
   },
   {
    "duration": 25,
    "start_time": "2021-10-02T21:20:16.602Z"
   },
   {
    "duration": 155,
    "start_time": "2021-10-02T21:20:16.629Z"
   },
   {
    "duration": 20,
    "start_time": "2021-10-02T21:20:16.786Z"
   },
   {
    "duration": 17,
    "start_time": "2021-10-02T21:20:16.809Z"
   },
   {
    "duration": 107,
    "start_time": "2021-10-02T21:20:16.828Z"
   },
   {
    "duration": 4677,
    "start_time": "2021-10-02T21:20:16.938Z"
   },
   {
    "duration": -74,
    "start_time": "2021-10-02T21:20:21.692Z"
   },
   {
    "duration": -73,
    "start_time": "2021-10-02T21:20:21.694Z"
   },
   {
    "duration": -71,
    "start_time": "2021-10-02T21:20:21.694Z"
   },
   {
    "duration": -71,
    "start_time": "2021-10-02T21:20:21.695Z"
   },
   {
    "duration": -71,
    "start_time": "2021-10-02T21:20:21.696Z"
   },
   {
    "duration": -71,
    "start_time": "2021-10-02T21:20:21.697Z"
   },
   {
    "duration": -70,
    "start_time": "2021-10-02T21:20:21.697Z"
   },
   {
    "duration": -69,
    "start_time": "2021-10-02T21:20:21.698Z"
   },
   {
    "duration": -69,
    "start_time": "2021-10-02T21:20:21.699Z"
   },
   {
    "duration": -67,
    "start_time": "2021-10-02T21:20:21.699Z"
   },
   {
    "duration": -66,
    "start_time": "2021-10-02T21:20:21.700Z"
   },
   {
    "duration": -66,
    "start_time": "2021-10-02T21:20:21.701Z"
   },
   {
    "duration": -64,
    "start_time": "2021-10-02T21:20:21.701Z"
   },
   {
    "duration": -64,
    "start_time": "2021-10-02T21:20:21.702Z"
   },
   {
    "duration": -63,
    "start_time": "2021-10-02T21:20:21.702Z"
   },
   {
    "duration": -62,
    "start_time": "2021-10-02T21:20:21.703Z"
   },
   {
    "duration": -61,
    "start_time": "2021-10-02T21:20:21.703Z"
   },
   {
    "duration": -61,
    "start_time": "2021-10-02T21:20:21.704Z"
   },
   {
    "duration": -60,
    "start_time": "2021-10-02T21:20:21.704Z"
   },
   {
    "duration": -60,
    "start_time": "2021-10-02T21:20:21.705Z"
   },
   {
    "duration": -59,
    "start_time": "2021-10-02T21:20:21.705Z"
   },
   {
    "duration": -58,
    "start_time": "2021-10-02T21:20:21.706Z"
   },
   {
    "duration": -58,
    "start_time": "2021-10-02T21:20:21.707Z"
   },
   {
    "duration": -57,
    "start_time": "2021-10-02T21:20:21.707Z"
   },
   {
    "duration": -57,
    "start_time": "2021-10-02T21:20:21.708Z"
   },
   {
    "duration": -56,
    "start_time": "2021-10-02T21:20:21.708Z"
   },
   {
    "duration": -56,
    "start_time": "2021-10-02T21:20:21.709Z"
   },
   {
    "duration": -57,
    "start_time": "2021-10-02T21:20:21.710Z"
   },
   {
    "duration": 14,
    "start_time": "2021-10-02T21:20:47.859Z"
   },
   {
    "duration": 416,
    "start_time": "2021-10-02T21:21:13.082Z"
   },
   {
    "duration": 28,
    "start_time": "2021-10-02T21:21:13.501Z"
   },
   {
    "duration": 170,
    "start_time": "2021-10-02T21:21:13.532Z"
   },
   {
    "duration": 25,
    "start_time": "2021-10-02T21:21:13.705Z"
   },
   {
    "duration": 139,
    "start_time": "2021-10-02T21:21:13.732Z"
   },
   {
    "duration": 18,
    "start_time": "2021-10-02T21:21:13.873Z"
   },
   {
    "duration": 20,
    "start_time": "2021-10-02T21:21:13.899Z"
   },
   {
    "duration": 104,
    "start_time": "2021-10-02T21:21:13.922Z"
   },
   {
    "duration": 13,
    "start_time": "2021-10-02T21:21:14.028Z"
   },
   {
    "duration": 4612,
    "start_time": "2021-10-02T21:21:14.043Z"
   },
   {
    "duration": -65,
    "start_time": "2021-10-02T21:21:18.723Z"
   },
   {
    "duration": -64,
    "start_time": "2021-10-02T21:21:18.723Z"
   },
   {
    "duration": -64,
    "start_time": "2021-10-02T21:21:18.724Z"
   },
   {
    "duration": -64,
    "start_time": "2021-10-02T21:21:18.725Z"
   },
   {
    "duration": -64,
    "start_time": "2021-10-02T21:21:18.726Z"
   },
   {
    "duration": -63,
    "start_time": "2021-10-02T21:21:18.726Z"
   },
   {
    "duration": -63,
    "start_time": "2021-10-02T21:21:18.727Z"
   },
   {
    "duration": -65,
    "start_time": "2021-10-02T21:21:18.730Z"
   },
   {
    "duration": -65,
    "start_time": "2021-10-02T21:21:18.731Z"
   },
   {
    "duration": -65,
    "start_time": "2021-10-02T21:21:18.732Z"
   },
   {
    "duration": -64,
    "start_time": "2021-10-02T21:21:18.732Z"
   },
   {
    "duration": -64,
    "start_time": "2021-10-02T21:21:18.733Z"
   },
   {
    "duration": -64,
    "start_time": "2021-10-02T21:21:18.734Z"
   },
   {
    "duration": -64,
    "start_time": "2021-10-02T21:21:18.735Z"
   },
   {
    "duration": -62,
    "start_time": "2021-10-02T21:21:18.735Z"
   },
   {
    "duration": -63,
    "start_time": "2021-10-02T21:21:18.736Z"
   },
   {
    "duration": -62,
    "start_time": "2021-10-02T21:21:18.736Z"
   },
   {
    "duration": -62,
    "start_time": "2021-10-02T21:21:18.737Z"
   },
   {
    "duration": -61,
    "start_time": "2021-10-02T21:21:18.737Z"
   },
   {
    "duration": -61,
    "start_time": "2021-10-02T21:21:18.738Z"
   },
   {
    "duration": -61,
    "start_time": "2021-10-02T21:21:18.739Z"
   },
   {
    "duration": -60,
    "start_time": "2021-10-02T21:21:18.739Z"
   },
   {
    "duration": -60,
    "start_time": "2021-10-02T21:21:18.740Z"
   },
   {
    "duration": -59,
    "start_time": "2021-10-02T21:21:18.740Z"
   },
   {
    "duration": -59,
    "start_time": "2021-10-02T21:21:18.741Z"
   },
   {
    "duration": -58,
    "start_time": "2021-10-02T21:21:18.741Z"
   },
   {
    "duration": -59,
    "start_time": "2021-10-02T21:21:18.742Z"
   },
   {
    "duration": 417,
    "start_time": "2021-10-02T21:22:06.924Z"
   },
   {
    "duration": 21,
    "start_time": "2021-10-02T21:22:07.343Z"
   },
   {
    "duration": 160,
    "start_time": "2021-10-02T21:22:07.366Z"
   },
   {
    "duration": 17,
    "start_time": "2021-10-02T21:22:07.528Z"
   },
   {
    "duration": 140,
    "start_time": "2021-10-02T21:22:07.547Z"
   },
   {
    "duration": 23,
    "start_time": "2021-10-02T21:22:07.689Z"
   },
   {
    "duration": 19,
    "start_time": "2021-10-02T21:22:07.714Z"
   },
   {
    "duration": 111,
    "start_time": "2021-10-02T21:22:07.735Z"
   },
   {
    "duration": 4486,
    "start_time": "2021-10-02T21:22:07.849Z"
   },
   {
    "duration": -160,
    "start_time": "2021-10-02T21:22:12.498Z"
   },
   {
    "duration": -160,
    "start_time": "2021-10-02T21:22:12.499Z"
   },
   {
    "duration": -161,
    "start_time": "2021-10-02T21:22:12.500Z"
   },
   {
    "duration": -161,
    "start_time": "2021-10-02T21:22:12.501Z"
   },
   {
    "duration": -161,
    "start_time": "2021-10-02T21:22:12.502Z"
   },
   {
    "duration": -161,
    "start_time": "2021-10-02T21:22:12.503Z"
   },
   {
    "duration": -161,
    "start_time": "2021-10-02T21:22:12.504Z"
   },
   {
    "duration": -161,
    "start_time": "2021-10-02T21:22:12.506Z"
   },
   {
    "duration": -161,
    "start_time": "2021-10-02T21:22:12.507Z"
   },
   {
    "duration": -160,
    "start_time": "2021-10-02T21:22:12.507Z"
   },
   {
    "duration": -160,
    "start_time": "2021-10-02T21:22:12.508Z"
   },
   {
    "duration": -160,
    "start_time": "2021-10-02T21:22:12.509Z"
   },
   {
    "duration": -159,
    "start_time": "2021-10-02T21:22:12.509Z"
   },
   {
    "duration": -158,
    "start_time": "2021-10-02T21:22:12.510Z"
   },
   {
    "duration": -158,
    "start_time": "2021-10-02T21:22:12.511Z"
   },
   {
    "duration": -172,
    "start_time": "2021-10-02T21:22:12.526Z"
   },
   {
    "duration": -176,
    "start_time": "2021-10-02T21:22:12.531Z"
   },
   {
    "duration": -176,
    "start_time": "2021-10-02T21:22:12.532Z"
   },
   {
    "duration": -176,
    "start_time": "2021-10-02T21:22:12.533Z"
   },
   {
    "duration": -175,
    "start_time": "2021-10-02T21:22:12.533Z"
   },
   {
    "duration": -175,
    "start_time": "2021-10-02T21:22:12.534Z"
   },
   {
    "duration": -175,
    "start_time": "2021-10-02T21:22:12.535Z"
   },
   {
    "duration": -175,
    "start_time": "2021-10-02T21:22:12.536Z"
   },
   {
    "duration": -174,
    "start_time": "2021-10-02T21:22:12.536Z"
   },
   {
    "duration": -174,
    "start_time": "2021-10-02T21:22:12.537Z"
   },
   {
    "duration": -173,
    "start_time": "2021-10-02T21:22:12.537Z"
   },
   {
    "duration": -173,
    "start_time": "2021-10-02T21:22:12.538Z"
   },
   {
    "duration": -173,
    "start_time": "2021-10-02T21:22:12.539Z"
   },
   {
    "duration": 392,
    "start_time": "2021-10-02T21:22:38.409Z"
   },
   {
    "duration": 33,
    "start_time": "2021-10-02T21:22:38.803Z"
   },
   {
    "duration": 180,
    "start_time": "2021-10-02T21:22:38.839Z"
   },
   {
    "duration": 19,
    "start_time": "2021-10-02T21:22:39.021Z"
   },
   {
    "duration": 145,
    "start_time": "2021-10-02T21:22:39.042Z"
   },
   {
    "duration": 20,
    "start_time": "2021-10-02T21:22:39.189Z"
   },
   {
    "duration": 19,
    "start_time": "2021-10-02T21:22:39.211Z"
   },
   {
    "duration": 118,
    "start_time": "2021-10-02T21:22:39.232Z"
   },
   {
    "duration": 12,
    "start_time": "2021-10-02T21:22:39.353Z"
   },
   {
    "duration": 38,
    "start_time": "2021-10-02T21:22:39.367Z"
   },
   {
    "duration": 14,
    "start_time": "2021-10-02T21:22:39.407Z"
   },
   {
    "duration": 8,
    "start_time": "2021-10-02T21:22:39.422Z"
   },
   {
    "duration": 359,
    "start_time": "2021-10-02T21:22:39.432Z"
   },
   {
    "duration": 30,
    "start_time": "2021-10-02T21:22:39.793Z"
   },
   {
    "duration": 206,
    "start_time": "2021-10-02T21:22:39.825Z"
   },
   {
    "duration": 21,
    "start_time": "2021-10-02T21:22:40.034Z"
   },
   {
    "duration": 182,
    "start_time": "2021-10-02T21:22:40.057Z"
   },
   {
    "duration": 32,
    "start_time": "2021-10-02T21:22:40.241Z"
   },
   {
    "duration": 26,
    "start_time": "2021-10-02T21:22:40.275Z"
   },
   {
    "duration": 103,
    "start_time": "2021-10-02T21:22:40.303Z"
   },
   {
    "duration": 48,
    "start_time": "2021-10-02T21:22:40.409Z"
   },
   {
    "duration": 63,
    "start_time": "2021-10-02T21:22:40.459Z"
   },
   {
    "duration": 6,
    "start_time": "2021-10-02T21:22:40.524Z"
   },
   {
    "duration": 20,
    "start_time": "2021-10-02T21:22:40.532Z"
   },
   {
    "duration": 17,
    "start_time": "2021-10-02T21:22:40.553Z"
   },
   {
    "duration": 32,
    "start_time": "2021-10-02T21:22:40.572Z"
   },
   {
    "duration": 19,
    "start_time": "2021-10-02T21:22:40.608Z"
   },
   {
    "duration": 39,
    "start_time": "2021-10-02T21:22:40.629Z"
   },
   {
    "duration": 67,
    "start_time": "2021-10-02T21:22:40.670Z"
   },
   {
    "duration": 26,
    "start_time": "2021-10-02T21:22:40.739Z"
   },
   {
    "duration": 43,
    "start_time": "2021-10-02T21:22:40.767Z"
   },
   {
    "duration": 32,
    "start_time": "2021-10-02T21:22:40.813Z"
   },
   {
    "duration": 28,
    "start_time": "2021-10-02T21:22:40.847Z"
   },
   {
    "duration": 22,
    "start_time": "2021-10-02T21:22:40.901Z"
   },
   {
    "duration": 18,
    "start_time": "2021-10-02T21:22:40.925Z"
   },
   {
    "duration": 27,
    "start_time": "2021-10-02T21:22:40.945Z"
   },
   {
    "duration": 208,
    "start_time": "2021-10-02T21:22:40.973Z"
   },
   {
    "duration": 199,
    "start_time": "2021-10-02T21:25:51.947Z"
   },
   {
    "duration": 8,
    "start_time": "2021-10-02T21:29:12.270Z"
   },
   {
    "duration": 430,
    "start_time": "2021-10-02T21:29:17.959Z"
   },
   {
    "duration": 28,
    "start_time": "2021-10-02T21:29:18.391Z"
   },
   {
    "duration": 150,
    "start_time": "2021-10-02T21:29:18.421Z"
   },
   {
    "duration": 17,
    "start_time": "2021-10-02T21:29:18.573Z"
   },
   {
    "duration": 144,
    "start_time": "2021-10-02T21:29:18.600Z"
   },
   {
    "duration": 18,
    "start_time": "2021-10-02T21:29:18.746Z"
   },
   {
    "duration": 14,
    "start_time": "2021-10-02T21:29:18.766Z"
   },
   {
    "duration": 105,
    "start_time": "2021-10-02T21:29:18.799Z"
   },
   {
    "duration": 8,
    "start_time": "2021-10-02T21:29:18.910Z"
   },
   {
    "duration": 8,
    "start_time": "2021-10-02T21:29:18.921Z"
   },
   {
    "duration": 10,
    "start_time": "2021-10-02T21:29:18.930Z"
   },
   {
    "duration": 7,
    "start_time": "2021-10-02T21:29:18.942Z"
   },
   {
    "duration": 411,
    "start_time": "2021-10-02T21:29:18.951Z"
   },
   {
    "duration": 40,
    "start_time": "2021-10-02T21:29:19.364Z"
   },
   {
    "duration": 211,
    "start_time": "2021-10-02T21:29:19.406Z"
   },
   {
    "duration": 21,
    "start_time": "2021-10-02T21:29:19.620Z"
   },
   {
    "duration": 174,
    "start_time": "2021-10-02T21:29:19.643Z"
   },
   {
    "duration": 35,
    "start_time": "2021-10-02T21:29:19.819Z"
   },
   {
    "duration": 12,
    "start_time": "2021-10-02T21:29:19.855Z"
   },
   {
    "duration": 126,
    "start_time": "2021-10-02T21:29:19.869Z"
   },
   {
    "duration": 59,
    "start_time": "2021-10-02T21:29:19.996Z"
   },
   {
    "duration": 68,
    "start_time": "2021-10-02T21:29:20.057Z"
   },
   {
    "duration": 10,
    "start_time": "2021-10-02T21:29:20.128Z"
   },
   {
    "duration": 36,
    "start_time": "2021-10-02T21:29:20.141Z"
   },
   {
    "duration": 37,
    "start_time": "2021-10-02T21:29:20.178Z"
   },
   {
    "duration": 8,
    "start_time": "2021-10-02T21:29:20.220Z"
   },
   {
    "duration": 15,
    "start_time": "2021-10-02T21:29:20.233Z"
   },
   {
    "duration": 73,
    "start_time": "2021-10-02T21:29:20.250Z"
   },
   {
    "duration": 41,
    "start_time": "2021-10-02T21:29:20.325Z"
   },
   {
    "duration": 48,
    "start_time": "2021-10-02T21:29:20.367Z"
   },
   {
    "duration": 28,
    "start_time": "2021-10-02T21:29:20.417Z"
   },
   {
    "duration": 32,
    "start_time": "2021-10-02T21:29:20.447Z"
   },
   {
    "duration": 48,
    "start_time": "2021-10-02T21:29:20.481Z"
   },
   {
    "duration": 25,
    "start_time": "2021-10-02T21:29:20.532Z"
   },
   {
    "duration": 20,
    "start_time": "2021-10-02T21:29:20.558Z"
   },
   {
    "duration": 34,
    "start_time": "2021-10-02T21:29:20.600Z"
   },
   {
    "duration": 187,
    "start_time": "2021-10-02T21:29:20.636Z"
   },
   {
    "duration": 170,
    "start_time": "2021-10-02T21:30:29.754Z"
   },
   {
    "duration": 180,
    "start_time": "2021-10-02T21:30:36.931Z"
   },
   {
    "duration": 24,
    "start_time": "2021-10-02T21:31:00.495Z"
   },
   {
    "duration": 50,
    "start_time": "2021-10-02T21:31:23.605Z"
   },
   {
    "duration": 21,
    "start_time": "2021-10-02T21:34:39.908Z"
   },
   {
    "duration": 418,
    "start_time": "2021-10-02T21:35:07.513Z"
   },
   {
    "duration": 20,
    "start_time": "2021-10-02T21:35:07.933Z"
   },
   {
    "duration": 145,
    "start_time": "2021-10-02T21:35:07.955Z"
   },
   {
    "duration": 27,
    "start_time": "2021-10-02T21:35:08.103Z"
   },
   {
    "duration": 142,
    "start_time": "2021-10-02T21:35:08.131Z"
   },
   {
    "duration": 26,
    "start_time": "2021-10-02T21:35:08.275Z"
   },
   {
    "duration": 19,
    "start_time": "2021-10-02T21:35:08.303Z"
   },
   {
    "duration": 104,
    "start_time": "2021-10-02T21:35:08.324Z"
   },
   {
    "duration": 7,
    "start_time": "2021-10-02T21:35:08.431Z"
   },
   {
    "duration": 6,
    "start_time": "2021-10-02T21:35:08.440Z"
   },
   {
    "duration": 14,
    "start_time": "2021-10-02T21:35:08.448Z"
   },
   {
    "duration": 12,
    "start_time": "2021-10-02T21:35:08.464Z"
   },
   {
    "duration": 368,
    "start_time": "2021-10-02T21:35:08.478Z"
   },
   {
    "duration": 23,
    "start_time": "2021-10-02T21:35:08.848Z"
   },
   {
    "duration": 193,
    "start_time": "2021-10-02T21:35:08.873Z"
   },
   {
    "duration": 19,
    "start_time": "2021-10-02T21:35:09.067Z"
   },
   {
    "duration": 193,
    "start_time": "2021-10-02T21:35:09.088Z"
   },
   {
    "duration": 46,
    "start_time": "2021-10-02T21:35:09.283Z"
   },
   {
    "duration": 14,
    "start_time": "2021-10-02T21:35:09.331Z"
   },
   {
    "duration": 106,
    "start_time": "2021-10-02T21:35:09.347Z"
   },
   {
    "duration": 54,
    "start_time": "2021-10-02T21:35:09.455Z"
   },
   {
    "duration": 47,
    "start_time": "2021-10-02T21:35:09.511Z"
   },
   {
    "duration": 8,
    "start_time": "2021-10-02T21:35:09.560Z"
   },
   {
    "duration": 53,
    "start_time": "2021-10-02T21:35:09.570Z"
   },
   {
    "duration": 20,
    "start_time": "2021-10-02T21:35:09.625Z"
   },
   {
    "duration": 6,
    "start_time": "2021-10-02T21:35:09.647Z"
   },
   {
    "duration": 14,
    "start_time": "2021-10-02T21:35:09.656Z"
   },
   {
    "duration": 49,
    "start_time": "2021-10-02T21:35:09.699Z"
   },
   {
    "duration": 64,
    "start_time": "2021-10-02T21:35:09.750Z"
   },
   {
    "duration": 31,
    "start_time": "2021-10-02T21:35:09.816Z"
   },
   {
    "duration": 31,
    "start_time": "2021-10-02T21:35:09.849Z"
   },
   {
    "duration": 41,
    "start_time": "2021-10-02T21:35:09.900Z"
   },
   {
    "duration": 27,
    "start_time": "2021-10-02T21:35:09.943Z"
   },
   {
    "duration": 51,
    "start_time": "2021-10-02T21:35:09.972Z"
   },
   {
    "duration": 21,
    "start_time": "2021-10-02T21:35:10.026Z"
   },
   {
    "duration": 18,
    "start_time": "2021-10-02T21:35:10.050Z"
   },
   {
    "duration": 180,
    "start_time": "2021-10-02T21:35:10.070Z"
   },
   {
    "duration": 7,
    "start_time": "2021-10-02T21:35:39.435Z"
   },
   {
    "duration": 420,
    "start_time": "2021-10-02T21:37:17.677Z"
   },
   {
    "duration": 27,
    "start_time": "2021-10-02T21:37:18.099Z"
   },
   {
    "duration": 160,
    "start_time": "2021-10-02T21:37:18.129Z"
   },
   {
    "duration": 27,
    "start_time": "2021-10-02T21:37:18.292Z"
   },
   {
    "duration": 145,
    "start_time": "2021-10-02T21:37:18.322Z"
   },
   {
    "duration": 18,
    "start_time": "2021-10-02T21:37:18.468Z"
   },
   {
    "duration": 29,
    "start_time": "2021-10-02T21:37:18.488Z"
   },
   {
    "duration": 131,
    "start_time": "2021-10-02T21:37:18.521Z"
   },
   {
    "duration": 6,
    "start_time": "2021-10-02T21:37:18.654Z"
   },
   {
    "duration": 8,
    "start_time": "2021-10-02T21:37:18.662Z"
   },
   {
    "duration": 30,
    "start_time": "2021-10-02T21:37:18.672Z"
   },
   {
    "duration": 10,
    "start_time": "2021-10-02T21:37:18.705Z"
   },
   {
    "duration": 399,
    "start_time": "2021-10-02T21:37:18.718Z"
   },
   {
    "duration": 23,
    "start_time": "2021-10-02T21:37:19.119Z"
   },
   {
    "duration": 216,
    "start_time": "2021-10-02T21:37:19.144Z"
   },
   {
    "duration": 21,
    "start_time": "2021-10-02T21:37:19.362Z"
   },
   {
    "duration": 196,
    "start_time": "2021-10-02T21:37:19.385Z"
   },
   {
    "duration": 47,
    "start_time": "2021-10-02T21:37:19.582Z"
   },
   {
    "duration": 12,
    "start_time": "2021-10-02T21:37:19.631Z"
   },
   {
    "duration": 123,
    "start_time": "2021-10-02T21:37:19.644Z"
   },
   {
    "duration": 63,
    "start_time": "2021-10-02T21:37:19.769Z"
   },
   {
    "duration": 47,
    "start_time": "2021-10-02T21:37:19.834Z"
   },
   {
    "duration": 21,
    "start_time": "2021-10-02T21:37:19.884Z"
   },
   {
    "duration": 26,
    "start_time": "2021-10-02T21:37:19.907Z"
   },
   {
    "duration": 19,
    "start_time": "2021-10-02T21:37:19.935Z"
   },
   {
    "duration": 5,
    "start_time": "2021-10-02T21:37:19.956Z"
   },
   {
    "duration": 59,
    "start_time": "2021-10-02T21:37:19.963Z"
   },
   {
    "duration": 53,
    "start_time": "2021-10-02T21:37:20.023Z"
   },
   {
    "duration": 58,
    "start_time": "2021-10-02T21:37:20.078Z"
   },
   {
    "duration": 31,
    "start_time": "2021-10-02T21:37:20.138Z"
   },
   {
    "duration": 58,
    "start_time": "2021-10-02T21:37:20.171Z"
   },
   {
    "duration": 35,
    "start_time": "2021-10-02T21:37:20.231Z"
   },
   {
    "duration": 49,
    "start_time": "2021-10-02T21:37:20.268Z"
   },
   {
    "duration": 21,
    "start_time": "2021-10-02T21:37:20.319Z"
   },
   {
    "duration": 21,
    "start_time": "2021-10-02T21:37:20.343Z"
   },
   {
    "duration": 40,
    "start_time": "2021-10-02T21:37:20.366Z"
   },
   {
    "duration": 4370,
    "start_time": "2021-10-02T21:37:20.408Z"
   },
   {
    "duration": -103,
    "start_time": "2021-10-02T21:37:24.883Z"
   },
   {
    "duration": 4,
    "start_time": "2021-10-02T21:38:02.833Z"
   },
   {
    "duration": 390,
    "start_time": "2021-10-02T21:38:34.656Z"
   },
   {
    "duration": 23,
    "start_time": "2021-10-02T21:38:35.048Z"
   },
   {
    "duration": 166,
    "start_time": "2021-10-02T21:38:35.074Z"
   },
   {
    "duration": 19,
    "start_time": "2021-10-02T21:38:35.242Z"
   },
   {
    "duration": 153,
    "start_time": "2021-10-02T21:38:35.263Z"
   },
   {
    "duration": 17,
    "start_time": "2021-10-02T21:38:35.419Z"
   },
   {
    "duration": 15,
    "start_time": "2021-10-02T21:38:35.438Z"
   },
   {
    "duration": 114,
    "start_time": "2021-10-02T21:38:35.455Z"
   },
   {
    "duration": 7,
    "start_time": "2021-10-02T21:38:35.571Z"
   },
   {
    "duration": 20,
    "start_time": "2021-10-02T21:38:35.580Z"
   },
   {
    "duration": 15,
    "start_time": "2021-10-02T21:38:35.602Z"
   },
   {
    "duration": 8,
    "start_time": "2021-10-02T21:38:35.620Z"
   },
   {
    "duration": 383,
    "start_time": "2021-10-02T21:38:35.630Z"
   },
   {
    "duration": 22,
    "start_time": "2021-10-02T21:38:36.016Z"
   },
   {
    "duration": 194,
    "start_time": "2021-10-02T21:38:36.040Z"
   },
   {
    "duration": 19,
    "start_time": "2021-10-02T21:38:36.236Z"
   },
   {
    "duration": 177,
    "start_time": "2021-10-02T21:38:36.257Z"
   },
   {
    "duration": 30,
    "start_time": "2021-10-02T21:38:36.435Z"
   },
   {
    "duration": 12,
    "start_time": "2021-10-02T21:38:36.467Z"
   },
   {
    "duration": 117,
    "start_time": "2021-10-02T21:38:36.501Z"
   },
   {
    "duration": 45,
    "start_time": "2021-10-02T21:38:36.621Z"
   },
   {
    "duration": 67,
    "start_time": "2021-10-02T21:38:36.668Z"
   },
   {
    "duration": 7,
    "start_time": "2021-10-02T21:38:36.738Z"
   },
   {
    "duration": 20,
    "start_time": "2021-10-02T21:38:36.747Z"
   },
   {
    "duration": 42,
    "start_time": "2021-10-02T21:38:36.768Z"
   },
   {
    "duration": 7,
    "start_time": "2021-10-02T21:38:36.812Z"
   },
   {
    "duration": 24,
    "start_time": "2021-10-02T21:38:36.821Z"
   },
   {
    "duration": 86,
    "start_time": "2021-10-02T21:38:36.846Z"
   },
   {
    "duration": 51,
    "start_time": "2021-10-02T21:38:36.935Z"
   },
   {
    "duration": 44,
    "start_time": "2021-10-02T21:38:36.987Z"
   },
   {
    "duration": 26,
    "start_time": "2021-10-02T21:38:37.033Z"
   },
   {
    "duration": 50,
    "start_time": "2021-10-02T21:38:37.061Z"
   },
   {
    "duration": 31,
    "start_time": "2021-10-02T21:38:37.114Z"
   },
   {
    "duration": 17,
    "start_time": "2021-10-02T21:38:37.147Z"
   },
   {
    "duration": 51,
    "start_time": "2021-10-02T21:38:37.165Z"
   },
   {
    "duration": 17,
    "start_time": "2021-10-02T21:38:37.218Z"
   },
   {
    "duration": 3,
    "start_time": "2021-10-02T21:38:37.237Z"
   },
   {
    "duration": 192,
    "start_time": "2021-10-02T21:38:37.242Z"
   },
   {
    "duration": 406,
    "start_time": "2021-10-02T21:52:03.102Z"
   },
   {
    "duration": 19,
    "start_time": "2021-10-02T21:52:03.510Z"
   },
   {
    "duration": 144,
    "start_time": "2021-10-02T21:52:03.531Z"
   },
   {
    "duration": 25,
    "start_time": "2021-10-02T21:52:03.677Z"
   },
   {
    "duration": 130,
    "start_time": "2021-10-02T21:52:03.704Z"
   },
   {
    "duration": 18,
    "start_time": "2021-10-02T21:52:03.836Z"
   },
   {
    "duration": 13,
    "start_time": "2021-10-02T21:52:03.856Z"
   },
   {
    "duration": 101,
    "start_time": "2021-10-02T21:52:03.871Z"
   },
   {
    "duration": 6,
    "start_time": "2021-10-02T21:52:03.975Z"
   },
   {
    "duration": 21,
    "start_time": "2021-10-02T21:52:03.983Z"
   },
   {
    "duration": 11,
    "start_time": "2021-10-02T21:52:04.006Z"
   },
   {
    "duration": 9,
    "start_time": "2021-10-02T21:52:04.018Z"
   },
   {
    "duration": 337,
    "start_time": "2021-10-02T21:52:04.029Z"
   },
   {
    "duration": 35,
    "start_time": "2021-10-02T21:52:04.368Z"
   },
   {
    "duration": 172,
    "start_time": "2021-10-02T21:52:04.404Z"
   },
   {
    "duration": 26,
    "start_time": "2021-10-02T21:52:04.577Z"
   },
   {
    "duration": 152,
    "start_time": "2021-10-02T21:52:04.605Z"
   },
   {
    "duration": 30,
    "start_time": "2021-10-02T21:52:04.759Z"
   },
   {
    "duration": 12,
    "start_time": "2021-10-02T21:52:04.799Z"
   },
   {
    "duration": 107,
    "start_time": "2021-10-02T21:52:04.813Z"
   },
   {
    "duration": 42,
    "start_time": "2021-10-02T21:52:04.922Z"
   },
   {
    "duration": 59,
    "start_time": "2021-10-02T21:52:04.966Z"
   },
   {
    "duration": 7,
    "start_time": "2021-10-02T21:52:05.027Z"
   },
   {
    "duration": 24,
    "start_time": "2021-10-02T21:52:05.035Z"
   },
   {
    "duration": 41,
    "start_time": "2021-10-02T21:52:05.060Z"
   },
   {
    "duration": 7,
    "start_time": "2021-10-02T21:52:05.104Z"
   },
   {
    "duration": 26,
    "start_time": "2021-10-02T21:52:05.115Z"
   },
   {
    "duration": 63,
    "start_time": "2021-10-02T21:52:05.143Z"
   },
   {
    "duration": 43,
    "start_time": "2021-10-02T21:52:05.207Z"
   },
   {
    "duration": 28,
    "start_time": "2021-10-02T21:52:05.251Z"
   },
   {
    "duration": 28,
    "start_time": "2021-10-02T21:52:05.300Z"
   },
   {
    "duration": 33,
    "start_time": "2021-10-02T21:52:05.329Z"
   },
   {
    "duration": 46,
    "start_time": "2021-10-02T21:52:05.364Z"
   },
   {
    "duration": 17,
    "start_time": "2021-10-02T21:52:05.412Z"
   },
   {
    "duration": 20,
    "start_time": "2021-10-02T21:52:05.431Z"
   },
   {
    "duration": 12,
    "start_time": "2021-10-02T21:52:05.453Z"
   },
   {
    "duration": 34,
    "start_time": "2021-10-02T21:52:05.467Z"
   },
   {
    "duration": 187,
    "start_time": "2021-10-02T21:52:05.503Z"
   },
   {
    "duration": 189,
    "start_time": "2021-10-02T21:52:38.499Z"
   },
   {
    "duration": 417,
    "start_time": "2021-10-02T21:53:01.605Z"
   },
   {
    "duration": 21,
    "start_time": "2021-10-02T21:53:02.024Z"
   },
   {
    "duration": 152,
    "start_time": "2021-10-02T21:53:02.047Z"
   },
   {
    "duration": 17,
    "start_time": "2021-10-02T21:53:02.201Z"
   },
   {
    "duration": 135,
    "start_time": "2021-10-02T21:53:02.220Z"
   },
   {
    "duration": 18,
    "start_time": "2021-10-02T21:53:02.356Z"
   },
   {
    "duration": 30,
    "start_time": "2021-10-02T21:53:02.376Z"
   },
   {
    "duration": 93,
    "start_time": "2021-10-02T21:53:02.407Z"
   },
   {
    "duration": 6,
    "start_time": "2021-10-02T21:53:02.502Z"
   },
   {
    "duration": 10,
    "start_time": "2021-10-02T21:53:02.510Z"
   },
   {
    "duration": 11,
    "start_time": "2021-10-02T21:53:02.522Z"
   },
   {
    "duration": 8,
    "start_time": "2021-10-02T21:53:02.535Z"
   },
   {
    "duration": 351,
    "start_time": "2021-10-02T21:53:02.545Z"
   },
   {
    "duration": 22,
    "start_time": "2021-10-02T21:53:02.900Z"
   },
   {
    "duration": 189,
    "start_time": "2021-10-02T21:53:02.923Z"
   },
   {
    "duration": 19,
    "start_time": "2021-10-02T21:53:03.114Z"
   },
   {
    "duration": 172,
    "start_time": "2021-10-02T21:53:03.135Z"
   },
   {
    "duration": 32,
    "start_time": "2021-10-02T21:53:03.309Z"
   },
   {
    "duration": 37,
    "start_time": "2021-10-02T21:53:03.343Z"
   },
   {
    "duration": 121,
    "start_time": "2021-10-02T21:53:03.382Z"
   },
   {
    "duration": 43,
    "start_time": "2021-10-02T21:53:03.505Z"
   },
   {
    "duration": 53,
    "start_time": "2021-10-02T21:53:03.550Z"
   },
   {
    "duration": 8,
    "start_time": "2021-10-02T21:53:03.605Z"
   },
   {
    "duration": 22,
    "start_time": "2021-10-02T21:53:03.614Z"
   },
   {
    "duration": 18,
    "start_time": "2021-10-02T21:53:03.637Z"
   },
   {
    "duration": 6,
    "start_time": "2021-10-02T21:53:03.657Z"
   },
   {
    "duration": 46,
    "start_time": "2021-10-02T21:53:03.667Z"
   },
   {
    "duration": 40,
    "start_time": "2021-10-02T21:53:03.715Z"
   },
   {
    "duration": 61,
    "start_time": "2021-10-02T21:53:03.757Z"
   },
   {
    "duration": 27,
    "start_time": "2021-10-02T21:53:03.820Z"
   },
   {
    "duration": 27,
    "start_time": "2021-10-02T21:53:03.849Z"
   },
   {
    "duration": 48,
    "start_time": "2021-10-02T21:53:03.877Z"
   },
   {
    "duration": 25,
    "start_time": "2021-10-02T21:53:03.927Z"
   },
   {
    "duration": 47,
    "start_time": "2021-10-02T21:53:03.954Z"
   },
   {
    "duration": 20,
    "start_time": "2021-10-02T21:53:04.002Z"
   },
   {
    "duration": 12,
    "start_time": "2021-10-02T21:53:04.024Z"
   },
   {
    "duration": 4,
    "start_time": "2021-10-02T21:53:04.037Z"
   },
   {
    "duration": 65,
    "start_time": "2021-10-02T21:53:04.042Z"
   },
   {
    "duration": 17,
    "start_time": "2021-10-02T21:54:39.878Z"
   },
   {
    "duration": 397,
    "start_time": "2021-10-02T21:54:50.476Z"
   },
   {
    "duration": 19,
    "start_time": "2021-10-02T21:54:50.875Z"
   },
   {
    "duration": 138,
    "start_time": "2021-10-02T21:54:50.896Z"
   },
   {
    "duration": 17,
    "start_time": "2021-10-02T21:54:51.036Z"
   },
   {
    "duration": 129,
    "start_time": "2021-10-02T21:54:51.054Z"
   },
   {
    "duration": 21,
    "start_time": "2021-10-02T21:54:51.185Z"
   },
   {
    "duration": 14,
    "start_time": "2021-10-02T21:54:51.208Z"
   },
   {
    "duration": 115,
    "start_time": "2021-10-02T21:54:51.225Z"
   },
   {
    "duration": 6,
    "start_time": "2021-10-02T21:54:51.342Z"
   },
   {
    "duration": 10,
    "start_time": "2021-10-02T21:54:51.349Z"
   },
   {
    "duration": 15,
    "start_time": "2021-10-02T21:54:51.360Z"
   },
   {
    "duration": 26,
    "start_time": "2021-10-02T21:54:51.377Z"
   },
   {
    "duration": 341,
    "start_time": "2021-10-02T21:54:51.405Z"
   },
   {
    "duration": 21,
    "start_time": "2021-10-02T21:54:51.747Z"
   },
   {
    "duration": 181,
    "start_time": "2021-10-02T21:54:51.769Z"
   },
   {
    "duration": 19,
    "start_time": "2021-10-02T21:54:51.951Z"
   },
   {
    "duration": 171,
    "start_time": "2021-10-02T21:54:51.972Z"
   },
   {
    "duration": 30,
    "start_time": "2021-10-02T21:54:52.144Z"
   },
   {
    "duration": 27,
    "start_time": "2021-10-02T21:54:52.176Z"
   },
   {
    "duration": 120,
    "start_time": "2021-10-02T21:54:52.205Z"
   },
   {
    "duration": 43,
    "start_time": "2021-10-02T21:54:52.326Z"
   },
   {
    "duration": 54,
    "start_time": "2021-10-02T21:54:52.370Z"
   },
   {
    "duration": 7,
    "start_time": "2021-10-02T21:54:52.428Z"
   },
   {
    "duration": 26,
    "start_time": "2021-10-02T21:54:52.437Z"
   },
   {
    "duration": 38,
    "start_time": "2021-10-02T21:54:52.464Z"
   },
   {
    "duration": 5,
    "start_time": "2021-10-02T21:54:52.504Z"
   },
   {
    "duration": 20,
    "start_time": "2021-10-02T21:54:52.511Z"
   },
   {
    "duration": 42,
    "start_time": "2021-10-02T21:54:52.533Z"
   },
   {
    "duration": 54,
    "start_time": "2021-10-02T21:54:52.577Z"
   },
   {
    "duration": 27,
    "start_time": "2021-10-02T21:54:52.633Z"
   },
   {
    "duration": 48,
    "start_time": "2021-10-02T21:54:52.662Z"
   },
   {
    "duration": 31,
    "start_time": "2021-10-02T21:54:52.712Z"
   },
   {
    "duration": 27,
    "start_time": "2021-10-02T21:54:52.745Z"
   },
   {
    "duration": 42,
    "start_time": "2021-10-02T21:54:52.773Z"
   },
   {
    "duration": 17,
    "start_time": "2021-10-02T21:54:52.816Z"
   },
   {
    "duration": 12,
    "start_time": "2021-10-02T21:54:52.834Z"
   },
   {
    "duration": 4,
    "start_time": "2021-10-02T21:54:52.848Z"
   },
   {
    "duration": 46,
    "start_time": "2021-10-02T21:54:52.853Z"
   },
   {
    "duration": 436,
    "start_time": "2021-10-02T21:56:16.974Z"
   },
   {
    "duration": 20,
    "start_time": "2021-10-02T21:56:17.413Z"
   },
   {
    "duration": 164,
    "start_time": "2021-10-02T21:56:17.435Z"
   },
   {
    "duration": 24,
    "start_time": "2021-10-02T21:56:17.602Z"
   },
   {
    "duration": 140,
    "start_time": "2021-10-02T21:56:17.628Z"
   },
   {
    "duration": 17,
    "start_time": "2021-10-02T21:56:17.770Z"
   },
   {
    "duration": 24,
    "start_time": "2021-10-02T21:56:17.799Z"
   },
   {
    "duration": 108,
    "start_time": "2021-10-02T21:56:17.825Z"
   },
   {
    "duration": 5,
    "start_time": "2021-10-02T21:56:17.936Z"
   },
   {
    "duration": 7,
    "start_time": "2021-10-02T21:56:17.943Z"
   },
   {
    "duration": 13,
    "start_time": "2021-10-02T21:56:17.952Z"
   },
   {
    "duration": 8,
    "start_time": "2021-10-02T21:56:17.966Z"
   },
   {
    "duration": 346,
    "start_time": "2021-10-02T21:56:17.976Z"
   },
   {
    "duration": 20,
    "start_time": "2021-10-02T21:56:18.324Z"
   },
   {
    "duration": 193,
    "start_time": "2021-10-02T21:56:18.345Z"
   },
   {
    "duration": 18,
    "start_time": "2021-10-02T21:56:18.539Z"
   },
   {
    "duration": 171,
    "start_time": "2021-10-02T21:56:18.559Z"
   },
   {
    "duration": 31,
    "start_time": "2021-10-02T21:56:18.732Z"
   },
   {
    "duration": 12,
    "start_time": "2021-10-02T21:56:18.764Z"
   },
   {
    "duration": 128,
    "start_time": "2021-10-02T21:56:18.778Z"
   },
   {
    "duration": 48,
    "start_time": "2021-10-02T21:56:18.908Z"
   },
   {
    "duration": 65,
    "start_time": "2021-10-02T21:56:18.958Z"
   },
   {
    "duration": 8,
    "start_time": "2021-10-02T21:56:19.025Z"
   },
   {
    "duration": 21,
    "start_time": "2021-10-02T21:56:19.035Z"
   },
   {
    "duration": 42,
    "start_time": "2021-10-02T21:56:19.058Z"
   },
   {
    "duration": 7,
    "start_time": "2021-10-02T21:56:19.103Z"
   },
   {
    "duration": 17,
    "start_time": "2021-10-02T21:56:19.115Z"
   },
   {
    "duration": 39,
    "start_time": "2021-10-02T21:56:19.134Z"
   },
   {
    "duration": 69,
    "start_time": "2021-10-02T21:56:19.175Z"
   },
   {
    "duration": 28,
    "start_time": "2021-10-02T21:56:19.246Z"
   },
   {
    "duration": 57,
    "start_time": "2021-10-02T21:56:19.276Z"
   },
   {
    "duration": 33,
    "start_time": "2021-10-02T21:56:19.334Z"
   },
   {
    "duration": 52,
    "start_time": "2021-10-02T21:56:19.368Z"
   },
   {
    "duration": 17,
    "start_time": "2021-10-02T21:56:19.422Z"
   },
   {
    "duration": 18,
    "start_time": "2021-10-02T21:56:19.441Z"
   },
   {
    "duration": 13,
    "start_time": "2021-10-02T21:56:19.460Z"
   },
   {
    "duration": 216,
    "start_time": "2021-10-02T21:56:19.475Z"
   },
   {
    "duration": -28,
    "start_time": "2021-10-02T21:56:19.721Z"
   },
   {
    "duration": 408,
    "start_time": "2021-10-02T21:56:33.051Z"
   },
   {
    "duration": 20,
    "start_time": "2021-10-02T21:56:33.460Z"
   },
   {
    "duration": 153,
    "start_time": "2021-10-02T21:56:33.482Z"
   },
   {
    "duration": 16,
    "start_time": "2021-10-02T21:56:33.637Z"
   },
   {
    "duration": 137,
    "start_time": "2021-10-02T21:56:33.655Z"
   },
   {
    "duration": 29,
    "start_time": "2021-10-02T21:56:33.794Z"
   },
   {
    "duration": 14,
    "start_time": "2021-10-02T21:56:33.825Z"
   },
   {
    "duration": 109,
    "start_time": "2021-10-02T21:56:33.841Z"
   },
   {
    "duration": 6,
    "start_time": "2021-10-02T21:56:33.953Z"
   },
   {
    "duration": 6,
    "start_time": "2021-10-02T21:56:33.962Z"
   },
   {
    "duration": 29,
    "start_time": "2021-10-02T21:56:33.970Z"
   },
   {
    "duration": 9,
    "start_time": "2021-10-02T21:56:34.002Z"
   },
   {
    "duration": 366,
    "start_time": "2021-10-02T21:56:34.013Z"
   },
   {
    "duration": 29,
    "start_time": "2021-10-02T21:56:34.380Z"
   },
   {
    "duration": 208,
    "start_time": "2021-10-02T21:56:34.411Z"
   },
   {
    "duration": 19,
    "start_time": "2021-10-02T21:56:34.621Z"
   },
   {
    "duration": 183,
    "start_time": "2021-10-02T21:56:34.642Z"
   },
   {
    "duration": 31,
    "start_time": "2021-10-02T21:56:34.828Z"
   },
   {
    "duration": 12,
    "start_time": "2021-10-02T21:56:34.860Z"
   },
   {
    "duration": 117,
    "start_time": "2021-10-02T21:56:34.874Z"
   },
   {
    "duration": 57,
    "start_time": "2021-10-02T21:56:34.993Z"
   },
   {
    "duration": 70,
    "start_time": "2021-10-02T21:56:35.053Z"
   },
   {
    "duration": 8,
    "start_time": "2021-10-02T21:56:35.125Z"
   },
   {
    "duration": 24,
    "start_time": "2021-10-02T21:56:35.134Z"
   },
   {
    "duration": 18,
    "start_time": "2021-10-02T21:56:35.159Z"
   },
   {
    "duration": 26,
    "start_time": "2021-10-02T21:56:35.179Z"
   },
   {
    "duration": 22,
    "start_time": "2021-10-02T21:56:35.211Z"
   },
   {
    "duration": 74,
    "start_time": "2021-10-02T21:56:35.235Z"
   },
   {
    "duration": 42,
    "start_time": "2021-10-02T21:56:35.311Z"
   },
   {
    "duration": 46,
    "start_time": "2021-10-02T21:56:35.355Z"
   },
   {
    "duration": 34,
    "start_time": "2021-10-02T21:56:35.403Z"
   },
   {
    "duration": 31,
    "start_time": "2021-10-02T21:56:35.439Z"
   },
   {
    "duration": 54,
    "start_time": "2021-10-02T21:56:35.471Z"
   },
   {
    "duration": 17,
    "start_time": "2021-10-02T21:56:35.527Z"
   },
   {
    "duration": 18,
    "start_time": "2021-10-02T21:56:35.546Z"
   },
   {
    "duration": 51,
    "start_time": "2021-10-02T21:56:35.566Z"
   },
   {
    "duration": 4,
    "start_time": "2021-10-02T21:56:35.619Z"
   },
   {
    "duration": 20,
    "start_time": "2021-10-02T21:56:35.625Z"
   },
   {
    "duration": 16,
    "start_time": "2021-10-02T21:56:55.182Z"
   },
   {
    "duration": 17,
    "start_time": "2021-10-02T21:57:07.029Z"
   },
   {
    "duration": 415,
    "start_time": "2021-10-02T21:57:14.743Z"
   },
   {
    "duration": 23,
    "start_time": "2021-10-02T21:57:15.160Z"
   },
   {
    "duration": 165,
    "start_time": "2021-10-02T21:57:15.185Z"
   },
   {
    "duration": 18,
    "start_time": "2021-10-02T21:57:15.352Z"
   },
   {
    "duration": 144,
    "start_time": "2021-10-02T21:57:15.372Z"
   },
   {
    "duration": 18,
    "start_time": "2021-10-02T21:57:15.517Z"
   },
   {
    "duration": 14,
    "start_time": "2021-10-02T21:57:15.537Z"
   },
   {
    "duration": 112,
    "start_time": "2021-10-02T21:57:15.553Z"
   },
   {
    "duration": 7,
    "start_time": "2021-10-02T21:57:15.668Z"
   },
   {
    "duration": 26,
    "start_time": "2021-10-02T21:57:15.677Z"
   },
   {
    "duration": 16,
    "start_time": "2021-10-02T21:57:15.705Z"
   },
   {
    "duration": 7,
    "start_time": "2021-10-02T21:57:15.723Z"
   },
   {
    "duration": 410,
    "start_time": "2021-10-02T21:57:15.732Z"
   },
   {
    "duration": 23,
    "start_time": "2021-10-02T21:57:16.143Z"
   },
   {
    "duration": 208,
    "start_time": "2021-10-02T21:57:16.168Z"
   },
   {
    "duration": 36,
    "start_time": "2021-10-02T21:57:16.378Z"
   },
   {
    "duration": 177,
    "start_time": "2021-10-02T21:57:16.416Z"
   },
   {
    "duration": 50,
    "start_time": "2021-10-02T21:57:16.598Z"
   },
   {
    "duration": 17,
    "start_time": "2021-10-02T21:57:16.650Z"
   },
   {
    "duration": 125,
    "start_time": "2021-10-02T21:57:16.668Z"
   },
   {
    "duration": 56,
    "start_time": "2021-10-02T21:57:16.794Z"
   },
   {
    "duration": 64,
    "start_time": "2021-10-02T21:57:16.851Z"
   },
   {
    "duration": 9,
    "start_time": "2021-10-02T21:57:16.917Z"
   },
   {
    "duration": 30,
    "start_time": "2021-10-02T21:57:16.927Z"
   },
   {
    "duration": 18,
    "start_time": "2021-10-02T21:57:16.958Z"
   },
   {
    "duration": 22,
    "start_time": "2021-10-02T21:57:16.978Z"
   },
   {
    "duration": 25,
    "start_time": "2021-10-02T21:57:17.005Z"
   },
   {
    "duration": 44,
    "start_time": "2021-10-02T21:57:17.032Z"
   },
   {
    "duration": 60,
    "start_time": "2021-10-02T21:57:17.077Z"
   },
   {
    "duration": 26,
    "start_time": "2021-10-02T21:57:17.139Z"
   },
   {
    "duration": 58,
    "start_time": "2021-10-02T21:57:17.167Z"
   },
   {
    "duration": 32,
    "start_time": "2021-10-02T21:57:17.226Z"
   },
   {
    "duration": 47,
    "start_time": "2021-10-02T21:57:17.260Z"
   },
   {
    "duration": 20,
    "start_time": "2021-10-02T21:57:17.309Z"
   },
   {
    "duration": 17,
    "start_time": "2021-10-02T21:57:17.331Z"
   },
   {
    "duration": 13,
    "start_time": "2021-10-02T21:57:17.350Z"
   },
   {
    "duration": 10,
    "start_time": "2021-10-02T21:57:17.365Z"
   },
   {
    "duration": 37,
    "start_time": "2021-10-02T21:57:17.377Z"
   },
   {
    "duration": 421,
    "start_time": "2021-10-02T21:57:26.640Z"
   },
   {
    "duration": 28,
    "start_time": "2021-10-02T21:57:27.063Z"
   },
   {
    "duration": 156,
    "start_time": "2021-10-02T21:57:27.093Z"
   },
   {
    "duration": 18,
    "start_time": "2021-10-02T21:57:27.251Z"
   },
   {
    "duration": 148,
    "start_time": "2021-10-02T21:57:27.270Z"
   },
   {
    "duration": 18,
    "start_time": "2021-10-02T21:57:27.420Z"
   },
   {
    "duration": 17,
    "start_time": "2021-10-02T21:57:27.440Z"
   },
   {
    "duration": 110,
    "start_time": "2021-10-02T21:57:27.459Z"
   },
   {
    "duration": 6,
    "start_time": "2021-10-02T21:57:27.572Z"
   },
   {
    "duration": 23,
    "start_time": "2021-10-02T21:57:27.581Z"
   },
   {
    "duration": 16,
    "start_time": "2021-10-02T21:57:27.606Z"
   },
   {
    "duration": 20,
    "start_time": "2021-10-02T21:57:27.624Z"
   },
   {
    "duration": 350,
    "start_time": "2021-10-02T21:57:27.646Z"
   },
   {
    "duration": 28,
    "start_time": "2021-10-02T21:57:28.000Z"
   },
   {
    "duration": 191,
    "start_time": "2021-10-02T21:57:28.030Z"
   },
   {
    "duration": 19,
    "start_time": "2021-10-02T21:57:28.223Z"
   },
   {
    "duration": 190,
    "start_time": "2021-10-02T21:57:28.243Z"
   },
   {
    "duration": 33,
    "start_time": "2021-10-02T21:57:28.435Z"
   },
   {
    "duration": 13,
    "start_time": "2021-10-02T21:57:28.469Z"
   },
   {
    "duration": 113,
    "start_time": "2021-10-02T21:57:28.506Z"
   },
   {
    "duration": 46,
    "start_time": "2021-10-02T21:57:28.621Z"
   },
   {
    "duration": 68,
    "start_time": "2021-10-02T21:57:28.669Z"
   },
   {
    "duration": 8,
    "start_time": "2021-10-02T21:57:28.739Z"
   },
   {
    "duration": 28,
    "start_time": "2021-10-02T21:57:28.748Z"
   },
   {
    "duration": 30,
    "start_time": "2021-10-02T21:57:28.777Z"
   },
   {
    "duration": 7,
    "start_time": "2021-10-02T21:57:28.810Z"
   },
   {
    "duration": 18,
    "start_time": "2021-10-02T21:57:28.821Z"
   },
   {
    "duration": 66,
    "start_time": "2021-10-02T21:57:28.841Z"
   },
   {
    "duration": 47,
    "start_time": "2021-10-02T21:57:28.909Z"
   },
   {
    "duration": 47,
    "start_time": "2021-10-02T21:57:28.958Z"
   },
   {
    "duration": 32,
    "start_time": "2021-10-02T21:57:29.008Z"
   },
   {
    "duration": 33,
    "start_time": "2021-10-02T21:57:29.042Z"
   },
   {
    "duration": 51,
    "start_time": "2021-10-02T21:57:29.077Z"
   },
   {
    "duration": 17,
    "start_time": "2021-10-02T21:57:29.130Z"
   },
   {
    "duration": 18,
    "start_time": "2021-10-02T21:57:29.149Z"
   },
   {
    "duration": 48,
    "start_time": "2021-10-02T21:57:29.168Z"
   },
   {
    "duration": 5,
    "start_time": "2021-10-02T21:57:29.218Z"
   },
   {
    "duration": 33,
    "start_time": "2021-10-02T21:57:29.225Z"
   },
   {
    "duration": 7,
    "start_time": "2021-10-02T22:04:24.881Z"
   },
   {
    "duration": 4,
    "start_time": "2021-10-02T22:17:58.928Z"
   },
   {
    "duration": 187,
    "start_time": "2021-10-02T22:19:18.318Z"
   },
   {
    "duration": 188,
    "start_time": "2021-10-02T22:19:25.006Z"
   },
   {
    "duration": 133,
    "start_time": "2021-10-02T22:21:02.895Z"
   },
   {
    "duration": 151,
    "start_time": "2021-10-02T22:22:32.781Z"
   },
   {
    "duration": 379,
    "start_time": "2021-10-02T22:23:27.917Z"
   },
   {
    "duration": 19,
    "start_time": "2021-10-02T22:23:28.298Z"
   },
   {
    "duration": 146,
    "start_time": "2021-10-02T22:23:28.319Z"
   },
   {
    "duration": 17,
    "start_time": "2021-10-02T22:23:28.468Z"
   },
   {
    "duration": 132,
    "start_time": "2021-10-02T22:23:28.487Z"
   },
   {
    "duration": 18,
    "start_time": "2021-10-02T22:23:28.621Z"
   },
   {
    "duration": 14,
    "start_time": "2021-10-02T22:23:28.641Z"
   },
   {
    "duration": 103,
    "start_time": "2021-10-02T22:23:28.657Z"
   },
   {
    "duration": 6,
    "start_time": "2021-10-02T22:23:28.763Z"
   },
   {
    "duration": 7,
    "start_time": "2021-10-02T22:23:28.771Z"
   },
   {
    "duration": 28,
    "start_time": "2021-10-02T22:23:28.779Z"
   },
   {
    "duration": 7,
    "start_time": "2021-10-02T22:23:28.809Z"
   },
   {
    "duration": 337,
    "start_time": "2021-10-02T22:23:28.817Z"
   },
   {
    "duration": 21,
    "start_time": "2021-10-02T22:23:29.155Z"
   },
   {
    "duration": 174,
    "start_time": "2021-10-02T22:23:29.177Z"
   },
   {
    "duration": 18,
    "start_time": "2021-10-02T22:23:29.352Z"
   },
   {
    "duration": 158,
    "start_time": "2021-10-02T22:23:29.371Z"
   },
   {
    "duration": 30,
    "start_time": "2021-10-02T22:23:29.530Z"
   },
   {
    "duration": 12,
    "start_time": "2021-10-02T22:23:29.562Z"
   },
   {
    "duration": 104,
    "start_time": "2021-10-02T22:23:29.576Z"
   },
   {
    "duration": 52,
    "start_time": "2021-10-02T22:23:29.682Z"
   },
   {
    "duration": 40,
    "start_time": "2021-10-02T22:23:29.736Z"
   },
   {
    "duration": 23,
    "start_time": "2021-10-02T22:23:29.778Z"
   },
   {
    "duration": 20,
    "start_time": "2021-10-02T22:23:29.803Z"
   },
   {
    "duration": 17,
    "start_time": "2021-10-02T22:23:29.824Z"
   },
   {
    "duration": 5,
    "start_time": "2021-10-02T22:23:29.842Z"
   },
   {
    "duration": 13,
    "start_time": "2021-10-02T22:23:29.850Z"
   },
   {
    "duration": 71,
    "start_time": "2021-10-02T22:23:29.865Z"
   },
   {
    "duration": 39,
    "start_time": "2021-10-02T22:23:29.938Z"
   },
   {
    "duration": 40,
    "start_time": "2021-10-02T22:23:29.978Z"
   },
   {
    "duration": 29,
    "start_time": "2021-10-02T22:23:30.020Z"
   },
   {
    "duration": 49,
    "start_time": "2021-10-02T22:23:30.051Z"
   },
   {
    "duration": 26,
    "start_time": "2021-10-02T22:23:30.101Z"
   },
   {
    "duration": 18,
    "start_time": "2021-10-02T22:23:30.128Z"
   },
   {
    "duration": 18,
    "start_time": "2021-10-02T22:23:30.148Z"
   },
   {
    "duration": 43,
    "start_time": "2021-10-02T22:23:30.168Z"
   },
   {
    "duration": 4,
    "start_time": "2021-10-02T22:23:30.213Z"
   },
   {
    "duration": 31,
    "start_time": "2021-10-02T22:23:30.219Z"
   },
   {
    "duration": 5,
    "start_time": "2021-10-02T22:23:30.252Z"
   },
   {
    "duration": 13,
    "start_time": "2021-10-02T22:23:30.259Z"
   },
   {
    "duration": 5531,
    "start_time": "2021-10-02T22:23:30.274Z"
   },
   {
    "duration": 138,
    "start_time": "2021-10-02T22:23:47.019Z"
   },
   {
    "duration": 396,
    "start_time": "2021-10-02T22:24:01.972Z"
   },
   {
    "duration": 20,
    "start_time": "2021-10-02T22:24:02.370Z"
   },
   {
    "duration": 146,
    "start_time": "2021-10-02T22:24:02.392Z"
   },
   {
    "duration": 18,
    "start_time": "2021-10-02T22:24:02.540Z"
   },
   {
    "duration": 129,
    "start_time": "2021-10-02T22:24:02.559Z"
   },
   {
    "duration": 18,
    "start_time": "2021-10-02T22:24:02.690Z"
   },
   {
    "duration": 14,
    "start_time": "2021-10-02T22:24:02.710Z"
   },
   {
    "duration": 105,
    "start_time": "2021-10-02T22:24:02.726Z"
   },
   {
    "duration": 6,
    "start_time": "2021-10-02T22:24:02.833Z"
   },
   {
    "duration": 22,
    "start_time": "2021-10-02T22:24:02.840Z"
   },
   {
    "duration": 19,
    "start_time": "2021-10-02T22:24:02.863Z"
   },
   {
    "duration": 24,
    "start_time": "2021-10-02T22:24:02.883Z"
   },
   {
    "duration": 312,
    "start_time": "2021-10-02T22:24:02.908Z"
   },
   {
    "duration": 22,
    "start_time": "2021-10-02T22:24:03.222Z"
   },
   {
    "duration": 183,
    "start_time": "2021-10-02T22:24:03.246Z"
   },
   {
    "duration": 21,
    "start_time": "2021-10-02T22:24:03.431Z"
   },
   {
    "duration": 163,
    "start_time": "2021-10-02T22:24:03.454Z"
   },
   {
    "duration": 33,
    "start_time": "2021-10-02T22:24:03.619Z"
   },
   {
    "duration": 13,
    "start_time": "2021-10-02T22:24:03.654Z"
   },
   {
    "duration": 122,
    "start_time": "2021-10-02T22:24:03.669Z"
   },
   {
    "duration": 48,
    "start_time": "2021-10-02T22:24:03.792Z"
   },
   {
    "duration": 59,
    "start_time": "2021-10-02T22:24:03.841Z"
   },
   {
    "duration": 7,
    "start_time": "2021-10-02T22:24:03.903Z"
   },
   {
    "duration": 39,
    "start_time": "2021-10-02T22:24:03.912Z"
   },
   {
    "duration": 16,
    "start_time": "2021-10-02T22:24:03.952Z"
   },
   {
    "duration": 11,
    "start_time": "2021-10-02T22:24:03.970Z"
   },
   {
    "duration": 30,
    "start_time": "2021-10-02T22:24:03.983Z"
   },
   {
    "duration": 48,
    "start_time": "2021-10-02T22:24:04.014Z"
   },
   {
    "duration": 49,
    "start_time": "2021-10-02T22:24:04.064Z"
   },
   {
    "duration": 28,
    "start_time": "2021-10-02T22:24:04.114Z"
   },
   {
    "duration": 27,
    "start_time": "2021-10-02T22:24:04.144Z"
   },
   {
    "duration": 52,
    "start_time": "2021-10-02T22:24:04.172Z"
   },
   {
    "duration": 26,
    "start_time": "2021-10-02T22:24:04.225Z"
   },
   {
    "duration": 17,
    "start_time": "2021-10-02T22:24:04.253Z"
   },
   {
    "duration": 38,
    "start_time": "2021-10-02T22:24:04.271Z"
   },
   {
    "duration": 12,
    "start_time": "2021-10-02T22:24:04.311Z"
   },
   {
    "duration": 17,
    "start_time": "2021-10-02T22:24:04.325Z"
   },
   {
    "duration": 30,
    "start_time": "2021-10-02T22:24:04.344Z"
   },
   {
    "duration": 5,
    "start_time": "2021-10-02T22:24:04.376Z"
   },
   {
    "duration": 264,
    "start_time": "2021-10-02T22:24:04.382Z"
   },
   {
    "duration": -69,
    "start_time": "2021-10-02T22:24:04.717Z"
   },
   {
    "duration": 4,
    "start_time": "2021-10-02T22:24:37.399Z"
   },
   {
    "duration": 136,
    "start_time": "2021-10-02T22:24:39.845Z"
   },
   {
    "duration": 8,
    "start_time": "2021-10-02T22:27:02.618Z"
   },
   {
    "duration": 10,
    "start_time": "2021-10-02T22:27:29.823Z"
   },
   {
    "duration": 136,
    "start_time": "2021-10-02T22:27:47.143Z"
   },
   {
    "duration": 7,
    "start_time": "2021-10-02T22:28:12.216Z"
   },
   {
    "duration": 407,
    "start_time": "2021-10-02T22:28:31.936Z"
   },
   {
    "duration": 20,
    "start_time": "2021-10-02T22:28:32.345Z"
   },
   {
    "duration": 133,
    "start_time": "2021-10-02T22:28:32.368Z"
   },
   {
    "duration": 17,
    "start_time": "2021-10-02T22:28:32.503Z"
   },
   {
    "duration": 128,
    "start_time": "2021-10-02T22:28:32.522Z"
   },
   {
    "duration": 17,
    "start_time": "2021-10-02T22:28:32.652Z"
   },
   {
    "duration": 28,
    "start_time": "2021-10-02T22:28:32.671Z"
   },
   {
    "duration": 86,
    "start_time": "2021-10-02T22:28:32.701Z"
   },
   {
    "duration": 14,
    "start_time": "2021-10-02T22:28:32.790Z"
   },
   {
    "duration": 10,
    "start_time": "2021-10-02T22:28:32.806Z"
   },
   {
    "duration": 16,
    "start_time": "2021-10-02T22:28:32.817Z"
   },
   {
    "duration": 6,
    "start_time": "2021-10-02T22:28:32.835Z"
   },
   {
    "duration": 344,
    "start_time": "2021-10-02T22:28:32.843Z"
   },
   {
    "duration": 25,
    "start_time": "2021-10-02T22:28:33.189Z"
   },
   {
    "duration": 176,
    "start_time": "2021-10-02T22:28:33.215Z"
   },
   {
    "duration": 23,
    "start_time": "2021-10-02T22:28:33.392Z"
   },
   {
    "duration": 156,
    "start_time": "2021-10-02T22:28:33.417Z"
   },
   {
    "duration": 38,
    "start_time": "2021-10-02T22:28:33.575Z"
   },
   {
    "duration": 14,
    "start_time": "2021-10-02T22:28:33.615Z"
   },
   {
    "duration": 110,
    "start_time": "2021-10-02T22:28:33.631Z"
   },
   {
    "duration": 56,
    "start_time": "2021-10-02T22:28:33.743Z"
   },
   {
    "duration": 45,
    "start_time": "2021-10-02T22:28:33.801Z"
   },
   {
    "duration": 9,
    "start_time": "2021-10-02T22:28:33.848Z"
   },
   {
    "duration": 46,
    "start_time": "2021-10-02T22:28:33.859Z"
   },
   {
    "duration": 18,
    "start_time": "2021-10-02T22:28:33.907Z"
   },
   {
    "duration": 6,
    "start_time": "2021-10-02T22:28:33.927Z"
   },
   {
    "duration": 15,
    "start_time": "2021-10-02T22:28:33.938Z"
   },
   {
    "duration": 67,
    "start_time": "2021-10-02T22:28:33.955Z"
   },
   {
    "duration": 38,
    "start_time": "2021-10-02T22:28:34.024Z"
   },
   {
    "duration": 42,
    "start_time": "2021-10-02T22:28:34.063Z"
   },
   {
    "duration": 27,
    "start_time": "2021-10-02T22:28:34.106Z"
   },
   {
    "duration": 31,
    "start_time": "2021-10-02T22:28:34.134Z"
   },
   {
    "duration": 50,
    "start_time": "2021-10-02T22:28:34.166Z"
   },
   {
    "duration": 16,
    "start_time": "2021-10-02T22:28:34.217Z"
   },
   {
    "duration": 17,
    "start_time": "2021-10-02T22:28:34.235Z"
   },
   {
    "duration": 13,
    "start_time": "2021-10-02T22:28:34.254Z"
   },
   {
    "duration": 32,
    "start_time": "2021-10-02T22:28:34.269Z"
   },
   {
    "duration": 31,
    "start_time": "2021-10-02T22:28:34.303Z"
   },
   {
    "duration": 5,
    "start_time": "2021-10-02T22:28:34.335Z"
   },
   {
    "duration": 18,
    "start_time": "2021-10-02T22:28:34.342Z"
   },
   {
    "duration": 140,
    "start_time": "2021-10-02T22:28:34.361Z"
   },
   {
    "duration": 399,
    "start_time": "2021-10-02T22:28:46.504Z"
   },
   {
    "duration": 21,
    "start_time": "2021-10-02T22:28:46.905Z"
   },
   {
    "duration": 183,
    "start_time": "2021-10-02T22:28:46.929Z"
   },
   {
    "duration": 25,
    "start_time": "2021-10-02T22:28:47.114Z"
   },
   {
    "duration": 129,
    "start_time": "2021-10-02T22:28:47.141Z"
   },
   {
    "duration": 28,
    "start_time": "2021-10-02T22:28:47.272Z"
   },
   {
    "duration": 15,
    "start_time": "2021-10-02T22:28:47.301Z"
   },
   {
    "duration": 98,
    "start_time": "2021-10-02T22:28:47.318Z"
   },
   {
    "duration": 6,
    "start_time": "2021-10-02T22:28:47.418Z"
   },
   {
    "duration": 13,
    "start_time": "2021-10-02T22:28:47.426Z"
   },
   {
    "duration": 22,
    "start_time": "2021-10-02T22:28:47.440Z"
   },
   {
    "duration": 11,
    "start_time": "2021-10-02T22:28:47.464Z"
   },
   {
    "duration": 309,
    "start_time": "2021-10-02T22:28:47.476Z"
   },
   {
    "duration": 30,
    "start_time": "2021-10-02T22:28:47.786Z"
   },
   {
    "duration": 171,
    "start_time": "2021-10-02T22:28:47.817Z"
   },
   {
    "duration": 23,
    "start_time": "2021-10-02T22:28:47.990Z"
   },
   {
    "duration": 146,
    "start_time": "2021-10-02T22:28:48.015Z"
   },
   {
    "duration": 44,
    "start_time": "2021-10-02T22:28:48.162Z"
   },
   {
    "duration": 11,
    "start_time": "2021-10-02T22:28:48.208Z"
   },
   {
    "duration": 105,
    "start_time": "2021-10-02T22:28:48.221Z"
   },
   {
    "duration": 43,
    "start_time": "2021-10-02T22:28:48.327Z"
   },
   {
    "duration": 54,
    "start_time": "2021-10-02T22:28:48.371Z"
   },
   {
    "duration": 7,
    "start_time": "2021-10-02T22:28:48.428Z"
   },
   {
    "duration": 37,
    "start_time": "2021-10-02T22:28:48.437Z"
   },
   {
    "duration": 25,
    "start_time": "2021-10-02T22:28:48.475Z"
   },
   {
    "duration": 10,
    "start_time": "2021-10-02T22:28:48.502Z"
   },
   {
    "duration": 28,
    "start_time": "2021-10-02T22:28:48.514Z"
   },
   {
    "duration": 59,
    "start_time": "2021-10-02T22:28:48.543Z"
   },
   {
    "duration": 41,
    "start_time": "2021-10-02T22:28:48.604Z"
   },
   {
    "duration": 29,
    "start_time": "2021-10-02T22:28:48.647Z"
   },
   {
    "duration": 45,
    "start_time": "2021-10-02T22:28:48.678Z"
   },
   {
    "duration": 32,
    "start_time": "2021-10-02T22:28:48.725Z"
   },
   {
    "duration": 51,
    "start_time": "2021-10-02T22:28:48.759Z"
   },
   {
    "duration": 16,
    "start_time": "2021-10-02T22:28:48.812Z"
   },
   {
    "duration": 18,
    "start_time": "2021-10-02T22:28:48.830Z"
   },
   {
    "duration": 13,
    "start_time": "2021-10-02T22:28:48.850Z"
   },
   {
    "duration": 5,
    "start_time": "2021-10-02T22:28:48.865Z"
   },
   {
    "duration": 28,
    "start_time": "2021-10-02T22:28:48.899Z"
   },
   {
    "duration": 6,
    "start_time": "2021-10-02T22:28:48.929Z"
   },
   {
    "duration": 8,
    "start_time": "2021-10-02T22:28:48.936Z"
   },
   {
    "duration": 157,
    "start_time": "2021-10-02T22:28:48.946Z"
   },
   {
    "duration": 133,
    "start_time": "2021-10-02T22:29:23.126Z"
   },
   {
    "duration": 330,
    "start_time": "2021-10-03T10:34:37.211Z"
   },
   {
    "duration": 1400,
    "start_time": "2021-10-03T10:34:57.635Z"
   },
   {
    "duration": 29,
    "start_time": "2021-10-03T10:34:59.037Z"
   },
   {
    "duration": 231,
    "start_time": "2021-10-03T10:34:59.069Z"
   },
   {
    "duration": 33,
    "start_time": "2021-10-03T10:34:59.304Z"
   },
   {
    "duration": 202,
    "start_time": "2021-10-03T10:34:59.340Z"
   },
   {
    "duration": 23,
    "start_time": "2021-10-03T10:34:59.544Z"
   },
   {
    "duration": 31,
    "start_time": "2021-10-03T10:34:59.569Z"
   },
   {
    "duration": 145,
    "start_time": "2021-10-03T10:34:59.602Z"
   },
   {
    "duration": 9,
    "start_time": "2021-10-03T10:34:59.751Z"
   },
   {
    "duration": 27,
    "start_time": "2021-10-03T10:34:59.764Z"
   },
   {
    "duration": 55,
    "start_time": "2021-10-03T10:34:59.794Z"
   },
   {
    "duration": 25,
    "start_time": "2021-10-03T10:34:59.852Z"
   },
   {
    "duration": 494,
    "start_time": "2021-10-03T10:34:59.880Z"
   },
   {
    "duration": 45,
    "start_time": "2021-10-03T10:35:00.377Z"
   },
   {
    "duration": 243,
    "start_time": "2021-10-03T10:35:00.424Z"
   },
   {
    "duration": 27,
    "start_time": "2021-10-03T10:35:00.669Z"
   },
   {
    "duration": 233,
    "start_time": "2021-10-03T10:35:00.698Z"
   },
   {
    "duration": 55,
    "start_time": "2021-10-03T10:35:00.933Z"
   },
   {
    "duration": 58,
    "start_time": "2021-10-03T10:35:00.991Z"
   },
   {
    "duration": 188,
    "start_time": "2021-10-03T10:35:01.052Z"
   },
   {
    "duration": 80,
    "start_time": "2021-10-03T10:35:01.243Z"
   },
   {
    "duration": 60,
    "start_time": "2021-10-03T10:35:01.326Z"
   },
   {
    "duration": 33,
    "start_time": "2021-10-03T10:35:01.388Z"
   },
   {
    "duration": 52,
    "start_time": "2021-10-03T10:35:01.424Z"
   },
   {
    "duration": 37,
    "start_time": "2021-10-03T10:35:01.479Z"
   },
   {
    "duration": 38,
    "start_time": "2021-10-03T10:35:01.518Z"
   },
   {
    "duration": 46,
    "start_time": "2021-10-03T10:35:01.560Z"
   },
   {
    "duration": 75,
    "start_time": "2021-10-03T10:35:01.609Z"
   },
   {
    "duration": 56,
    "start_time": "2021-10-03T10:35:01.686Z"
   },
   {
    "duration": 39,
    "start_time": "2021-10-03T10:35:01.745Z"
   },
   {
    "duration": 61,
    "start_time": "2021-10-03T10:35:01.787Z"
   },
   {
    "duration": 44,
    "start_time": "2021-10-03T10:35:01.851Z"
   },
   {
    "duration": 57,
    "start_time": "2021-10-03T10:35:01.898Z"
   },
   {
    "duration": 53,
    "start_time": "2021-10-03T10:35:01.958Z"
   },
   {
    "duration": 41,
    "start_time": "2021-10-03T10:35:02.022Z"
   },
   {
    "duration": 37,
    "start_time": "2021-10-03T10:35:02.066Z"
   },
   {
    "duration": 20,
    "start_time": "2021-10-03T10:35:02.106Z"
   },
   {
    "duration": 79,
    "start_time": "2021-10-03T10:35:02.129Z"
   },
   {
    "duration": 15,
    "start_time": "2021-10-03T10:35:02.210Z"
   },
   {
    "duration": 25,
    "start_time": "2021-10-03T10:35:02.227Z"
   },
   {
    "duration": 326,
    "start_time": "2021-10-03T10:35:02.254Z"
   },
   {
    "duration": 381,
    "start_time": "2021-10-03T10:35:02.584Z"
   },
   {
    "duration": 22,
    "start_time": "2021-10-03T10:37:43.665Z"
   },
   {
    "duration": 14,
    "start_time": "2021-10-03T10:37:58.637Z"
   },
   {
    "duration": 22,
    "start_time": "2021-10-03T10:38:30.420Z"
   },
   {
    "duration": 13,
    "start_time": "2021-10-03T10:38:31.474Z"
   },
   {
    "duration": 8,
    "start_time": "2021-10-03T10:45:03.405Z"
   },
   {
    "duration": 7,
    "start_time": "2021-10-03T10:45:38.202Z"
   },
   {
    "duration": 8,
    "start_time": "2021-10-03T10:46:13.472Z"
   },
   {
    "duration": 8,
    "start_time": "2021-10-03T10:47:25.599Z"
   },
   {
    "duration": 522,
    "start_time": "2021-10-03T10:47:30.198Z"
   },
   {
    "duration": 29,
    "start_time": "2021-10-03T10:47:30.723Z"
   },
   {
    "duration": 235,
    "start_time": "2021-10-03T10:47:30.756Z"
   },
   {
    "duration": 34,
    "start_time": "2021-10-03T10:47:30.995Z"
   },
   {
    "duration": 201,
    "start_time": "2021-10-03T10:47:31.032Z"
   },
   {
    "duration": 25,
    "start_time": "2021-10-03T10:47:31.235Z"
   },
   {
    "duration": 24,
    "start_time": "2021-10-03T10:47:31.263Z"
   },
   {
    "duration": 154,
    "start_time": "2021-10-03T10:47:31.290Z"
   },
   {
    "duration": 10,
    "start_time": "2021-10-03T10:47:31.449Z"
   },
   {
    "duration": 24,
    "start_time": "2021-10-03T10:47:31.464Z"
   },
   {
    "duration": 38,
    "start_time": "2021-10-03T10:47:31.491Z"
   },
   {
    "duration": 19,
    "start_time": "2021-10-03T10:47:31.532Z"
   },
   {
    "duration": 385,
    "start_time": "2021-10-03T10:47:31.553Z"
   },
   {
    "duration": 29,
    "start_time": "2021-10-03T10:47:31.941Z"
   },
   {
    "duration": 247,
    "start_time": "2021-10-03T10:47:31.973Z"
   },
   {
    "duration": 28,
    "start_time": "2021-10-03T10:47:32.222Z"
   },
   {
    "duration": 204,
    "start_time": "2021-10-03T10:47:32.252Z"
   },
   {
    "duration": 67,
    "start_time": "2021-10-03T10:47:32.458Z"
   },
   {
    "duration": 19,
    "start_time": "2021-10-03T10:47:32.528Z"
   },
   {
    "duration": 137,
    "start_time": "2021-10-03T10:47:32.549Z"
   },
   {
    "duration": 74,
    "start_time": "2021-10-03T10:47:32.689Z"
   },
   {
    "duration": 67,
    "start_time": "2021-10-03T10:47:32.765Z"
   },
   {
    "duration": 11,
    "start_time": "2021-10-03T10:47:32.834Z"
   },
   {
    "duration": 27,
    "start_time": "2021-10-03T10:47:32.847Z"
   },
   {
    "duration": 50,
    "start_time": "2021-10-03T10:47:32.876Z"
   },
   {
    "duration": 14,
    "start_time": "2021-10-03T10:47:32.928Z"
   },
   {
    "duration": 46,
    "start_time": "2021-10-03T10:47:32.947Z"
   },
   {
    "duration": 54,
    "start_time": "2021-10-03T10:47:32.996Z"
   },
   {
    "duration": 53,
    "start_time": "2021-10-03T10:47:33.053Z"
   },
   {
    "duration": 36,
    "start_time": "2021-10-03T10:47:33.122Z"
   },
   {
    "duration": 36,
    "start_time": "2021-10-03T10:47:33.161Z"
   },
   {
    "duration": 41,
    "start_time": "2021-10-03T10:47:33.222Z"
   },
   {
    "duration": 34,
    "start_time": "2021-10-03T10:47:33.266Z"
   },
   {
    "duration": 28,
    "start_time": "2021-10-03T10:47:33.323Z"
   },
   {
    "duration": 28,
    "start_time": "2021-10-03T10:47:33.353Z"
   },
   {
    "duration": 48,
    "start_time": "2021-10-03T10:47:33.383Z"
   },
   {
    "duration": 7,
    "start_time": "2021-10-03T10:47:33.433Z"
   },
   {
    "duration": 50,
    "start_time": "2021-10-03T10:47:33.443Z"
   },
   {
    "duration": 9,
    "start_time": "2021-10-03T10:47:33.522Z"
   },
   {
    "duration": 7,
    "start_time": "2021-10-03T10:47:33.534Z"
   },
   {
    "duration": 249,
    "start_time": "2021-10-03T10:47:33.544Z"
   },
   {
    "duration": 28,
    "start_time": "2021-10-03T10:47:33.796Z"
   },
   {
    "duration": 12,
    "start_time": "2021-10-03T10:47:33.826Z"
   },
   {
    "duration": 6841,
    "start_time": "2021-10-03T10:47:33.841Z"
   },
   {
    "duration": 7,
    "start_time": "2021-10-03T10:48:35.286Z"
   },
   {
    "duration": 22,
    "start_time": "2021-10-03T10:49:10.785Z"
   },
   {
    "duration": 12,
    "start_time": "2021-10-03T10:49:11.401Z"
   },
   {
    "duration": 8,
    "start_time": "2021-10-03T10:49:15.519Z"
   },
   {
    "duration": 7,
    "start_time": "2021-10-03T10:49:33.834Z"
   },
   {
    "duration": 20,
    "start_time": "2021-10-03T10:51:45.521Z"
   },
   {
    "duration": 14,
    "start_time": "2021-10-03T10:51:46.848Z"
   },
   {
    "duration": 8,
    "start_time": "2021-10-03T10:51:50.246Z"
   },
   {
    "duration": 49,
    "start_time": "2021-10-03T10:52:32.861Z"
   },
   {
    "duration": 13,
    "start_time": "2021-10-03T10:53:05.670Z"
   },
   {
    "duration": 8,
    "start_time": "2021-10-03T10:53:13.855Z"
   },
   {
    "duration": 20,
    "start_time": "2021-10-03T10:54:17.244Z"
   },
   {
    "duration": 12,
    "start_time": "2021-10-03T10:54:18.417Z"
   },
   {
    "duration": 8,
    "start_time": "2021-10-03T10:54:34.688Z"
   },
   {
    "duration": 9,
    "start_time": "2021-10-03T10:57:59.509Z"
   },
   {
    "duration": 21,
    "start_time": "2021-10-03T10:59:09.874Z"
   },
   {
    "duration": 12,
    "start_time": "2021-10-03T10:59:11.469Z"
   },
   {
    "duration": 11,
    "start_time": "2021-10-03T10:59:17.176Z"
   },
   {
    "duration": 9,
    "start_time": "2021-10-03T11:01:47.209Z"
   },
   {
    "duration": 11,
    "start_time": "2021-10-03T11:05:17.762Z"
   },
   {
    "duration": 9,
    "start_time": "2021-10-03T11:06:07.351Z"
   },
   {
    "duration": 9,
    "start_time": "2021-10-03T11:06:09.656Z"
   },
   {
    "duration": 278,
    "start_time": "2021-10-03T11:08:55.270Z"
   },
   {
    "duration": 10,
    "start_time": "2021-10-03T11:09:04.993Z"
   },
   {
    "duration": 316,
    "start_time": "2021-10-03T11:11:39.567Z"
   },
   {
    "duration": 379,
    "start_time": "2021-10-03T11:11:59.046Z"
   },
   {
    "duration": 9,
    "start_time": "2021-10-03T11:12:09.049Z"
   },
   {
    "duration": 20,
    "start_time": "2021-10-03T11:16:01.484Z"
   },
   {
    "duration": 13,
    "start_time": "2021-10-03T11:16:09.648Z"
   },
   {
    "duration": 296,
    "start_time": "2021-10-03T11:19:40.385Z"
   },
   {
    "duration": 9,
    "start_time": "2021-10-03T11:19:56.772Z"
   },
   {
    "duration": 10,
    "start_time": "2021-10-03T11:20:56.220Z"
   },
   {
    "duration": 502,
    "start_time": "2021-10-03T11:30:26.183Z"
   },
   {
    "duration": 31,
    "start_time": "2021-10-03T11:30:26.687Z"
   },
   {
    "duration": 201,
    "start_time": "2021-10-03T11:30:26.722Z"
   },
   {
    "duration": 22,
    "start_time": "2021-10-03T11:30:26.926Z"
   },
   {
    "duration": 191,
    "start_time": "2021-10-03T11:30:26.951Z"
   },
   {
    "duration": 26,
    "start_time": "2021-10-03T11:30:27.144Z"
   },
   {
    "duration": 21,
    "start_time": "2021-10-03T11:30:27.172Z"
   },
   {
    "duration": 151,
    "start_time": "2021-10-03T11:30:27.195Z"
   },
   {
    "duration": 9,
    "start_time": "2021-10-03T11:30:27.350Z"
   },
   {
    "duration": 21,
    "start_time": "2021-10-03T11:30:27.362Z"
   },
   {
    "duration": 20,
    "start_time": "2021-10-03T11:30:27.386Z"
   },
   {
    "duration": 26,
    "start_time": "2021-10-03T11:30:27.408Z"
   },
   {
    "duration": 411,
    "start_time": "2021-10-03T11:30:27.437Z"
   },
   {
    "duration": 30,
    "start_time": "2021-10-03T11:30:27.851Z"
   },
   {
    "duration": 225,
    "start_time": "2021-10-03T11:30:27.883Z"
   },
   {
    "duration": 35,
    "start_time": "2021-10-03T11:30:28.110Z"
   },
   {
    "duration": 204,
    "start_time": "2021-10-03T11:30:28.147Z"
   },
   {
    "duration": 73,
    "start_time": "2021-10-03T11:30:28.354Z"
   },
   {
    "duration": 21,
    "start_time": "2021-10-03T11:30:28.430Z"
   },
   {
    "duration": 132,
    "start_time": "2021-10-03T11:30:28.453Z"
   },
   {
    "duration": 72,
    "start_time": "2021-10-03T11:30:28.588Z"
   },
   {
    "duration": 62,
    "start_time": "2021-10-03T11:30:28.662Z"
   },
   {
    "duration": 10,
    "start_time": "2021-10-03T11:30:28.727Z"
   },
   {
    "duration": 28,
    "start_time": "2021-10-03T11:30:28.739Z"
   },
   {
    "duration": 53,
    "start_time": "2021-10-03T11:30:28.769Z"
   },
   {
    "duration": 8,
    "start_time": "2021-10-03T11:30:28.824Z"
   },
   {
    "duration": 20,
    "start_time": "2021-10-03T11:30:28.841Z"
   },
   {
    "duration": 89,
    "start_time": "2021-10-03T11:30:28.864Z"
   },
   {
    "duration": 67,
    "start_time": "2021-10-03T11:30:28.955Z"
   },
   {
    "duration": 37,
    "start_time": "2021-10-03T11:30:29.024Z"
   },
   {
    "duration": 61,
    "start_time": "2021-10-03T11:30:29.064Z"
   },
   {
    "duration": 42,
    "start_time": "2021-10-03T11:30:29.128Z"
   },
   {
    "duration": 54,
    "start_time": "2021-10-03T11:30:29.173Z"
   },
   {
    "duration": 26,
    "start_time": "2021-10-03T11:30:29.230Z"
   },
   {
    "duration": 29,
    "start_time": "2021-10-03T11:30:29.258Z"
   },
   {
    "duration": 50,
    "start_time": "2021-10-03T11:30:29.289Z"
   },
   {
    "duration": 7,
    "start_time": "2021-10-03T11:30:29.341Z"
   },
   {
    "duration": 75,
    "start_time": "2021-10-03T11:30:29.351Z"
   },
   {
    "duration": 9,
    "start_time": "2021-10-03T11:30:29.428Z"
   },
   {
    "duration": 10,
    "start_time": "2021-10-03T11:30:29.440Z"
   },
   {
    "duration": 252,
    "start_time": "2021-10-03T11:30:29.452Z"
   },
   {
    "duration": 24,
    "start_time": "2021-10-03T11:30:29.707Z"
   },
   {
    "duration": 11,
    "start_time": "2021-10-03T11:30:29.733Z"
   },
   {
    "duration": 16,
    "start_time": "2021-10-03T11:30:29.746Z"
   },
   {
    "duration": 14,
    "start_time": "2021-10-03T11:30:29.764Z"
   },
   {
    "duration": 47,
    "start_time": "2021-10-03T11:30:29.780Z"
   },
   {
    "duration": 21,
    "start_time": "2021-10-03T11:30:29.829Z"
   },
   {
    "duration": 12,
    "start_time": "2021-10-03T11:30:29.852Z"
   },
   {
    "duration": 11,
    "start_time": "2021-10-03T11:30:29.867Z"
   },
   {
    "duration": 10,
    "start_time": "2021-10-03T11:31:21.432Z"
   },
   {
    "duration": 11,
    "start_time": "2021-10-03T11:33:01.459Z"
   },
   {
    "duration": 9,
    "start_time": "2021-10-03T11:37:09.572Z"
   },
   {
    "duration": 285,
    "start_time": "2021-10-03T11:55:54.837Z"
   },
   {
    "duration": 6,
    "start_time": "2021-10-03T11:55:56.873Z"
   },
   {
    "duration": 675,
    "start_time": "2021-10-03T11:56:01.680Z"
   },
   {
    "duration": 1132,
    "start_time": "2021-10-03T11:56:10.389Z"
   },
   {
    "duration": 25,
    "start_time": "2021-10-03T11:56:11.524Z"
   },
   {
    "duration": 225,
    "start_time": "2021-10-03T11:56:11.552Z"
   },
   {
    "duration": 24,
    "start_time": "2021-10-03T11:56:11.779Z"
   },
   {
    "duration": 193,
    "start_time": "2021-10-03T11:56:11.805Z"
   },
   {
    "duration": 27,
    "start_time": "2021-10-03T11:56:12.001Z"
   },
   {
    "duration": 35,
    "start_time": "2021-10-03T11:56:12.030Z"
   },
   {
    "duration": 137,
    "start_time": "2021-10-03T11:56:12.068Z"
   },
   {
    "duration": 14,
    "start_time": "2021-10-03T11:56:12.211Z"
   },
   {
    "duration": 64,
    "start_time": "2021-10-03T11:56:12.228Z"
   },
   {
    "duration": 48,
    "start_time": "2021-10-03T11:56:12.295Z"
   },
   {
    "duration": 43,
    "start_time": "2021-10-03T11:56:12.346Z"
   },
   {
    "duration": 469,
    "start_time": "2021-10-03T11:56:12.392Z"
   },
   {
    "duration": 33,
    "start_time": "2021-10-03T11:56:12.863Z"
   },
   {
    "duration": 248,
    "start_time": "2021-10-03T11:56:12.900Z"
   },
   {
    "duration": 27,
    "start_time": "2021-10-03T11:56:13.151Z"
   },
   {
    "duration": 238,
    "start_time": "2021-10-03T11:56:13.181Z"
   },
   {
    "duration": 66,
    "start_time": "2021-10-03T11:56:13.423Z"
   },
   {
    "duration": 50,
    "start_time": "2021-10-03T11:56:13.492Z"
   },
   {
    "duration": 139,
    "start_time": "2021-10-03T11:56:13.545Z"
   },
   {
    "duration": 76,
    "start_time": "2021-10-03T11:56:13.687Z"
   },
   {
    "duration": 67,
    "start_time": "2021-10-03T11:56:13.766Z"
   },
   {
    "duration": 9,
    "start_time": "2021-10-03T11:56:13.836Z"
   },
   {
    "duration": 46,
    "start_time": "2021-10-03T11:56:13.848Z"
   },
   {
    "duration": 33,
    "start_time": "2021-10-03T11:56:13.896Z"
   },
   {
    "duration": 23,
    "start_time": "2021-10-03T11:56:13.931Z"
   },
   {
    "duration": 33,
    "start_time": "2021-10-03T11:56:13.960Z"
   },
   {
    "duration": 76,
    "start_time": "2021-10-03T11:56:13.996Z"
   },
   {
    "duration": 63,
    "start_time": "2021-10-03T11:56:14.075Z"
   },
   {
    "duration": 42,
    "start_time": "2021-10-03T11:56:14.141Z"
   },
   {
    "duration": 64,
    "start_time": "2021-10-03T11:56:14.186Z"
   },
   {
    "duration": 46,
    "start_time": "2021-10-03T11:56:14.252Z"
   },
   {
    "duration": 51,
    "start_time": "2021-10-03T11:56:14.301Z"
   },
   {
    "duration": 29,
    "start_time": "2021-10-03T11:56:14.354Z"
   },
   {
    "duration": 61,
    "start_time": "2021-10-03T11:56:14.385Z"
   },
   {
    "duration": 22,
    "start_time": "2021-10-03T11:56:14.449Z"
   },
   {
    "duration": 11,
    "start_time": "2021-10-03T11:56:14.475Z"
   },
   {
    "duration": 72,
    "start_time": "2021-10-03T11:56:14.488Z"
   },
   {
    "duration": 8,
    "start_time": "2021-10-03T11:56:14.563Z"
   },
   {
    "duration": 20,
    "start_time": "2021-10-03T11:56:14.575Z"
   },
   {
    "duration": 284,
    "start_time": "2021-10-03T11:56:14.597Z"
   },
   {
    "duration": 21,
    "start_time": "2021-10-03T11:56:14.884Z"
   },
   {
    "duration": 28,
    "start_time": "2021-10-03T11:56:14.907Z"
   },
   {
    "duration": 43,
    "start_time": "2021-10-03T11:56:14.938Z"
   },
   {
    "duration": 34,
    "start_time": "2021-10-03T11:56:14.984Z"
   },
   {
    "duration": 70,
    "start_time": "2021-10-03T11:56:15.021Z"
   },
   {
    "duration": 58,
    "start_time": "2021-10-03T11:56:15.095Z"
   },
   {
    "duration": 33,
    "start_time": "2021-10-03T11:56:15.156Z"
   },
   {
    "duration": 31,
    "start_time": "2021-10-03T11:56:15.192Z"
   },
   {
    "duration": 38,
    "start_time": "2021-10-03T11:56:15.225Z"
   },
   {
    "duration": 16,
    "start_time": "2021-10-03T11:56:15.266Z"
   },
   {
    "duration": 36,
    "start_time": "2021-10-03T11:56:15.285Z"
   },
   {
    "duration": 1050,
    "start_time": "2021-10-03T11:56:15.327Z"
   },
   {
    "duration": 6,
    "start_time": "2021-10-03T11:56:53.897Z"
   },
   {
    "duration": 1087,
    "start_time": "2021-10-03T11:56:54.522Z"
   },
   {
    "duration": 6,
    "start_time": "2021-10-03T11:57:39.886Z"
   },
   {
    "duration": 1983,
    "start_time": "2021-10-03T11:57:42.194Z"
   },
   {
    "duration": 2231,
    "start_time": "2021-10-03T11:58:19.230Z"
   },
   {
    "duration": 6,
    "start_time": "2021-10-03T11:58:39.556Z"
   },
   {
    "duration": 699,
    "start_time": "2021-10-03T11:58:44.220Z"
   },
   {
    "duration": 7,
    "start_time": "2021-10-03T11:58:54.054Z"
   },
   {
    "duration": 1172,
    "start_time": "2021-10-03T11:58:59.058Z"
   },
   {
    "duration": 9,
    "start_time": "2021-10-03T11:59:12.783Z"
   },
   {
    "duration": 739,
    "start_time": "2021-10-03T11:59:19.288Z"
   },
   {
    "duration": 691,
    "start_time": "2021-10-03T12:02:50.658Z"
   },
   {
    "duration": 687,
    "start_time": "2021-10-03T12:03:31.752Z"
   },
   {
    "duration": 731,
    "start_time": "2021-10-03T12:04:55.683Z"
   },
   {
    "duration": 914,
    "start_time": "2021-10-03T12:07:52.909Z"
   },
   {
    "duration": 7,
    "start_time": "2021-10-03T12:08:22.467Z"
   },
   {
    "duration": 880,
    "start_time": "2021-10-03T12:08:24.630Z"
   },
   {
    "duration": 7,
    "start_time": "2021-10-03T12:08:37.864Z"
   },
   {
    "duration": 6,
    "start_time": "2021-10-03T12:08:43.174Z"
   },
   {
    "duration": 730,
    "start_time": "2021-10-03T12:08:46.412Z"
   },
   {
    "duration": 6,
    "start_time": "2021-10-03T12:08:55.537Z"
   },
   {
    "duration": 783,
    "start_time": "2021-10-03T12:08:56.350Z"
   },
   {
    "duration": 6,
    "start_time": "2021-10-03T12:09:33.473Z"
   },
   {
    "duration": 795,
    "start_time": "2021-10-03T12:09:34.363Z"
   },
   {
    "duration": 7,
    "start_time": "2021-10-03T12:09:43.503Z"
   },
   {
    "duration": 703,
    "start_time": "2021-10-03T12:09:46.969Z"
   },
   {
    "duration": 6,
    "start_time": "2021-10-03T12:09:59.161Z"
   },
   {
    "duration": 832,
    "start_time": "2021-10-03T12:09:59.793Z"
   },
   {
    "duration": 6,
    "start_time": "2021-10-03T12:11:12.348Z"
   },
   {
    "duration": 1068,
    "start_time": "2021-10-03T12:11:13.462Z"
   },
   {
    "duration": 7,
    "start_time": "2021-10-03T12:11:38.623Z"
   },
   {
    "duration": 753,
    "start_time": "2021-10-03T12:11:39.379Z"
   },
   {
    "duration": 702,
    "start_time": "2021-10-03T12:11:46.925Z"
   },
   {
    "duration": 686,
    "start_time": "2021-10-03T12:11:48.526Z"
   },
   {
    "duration": 678,
    "start_time": "2021-10-03T12:11:51.840Z"
   },
   {
    "duration": 707,
    "start_time": "2021-10-03T12:33:38.653Z"
   },
   {
    "duration": 839,
    "start_time": "2021-10-03T12:34:04.799Z"
   },
   {
    "duration": 1600,
    "start_time": "2021-10-03T12:34:38.568Z"
   },
   {
    "duration": 7,
    "start_time": "2021-10-03T12:54:39.864Z"
   },
   {
    "duration": 12,
    "start_time": "2021-10-03T12:54:47.909Z"
   },
   {
    "duration": 11,
    "start_time": "2021-10-03T12:54:58.939Z"
   },
   {
    "duration": 104,
    "start_time": "2021-10-03T12:55:22.608Z"
   },
   {
    "duration": 11,
    "start_time": "2021-10-03T12:55:39.823Z"
   },
   {
    "duration": 279,
    "start_time": "2021-10-03T12:55:46.602Z"
   },
   {
    "duration": 12,
    "start_time": "2021-10-03T12:55:52.301Z"
   },
   {
    "duration": 12,
    "start_time": "2021-10-03T12:56:03.113Z"
   },
   {
    "duration": 334,
    "start_time": "2021-10-03T12:56:21.589Z"
   },
   {
    "duration": 13,
    "start_time": "2021-10-03T12:56:33.171Z"
   },
   {
    "duration": 483,
    "start_time": "2021-10-03T12:56:51.755Z"
   },
   {
    "duration": 300,
    "start_time": "2021-10-03T12:57:18.438Z"
   },
   {
    "duration": 12,
    "start_time": "2021-10-03T12:57:25.757Z"
   },
   {
    "duration": 292,
    "start_time": "2021-10-03T12:57:48.966Z"
   },
   {
    "duration": 290,
    "start_time": "2021-10-03T12:59:22.528Z"
   },
   {
    "duration": 13,
    "start_time": "2021-10-03T12:59:41.045Z"
   },
   {
    "duration": 286,
    "start_time": "2021-10-03T12:59:50.463Z"
   },
   {
    "duration": 13,
    "start_time": "2021-10-03T13:00:39.793Z"
   },
   {
    "duration": 11,
    "start_time": "2021-10-03T13:00:53.494Z"
   },
   {
    "duration": 348,
    "start_time": "2021-10-03T13:01:02.615Z"
   },
   {
    "duration": 19,
    "start_time": "2021-10-03T13:01:14.938Z"
   },
   {
    "duration": 23,
    "start_time": "2021-10-03T13:01:43.918Z"
   },
   {
    "duration": 296,
    "start_time": "2021-10-03T13:02:12.220Z"
   },
   {
    "duration": 24,
    "start_time": "2021-10-03T13:02:30.544Z"
   },
   {
    "duration": 325,
    "start_time": "2021-10-03T13:03:20.374Z"
   },
   {
    "duration": 286,
    "start_time": "2021-10-03T13:03:37.362Z"
   },
   {
    "duration": 99,
    "start_time": "2021-10-03T13:05:12.202Z"
   },
   {
    "duration": 291,
    "start_time": "2021-10-03T13:05:21.749Z"
   },
   {
    "duration": 18,
    "start_time": "2021-10-03T13:05:37.391Z"
   },
   {
    "duration": 17,
    "start_time": "2021-10-03T13:05:50.858Z"
   },
   {
    "duration": 21,
    "start_time": "2021-10-03T13:06:16.921Z"
   },
   {
    "duration": 112,
    "start_time": "2021-10-03T13:07:07.460Z"
   },
   {
    "duration": 294,
    "start_time": "2021-10-03T13:07:14.645Z"
   },
   {
    "duration": 319,
    "start_time": "2021-10-03T13:07:26.344Z"
   },
   {
    "duration": 10,
    "start_time": "2021-10-03T13:07:37.828Z"
   },
   {
    "duration": 16,
    "start_time": "2021-10-03T13:07:59.255Z"
   },
   {
    "duration": 292,
    "start_time": "2021-10-03T13:08:19.130Z"
   },
   {
    "duration": 295,
    "start_time": "2021-10-03T13:08:30.187Z"
   },
   {
    "duration": 18,
    "start_time": "2021-10-03T13:08:51.242Z"
   },
   {
    "duration": 18,
    "start_time": "2021-10-03T13:09:29.115Z"
   },
   {
    "duration": 24,
    "start_time": "2021-10-03T13:10:53.312Z"
   },
   {
    "duration": 300,
    "start_time": "2021-10-03T13:11:14.782Z"
   },
   {
    "duration": 283,
    "start_time": "2021-10-03T13:11:21.560Z"
   },
   {
    "duration": 353,
    "start_time": "2021-10-03T13:11:43.329Z"
   },
   {
    "duration": 17,
    "start_time": "2021-10-03T13:11:50.686Z"
   },
   {
    "duration": 20,
    "start_time": "2021-10-03T13:13:28.939Z"
   },
   {
    "duration": 513,
    "start_time": "2021-10-03T13:14:35.755Z"
   },
   {
    "duration": 26,
    "start_time": "2021-10-03T13:14:36.271Z"
   },
   {
    "duration": 202,
    "start_time": "2021-10-03T13:14:36.300Z"
   },
   {
    "duration": 27,
    "start_time": "2021-10-03T13:14:36.505Z"
   },
   {
    "duration": 186,
    "start_time": "2021-10-03T13:14:36.534Z"
   },
   {
    "duration": 23,
    "start_time": "2021-10-03T13:14:36.723Z"
   },
   {
    "duration": 21,
    "start_time": "2021-10-03T13:14:36.749Z"
   },
   {
    "duration": 151,
    "start_time": "2021-10-03T13:14:36.772Z"
   },
   {
    "duration": 10,
    "start_time": "2021-10-03T13:14:36.928Z"
   },
   {
    "duration": 10,
    "start_time": "2021-10-03T13:14:36.941Z"
   },
   {
    "duration": 18,
    "start_time": "2021-10-03T13:14:36.953Z"
   },
   {
    "duration": 12,
    "start_time": "2021-10-03T13:14:36.974Z"
   },
   {
    "duration": 425,
    "start_time": "2021-10-03T13:14:37.023Z"
   },
   {
    "duration": 30,
    "start_time": "2021-10-03T13:14:37.450Z"
   },
   {
    "duration": 255,
    "start_time": "2021-10-03T13:14:37.483Z"
   },
   {
    "duration": 28,
    "start_time": "2021-10-03T13:14:37.741Z"
   },
   {
    "duration": 239,
    "start_time": "2021-10-03T13:14:37.772Z"
   },
   {
    "duration": 60,
    "start_time": "2021-10-03T13:14:38.013Z"
   },
   {
    "duration": 20,
    "start_time": "2021-10-03T13:14:38.075Z"
   },
   {
    "duration": 151,
    "start_time": "2021-10-03T13:14:38.098Z"
   },
   {
    "duration": 79,
    "start_time": "2021-10-03T13:14:38.252Z"
   },
   {
    "duration": 60,
    "start_time": "2021-10-03T13:14:38.333Z"
   },
   {
    "duration": 29,
    "start_time": "2021-10-03T13:14:38.395Z"
   },
   {
    "duration": 29,
    "start_time": "2021-10-03T13:14:38.426Z"
   },
   {
    "duration": 22,
    "start_time": "2021-10-03T13:14:38.458Z"
   },
   {
    "duration": 42,
    "start_time": "2021-10-03T13:14:38.483Z"
   },
   {
    "duration": 22,
    "start_time": "2021-10-03T13:14:38.531Z"
   },
   {
    "duration": 75,
    "start_time": "2021-10-03T13:14:38.556Z"
   },
   {
    "duration": 55,
    "start_time": "2021-10-03T13:14:38.633Z"
   },
   {
    "duration": 53,
    "start_time": "2021-10-03T13:14:38.690Z"
   },
   {
    "duration": 37,
    "start_time": "2021-10-03T13:14:38.745Z"
   },
   {
    "duration": 69,
    "start_time": "2021-10-03T13:14:38.784Z"
   },
   {
    "duration": 37,
    "start_time": "2021-10-03T13:14:38.855Z"
   },
   {
    "duration": 48,
    "start_time": "2021-10-03T13:14:38.894Z"
   },
   {
    "duration": 29,
    "start_time": "2021-10-03T13:14:38.945Z"
   },
   {
    "duration": 47,
    "start_time": "2021-10-03T13:14:38.977Z"
   },
   {
    "duration": 7,
    "start_time": "2021-10-03T13:14:39.026Z"
   },
   {
    "duration": 66,
    "start_time": "2021-10-03T13:14:39.035Z"
   },
   {
    "duration": 19,
    "start_time": "2021-10-03T13:14:39.103Z"
   },
   {
    "duration": 23,
    "start_time": "2021-10-03T13:14:39.124Z"
   },
   {
    "duration": 243,
    "start_time": "2021-10-03T13:14:39.149Z"
   },
   {
    "duration": 34,
    "start_time": "2021-10-03T13:14:39.394Z"
   },
   {
    "duration": 12,
    "start_time": "2021-10-03T13:14:39.430Z"
   },
   {
    "duration": 11,
    "start_time": "2021-10-03T13:14:39.445Z"
   },
   {
    "duration": 13,
    "start_time": "2021-10-03T13:14:39.458Z"
   },
   {
    "duration": 15,
    "start_time": "2021-10-03T13:14:39.473Z"
   },
   {
    "duration": 53,
    "start_time": "2021-10-03T13:14:39.491Z"
   },
   {
    "duration": 13,
    "start_time": "2021-10-03T13:14:39.547Z"
   },
   {
    "duration": 12,
    "start_time": "2021-10-03T13:14:39.563Z"
   },
   {
    "duration": 51,
    "start_time": "2021-10-03T13:14:39.578Z"
   },
   {
    "duration": 12,
    "start_time": "2021-10-03T13:14:39.631Z"
   },
   {
    "duration": 23,
    "start_time": "2021-10-03T13:14:39.645Z"
   },
   {
    "duration": 52,
    "start_time": "2021-10-03T13:14:39.671Z"
   },
   {
    "duration": 722,
    "start_time": "2021-10-03T13:14:39.725Z"
   },
   {
    "duration": 721,
    "start_time": "2021-10-03T13:14:40.450Z"
   },
   {
    "duration": 727,
    "start_time": "2021-10-03T13:14:41.174Z"
   },
   {
    "duration": 1448,
    "start_time": "2021-10-03T13:14:41.903Z"
   },
   {
    "duration": 92,
    "start_time": "2021-10-03T13:28:21.609Z"
   },
   {
    "duration": 39,
    "start_time": "2021-10-03T14:25:19.959Z"
   },
   {
    "duration": 538,
    "start_time": "2021-10-03T14:26:52.941Z"
   },
   {
    "duration": 30,
    "start_time": "2021-10-03T14:26:53.481Z"
   },
   {
    "duration": 218,
    "start_time": "2021-10-03T14:26:53.515Z"
   },
   {
    "duration": 26,
    "start_time": "2021-10-03T14:26:53.736Z"
   },
   {
    "duration": 236,
    "start_time": "2021-10-03T14:26:53.766Z"
   },
   {
    "duration": 30,
    "start_time": "2021-10-03T14:26:54.005Z"
   },
   {
    "duration": 31,
    "start_time": "2021-10-03T14:26:54.038Z"
   },
   {
    "duration": 146,
    "start_time": "2021-10-03T14:26:54.072Z"
   },
   {
    "duration": 10,
    "start_time": "2021-10-03T14:26:54.222Z"
   },
   {
    "duration": 17,
    "start_time": "2021-10-03T14:26:54.236Z"
   },
   {
    "duration": 33,
    "start_time": "2021-10-03T14:26:54.256Z"
   },
   {
    "duration": 30,
    "start_time": "2021-10-03T14:26:54.292Z"
   },
   {
    "duration": 410,
    "start_time": "2021-10-03T14:26:54.325Z"
   },
   {
    "duration": 32,
    "start_time": "2021-10-03T14:26:54.738Z"
   },
   {
    "duration": 280,
    "start_time": "2021-10-03T14:26:54.774Z"
   },
   {
    "duration": 31,
    "start_time": "2021-10-03T14:26:55.057Z"
   },
   {
    "duration": 249,
    "start_time": "2021-10-03T14:26:55.091Z"
   },
   {
    "duration": 55,
    "start_time": "2021-10-03T14:26:55.342Z"
   },
   {
    "duration": 41,
    "start_time": "2021-10-03T14:26:55.400Z"
   },
   {
    "duration": 136,
    "start_time": "2021-10-03T14:26:55.444Z"
   },
   {
    "duration": 83,
    "start_time": "2021-10-03T14:26:55.584Z"
   },
   {
    "duration": 78,
    "start_time": "2021-10-03T14:26:55.670Z"
   },
   {
    "duration": 12,
    "start_time": "2021-10-03T14:26:55.751Z"
   },
   {
    "duration": 58,
    "start_time": "2021-10-03T14:26:55.766Z"
   },
   {
    "duration": 25,
    "start_time": "2021-10-03T14:26:55.827Z"
   },
   {
    "duration": 9,
    "start_time": "2021-10-03T14:26:55.855Z"
   },
   {
    "duration": 57,
    "start_time": "2021-10-03T14:26:55.870Z"
   },
   {
    "duration": 61,
    "start_time": "2021-10-03T14:26:55.931Z"
   },
   {
    "duration": 81,
    "start_time": "2021-10-03T14:26:55.995Z"
   },
   {
    "duration": 54,
    "start_time": "2021-10-03T14:26:56.079Z"
   },
   {
    "duration": 38,
    "start_time": "2021-10-03T14:26:56.136Z"
   },
   {
    "duration": 68,
    "start_time": "2021-10-03T14:26:56.177Z"
   },
   {
    "duration": 36,
    "start_time": "2021-10-03T14:26:56.248Z"
   },
   {
    "duration": 49,
    "start_time": "2021-10-03T14:26:56.287Z"
   },
   {
    "duration": 29,
    "start_time": "2021-10-03T14:26:56.338Z"
   },
   {
    "duration": 21,
    "start_time": "2021-10-03T14:26:56.369Z"
   },
   {
    "duration": 36,
    "start_time": "2021-10-03T14:26:56.392Z"
   },
   {
    "duration": 51,
    "start_time": "2021-10-03T14:26:56.430Z"
   },
   {
    "duration": 8,
    "start_time": "2021-10-03T14:26:56.483Z"
   },
   {
    "duration": 34,
    "start_time": "2021-10-03T14:26:56.494Z"
   },
   {
    "duration": 243,
    "start_time": "2021-10-03T14:26:56.531Z"
   },
   {
    "duration": 46,
    "start_time": "2021-10-03T14:26:56.777Z"
   },
   {
    "duration": 13,
    "start_time": "2021-10-03T14:26:56.825Z"
   },
   {
    "duration": 15,
    "start_time": "2021-10-03T14:26:56.840Z"
   },
   {
    "duration": 20,
    "start_time": "2021-10-03T14:26:56.858Z"
   },
   {
    "duration": 17,
    "start_time": "2021-10-03T14:26:56.880Z"
   },
   {
    "duration": 41,
    "start_time": "2021-10-03T14:26:56.899Z"
   },
   {
    "duration": 16,
    "start_time": "2021-10-03T14:26:56.943Z"
   },
   {
    "duration": 11,
    "start_time": "2021-10-03T14:26:56.962Z"
   },
   {
    "duration": 20,
    "start_time": "2021-10-03T14:26:56.976Z"
   },
   {
    "duration": 30,
    "start_time": "2021-10-03T14:26:56.998Z"
   },
   {
    "duration": 24,
    "start_time": "2021-10-03T14:26:57.030Z"
   },
   {
    "duration": 22,
    "start_time": "2021-10-03T14:26:57.056Z"
   },
   {
    "duration": 743,
    "start_time": "2021-10-03T14:26:57.080Z"
   },
   {
    "duration": 715,
    "start_time": "2021-10-03T14:26:57.825Z"
   },
   {
    "duration": 807,
    "start_time": "2021-10-03T14:26:58.542Z"
   },
   {
    "duration": 1556,
    "start_time": "2021-10-03T14:26:59.351Z"
   },
   {
    "duration": 42,
    "start_time": "2021-10-03T14:27:00.910Z"
   },
   {
    "duration": 14,
    "start_time": "2021-10-03T14:27:40.644Z"
   },
   {
    "duration": 11,
    "start_time": "2021-10-03T14:27:46.007Z"
   },
   {
    "duration": 4,
    "start_time": "2021-10-03T14:33:15.383Z"
   },
   {
    "duration": 8,
    "start_time": "2021-10-03T14:34:41.039Z"
   },
   {
    "duration": 36,
    "start_time": "2021-10-03T14:43:11.276Z"
   },
   {
    "duration": 4,
    "start_time": "2021-10-03T14:43:49.810Z"
   },
   {
    "duration": 4,
    "start_time": "2021-10-03T14:43:55.422Z"
   },
   {
    "duration": 7,
    "start_time": "2021-10-03T14:45:09.999Z"
   },
   {
    "duration": 18,
    "start_time": "2021-10-03T14:46:18.462Z"
   },
   {
    "duration": 9,
    "start_time": "2021-10-03T14:46:27.094Z"
   },
   {
    "duration": 6,
    "start_time": "2021-10-03T14:47:27.199Z"
   },
   {
    "duration": 7,
    "start_time": "2021-10-03T14:47:38.272Z"
   },
   {
    "duration": 91,
    "start_time": "2021-10-03T14:48:15.920Z"
   },
   {
    "duration": 6,
    "start_time": "2021-10-03T14:54:21.450Z"
   },
   {
    "duration": 294,
    "start_time": "2021-10-03T14:54:47.776Z"
   },
   {
    "duration": 11,
    "start_time": "2021-10-03T14:54:54.125Z"
   },
   {
    "duration": 9,
    "start_time": "2021-10-03T14:55:59.642Z"
   },
   {
    "duration": 11,
    "start_time": "2021-10-03T14:57:35.428Z"
   },
   {
    "duration": 10,
    "start_time": "2021-10-03T14:57:45.423Z"
   },
   {
    "duration": 5,
    "start_time": "2021-10-03T15:01:41.123Z"
   },
   {
    "duration": 525,
    "start_time": "2021-10-03T15:04:56.765Z"
   },
   {
    "duration": 28,
    "start_time": "2021-10-03T15:04:57.292Z"
   },
   {
    "duration": 222,
    "start_time": "2021-10-03T15:04:57.323Z"
   },
   {
    "duration": 23,
    "start_time": "2021-10-03T15:04:57.548Z"
   },
   {
    "duration": 190,
    "start_time": "2021-10-03T15:04:57.573Z"
   },
   {
    "duration": 24,
    "start_time": "2021-10-03T15:04:57.766Z"
   },
   {
    "duration": 38,
    "start_time": "2021-10-03T15:04:57.793Z"
   },
   {
    "duration": 142,
    "start_time": "2021-10-03T15:04:57.834Z"
   },
   {
    "duration": 9,
    "start_time": "2021-10-03T15:04:57.982Z"
   },
   {
    "duration": 31,
    "start_time": "2021-10-03T15:04:57.995Z"
   },
   {
    "duration": 29,
    "start_time": "2021-10-03T15:04:58.029Z"
   },
   {
    "duration": 36,
    "start_time": "2021-10-03T15:04:58.060Z"
   },
   {
    "duration": 432,
    "start_time": "2021-10-03T15:04:58.099Z"
   },
   {
    "duration": 29,
    "start_time": "2021-10-03T15:04:58.533Z"
   },
   {
    "duration": 260,
    "start_time": "2021-10-03T15:04:58.564Z"
   },
   {
    "duration": 28,
    "start_time": "2021-10-03T15:04:58.826Z"
   },
   {
    "duration": 219,
    "start_time": "2021-10-03T15:04:58.857Z"
   },
   {
    "duration": 69,
    "start_time": "2021-10-03T15:04:59.079Z"
   },
   {
    "duration": 25,
    "start_time": "2021-10-03T15:04:59.150Z"
   },
   {
    "duration": 146,
    "start_time": "2021-10-03T15:04:59.178Z"
   },
   {
    "duration": 65,
    "start_time": "2021-10-03T15:04:59.326Z"
   },
   {
    "duration": 77,
    "start_time": "2021-10-03T15:04:59.393Z"
   },
   {
    "duration": 10,
    "start_time": "2021-10-03T15:04:59.472Z"
   },
   {
    "duration": 54,
    "start_time": "2021-10-03T15:04:59.484Z"
   },
   {
    "duration": 23,
    "start_time": "2021-10-03T15:04:59.540Z"
   },
   {
    "duration": 7,
    "start_time": "2021-10-03T15:04:59.566Z"
   },
   {
    "duration": 45,
    "start_time": "2021-10-03T15:04:59.580Z"
   },
   {
    "duration": 59,
    "start_time": "2021-10-03T15:04:59.628Z"
   },
   {
    "duration": 78,
    "start_time": "2021-10-03T15:04:59.689Z"
   },
   {
    "duration": 59,
    "start_time": "2021-10-03T15:04:59.770Z"
   },
   {
    "duration": 40,
    "start_time": "2021-10-03T15:04:59.831Z"
   },
   {
    "duration": 66,
    "start_time": "2021-10-03T15:04:59.874Z"
   },
   {
    "duration": 37,
    "start_time": "2021-10-03T15:04:59.943Z"
   },
   {
    "duration": 52,
    "start_time": "2021-10-03T15:04:59.983Z"
   },
   {
    "duration": 30,
    "start_time": "2021-10-03T15:05:00.038Z"
   },
   {
    "duration": 38,
    "start_time": "2021-10-03T15:05:00.071Z"
   },
   {
    "duration": 8,
    "start_time": "2021-10-03T15:05:00.122Z"
   },
   {
    "duration": 66,
    "start_time": "2021-10-03T15:05:00.132Z"
   },
   {
    "duration": 21,
    "start_time": "2021-10-03T15:05:00.201Z"
   },
   {
    "duration": 6,
    "start_time": "2021-10-03T15:05:00.225Z"
   },
   {
    "duration": 248,
    "start_time": "2021-10-03T15:05:00.233Z"
   },
   {
    "duration": 22,
    "start_time": "2021-10-03T15:05:00.483Z"
   },
   {
    "duration": 31,
    "start_time": "2021-10-03T15:05:00.507Z"
   },
   {
    "duration": 35,
    "start_time": "2021-10-03T15:05:00.540Z"
   },
   {
    "duration": 34,
    "start_time": "2021-10-03T15:05:00.578Z"
   },
   {
    "duration": 53,
    "start_time": "2021-10-03T15:05:00.615Z"
   },
   {
    "duration": 79,
    "start_time": "2021-10-03T15:05:00.671Z"
   },
   {
    "duration": 31,
    "start_time": "2021-10-03T15:05:00.753Z"
   },
   {
    "duration": 29,
    "start_time": "2021-10-03T15:05:00.787Z"
   },
   {
    "duration": 37,
    "start_time": "2021-10-03T15:05:00.818Z"
   },
   {
    "duration": 69,
    "start_time": "2021-10-03T15:05:00.858Z"
   },
   {
    "duration": 75,
    "start_time": "2021-10-03T15:05:00.929Z"
   },
   {
    "duration": 51,
    "start_time": "2021-10-03T15:05:01.006Z"
   },
   {
    "duration": 757,
    "start_time": "2021-10-03T15:05:01.060Z"
   },
   {
    "duration": 716,
    "start_time": "2021-10-03T15:05:01.823Z"
   },
   {
    "duration": 712,
    "start_time": "2021-10-03T15:05:02.542Z"
   },
   {
    "duration": 1851,
    "start_time": "2021-10-03T15:05:03.257Z"
   },
   {
    "duration": 43,
    "start_time": "2021-10-03T15:05:05.110Z"
   },
   {
    "duration": 51,
    "start_time": "2021-10-03T15:05:05.156Z"
   },
   {
    "duration": 32,
    "start_time": "2021-10-03T15:05:05.210Z"
   },
   {
    "duration": 44,
    "start_time": "2021-10-03T15:05:05.245Z"
   },
   {
    "duration": 30,
    "start_time": "2021-10-03T15:05:05.292Z"
   },
   {
    "duration": 43,
    "start_time": "2021-10-03T15:05:05.325Z"
   },
   {
    "duration": 51,
    "start_time": "2021-10-03T15:05:05.370Z"
   },
   {
    "duration": 11,
    "start_time": "2021-10-03T15:05:05.424Z"
   },
   {
    "duration": 31,
    "start_time": "2021-10-03T15:05:05.439Z"
   },
   {
    "duration": 22,
    "start_time": "2021-10-03T15:05:05.473Z"
   },
   {
    "duration": 23,
    "start_time": "2021-10-03T15:05:05.498Z"
   },
   {
    "duration": 2306,
    "start_time": "2021-10-03T16:03:34.420Z"
   },
   {
    "duration": 46,
    "start_time": "2021-10-03T16:03:36.729Z"
   },
   {
    "duration": 309,
    "start_time": "2021-10-03T16:03:36.779Z"
   },
   {
    "duration": 24,
    "start_time": "2021-10-03T16:03:37.091Z"
   },
   {
    "duration": 215,
    "start_time": "2021-10-03T16:03:37.117Z"
   },
   {
    "duration": 35,
    "start_time": "2021-10-03T16:03:37.335Z"
   },
   {
    "duration": 26,
    "start_time": "2021-10-03T16:03:37.373Z"
   },
   {
    "duration": 161,
    "start_time": "2021-10-03T16:03:37.401Z"
   },
   {
    "duration": 19,
    "start_time": "2021-10-03T16:03:37.568Z"
   },
   {
    "duration": 10,
    "start_time": "2021-10-03T16:03:37.591Z"
   },
   {
    "duration": 22,
    "start_time": "2021-10-03T16:03:37.603Z"
   },
   {
    "duration": 44,
    "start_time": "2021-10-03T16:03:37.627Z"
   },
   {
    "duration": 509,
    "start_time": "2021-10-03T16:03:37.674Z"
   },
   {
    "duration": 31,
    "start_time": "2021-10-03T16:03:38.185Z"
   },
   {
    "duration": 276,
    "start_time": "2021-10-03T16:03:38.218Z"
   },
   {
    "duration": 35,
    "start_time": "2021-10-03T16:03:38.497Z"
   },
   {
    "duration": 325,
    "start_time": "2021-10-03T16:03:38.535Z"
   },
   {
    "duration": 78,
    "start_time": "2021-10-03T16:03:38.863Z"
   },
   {
    "duration": 29,
    "start_time": "2021-10-03T16:03:38.962Z"
   },
   {
    "duration": 155,
    "start_time": "2021-10-03T16:03:38.993Z"
   },
   {
    "duration": 77,
    "start_time": "2021-10-03T16:03:39.150Z"
   },
   {
    "duration": 79,
    "start_time": "2021-10-03T16:03:39.230Z"
   },
   {
    "duration": 11,
    "start_time": "2021-10-03T16:03:39.311Z"
   },
   {
    "duration": 48,
    "start_time": "2021-10-03T16:03:39.325Z"
   },
   {
    "duration": 30,
    "start_time": "2021-10-03T16:03:39.375Z"
   },
   {
    "duration": 11,
    "start_time": "2021-10-03T16:03:39.408Z"
   },
   {
    "duration": 66,
    "start_time": "2021-10-03T16:03:39.426Z"
   },
   {
    "duration": 58,
    "start_time": "2021-10-03T16:03:39.496Z"
   },
   {
    "duration": 66,
    "start_time": "2021-10-03T16:03:39.562Z"
   },
   {
    "duration": 64,
    "start_time": "2021-10-03T16:03:39.630Z"
   },
   {
    "duration": 37,
    "start_time": "2021-10-03T16:03:39.697Z"
   },
   {
    "duration": 76,
    "start_time": "2021-10-03T16:03:39.736Z"
   },
   {
    "duration": 51,
    "start_time": "2021-10-03T16:03:39.814Z"
   },
   {
    "duration": 36,
    "start_time": "2021-10-03T16:03:39.870Z"
   },
   {
    "duration": 68,
    "start_time": "2021-10-03T16:03:39.909Z"
   },
   {
    "duration": 31,
    "start_time": "2021-10-03T16:03:39.980Z"
   },
   {
    "duration": 10,
    "start_time": "2021-10-03T16:03:40.014Z"
   },
   {
    "duration": 87,
    "start_time": "2021-10-03T16:03:40.027Z"
   },
   {
    "duration": 25,
    "start_time": "2021-10-03T16:03:40.117Z"
   },
   {
    "duration": 6,
    "start_time": "2021-10-03T16:03:40.145Z"
   },
   {
    "duration": 311,
    "start_time": "2021-10-03T16:03:40.154Z"
   },
   {
    "duration": 24,
    "start_time": "2021-10-03T16:03:40.467Z"
   },
   {
    "duration": 12,
    "start_time": "2021-10-03T16:03:40.494Z"
   },
   {
    "duration": 11,
    "start_time": "2021-10-03T16:03:40.508Z"
   },
   {
    "duration": 52,
    "start_time": "2021-10-03T16:03:40.522Z"
   },
   {
    "duration": 16,
    "start_time": "2021-10-03T16:03:40.577Z"
   },
   {
    "duration": 26,
    "start_time": "2021-10-03T16:03:40.596Z"
   },
   {
    "duration": 12,
    "start_time": "2021-10-03T16:03:40.625Z"
   },
   {
    "duration": 10,
    "start_time": "2021-10-03T16:03:40.662Z"
   },
   {
    "duration": 18,
    "start_time": "2021-10-03T16:03:40.675Z"
   },
   {
    "duration": 12,
    "start_time": "2021-10-03T16:03:40.696Z"
   },
   {
    "duration": 63,
    "start_time": "2021-10-03T16:03:40.713Z"
   },
   {
    "duration": 21,
    "start_time": "2021-10-03T16:03:40.779Z"
   },
   {
    "duration": 820,
    "start_time": "2021-10-03T16:03:40.803Z"
   },
   {
    "duration": 916,
    "start_time": "2021-10-03T16:03:41.627Z"
   },
   {
    "duration": 772,
    "start_time": "2021-10-03T16:03:42.546Z"
   },
   {
    "duration": 1636,
    "start_time": "2021-10-03T16:03:43.321Z"
   },
   {
    "duration": 42,
    "start_time": "2021-10-03T16:03:44.963Z"
   },
   {
    "duration": 11,
    "start_time": "2021-10-03T16:03:45.007Z"
   },
   {
    "duration": 23,
    "start_time": "2021-10-03T16:03:45.022Z"
   },
   {
    "duration": 6,
    "start_time": "2021-10-03T16:03:45.048Z"
   },
   {
    "duration": 29,
    "start_time": "2021-10-03T16:03:45.057Z"
   },
   {
    "duration": 10,
    "start_time": "2021-10-03T16:03:45.089Z"
   },
   {
    "duration": 34,
    "start_time": "2021-10-03T16:03:45.102Z"
   },
   {
    "duration": 8,
    "start_time": "2021-10-03T16:03:45.139Z"
   },
   {
    "duration": 10,
    "start_time": "2021-10-03T16:03:45.150Z"
   },
   {
    "duration": 9,
    "start_time": "2021-10-03T16:03:45.164Z"
   },
   {
    "duration": 10,
    "start_time": "2021-10-03T16:03:45.177Z"
   },
   {
    "duration": 1593,
    "start_time": "2021-10-03T17:56:08.939Z"
   },
   {
    "duration": 21,
    "start_time": "2021-10-03T17:56:10.534Z"
   },
   {
    "duration": 139,
    "start_time": "2021-10-03T17:56:10.557Z"
   },
   {
    "duration": 17,
    "start_time": "2021-10-03T17:56:10.698Z"
   },
   {
    "duration": 137,
    "start_time": "2021-10-03T17:56:10.718Z"
   },
   {
    "duration": 17,
    "start_time": "2021-10-03T17:56:10.857Z"
   },
   {
    "duration": 14,
    "start_time": "2021-10-03T17:56:10.875Z"
   },
   {
    "duration": 101,
    "start_time": "2021-10-03T17:56:10.891Z"
   },
   {
    "duration": 6,
    "start_time": "2021-10-03T17:56:10.995Z"
   },
   {
    "duration": 8,
    "start_time": "2021-10-03T17:56:11.003Z"
   },
   {
    "duration": 16,
    "start_time": "2021-10-03T17:56:11.012Z"
   },
   {
    "duration": 21,
    "start_time": "2021-10-03T17:56:11.029Z"
   },
   {
    "duration": 387,
    "start_time": "2021-10-03T17:56:11.052Z"
   },
   {
    "duration": 24,
    "start_time": "2021-10-03T17:56:11.441Z"
   },
   {
    "duration": 200,
    "start_time": "2021-10-03T17:56:11.467Z"
   },
   {
    "duration": 20,
    "start_time": "2021-10-03T17:56:11.669Z"
   },
   {
    "duration": 180,
    "start_time": "2021-10-03T17:56:11.690Z"
   },
   {
    "duration": 33,
    "start_time": "2021-10-03T17:56:11.871Z"
   },
   {
    "duration": 14,
    "start_time": "2021-10-03T17:56:11.906Z"
   },
   {
    "duration": 127,
    "start_time": "2021-10-03T17:56:11.922Z"
   },
   {
    "duration": 44,
    "start_time": "2021-10-03T17:56:12.050Z"
   },
   {
    "duration": 60,
    "start_time": "2021-10-03T17:56:12.096Z"
   },
   {
    "duration": 9,
    "start_time": "2021-10-03T17:56:12.158Z"
   },
   {
    "duration": 21,
    "start_time": "2021-10-03T17:56:12.169Z"
   },
   {
    "duration": 21,
    "start_time": "2021-10-03T17:56:12.193Z"
   },
   {
    "duration": 36,
    "start_time": "2021-10-03T17:56:12.216Z"
   },
   {
    "duration": 15,
    "start_time": "2021-10-03T17:56:12.256Z"
   },
   {
    "duration": 40,
    "start_time": "2021-10-03T17:56:12.274Z"
   },
   {
    "duration": 61,
    "start_time": "2021-10-03T17:56:12.316Z"
   },
   {
    "duration": 28,
    "start_time": "2021-10-03T17:56:12.379Z"
   },
   {
    "duration": 44,
    "start_time": "2021-10-03T17:56:12.409Z"
   },
   {
    "duration": 33,
    "start_time": "2021-10-03T17:56:12.455Z"
   },
   {
    "duration": 29,
    "start_time": "2021-10-03T17:56:12.491Z"
   },
   {
    "duration": 42,
    "start_time": "2021-10-03T17:56:12.521Z"
   },
   {
    "duration": 22,
    "start_time": "2021-10-03T17:56:12.564Z"
   },
   {
    "duration": 15,
    "start_time": "2021-10-03T17:56:12.588Z"
   },
   {
    "duration": 5,
    "start_time": "2021-10-03T17:56:12.605Z"
   },
   {
    "duration": 62,
    "start_time": "2021-10-03T17:56:12.612Z"
   },
   {
    "duration": 10,
    "start_time": "2021-10-03T17:56:12.676Z"
   },
   {
    "duration": 4,
    "start_time": "2021-10-03T17:56:12.687Z"
   },
   {
    "duration": 173,
    "start_time": "2021-10-03T17:56:12.693Z"
   },
   {
    "duration": 15,
    "start_time": "2021-10-03T17:56:12.868Z"
   },
   {
    "duration": 9,
    "start_time": "2021-10-03T17:56:12.885Z"
   },
   {
    "duration": 8,
    "start_time": "2021-10-03T17:56:12.902Z"
   },
   {
    "duration": 11,
    "start_time": "2021-10-03T17:56:12.911Z"
   },
   {
    "duration": 7,
    "start_time": "2021-10-03T17:56:12.950Z"
   },
   {
    "duration": 15,
    "start_time": "2021-10-03T17:56:12.959Z"
   },
   {
    "duration": 8,
    "start_time": "2021-10-03T17:56:12.976Z"
   },
   {
    "duration": 8,
    "start_time": "2021-10-03T17:56:12.986Z"
   },
   {
    "duration": 14,
    "start_time": "2021-10-03T17:56:12.995Z"
   },
   {
    "duration": 48,
    "start_time": "2021-10-03T17:56:13.010Z"
   },
   {
    "duration": 19,
    "start_time": "2021-10-03T17:56:13.061Z"
   },
   {
    "duration": 12,
    "start_time": "2021-10-03T17:56:13.082Z"
   },
   {
    "duration": 489,
    "start_time": "2021-10-03T17:56:13.096Z"
   },
   {
    "duration": 466,
    "start_time": "2021-10-03T17:56:13.587Z"
   },
   {
    "duration": 462,
    "start_time": "2021-10-03T17:56:14.055Z"
   },
   {
    "duration": 803,
    "start_time": "2021-10-03T17:56:14.519Z"
   },
   {
    "duration": 36,
    "start_time": "2021-10-03T17:56:15.324Z"
   },
   {
    "duration": 11,
    "start_time": "2021-10-03T17:56:15.362Z"
   },
   {
    "duration": 17,
    "start_time": "2021-10-03T17:56:15.374Z"
   },
   {
    "duration": 16,
    "start_time": "2021-10-03T17:56:15.393Z"
   },
   {
    "duration": 10,
    "start_time": "2021-10-03T17:56:15.411Z"
   },
   {
    "duration": 12,
    "start_time": "2021-10-03T17:56:15.423Z"
   },
   {
    "duration": 31,
    "start_time": "2021-10-03T17:56:15.436Z"
   },
   {
    "duration": 7,
    "start_time": "2021-10-03T17:56:15.469Z"
   },
   {
    "duration": 27,
    "start_time": "2021-10-03T17:56:15.477Z"
   },
   {
    "duration": 6,
    "start_time": "2021-10-03T17:56:15.505Z"
   },
   {
    "duration": 9,
    "start_time": "2021-10-03T17:56:15.513Z"
   },
   {
    "duration": 45,
    "start_time": "2021-10-03T17:58:17.733Z"
   },
   {
    "duration": 433,
    "start_time": "2021-10-03T17:58:27.801Z"
   },
   {
    "duration": 30,
    "start_time": "2021-10-03T17:58:28.236Z"
   },
   {
    "duration": 149,
    "start_time": "2021-10-03T17:58:28.268Z"
   },
   {
    "duration": 18,
    "start_time": "2021-10-03T17:58:28.419Z"
   },
   {
    "duration": 135,
    "start_time": "2021-10-03T17:58:28.439Z"
   },
   {
    "duration": 19,
    "start_time": "2021-10-03T17:58:28.576Z"
   },
   {
    "duration": 17,
    "start_time": "2021-10-03T17:58:28.597Z"
   },
   {
    "duration": 108,
    "start_time": "2021-10-03T17:58:28.616Z"
   },
   {
    "duration": 7,
    "start_time": "2021-10-03T17:58:28.727Z"
   },
   {
    "duration": 18,
    "start_time": "2021-10-03T17:58:28.737Z"
   },
   {
    "duration": 13,
    "start_time": "2021-10-03T17:58:28.757Z"
   },
   {
    "duration": 8,
    "start_time": "2021-10-03T17:58:28.772Z"
   },
   {
    "duration": 568,
    "start_time": "2021-10-03T17:58:28.782Z"
   },
   {
    "duration": 29,
    "start_time": "2021-10-03T17:58:29.352Z"
   },
   {
    "duration": 231,
    "start_time": "2021-10-03T17:58:29.383Z"
   },
   {
    "duration": 20,
    "start_time": "2021-10-03T17:58:29.615Z"
   },
   {
    "duration": 189,
    "start_time": "2021-10-03T17:58:29.637Z"
   },
   {
    "duration": 42,
    "start_time": "2021-10-03T17:58:29.828Z"
   },
   {
    "duration": 15,
    "start_time": "2021-10-03T17:58:29.872Z"
   },
   {
    "duration": 127,
    "start_time": "2021-10-03T17:58:29.889Z"
   },
   {
    "duration": 60,
    "start_time": "2021-10-03T17:58:30.018Z"
   },
   {
    "duration": 49,
    "start_time": "2021-10-03T17:58:30.080Z"
   },
   {
    "duration": 24,
    "start_time": "2021-10-03T17:58:30.131Z"
   },
   {
    "duration": 26,
    "start_time": "2021-10-03T17:58:30.157Z"
   },
   {
    "duration": 23,
    "start_time": "2021-10-03T17:58:30.184Z"
   },
   {
    "duration": 14,
    "start_time": "2021-10-03T17:58:30.209Z"
   },
   {
    "duration": 27,
    "start_time": "2021-10-03T17:58:30.228Z"
   },
   {
    "duration": 57,
    "start_time": "2021-10-03T17:58:30.258Z"
   },
   {
    "duration": 46,
    "start_time": "2021-10-03T17:58:30.316Z"
   },
   {
    "duration": 28,
    "start_time": "2021-10-03T17:58:30.364Z"
   },
   {
    "duration": 35,
    "start_time": "2021-10-03T17:58:30.394Z"
   },
   {
    "duration": 48,
    "start_time": "2021-10-03T17:58:30.431Z"
   },
   {
    "duration": 27,
    "start_time": "2021-10-03T17:58:30.481Z"
   },
   {
    "duration": 39,
    "start_time": "2021-10-03T17:58:30.510Z"
   },
   {
    "duration": 20,
    "start_time": "2021-10-03T17:58:30.551Z"
   },
   {
    "duration": 30,
    "start_time": "2021-10-03T17:58:30.573Z"
   },
   {
    "duration": 16,
    "start_time": "2021-10-03T17:58:30.604Z"
   },
   {
    "duration": 61,
    "start_time": "2021-10-03T17:58:30.623Z"
   },
   {
    "duration": 6,
    "start_time": "2021-10-03T17:58:30.686Z"
   },
   {
    "duration": 16,
    "start_time": "2021-10-03T17:58:30.694Z"
   },
   {
    "duration": 163,
    "start_time": "2021-10-03T17:58:30.712Z"
   },
   {
    "duration": 14,
    "start_time": "2021-10-03T17:58:30.876Z"
   },
   {
    "duration": 12,
    "start_time": "2021-10-03T17:58:30.892Z"
   },
   {
    "duration": 43,
    "start_time": "2021-10-03T17:58:30.906Z"
   },
   {
    "duration": 36,
    "start_time": "2021-10-03T17:58:30.951Z"
   },
   {
    "duration": 18,
    "start_time": "2021-10-03T17:58:30.989Z"
   },
   {
    "duration": 29,
    "start_time": "2021-10-03T17:58:31.009Z"
   },
   {
    "duration": 10,
    "start_time": "2021-10-03T17:58:31.040Z"
   },
   {
    "duration": 18,
    "start_time": "2021-10-03T17:58:31.052Z"
   },
   {
    "duration": 17,
    "start_time": "2021-10-03T17:58:31.072Z"
   },
   {
    "duration": 30,
    "start_time": "2021-10-03T17:58:31.091Z"
   },
   {
    "duration": 24,
    "start_time": "2021-10-03T17:58:31.123Z"
   },
   {
    "duration": 27,
    "start_time": "2021-10-03T17:58:31.150Z"
   },
   {
    "duration": 549,
    "start_time": "2021-10-03T17:58:31.179Z"
   },
   {
    "duration": 494,
    "start_time": "2021-10-03T17:58:31.730Z"
   },
   {
    "duration": 476,
    "start_time": "2021-10-03T17:58:32.226Z"
   },
   {
    "duration": 833,
    "start_time": "2021-10-03T17:58:32.704Z"
   },
   {
    "duration": 28,
    "start_time": "2021-10-03T17:58:33.539Z"
   },
   {
    "duration": 8,
    "start_time": "2021-10-03T17:58:33.568Z"
   },
   {
    "duration": 8,
    "start_time": "2021-10-03T17:58:33.577Z"
   },
   {
    "duration": 4,
    "start_time": "2021-10-03T17:58:33.587Z"
   },
   {
    "duration": 7,
    "start_time": "2021-10-03T17:58:33.593Z"
   },
   {
    "duration": 10,
    "start_time": "2021-10-03T17:58:33.601Z"
   },
   {
    "duration": 61,
    "start_time": "2021-10-03T17:58:33.613Z"
   },
   {
    "duration": 6,
    "start_time": "2021-10-03T17:58:33.676Z"
   },
   {
    "duration": 11,
    "start_time": "2021-10-03T17:58:33.684Z"
   },
   {
    "duration": 6,
    "start_time": "2021-10-03T17:58:33.696Z"
   },
   {
    "duration": 8,
    "start_time": "2021-10-03T17:58:33.703Z"
   },
   {
    "duration": 430,
    "start_time": "2021-10-03T18:02:13.919Z"
   },
   {
    "duration": 30,
    "start_time": "2021-10-03T18:02:14.351Z"
   },
   {
    "duration": 150,
    "start_time": "2021-10-03T18:02:14.383Z"
   },
   {
    "duration": 30,
    "start_time": "2021-10-03T18:02:14.535Z"
   },
   {
    "duration": 125,
    "start_time": "2021-10-03T18:02:14.567Z"
   },
   {
    "duration": 18,
    "start_time": "2021-10-03T18:02:14.693Z"
   },
   {
    "duration": 15,
    "start_time": "2021-10-03T18:02:14.712Z"
   },
   {
    "duration": 101,
    "start_time": "2021-10-03T18:02:14.728Z"
   },
   {
    "duration": 7,
    "start_time": "2021-10-03T18:02:14.832Z"
   },
   {
    "duration": 6,
    "start_time": "2021-10-03T18:02:14.850Z"
   },
   {
    "duration": 11,
    "start_time": "2021-10-03T18:02:14.858Z"
   },
   {
    "duration": 8,
    "start_time": "2021-10-03T18:02:14.871Z"
   },
   {
    "duration": 413,
    "start_time": "2021-10-03T18:02:14.881Z"
   },
   {
    "duration": 20,
    "start_time": "2021-10-03T18:02:15.295Z"
   },
   {
    "duration": 207,
    "start_time": "2021-10-03T18:02:15.317Z"
   },
   {
    "duration": 33,
    "start_time": "2021-10-03T18:02:15.526Z"
   },
   {
    "duration": 212,
    "start_time": "2021-10-03T18:02:15.561Z"
   },
   {
    "duration": 33,
    "start_time": "2021-10-03T18:02:15.775Z"
   },
   {
    "duration": 13,
    "start_time": "2021-10-03T18:02:15.810Z"
   },
   {
    "duration": 101,
    "start_time": "2021-10-03T18:02:15.850Z"
   },
   {
    "duration": 45,
    "start_time": "2021-10-03T18:02:15.953Z"
   },
   {
    "duration": 60,
    "start_time": "2021-10-03T18:02:15.999Z"
   },
   {
    "duration": 7,
    "start_time": "2021-10-03T18:02:16.060Z"
   },
   {
    "duration": 22,
    "start_time": "2021-10-03T18:02:16.068Z"
   },
   {
    "duration": 17,
    "start_time": "2021-10-03T18:02:16.091Z"
   },
   {
    "duration": 5,
    "start_time": "2021-10-03T18:02:16.109Z"
   },
   {
    "duration": 16,
    "start_time": "2021-10-03T18:02:16.148Z"
   },
   {
    "duration": 44,
    "start_time": "2021-10-03T18:02:16.166Z"
   },
   {
    "duration": 61,
    "start_time": "2021-10-03T18:02:16.211Z"
   },
   {
    "duration": 28,
    "start_time": "2021-10-03T18:02:16.273Z"
   },
   {
    "duration": 27,
    "start_time": "2021-10-03T18:02:16.303Z"
   },
   {
    "duration": 48,
    "start_time": "2021-10-03T18:02:16.332Z"
   },
   {
    "duration": 28,
    "start_time": "2021-10-03T18:02:16.382Z"
   },
   {
    "duration": 43,
    "start_time": "2021-10-03T18:02:16.411Z"
   },
   {
    "duration": 20,
    "start_time": "2021-10-03T18:02:16.456Z"
   },
   {
    "duration": 14,
    "start_time": "2021-10-03T18:02:16.477Z"
   },
   {
    "duration": 5,
    "start_time": "2021-10-03T18:02:16.493Z"
   },
   {
    "duration": 57,
    "start_time": "2021-10-03T18:02:16.500Z"
   },
   {
    "duration": 7,
    "start_time": "2021-10-03T18:02:16.559Z"
   },
   {
    "duration": 5,
    "start_time": "2021-10-03T18:02:16.568Z"
   },
   {
    "duration": 154,
    "start_time": "2021-10-03T18:02:16.574Z"
   },
   {
    "duration": 26,
    "start_time": "2021-10-03T18:02:16.730Z"
   },
   {
    "duration": 7,
    "start_time": "2021-10-03T18:02:16.758Z"
   },
   {
    "duration": 10,
    "start_time": "2021-10-03T18:02:16.766Z"
   },
   {
    "duration": 10,
    "start_time": "2021-10-03T18:02:16.777Z"
   },
   {
    "duration": 5,
    "start_time": "2021-10-03T18:02:16.789Z"
   },
   {
    "duration": 16,
    "start_time": "2021-10-03T18:02:16.796Z"
   },
   {
    "duration": 7,
    "start_time": "2021-10-03T18:02:16.813Z"
   },
   {
    "duration": 7,
    "start_time": "2021-10-03T18:02:16.850Z"
   },
   {
    "duration": 8,
    "start_time": "2021-10-03T18:02:16.858Z"
   },
   {
    "duration": 11,
    "start_time": "2021-10-03T18:02:16.867Z"
   },
   {
    "duration": 16,
    "start_time": "2021-10-03T18:02:16.880Z"
   },
   {
    "duration": 9,
    "start_time": "2021-10-03T18:02:16.898Z"
   },
   {
    "duration": 524,
    "start_time": "2021-10-03T18:02:16.909Z"
   },
   {
    "duration": 488,
    "start_time": "2021-10-03T18:02:17.435Z"
   },
   {
    "duration": 494,
    "start_time": "2021-10-03T18:02:17.925Z"
   },
   {
    "duration": 841,
    "start_time": "2021-10-03T18:02:18.421Z"
   },
   {
    "duration": 22,
    "start_time": "2021-10-03T18:02:19.265Z"
   },
   {
    "duration": 14,
    "start_time": "2021-10-03T18:02:19.289Z"
   },
   {
    "duration": 16,
    "start_time": "2021-10-03T18:02:19.305Z"
   },
   {
    "duration": 14,
    "start_time": "2021-10-03T18:02:19.324Z"
   },
   {
    "duration": 15,
    "start_time": "2021-10-03T18:02:19.340Z"
   },
   {
    "duration": 24,
    "start_time": "2021-10-03T18:02:19.357Z"
   },
   {
    "duration": 124,
    "start_time": "2021-10-03T18:02:19.383Z"
   },
   {
    "duration": 9,
    "start_time": "2021-10-03T18:02:19.508Z"
   },
   {
    "duration": 15,
    "start_time": "2021-10-03T18:02:19.519Z"
   },
   {
    "duration": 15,
    "start_time": "2021-10-03T18:02:19.536Z"
   },
   {
    "duration": 22,
    "start_time": "2021-10-03T18:02:19.553Z"
   },
   {
    "duration": 33,
    "start_time": "2021-10-03T19:04:11.567Z"
   },
   {
    "duration": 409,
    "start_time": "2021-10-03T19:04:16.069Z"
   },
   {
    "duration": 27,
    "start_time": "2021-10-03T19:04:16.480Z"
   },
   {
    "duration": 127,
    "start_time": "2021-10-03T19:04:16.508Z"
   },
   {
    "duration": 17,
    "start_time": "2021-10-03T19:04:16.637Z"
   },
   {
    "duration": 122,
    "start_time": "2021-10-03T19:04:16.656Z"
   },
   {
    "duration": 18,
    "start_time": "2021-10-03T19:04:16.780Z"
   },
   {
    "duration": 16,
    "start_time": "2021-10-03T19:04:16.799Z"
   },
   {
    "duration": 98,
    "start_time": "2021-10-03T19:04:16.818Z"
   },
   {
    "duration": 6,
    "start_time": "2021-10-03T19:04:16.918Z"
   },
   {
    "duration": 10,
    "start_time": "2021-10-03T19:04:16.925Z"
   },
   {
    "duration": 10,
    "start_time": "2021-10-03T19:04:16.949Z"
   },
   {
    "duration": 8,
    "start_time": "2021-10-03T19:04:16.961Z"
   },
   {
    "duration": 387,
    "start_time": "2021-10-03T19:04:16.971Z"
   },
   {
    "duration": 18,
    "start_time": "2021-10-03T19:04:17.360Z"
   },
   {
    "duration": 210,
    "start_time": "2021-10-03T19:04:17.380Z"
   },
   {
    "duration": 19,
    "start_time": "2021-10-03T19:04:17.592Z"
   },
   {
    "duration": 193,
    "start_time": "2021-10-03T19:04:17.613Z"
   },
   {
    "duration": 47,
    "start_time": "2021-10-03T19:04:17.807Z"
   },
   {
    "duration": 13,
    "start_time": "2021-10-03T19:04:17.855Z"
   },
   {
    "duration": 112,
    "start_time": "2021-10-03T19:04:17.870Z"
   },
   {
    "duration": 44,
    "start_time": "2021-10-03T19:04:17.983Z"
   },
   {
    "duration": 60,
    "start_time": "2021-10-03T19:04:18.029Z"
   },
   {
    "duration": 7,
    "start_time": "2021-10-03T19:04:18.092Z"
   },
   {
    "duration": 21,
    "start_time": "2021-10-03T19:04:18.102Z"
   },
   {
    "duration": 37,
    "start_time": "2021-10-03T19:04:18.125Z"
   },
   {
    "duration": 5,
    "start_time": "2021-10-03T19:04:18.164Z"
   },
   {
    "duration": 16,
    "start_time": "2021-10-03T19:04:18.170Z"
   },
   {
    "duration": 62,
    "start_time": "2021-10-03T19:04:18.187Z"
   },
   {
    "duration": 41,
    "start_time": "2021-10-03T19:04:18.251Z"
   },
   {
    "duration": 27,
    "start_time": "2021-10-03T19:04:18.294Z"
   },
   {
    "duration": 54,
    "start_time": "2021-10-03T19:04:18.323Z"
   },
   {
    "duration": 31,
    "start_time": "2021-10-03T19:04:18.379Z"
   },
   {
    "duration": 47,
    "start_time": "2021-10-03T19:04:18.411Z"
   },
   {
    "duration": 19,
    "start_time": "2021-10-03T19:04:18.460Z"
   },
   {
    "duration": 19,
    "start_time": "2021-10-03T19:04:18.481Z"
   },
   {
    "duration": 14,
    "start_time": "2021-10-03T19:04:18.502Z"
   },
   {
    "duration": 36,
    "start_time": "2021-10-03T19:04:18.518Z"
   },
   {
    "duration": 32,
    "start_time": "2021-10-03T19:04:18.556Z"
   },
   {
    "duration": 7,
    "start_time": "2021-10-03T19:04:18.590Z"
   },
   {
    "duration": 5,
    "start_time": "2021-10-03T19:04:18.599Z"
   },
   {
    "duration": 166,
    "start_time": "2021-10-03T19:04:18.605Z"
   },
   {
    "duration": 15,
    "start_time": "2021-10-03T19:04:18.773Z"
   },
   {
    "duration": 8,
    "start_time": "2021-10-03T19:04:18.790Z"
   },
   {
    "duration": 7,
    "start_time": "2021-10-03T19:04:18.799Z"
   },
   {
    "duration": 9,
    "start_time": "2021-10-03T19:04:18.808Z"
   },
   {
    "duration": 7,
    "start_time": "2021-10-03T19:04:18.849Z"
   },
   {
    "duration": 17,
    "start_time": "2021-10-03T19:04:18.858Z"
   },
   {
    "duration": 7,
    "start_time": "2021-10-03T19:04:18.877Z"
   },
   {
    "duration": 6,
    "start_time": "2021-10-03T19:04:18.886Z"
   },
   {
    "duration": 9,
    "start_time": "2021-10-03T19:04:18.894Z"
   },
   {
    "duration": 12,
    "start_time": "2021-10-03T19:04:18.905Z"
   },
   {
    "duration": 41,
    "start_time": "2021-10-03T19:04:18.919Z"
   },
   {
    "duration": 7,
    "start_time": "2021-10-03T19:04:18.961Z"
   },
   {
    "duration": 464,
    "start_time": "2021-10-03T19:04:18.969Z"
   },
   {
    "duration": 460,
    "start_time": "2021-10-03T19:04:19.435Z"
   },
   {
    "duration": 444,
    "start_time": "2021-10-03T19:04:19.897Z"
   },
   {
    "duration": 826,
    "start_time": "2021-10-03T19:04:20.343Z"
   },
   {
    "duration": 22,
    "start_time": "2021-10-03T19:04:21.172Z"
   },
   {
    "duration": 7,
    "start_time": "2021-10-03T19:04:21.195Z"
   },
   {
    "duration": 13,
    "start_time": "2021-10-03T19:04:21.203Z"
   },
   {
    "duration": 9,
    "start_time": "2021-10-03T19:04:21.217Z"
   },
   {
    "duration": 24,
    "start_time": "2021-10-03T19:04:21.227Z"
   },
   {
    "duration": 6,
    "start_time": "2021-10-03T19:04:21.253Z"
   },
   {
    "duration": 28,
    "start_time": "2021-10-03T19:04:21.261Z"
   },
   {
    "duration": 6,
    "start_time": "2021-10-03T19:04:21.291Z"
   },
   {
    "duration": 11,
    "start_time": "2021-10-03T19:04:21.299Z"
   },
   {
    "duration": 8,
    "start_time": "2021-10-03T19:04:21.312Z"
   },
   {
    "duration": 28,
    "start_time": "2021-10-03T19:04:21.324Z"
   },
   {
    "duration": 44,
    "start_time": "2021-10-03T19:04:42.431Z"
   },
   {
    "duration": 4,
    "start_time": "2021-10-03T19:10:24.306Z"
   },
   {
    "duration": 145,
    "start_time": "2021-10-03T19:10:28.344Z"
   },
   {
    "duration": 143,
    "start_time": "2021-10-03T19:11:57.591Z"
   },
   {
    "duration": 146,
    "start_time": "2021-10-03T19:12:11.462Z"
   },
   {
    "duration": 140,
    "start_time": "2021-10-03T19:12:21.298Z"
   },
   {
    "duration": 139,
    "start_time": "2021-10-03T19:12:27.566Z"
   },
   {
    "duration": 7,
    "start_time": "2021-10-03T19:13:43.277Z"
   },
   {
    "duration": 32,
    "start_time": "2021-10-03T19:13:44.040Z"
   },
   {
    "duration": 7,
    "start_time": "2021-10-03T19:14:24.921Z"
   },
   {
    "duration": 9,
    "start_time": "2021-10-03T19:14:33.124Z"
   },
   {
    "duration": 7,
    "start_time": "2021-10-03T19:14:57.287Z"
   },
   {
    "duration": 6,
    "start_time": "2021-10-03T19:15:44.696Z"
   },
   {
    "duration": 32,
    "start_time": "2021-10-03T19:15:45.873Z"
   },
   {
    "duration": 7,
    "start_time": "2021-10-03T19:15:51.780Z"
   },
   {
    "duration": 9,
    "start_time": "2021-10-03T19:15:54.761Z"
   },
   {
    "duration": 7,
    "start_time": "2021-10-03T19:15:59.065Z"
   },
   {
    "duration": 17,
    "start_time": "2021-10-03T19:16:06.203Z"
   },
   {
    "duration": 14,
    "start_time": "2021-10-03T19:16:46.121Z"
   },
   {
    "duration": 5,
    "start_time": "2021-10-03T19:21:00.656Z"
   },
   {
    "duration": 905,
    "start_time": "2021-10-03T19:21:08.370Z"
   },
   {
    "duration": 418,
    "start_time": "2021-10-03T19:23:03.366Z"
   },
   {
    "duration": 27,
    "start_time": "2021-10-03T19:23:03.786Z"
   },
   {
    "duration": 134,
    "start_time": "2021-10-03T19:23:03.815Z"
   },
   {
    "duration": 18,
    "start_time": "2021-10-03T19:23:03.951Z"
   },
   {
    "duration": 146,
    "start_time": "2021-10-03T19:23:03.971Z"
   },
   {
    "duration": 18,
    "start_time": "2021-10-03T19:23:04.119Z"
   },
   {
    "duration": 19,
    "start_time": "2021-10-03T19:23:04.139Z"
   },
   {
    "duration": 96,
    "start_time": "2021-10-03T19:23:04.161Z"
   },
   {
    "duration": 6,
    "start_time": "2021-10-03T19:23:04.259Z"
   },
   {
    "duration": 10,
    "start_time": "2021-10-03T19:23:04.267Z"
   },
   {
    "duration": 12,
    "start_time": "2021-10-03T19:23:04.278Z"
   },
   {
    "duration": 8,
    "start_time": "2021-10-03T19:23:04.291Z"
   },
   {
    "duration": 406,
    "start_time": "2021-10-03T19:23:04.301Z"
   },
   {
    "duration": 25,
    "start_time": "2021-10-03T19:23:04.709Z"
   },
   {
    "duration": 209,
    "start_time": "2021-10-03T19:23:04.749Z"
   },
   {
    "duration": 20,
    "start_time": "2021-10-03T19:23:04.960Z"
   },
   {
    "duration": 201,
    "start_time": "2021-10-03T19:23:04.982Z"
   },
   {
    "duration": 34,
    "start_time": "2021-10-03T19:23:05.185Z"
   },
   {
    "duration": 31,
    "start_time": "2021-10-03T19:23:05.221Z"
   },
   {
    "duration": 116,
    "start_time": "2021-10-03T19:23:05.254Z"
   },
   {
    "duration": 48,
    "start_time": "2021-10-03T19:23:05.371Z"
   },
   {
    "duration": 61,
    "start_time": "2021-10-03T19:23:05.421Z"
   },
   {
    "duration": 7,
    "start_time": "2021-10-03T19:23:05.485Z"
   },
   {
    "duration": 22,
    "start_time": "2021-10-03T19:23:05.495Z"
   },
   {
    "duration": 37,
    "start_time": "2021-10-03T19:23:05.518Z"
   },
   {
    "duration": 6,
    "start_time": "2021-10-03T19:23:05.557Z"
   },
   {
    "duration": 22,
    "start_time": "2021-10-03T19:23:05.564Z"
   },
   {
    "duration": 64,
    "start_time": "2021-10-03T19:23:05.588Z"
   },
   {
    "duration": 46,
    "start_time": "2021-10-03T19:23:05.654Z"
   },
   {
    "duration": 26,
    "start_time": "2021-10-03T19:23:05.702Z"
   },
   {
    "duration": 45,
    "start_time": "2021-10-03T19:23:05.730Z"
   },
   {
    "duration": 30,
    "start_time": "2021-10-03T19:23:05.777Z"
   },
   {
    "duration": 47,
    "start_time": "2021-10-03T19:23:05.809Z"
   },
   {
    "duration": 17,
    "start_time": "2021-10-03T19:23:05.858Z"
   },
   {
    "duration": 18,
    "start_time": "2021-10-03T19:23:05.877Z"
   },
   {
    "duration": 13,
    "start_time": "2021-10-03T19:23:05.897Z"
   },
   {
    "duration": 5,
    "start_time": "2021-10-03T19:23:05.912Z"
   },
   {
    "duration": 64,
    "start_time": "2021-10-03T19:23:05.918Z"
   },
   {
    "duration": 6,
    "start_time": "2021-10-03T19:23:05.983Z"
   },
   {
    "duration": 6,
    "start_time": "2021-10-03T19:23:05.991Z"
   },
   {
    "duration": 159,
    "start_time": "2021-10-03T19:23:05.998Z"
   },
   {
    "duration": 6,
    "start_time": "2021-10-03T19:23:06.159Z"
   },
   {
    "duration": 32,
    "start_time": "2021-10-03T19:23:06.166Z"
   },
   {
    "duration": 6,
    "start_time": "2021-10-03T19:23:06.200Z"
   },
   {
    "duration": 259,
    "start_time": "2021-10-03T19:23:06.208Z"
   },
   {
    "duration": -2,
    "start_time": "2021-10-03T19:23:06.471Z"
   },
   {
    "duration": -3,
    "start_time": "2021-10-03T19:23:06.473Z"
   },
   {
    "duration": -5,
    "start_time": "2021-10-03T19:23:06.475Z"
   },
   {
    "duration": -6,
    "start_time": "2021-10-03T19:23:06.477Z"
   },
   {
    "duration": -6,
    "start_time": "2021-10-03T19:23:06.478Z"
   },
   {
    "duration": -7,
    "start_time": "2021-10-03T19:23:06.480Z"
   },
   {
    "duration": -7,
    "start_time": "2021-10-03T19:23:06.481Z"
   },
   {
    "duration": -7,
    "start_time": "2021-10-03T19:23:06.482Z"
   },
   {
    "duration": -8,
    "start_time": "2021-10-03T19:23:06.484Z"
   },
   {
    "duration": -8,
    "start_time": "2021-10-03T19:23:06.485Z"
   },
   {
    "duration": -10,
    "start_time": "2021-10-03T19:23:06.487Z"
   },
   {
    "duration": -10,
    "start_time": "2021-10-03T19:23:06.488Z"
   },
   {
    "duration": -10,
    "start_time": "2021-10-03T19:23:06.489Z"
   },
   {
    "duration": -11,
    "start_time": "2021-10-03T19:23:06.491Z"
   },
   {
    "duration": -10,
    "start_time": "2021-10-03T19:23:06.492Z"
   },
   {
    "duration": -11,
    "start_time": "2021-10-03T19:23:06.493Z"
   },
   {
    "duration": -11,
    "start_time": "2021-10-03T19:23:06.494Z"
   },
   {
    "duration": -12,
    "start_time": "2021-10-03T19:23:06.495Z"
   },
   {
    "duration": -17,
    "start_time": "2021-10-03T19:23:06.501Z"
   },
   {
    "duration": -18,
    "start_time": "2021-10-03T19:23:06.503Z"
   },
   {
    "duration": -19,
    "start_time": "2021-10-03T19:23:06.504Z"
   },
   {
    "duration": -19,
    "start_time": "2021-10-03T19:23:06.505Z"
   },
   {
    "duration": -20,
    "start_time": "2021-10-03T19:23:06.506Z"
   },
   {
    "duration": 256,
    "start_time": "2021-10-03T19:23:46.698Z"
   },
   {
    "duration": 1560,
    "start_time": "2021-10-03T19:25:20.371Z"
   },
   {
    "duration": 35,
    "start_time": "2021-10-03T19:25:21.934Z"
   },
   {
    "duration": 177,
    "start_time": "2021-10-03T19:25:21.972Z"
   },
   {
    "duration": 19,
    "start_time": "2021-10-03T19:25:22.152Z"
   },
   {
    "duration": 141,
    "start_time": "2021-10-03T19:25:22.174Z"
   },
   {
    "duration": 18,
    "start_time": "2021-10-03T19:25:22.317Z"
   },
   {
    "duration": 23,
    "start_time": "2021-10-03T19:25:22.337Z"
   },
   {
    "duration": 102,
    "start_time": "2021-10-03T19:25:22.363Z"
   },
   {
    "duration": 6,
    "start_time": "2021-10-03T19:25:22.468Z"
   },
   {
    "duration": 8,
    "start_time": "2021-10-03T19:25:22.476Z"
   },
   {
    "duration": 11,
    "start_time": "2021-10-03T19:25:22.486Z"
   },
   {
    "duration": 9,
    "start_time": "2021-10-03T19:25:22.499Z"
   },
   {
    "duration": 426,
    "start_time": "2021-10-03T19:25:22.510Z"
   },
   {
    "duration": 25,
    "start_time": "2021-10-03T19:25:22.938Z"
   },
   {
    "duration": 210,
    "start_time": "2021-10-03T19:25:22.965Z"
   },
   {
    "duration": 20,
    "start_time": "2021-10-03T19:25:23.177Z"
   },
   {
    "duration": 200,
    "start_time": "2021-10-03T19:25:23.198Z"
   },
   {
    "duration": 33,
    "start_time": "2021-10-03T19:25:23.399Z"
   },
   {
    "duration": 27,
    "start_time": "2021-10-03T19:25:23.433Z"
   },
   {
    "duration": 118,
    "start_time": "2021-10-03T19:25:23.462Z"
   },
   {
    "duration": 45,
    "start_time": "2021-10-03T19:25:23.582Z"
   },
   {
    "duration": 61,
    "start_time": "2021-10-03T19:25:23.629Z"
   },
   {
    "duration": 10,
    "start_time": "2021-10-03T19:25:23.693Z"
   },
   {
    "duration": 44,
    "start_time": "2021-10-03T19:25:23.705Z"
   },
   {
    "duration": 18,
    "start_time": "2021-10-03T19:25:23.751Z"
   },
   {
    "duration": 6,
    "start_time": "2021-10-03T19:25:23.771Z"
   },
   {
    "duration": 15,
    "start_time": "2021-10-03T19:25:23.781Z"
   },
   {
    "duration": 73,
    "start_time": "2021-10-03T19:25:23.799Z"
   },
   {
    "duration": 42,
    "start_time": "2021-10-03T19:25:23.873Z"
   },
   {
    "duration": 42,
    "start_time": "2021-10-03T19:25:23.917Z"
   },
   {
    "duration": 27,
    "start_time": "2021-10-03T19:25:23.961Z"
   },
   {
    "duration": 64,
    "start_time": "2021-10-03T19:25:23.991Z"
   },
   {
    "duration": 39,
    "start_time": "2021-10-03T19:25:24.057Z"
   },
   {
    "duration": 27,
    "start_time": "2021-10-03T19:25:24.099Z"
   },
   {
    "duration": 47,
    "start_time": "2021-10-03T19:25:24.129Z"
   },
   {
    "duration": 15,
    "start_time": "2021-10-03T19:25:24.178Z"
   },
   {
    "duration": 5,
    "start_time": "2021-10-03T19:25:24.195Z"
   },
   {
    "duration": 69,
    "start_time": "2021-10-03T19:25:24.202Z"
   },
   {
    "duration": 10,
    "start_time": "2021-10-03T19:25:24.273Z"
   },
   {
    "duration": 5,
    "start_time": "2021-10-03T19:25:24.285Z"
   },
   {
    "duration": 241,
    "start_time": "2021-10-03T19:25:24.292Z"
   },
   {
    "duration": 14,
    "start_time": "2021-10-03T19:25:24.535Z"
   },
   {
    "duration": 47,
    "start_time": "2021-10-03T19:25:24.551Z"
   },
   {
    "duration": 8,
    "start_time": "2021-10-03T19:25:24.600Z"
   },
   {
    "duration": 572,
    "start_time": "2021-10-03T19:25:24.610Z"
   },
   {
    "duration": -68,
    "start_time": "2021-10-03T19:25:25.253Z"
   },
   {
    "duration": -68,
    "start_time": "2021-10-03T19:25:25.255Z"
   },
   {
    "duration": -68,
    "start_time": "2021-10-03T19:25:25.256Z"
   },
   {
    "duration": -68,
    "start_time": "2021-10-03T19:25:25.258Z"
   },
   {
    "duration": -68,
    "start_time": "2021-10-03T19:25:25.259Z"
   },
   {
    "duration": -67,
    "start_time": "2021-10-03T19:25:25.260Z"
   },
   {
    "duration": -67,
    "start_time": "2021-10-03T19:25:25.261Z"
   },
   {
    "duration": -67,
    "start_time": "2021-10-03T19:25:25.263Z"
   },
   {
    "duration": -66,
    "start_time": "2021-10-03T19:25:25.264Z"
   },
   {
    "duration": -67,
    "start_time": "2021-10-03T19:25:25.266Z"
   },
   {
    "duration": -66,
    "start_time": "2021-10-03T19:25:25.267Z"
   },
   {
    "duration": -66,
    "start_time": "2021-10-03T19:25:25.268Z"
   },
   {
    "duration": -67,
    "start_time": "2021-10-03T19:25:25.270Z"
   },
   {
    "duration": -66,
    "start_time": "2021-10-03T19:25:25.271Z"
   },
   {
    "duration": -66,
    "start_time": "2021-10-03T19:25:25.272Z"
   },
   {
    "duration": -65,
    "start_time": "2021-10-03T19:25:25.273Z"
   },
   {
    "duration": -65,
    "start_time": "2021-10-03T19:25:25.274Z"
   },
   {
    "duration": -64,
    "start_time": "2021-10-03T19:25:25.275Z"
   },
   {
    "duration": -64,
    "start_time": "2021-10-03T19:25:25.276Z"
   },
   {
    "duration": -63,
    "start_time": "2021-10-03T19:25:25.277Z"
   },
   {
    "duration": -62,
    "start_time": "2021-10-03T19:25:25.278Z"
   },
   {
    "duration": -62,
    "start_time": "2021-10-03T19:25:25.279Z"
   },
   {
    "duration": -62,
    "start_time": "2021-10-03T19:25:25.281Z"
   },
   {
    "duration": 1535,
    "start_time": "2021-10-03T19:25:51.385Z"
   },
   {
    "duration": 50,
    "start_time": "2021-10-03T19:25:52.922Z"
   },
   {
    "duration": 271,
    "start_time": "2021-10-03T19:25:52.974Z"
   },
   {
    "duration": 18,
    "start_time": "2021-10-03T19:25:53.250Z"
   },
   {
    "duration": 145,
    "start_time": "2021-10-03T19:25:53.269Z"
   },
   {
    "duration": 17,
    "start_time": "2021-10-03T19:25:53.415Z"
   },
   {
    "duration": 23,
    "start_time": "2021-10-03T19:25:53.434Z"
   },
   {
    "duration": 102,
    "start_time": "2021-10-03T19:25:53.458Z"
   },
   {
    "duration": 6,
    "start_time": "2021-10-03T19:25:53.564Z"
   },
   {
    "duration": 8,
    "start_time": "2021-10-03T19:25:53.573Z"
   },
   {
    "duration": 12,
    "start_time": "2021-10-03T19:25:53.583Z"
   },
   {
    "duration": 7,
    "start_time": "2021-10-03T19:25:53.597Z"
   },
   {
    "duration": 420,
    "start_time": "2021-10-03T19:25:53.606Z"
   },
   {
    "duration": 25,
    "start_time": "2021-10-03T19:25:54.028Z"
   },
   {
    "duration": 217,
    "start_time": "2021-10-03T19:25:54.055Z"
   },
   {
    "duration": 19,
    "start_time": "2021-10-03T19:25:54.274Z"
   },
   {
    "duration": 187,
    "start_time": "2021-10-03T19:25:54.295Z"
   },
   {
    "duration": 32,
    "start_time": "2021-10-03T19:25:54.484Z"
   },
   {
    "duration": 32,
    "start_time": "2021-10-03T19:25:54.517Z"
   },
   {
    "duration": 100,
    "start_time": "2021-10-03T19:25:54.551Z"
   },
   {
    "duration": 46,
    "start_time": "2021-10-03T19:25:54.653Z"
   },
   {
    "duration": 63,
    "start_time": "2021-10-03T19:25:54.701Z"
   },
   {
    "duration": 7,
    "start_time": "2021-10-03T19:25:54.766Z"
   },
   {
    "duration": 20,
    "start_time": "2021-10-03T19:25:54.775Z"
   },
   {
    "duration": 17,
    "start_time": "2021-10-03T19:25:54.797Z"
   },
   {
    "duration": 35,
    "start_time": "2021-10-03T19:25:54.816Z"
   },
   {
    "duration": 15,
    "start_time": "2021-10-03T19:25:54.856Z"
   },
   {
    "duration": 43,
    "start_time": "2021-10-03T19:25:54.874Z"
   },
   {
    "duration": 65,
    "start_time": "2021-10-03T19:25:54.919Z"
   },
   {
    "duration": 26,
    "start_time": "2021-10-03T19:25:54.987Z"
   },
   {
    "duration": 52,
    "start_time": "2021-10-03T19:25:55.016Z"
   },
   {
    "duration": 33,
    "start_time": "2021-10-03T19:25:55.070Z"
   },
   {
    "duration": 51,
    "start_time": "2021-10-03T19:25:55.105Z"
   },
   {
    "duration": 20,
    "start_time": "2021-10-03T19:25:55.158Z"
   },
   {
    "duration": 18,
    "start_time": "2021-10-03T19:25:55.180Z"
   },
   {
    "duration": 13,
    "start_time": "2021-10-03T19:25:55.200Z"
   },
   {
    "duration": 5,
    "start_time": "2021-10-03T19:25:55.215Z"
   },
   {
    "duration": 30,
    "start_time": "2021-10-03T19:25:55.250Z"
   },
   {
    "duration": 10,
    "start_time": "2021-10-03T19:25:55.282Z"
   },
   {
    "duration": 4,
    "start_time": "2021-10-03T19:25:55.294Z"
   },
   {
    "duration": 171,
    "start_time": "2021-10-03T19:25:55.300Z"
   },
   {
    "duration": 6,
    "start_time": "2021-10-03T19:25:55.473Z"
   },
   {
    "duration": 29,
    "start_time": "2021-10-03T19:25:55.481Z"
   },
   {
    "duration": 7,
    "start_time": "2021-10-03T19:25:55.512Z"
   },
   {
    "duration": 34,
    "start_time": "2021-10-03T19:25:55.520Z"
   },
   {
    "duration": 7,
    "start_time": "2021-10-03T19:25:55.556Z"
   },
   {
    "duration": 8,
    "start_time": "2021-10-03T19:25:55.564Z"
   },
   {
    "duration": 30,
    "start_time": "2021-10-03T19:25:55.573Z"
   },
   {
    "duration": 7,
    "start_time": "2021-10-03T19:25:55.604Z"
   },
   {
    "duration": 333,
    "start_time": "2021-10-03T19:25:55.613Z"
   },
   {
    "duration": 0,
    "start_time": "2021-10-03T19:25:55.948Z"
   },
   {
    "duration": -3,
    "start_time": "2021-10-03T19:25:55.952Z"
   },
   {
    "duration": -3,
    "start_time": "2021-10-03T19:25:55.953Z"
   },
   {
    "duration": -4,
    "start_time": "2021-10-03T19:25:55.955Z"
   },
   {
    "duration": -5,
    "start_time": "2021-10-03T19:25:55.957Z"
   },
   {
    "duration": -5,
    "start_time": "2021-10-03T19:25:55.958Z"
   },
   {
    "duration": -5,
    "start_time": "2021-10-03T19:25:55.959Z"
   },
   {
    "duration": -6,
    "start_time": "2021-10-03T19:25:55.961Z"
   },
   {
    "duration": -7,
    "start_time": "2021-10-03T19:25:55.963Z"
   },
   {
    "duration": -7,
    "start_time": "2021-10-03T19:25:55.964Z"
   },
   {
    "duration": -8,
    "start_time": "2021-10-03T19:25:55.965Z"
   },
   {
    "duration": -9,
    "start_time": "2021-10-03T19:25:55.967Z"
   },
   {
    "duration": -9,
    "start_time": "2021-10-03T19:25:55.968Z"
   },
   {
    "duration": -9,
    "start_time": "2021-10-03T19:25:55.969Z"
   },
   {
    "duration": -10,
    "start_time": "2021-10-03T19:25:55.971Z"
   },
   {
    "duration": -10,
    "start_time": "2021-10-03T19:25:55.972Z"
   },
   {
    "duration": -10,
    "start_time": "2021-10-03T19:25:55.973Z"
   },
   {
    "duration": -10,
    "start_time": "2021-10-03T19:25:55.974Z"
   },
   {
    "duration": 1533,
    "start_time": "2021-10-03T19:26:17.181Z"
   },
   {
    "duration": 32,
    "start_time": "2021-10-03T19:26:18.716Z"
   },
   {
    "duration": 145,
    "start_time": "2021-10-03T19:26:18.750Z"
   },
   {
    "duration": 16,
    "start_time": "2021-10-03T19:26:18.897Z"
   },
   {
    "duration": 144,
    "start_time": "2021-10-03T19:26:18.915Z"
   },
   {
    "duration": 18,
    "start_time": "2021-10-03T19:26:19.061Z"
   },
   {
    "duration": 16,
    "start_time": "2021-10-03T19:26:19.081Z"
   },
   {
    "duration": 110,
    "start_time": "2021-10-03T19:26:19.100Z"
   },
   {
    "duration": 6,
    "start_time": "2021-10-03T19:26:19.212Z"
   },
   {
    "duration": 19,
    "start_time": "2021-10-03T19:26:19.220Z"
   },
   {
    "duration": 10,
    "start_time": "2021-10-03T19:26:19.249Z"
   },
   {
    "duration": 9,
    "start_time": "2021-10-03T19:26:19.261Z"
   },
   {
    "duration": 419,
    "start_time": "2021-10-03T19:26:19.272Z"
   },
   {
    "duration": 23,
    "start_time": "2021-10-03T19:26:19.693Z"
   },
   {
    "duration": 218,
    "start_time": "2021-10-03T19:26:19.718Z"
   },
   {
    "duration": 26,
    "start_time": "2021-10-03T19:26:19.939Z"
   },
   {
    "duration": 197,
    "start_time": "2021-10-03T19:26:19.967Z"
   },
   {
    "duration": 32,
    "start_time": "2021-10-03T19:26:20.165Z"
   },
   {
    "duration": 13,
    "start_time": "2021-10-03T19:26:20.199Z"
   },
   {
    "duration": 137,
    "start_time": "2021-10-03T19:26:20.213Z"
   },
   {
    "duration": 46,
    "start_time": "2021-10-03T19:26:20.351Z"
   },
   {
    "duration": 60,
    "start_time": "2021-10-03T19:26:20.399Z"
   },
   {
    "duration": 8,
    "start_time": "2021-10-03T19:26:20.463Z"
   },
   {
    "duration": 20,
    "start_time": "2021-10-03T19:26:20.474Z"
   },
   {
    "duration": 17,
    "start_time": "2021-10-03T19:26:20.496Z"
   },
   {
    "duration": 35,
    "start_time": "2021-10-03T19:26:20.514Z"
   },
   {
    "duration": 16,
    "start_time": "2021-10-03T19:26:20.551Z"
   },
   {
    "duration": 44,
    "start_time": "2021-10-03T19:26:20.569Z"
   },
   {
    "duration": 62,
    "start_time": "2021-10-03T19:26:20.615Z"
   },
   {
    "duration": 27,
    "start_time": "2021-10-03T19:26:20.679Z"
   },
   {
    "duration": 45,
    "start_time": "2021-10-03T19:26:20.707Z"
   },
   {
    "duration": 32,
    "start_time": "2021-10-03T19:26:20.754Z"
   },
   {
    "duration": 27,
    "start_time": "2021-10-03T19:26:20.788Z"
   },
   {
    "duration": 42,
    "start_time": "2021-10-03T19:26:20.816Z"
   },
   {
    "duration": 18,
    "start_time": "2021-10-03T19:26:20.860Z"
   },
   {
    "duration": 12,
    "start_time": "2021-10-03T19:26:20.880Z"
   },
   {
    "duration": 20,
    "start_time": "2021-10-03T19:26:20.894Z"
   },
   {
    "duration": 40,
    "start_time": "2021-10-03T19:26:20.916Z"
   },
   {
    "duration": 9,
    "start_time": "2021-10-03T19:26:20.958Z"
   },
   {
    "duration": 4,
    "start_time": "2021-10-03T19:26:20.969Z"
   },
   {
    "duration": 161,
    "start_time": "2021-10-03T19:26:20.974Z"
   },
   {
    "duration": 12,
    "start_time": "2021-10-03T19:26:21.137Z"
   },
   {
    "duration": 29,
    "start_time": "2021-10-03T19:26:21.151Z"
   },
   {
    "duration": 7,
    "start_time": "2021-10-03T19:26:21.182Z"
   },
   {
    "duration": 12,
    "start_time": "2021-10-03T19:26:21.191Z"
   },
   {
    "duration": 7,
    "start_time": "2021-10-03T19:26:21.205Z"
   },
   {
    "duration": 38,
    "start_time": "2021-10-03T19:26:21.213Z"
   },
   {
    "duration": 32,
    "start_time": "2021-10-03T19:26:21.252Z"
   },
   {
    "duration": 7,
    "start_time": "2021-10-03T19:26:21.286Z"
   },
   {
    "duration": 8,
    "start_time": "2021-10-03T19:26:21.294Z"
   },
   {
    "duration": 8,
    "start_time": "2021-10-03T19:26:21.304Z"
   },
   {
    "duration": 44,
    "start_time": "2021-10-03T19:26:21.313Z"
   },
   {
    "duration": 6,
    "start_time": "2021-10-03T19:26:21.359Z"
   },
   {
    "duration": 857,
    "start_time": "2021-10-03T19:26:21.367Z"
   },
   {
    "duration": -69,
    "start_time": "2021-10-03T19:26:22.295Z"
   },
   {
    "duration": -88,
    "start_time": "2021-10-03T19:26:22.315Z"
   },
   {
    "duration": -89,
    "start_time": "2021-10-03T19:26:22.317Z"
   },
   {
    "duration": -93,
    "start_time": "2021-10-03T19:26:22.322Z"
   },
   {
    "duration": -93,
    "start_time": "2021-10-03T19:26:22.323Z"
   },
   {
    "duration": -94,
    "start_time": "2021-10-03T19:26:22.325Z"
   },
   {
    "duration": -94,
    "start_time": "2021-10-03T19:26:22.326Z"
   },
   {
    "duration": -95,
    "start_time": "2021-10-03T19:26:22.327Z"
   },
   {
    "duration": -99,
    "start_time": "2021-10-03T19:26:22.332Z"
   },
   {
    "duration": -84,
    "start_time": "2021-10-03T19:26:22.333Z"
   },
   {
    "duration": -85,
    "start_time": "2021-10-03T19:26:22.335Z"
   },
   {
    "duration": -85,
    "start_time": "2021-10-03T19:26:22.336Z"
   },
   {
    "duration": -85,
    "start_time": "2021-10-03T19:26:22.337Z"
   },
   {
    "duration": -85,
    "start_time": "2021-10-03T19:26:22.338Z"
   },
   {
    "duration": 2029,
    "start_time": "2021-10-04T17:53:33.452Z"
   },
   {
    "duration": 44,
    "start_time": "2021-10-04T17:53:35.484Z"
   },
   {
    "duration": 256,
    "start_time": "2021-10-04T17:53:35.531Z"
   },
   {
    "duration": 32,
    "start_time": "2021-10-04T17:53:35.790Z"
   },
   {
    "duration": 200,
    "start_time": "2021-10-04T17:53:35.825Z"
   },
   {
    "duration": 21,
    "start_time": "2021-10-04T17:53:36.028Z"
   },
   {
    "duration": 19,
    "start_time": "2021-10-04T17:53:36.052Z"
   },
   {
    "duration": 155,
    "start_time": "2021-10-04T17:53:36.075Z"
   },
   {
    "duration": 9,
    "start_time": "2021-10-04T17:53:36.233Z"
   },
   {
    "duration": 33,
    "start_time": "2021-10-04T17:53:36.244Z"
   },
   {
    "duration": 36,
    "start_time": "2021-10-04T17:53:36.280Z"
   },
   {
    "duration": 23,
    "start_time": "2021-10-04T17:53:36.319Z"
   },
   {
    "duration": 442,
    "start_time": "2021-10-04T17:53:36.345Z"
   },
   {
    "duration": 36,
    "start_time": "2021-10-04T17:53:36.789Z"
   },
   {
    "duration": 277,
    "start_time": "2021-10-04T17:53:36.827Z"
   },
   {
    "duration": 36,
    "start_time": "2021-10-04T17:53:37.106Z"
   },
   {
    "duration": 216,
    "start_time": "2021-10-04T17:53:37.144Z"
   },
   {
    "duration": 67,
    "start_time": "2021-10-04T17:53:37.363Z"
   },
   {
    "duration": 27,
    "start_time": "2021-10-04T17:53:37.432Z"
   },
   {
    "duration": 141,
    "start_time": "2021-10-04T17:53:37.462Z"
   },
   {
    "duration": 82,
    "start_time": "2021-10-04T17:53:37.605Z"
   },
   {
    "duration": 76,
    "start_time": "2021-10-04T17:53:37.689Z"
   },
   {
    "duration": 9,
    "start_time": "2021-10-04T17:53:37.770Z"
   },
   {
    "duration": 46,
    "start_time": "2021-10-04T17:53:37.781Z"
   },
   {
    "duration": 21,
    "start_time": "2021-10-04T17:53:37.830Z"
   },
   {
    "duration": 26,
    "start_time": "2021-10-04T17:53:37.854Z"
   },
   {
    "duration": 36,
    "start_time": "2021-10-04T17:53:37.882Z"
   },
   {
    "duration": 16,
    "start_time": "2021-10-04T17:53:43.654Z"
   },
   {
    "duration": 25,
    "start_time": "2021-10-04T17:54:30.109Z"
   },
   {
    "duration": 11086,
    "start_time": "2021-10-04T17:55:00.383Z"
   },
   {
    "duration": -88,
    "start_time": "2021-10-04T17:56:10.330Z"
   },
   {
    "duration": 18,
    "start_time": "2021-10-04T17:56:16.625Z"
   },
   {
    "duration": 19,
    "start_time": "2021-10-04T17:56:36.679Z"
   },
   {
    "duration": 407,
    "start_time": "2021-10-04T17:56:47.656Z"
   },
   {
    "duration": 16,
    "start_time": "2021-10-04T17:57:02.695Z"
   },
   {
    "duration": 18,
    "start_time": "2021-10-04T17:57:16.881Z"
   },
   {
    "duration": 413,
    "start_time": "2021-10-04T17:57:44.335Z"
   },
   {
    "duration": 454,
    "start_time": "2021-10-04T17:58:24.512Z"
   },
   {
    "duration": 251,
    "start_time": "2021-10-04T17:58:47.107Z"
   },
   {
    "duration": 642,
    "start_time": "2021-10-04T17:59:03.220Z"
   },
   {
    "duration": 229,
    "start_time": "2021-10-04T17:59:17.781Z"
   },
   {
    "duration": 336,
    "start_time": "2021-10-04T17:59:35.581Z"
   },
   {
    "duration": 321,
    "start_time": "2021-10-04T17:59:52.810Z"
   },
   {
    "duration": 327,
    "start_time": "2021-10-04T18:00:02.148Z"
   },
   {
    "duration": 423,
    "start_time": "2021-10-04T18:00:14.300Z"
   },
   {
    "duration": 446,
    "start_time": "2021-10-04T18:00:25.230Z"
   },
   {
    "duration": 14,
    "start_time": "2021-10-04T18:11:03.196Z"
   },
   {
    "duration": 17,
    "start_time": "2021-10-04T18:11:09.638Z"
   },
   {
    "duration": 19,
    "start_time": "2021-10-04T18:11:54.322Z"
   },
   {
    "duration": 5,
    "start_time": "2021-10-04T18:13:42.958Z"
   },
   {
    "duration": 6,
    "start_time": "2021-10-04T18:13:53.574Z"
   },
   {
    "duration": 5,
    "start_time": "2021-10-04T18:14:02.967Z"
   },
   {
    "duration": 22,
    "start_time": "2021-10-04T18:15:10.157Z"
   },
   {
    "duration": 19,
    "start_time": "2021-10-04T18:17:21.521Z"
   },
   {
    "duration": 20,
    "start_time": "2021-10-04T18:17:27.013Z"
   },
   {
    "duration": 22,
    "start_time": "2021-10-04T18:17:31.538Z"
   },
   {
    "duration": 155,
    "start_time": "2021-10-04T18:20:29.292Z"
   },
   {
    "duration": 417,
    "start_time": "2021-10-04T18:20:34.240Z"
   },
   {
    "duration": 11206,
    "start_time": "2021-10-04T18:20:43.192Z"
   },
   {
    "duration": 12846,
    "start_time": "2021-10-04T18:21:09.062Z"
   },
   {
    "duration": 10593,
    "start_time": "2021-10-04T18:21:32.724Z"
   },
   {
    "duration": 360,
    "start_time": "2021-10-04T18:33:13.574Z"
   },
   {
    "duration": 23,
    "start_time": "2021-10-04T18:35:32.616Z"
   },
   {
    "duration": 15,
    "start_time": "2021-10-04T18:41:37.051Z"
   },
   {
    "duration": 23,
    "start_time": "2021-10-04T18:41:50.358Z"
   },
   {
    "duration": 401,
    "start_time": "2021-10-04T19:10:56.775Z"
   },
   {
    "duration": 8,
    "start_time": "2021-10-04T19:11:06.019Z"
   },
   {
    "duration": 15,
    "start_time": "2021-10-04T19:11:19.486Z"
   },
   {
    "duration": 26,
    "start_time": "2021-10-04T19:11:23.598Z"
   },
   {
    "duration": 419,
    "start_time": "2021-10-04T19:14:24.482Z"
   },
   {
    "duration": 2052,
    "start_time": "2021-10-04T19:14:55.489Z"
   },
   {
    "duration": 42,
    "start_time": "2021-10-04T19:14:57.543Z"
   },
   {
    "duration": 221,
    "start_time": "2021-10-04T19:14:57.588Z"
   },
   {
    "duration": 25,
    "start_time": "2021-10-04T19:14:57.811Z"
   },
   {
    "duration": 198,
    "start_time": "2021-10-04T19:14:57.838Z"
   },
   {
    "duration": 23,
    "start_time": "2021-10-04T19:14:58.039Z"
   },
   {
    "duration": 18,
    "start_time": "2021-10-04T19:14:58.064Z"
   },
   {
    "duration": 155,
    "start_time": "2021-10-04T19:14:58.085Z"
   },
   {
    "duration": 10,
    "start_time": "2021-10-04T19:14:58.244Z"
   },
   {
    "duration": 10,
    "start_time": "2021-10-04T19:14:58.257Z"
   },
   {
    "duration": 48,
    "start_time": "2021-10-04T19:14:58.270Z"
   },
   {
    "duration": 11,
    "start_time": "2021-10-04T19:14:58.320Z"
   },
   {
    "duration": 459,
    "start_time": "2021-10-04T19:14:58.333Z"
   },
   {
    "duration": 36,
    "start_time": "2021-10-04T19:14:58.794Z"
   },
   {
    "duration": 232,
    "start_time": "2021-10-04T19:14:58.833Z"
   },
   {
    "duration": 26,
    "start_time": "2021-10-04T19:14:59.067Z"
   },
   {
    "duration": 234,
    "start_time": "2021-10-04T19:14:59.095Z"
   },
   {
    "duration": 53,
    "start_time": "2021-10-04T19:14:59.331Z"
   },
   {
    "duration": 41,
    "start_time": "2021-10-04T19:14:59.386Z"
   },
   {
    "duration": 137,
    "start_time": "2021-10-04T19:14:59.429Z"
   },
   {
    "duration": 78,
    "start_time": "2021-10-04T19:14:59.568Z"
   },
   {
    "duration": 76,
    "start_time": "2021-10-04T19:14:59.648Z"
   },
   {
    "duration": 9,
    "start_time": "2021-10-04T19:14:59.726Z"
   },
   {
    "duration": 27,
    "start_time": "2021-10-04T19:14:59.737Z"
   },
   {
    "duration": 53,
    "start_time": "2021-10-04T19:14:59.766Z"
   },
   {
    "duration": 8,
    "start_time": "2021-10-04T19:14:59.822Z"
   },
   {
    "duration": 19,
    "start_time": "2021-10-04T19:14:59.837Z"
   },
   {
    "duration": 392,
    "start_time": "2021-10-04T19:14:59.859Z"
   },
   {
    "duration": 21,
    "start_time": "2021-10-04T19:15:00.254Z"
   },
   {
    "duration": 51,
    "start_time": "2021-10-04T19:15:00.278Z"
   },
   {
    "duration": 59,
    "start_time": "2021-10-04T19:15:00.332Z"
   },
   {
    "duration": 71,
    "start_time": "2021-10-04T19:15:00.394Z"
   },
   {
    "duration": 58,
    "start_time": "2021-10-04T19:15:00.468Z"
   },
   {
    "duration": 38,
    "start_time": "2021-10-04T19:15:00.529Z"
   },
   {
    "duration": 68,
    "start_time": "2021-10-04T19:15:00.570Z"
   },
   {
    "duration": 39,
    "start_time": "2021-10-04T19:15:00.640Z"
   },
   {
    "duration": 54,
    "start_time": "2021-10-04T19:15:00.681Z"
   },
   {
    "duration": 30,
    "start_time": "2021-10-04T19:15:00.737Z"
   },
   {
    "duration": 47,
    "start_time": "2021-10-04T19:15:00.770Z"
   },
   {
    "duration": 15,
    "start_time": "2021-10-04T19:15:00.819Z"
   },
   {
    "duration": 16,
    "start_time": "2021-10-04T19:15:00.837Z"
   },
   {
    "duration": 67,
    "start_time": "2021-10-04T19:15:00.855Z"
   },
   {
    "duration": 16,
    "start_time": "2021-10-04T19:15:00.924Z"
   },
   {
    "duration": 149,
    "start_time": "2021-10-04T19:15:00.942Z"
   },
   {
    "duration": 71,
    "start_time": "2021-10-04T19:15:01.022Z"
   },
   {
    "duration": 71,
    "start_time": "2021-10-04T19:15:01.024Z"
   },
   {
    "duration": 72,
    "start_time": "2021-10-04T19:15:01.025Z"
   },
   {
    "duration": 72,
    "start_time": "2021-10-04T19:15:01.026Z"
   },
   {
    "duration": 72,
    "start_time": "2021-10-04T19:15:01.028Z"
   },
   {
    "duration": 72,
    "start_time": "2021-10-04T19:15:01.029Z"
   },
   {
    "duration": 59,
    "start_time": "2021-10-04T19:15:01.044Z"
   },
   {
    "duration": 56,
    "start_time": "2021-10-04T19:15:01.048Z"
   },
   {
    "duration": 56,
    "start_time": "2021-10-04T19:15:01.050Z"
   },
   {
    "duration": 56,
    "start_time": "2021-10-04T19:15:01.051Z"
   },
   {
    "duration": 57,
    "start_time": "2021-10-04T19:15:01.052Z"
   },
   {
    "duration": 57,
    "start_time": "2021-10-04T19:15:01.053Z"
   },
   {
    "duration": 57,
    "start_time": "2021-10-04T19:15:01.054Z"
   },
   {
    "duration": 58,
    "start_time": "2021-10-04T19:15:01.055Z"
   },
   {
    "duration": 55,
    "start_time": "2021-10-04T19:15:01.060Z"
   },
   {
    "duration": 55,
    "start_time": "2021-10-04T19:15:01.061Z"
   },
   {
    "duration": 56,
    "start_time": "2021-10-04T19:15:01.062Z"
   },
   {
    "duration": 56,
    "start_time": "2021-10-04T19:15:01.063Z"
   },
   {
    "duration": 56,
    "start_time": "2021-10-04T19:15:01.064Z"
   },
   {
    "duration": 56,
    "start_time": "2021-10-04T19:15:01.066Z"
   },
   {
    "duration": 56,
    "start_time": "2021-10-04T19:15:01.067Z"
   },
   {
    "duration": 57,
    "start_time": "2021-10-04T19:15:01.068Z"
   },
   {
    "duration": 57,
    "start_time": "2021-10-04T19:15:01.069Z"
   },
   {
    "duration": 57,
    "start_time": "2021-10-04T19:15:01.070Z"
   },
   {
    "duration": 58,
    "start_time": "2021-10-04T19:15:01.071Z"
   },
   {
    "duration": 59,
    "start_time": "2021-10-04T19:15:01.072Z"
   },
   {
    "duration": 60,
    "start_time": "2021-10-04T19:15:01.073Z"
   },
   {
    "duration": 60,
    "start_time": "2021-10-04T19:15:01.074Z"
   },
   {
    "duration": 6,
    "start_time": "2021-10-04T19:16:34.872Z"
   },
   {
    "duration": 2060,
    "start_time": "2021-10-04T19:17:13.545Z"
   },
   {
    "duration": 42,
    "start_time": "2021-10-04T19:17:15.608Z"
   },
   {
    "duration": 248,
    "start_time": "2021-10-04T19:17:15.653Z"
   },
   {
    "duration": 27,
    "start_time": "2021-10-04T19:17:15.904Z"
   },
   {
    "duration": 217,
    "start_time": "2021-10-04T19:17:15.933Z"
   },
   {
    "duration": 22,
    "start_time": "2021-10-04T19:17:16.152Z"
   },
   {
    "duration": 40,
    "start_time": "2021-10-04T19:17:16.177Z"
   },
   {
    "duration": 154,
    "start_time": "2021-10-04T19:17:16.219Z"
   },
   {
    "duration": 9,
    "start_time": "2021-10-04T19:17:16.377Z"
   },
   {
    "duration": 31,
    "start_time": "2021-10-04T19:17:16.389Z"
   },
   {
    "duration": 20,
    "start_time": "2021-10-04T19:17:16.423Z"
   },
   {
    "duration": 12,
    "start_time": "2021-10-04T19:17:16.447Z"
   },
   {
    "duration": 463,
    "start_time": "2021-10-04T19:17:16.461Z"
   },
   {
    "duration": 27,
    "start_time": "2021-10-04T19:17:16.926Z"
   },
   {
    "duration": 258,
    "start_time": "2021-10-04T19:17:16.955Z"
   },
   {
    "duration": 28,
    "start_time": "2021-10-04T19:17:17.216Z"
   },
   {
    "duration": 237,
    "start_time": "2021-10-04T19:17:17.246Z"
   },
   {
    "duration": 69,
    "start_time": "2021-10-04T19:17:17.485Z"
   },
   {
    "duration": 21,
    "start_time": "2021-10-04T19:17:17.556Z"
   },
   {
    "duration": 148,
    "start_time": "2021-10-04T19:17:17.580Z"
   },
   {
    "duration": 65,
    "start_time": "2021-10-04T19:17:17.730Z"
   },
   {
    "duration": 61,
    "start_time": "2021-10-04T19:17:17.817Z"
   },
   {
    "duration": 40,
    "start_time": "2021-10-04T19:17:17.882Z"
   },
   {
    "duration": 35,
    "start_time": "2021-10-04T19:17:17.925Z"
   },
   {
    "duration": 21,
    "start_time": "2021-10-04T19:17:17.963Z"
   },
   {
    "duration": 31,
    "start_time": "2021-10-04T19:17:17.987Z"
   },
   {
    "duration": 20,
    "start_time": "2021-10-04T19:17:18.025Z"
   },
   {
    "duration": 379,
    "start_time": "2021-10-04T19:17:18.048Z"
   },
   {
    "duration": 22,
    "start_time": "2021-10-04T19:17:18.430Z"
   },
   {
    "duration": 26,
    "start_time": "2021-10-04T19:17:18.454Z"
   },
   {
    "duration": 87,
    "start_time": "2021-10-04T19:17:18.483Z"
   },
   {
    "duration": 81,
    "start_time": "2021-10-04T19:17:18.573Z"
   },
   {
    "duration": 38,
    "start_time": "2021-10-04T19:17:18.657Z"
   },
   {
    "duration": 37,
    "start_time": "2021-10-04T19:17:18.717Z"
   },
   {
    "duration": 68,
    "start_time": "2021-10-04T19:17:18.756Z"
   },
   {
    "duration": 36,
    "start_time": "2021-10-04T19:17:18.826Z"
   },
   {
    "duration": 26,
    "start_time": "2021-10-04T19:17:18.864Z"
   },
   {
    "duration": 31,
    "start_time": "2021-10-04T19:17:18.916Z"
   },
   {
    "duration": 23,
    "start_time": "2021-10-04T19:17:18.950Z"
   },
   {
    "duration": 51,
    "start_time": "2021-10-04T19:17:18.977Z"
   },
   {
    "duration": 6,
    "start_time": "2021-10-04T19:17:19.031Z"
   },
   {
    "duration": 51,
    "start_time": "2021-10-04T19:17:19.039Z"
   },
   {
    "duration": 15,
    "start_time": "2021-10-04T19:17:19.116Z"
   },
   {
    "duration": 6,
    "start_time": "2021-10-04T19:17:19.133Z"
   },
   {
    "duration": 993,
    "start_time": "2021-10-04T19:17:19.141Z"
   },
   {
    "duration": -33,
    "start_time": "2021-10-04T19:17:20.170Z"
   },
   {
    "duration": -34,
    "start_time": "2021-10-04T19:17:20.172Z"
   },
   {
    "duration": -34,
    "start_time": "2021-10-04T19:17:20.174Z"
   },
   {
    "duration": -35,
    "start_time": "2021-10-04T19:17:20.176Z"
   },
   {
    "duration": -34,
    "start_time": "2021-10-04T19:17:20.177Z"
   },
   {
    "duration": -35,
    "start_time": "2021-10-04T19:17:20.179Z"
   },
   {
    "duration": -34,
    "start_time": "2021-10-04T19:17:20.180Z"
   },
   {
    "duration": -35,
    "start_time": "2021-10-04T19:17:20.182Z"
   },
   {
    "duration": -35,
    "start_time": "2021-10-04T19:17:20.184Z"
   },
   {
    "duration": -35,
    "start_time": "2021-10-04T19:17:20.185Z"
   },
   {
    "duration": -35,
    "start_time": "2021-10-04T19:17:20.187Z"
   },
   {
    "duration": -35,
    "start_time": "2021-10-04T19:17:20.188Z"
   },
   {
    "duration": -35,
    "start_time": "2021-10-04T19:17:20.189Z"
   },
   {
    "duration": -35,
    "start_time": "2021-10-04T19:17:20.191Z"
   },
   {
    "duration": -35,
    "start_time": "2021-10-04T19:17:20.192Z"
   },
   {
    "duration": -34,
    "start_time": "2021-10-04T19:17:20.193Z"
   },
   {
    "duration": -34,
    "start_time": "2021-10-04T19:17:20.195Z"
   },
   {
    "duration": -34,
    "start_time": "2021-10-04T19:17:20.196Z"
   },
   {
    "duration": -33,
    "start_time": "2021-10-04T19:17:20.197Z"
   },
   {
    "duration": -33,
    "start_time": "2021-10-04T19:17:20.198Z"
   },
   {
    "duration": -32,
    "start_time": "2021-10-04T19:17:20.199Z"
   },
   {
    "duration": -33,
    "start_time": "2021-10-04T19:17:20.201Z"
   },
   {
    "duration": -32,
    "start_time": "2021-10-04T19:17:20.202Z"
   },
   {
    "duration": 12,
    "start_time": "2021-10-04T19:17:20.204Z"
   },
   {
    "duration": 13,
    "start_time": "2021-10-04T19:17:20.205Z"
   },
   {
    "duration": 13,
    "start_time": "2021-10-04T19:17:20.206Z"
   },
   {
    "duration": 14,
    "start_time": "2021-10-04T19:17:20.207Z"
   },
   {
    "duration": 2396,
    "start_time": "2021-10-04T19:18:22.046Z"
   },
   {
    "duration": 46,
    "start_time": "2021-10-04T19:18:24.445Z"
   },
   {
    "duration": 351,
    "start_time": "2021-10-04T19:18:24.495Z"
   },
   {
    "duration": 25,
    "start_time": "2021-10-04T19:18:24.850Z"
   },
   {
    "duration": 220,
    "start_time": "2021-10-04T19:18:24.878Z"
   },
   {
    "duration": 40,
    "start_time": "2021-10-04T19:18:25.101Z"
   },
   {
    "duration": 25,
    "start_time": "2021-10-04T19:18:25.143Z"
   },
   {
    "duration": 172,
    "start_time": "2021-10-04T19:18:25.170Z"
   },
   {
    "duration": 10,
    "start_time": "2021-10-04T19:18:25.346Z"
   },
   {
    "duration": 11,
    "start_time": "2021-10-04T19:18:25.359Z"
   },
   {
    "duration": 51,
    "start_time": "2021-10-04T19:18:25.372Z"
   },
   {
    "duration": 11,
    "start_time": "2021-10-04T19:18:25.425Z"
   },
   {
    "duration": 471,
    "start_time": "2021-10-04T19:18:25.438Z"
   },
   {
    "duration": 26,
    "start_time": "2021-10-04T19:18:25.916Z"
   },
   {
    "duration": 255,
    "start_time": "2021-10-04T19:18:25.944Z"
   },
   {
    "duration": 40,
    "start_time": "2021-10-04T19:18:26.201Z"
   },
   {
    "duration": 223,
    "start_time": "2021-10-04T19:18:26.244Z"
   },
   {
    "duration": 74,
    "start_time": "2021-10-04T19:18:26.469Z"
   },
   {
    "duration": 21,
    "start_time": "2021-10-04T19:18:26.546Z"
   },
   {
    "duration": 149,
    "start_time": "2021-10-04T19:18:26.570Z"
   },
   {
    "duration": 65,
    "start_time": "2021-10-04T19:18:26.721Z"
   },
   {
    "duration": 93,
    "start_time": "2021-10-04T19:18:26.789Z"
   },
   {
    "duration": 33,
    "start_time": "2021-10-04T19:18:26.885Z"
   },
   {
    "duration": 27,
    "start_time": "2021-10-04T19:18:26.921Z"
   },
   {
    "duration": 21,
    "start_time": "2021-10-04T19:18:26.952Z"
   },
   {
    "duration": 44,
    "start_time": "2021-10-04T19:18:26.977Z"
   },
   {
    "duration": 20,
    "start_time": "2021-10-04T19:18:27.028Z"
   },
   {
    "duration": 393,
    "start_time": "2021-10-04T19:18:27.052Z"
   },
   {
    "duration": 23,
    "start_time": "2021-10-04T19:18:27.447Z"
   },
   {
    "duration": 58,
    "start_time": "2021-10-04T19:18:27.472Z"
   },
   {
    "duration": 58,
    "start_time": "2021-10-04T19:18:27.533Z"
   },
   {
    "duration": 73,
    "start_time": "2021-10-04T19:18:27.595Z"
   },
   {
    "duration": 65,
    "start_time": "2021-10-04T19:18:27.671Z"
   },
   {
    "duration": 38,
    "start_time": "2021-10-04T19:18:27.739Z"
   },
   {
    "duration": 68,
    "start_time": "2021-10-04T19:18:27.780Z"
   },
   {
    "duration": 39,
    "start_time": "2021-10-04T19:18:27.851Z"
   },
   {
    "duration": 48,
    "start_time": "2021-10-04T19:18:27.892Z"
   },
   {
    "duration": 28,
    "start_time": "2021-10-04T19:18:27.942Z"
   },
   {
    "duration": 45,
    "start_time": "2021-10-04T19:18:27.973Z"
   },
   {
    "duration": 16,
    "start_time": "2021-10-04T19:18:28.020Z"
   },
   {
    "duration": 7,
    "start_time": "2021-10-04T19:18:28.038Z"
   },
   {
    "duration": 80,
    "start_time": "2021-10-04T19:18:28.048Z"
   },
   {
    "duration": 16,
    "start_time": "2021-10-04T19:18:28.132Z"
   },
   {
    "duration": 7,
    "start_time": "2021-10-04T19:18:28.150Z"
   },
   {
    "duration": 1009,
    "start_time": "2021-10-04T19:18:28.161Z"
   },
   {
    "duration": -5,
    "start_time": "2021-10-04T19:18:29.178Z"
   },
   {
    "duration": -6,
    "start_time": "2021-10-04T19:18:29.181Z"
   },
   {
    "duration": -6,
    "start_time": "2021-10-04T19:18:29.183Z"
   },
   {
    "duration": -7,
    "start_time": "2021-10-04T19:18:29.185Z"
   },
   {
    "duration": -6,
    "start_time": "2021-10-04T19:18:29.186Z"
   },
   {
    "duration": -7,
    "start_time": "2021-10-04T19:18:29.188Z"
   },
   {
    "duration": -7,
    "start_time": "2021-10-04T19:18:29.189Z"
   },
   {
    "duration": -7,
    "start_time": "2021-10-04T19:18:29.191Z"
   },
   {
    "duration": -7,
    "start_time": "2021-10-04T19:18:29.192Z"
   },
   {
    "duration": -8,
    "start_time": "2021-10-04T19:18:29.194Z"
   },
   {
    "duration": -8,
    "start_time": "2021-10-04T19:18:29.196Z"
   },
   {
    "duration": -8,
    "start_time": "2021-10-04T19:18:29.197Z"
   },
   {
    "duration": -8,
    "start_time": "2021-10-04T19:18:29.198Z"
   },
   {
    "duration": -8,
    "start_time": "2021-10-04T19:18:29.200Z"
   },
   {
    "duration": -8,
    "start_time": "2021-10-04T19:18:29.201Z"
   },
   {
    "duration": -8,
    "start_time": "2021-10-04T19:18:29.202Z"
   },
   {
    "duration": -8,
    "start_time": "2021-10-04T19:18:29.204Z"
   },
   {
    "duration": -7,
    "start_time": "2021-10-04T19:18:29.205Z"
   },
   {
    "duration": -12,
    "start_time": "2021-10-04T19:18:29.211Z"
   },
   {
    "duration": -12,
    "start_time": "2021-10-04T19:18:29.213Z"
   },
   {
    "duration": -13,
    "start_time": "2021-10-04T19:18:29.215Z"
   },
   {
    "duration": -12,
    "start_time": "2021-10-04T19:18:29.216Z"
   },
   {
    "duration": -11,
    "start_time": "2021-10-04T19:18:29.217Z"
   },
   {
    "duration": -2,
    "start_time": "2021-10-04T19:18:29.218Z"
   },
   {
    "duration": -3,
    "start_time": "2021-10-04T19:18:29.220Z"
   },
   {
    "duration": -2,
    "start_time": "2021-10-04T19:18:29.221Z"
   },
   {
    "duration": -2,
    "start_time": "2021-10-04T19:18:29.222Z"
   },
   {
    "duration": 2093,
    "start_time": "2021-10-04T19:21:53.657Z"
   },
   {
    "duration": 45,
    "start_time": "2021-10-04T19:21:55.753Z"
   },
   {
    "duration": 230,
    "start_time": "2021-10-04T19:21:55.801Z"
   },
   {
    "duration": 22,
    "start_time": "2021-10-04T19:21:56.034Z"
   },
   {
    "duration": 207,
    "start_time": "2021-10-04T19:21:56.059Z"
   },
   {
    "duration": 22,
    "start_time": "2021-10-04T19:21:56.269Z"
   },
   {
    "duration": 41,
    "start_time": "2021-10-04T19:21:56.293Z"
   },
   {
    "duration": 143,
    "start_time": "2021-10-04T19:21:56.336Z"
   },
   {
    "duration": 9,
    "start_time": "2021-10-04T19:21:56.483Z"
   },
   {
    "duration": 12,
    "start_time": "2021-10-04T19:21:56.515Z"
   },
   {
    "duration": 15,
    "start_time": "2021-10-04T19:21:56.529Z"
   },
   {
    "duration": 10,
    "start_time": "2021-10-04T19:21:56.546Z"
   },
   {
    "duration": 491,
    "start_time": "2021-10-04T19:21:56.558Z"
   },
   {
    "duration": 27,
    "start_time": "2021-10-04T19:21:57.052Z"
   },
   {
    "duration": 250,
    "start_time": "2021-10-04T19:21:57.081Z"
   },
   {
    "duration": 84,
    "start_time": "2021-10-04T19:21:57.334Z"
   },
   {
    "duration": 264,
    "start_time": "2021-10-04T19:21:57.421Z"
   },
   {
    "duration": 57,
    "start_time": "2021-10-04T19:21:57.687Z"
   },
   {
    "duration": 19,
    "start_time": "2021-10-04T19:21:57.747Z"
   },
   {
    "duration": 129,
    "start_time": "2021-10-04T19:21:57.768Z"
   },
   {
    "duration": 68,
    "start_time": "2021-10-04T19:21:57.899Z"
   },
   {
    "duration": 62,
    "start_time": "2021-10-04T19:21:57.969Z"
   },
   {
    "duration": 11,
    "start_time": "2021-10-04T19:21:58.033Z"
   },
   {
    "duration": 26,
    "start_time": "2021-10-04T19:21:58.046Z"
   },
   {
    "duration": 21,
    "start_time": "2021-10-04T19:21:58.075Z"
   },
   {
    "duration": 18,
    "start_time": "2021-10-04T19:21:58.098Z"
   },
   {
    "duration": 23,
    "start_time": "2021-10-04T19:21:58.122Z"
   },
   {
    "duration": 381,
    "start_time": "2021-10-04T19:21:58.148Z"
   },
   {
    "duration": 22,
    "start_time": "2021-10-04T19:21:58.531Z"
   },
   {
    "duration": 24,
    "start_time": "2021-10-04T19:21:58.555Z"
   },
   {
    "duration": 71,
    "start_time": "2021-10-04T19:21:58.582Z"
   },
   {
    "duration": 54,
    "start_time": "2021-10-04T19:21:58.655Z"
   },
   {
    "duration": 38,
    "start_time": "2021-10-04T19:21:58.711Z"
   },
   {
    "duration": 36,
    "start_time": "2021-10-04T19:21:58.751Z"
   },
   {
    "duration": 52,
    "start_time": "2021-10-04T19:21:58.790Z"
   },
   {
    "duration": 35,
    "start_time": "2021-10-04T19:21:58.844Z"
   },
   {
    "duration": 36,
    "start_time": "2021-10-04T19:21:58.881Z"
   },
   {
    "duration": 30,
    "start_time": "2021-10-04T19:21:58.919Z"
   },
   {
    "duration": 20,
    "start_time": "2021-10-04T19:21:58.951Z"
   },
   {
    "duration": 43,
    "start_time": "2021-10-04T19:21:58.974Z"
   },
   {
    "duration": 7,
    "start_time": "2021-10-04T19:21:59.019Z"
   },
   {
    "duration": 102,
    "start_time": "2021-10-04T19:21:59.028Z"
   },
   {
    "duration": 605,
    "start_time": "2021-10-04T19:21:59.132Z"
   },
   {
    "duration": -52,
    "start_time": "2021-10-04T19:21:59.792Z"
   },
   {
    "duration": -52,
    "start_time": "2021-10-04T19:21:59.793Z"
   },
   {
    "duration": -51,
    "start_time": "2021-10-04T19:21:59.794Z"
   },
   {
    "duration": -51,
    "start_time": "2021-10-04T19:21:59.795Z"
   },
   {
    "duration": -50,
    "start_time": "2021-10-04T19:21:59.796Z"
   },
   {
    "duration": -50,
    "start_time": "2021-10-04T19:21:59.797Z"
   },
   {
    "duration": -49,
    "start_time": "2021-10-04T19:21:59.798Z"
   },
   {
    "duration": -49,
    "start_time": "2021-10-04T19:21:59.799Z"
   },
   {
    "duration": -48,
    "start_time": "2021-10-04T19:21:59.800Z"
   },
   {
    "duration": -51,
    "start_time": "2021-10-04T19:21:59.804Z"
   },
   {
    "duration": -50,
    "start_time": "2021-10-04T19:21:59.805Z"
   },
   {
    "duration": -49,
    "start_time": "2021-10-04T19:21:59.806Z"
   },
   {
    "duration": -50,
    "start_time": "2021-10-04T19:21:59.808Z"
   },
   {
    "duration": -51,
    "start_time": "2021-10-04T19:21:59.810Z"
   },
   {
    "duration": -50,
    "start_time": "2021-10-04T19:21:59.811Z"
   },
   {
    "duration": -51,
    "start_time": "2021-10-04T19:21:59.813Z"
   },
   {
    "duration": -50,
    "start_time": "2021-10-04T19:21:59.814Z"
   },
   {
    "duration": -50,
    "start_time": "2021-10-04T19:21:59.815Z"
   },
   {
    "duration": -50,
    "start_time": "2021-10-04T19:21:59.817Z"
   },
   {
    "duration": -17,
    "start_time": "2021-10-04T19:21:59.833Z"
   },
   {
    "duration": -18,
    "start_time": "2021-10-04T19:21:59.835Z"
   },
   {
    "duration": -17,
    "start_time": "2021-10-04T19:21:59.836Z"
   },
   {
    "duration": -17,
    "start_time": "2021-10-04T19:21:59.837Z"
   },
   {
    "duration": -17,
    "start_time": "2021-10-04T19:21:59.839Z"
   },
   {
    "duration": -23,
    "start_time": "2021-10-04T19:21:59.846Z"
   },
   {
    "duration": -23,
    "start_time": "2021-10-04T19:21:59.847Z"
   },
   {
    "duration": -22,
    "start_time": "2021-10-04T19:21:59.848Z"
   },
   {
    "duration": -24,
    "start_time": "2021-10-04T19:21:59.851Z"
   },
   {
    "duration": -26,
    "start_time": "2021-10-04T19:21:59.854Z"
   },
   {
    "duration": 405,
    "start_time": "2021-10-04T19:22:58.093Z"
   },
   {
    "duration": 10,
    "start_time": "2021-10-04T19:23:45.289Z"
   },
   {
    "duration": 2077,
    "start_time": "2021-10-04T19:23:59.476Z"
   },
   {
    "duration": 44,
    "start_time": "2021-10-04T19:24:01.556Z"
   },
   {
    "duration": 226,
    "start_time": "2021-10-04T19:24:01.603Z"
   },
   {
    "duration": 23,
    "start_time": "2021-10-04T19:24:01.832Z"
   },
   {
    "duration": 201,
    "start_time": "2021-10-04T19:24:01.858Z"
   },
   {
    "duration": 22,
    "start_time": "2021-10-04T19:24:02.061Z"
   },
   {
    "duration": 37,
    "start_time": "2021-10-04T19:24:02.086Z"
   },
   {
    "duration": 146,
    "start_time": "2021-10-04T19:24:02.125Z"
   },
   {
    "duration": 8,
    "start_time": "2021-10-04T19:24:02.276Z"
   },
   {
    "duration": 14,
    "start_time": "2021-10-04T19:24:02.287Z"
   },
   {
    "duration": 14,
    "start_time": "2021-10-04T19:24:02.317Z"
   },
   {
    "duration": 19,
    "start_time": "2021-10-04T19:24:02.334Z"
   },
   {
    "duration": 456,
    "start_time": "2021-10-04T19:24:02.355Z"
   },
   {
    "duration": 28,
    "start_time": "2021-10-04T19:24:02.813Z"
   },
   {
    "duration": 266,
    "start_time": "2021-10-04T19:24:02.843Z"
   },
   {
    "duration": 29,
    "start_time": "2021-10-04T19:24:03.111Z"
   },
   {
    "duration": 219,
    "start_time": "2021-10-04T19:24:03.142Z"
   },
   {
    "duration": 71,
    "start_time": "2021-10-04T19:24:03.364Z"
   },
   {
    "duration": 38,
    "start_time": "2021-10-04T19:24:03.437Z"
   },
   {
    "duration": 131,
    "start_time": "2021-10-04T19:24:03.478Z"
   },
   {
    "duration": 62,
    "start_time": "2021-10-04T19:24:03.612Z"
   },
   {
    "duration": 86,
    "start_time": "2021-10-04T19:24:03.677Z"
   },
   {
    "duration": 10,
    "start_time": "2021-10-04T19:24:03.765Z"
   },
   {
    "duration": 51,
    "start_time": "2021-10-04T19:24:03.778Z"
   },
   {
    "duration": 21,
    "start_time": "2021-10-04T19:24:03.831Z"
   },
   {
    "duration": 8,
    "start_time": "2021-10-04T19:24:03.854Z"
   },
   {
    "duration": 50,
    "start_time": "2021-10-04T19:24:03.869Z"
   },
   {
    "duration": 394,
    "start_time": "2021-10-04T19:24:03.922Z"
   },
   {
    "duration": 23,
    "start_time": "2021-10-04T19:24:04.318Z"
   },
   {
    "duration": 27,
    "start_time": "2021-10-04T19:24:04.343Z"
   },
   {
    "duration": 90,
    "start_time": "2021-10-04T19:24:04.372Z"
   },
   {
    "duration": 64,
    "start_time": "2021-10-04T19:24:04.465Z"
   },
   {
    "duration": 38,
    "start_time": "2021-10-04T19:24:04.531Z"
   },
   {
    "duration": 62,
    "start_time": "2021-10-04T19:24:04.571Z"
   },
   {
    "duration": 45,
    "start_time": "2021-10-04T19:24:04.636Z"
   },
   {
    "duration": 53,
    "start_time": "2021-10-04T19:24:04.683Z"
   },
   {
    "duration": 26,
    "start_time": "2021-10-04T19:24:04.739Z"
   },
   {
    "duration": 59,
    "start_time": "2021-10-04T19:24:04.767Z"
   },
   {
    "duration": 22,
    "start_time": "2021-10-04T19:24:04.828Z"
   },
   {
    "duration": 15,
    "start_time": "2021-10-04T19:24:04.853Z"
   },
   {
    "duration": 9,
    "start_time": "2021-10-04T19:24:04.871Z"
   },
   {
    "duration": 49,
    "start_time": "2021-10-04T19:24:04.917Z"
   },
   {
    "duration": 18,
    "start_time": "2021-10-04T19:24:04.968Z"
   },
   {
    "duration": 30,
    "start_time": "2021-10-04T19:24:04.989Z"
   },
   {
    "duration": 246,
    "start_time": "2021-10-04T19:24:05.021Z"
   },
   {
    "duration": 9,
    "start_time": "2021-10-04T19:24:05.269Z"
   },
   {
    "duration": 72,
    "start_time": "2021-10-04T19:24:05.280Z"
   },
   {
    "duration": 9,
    "start_time": "2021-10-04T19:24:05.354Z"
   },
   {
    "duration": 15,
    "start_time": "2021-10-04T19:24:05.365Z"
   },
   {
    "duration": 37,
    "start_time": "2021-10-04T19:24:05.382Z"
   },
   {
    "duration": 8,
    "start_time": "2021-10-04T19:24:05.421Z"
   },
   {
    "duration": 55,
    "start_time": "2021-10-04T19:24:05.431Z"
   },
   {
    "duration": 33,
    "start_time": "2021-10-04T19:24:05.488Z"
   },
   {
    "duration": 17,
    "start_time": "2021-10-04T19:24:05.523Z"
   },
   {
    "duration": 9,
    "start_time": "2021-10-04T19:24:05.542Z"
   },
   {
    "duration": 19,
    "start_time": "2021-10-04T19:24:05.554Z"
   },
   {
    "duration": 44,
    "start_time": "2021-10-04T19:24:05.576Z"
   },
   {
    "duration": 896,
    "start_time": "2021-10-04T19:24:05.623Z"
   },
   {
    "duration": 931,
    "start_time": "2021-10-04T19:24:06.522Z"
   },
   {
    "duration": 808,
    "start_time": "2021-10-04T19:24:07.456Z"
   },
   {
    "duration": 1475,
    "start_time": "2021-10-04T19:24:08.266Z"
   },
   {
    "duration": 35,
    "start_time": "2021-10-04T19:24:09.743Z"
   },
   {
    "duration": 9,
    "start_time": "2021-10-04T19:24:09.780Z"
   },
   {
    "duration": 33,
    "start_time": "2021-10-04T19:24:09.791Z"
   },
   {
    "duration": 13,
    "start_time": "2021-10-04T19:24:09.826Z"
   },
   {
    "duration": 7,
    "start_time": "2021-10-04T19:24:09.842Z"
   },
   {
    "duration": 17,
    "start_time": "2021-10-04T19:24:09.852Z"
   },
   {
    "duration": 64,
    "start_time": "2021-10-04T19:24:09.872Z"
   },
   {
    "duration": 9,
    "start_time": "2021-10-04T19:24:09.939Z"
   },
   {
    "duration": 10,
    "start_time": "2021-10-04T19:24:09.950Z"
   },
   {
    "duration": 8,
    "start_time": "2021-10-04T19:24:09.963Z"
   },
   {
    "duration": 12,
    "start_time": "2021-10-04T19:24:09.974Z"
   },
   {
    "duration": 2073,
    "start_time": "2021-10-04T19:25:25.661Z"
   },
   {
    "duration": 43,
    "start_time": "2021-10-04T19:25:27.737Z"
   },
   {
    "duration": 233,
    "start_time": "2021-10-04T19:25:27.783Z"
   },
   {
    "duration": 23,
    "start_time": "2021-10-04T19:25:28.019Z"
   },
   {
    "duration": 208,
    "start_time": "2021-10-04T19:25:28.045Z"
   },
   {
    "duration": 22,
    "start_time": "2021-10-04T19:25:28.256Z"
   },
   {
    "duration": 35,
    "start_time": "2021-10-04T19:25:28.281Z"
   },
   {
    "duration": 147,
    "start_time": "2021-10-04T19:25:28.319Z"
   },
   {
    "duration": 9,
    "start_time": "2021-10-04T19:25:28.470Z"
   },
   {
    "duration": 9,
    "start_time": "2021-10-04T19:25:28.482Z"
   },
   {
    "duration": 15,
    "start_time": "2021-10-04T19:25:28.517Z"
   },
   {
    "duration": 10,
    "start_time": "2021-10-04T19:25:28.535Z"
   },
   {
    "duration": 476,
    "start_time": "2021-10-04T19:25:28.547Z"
   },
   {
    "duration": 26,
    "start_time": "2021-10-04T19:25:29.026Z"
   },
   {
    "duration": 233,
    "start_time": "2021-10-04T19:25:29.054Z"
   },
   {
    "duration": 34,
    "start_time": "2021-10-04T19:25:29.290Z"
   },
   {
    "duration": 214,
    "start_time": "2021-10-04T19:25:29.327Z"
   },
   {
    "duration": 73,
    "start_time": "2021-10-04T19:25:29.543Z"
   },
   {
    "duration": 19,
    "start_time": "2021-10-04T19:25:29.619Z"
   },
   {
    "duration": 152,
    "start_time": "2021-10-04T19:25:29.641Z"
   },
   {
    "duration": 73,
    "start_time": "2021-10-04T19:25:29.796Z"
   },
   {
    "duration": 74,
    "start_time": "2021-10-04T19:25:29.872Z"
   },
   {
    "duration": 9,
    "start_time": "2021-10-04T19:25:29.948Z"
   },
   {
    "duration": 26,
    "start_time": "2021-10-04T19:25:29.959Z"
   },
   {
    "duration": 45,
    "start_time": "2021-10-04T19:25:29.987Z"
   },
   {
    "duration": 13,
    "start_time": "2021-10-04T19:25:30.035Z"
   },
   {
    "duration": 40,
    "start_time": "2021-10-04T19:25:30.055Z"
   },
   {
    "duration": 365,
    "start_time": "2021-10-04T19:25:30.099Z"
   },
   {
    "duration": 23,
    "start_time": "2021-10-04T19:25:30.466Z"
   },
   {
    "duration": 48,
    "start_time": "2021-10-04T19:25:30.492Z"
   },
   {
    "duration": 76,
    "start_time": "2021-10-04T19:25:30.542Z"
   },
   {
    "duration": 61,
    "start_time": "2021-10-04T19:25:30.621Z"
   },
   {
    "duration": 59,
    "start_time": "2021-10-04T19:25:30.684Z"
   },
   {
    "duration": 44,
    "start_time": "2021-10-04T19:25:30.746Z"
   },
   {
    "duration": 66,
    "start_time": "2021-10-04T19:25:30.793Z"
   },
   {
    "duration": 57,
    "start_time": "2021-10-04T19:25:30.861Z"
   },
   {
    "duration": 28,
    "start_time": "2021-10-04T19:25:30.921Z"
   },
   {
    "duration": 30,
    "start_time": "2021-10-04T19:25:30.951Z"
   },
   {
    "duration": 52,
    "start_time": "2021-10-04T19:25:30.984Z"
   },
   {
    "duration": 16,
    "start_time": "2021-10-04T19:25:31.038Z"
   },
   {
    "duration": 9,
    "start_time": "2021-10-04T19:25:31.057Z"
   },
   {
    "duration": 94,
    "start_time": "2021-10-04T19:25:31.069Z"
   },
   {
    "duration": 15,
    "start_time": "2021-10-04T19:25:31.166Z"
   },
   {
    "duration": 6,
    "start_time": "2021-10-04T19:25:31.184Z"
   },
   {
    "duration": 261,
    "start_time": "2021-10-04T19:25:31.192Z"
   },
   {
    "duration": 10,
    "start_time": "2021-10-04T19:25:31.455Z"
   },
   {
    "duration": 76,
    "start_time": "2021-10-04T19:25:31.467Z"
   },
   {
    "duration": 8,
    "start_time": "2021-10-04T19:25:31.546Z"
   },
   {
    "duration": 20,
    "start_time": "2021-10-04T19:25:31.556Z"
   },
   {
    "duration": 38,
    "start_time": "2021-10-04T19:25:31.578Z"
   },
   {
    "duration": 9,
    "start_time": "2021-10-04T19:25:31.618Z"
   },
   {
    "duration": 57,
    "start_time": "2021-10-04T19:25:31.629Z"
   },
   {
    "duration": 30,
    "start_time": "2021-10-04T19:25:31.688Z"
   },
   {
    "duration": 11,
    "start_time": "2021-10-04T19:25:31.721Z"
   },
   {
    "duration": 13,
    "start_time": "2021-10-04T19:25:31.734Z"
   },
   {
    "duration": 20,
    "start_time": "2021-10-04T19:25:31.749Z"
   },
   {
    "duration": 47,
    "start_time": "2021-10-04T19:25:31.771Z"
   },
   {
    "duration": 846,
    "start_time": "2021-10-04T19:25:31.821Z"
   },
   {
    "duration": 862,
    "start_time": "2021-10-04T19:25:32.670Z"
   },
   {
    "duration": 792,
    "start_time": "2021-10-04T19:25:33.535Z"
   },
   {
    "duration": 1463,
    "start_time": "2021-10-04T19:25:34.329Z"
   },
   {
    "duration": 47,
    "start_time": "2021-10-04T19:25:35.795Z"
   },
   {
    "duration": 9,
    "start_time": "2021-10-04T19:25:35.845Z"
   },
   {
    "duration": 13,
    "start_time": "2021-10-04T19:25:35.856Z"
   },
   {
    "duration": 6,
    "start_time": "2021-10-04T19:25:35.871Z"
   },
   {
    "duration": 40,
    "start_time": "2021-10-04T19:25:35.879Z"
   },
   {
    "duration": 6,
    "start_time": "2021-10-04T19:25:35.921Z"
   },
   {
    "duration": 37,
    "start_time": "2021-10-04T19:25:35.930Z"
   },
   {
    "duration": 9,
    "start_time": "2021-10-04T19:25:35.970Z"
   },
   {
    "duration": 10,
    "start_time": "2021-10-04T19:25:36.016Z"
   },
   {
    "duration": 5,
    "start_time": "2021-10-04T19:25:36.028Z"
   },
   {
    "duration": 9,
    "start_time": "2021-10-04T19:25:36.035Z"
   },
   {
    "duration": 1422,
    "start_time": "2021-10-04T19:32:19.914Z"
   },
   {
    "duration": 1975,
    "start_time": "2021-10-05T15:22:16.249Z"
   },
   {
    "duration": 41,
    "start_time": "2021-10-05T15:22:18.227Z"
   },
   {
    "duration": 327,
    "start_time": "2021-10-05T15:22:18.271Z"
   },
   {
    "duration": 29,
    "start_time": "2021-10-05T15:22:18.601Z"
   },
   {
    "duration": 182,
    "start_time": "2021-10-05T15:22:18.632Z"
   },
   {
    "duration": 22,
    "start_time": "2021-10-05T15:22:18.817Z"
   },
   {
    "duration": 18,
    "start_time": "2021-10-05T15:22:18.841Z"
   },
   {
    "duration": 125,
    "start_time": "2021-10-05T15:22:18.883Z"
   },
   {
    "duration": 12,
    "start_time": "2021-10-05T15:22:19.012Z"
   },
   {
    "duration": 10,
    "start_time": "2021-10-05T15:22:19.027Z"
   },
   {
    "duration": 45,
    "start_time": "2021-10-05T15:22:19.039Z"
   },
   {
    "duration": 11,
    "start_time": "2021-10-05T15:22:19.087Z"
   },
   {
    "duration": 413,
    "start_time": "2021-10-05T15:22:19.100Z"
   },
   {
    "duration": 26,
    "start_time": "2021-10-05T15:22:19.516Z"
   },
   {
    "duration": 225,
    "start_time": "2021-10-05T15:22:19.544Z"
   },
   {
    "duration": 32,
    "start_time": "2021-10-05T15:22:19.771Z"
   },
   {
    "duration": 212,
    "start_time": "2021-10-05T15:22:19.806Z"
   },
   {
    "duration": 67,
    "start_time": "2021-10-05T15:22:20.021Z"
   },
   {
    "duration": 21,
    "start_time": "2021-10-05T15:22:20.091Z"
   },
   {
    "duration": 151,
    "start_time": "2021-10-05T15:22:20.115Z"
   },
   {
    "duration": 65,
    "start_time": "2021-10-05T15:22:20.269Z"
   },
   {
    "duration": 77,
    "start_time": "2021-10-05T15:22:20.336Z"
   },
   {
    "duration": 10,
    "start_time": "2021-10-05T15:22:20.415Z"
   },
   {
    "duration": 26,
    "start_time": "2021-10-05T15:22:20.428Z"
   },
   {
    "duration": 41,
    "start_time": "2021-10-05T15:22:20.456Z"
   },
   {
    "duration": 7,
    "start_time": "2021-10-05T15:22:20.499Z"
   },
   {
    "duration": 21,
    "start_time": "2021-10-05T15:22:20.512Z"
   },
   {
    "duration": 388,
    "start_time": "2021-10-05T15:22:20.536Z"
   },
   {
    "duration": 22,
    "start_time": "2021-10-05T15:22:20.926Z"
   },
   {
    "duration": 46,
    "start_time": "2021-10-05T15:22:20.950Z"
   },
   {
    "duration": 58,
    "start_time": "2021-10-05T15:22:20.999Z"
   },
   {
    "duration": 73,
    "start_time": "2021-10-05T15:22:21.059Z"
   },
   {
    "duration": 54,
    "start_time": "2021-10-05T15:22:21.134Z"
   },
   {
    "duration": 35,
    "start_time": "2021-10-05T15:22:21.190Z"
   },
   {
    "duration": 64,
    "start_time": "2021-10-05T15:22:21.227Z"
   },
   {
    "duration": 34,
    "start_time": "2021-10-05T15:22:21.293Z"
   },
   {
    "duration": 52,
    "start_time": "2021-10-05T15:22:21.330Z"
   },
   {
    "duration": 29,
    "start_time": "2021-10-05T15:22:21.385Z"
   },
   {
    "duration": 21,
    "start_time": "2021-10-05T15:22:21.416Z"
   },
   {
    "duration": 46,
    "start_time": "2021-10-05T15:22:21.440Z"
   },
   {
    "duration": 7,
    "start_time": "2021-10-05T15:22:21.489Z"
   },
   {
    "duration": 58,
    "start_time": "2021-10-05T15:22:21.499Z"
   },
   {
    "duration": 28,
    "start_time": "2021-10-05T15:22:21.559Z"
   },
   {
    "duration": 6,
    "start_time": "2021-10-05T15:22:21.589Z"
   },
   {
    "duration": 249,
    "start_time": "2021-10-05T15:22:21.598Z"
   },
   {
    "duration": 10,
    "start_time": "2021-10-05T15:22:21.849Z"
   },
   {
    "duration": 64,
    "start_time": "2021-10-05T15:22:21.861Z"
   },
   {
    "duration": 9,
    "start_time": "2021-10-05T15:22:21.927Z"
   },
   {
    "duration": 19,
    "start_time": "2021-10-05T15:22:21.938Z"
   },
   {
    "duration": 30,
    "start_time": "2021-10-05T15:22:21.959Z"
   },
   {
    "duration": 22,
    "start_time": "2021-10-05T15:22:21.992Z"
   },
   {
    "duration": 67,
    "start_time": "2021-10-05T15:22:22.017Z"
   },
   {
    "duration": 9,
    "start_time": "2021-10-05T15:22:22.086Z"
   },
   {
    "duration": 16,
    "start_time": "2021-10-05T15:22:22.097Z"
   },
   {
    "duration": 10,
    "start_time": "2021-10-05T15:22:22.116Z"
   },
   {
    "duration": 56,
    "start_time": "2021-10-05T15:22:22.128Z"
   },
   {
    "duration": 7,
    "start_time": "2021-10-05T15:22:22.188Z"
   },
   {
    "duration": 870,
    "start_time": "2021-10-05T15:22:22.198Z"
   },
   {
    "duration": 859,
    "start_time": "2021-10-05T15:22:23.071Z"
   },
   {
    "duration": 757,
    "start_time": "2021-10-05T15:22:23.933Z"
   },
   {
    "duration": 1424,
    "start_time": "2021-10-05T15:22:24.693Z"
   },
   {
    "duration": 4,
    "start_time": "2021-10-05T15:22:26.119Z"
   },
   {
    "duration": 12,
    "start_time": "2021-10-05T15:22:26.125Z"
   },
   {
    "duration": 7,
    "start_time": "2021-10-05T15:22:26.140Z"
   },
   {
    "duration": 63,
    "start_time": "2021-10-05T15:22:26.149Z"
   },
   {
    "duration": 9,
    "start_time": "2021-10-05T15:22:26.214Z"
   },
   {
    "duration": 11,
    "start_time": "2021-10-05T15:22:26.225Z"
   },
   {
    "duration": 7,
    "start_time": "2021-10-05T15:22:26.238Z"
   },
   {
    "duration": 36,
    "start_time": "2021-10-05T15:22:26.248Z"
   },
   {
    "duration": 12,
    "start_time": "2021-10-05T15:24:35.003Z"
   },
   {
    "duration": 4,
    "start_time": "2021-10-05T15:24:39.084Z"
   },
   {
    "duration": 7,
    "start_time": "2021-10-05T15:24:42.263Z"
   },
   {
    "duration": 13,
    "start_time": "2021-10-05T15:26:41.971Z"
   },
   {
    "duration": 1990,
    "start_time": "2021-10-05T15:27:12.006Z"
   },
   {
    "duration": 42,
    "start_time": "2021-10-05T15:27:13.999Z"
   },
   {
    "duration": 245,
    "start_time": "2021-10-05T15:27:14.044Z"
   },
   {
    "duration": 21,
    "start_time": "2021-10-05T15:27:14.292Z"
   },
   {
    "duration": 294,
    "start_time": "2021-10-05T15:27:14.316Z"
   },
   {
    "duration": 42,
    "start_time": "2021-10-05T15:27:14.614Z"
   },
   {
    "duration": 60,
    "start_time": "2021-10-05T15:27:14.659Z"
   },
   {
    "duration": 168,
    "start_time": "2021-10-05T15:27:14.732Z"
   },
   {
    "duration": 9,
    "start_time": "2021-10-05T15:27:14.903Z"
   },
   {
    "duration": 15,
    "start_time": "2021-10-05T15:27:14.917Z"
   },
   {
    "duration": 20,
    "start_time": "2021-10-05T15:27:14.935Z"
   },
   {
    "duration": 12,
    "start_time": "2021-10-05T15:27:14.983Z"
   },
   {
    "duration": 468,
    "start_time": "2021-10-05T15:27:14.998Z"
   },
   {
    "duration": 35,
    "start_time": "2021-10-05T15:27:15.469Z"
   },
   {
    "duration": 218,
    "start_time": "2021-10-05T15:27:15.506Z"
   },
   {
    "duration": 25,
    "start_time": "2021-10-05T15:27:15.727Z"
   },
   {
    "duration": 206,
    "start_time": "2021-10-05T15:27:15.754Z"
   },
   {
    "duration": 55,
    "start_time": "2021-10-05T15:27:15.962Z"
   },
   {
    "duration": 30,
    "start_time": "2021-10-05T15:27:16.020Z"
   },
   {
    "duration": 135,
    "start_time": "2021-10-05T15:27:16.053Z"
   },
   {
    "duration": 60,
    "start_time": "2021-10-05T15:27:16.191Z"
   },
   {
    "duration": 73,
    "start_time": "2021-10-05T15:27:16.254Z"
   },
   {
    "duration": 9,
    "start_time": "2021-10-05T15:27:16.329Z"
   },
   {
    "duration": 53,
    "start_time": "2021-10-05T15:27:16.341Z"
   },
   {
    "duration": 22,
    "start_time": "2021-10-05T15:27:16.397Z"
   },
   {
    "duration": 8,
    "start_time": "2021-10-05T15:27:16.421Z"
   },
   {
    "duration": 49,
    "start_time": "2021-10-05T15:27:16.434Z"
   },
   {
    "duration": 346,
    "start_time": "2021-10-05T15:27:16.487Z"
   },
   {
    "duration": 22,
    "start_time": "2021-10-05T15:27:16.836Z"
   },
   {
    "duration": 44,
    "start_time": "2021-10-05T15:27:16.860Z"
   },
   {
    "duration": 77,
    "start_time": "2021-10-05T15:27:16.906Z"
   },
   {
    "duration": 51,
    "start_time": "2021-10-05T15:27:16.985Z"
   },
   {
    "duration": 56,
    "start_time": "2021-10-05T15:27:17.039Z"
   },
   {
    "duration": 35,
    "start_time": "2021-10-05T15:27:17.097Z"
   },
   {
    "duration": 61,
    "start_time": "2021-10-05T15:27:17.134Z"
   },
   {
    "duration": 35,
    "start_time": "2021-10-05T15:27:17.197Z"
   },
   {
    "duration": 50,
    "start_time": "2021-10-05T15:27:17.234Z"
   },
   {
    "duration": 28,
    "start_time": "2021-10-05T15:27:17.286Z"
   },
   {
    "duration": 21,
    "start_time": "2021-10-05T15:27:17.316Z"
   },
   {
    "duration": 49,
    "start_time": "2021-10-05T15:27:17.339Z"
   },
   {
    "duration": 8,
    "start_time": "2021-10-05T15:27:17.390Z"
   },
   {
    "duration": 48,
    "start_time": "2021-10-05T15:27:17.400Z"
   },
   {
    "duration": 37,
    "start_time": "2021-10-05T15:27:17.450Z"
   },
   {
    "duration": 5,
    "start_time": "2021-10-05T15:27:17.489Z"
   },
   {
    "duration": 246,
    "start_time": "2021-10-05T15:27:17.496Z"
   },
   {
    "duration": 10,
    "start_time": "2021-10-05T15:27:17.744Z"
   },
   {
    "duration": 69,
    "start_time": "2021-10-05T15:27:17.756Z"
   },
   {
    "duration": 10,
    "start_time": "2021-10-05T15:27:17.827Z"
   },
   {
    "duration": 13,
    "start_time": "2021-10-05T15:27:17.839Z"
   },
   {
    "duration": 34,
    "start_time": "2021-10-05T15:27:17.855Z"
   },
   {
    "duration": 10,
    "start_time": "2021-10-05T15:27:17.892Z"
   },
   {
    "duration": 87,
    "start_time": "2021-10-05T15:27:17.904Z"
   },
   {
    "duration": 10,
    "start_time": "2021-10-05T15:27:17.994Z"
   },
   {
    "duration": 15,
    "start_time": "2021-10-05T15:27:18.007Z"
   },
   {
    "duration": 58,
    "start_time": "2021-10-05T15:27:18.025Z"
   },
   {
    "duration": 21,
    "start_time": "2021-10-05T15:27:18.086Z"
   },
   {
    "duration": 10,
    "start_time": "2021-10-05T15:27:18.110Z"
   },
   {
    "duration": 835,
    "start_time": "2021-10-05T15:27:18.123Z"
   },
   {
    "duration": 860,
    "start_time": "2021-10-05T15:27:18.961Z"
   },
   {
    "duration": 815,
    "start_time": "2021-10-05T15:27:19.824Z"
   },
   {
    "duration": 1507,
    "start_time": "2021-10-05T15:27:20.641Z"
   },
   {
    "duration": 4,
    "start_time": "2021-10-05T15:27:22.150Z"
   },
   {
    "duration": 11,
    "start_time": "2021-10-05T15:27:22.156Z"
   },
   {
    "duration": 7,
    "start_time": "2021-10-05T15:27:22.183Z"
   },
   {
    "duration": 17,
    "start_time": "2021-10-05T15:27:22.192Z"
   },
   {
    "duration": 16,
    "start_time": "2021-10-05T15:27:22.211Z"
   },
   {
    "duration": 19,
    "start_time": "2021-10-05T15:27:22.229Z"
   },
   {
    "duration": 8,
    "start_time": "2021-10-05T15:32:20.486Z"
   },
   {
    "duration": 1939,
    "start_time": "2021-10-05T15:57:00.398Z"
   },
   {
    "duration": 41,
    "start_time": "2021-10-05T15:57:02.339Z"
   },
   {
    "duration": 222,
    "start_time": "2021-10-05T15:57:02.383Z"
   },
   {
    "duration": 21,
    "start_time": "2021-10-05T15:57:02.608Z"
   },
   {
    "duration": 214,
    "start_time": "2021-10-05T15:57:02.631Z"
   },
   {
    "duration": 21,
    "start_time": "2021-10-05T15:57:02.847Z"
   },
   {
    "duration": 18,
    "start_time": "2021-10-05T15:57:02.882Z"
   },
   {
    "duration": 145,
    "start_time": "2021-10-05T15:57:02.902Z"
   },
   {
    "duration": 8,
    "start_time": "2021-10-05T15:57:03.051Z"
   },
   {
    "duration": 23,
    "start_time": "2021-10-05T15:57:03.062Z"
   },
   {
    "duration": 24,
    "start_time": "2021-10-05T15:57:03.088Z"
   },
   {
    "duration": 19,
    "start_time": "2021-10-05T15:57:03.115Z"
   },
   {
    "duration": 495,
    "start_time": "2021-10-05T15:57:03.136Z"
   },
   {
    "duration": 28,
    "start_time": "2021-10-05T15:57:03.633Z"
   },
   {
    "duration": 224,
    "start_time": "2021-10-05T15:57:03.683Z"
   },
   {
    "duration": 28,
    "start_time": "2021-10-05T15:57:03.909Z"
   },
   {
    "duration": 205,
    "start_time": "2021-10-05T15:57:03.940Z"
   },
   {
    "duration": 62,
    "start_time": "2021-10-05T15:57:04.147Z"
   },
   {
    "duration": 27,
    "start_time": "2021-10-05T15:57:04.212Z"
   },
   {
    "duration": 139,
    "start_time": "2021-10-05T15:57:04.241Z"
   },
   {
    "duration": 62,
    "start_time": "2021-10-05T15:57:04.382Z"
   },
   {
    "duration": 74,
    "start_time": "2021-10-05T15:57:04.446Z"
   },
   {
    "duration": 14,
    "start_time": "2021-10-05T15:57:04.523Z"
   },
   {
    "duration": 52,
    "start_time": "2021-10-05T15:57:04.539Z"
   },
   {
    "duration": 20,
    "start_time": "2021-10-05T15:57:04.593Z"
   },
   {
    "duration": 17,
    "start_time": "2021-10-05T15:57:04.615Z"
   },
   {
    "duration": 26,
    "start_time": "2021-10-05T15:57:04.638Z"
   },
   {
    "duration": 356,
    "start_time": "2021-10-05T15:57:04.667Z"
   },
   {
    "duration": 22,
    "start_time": "2021-10-05T15:57:05.025Z"
   },
   {
    "duration": 45,
    "start_time": "2021-10-05T15:57:05.050Z"
   },
   {
    "duration": 56,
    "start_time": "2021-10-05T15:57:05.097Z"
   },
   {
    "duration": 71,
    "start_time": "2021-10-05T15:57:05.155Z"
   },
   {
    "duration": 36,
    "start_time": "2021-10-05T15:57:05.228Z"
   },
   {
    "duration": 36,
    "start_time": "2021-10-05T15:57:05.283Z"
   },
   {
    "duration": 62,
    "start_time": "2021-10-05T15:57:05.321Z"
   },
   {
    "duration": 35,
    "start_time": "2021-10-05T15:57:05.386Z"
   },
   {
    "duration": 26,
    "start_time": "2021-10-05T15:57:05.423Z"
   },
   {
    "duration": 58,
    "start_time": "2021-10-05T15:57:05.451Z"
   },
   {
    "duration": 20,
    "start_time": "2021-10-05T15:57:05.511Z"
   },
   {
    "duration": 15,
    "start_time": "2021-10-05T15:57:05.533Z"
   },
   {
    "duration": 7,
    "start_time": "2021-10-05T15:57:05.582Z"
   },
   {
    "duration": 59,
    "start_time": "2021-10-05T15:57:05.592Z"
   },
   {
    "duration": 29,
    "start_time": "2021-10-05T15:57:05.653Z"
   },
   {
    "duration": 5,
    "start_time": "2021-10-05T15:57:05.685Z"
   },
   {
    "duration": 235,
    "start_time": "2021-10-05T15:57:05.692Z"
   },
   {
    "duration": 8,
    "start_time": "2021-10-05T15:57:05.929Z"
   },
   {
    "duration": 67,
    "start_time": "2021-10-05T15:57:05.939Z"
   },
   {
    "duration": 10,
    "start_time": "2021-10-05T15:57:06.009Z"
   },
   {
    "duration": 41,
    "start_time": "2021-10-05T15:57:06.021Z"
   },
   {
    "duration": 9,
    "start_time": "2021-10-05T15:57:06.064Z"
   },
   {
    "duration": 8,
    "start_time": "2021-10-05T15:57:06.083Z"
   },
   {
    "duration": 52,
    "start_time": "2021-10-05T15:57:06.093Z"
   },
   {
    "duration": 36,
    "start_time": "2021-10-05T15:57:06.147Z"
   },
   {
    "duration": 11,
    "start_time": "2021-10-05T15:57:06.185Z"
   },
   {
    "duration": 13,
    "start_time": "2021-10-05T15:57:06.199Z"
   },
   {
    "duration": 19,
    "start_time": "2021-10-05T15:57:06.214Z"
   },
   {
    "duration": 48,
    "start_time": "2021-10-05T15:57:06.235Z"
   },
   {
    "duration": 924,
    "start_time": "2021-10-05T15:57:06.285Z"
   },
   {
    "duration": 878,
    "start_time": "2021-10-05T15:57:07.212Z"
   },
   {
    "duration": 827,
    "start_time": "2021-10-05T15:57:08.092Z"
   },
   {
    "duration": 1430,
    "start_time": "2021-10-05T15:57:08.921Z"
   },
   {
    "duration": 4,
    "start_time": "2021-10-05T15:57:10.354Z"
   },
   {
    "duration": 24,
    "start_time": "2021-10-05T15:57:10.360Z"
   },
   {
    "duration": 13,
    "start_time": "2021-10-05T15:57:10.387Z"
   },
   {
    "duration": 22,
    "start_time": "2021-10-05T15:57:10.402Z"
   },
   {
    "duration": 7,
    "start_time": "2021-10-05T15:57:10.427Z"
   },
   {
    "duration": 11,
    "start_time": "2021-10-05T15:57:10.437Z"
   }
  ],
  "kernelspec": {
   "display_name": "Python 3",
   "language": "python",
   "name": "python3"
  },
  "language_info": {
   "codemirror_mode": {
    "name": "ipython",
    "version": 3
   },
   "file_extension": ".py",
   "mimetype": "text/x-python",
   "name": "python",
   "nbconvert_exporter": "python",
   "pygments_lexer": "ipython3",
   "version": "3.8.8"
  },
  "toc": {
   "base_numbering": 1,
   "nav_menu": {},
   "number_sections": false,
   "sideBar": true,
   "skip_h1_title": true,
   "title_cell": "Содержание",
   "title_sidebar": "Содержание",
   "toc_cell": true,
   "toc_position": {
    "height": "calc(100% - 180px)",
    "left": "10px",
    "top": "150px",
    "width": "318.391px"
   },
   "toc_section_display": true,
   "toc_window_display": false
  }
 },
 "nbformat": 4,
 "nbformat_minor": 2
}
