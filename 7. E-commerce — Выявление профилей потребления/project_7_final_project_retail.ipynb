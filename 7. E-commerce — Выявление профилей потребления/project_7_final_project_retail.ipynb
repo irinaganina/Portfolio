{
 "cells": [
  {
   "cell_type": "markdown",
   "metadata": {
    "toc": true
   },
   "source": [
    "<h1>Содержание проекта<span class=\"tocSkip\"></span></h1>\n",
    "<div class=\"toc\"><ul class=\"toc-item\"><li><span><a href=\"#Материалы\" data-toc-modified-id=\"Материалы-1\">Материалы</a></span><ul class=\"toc-item\"><li><span><a href=\"#Задача\" data-toc-modified-id=\"Задача-1.1\">Задача</a></span></li><li><span><a href=\"#Описание-данных\" data-toc-modified-id=\"Описание-данных-1.2\">Описание данных</a></span></li></ul></li><li><span><a href=\"#Шаг-1.-Загрузка-данных\" data-toc-modified-id=\"Шаг-1.-Загрузка-данных-2\">Шаг 1. Загрузка данных</a></span><ul class=\"toc-item\"><li><span><a href=\"#Вывод\" data-toc-modified-id=\"Вывод-2.1\">Вывод</a></span></li></ul></li><li><span><a href=\"#Шаг-2.-Предобработка-данных\" data-toc-modified-id=\"Шаг-2.-Предобработка-данных-3\">Шаг 2. Предобработка данных</a></span><ul class=\"toc-item\"><li><span><a href=\"#2.1.-Замена-типа-данных\" data-toc-modified-id=\"2.1.-Замена-типа-данных-3.1\">2.1. Замена типа данных</a></span></li><li><span><a href=\"#2.2.-Удаление-неявных-дубликатов\" data-toc-modified-id=\"2.2.-Удаление-неявных-дубликатов-3.2\">2.2. Удаление неявных дубликатов</a></span></li><li><span><a href=\"#Вывод\" data-toc-modified-id=\"Вывод-3.3\">Вывод</a></span></li></ul></li><li><span><a href=\"#Шаг-3.-Исследовательский-анализ-данных\" data-toc-modified-id=\"Шаг-3.-Исследовательский-анализ-данных-4\">Шаг 3. Исследовательский анализ данных</a></span><ul class=\"toc-item\"><li><span><a href=\"#3.1.-Описательные-статистики\" data-toc-modified-id=\"3.1.-Описательные-статистики-4.1\">3.1. Описательные статистики</a></span></li><li><span><a href=\"#3.2.-Гистограммы\" data-toc-modified-id=\"3.2.-Гистограммы-4.2\">3.2. Гистограммы</a></span></li><li><span><a href=\"#3.3.-Динамика-стоимости-заказов\" data-toc-modified-id=\"3.3.-Динамика-стоимости-заказов-4.3\">3.3. Динамика стоимости заказов</a></span></li><li><span><a href=\"#3.4.-Динамика-количества-пользователей\" data-toc-modified-id=\"3.4.-Динамика-количества-пользователей-4.4\">3.4. Динамика количества пользователей</a></span></li><li><span><a href=\"#3.5.-Топ-5-покупателей-с-наибольшей-выручкой\" data-toc-modified-id=\"3.5.-Топ-5-покупателей-с-наибольшей-выручкой-4.5\">3.5. Топ-5 покупателей с наибольшей выручкой</a></span></li><li><span><a href=\"#3.6.-Топ-5-покупателей-с-наибольшим-количеством-товаров-в-заказе\" data-toc-modified-id=\"3.6.-Топ-5-покупателей-с-наибольшим-количеством-товаров-в-заказе-4.6\">3.6. Топ-5 покупателей с наибольшим количеством товаров в заказе</a></span></li><li><span><a href=\"#3.7.-Топ-5-покупателей-с-наименьшей-выручкой\" data-toc-modified-id=\"3.7.-Топ-5-покупателей-с-наименьшей-выручкой-4.7\">3.7. Топ-5 покупателей с наименьшей выручкой</a></span></li><li><span><a href=\"#3.8.-Топ-10-товаров-самых-покупаемых-товаров-по-продажам-и-количеству\" data-toc-modified-id=\"3.8.-Топ-10-товаров-самых-покупаемых-товаров-по-продажам-и-количеству-4.8\">3.8. Топ-10 товаров самых покупаемых товаров по продажам и количеству</a></span></li><li><span><a href=\"#Вывод\" data-toc-modified-id=\"Вывод-4.9\">Вывод</a></span></li></ul></li><li><span><a href=\"#Шаг-4.-Сегментация-покупателей\" data-toc-modified-id=\"Шаг-4.-Сегментация-покупателей-5\">Шаг 4. Сегментация покупателей</a></span><ul class=\"toc-item\"><li><span><a href=\"#4.1.-Дендрограмма\" data-toc-modified-id=\"4.1.-Дендрограмма-5.1\">4.1. Дендрограмма</a></span></li><li><span><a href=\"#4.2.-K-Means\" data-toc-modified-id=\"4.2.-K-Means-5.2\">4.2. K-Means</a></span></li><li><span><a href=\"#4.3.-Графики-распределения-признаков-для-кластеров\" data-toc-modified-id=\"4.3.-Графики-распределения-признаков-для-кластеров-5.3\">4.3. Графики распределения признаков для кластеров</a></span></li><li><span><a href=\"#Вывод\" data-toc-modified-id=\"Вывод-5.4\">Вывод</a></span></li></ul></li><li><span><a href=\"#Шаг-5.--Проверка-гипотез\" data-toc-modified-id=\"Шаг-5.--Проверка-гипотез-6\">Шаг 5.  Проверка гипотез</a></span><ul class=\"toc-item\"><li><span><a href=\"#5.1.-Проверка-нормальности\" data-toc-modified-id=\"5.1.-Проверка-нормальности-6.1\">5.1. Проверка нормальности</a></span></li><li><span><a href=\"#5.2.-Средние-чеки-покупателей-кластеров-1-и-2-одинаковые.\" data-toc-modified-id=\"5.2.-Средние-чеки-покупателей-кластеров-1-и-2-одинаковые.-6.2\">5.2. Средние чеки покупателей кластеров 1 и 2 одинаковые.</a></span><ul class=\"toc-item\"><li><span><a href=\"#Формулировка-гипотез\" data-toc-modified-id=\"Формулировка-гипотез-6.2.1\">Формулировка гипотез</a></span></li><li><span><a href=\"#Результат-тестирования-гипотезы\" data-toc-modified-id=\"Результат-тестирования-гипотезы-6.2.2\">Результат тестирования гипотезы</a></span></li></ul></li><li><span><a href=\"#5.3.-Среднее-количество-товара-в-заказе-покупателей-кластеров-1-и-2-одинаковые.\" data-toc-modified-id=\"5.3.-Среднее-количество-товара-в-заказе-покупателей-кластеров-1-и-2-одинаковые.-6.3\">5.3. Среднее количество товара в заказе покупателей кластеров 1 и 2 одинаковые.</a></span><ul class=\"toc-item\"><li><span><a href=\"#Формулировка-гипотез\" data-toc-modified-id=\"Формулировка-гипотез-6.3.1\">Формулировка гипотез</a></span></li><li><span><a href=\"#Результат-тестирования-гипотезы\" data-toc-modified-id=\"Результат-тестирования-гипотезы-6.3.2\">Результат тестирования гипотезы</a></span></li></ul></li></ul></li><li><span><a href=\"#Шаг-6.-Выводы-и-рекомендации\" data-toc-modified-id=\"Шаг-6.-Выводы-и-рекомендации-7\">Шаг 6. Выводы и рекомендации</a></span><ul class=\"toc-item\"><li><span><a href=\"#6.1.-Выводы\" data-toc-modified-id=\"6.1.-Выводы-7.1\">6.1. Выводы</a></span></li><li><span><a href=\"#6.2.-Рекомендации\" data-toc-modified-id=\"6.2.-Рекомендации-7.2\">6.2. Рекомендации</a></span></li></ul></li></ul></div>"
   ]
  },
  {
   "cell_type": "markdown",
   "metadata": {},
   "source": [
    "## Материалы\n",
    "Ссылка на презентацию: https://drive.google.com/file/d/135O1rVSF3nurs82GtDSwq17eWpWopvit/view?usp=sharing \n",
    "\n",
    "Ссылка на дашборд: https://public.tableau.com/views/_16471195655550/dynamics?:language=en-US&publish=yes&:display_count=n&:origin=viz_share_link"
   ]
  },
  {
   "cell_type": "markdown",
   "metadata": {},
   "source": [
    "# E-commerce — Выявление профилей потребления"
   ]
  },
  {
   "cell_type": "markdown",
   "metadata": {},
   "source": [
    "Интернет-магазин товаров для дома «Пока все ещё тут» в срочном порядке ищет аналитиков. Вы поможете нашему магазину стать лучше, а клиентам — обустроить дом своей мечты. Наши ближайшие задачи — выявление профилей покупателей, а также полноценный анализ товарного ассортимента.\n",
    "\n",
    "«Пока все ещё тут» — мы создаём уют!\n",
    "\n",
    "**Заказчик** - менеджер продукта, который отвечает за пользовательский опыт."
   ]
  },
  {
   "cell_type": "markdown",
   "metadata": {},
   "source": [
    "### Задача\n",
    "\n",
    "Сегментировать покупателей по профилю потребления. Исследование проводится для создания персонализированных предложений для покупателей (**таргетинг**)."
   ]
  },
  {
   "cell_type": "markdown",
   "metadata": {},
   "source": [
    "### Описание данных\n",
    "\n",
    "Датасет описывает транзакции интернет-магазина товаров для дома и быта «Пока все ещё тут».\n",
    "\n",
    "Описание данных:\n",
    "\n",
    "- `date` — дата заказа;\n",
    "- `customer_id` — идентификатор покупателя;\n",
    "- `order_id` — идентификатор заказа;\n",
    "- `product` — наименование товара;\n",
    "- `quantity` — количество товара в заказе;\n",
    "- `price` — цена товара."
   ]
  },
  {
   "cell_type": "markdown",
   "metadata": {},
   "source": [
    "## Шаг 1. Загрузка данных"
   ]
  },
  {
   "cell_type": "code",
   "execution_count": 1,
   "metadata": {},
   "outputs": [],
   "source": [
    "import pandas as pd\n",
    "import numpy as np\n",
    "from datetime import datetime\n",
    "\n",
    "import seaborn as sns\n",
    "import matplotlib.pyplot as plt\n",
    "\n",
    "from sklearn.preprocessing import StandardScaler\n",
    "from scipy.cluster.hierarchy import dendrogram, linkage\n",
    "from sklearn.cluster import KMeans\n",
    "from sklearn.metrics import silhouette_score\n",
    "\n",
    "from scipy import stats as st"
   ]
  },
  {
   "cell_type": "code",
   "execution_count": 2,
   "metadata": {},
   "outputs": [],
   "source": [
    "#чтение данных из csv-файла\n",
    "custom_datetime = lambda x: datetime.strptime(x, '%Y%m%d%H')\n",
    "data = pd.read_csv('/datasets/ecommerce_dataset.csv', parse_dates=['date'], date_parser=custom_datetime, dayfirst=True) "
   ]
  },
  {
   "cell_type": "code",
   "execution_count": 3,
   "metadata": {},
   "outputs": [
    {
     "data": {
      "text/plain": [
       "(6737, 6)"
      ]
     },
     "execution_count": 3,
     "metadata": {},
     "output_type": "execute_result"
    }
   ],
   "source": [
    "#размер датасета\n",
    "data.shape"
   ]
  },
  {
   "cell_type": "code",
   "execution_count": 4,
   "metadata": {},
   "outputs": [
    {
     "data": {
      "text/html": [
       "<div>\n",
       "<style scoped>\n",
       "    .dataframe tbody tr th:only-of-type {\n",
       "        vertical-align: middle;\n",
       "    }\n",
       "\n",
       "    .dataframe tbody tr th {\n",
       "        vertical-align: top;\n",
       "    }\n",
       "\n",
       "    .dataframe thead th {\n",
       "        text-align: right;\n",
       "    }\n",
       "</style>\n",
       "<table border=\"1\" class=\"dataframe\">\n",
       "  <thead>\n",
       "    <tr style=\"text-align: right;\">\n",
       "      <th></th>\n",
       "      <th>date</th>\n",
       "      <th>customer_id</th>\n",
       "      <th>order_id</th>\n",
       "      <th>product</th>\n",
       "      <th>quantity</th>\n",
       "      <th>price</th>\n",
       "    </tr>\n",
       "  </thead>\n",
       "  <tbody>\n",
       "    <tr>\n",
       "      <td>0</td>\n",
       "      <td>2018-10-01 00:00:00</td>\n",
       "      <td>ee47d746-6d2f-4d3c-9622-c31412542920</td>\n",
       "      <td>68477</td>\n",
       "      <td>Комнатное растение в горшке Алое Вера, d12, h30</td>\n",
       "      <td>1</td>\n",
       "      <td>142.0</td>\n",
       "    </tr>\n",
       "    <tr>\n",
       "      <td>1</td>\n",
       "      <td>2018-10-01 00:00:00</td>\n",
       "      <td>ee47d746-6d2f-4d3c-9622-c31412542920</td>\n",
       "      <td>68477</td>\n",
       "      <td>Комнатное растение в горшке Кофе Арабика, d12, h25</td>\n",
       "      <td>1</td>\n",
       "      <td>194.0</td>\n",
       "    </tr>\n",
       "    <tr>\n",
       "      <td>2</td>\n",
       "      <td>2018-10-01 00:00:00</td>\n",
       "      <td>ee47d746-6d2f-4d3c-9622-c31412542920</td>\n",
       "      <td>68477</td>\n",
       "      <td>Радермахера d-12 см h-20 см</td>\n",
       "      <td>1</td>\n",
       "      <td>112.0</td>\n",
       "    </tr>\n",
       "    <tr>\n",
       "      <td>3</td>\n",
       "      <td>2018-10-01 00:00:00</td>\n",
       "      <td>ee47d746-6d2f-4d3c-9622-c31412542920</td>\n",
       "      <td>68477</td>\n",
       "      <td>Хризолидокарпус Лутесценс d-9 см</td>\n",
       "      <td>1</td>\n",
       "      <td>179.0</td>\n",
       "    </tr>\n",
       "    <tr>\n",
       "      <td>4</td>\n",
       "      <td>2018-10-01 00:00:00</td>\n",
       "      <td>ee47d746-6d2f-4d3c-9622-c31412542920</td>\n",
       "      <td>68477</td>\n",
       "      <td>Циперус Зумула d-12 см h-25 см</td>\n",
       "      <td>1</td>\n",
       "      <td>112.0</td>\n",
       "    </tr>\n",
       "    <tr>\n",
       "      <td>5</td>\n",
       "      <td>2018-10-01 00:00:00</td>\n",
       "      <td>ee47d746-6d2f-4d3c-9622-c31412542920</td>\n",
       "      <td>68477</td>\n",
       "      <td>Шеффлера Лузеана d-9 см</td>\n",
       "      <td>1</td>\n",
       "      <td>164.0</td>\n",
       "    </tr>\n",
       "    <tr>\n",
       "      <td>6</td>\n",
       "      <td>2018-10-01 00:00:00</td>\n",
       "      <td>ee47d746-6d2f-4d3c-9622-c31412542920</td>\n",
       "      <td>68477</td>\n",
       "      <td>Юкка нитчатая d-12 см h-25-35 см</td>\n",
       "      <td>1</td>\n",
       "      <td>134.0</td>\n",
       "    </tr>\n",
       "    <tr>\n",
       "      <td>7</td>\n",
       "      <td>2018-10-01 08:00:00</td>\n",
       "      <td>375e0724-f033-4c76-b579-84969cf38ee2</td>\n",
       "      <td>68479</td>\n",
       "      <td>Настенная сушилка для белья Gimi Brio Super 100</td>\n",
       "      <td>1</td>\n",
       "      <td>824.0</td>\n",
       "    </tr>\n",
       "    <tr>\n",
       "      <td>8</td>\n",
       "      <td>2018-10-01 08:00:00</td>\n",
       "      <td>6644e5b4-9934-4863-9778-aaa125207701</td>\n",
       "      <td>68478</td>\n",
       "      <td>Таз пластмассовый 21,0 л круглый \"Водолей\" С614, 1404056</td>\n",
       "      <td>1</td>\n",
       "      <td>269.0</td>\n",
       "    </tr>\n",
       "    <tr>\n",
       "      <td>9</td>\n",
       "      <td>2018-10-01 09:00:00</td>\n",
       "      <td>c971fb21-d54c-4134-938f-16b62ee86d3b</td>\n",
       "      <td>68480</td>\n",
       "      <td>Чехол для гладильной доски Colombo Persia Beige 130х50 см из хлопка 5379</td>\n",
       "      <td>1</td>\n",
       "      <td>674.0</td>\n",
       "    </tr>\n",
       "  </tbody>\n",
       "</table>\n",
       "</div>"
      ],
      "text/plain": [
       "                 date                           customer_id  order_id                                                                   product  quantity  price\n",
       "0 2018-10-01 00:00:00  ee47d746-6d2f-4d3c-9622-c31412542920     68477                           Комнатное растение в горшке Алое Вера, d12, h30         1  142.0\n",
       "1 2018-10-01 00:00:00  ee47d746-6d2f-4d3c-9622-c31412542920     68477                        Комнатное растение в горшке Кофе Арабика, d12, h25         1  194.0\n",
       "2 2018-10-01 00:00:00  ee47d746-6d2f-4d3c-9622-c31412542920     68477                                               Радермахера d-12 см h-20 см         1  112.0\n",
       "3 2018-10-01 00:00:00  ee47d746-6d2f-4d3c-9622-c31412542920     68477                                          Хризолидокарпус Лутесценс d-9 см         1  179.0\n",
       "4 2018-10-01 00:00:00  ee47d746-6d2f-4d3c-9622-c31412542920     68477                                            Циперус Зумула d-12 см h-25 см         1  112.0\n",
       "5 2018-10-01 00:00:00  ee47d746-6d2f-4d3c-9622-c31412542920     68477                                                   Шеффлера Лузеана d-9 см         1  164.0\n",
       "6 2018-10-01 00:00:00  ee47d746-6d2f-4d3c-9622-c31412542920     68477                                          Юкка нитчатая d-12 см h-25-35 см         1  134.0\n",
       "7 2018-10-01 08:00:00  375e0724-f033-4c76-b579-84969cf38ee2     68479                           Настенная сушилка для белья Gimi Brio Super 100         1  824.0\n",
       "8 2018-10-01 08:00:00  6644e5b4-9934-4863-9778-aaa125207701     68478                  Таз пластмассовый 21,0 л круглый \"Водолей\" С614, 1404056         1  269.0\n",
       "9 2018-10-01 09:00:00  c971fb21-d54c-4134-938f-16b62ee86d3b     68480  Чехол для гладильной доски Colombo Persia Beige 130х50 см из хлопка 5379         1  674.0"
      ]
     },
     "execution_count": 4,
     "metadata": {},
     "output_type": "execute_result"
    }
   ],
   "source": [
    "#вывод на экран первых 10 строк датасета с отображением всех символов в столбцах\n",
    "pd.set_option('max_colwidth', 120)\n",
    "pd.set_option('display.width', 500)\n",
    "data.head(10)"
   ]
  },
  {
   "cell_type": "code",
   "execution_count": 5,
   "metadata": {},
   "outputs": [
    {
     "name": "stdout",
     "output_type": "stream",
     "text": [
      "<class 'pandas.core.frame.DataFrame'>\n",
      "RangeIndex: 6737 entries, 0 to 6736\n",
      "Data columns (total 6 columns):\n",
      "date           6737 non-null datetime64[ns]\n",
      "customer_id    6737 non-null object\n",
      "order_id       6737 non-null int64\n",
      "product        6737 non-null object\n",
      "quantity       6737 non-null int64\n",
      "price          6737 non-null float64\n",
      "dtypes: datetime64[ns](1), float64(1), int64(2), object(2)\n",
      "memory usage: 315.9+ KB\n"
     ]
    }
   ],
   "source": [
    "#вывод информации о датасете\n",
    "data.info()"
   ]
  },
  {
   "cell_type": "code",
   "execution_count": 6,
   "metadata": {},
   "outputs": [
    {
     "name": "stdout",
     "output_type": "stream",
     "text": [
      "Данные от 2018-10-01 00:00:00 до 2019-10-31 16:00:00.\n"
     ]
    }
   ],
   "source": [
    "#определим временной период, за который представлены данные в датасете\n",
    "firts_date = data['date'].min()\n",
    "last_date = data['date'].max()\n",
    "print('Данные от %s до %s.' % (firts_date, last_date))"
   ]
  },
  {
   "cell_type": "code",
   "execution_count": 7,
   "metadata": {},
   "outputs": [
    {
     "data": {
      "text/plain": [
       "date           0\n",
       "customer_id    0\n",
       "order_id       0\n",
       "product        0\n",
       "quantity       0\n",
       "price          0\n",
       "dtype: int64"
      ]
     },
     "execution_count": 7,
     "metadata": {},
     "output_type": "execute_result"
    }
   ],
   "source": [
    "#проверка начилия пропусков\n",
    "data.isna().sum()"
   ]
  },
  {
   "cell_type": "code",
   "execution_count": 8,
   "metadata": {},
   "outputs": [
    {
     "data": {
      "text/plain": [
       "date           0\n",
       "customer_id    0\n",
       "order_id       0\n",
       "product        0\n",
       "quantity       0\n",
       "price          0\n",
       "dtype: int64"
      ]
     },
     "execution_count": 8,
     "metadata": {},
     "output_type": "execute_result"
    }
   ],
   "source": [
    "#проверка начилия нулевых значений\n",
    "data.isnull().sum()"
   ]
  },
  {
   "cell_type": "code",
   "execution_count": 9,
   "metadata": {},
   "outputs": [
    {
     "data": {
      "text/plain": [
       "0"
      ]
     },
     "execution_count": 9,
     "metadata": {},
     "output_type": "execute_result"
    }
   ],
   "source": [
    "#проверка наличия явных дубликатов\n",
    "data.duplicated().sum()"
   ]
  },
  {
   "cell_type": "code",
   "execution_count": 10,
   "metadata": {},
   "outputs": [
    {
     "data": {
      "text/plain": [
       "2451"
      ]
     },
     "execution_count": 10,
     "metadata": {},
     "output_type": "execute_result"
    }
   ],
   "source": [
    "#подсчет количества уникальных покупателей\n",
    "len(data['customer_id'].unique())"
   ]
  },
  {
   "cell_type": "code",
   "execution_count": 11,
   "metadata": {},
   "outputs": [
    {
     "data": {
      "text/plain": [
       "2784"
      ]
     },
     "execution_count": 11,
     "metadata": {},
     "output_type": "execute_result"
    }
   ],
   "source": [
    "#подсчет количества уникальных пользователей\n",
    "len(data['order_id'].unique())"
   ]
  },
  {
   "cell_type": "code",
   "execution_count": 12,
   "metadata": {},
   "outputs": [
    {
     "data": {
      "text/html": [
       "<div>\n",
       "<style scoped>\n",
       "    .dataframe tbody tr th:only-of-type {\n",
       "        vertical-align: middle;\n",
       "    }\n",
       "\n",
       "    .dataframe tbody tr th {\n",
       "        vertical-align: top;\n",
       "    }\n",
       "\n",
       "    .dataframe thead th {\n",
       "        text-align: right;\n",
       "    }\n",
       "</style>\n",
       "<table border=\"1\" class=\"dataframe\">\n",
       "  <thead>\n",
       "    <tr style=\"text-align: right;\">\n",
       "      <th></th>\n",
       "      <th>order_id</th>\n",
       "      <th>customer_id</th>\n",
       "    </tr>\n",
       "  </thead>\n",
       "  <tbody>\n",
       "    <tr>\n",
       "      <td>2610</td>\n",
       "      <td>72845</td>\n",
       "      <td>4</td>\n",
       "    </tr>\n",
       "    <tr>\n",
       "      <td>1914</td>\n",
       "      <td>71480</td>\n",
       "      <td>3</td>\n",
       "    </tr>\n",
       "    <tr>\n",
       "      <td>902</td>\n",
       "      <td>69485</td>\n",
       "      <td>3</td>\n",
       "    </tr>\n",
       "    <tr>\n",
       "      <td>817</td>\n",
       "      <td>69310</td>\n",
       "      <td>2</td>\n",
       "    </tr>\n",
       "    <tr>\n",
       "      <td>1066</td>\n",
       "      <td>69833</td>\n",
       "      <td>2</td>\n",
       "    </tr>\n",
       "    <tr>\n",
       "      <td>2576</td>\n",
       "      <td>72790</td>\n",
       "      <td>2</td>\n",
       "    </tr>\n",
       "    <tr>\n",
       "      <td>2569</td>\n",
       "      <td>72778</td>\n",
       "      <td>2</td>\n",
       "    </tr>\n",
       "    <tr>\n",
       "      <td>248</td>\n",
       "      <td>14872</td>\n",
       "      <td>2</td>\n",
       "    </tr>\n",
       "    <tr>\n",
       "      <td>1939</td>\n",
       "      <td>71542</td>\n",
       "      <td>2</td>\n",
       "    </tr>\n",
       "    <tr>\n",
       "      <td>1712</td>\n",
       "      <td>71054</td>\n",
       "      <td>2</td>\n",
       "    </tr>\n",
       "    <tr>\n",
       "      <td>2004</td>\n",
       "      <td>71663</td>\n",
       "      <td>2</td>\n",
       "    </tr>\n",
       "    <tr>\n",
       "      <td>1542</td>\n",
       "      <td>70726</td>\n",
       "      <td>2</td>\n",
       "    </tr>\n",
       "    <tr>\n",
       "      <td>933</td>\n",
       "      <td>69531</td>\n",
       "      <td>2</td>\n",
       "    </tr>\n",
       "    <tr>\n",
       "      <td>1443</td>\n",
       "      <td>70542</td>\n",
       "      <td>2</td>\n",
       "    </tr>\n",
       "    <tr>\n",
       "      <td>1631</td>\n",
       "      <td>70903</td>\n",
       "      <td>2</td>\n",
       "    </tr>\n",
       "    <tr>\n",
       "      <td>797</td>\n",
       "      <td>69283</td>\n",
       "      <td>2</td>\n",
       "    </tr>\n",
       "    <tr>\n",
       "      <td>1799</td>\n",
       "      <td>71226</td>\n",
       "      <td>2</td>\n",
       "    </tr>\n",
       "    <tr>\n",
       "      <td>1956</td>\n",
       "      <td>71571</td>\n",
       "      <td>2</td>\n",
       "    </tr>\n",
       "    <tr>\n",
       "      <td>862</td>\n",
       "      <td>69410</td>\n",
       "      <td>2</td>\n",
       "    </tr>\n",
       "    <tr>\n",
       "      <td>832</td>\n",
       "      <td>69345</td>\n",
       "      <td>2</td>\n",
       "    </tr>\n",
       "    <tr>\n",
       "      <td>1581</td>\n",
       "      <td>70808</td>\n",
       "      <td>2</td>\n",
       "    </tr>\n",
       "    <tr>\n",
       "      <td>1200</td>\n",
       "      <td>70114</td>\n",
       "      <td>2</td>\n",
       "    </tr>\n",
       "    <tr>\n",
       "      <td>1495</td>\n",
       "      <td>70631</td>\n",
       "      <td>2</td>\n",
       "    </tr>\n",
       "    <tr>\n",
       "      <td>1905</td>\n",
       "      <td>71461</td>\n",
       "      <td>2</td>\n",
       "    </tr>\n",
       "    <tr>\n",
       "      <td>2677</td>\n",
       "      <td>72950</td>\n",
       "      <td>2</td>\n",
       "    </tr>\n",
       "    <tr>\n",
       "      <td>2000</td>\n",
       "      <td>71648</td>\n",
       "      <td>2</td>\n",
       "    </tr>\n",
       "    <tr>\n",
       "      <td>1651</td>\n",
       "      <td>70946</td>\n",
       "      <td>2</td>\n",
       "    </tr>\n",
       "    <tr>\n",
       "      <td>516</td>\n",
       "      <td>68785</td>\n",
       "      <td>2</td>\n",
       "    </tr>\n",
       "    <tr>\n",
       "      <td>2269</td>\n",
       "      <td>72188</td>\n",
       "      <td>2</td>\n",
       "    </tr>\n",
       "  </tbody>\n",
       "</table>\n",
       "</div>"
      ],
      "text/plain": [
       "      order_id  customer_id\n",
       "2610     72845            4\n",
       "1914     71480            3\n",
       "902      69485            3\n",
       "817      69310            2\n",
       "1066     69833            2\n",
       "2576     72790            2\n",
       "2569     72778            2\n",
       "248      14872            2\n",
       "1939     71542            2\n",
       "1712     71054            2\n",
       "2004     71663            2\n",
       "1542     70726            2\n",
       "933      69531            2\n",
       "1443     70542            2\n",
       "1631     70903            2\n",
       "797      69283            2\n",
       "1799     71226            2\n",
       "1956     71571            2\n",
       "862      69410            2\n",
       "832      69345            2\n",
       "1581     70808            2\n",
       "1200     70114            2\n",
       "1495     70631            2\n",
       "1905     71461            2\n",
       "2677     72950            2\n",
       "2000     71648            2\n",
       "1651     70946            2\n",
       "516      68785            2\n",
       "2269     72188            2"
      ]
     },
     "execution_count": 12,
     "metadata": {},
     "output_type": "execute_result"
    }
   ],
   "source": [
    "#проверка наличия неявных дубликатов\n",
    "data_pivot = data.groupby(['order_id']).agg({'customer_id':'nunique'}).reset_index()\n",
    "duplicats = data_pivot.sort_values(by='customer_id', ascending = False).head(29)\n",
    "duplicats"
   ]
  },
  {
   "cell_type": "markdown",
   "metadata": {},
   "source": [
    "### Вывод \n",
    "\n",
    "В представленном датасете 6737 наблюдений и 6 разных показателей. \n",
    "\n",
    "Данные представлены за период с 2018-10-01 00:00:00 до 2019-10-31 16:00:00.\n",
    "\n",
    "Судя по тому, что количество наблюдений в каждом столбце одинаково, можно говорить об отсутствии пропусков в данных.\n",
    "\n",
    "Также в датасете отсутствуют нулевые значения.\n",
    "\n",
    "Проверка наличия дубликатов методом *duplicted()* выявила отсутствие явных дубликатов в данных. Однако, если сгруппировать идентификаторы заказов по уникальным пользователям, то получится, что за одним заказом закреплено несколько уникальных покупателей. Такого быть не должно, поэтому можно сделать вывод о наличии в датасете неявных дубликатов. Всего таких заказов 29. Причина появления таких заказов вероятно в техническом сбое.\n",
    "\n",
    "При загрузке данных столбец с датой был преобразован, поскольку в нем были записаны данные в строковом формате.\n",
    "\n",
    "Также для следующих показателей потребуется замена типа данных:\n",
    "\n",
    "| Наименование столбца       | Текущий тип данных          | Требуемый тип данных  |\n",
    "| ------------- |:-------------:| -----:|\n",
    "| order_id | int64     |   object  |\n",
    "\n",
    "\n",
    "\n",
    "Переходим к предобработке данных."
   ]
  },
  {
   "cell_type": "markdown",
   "metadata": {},
   "source": [
    "## Шаг 2. Предобработка данных"
   ]
  },
  {
   "cell_type": "markdown",
   "metadata": {},
   "source": [
    "### 2.1. Замена типа данных"
   ]
  },
  {
   "cell_type": "code",
   "execution_count": 13,
   "metadata": {},
   "outputs": [],
   "source": [
    "#замена типа данных на строковый\n",
    "data['order_id']  = data['order_id'].astype('str')"
   ]
  },
  {
   "cell_type": "code",
   "execution_count": 14,
   "metadata": {},
   "outputs": [
    {
     "name": "stdout",
     "output_type": "stream",
     "text": [
      "<class 'pandas.core.frame.DataFrame'>\n",
      "RangeIndex: 6737 entries, 0 to 6736\n",
      "Data columns (total 6 columns):\n",
      "date           6737 non-null datetime64[ns]\n",
      "customer_id    6737 non-null object\n",
      "order_id       6737 non-null object\n",
      "product        6737 non-null object\n",
      "quantity       6737 non-null int64\n",
      "price          6737 non-null float64\n",
      "dtypes: datetime64[ns](1), float64(1), int64(1), object(3)\n",
      "memory usage: 315.9+ KB\n"
     ]
    },
    {
     "data": {
      "text/html": [
       "<div>\n",
       "<style scoped>\n",
       "    .dataframe tbody tr th:only-of-type {\n",
       "        vertical-align: middle;\n",
       "    }\n",
       "\n",
       "    .dataframe tbody tr th {\n",
       "        vertical-align: top;\n",
       "    }\n",
       "\n",
       "    .dataframe thead th {\n",
       "        text-align: right;\n",
       "    }\n",
       "</style>\n",
       "<table border=\"1\" class=\"dataframe\">\n",
       "  <thead>\n",
       "    <tr style=\"text-align: right;\">\n",
       "      <th></th>\n",
       "      <th>date</th>\n",
       "      <th>customer_id</th>\n",
       "      <th>order_id</th>\n",
       "      <th>product</th>\n",
       "      <th>quantity</th>\n",
       "      <th>price</th>\n",
       "    </tr>\n",
       "  </thead>\n",
       "  <tbody>\n",
       "    <tr>\n",
       "      <td>0</td>\n",
       "      <td>2018-10-01</td>\n",
       "      <td>ee47d746-6d2f-4d3c-9622-c31412542920</td>\n",
       "      <td>68477</td>\n",
       "      <td>Комнатное растение в горшке Алое Вера, d12, h30</td>\n",
       "      <td>1</td>\n",
       "      <td>142.0</td>\n",
       "    </tr>\n",
       "    <tr>\n",
       "      <td>1</td>\n",
       "      <td>2018-10-01</td>\n",
       "      <td>ee47d746-6d2f-4d3c-9622-c31412542920</td>\n",
       "      <td>68477</td>\n",
       "      <td>Комнатное растение в горшке Кофе Арабика, d12, h25</td>\n",
       "      <td>1</td>\n",
       "      <td>194.0</td>\n",
       "    </tr>\n",
       "    <tr>\n",
       "      <td>2</td>\n",
       "      <td>2018-10-01</td>\n",
       "      <td>ee47d746-6d2f-4d3c-9622-c31412542920</td>\n",
       "      <td>68477</td>\n",
       "      <td>Радермахера d-12 см h-20 см</td>\n",
       "      <td>1</td>\n",
       "      <td>112.0</td>\n",
       "    </tr>\n",
       "    <tr>\n",
       "      <td>3</td>\n",
       "      <td>2018-10-01</td>\n",
       "      <td>ee47d746-6d2f-4d3c-9622-c31412542920</td>\n",
       "      <td>68477</td>\n",
       "      <td>Хризолидокарпус Лутесценс d-9 см</td>\n",
       "      <td>1</td>\n",
       "      <td>179.0</td>\n",
       "    </tr>\n",
       "    <tr>\n",
       "      <td>4</td>\n",
       "      <td>2018-10-01</td>\n",
       "      <td>ee47d746-6d2f-4d3c-9622-c31412542920</td>\n",
       "      <td>68477</td>\n",
       "      <td>Циперус Зумула d-12 см h-25 см</td>\n",
       "      <td>1</td>\n",
       "      <td>112.0</td>\n",
       "    </tr>\n",
       "  </tbody>\n",
       "</table>\n",
       "</div>"
      ],
      "text/plain": [
       "        date                           customer_id order_id                                             product  quantity  price\n",
       "0 2018-10-01  ee47d746-6d2f-4d3c-9622-c31412542920    68477     Комнатное растение в горшке Алое Вера, d12, h30         1  142.0\n",
       "1 2018-10-01  ee47d746-6d2f-4d3c-9622-c31412542920    68477  Комнатное растение в горшке Кофе Арабика, d12, h25         1  194.0\n",
       "2 2018-10-01  ee47d746-6d2f-4d3c-9622-c31412542920    68477                         Радермахера d-12 см h-20 см         1  112.0\n",
       "3 2018-10-01  ee47d746-6d2f-4d3c-9622-c31412542920    68477                    Хризолидокарпус Лутесценс d-9 см         1  179.0\n",
       "4 2018-10-01  ee47d746-6d2f-4d3c-9622-c31412542920    68477                      Циперус Зумула d-12 см h-25 см         1  112.0"
      ]
     },
     "metadata": {},
     "output_type": "display_data"
    }
   ],
   "source": [
    "#проверка корректности замены типа данных\n",
    "data.info()\n",
    "display(data.head())"
   ]
  },
  {
   "cell_type": "markdown",
   "metadata": {},
   "source": [
    "### 2.2. Удаление неявных дубликатов"
   ]
  },
  {
   "cell_type": "code",
   "execution_count": 15,
   "metadata": {},
   "outputs": [
    {
     "data": {
      "text/html": [
       "<div>\n",
       "<style scoped>\n",
       "    .dataframe tbody tr th:only-of-type {\n",
       "        vertical-align: middle;\n",
       "    }\n",
       "\n",
       "    .dataframe tbody tr th {\n",
       "        vertical-align: top;\n",
       "    }\n",
       "\n",
       "    .dataframe thead th {\n",
       "        text-align: right;\n",
       "    }\n",
       "</style>\n",
       "<table border=\"1\" class=\"dataframe\">\n",
       "  <thead>\n",
       "    <tr style=\"text-align: right;\">\n",
       "      <th></th>\n",
       "      <th>First_date</th>\n",
       "      <th>First_customer_id</th>\n",
       "    </tr>\n",
       "  </thead>\n",
       "  <tbody>\n",
       "    <tr>\n",
       "      <td>0</td>\n",
       "      <td>2018-10-01 00:00:00</td>\n",
       "      <td>ee47d746-6d2f-4d3c-9622-c31412542920</td>\n",
       "    </tr>\n",
       "    <tr>\n",
       "      <td>1</td>\n",
       "      <td>2018-10-01 00:00:00</td>\n",
       "      <td>ee47d746-6d2f-4d3c-9622-c31412542920</td>\n",
       "    </tr>\n",
       "    <tr>\n",
       "      <td>2</td>\n",
       "      <td>2018-10-01 00:00:00</td>\n",
       "      <td>ee47d746-6d2f-4d3c-9622-c31412542920</td>\n",
       "    </tr>\n",
       "    <tr>\n",
       "      <td>3</td>\n",
       "      <td>2018-10-01 00:00:00</td>\n",
       "      <td>ee47d746-6d2f-4d3c-9622-c31412542920</td>\n",
       "    </tr>\n",
       "    <tr>\n",
       "      <td>4</td>\n",
       "      <td>2018-10-01 00:00:00</td>\n",
       "      <td>ee47d746-6d2f-4d3c-9622-c31412542920</td>\n",
       "    </tr>\n",
       "    <tr>\n",
       "      <td>...</td>\n",
       "      <td>...</td>\n",
       "      <td>...</td>\n",
       "    </tr>\n",
       "    <tr>\n",
       "      <td>6732</td>\n",
       "      <td>2019-10-31 11:00:00</td>\n",
       "      <td>73d1cd35-5e5f-4629-8cf2-3fda829d4e58</td>\n",
       "    </tr>\n",
       "    <tr>\n",
       "      <td>6733</td>\n",
       "      <td>2019-10-31 12:00:00</td>\n",
       "      <td>1f0a7f35-7459-4f23-b468-5e45bf481dd1</td>\n",
       "    </tr>\n",
       "    <tr>\n",
       "      <td>6734</td>\n",
       "      <td>2019-10-31 13:00:00</td>\n",
       "      <td>25df96a7-c453-4708-9cea-a3dfc7c342ea</td>\n",
       "    </tr>\n",
       "    <tr>\n",
       "      <td>6735</td>\n",
       "      <td>2019-10-31 14:00:00</td>\n",
       "      <td>73d1cd35-5e5f-4629-8cf2-3fda829d4e58</td>\n",
       "    </tr>\n",
       "    <tr>\n",
       "      <td>6736</td>\n",
       "      <td>2019-10-30 09:00:00</td>\n",
       "      <td>344aa778-e436-419e-a9c6-9b8f37b7c1df</td>\n",
       "    </tr>\n",
       "  </tbody>\n",
       "</table>\n",
       "<p>6737 rows × 2 columns</p>\n",
       "</div>"
      ],
      "text/plain": [
       "              First_date                     First_customer_id\n",
       "0    2018-10-01 00:00:00  ee47d746-6d2f-4d3c-9622-c31412542920\n",
       "1    2018-10-01 00:00:00  ee47d746-6d2f-4d3c-9622-c31412542920\n",
       "2    2018-10-01 00:00:00  ee47d746-6d2f-4d3c-9622-c31412542920\n",
       "3    2018-10-01 00:00:00  ee47d746-6d2f-4d3c-9622-c31412542920\n",
       "4    2018-10-01 00:00:00  ee47d746-6d2f-4d3c-9622-c31412542920\n",
       "...                  ...                                   ...\n",
       "6732 2019-10-31 11:00:00  73d1cd35-5e5f-4629-8cf2-3fda829d4e58\n",
       "6733 2019-10-31 12:00:00  1f0a7f35-7459-4f23-b468-5e45bf481dd1\n",
       "6734 2019-10-31 13:00:00  25df96a7-c453-4708-9cea-a3dfc7c342ea\n",
       "6735 2019-10-31 14:00:00  73d1cd35-5e5f-4629-8cf2-3fda829d4e58\n",
       "6736 2019-10-30 09:00:00  344aa778-e436-419e-a9c6-9b8f37b7c1df\n",
       "\n",
       "[6737 rows x 2 columns]"
      ]
     },
     "execution_count": 15,
     "metadata": {},
     "output_type": "execute_result"
    }
   ],
   "source": [
    "#создание датафрейма с данными о самом раннем заказе совершенным каждым покупателем\n",
    "first_date = data.groupby('order_id')['date', 'customer_id'].transform('first').add_prefix('First_')\n",
    "first_date"
   ]
  },
  {
   "cell_type": "code",
   "execution_count": 16,
   "metadata": {},
   "outputs": [
    {
     "data": {
      "text/html": [
       "<div>\n",
       "<style scoped>\n",
       "    .dataframe tbody tr th:only-of-type {\n",
       "        vertical-align: middle;\n",
       "    }\n",
       "\n",
       "    .dataframe tbody tr th {\n",
       "        vertical-align: top;\n",
       "    }\n",
       "\n",
       "    .dataframe thead th {\n",
       "        text-align: right;\n",
       "    }\n",
       "</style>\n",
       "<table border=\"1\" class=\"dataframe\">\n",
       "  <thead>\n",
       "    <tr style=\"text-align: right;\">\n",
       "      <th></th>\n",
       "      <th>date</th>\n",
       "      <th>customer_id</th>\n",
       "      <th>order_id</th>\n",
       "      <th>product</th>\n",
       "      <th>quantity</th>\n",
       "      <th>price</th>\n",
       "      <th>First_date</th>\n",
       "      <th>First_customer_id</th>\n",
       "    </tr>\n",
       "  </thead>\n",
       "  <tbody>\n",
       "    <tr>\n",
       "      <td>0</td>\n",
       "      <td>2018-10-01 00:00:00</td>\n",
       "      <td>ee47d746-6d2f-4d3c-9622-c31412542920</td>\n",
       "      <td>68477</td>\n",
       "      <td>Комнатное растение в горшке Алое Вера, d12, h30</td>\n",
       "      <td>1</td>\n",
       "      <td>142.0</td>\n",
       "      <td>2018-10-01 00:00:00</td>\n",
       "      <td>ee47d746-6d2f-4d3c-9622-c31412542920</td>\n",
       "    </tr>\n",
       "    <tr>\n",
       "      <td>1</td>\n",
       "      <td>2018-10-01 00:00:00</td>\n",
       "      <td>ee47d746-6d2f-4d3c-9622-c31412542920</td>\n",
       "      <td>68477</td>\n",
       "      <td>Комнатное растение в горшке Кофе Арабика, d12, h25</td>\n",
       "      <td>1</td>\n",
       "      <td>194.0</td>\n",
       "      <td>2018-10-01 00:00:00</td>\n",
       "      <td>ee47d746-6d2f-4d3c-9622-c31412542920</td>\n",
       "    </tr>\n",
       "    <tr>\n",
       "      <td>2</td>\n",
       "      <td>2018-10-01 00:00:00</td>\n",
       "      <td>ee47d746-6d2f-4d3c-9622-c31412542920</td>\n",
       "      <td>68477</td>\n",
       "      <td>Радермахера d-12 см h-20 см</td>\n",
       "      <td>1</td>\n",
       "      <td>112.0</td>\n",
       "      <td>2018-10-01 00:00:00</td>\n",
       "      <td>ee47d746-6d2f-4d3c-9622-c31412542920</td>\n",
       "    </tr>\n",
       "    <tr>\n",
       "      <td>3</td>\n",
       "      <td>2018-10-01 00:00:00</td>\n",
       "      <td>ee47d746-6d2f-4d3c-9622-c31412542920</td>\n",
       "      <td>68477</td>\n",
       "      <td>Хризолидокарпус Лутесценс d-9 см</td>\n",
       "      <td>1</td>\n",
       "      <td>179.0</td>\n",
       "      <td>2018-10-01 00:00:00</td>\n",
       "      <td>ee47d746-6d2f-4d3c-9622-c31412542920</td>\n",
       "    </tr>\n",
       "    <tr>\n",
       "      <td>4</td>\n",
       "      <td>2018-10-01 00:00:00</td>\n",
       "      <td>ee47d746-6d2f-4d3c-9622-c31412542920</td>\n",
       "      <td>68477</td>\n",
       "      <td>Циперус Зумула d-12 см h-25 см</td>\n",
       "      <td>1</td>\n",
       "      <td>112.0</td>\n",
       "      <td>2018-10-01 00:00:00</td>\n",
       "      <td>ee47d746-6d2f-4d3c-9622-c31412542920</td>\n",
       "    </tr>\n",
       "    <tr>\n",
       "      <td>...</td>\n",
       "      <td>...</td>\n",
       "      <td>...</td>\n",
       "      <td>...</td>\n",
       "      <td>...</td>\n",
       "      <td>...</td>\n",
       "      <td>...</td>\n",
       "      <td>...</td>\n",
       "      <td>...</td>\n",
       "    </tr>\n",
       "    <tr>\n",
       "      <td>6732</td>\n",
       "      <td>2019-10-31 11:00:00</td>\n",
       "      <td>73d1cd35-5e5f-4629-8cf2-3fda829d4e58</td>\n",
       "      <td>73156</td>\n",
       "      <td>Таз пластмассовый 40,0 л пищевой овальный (Иж), 1404094</td>\n",
       "      <td>1</td>\n",
       "      <td>404.0</td>\n",
       "      <td>2019-10-31 11:00:00</td>\n",
       "      <td>73d1cd35-5e5f-4629-8cf2-3fda829d4e58</td>\n",
       "    </tr>\n",
       "    <tr>\n",
       "      <td>6733</td>\n",
       "      <td>2019-10-31 12:00:00</td>\n",
       "      <td>1f0a7f35-7459-4f23-b468-5e45bf481dd1</td>\n",
       "      <td>73158</td>\n",
       "      <td>Сумка-тележка 2-х колесная Gimi Argo синяя</td>\n",
       "      <td>1</td>\n",
       "      <td>1087.0</td>\n",
       "      <td>2019-10-31 12:00:00</td>\n",
       "      <td>1f0a7f35-7459-4f23-b468-5e45bf481dd1</td>\n",
       "    </tr>\n",
       "    <tr>\n",
       "      <td>6734</td>\n",
       "      <td>2019-10-31 13:00:00</td>\n",
       "      <td>25df96a7-c453-4708-9cea-a3dfc7c342ea</td>\n",
       "      <td>73162</td>\n",
       "      <td>Герань домашняя (пеларгония зональная) цветущая D12, H25-30, малиновая с красным, полумахровая</td>\n",
       "      <td>1</td>\n",
       "      <td>157.0</td>\n",
       "      <td>2019-10-31 13:00:00</td>\n",
       "      <td>25df96a7-c453-4708-9cea-a3dfc7c342ea</td>\n",
       "    </tr>\n",
       "    <tr>\n",
       "      <td>6735</td>\n",
       "      <td>2019-10-31 14:00:00</td>\n",
       "      <td>73d1cd35-5e5f-4629-8cf2-3fda829d4e58</td>\n",
       "      <td>73164</td>\n",
       "      <td>Таз пластмассовый со стиральной доской (Иж), 1404021</td>\n",
       "      <td>1</td>\n",
       "      <td>397.0</td>\n",
       "      <td>2019-10-31 14:00:00</td>\n",
       "      <td>73d1cd35-5e5f-4629-8cf2-3fda829d4e58</td>\n",
       "    </tr>\n",
       "    <tr>\n",
       "      <td>6736</td>\n",
       "      <td>2019-10-31 16:00:00</td>\n",
       "      <td>344aa778-e436-419e-a9c6-9b8f37b7c1df</td>\n",
       "      <td>73137</td>\n",
       "      <td>Сумка-тележка 2-х колесная Gimi Argo синяя</td>\n",
       "      <td>1</td>\n",
       "      <td>1087.0</td>\n",
       "      <td>2019-10-30 09:00:00</td>\n",
       "      <td>344aa778-e436-419e-a9c6-9b8f37b7c1df</td>\n",
       "    </tr>\n",
       "  </tbody>\n",
       "</table>\n",
       "<p>6737 rows × 8 columns</p>\n",
       "</div>"
      ],
      "text/plain": [
       "                    date                           customer_id order_id                                                                                         product  quantity   price          First_date                     First_customer_id\n",
       "0    2018-10-01 00:00:00  ee47d746-6d2f-4d3c-9622-c31412542920    68477                                                 Комнатное растение в горшке Алое Вера, d12, h30         1   142.0 2018-10-01 00:00:00  ee47d746-6d2f-4d3c-9622-c31412542920\n",
       "1    2018-10-01 00:00:00  ee47d746-6d2f-4d3c-9622-c31412542920    68477                                              Комнатное растение в горшке Кофе Арабика, d12, h25         1   194.0 2018-10-01 00:00:00  ee47d746-6d2f-4d3c-9622-c31412542920\n",
       "2    2018-10-01 00:00:00  ee47d746-6d2f-4d3c-9622-c31412542920    68477                                                                     Радермахера d-12 см h-20 см         1   112.0 2018-10-01 00:00:00  ee47d746-6d2f-4d3c-9622-c31412542920\n",
       "3    2018-10-01 00:00:00  ee47d746-6d2f-4d3c-9622-c31412542920    68477                                                                Хризолидокарпус Лутесценс d-9 см         1   179.0 2018-10-01 00:00:00  ee47d746-6d2f-4d3c-9622-c31412542920\n",
       "4    2018-10-01 00:00:00  ee47d746-6d2f-4d3c-9622-c31412542920    68477                                                                  Циперус Зумула d-12 см h-25 см         1   112.0 2018-10-01 00:00:00  ee47d746-6d2f-4d3c-9622-c31412542920\n",
       "...                  ...                                   ...      ...                                                                                             ...       ...     ...                 ...                                   ...\n",
       "6732 2019-10-31 11:00:00  73d1cd35-5e5f-4629-8cf2-3fda829d4e58    73156                                         Таз пластмассовый 40,0 л пищевой овальный (Иж), 1404094         1   404.0 2019-10-31 11:00:00  73d1cd35-5e5f-4629-8cf2-3fda829d4e58\n",
       "6733 2019-10-31 12:00:00  1f0a7f35-7459-4f23-b468-5e45bf481dd1    73158                                                      Сумка-тележка 2-х колесная Gimi Argo синяя         1  1087.0 2019-10-31 12:00:00  1f0a7f35-7459-4f23-b468-5e45bf481dd1\n",
       "6734 2019-10-31 13:00:00  25df96a7-c453-4708-9cea-a3dfc7c342ea    73162  Герань домашняя (пеларгония зональная) цветущая D12, H25-30, малиновая с красным, полумахровая         1   157.0 2019-10-31 13:00:00  25df96a7-c453-4708-9cea-a3dfc7c342ea\n",
       "6735 2019-10-31 14:00:00  73d1cd35-5e5f-4629-8cf2-3fda829d4e58    73164                                            Таз пластмассовый со стиральной доской (Иж), 1404021         1   397.0 2019-10-31 14:00:00  73d1cd35-5e5f-4629-8cf2-3fda829d4e58\n",
       "6736 2019-10-31 16:00:00  344aa778-e436-419e-a9c6-9b8f37b7c1df    73137                                                      Сумка-тележка 2-х колесная Gimi Argo синяя         1  1087.0 2019-10-30 09:00:00  344aa778-e436-419e-a9c6-9b8f37b7c1df\n",
       "\n",
       "[6737 rows x 8 columns]"
      ]
     },
     "execution_count": 16,
     "metadata": {},
     "output_type": "execute_result"
    }
   ],
   "source": [
    "#объединение двух таблиц \n",
    "df = pd.concat([data, first_date], 1)\n",
    "df"
   ]
  },
  {
   "cell_type": "code",
   "execution_count": 17,
   "metadata": {},
   "outputs": [
    {
     "data": {
      "text/html": [
       "<div>\n",
       "<style scoped>\n",
       "    .dataframe tbody tr th:only-of-type {\n",
       "        vertical-align: middle;\n",
       "    }\n",
       "\n",
       "    .dataframe tbody tr th {\n",
       "        vertical-align: top;\n",
       "    }\n",
       "\n",
       "    .dataframe thead th {\n",
       "        text-align: right;\n",
       "    }\n",
       "</style>\n",
       "<table border=\"1\" class=\"dataframe\">\n",
       "  <thead>\n",
       "    <tr style=\"text-align: right;\">\n",
       "      <th></th>\n",
       "      <th>date</th>\n",
       "      <th>customer_id</th>\n",
       "      <th>order_id</th>\n",
       "      <th>product</th>\n",
       "      <th>quantity</th>\n",
       "      <th>price</th>\n",
       "    </tr>\n",
       "  </thead>\n",
       "  <tbody>\n",
       "    <tr>\n",
       "      <td>0</td>\n",
       "      <td>2018-10-01 00:00:00</td>\n",
       "      <td>ee47d746-6d2f-4d3c-9622-c31412542920</td>\n",
       "      <td>68477</td>\n",
       "      <td>Комнатное растение в горшке Алое Вера, d12, h30</td>\n",
       "      <td>1</td>\n",
       "      <td>142.0</td>\n",
       "    </tr>\n",
       "    <tr>\n",
       "      <td>1</td>\n",
       "      <td>2018-10-01 00:00:00</td>\n",
       "      <td>ee47d746-6d2f-4d3c-9622-c31412542920</td>\n",
       "      <td>68477</td>\n",
       "      <td>Комнатное растение в горшке Кофе Арабика, d12, h25</td>\n",
       "      <td>1</td>\n",
       "      <td>194.0</td>\n",
       "    </tr>\n",
       "    <tr>\n",
       "      <td>2</td>\n",
       "      <td>2018-10-01 00:00:00</td>\n",
       "      <td>ee47d746-6d2f-4d3c-9622-c31412542920</td>\n",
       "      <td>68477</td>\n",
       "      <td>Радермахера d-12 см h-20 см</td>\n",
       "      <td>1</td>\n",
       "      <td>112.0</td>\n",
       "    </tr>\n",
       "    <tr>\n",
       "      <td>3</td>\n",
       "      <td>2018-10-01 00:00:00</td>\n",
       "      <td>ee47d746-6d2f-4d3c-9622-c31412542920</td>\n",
       "      <td>68477</td>\n",
       "      <td>Хризолидокарпус Лутесценс d-9 см</td>\n",
       "      <td>1</td>\n",
       "      <td>179.0</td>\n",
       "    </tr>\n",
       "    <tr>\n",
       "      <td>4</td>\n",
       "      <td>2018-10-01 00:00:00</td>\n",
       "      <td>ee47d746-6d2f-4d3c-9622-c31412542920</td>\n",
       "      <td>68477</td>\n",
       "      <td>Циперус Зумула d-12 см h-25 см</td>\n",
       "      <td>1</td>\n",
       "      <td>112.0</td>\n",
       "    </tr>\n",
       "    <tr>\n",
       "      <td>...</td>\n",
       "      <td>...</td>\n",
       "      <td>...</td>\n",
       "      <td>...</td>\n",
       "      <td>...</td>\n",
       "      <td>...</td>\n",
       "      <td>...</td>\n",
       "    </tr>\n",
       "    <tr>\n",
       "      <td>6732</td>\n",
       "      <td>2019-10-31 11:00:00</td>\n",
       "      <td>73d1cd35-5e5f-4629-8cf2-3fda829d4e58</td>\n",
       "      <td>73156</td>\n",
       "      <td>Таз пластмассовый 40,0 л пищевой овальный (Иж), 1404094</td>\n",
       "      <td>1</td>\n",
       "      <td>404.0</td>\n",
       "    </tr>\n",
       "    <tr>\n",
       "      <td>6733</td>\n",
       "      <td>2019-10-31 12:00:00</td>\n",
       "      <td>1f0a7f35-7459-4f23-b468-5e45bf481dd1</td>\n",
       "      <td>73158</td>\n",
       "      <td>Сумка-тележка 2-х колесная Gimi Argo синяя</td>\n",
       "      <td>1</td>\n",
       "      <td>1087.0</td>\n",
       "    </tr>\n",
       "    <tr>\n",
       "      <td>6734</td>\n",
       "      <td>2019-10-31 13:00:00</td>\n",
       "      <td>25df96a7-c453-4708-9cea-a3dfc7c342ea</td>\n",
       "      <td>73162</td>\n",
       "      <td>Герань домашняя (пеларгония зональная) цветущая D12, H25-30, малиновая с красным, полумахровая</td>\n",
       "      <td>1</td>\n",
       "      <td>157.0</td>\n",
       "    </tr>\n",
       "    <tr>\n",
       "      <td>6735</td>\n",
       "      <td>2019-10-31 14:00:00</td>\n",
       "      <td>73d1cd35-5e5f-4629-8cf2-3fda829d4e58</td>\n",
       "      <td>73164</td>\n",
       "      <td>Таз пластмассовый со стиральной доской (Иж), 1404021</td>\n",
       "      <td>1</td>\n",
       "      <td>397.0</td>\n",
       "    </tr>\n",
       "    <tr>\n",
       "      <td>6736</td>\n",
       "      <td>2019-10-31 16:00:00</td>\n",
       "      <td>344aa778-e436-419e-a9c6-9b8f37b7c1df</td>\n",
       "      <td>73137</td>\n",
       "      <td>Сумка-тележка 2-х колесная Gimi Argo синяя</td>\n",
       "      <td>1</td>\n",
       "      <td>1087.0</td>\n",
       "    </tr>\n",
       "  </tbody>\n",
       "</table>\n",
       "<p>6697 rows × 6 columns</p>\n",
       "</div>"
      ],
      "text/plain": [
       "                    date                           customer_id order_id                                                                                         product  quantity   price\n",
       "0    2018-10-01 00:00:00  ee47d746-6d2f-4d3c-9622-c31412542920    68477                                                 Комнатное растение в горшке Алое Вера, d12, h30         1   142.0\n",
       "1    2018-10-01 00:00:00  ee47d746-6d2f-4d3c-9622-c31412542920    68477                                              Комнатное растение в горшке Кофе Арабика, d12, h25         1   194.0\n",
       "2    2018-10-01 00:00:00  ee47d746-6d2f-4d3c-9622-c31412542920    68477                                                                     Радермахера d-12 см h-20 см         1   112.0\n",
       "3    2018-10-01 00:00:00  ee47d746-6d2f-4d3c-9622-c31412542920    68477                                                                Хризолидокарпус Лутесценс d-9 см         1   179.0\n",
       "4    2018-10-01 00:00:00  ee47d746-6d2f-4d3c-9622-c31412542920    68477                                                                  Циперус Зумула d-12 см h-25 см         1   112.0\n",
       "...                  ...                                   ...      ...                                                                                             ...       ...     ...\n",
       "6732 2019-10-31 11:00:00  73d1cd35-5e5f-4629-8cf2-3fda829d4e58    73156                                         Таз пластмассовый 40,0 л пищевой овальный (Иж), 1404094         1   404.0\n",
       "6733 2019-10-31 12:00:00  1f0a7f35-7459-4f23-b468-5e45bf481dd1    73158                                                      Сумка-тележка 2-х колесная Gimi Argo синяя         1  1087.0\n",
       "6734 2019-10-31 13:00:00  25df96a7-c453-4708-9cea-a3dfc7c342ea    73162  Герань домашняя (пеларгония зональная) цветущая D12, H25-30, малиновая с красным, полумахровая         1   157.0\n",
       "6735 2019-10-31 14:00:00  73d1cd35-5e5f-4629-8cf2-3fda829d4e58    73164                                            Таз пластмассовый со стиральной доской (Иж), 1404021         1   397.0\n",
       "6736 2019-10-31 16:00:00  344aa778-e436-419e-a9c6-9b8f37b7c1df    73137                                                      Сумка-тележка 2-х колесная Gimi Argo синяя         1  1087.0\n",
       "\n",
       "[6697 rows x 6 columns]"
      ]
     },
     "execution_count": 17,
     "metadata": {},
     "output_type": "execute_result"
    }
   ],
   "source": [
    "#создание нового датафрейма без неявных дубликатов\n",
    "ecom = df.query('customer_id == First_customer_id')\n",
    "ecom = ecom.drop(columns = ['First_date','First_customer_id'], axis = 1)\n",
    "ecom"
   ]
  },
  {
   "cell_type": "code",
   "execution_count": 18,
   "metadata": {},
   "outputs": [
    {
     "data": {
      "text/html": [
       "<div>\n",
       "<style scoped>\n",
       "    .dataframe tbody tr th:only-of-type {\n",
       "        vertical-align: middle;\n",
       "    }\n",
       "\n",
       "    .dataframe tbody tr th {\n",
       "        vertical-align: top;\n",
       "    }\n",
       "\n",
       "    .dataframe thead th {\n",
       "        text-align: right;\n",
       "    }\n",
       "</style>\n",
       "<table border=\"1\" class=\"dataframe\">\n",
       "  <thead>\n",
       "    <tr style=\"text-align: right;\">\n",
       "      <th></th>\n",
       "      <th>order_id</th>\n",
       "      <th>customer_id</th>\n",
       "    </tr>\n",
       "  </thead>\n",
       "  <tbody>\n",
       "    <tr>\n",
       "      <td>0</td>\n",
       "      <td>12624</td>\n",
       "      <td>1</td>\n",
       "    </tr>\n",
       "    <tr>\n",
       "      <td>1859</td>\n",
       "      <td>71347</td>\n",
       "      <td>1</td>\n",
       "    </tr>\n",
       "    <tr>\n",
       "      <td>1851</td>\n",
       "      <td>71330</td>\n",
       "      <td>1</td>\n",
       "    </tr>\n",
       "    <tr>\n",
       "      <td>1852</td>\n",
       "      <td>71331</td>\n",
       "      <td>1</td>\n",
       "    </tr>\n",
       "    <tr>\n",
       "      <td>1853</td>\n",
       "      <td>71333</td>\n",
       "      <td>1</td>\n",
       "    </tr>\n",
       "    <tr>\n",
       "      <td>...</td>\n",
       "      <td>...</td>\n",
       "      <td>...</td>\n",
       "    </tr>\n",
       "    <tr>\n",
       "      <td>929</td>\n",
       "      <td>69524</td>\n",
       "      <td>1</td>\n",
       "    </tr>\n",
       "    <tr>\n",
       "      <td>930</td>\n",
       "      <td>69525</td>\n",
       "      <td>1</td>\n",
       "    </tr>\n",
       "    <tr>\n",
       "      <td>931</td>\n",
       "      <td>69527</td>\n",
       "      <td>1</td>\n",
       "    </tr>\n",
       "    <tr>\n",
       "      <td>932</td>\n",
       "      <td>69528</td>\n",
       "      <td>1</td>\n",
       "    </tr>\n",
       "    <tr>\n",
       "      <td>2783</td>\n",
       "      <td>73164</td>\n",
       "      <td>1</td>\n",
       "    </tr>\n",
       "  </tbody>\n",
       "</table>\n",
       "<p>2784 rows × 2 columns</p>\n",
       "</div>"
      ],
      "text/plain": [
       "     order_id  customer_id\n",
       "0       12624            1\n",
       "1859    71347            1\n",
       "1851    71330            1\n",
       "1852    71331            1\n",
       "1853    71333            1\n",
       "...       ...          ...\n",
       "929     69524            1\n",
       "930     69525            1\n",
       "931     69527            1\n",
       "932     69528            1\n",
       "2783    73164            1\n",
       "\n",
       "[2784 rows x 2 columns]"
      ]
     },
     "execution_count": 18,
     "metadata": {},
     "output_type": "execute_result"
    }
   ],
   "source": [
    "#проверка правильности произведенных преобразований\n",
    "data_pivot_2 = ecom.groupby(['order_id']).agg({'customer_id':'nunique'}).reset_index()\n",
    "duplicats_2 = data_pivot_2.sort_values(by='customer_id', ascending = False)\n",
    "duplicats_2"
   ]
  },
  {
   "cell_type": "markdown",
   "metadata": {},
   "source": [
    "### Вывод\n",
    "\n",
    "Столбец с данными об идентификаторе заказа переведен из числового типа данных в строковый.\n",
    "\n",
    "Я исходила из предположения, что заказ, совершенный раньше остальных точно записался корректно. То есть если одному order_id соответсвуют несколько date, то я оставляла строки с самой ранней датой, а остальные считала за неявные дубликаты.\n",
    "\n",
    "Выявленные неявные дубликаты были удалены следующим образом:\n",
    "1. создан датафрейм с данными о дате, когда покупатель совершил первый заказ;\n",
    "2. указанный датафрейм был объединен с исходным датафреймом;\n",
    "3. из объединенного датафрейма получила срез данных, где дата первого заказа совпадает с датой заказа, чтобы отбросить дубликаты;\n",
    "4. удалила из объединенного датафрейма ненужные для дальнейшего анализа колонки;\n",
    "5. проверила правильность произведенных преобразований, аналогично проверке на неявные дубликаты.\n",
    "\n",
    "В результате преобразований удалось избавиться от 40 неявных дубликатов.\n",
    "\n",
    "Переходим к исследовательскому анализу данных."
   ]
  },
  {
   "cell_type": "markdown",
   "metadata": {},
   "source": [
    "## Шаг 3. Исследовательский анализ данных"
   ]
  },
  {
   "cell_type": "markdown",
   "metadata": {},
   "source": [
    "### 3.1. Описательные статистики"
   ]
  },
  {
   "cell_type": "code",
   "execution_count": 19,
   "metadata": {},
   "outputs": [],
   "source": [
    "#выделим данные о месяце и дне неделе покупки в отдельный столбец для дальнейшего анализа\n",
    "ecom['month'] = ecom['date'].astype('datetime64[M]')\n",
    "#расчет стоимоти заказа, умножением количества товаров в заказе на их цену\n",
    "ecom['price_total'] = ecom['quantity'] * ecom['price']"
   ]
  },
  {
   "cell_type": "code",
   "execution_count": 20,
   "metadata": {},
   "outputs": [
    {
     "data": {
      "text/html": [
       "<div>\n",
       "<style scoped>\n",
       "    .dataframe tbody tr th:only-of-type {\n",
       "        vertical-align: middle;\n",
       "    }\n",
       "\n",
       "    .dataframe tbody tr th {\n",
       "        vertical-align: top;\n",
       "    }\n",
       "\n",
       "    .dataframe thead th {\n",
       "        text-align: right;\n",
       "    }\n",
       "</style>\n",
       "<table border=\"1\" class=\"dataframe\">\n",
       "  <thead>\n",
       "    <tr style=\"text-align: right;\">\n",
       "      <th></th>\n",
       "      <th>customer_id</th>\n",
       "      <th>orders</th>\n",
       "      <th>total_revenue</th>\n",
       "      <th>avg_order_price</th>\n",
       "      <th>avg_price_of_product</th>\n",
       "      <th>avg_products_in_order</th>\n",
       "      <th>avg_goods_in_order</th>\n",
       "    </tr>\n",
       "  </thead>\n",
       "  <tbody>\n",
       "    <tr>\n",
       "      <td>0</td>\n",
       "      <td>000d6849-084e-4d9f-ac03-37174eaf60c4</td>\n",
       "      <td>1</td>\n",
       "      <td>555.0</td>\n",
       "      <td>555.0</td>\n",
       "      <td>138.75</td>\n",
       "      <td>4.0</td>\n",
       "      <td>4.0</td>\n",
       "    </tr>\n",
       "    <tr>\n",
       "      <td>1</td>\n",
       "      <td>001cee7f-0b29-4716-b202-0042213ab038</td>\n",
       "      <td>1</td>\n",
       "      <td>442.0</td>\n",
       "      <td>442.0</td>\n",
       "      <td>442.00</td>\n",
       "      <td>1.0</td>\n",
       "      <td>1.0</td>\n",
       "    </tr>\n",
       "    <tr>\n",
       "      <td>2</td>\n",
       "      <td>00299f34-5385-4d13-9aea-c80b81658e1b</td>\n",
       "      <td>1</td>\n",
       "      <td>914.0</td>\n",
       "      <td>914.0</td>\n",
       "      <td>457.00</td>\n",
       "      <td>1.0</td>\n",
       "      <td>2.0</td>\n",
       "    </tr>\n",
       "    <tr>\n",
       "      <td>3</td>\n",
       "      <td>002d4d3a-4a59-406b-86ec-c3314357e498</td>\n",
       "      <td>1</td>\n",
       "      <td>1649.0</td>\n",
       "      <td>1649.0</td>\n",
       "      <td>1649.00</td>\n",
       "      <td>1.0</td>\n",
       "      <td>1.0</td>\n",
       "    </tr>\n",
       "    <tr>\n",
       "      <td>4</td>\n",
       "      <td>003bbd39-0000-41ff-b7f9-2ddaec152037</td>\n",
       "      <td>1</td>\n",
       "      <td>2324.0</td>\n",
       "      <td>2324.0</td>\n",
       "      <td>1162.00</td>\n",
       "      <td>1.0</td>\n",
       "      <td>2.0</td>\n",
       "    </tr>\n",
       "    <tr>\n",
       "      <td>...</td>\n",
       "      <td>...</td>\n",
       "      <td>...</td>\n",
       "      <td>...</td>\n",
       "      <td>...</td>\n",
       "      <td>...</td>\n",
       "      <td>...</td>\n",
       "      <td>...</td>\n",
       "    </tr>\n",
       "    <tr>\n",
       "      <td>2415</td>\n",
       "      <td>ff601403-b094-4b86-9ac6-264d725b9277</td>\n",
       "      <td>1</td>\n",
       "      <td>1649.0</td>\n",
       "      <td>1649.0</td>\n",
       "      <td>1649.00</td>\n",
       "      <td>1.0</td>\n",
       "      <td>1.0</td>\n",
       "    </tr>\n",
       "    <tr>\n",
       "      <td>2416</td>\n",
       "      <td>ffaeab76-3a8d-49ee-860f-17273b2fc8a2</td>\n",
       "      <td>1</td>\n",
       "      <td>1191.0</td>\n",
       "      <td>1191.0</td>\n",
       "      <td>397.00</td>\n",
       "      <td>3.0</td>\n",
       "      <td>3.0</td>\n",
       "    </tr>\n",
       "    <tr>\n",
       "      <td>2417</td>\n",
       "      <td>ffb5976a-7a4d-460b-95c4-5ffaba31cb24</td>\n",
       "      <td>1</td>\n",
       "      <td>778.0</td>\n",
       "      <td>778.0</td>\n",
       "      <td>389.00</td>\n",
       "      <td>2.0</td>\n",
       "      <td>2.0</td>\n",
       "    </tr>\n",
       "    <tr>\n",
       "      <td>2418</td>\n",
       "      <td>ffb80538-3fda-4351-8ea9-9d2bec58bb07</td>\n",
       "      <td>1</td>\n",
       "      <td>974.0</td>\n",
       "      <td>974.0</td>\n",
       "      <td>974.00</td>\n",
       "      <td>1.0</td>\n",
       "      <td>1.0</td>\n",
       "    </tr>\n",
       "    <tr>\n",
       "      <td>2419</td>\n",
       "      <td>ffe82299-3f5b-4214-87fe-3d36ecccfac3</td>\n",
       "      <td>1</td>\n",
       "      <td>577.0</td>\n",
       "      <td>577.0</td>\n",
       "      <td>577.00</td>\n",
       "      <td>1.0</td>\n",
       "      <td>1.0</td>\n",
       "    </tr>\n",
       "  </tbody>\n",
       "</table>\n",
       "<p>2420 rows × 7 columns</p>\n",
       "</div>"
      ],
      "text/plain": [
       "                               customer_id  orders  total_revenue  avg_order_price  avg_price_of_product  avg_products_in_order  avg_goods_in_order\n",
       "0     000d6849-084e-4d9f-ac03-37174eaf60c4       1          555.0            555.0                138.75                    4.0                 4.0\n",
       "1     001cee7f-0b29-4716-b202-0042213ab038       1          442.0            442.0                442.00                    1.0                 1.0\n",
       "2     00299f34-5385-4d13-9aea-c80b81658e1b       1          914.0            914.0                457.00                    1.0                 2.0\n",
       "3     002d4d3a-4a59-406b-86ec-c3314357e498       1         1649.0           1649.0               1649.00                    1.0                 1.0\n",
       "4     003bbd39-0000-41ff-b7f9-2ddaec152037       1         2324.0           2324.0               1162.00                    1.0                 2.0\n",
       "...                                    ...     ...            ...              ...                   ...                    ...                 ...\n",
       "2415  ff601403-b094-4b86-9ac6-264d725b9277       1         1649.0           1649.0               1649.00                    1.0                 1.0\n",
       "2416  ffaeab76-3a8d-49ee-860f-17273b2fc8a2       1         1191.0           1191.0                397.00                    3.0                 3.0\n",
       "2417  ffb5976a-7a4d-460b-95c4-5ffaba31cb24       1          778.0            778.0                389.00                    2.0                 2.0\n",
       "2418  ffb80538-3fda-4351-8ea9-9d2bec58bb07       1          974.0            974.0                974.00                    1.0                 1.0\n",
       "2419  ffe82299-3f5b-4214-87fe-3d36ecccfac3       1          577.0            577.0                577.00                    1.0                 1.0\n",
       "\n",
       "[2420 rows x 7 columns]"
      ]
     },
     "execution_count": 20,
     "metadata": {},
     "output_type": "execute_result"
    }
   ],
   "source": [
    "# сгруппируем датасет по заказам\n",
    "grouped_by_orders = ecom.groupby(['customer_id', 'order_id']).agg({'price_total':'sum', 'price':'mean', 'product':'count', 'quantity':'sum', 'date':'first'}).reset_index()\n",
    "grouped_by_orders = grouped_by_orders.rename(columns={'price_total':'order_price', 'price':'avg_price_of_product', 'product':'products_in_order', 'quantity':'goods_in_order'})\n",
    "\n",
    "# сгруппируем датасет по пользователям  \n",
    "grouped_by_customers = grouped_by_orders.groupby('customer_id').agg({'order_id':'nunique', \n",
    "                                                                     'order_price':['sum', 'mean'], \n",
    "                                                                     'avg_price_of_product':'mean', \n",
    "                                                                     'products_in_order':'mean', \n",
    "                                                                     'goods_in_order':'mean'})\n",
    "grouped_by_customers.columns = ['orders', 'total_revenue', 'avg_order_price', 'avg_price_of_product', 'avg_products_in_order', 'avg_goods_in_order']\n",
    "grouped_by_customers= grouped_by_customers.reset_index()\n",
    "grouped_by_customers"
   ]
  },
  {
   "cell_type": "code",
   "execution_count": 21,
   "metadata": {},
   "outputs": [
    {
     "data": {
      "text/html": [
       "<div>\n",
       "<style scoped>\n",
       "    .dataframe tbody tr th:only-of-type {\n",
       "        vertical-align: middle;\n",
       "    }\n",
       "\n",
       "    .dataframe tbody tr th {\n",
       "        vertical-align: top;\n",
       "    }\n",
       "\n",
       "    .dataframe thead th {\n",
       "        text-align: right;\n",
       "    }\n",
       "</style>\n",
       "<table border=\"1\" class=\"dataframe\">\n",
       "  <thead>\n",
       "    <tr style=\"text-align: right;\">\n",
       "      <th></th>\n",
       "      <th>orders</th>\n",
       "      <th>total_revenue</th>\n",
       "      <th>avg_order_price</th>\n",
       "      <th>avg_price_of_product</th>\n",
       "      <th>avg_products_in_order</th>\n",
       "      <th>avg_goods_in_order</th>\n",
       "    </tr>\n",
       "  </thead>\n",
       "  <tbody>\n",
       "    <tr>\n",
       "      <td>count</td>\n",
       "      <td>2420.000000</td>\n",
       "      <td>2420.000000</td>\n",
       "      <td>2420.000000</td>\n",
       "      <td>2420.000000</td>\n",
       "      <td>2420.000000</td>\n",
       "      <td>2420.000000</td>\n",
       "    </tr>\n",
       "    <tr>\n",
       "      <td>mean</td>\n",
       "      <td>1.150413</td>\n",
       "      <td>1986.586777</td>\n",
       "      <td>1782.062873</td>\n",
       "      <td>777.058562</td>\n",
       "      <td>2.502004</td>\n",
       "      <td>6.177936</td>\n",
       "    </tr>\n",
       "    <tr>\n",
       "      <td>std</td>\n",
       "      <td>2.672046</td>\n",
       "      <td>14720.005594</td>\n",
       "      <td>14207.720300</td>\n",
       "      <td>1156.370311</td>\n",
       "      <td>18.911474</td>\n",
       "      <td>33.594904</td>\n",
       "    </tr>\n",
       "    <tr>\n",
       "      <td>min</td>\n",
       "      <td>1.000000</td>\n",
       "      <td>14.000000</td>\n",
       "      <td>14.000000</td>\n",
       "      <td>14.000000</td>\n",
       "      <td>1.000000</td>\n",
       "      <td>1.000000</td>\n",
       "    </tr>\n",
       "    <tr>\n",
       "      <td>25%</td>\n",
       "      <td>1.000000</td>\n",
       "      <td>329.000000</td>\n",
       "      <td>310.750000</td>\n",
       "      <td>134.000000</td>\n",
       "      <td>1.000000</td>\n",
       "      <td>1.000000</td>\n",
       "    </tr>\n",
       "    <tr>\n",
       "      <td>50%</td>\n",
       "      <td>1.000000</td>\n",
       "      <td>742.000000</td>\n",
       "      <td>731.000000</td>\n",
       "      <td>344.000000</td>\n",
       "      <td>1.000000</td>\n",
       "      <td>1.000000</td>\n",
       "    </tr>\n",
       "    <tr>\n",
       "      <td>75%</td>\n",
       "      <td>1.000000</td>\n",
       "      <td>1649.000000</td>\n",
       "      <td>1611.625000</td>\n",
       "      <td>974.000000</td>\n",
       "      <td>1.000000</td>\n",
       "      <td>3.000000</td>\n",
       "    </tr>\n",
       "    <tr>\n",
       "      <td>max</td>\n",
       "      <td>126.000000</td>\n",
       "      <td>675000.000000</td>\n",
       "      <td>675000.000000</td>\n",
       "      <td>14917.000000</td>\n",
       "      <td>888.000000</td>\n",
       "      <td>1000.000000</td>\n",
       "    </tr>\n",
       "  </tbody>\n",
       "</table>\n",
       "</div>"
      ],
      "text/plain": [
       "            orders  total_revenue  avg_order_price  avg_price_of_product  avg_products_in_order  avg_goods_in_order\n",
       "count  2420.000000    2420.000000      2420.000000           2420.000000            2420.000000         2420.000000\n",
       "mean      1.150413    1986.586777      1782.062873            777.058562               2.502004            6.177936\n",
       "std       2.672046   14720.005594     14207.720300           1156.370311              18.911474           33.594904\n",
       "min       1.000000      14.000000        14.000000             14.000000               1.000000            1.000000\n",
       "25%       1.000000     329.000000       310.750000            134.000000               1.000000            1.000000\n",
       "50%       1.000000     742.000000       731.000000            344.000000               1.000000            1.000000\n",
       "75%       1.000000    1649.000000      1611.625000            974.000000               1.000000            3.000000\n",
       "max     126.000000  675000.000000    675000.000000          14917.000000             888.000000         1000.000000"
      ]
     },
     "execution_count": 21,
     "metadata": {},
     "output_type": "execute_result"
    }
   ],
   "source": [
    "#вывод на экран базовых описательных статистик\n",
    "grouped_by_customers.describe()"
   ]
  },
  {
   "cell_type": "markdown",
   "metadata": {},
   "source": [
    "На основании полученных статистик можно сказать следующее:\n",
    "* в среднем один пользователь сделал 1,15 заказ +/- 2.67;\n",
    "* выручка с одного пользователя составляет около 1986 у.е.;\n",
    "* в среднем в одном заказе 2,5 единицы товара;\n",
    "* в среднем в заказе 6 единиц разных товаров;\n",
    "* средняя цена одного товара в заказе 777 у.е.;\n",
    "* средняя стоимость заказа одного товара 1782 у.е.;\n",
    "* чаще в 1 одном заказе один товар встречается 1 раз, однако в каком-то из заказов присутствовало 1000 единиц товара, что вероятно можно отнести к выбросу;\n",
    "* максимальная цена одного товара 14 тысяч у.е., что тоже похоже на выброс, т.к. 75% квантиль 974 у.е.;\n",
    "* минимальная цена заказа 14 у.е., максимальная - 675 000 у.е."
   ]
  },
  {
   "cell_type": "markdown",
   "metadata": {},
   "source": [
    "### 3.2. Гистограммы"
   ]
  },
  {
   "cell_type": "code",
   "execution_count": 22,
   "metadata": {},
   "outputs": [
    {
     "data": {
      "image/png": "[encoded data removed]",
      "text/plain": [
       "<Figure size 720x720 with 6 Axes>"
      ]
     },
     "metadata": {
      "needs_background": "light"
     },
     "output_type": "display_data"
    }
   ],
   "source": [
    "#построение гистограм для описательных статистик\n",
    "grouped_by_customers.hist(bins=30, figsize=(10,10))\n",
    "plt.show()"
   ]
  },
  {
   "cell_type": "markdown",
   "metadata": {},
   "source": [
    "Гистограммы соотносятся с данными описательных статистик. Большинство товаров не превышает по стоимости 1000 рублей, со стоимостью заказов аналогично, самое частое количество товаров в заказе равно 1."
   ]
  },
  {
   "cell_type": "code",
   "execution_count": 23,
   "metadata": {},
   "outputs": [
    {
     "data": {
      "text/html": [
       "<div>\n",
       "<style scoped>\n",
       "    .dataframe tbody tr th:only-of-type {\n",
       "        vertical-align: middle;\n",
       "    }\n",
       "\n",
       "    .dataframe tbody tr th {\n",
       "        vertical-align: top;\n",
       "    }\n",
       "\n",
       "    .dataframe thead th {\n",
       "        text-align: right;\n",
       "    }\n",
       "</style>\n",
       "<table border=\"1\" class=\"dataframe\">\n",
       "  <thead>\n",
       "    <tr style=\"text-align: right;\">\n",
       "      <th></th>\n",
       "      <th>date</th>\n",
       "      <th>customer_id</th>\n",
       "      <th>order_id</th>\n",
       "      <th>product</th>\n",
       "      <th>quantity</th>\n",
       "      <th>price</th>\n",
       "      <th>month</th>\n",
       "      <th>price_total</th>\n",
       "    </tr>\n",
       "  </thead>\n",
       "  <tbody>\n",
       "    <tr>\n",
       "      <td>5456</td>\n",
       "      <td>2019-06-18 15:00:00</td>\n",
       "      <td>312e9a3e-5fca-43ff-a6a1-892d2b2d5ba6</td>\n",
       "      <td>71743</td>\n",
       "      <td>Вантуз с деревянной ручкой d14 см красный, Burstenmann, 0522/0000</td>\n",
       "      <td>1000</td>\n",
       "      <td>675.0</td>\n",
       "      <td>2019-06-01</td>\n",
       "      <td>675000.0</td>\n",
       "    </tr>\n",
       "  </tbody>\n",
       "</table>\n",
       "</div>"
      ],
      "text/plain": [
       "                    date                           customer_id order_id                                                            product  quantity  price      month  price_total\n",
       "5456 2019-06-18 15:00:00  312e9a3e-5fca-43ff-a6a1-892d2b2d5ba6    71743  Вантуз с деревянной ручкой d14 см красный, Burstenmann, 0522/0000      1000  675.0 2019-06-01     675000.0"
      ]
     },
     "execution_count": 23,
     "metadata": {},
     "output_type": "execute_result"
    }
   ],
   "source": [
    "#рассмотрим отдельно строку с максимальным количеством\n",
    "ecom[ecom['quantity'] == 1000]"
   ]
  },
  {
   "cell_type": "code",
   "execution_count": 24,
   "metadata": {},
   "outputs": [],
   "source": [
    "#новый датасет без вантузов\n",
    "ecom = ecom.query('price_total != 675000')\n",
    "grouped_by_customers = grouped_by_customers.query('total_revenue != 675000')"
   ]
  },
  {
   "cell_type": "code",
   "execution_count": 25,
   "metadata": {},
   "outputs": [
    {
     "data": {
      "text/html": [
       "<div>\n",
       "<style scoped>\n",
       "    .dataframe tbody tr th:only-of-type {\n",
       "        vertical-align: middle;\n",
       "    }\n",
       "\n",
       "    .dataframe tbody tr th {\n",
       "        vertical-align: top;\n",
       "    }\n",
       "\n",
       "    .dataframe thead th {\n",
       "        text-align: right;\n",
       "    }\n",
       "</style>\n",
       "<table border=\"1\" class=\"dataframe\">\n",
       "  <thead>\n",
       "    <tr style=\"text-align: right;\">\n",
       "      <th></th>\n",
       "      <th>date</th>\n",
       "      <th>customer_id</th>\n",
       "      <th>order_id</th>\n",
       "      <th>product</th>\n",
       "      <th>quantity</th>\n",
       "      <th>price</th>\n",
       "      <th>month</th>\n",
       "      <th>price_total</th>\n",
       "    </tr>\n",
       "  </thead>\n",
       "  <tbody>\n",
       "    <tr>\n",
       "      <td>5992</td>\n",
       "      <td>2019-07-29 17:00:00</td>\n",
       "      <td>0d87f4ae-465a-4fac-81e6-5d629761783e</td>\n",
       "      <td>72139</td>\n",
       "      <td>Сушилка уличная Leifheit 85210 LINOMATIC V 400 40 м 175х237х237 см зеленая</td>\n",
       "      <td>1</td>\n",
       "      <td>14917.0</td>\n",
       "      <td>2019-07-01</td>\n",
       "      <td>14917.0</td>\n",
       "    </tr>\n",
       "  </tbody>\n",
       "</table>\n",
       "</div>"
      ],
      "text/plain": [
       "                    date                           customer_id order_id                                                                     product  quantity    price      month  price_total\n",
       "5992 2019-07-29 17:00:00  0d87f4ae-465a-4fac-81e6-5d629761783e    72139  Сушилка уличная Leifheit 85210 LINOMATIC V 400 40 м 175х237х237 см зеленая         1  14917.0 2019-07-01      14917.0"
      ]
     },
     "execution_count": 25,
     "metadata": {},
     "output_type": "execute_result"
    }
   ],
   "source": [
    "#рассмотрим отдельно строку с максимальной ценой\n",
    "ecom[ecom['price'] == 14917]"
   ]
  },
  {
   "cell_type": "markdown",
   "metadata": {},
   "source": [
    "Указанные значения очень похожи на выбросы: нереалистичен заказ 1000 вантузов. Поэтому удалила их из датасета.\n",
    "\n",
    "Уличные сушилки по данным интернет-магазинов стоят около 15 000 рублей (сслыка на интернет-магазин Leifheit: https://myleifheit.ru/fresh-laundry/drying/street/82001/) и дороже (от 21 000 рублей по данным: https://www.brabantia-shop.ru/collection/ulichnye-sushilki). "
   ]
  },
  {
   "cell_type": "markdown",
   "metadata": {},
   "source": [
    "### 3.3. Динамика стоимости заказов"
   ]
  },
  {
   "cell_type": "code",
   "execution_count": 26,
   "metadata": {},
   "outputs": [
    {
     "data": {
      "text/html": [
       "<div>\n",
       "<style scoped>\n",
       "    .dataframe tbody tr th:only-of-type {\n",
       "        vertical-align: middle;\n",
       "    }\n",
       "\n",
       "    .dataframe tbody tr th {\n",
       "        vertical-align: top;\n",
       "    }\n",
       "\n",
       "    .dataframe thead th {\n",
       "        text-align: right;\n",
       "    }\n",
       "</style>\n",
       "<table border=\"1\" class=\"dataframe\">\n",
       "  <thead>\n",
       "    <tr style=\"text-align: right;\">\n",
       "      <th></th>\n",
       "      <th>month</th>\n",
       "      <th>customer_id</th>\n",
       "      <th>price_total</th>\n",
       "    </tr>\n",
       "  </thead>\n",
       "  <tbody>\n",
       "    <tr>\n",
       "      <td>0</td>\n",
       "      <td>2018-10-01</td>\n",
       "      <td>180</td>\n",
       "      <td>420380.0</td>\n",
       "    </tr>\n",
       "    <tr>\n",
       "      <td>1</td>\n",
       "      <td>2018-11-01</td>\n",
       "      <td>179</td>\n",
       "      <td>371180.0</td>\n",
       "    </tr>\n",
       "    <tr>\n",
       "      <td>2</td>\n",
       "      <td>2018-12-01</td>\n",
       "      <td>235</td>\n",
       "      <td>399016.0</td>\n",
       "    </tr>\n",
       "    <tr>\n",
       "      <td>3</td>\n",
       "      <td>2019-01-01</td>\n",
       "      <td>155</td>\n",
       "      <td>279984.0</td>\n",
       "    </tr>\n",
       "    <tr>\n",
       "      <td>4</td>\n",
       "      <td>2019-02-01</td>\n",
       "      <td>247</td>\n",
       "      <td>343841.0</td>\n",
       "    </tr>\n",
       "    <tr>\n",
       "      <td>5</td>\n",
       "      <td>2019-03-01</td>\n",
       "      <td>234</td>\n",
       "      <td>301166.0</td>\n",
       "    </tr>\n",
       "    <tr>\n",
       "      <td>6</td>\n",
       "      <td>2019-04-01</td>\n",
       "      <td>240</td>\n",
       "      <td>381346.0</td>\n",
       "    </tr>\n",
       "    <tr>\n",
       "      <td>7</td>\n",
       "      <td>2019-05-01</td>\n",
       "      <td>170</td>\n",
       "      <td>304678.0</td>\n",
       "    </tr>\n",
       "    <tr>\n",
       "      <td>8</td>\n",
       "      <td>2019-06-01</td>\n",
       "      <td>155</td>\n",
       "      <td>409986.0</td>\n",
       "    </tr>\n",
       "    <tr>\n",
       "      <td>9</td>\n",
       "      <td>2019-07-01</td>\n",
       "      <td>187</td>\n",
       "      <td>276547.0</td>\n",
       "    </tr>\n",
       "    <tr>\n",
       "      <td>10</td>\n",
       "      <td>2019-08-01</td>\n",
       "      <td>167</td>\n",
       "      <td>197512.0</td>\n",
       "    </tr>\n",
       "    <tr>\n",
       "      <td>11</td>\n",
       "      <td>2019-09-01</td>\n",
       "      <td>174</td>\n",
       "      <td>204464.0</td>\n",
       "    </tr>\n",
       "    <tr>\n",
       "      <td>12</td>\n",
       "      <td>2019-10-01</td>\n",
       "      <td>171</td>\n",
       "      <td>242440.0</td>\n",
       "    </tr>\n",
       "  </tbody>\n",
       "</table>\n",
       "</div>"
      ],
      "text/plain": [
       "        month  customer_id  price_total\n",
       "0  2018-10-01          180     420380.0\n",
       "1  2018-11-01          179     371180.0\n",
       "2  2018-12-01          235     399016.0\n",
       "3  2019-01-01          155     279984.0\n",
       "4  2019-02-01          247     343841.0\n",
       "5  2019-03-01          234     301166.0\n",
       "6  2019-04-01          240     381346.0\n",
       "7  2019-05-01          170     304678.0\n",
       "8  2019-06-01          155     409986.0\n",
       "9  2019-07-01          187     276547.0\n",
       "10 2019-08-01          167     197512.0\n",
       "11 2019-09-01          174     204464.0\n",
       "12 2019-10-01          171     242440.0"
      ]
     },
     "execution_count": 26,
     "metadata": {},
     "output_type": "execute_result"
    }
   ],
   "source": [
    "#выделим в сводную таблицу данные о суммарных покупках за каждый месяц и количестве пользователей\n",
    "purchase_month = ecom.groupby('month').agg({'customer_id':'nunique', 'price_total':'sum'}).reset_index()\n",
    "purchase_month"
   ]
  },
  {
   "cell_type": "code",
   "execution_count": 27,
   "metadata": {},
   "outputs": [
    {
     "data": {
      "image/png": "[encoded data removed]",
      "text/plain": [
       "<Figure size 1080x576 with 1 Axes>"
      ]
     },
     "metadata": {
      "needs_background": "light"
     },
     "output_type": "display_data"
    }
   ],
   "source": [
    "#график\n",
    "plt.figure(figsize=(15,8))\n",
    "sns.set_style('darkgrid')\n",
    "sns.lineplot(x = 'month', y = 'price_total', data = purchase_month)\n",
    "plt.title('Динамика суммарной стоимости заказов по месяцам', fontsize=16)\n",
    "plt.xlabel('Месяц')\n",
    "plt.ylabel('Суммарная стоимость заказов')\n",
    "plt.show()"
   ]
  },
  {
   "cell_type": "markdown",
   "metadata": {},
   "source": [
    "В целом стоимость заказов равномерна в течение рассматриваемого периода. Стоимость заказов в 2019 году ниже, чем в октябре-декабре 2018 года. Заказы по стоимости не превышают 420 000 у.е. Отмечается максимальное значение продаж в июне. В августе продажи минимальны - меньше 200 000 у.е. "
   ]
  },
  {
   "cell_type": "markdown",
   "metadata": {},
   "source": [
    "### 3.4. Динамика количества пользователей"
   ]
  },
  {
   "cell_type": "code",
   "execution_count": 28,
   "metadata": {},
   "outputs": [
    {
     "data": {
      "text/html": [
       "<div>\n",
       "<style scoped>\n",
       "    .dataframe tbody tr th:only-of-type {\n",
       "        vertical-align: middle;\n",
       "    }\n",
       "\n",
       "    .dataframe tbody tr th {\n",
       "        vertical-align: top;\n",
       "    }\n",
       "\n",
       "    .dataframe thead th {\n",
       "        text-align: right;\n",
       "    }\n",
       "</style>\n",
       "<table border=\"1\" class=\"dataframe\">\n",
       "  <thead>\n",
       "    <tr style=\"text-align: right;\">\n",
       "      <th></th>\n",
       "      <th>month</th>\n",
       "      <th>customer_id</th>\n",
       "      <th>price_total</th>\n",
       "    </tr>\n",
       "  </thead>\n",
       "  <tbody>\n",
       "    <tr>\n",
       "      <td>0</td>\n",
       "      <td>2018-10-01</td>\n",
       "      <td>180</td>\n",
       "      <td>420380.0</td>\n",
       "    </tr>\n",
       "    <tr>\n",
       "      <td>1</td>\n",
       "      <td>2018-11-01</td>\n",
       "      <td>179</td>\n",
       "      <td>371180.0</td>\n",
       "    </tr>\n",
       "    <tr>\n",
       "      <td>2</td>\n",
       "      <td>2018-12-01</td>\n",
       "      <td>235</td>\n",
       "      <td>399016.0</td>\n",
       "    </tr>\n",
       "    <tr>\n",
       "      <td>3</td>\n",
       "      <td>2019-01-01</td>\n",
       "      <td>155</td>\n",
       "      <td>279984.0</td>\n",
       "    </tr>\n",
       "    <tr>\n",
       "      <td>4</td>\n",
       "      <td>2019-02-01</td>\n",
       "      <td>247</td>\n",
       "      <td>343841.0</td>\n",
       "    </tr>\n",
       "    <tr>\n",
       "      <td>5</td>\n",
       "      <td>2019-03-01</td>\n",
       "      <td>234</td>\n",
       "      <td>301166.0</td>\n",
       "    </tr>\n",
       "    <tr>\n",
       "      <td>6</td>\n",
       "      <td>2019-04-01</td>\n",
       "      <td>240</td>\n",
       "      <td>381346.0</td>\n",
       "    </tr>\n",
       "    <tr>\n",
       "      <td>7</td>\n",
       "      <td>2019-05-01</td>\n",
       "      <td>170</td>\n",
       "      <td>304678.0</td>\n",
       "    </tr>\n",
       "    <tr>\n",
       "      <td>8</td>\n",
       "      <td>2019-06-01</td>\n",
       "      <td>155</td>\n",
       "      <td>409986.0</td>\n",
       "    </tr>\n",
       "    <tr>\n",
       "      <td>9</td>\n",
       "      <td>2019-07-01</td>\n",
       "      <td>187</td>\n",
       "      <td>276547.0</td>\n",
       "    </tr>\n",
       "    <tr>\n",
       "      <td>10</td>\n",
       "      <td>2019-08-01</td>\n",
       "      <td>167</td>\n",
       "      <td>197512.0</td>\n",
       "    </tr>\n",
       "    <tr>\n",
       "      <td>11</td>\n",
       "      <td>2019-09-01</td>\n",
       "      <td>174</td>\n",
       "      <td>204464.0</td>\n",
       "    </tr>\n",
       "    <tr>\n",
       "      <td>12</td>\n",
       "      <td>2019-10-01</td>\n",
       "      <td>171</td>\n",
       "      <td>242440.0</td>\n",
       "    </tr>\n",
       "  </tbody>\n",
       "</table>\n",
       "</div>"
      ],
      "text/plain": [
       "        month  customer_id  price_total\n",
       "0  2018-10-01          180     420380.0\n",
       "1  2018-11-01          179     371180.0\n",
       "2  2018-12-01          235     399016.0\n",
       "3  2019-01-01          155     279984.0\n",
       "4  2019-02-01          247     343841.0\n",
       "5  2019-03-01          234     301166.0\n",
       "6  2019-04-01          240     381346.0\n",
       "7  2019-05-01          170     304678.0\n",
       "8  2019-06-01          155     409986.0\n",
       "9  2019-07-01          187     276547.0\n",
       "10 2019-08-01          167     197512.0\n",
       "11 2019-09-01          174     204464.0\n",
       "12 2019-10-01          171     242440.0"
      ]
     },
     "execution_count": 28,
     "metadata": {},
     "output_type": "execute_result"
    }
   ],
   "source": [
    "purchase_month"
   ]
  },
  {
   "cell_type": "code",
   "execution_count": 29,
   "metadata": {},
   "outputs": [
    {
     "data": {
      "image/png": "[encoded data removed]",
      "text/plain": [
       "<Figure size 1080x576 with 1 Axes>"
      ]
     },
     "metadata": {},
     "output_type": "display_data"
    }
   ],
   "source": [
    "#график\n",
    "plt.figure(figsize=(15,8))\n",
    "sns.set_style('darkgrid')\n",
    "sns.lineplot(x = 'month', y = 'customer_id', data = purchase_month)\n",
    "plt.title('Динамика количества покупателей по месяцам', fontsize=16)\n",
    "plt.xlabel('Месяц')\n",
    "plt.ylabel('Количество покупателей')\n",
    "plt.show()"
   ]
  },
  {
   "cell_type": "markdown",
   "metadata": {},
   "source": [
    "Количество покупателей неоднородно в течение всего рассматриваемого периода. Минимальное количество покупателей в январе 2019 - 155 уникальных покупателей. Максимальные значения зафиксированы в марте и апреле 2019 года. В последующие месяцы наблюдалось снижение количества уникальных покупателей. Их количество колебалось от 155 до 187 пользователей."
   ]
  },
  {
   "cell_type": "markdown",
   "metadata": {},
   "source": [
    "### 3.5. Топ-5 покупателей с наибольшей выручкой"
   ]
  },
  {
   "cell_type": "code",
   "execution_count": 30,
   "metadata": {},
   "outputs": [
    {
     "data": {
      "text/html": [
       "<div>\n",
       "<style scoped>\n",
       "    .dataframe tbody tr th:only-of-type {\n",
       "        vertical-align: middle;\n",
       "    }\n",
       "\n",
       "    .dataframe tbody tr th {\n",
       "        vertical-align: top;\n",
       "    }\n",
       "\n",
       "    .dataframe thead th {\n",
       "        text-align: right;\n",
       "    }\n",
       "</style>\n",
       "<table border=\"1\" class=\"dataframe\">\n",
       "  <thead>\n",
       "    <tr style=\"text-align: right;\">\n",
       "      <th></th>\n",
       "      <th>customer_id</th>\n",
       "      <th>orders</th>\n",
       "      <th>total_revenue</th>\n",
       "      <th>avg_order_price</th>\n",
       "      <th>avg_price_of_product</th>\n",
       "      <th>avg_products_in_order</th>\n",
       "      <th>avg_goods_in_order</th>\n",
       "    </tr>\n",
       "  </thead>\n",
       "  <tbody>\n",
       "    <tr>\n",
       "      <td>1891</td>\n",
       "      <td>c971fb21-d54c-4134-938f-16b62ee86d3b</td>\n",
       "      <td>126</td>\n",
       "      <td>166988.0</td>\n",
       "      <td>1325.301587</td>\n",
       "      <td>1018.108730</td>\n",
       "      <td>1.142857</td>\n",
       "      <td>2.730159</td>\n",
       "    </tr>\n",
       "    <tr>\n",
       "      <td>284</td>\n",
       "      <td>1d6c8c1f-a799-4418-9af2-1ded47d7a85c</td>\n",
       "      <td>1</td>\n",
       "      <td>114750.0</td>\n",
       "      <td>114750.000000</td>\n",
       "      <td>127.500000</td>\n",
       "      <td>888.000000</td>\n",
       "      <td>900.000000</td>\n",
       "    </tr>\n",
       "    <tr>\n",
       "      <td>820</td>\n",
       "      <td>57cc80a2-2610-4eef-9457-e7c3bf0c72f0</td>\n",
       "      <td>1</td>\n",
       "      <td>65220.0</td>\n",
       "      <td>65220.000000</td>\n",
       "      <td>1087.000000</td>\n",
       "      <td>60.000000</td>\n",
       "      <td>60.000000</td>\n",
       "    </tr>\n",
       "    <tr>\n",
       "      <td>731</td>\n",
       "      <td>4d93d3f6-8b24-403b-a74b-f5173e40d7db</td>\n",
       "      <td>35</td>\n",
       "      <td>60828.0</td>\n",
       "      <td>1737.942857</td>\n",
       "      <td>771.192857</td>\n",
       "      <td>1.342857</td>\n",
       "      <td>11.685714</td>\n",
       "    </tr>\n",
       "    <tr>\n",
       "      <td>826</td>\n",
       "      <td>58a4c3cc-504f-43ea-a74a-bae19e665552</td>\n",
       "      <td>2</td>\n",
       "      <td>53232.0</td>\n",
       "      <td>26616.000000</td>\n",
       "      <td>1852.000000</td>\n",
       "      <td>1.000000</td>\n",
       "      <td>15.000000</td>\n",
       "    </tr>\n",
       "  </tbody>\n",
       "</table>\n",
       "</div>"
      ],
      "text/plain": [
       "                               customer_id  orders  total_revenue  avg_order_price  avg_price_of_product  avg_products_in_order  avg_goods_in_order\n",
       "1891  c971fb21-d54c-4134-938f-16b62ee86d3b     126       166988.0      1325.301587           1018.108730               1.142857            2.730159\n",
       "284   1d6c8c1f-a799-4418-9af2-1ded47d7a85c       1       114750.0    114750.000000            127.500000             888.000000          900.000000\n",
       "820   57cc80a2-2610-4eef-9457-e7c3bf0c72f0       1        65220.0     65220.000000           1087.000000              60.000000           60.000000\n",
       "731   4d93d3f6-8b24-403b-a74b-f5173e40d7db      35        60828.0      1737.942857            771.192857               1.342857           11.685714\n",
       "826   58a4c3cc-504f-43ea-a74a-bae19e665552       2        53232.0     26616.000000           1852.000000               1.000000           15.000000"
      ]
     },
     "execution_count": 30,
     "metadata": {},
     "output_type": "execute_result"
    }
   ],
   "source": [
    "grouped_by_customers.sort_values(by='total_revenue', ascending = False).head()"
   ]
  },
  {
   "cell_type": "code",
   "execution_count": 31,
   "metadata": {},
   "outputs": [
    {
     "data": {
      "image/png": "[encoded data removed]",
      "text/plain": [
       "<Figure size 1080x216 with 1 Axes>"
      ]
     },
     "metadata": {},
     "output_type": "display_data"
    }
   ],
   "source": [
    "#построим диаграмму размаха, чтобы увидеть выбросы\n",
    "plt.figure(figsize=(15,3))\n",
    "plt.boxplot(grouped_by_customers['total_revenue'], vert=False)\n",
    "plt.xlim(0,200000)\n",
    "plt.show()"
   ]
  },
  {
   "cell_type": "code",
   "execution_count": 32,
   "metadata": {},
   "outputs": [
    {
     "data": {
      "text/html": [
       "<div>\n",
       "<style scoped>\n",
       "    .dataframe tbody tr th:only-of-type {\n",
       "        vertical-align: middle;\n",
       "    }\n",
       "\n",
       "    .dataframe tbody tr th {\n",
       "        vertical-align: top;\n",
       "    }\n",
       "\n",
       "    .dataframe thead th {\n",
       "        text-align: right;\n",
       "    }\n",
       "</style>\n",
       "<table border=\"1\" class=\"dataframe\">\n",
       "  <thead>\n",
       "    <tr style=\"text-align: right;\">\n",
       "      <th></th>\n",
       "      <th>customer_id</th>\n",
       "      <th>orders</th>\n",
       "      <th>total_revenue</th>\n",
       "      <th>avg_order_price</th>\n",
       "      <th>avg_price_of_product</th>\n",
       "      <th>avg_products_in_order</th>\n",
       "      <th>avg_goods_in_order</th>\n",
       "    </tr>\n",
       "  </thead>\n",
       "  <tbody>\n",
       "    <tr>\n",
       "      <td>1891</td>\n",
       "      <td>c971fb21-d54c-4134-938f-16b62ee86d3b</td>\n",
       "      <td>126</td>\n",
       "      <td>166988.0</td>\n",
       "      <td>1325.301587</td>\n",
       "      <td>1018.108730</td>\n",
       "      <td>1.142857</td>\n",
       "      <td>2.730159</td>\n",
       "    </tr>\n",
       "    <tr>\n",
       "      <td>284</td>\n",
       "      <td>1d6c8c1f-a799-4418-9af2-1ded47d7a85c</td>\n",
       "      <td>1</td>\n",
       "      <td>114750.0</td>\n",
       "      <td>114750.000000</td>\n",
       "      <td>127.500000</td>\n",
       "      <td>888.000000</td>\n",
       "      <td>900.000000</td>\n",
       "    </tr>\n",
       "    <tr>\n",
       "      <td>820</td>\n",
       "      <td>57cc80a2-2610-4eef-9457-e7c3bf0c72f0</td>\n",
       "      <td>1</td>\n",
       "      <td>65220.0</td>\n",
       "      <td>65220.000000</td>\n",
       "      <td>1087.000000</td>\n",
       "      <td>60.000000</td>\n",
       "      <td>60.000000</td>\n",
       "    </tr>\n",
       "    <tr>\n",
       "      <td>731</td>\n",
       "      <td>4d93d3f6-8b24-403b-a74b-f5173e40d7db</td>\n",
       "      <td>35</td>\n",
       "      <td>60828.0</td>\n",
       "      <td>1737.942857</td>\n",
       "      <td>771.192857</td>\n",
       "      <td>1.342857</td>\n",
       "      <td>11.685714</td>\n",
       "    </tr>\n",
       "    <tr>\n",
       "      <td>826</td>\n",
       "      <td>58a4c3cc-504f-43ea-a74a-bae19e665552</td>\n",
       "      <td>2</td>\n",
       "      <td>53232.0</td>\n",
       "      <td>26616.000000</td>\n",
       "      <td>1852.000000</td>\n",
       "      <td>1.000000</td>\n",
       "      <td>15.000000</td>\n",
       "    </tr>\n",
       "  </tbody>\n",
       "</table>\n",
       "</div>"
      ],
      "text/plain": [
       "                               customer_id  orders  total_revenue  avg_order_price  avg_price_of_product  avg_products_in_order  avg_goods_in_order\n",
       "1891  c971fb21-d54c-4134-938f-16b62ee86d3b     126       166988.0      1325.301587           1018.108730               1.142857            2.730159\n",
       "284   1d6c8c1f-a799-4418-9af2-1ded47d7a85c       1       114750.0    114750.000000            127.500000             888.000000          900.000000\n",
       "820   57cc80a2-2610-4eef-9457-e7c3bf0c72f0       1        65220.0     65220.000000           1087.000000              60.000000           60.000000\n",
       "731   4d93d3f6-8b24-403b-a74b-f5173e40d7db      35        60828.0      1737.942857            771.192857               1.342857           11.685714\n",
       "826   58a4c3cc-504f-43ea-a74a-bae19e665552       2        53232.0     26616.000000           1852.000000               1.000000           15.000000"
      ]
     },
     "execution_count": 32,
     "metadata": {},
     "output_type": "execute_result"
    }
   ],
   "source": [
    "grouped_by_customers.sort_values(by='total_revenue', ascending = False).head()"
   ]
  },
  {
   "cell_type": "code",
   "execution_count": 33,
   "metadata": {},
   "outputs": [],
   "source": [
    "#удаление покупателей с выручкой более 15000 y.e.\n",
    "grouped_by_customers = grouped_by_customers.query('total_revenue <= 15000')\n",
    "ecom = ecom.query('price_total <= 15000')"
   ]
  },
  {
   "cell_type": "markdown",
   "metadata": {},
   "source": [
    "В лидерах покупатель заказа с суммой заказа 166 997 у.е. Сумма расходов топ-5 покупателей от 53 до 167 тыс. у.е. Исходя из ящика с усами, покупатели, чьи заказы на 15 000 тыс. у.е. скорее похожи на выбросы, поэтому удалила их."
   ]
  },
  {
   "cell_type": "markdown",
   "metadata": {},
   "source": [
    "### 3.6. Топ-5 покупателей с наибольшим количеством товаров в заказе"
   ]
  },
  {
   "cell_type": "code",
   "execution_count": 34,
   "metadata": {},
   "outputs": [
    {
     "data": {
      "text/html": [
       "<div>\n",
       "<style scoped>\n",
       "    .dataframe tbody tr th:only-of-type {\n",
       "        vertical-align: middle;\n",
       "    }\n",
       "\n",
       "    .dataframe tbody tr th {\n",
       "        vertical-align: top;\n",
       "    }\n",
       "\n",
       "    .dataframe thead th {\n",
       "        text-align: right;\n",
       "    }\n",
       "</style>\n",
       "<table border=\"1\" class=\"dataframe\">\n",
       "  <thead>\n",
       "    <tr style=\"text-align: right;\">\n",
       "      <th></th>\n",
       "      <th>customer_id</th>\n",
       "      <th>orders</th>\n",
       "      <th>total_revenue</th>\n",
       "      <th>avg_order_price</th>\n",
       "      <th>avg_price_of_product</th>\n",
       "      <th>avg_products_in_order</th>\n",
       "      <th>avg_goods_in_order</th>\n",
       "    </tr>\n",
       "  </thead>\n",
       "  <tbody>\n",
       "    <tr>\n",
       "      <td>1725</td>\n",
       "      <td>b7b865ab-0735-407f-8d0c-31f74d2806cc</td>\n",
       "      <td>7</td>\n",
       "      <td>3779.0</td>\n",
       "      <td>539.857143</td>\n",
       "      <td>98.000000</td>\n",
       "      <td>2.571429</td>\n",
       "      <td>9.714286</td>\n",
       "    </tr>\n",
       "    <tr>\n",
       "      <td>16</td>\n",
       "      <td>0184f535-b60a-4914-a982-231e3f615206</td>\n",
       "      <td>5</td>\n",
       "      <td>7707.0</td>\n",
       "      <td>1541.400000</td>\n",
       "      <td>172.006349</td>\n",
       "      <td>9.400000</td>\n",
       "      <td>15.000000</td>\n",
       "    </tr>\n",
       "    <tr>\n",
       "      <td>2118</td>\n",
       "      <td>e0535076-6270-4df2-8621-cb06264a94fa</td>\n",
       "      <td>4</td>\n",
       "      <td>636.0</td>\n",
       "      <td>159.000000</td>\n",
       "      <td>159.000000</td>\n",
       "      <td>1.000000</td>\n",
       "      <td>1.000000</td>\n",
       "    </tr>\n",
       "    <tr>\n",
       "      <td>1796</td>\n",
       "      <td>bea7a833-2074-42db-bc49-4457abd3c930</td>\n",
       "      <td>4</td>\n",
       "      <td>4409.0</td>\n",
       "      <td>1102.250000</td>\n",
       "      <td>145.625000</td>\n",
       "      <td>3.500000</td>\n",
       "      <td>7.500000</td>\n",
       "    </tr>\n",
       "    <tr>\n",
       "      <td>998</td>\n",
       "      <td>6b0c6cfb-7717-4c34-8535-bbc6e2b2c758</td>\n",
       "      <td>3</td>\n",
       "      <td>660.0</td>\n",
       "      <td>220.000000</td>\n",
       "      <td>22.000000</td>\n",
       "      <td>1.000000</td>\n",
       "      <td>10.000000</td>\n",
       "    </tr>\n",
       "  </tbody>\n",
       "</table>\n",
       "</div>"
      ],
      "text/plain": [
       "                               customer_id  orders  total_revenue  avg_order_price  avg_price_of_product  avg_products_in_order  avg_goods_in_order\n",
       "1725  b7b865ab-0735-407f-8d0c-31f74d2806cc       7         3779.0       539.857143             98.000000               2.571429            9.714286\n",
       "16    0184f535-b60a-4914-a982-231e3f615206       5         7707.0      1541.400000            172.006349               9.400000           15.000000\n",
       "2118  e0535076-6270-4df2-8621-cb06264a94fa       4          636.0       159.000000            159.000000               1.000000            1.000000\n",
       "1796  bea7a833-2074-42db-bc49-4457abd3c930       4         4409.0      1102.250000            145.625000               3.500000            7.500000\n",
       "998   6b0c6cfb-7717-4c34-8535-bbc6e2b2c758       3          660.0       220.000000             22.000000               1.000000           10.000000"
      ]
     },
     "execution_count": 34,
     "metadata": {},
     "output_type": "execute_result"
    }
   ],
   "source": [
    "grouped_by_customers.sort_values(by='orders', ascending = False).head()"
   ]
  },
  {
   "cell_type": "code",
   "execution_count": 35,
   "metadata": {},
   "outputs": [
    {
     "data": {
      "image/png": "[encoded data removed]",
      "text/plain": [
       "<Figure size 1080x216 with 1 Axes>"
      ]
     },
     "metadata": {},
     "output_type": "display_data"
    }
   ],
   "source": [
    "#построим диаграмму размаха, чтобы увидеть выбросы\n",
    "plt.figure(figsize=(15,3))\n",
    "plt.boxplot(grouped_by_customers['orders'], vert=False)\n",
    "plt.xlim(0,10)\n",
    "plt.show()"
   ]
  },
  {
   "cell_type": "code",
   "execution_count": 36,
   "metadata": {},
   "outputs": [],
   "source": [
    "#удаление покупателей с количеством заказов более 3\n",
    "grouped_by_customers = grouped_by_customers.query('orders <= 3')\n",
    "ecom = ecom.query('quantity <= 3')"
   ]
  },
  {
   "cell_type": "code",
   "execution_count": 37,
   "metadata": {},
   "outputs": [
    {
     "data": {
      "text/html": [
       "<div>\n",
       "<style scoped>\n",
       "    .dataframe tbody tr th:only-of-type {\n",
       "        vertical-align: middle;\n",
       "    }\n",
       "\n",
       "    .dataframe tbody tr th {\n",
       "        vertical-align: top;\n",
       "    }\n",
       "\n",
       "    .dataframe thead th {\n",
       "        text-align: right;\n",
       "    }\n",
       "</style>\n",
       "<table border=\"1\" class=\"dataframe\">\n",
       "  <thead>\n",
       "    <tr style=\"text-align: right;\">\n",
       "      <th></th>\n",
       "      <th>customer_id</th>\n",
       "      <th>orders</th>\n",
       "      <th>total_revenue</th>\n",
       "      <th>avg_order_price</th>\n",
       "      <th>avg_price_of_product</th>\n",
       "      <th>avg_products_in_order</th>\n",
       "      <th>avg_goods_in_order</th>\n",
       "    </tr>\n",
       "  </thead>\n",
       "  <tbody>\n",
       "    <tr>\n",
       "      <td>128</td>\n",
       "      <td>0d1b15b6-9cf3-4642-8bc3-74c7dee7b40e</td>\n",
       "      <td>3</td>\n",
       "      <td>1538.0</td>\n",
       "      <td>512.666667</td>\n",
       "      <td>139.416667</td>\n",
       "      <td>3.333333</td>\n",
       "      <td>3.666667</td>\n",
       "    </tr>\n",
       "    <tr>\n",
       "      <td>109</td>\n",
       "      <td>0adba506-249c-40b5-839d-a59d7a275cd7</td>\n",
       "      <td>3</td>\n",
       "      <td>370.0</td>\n",
       "      <td>123.333333</td>\n",
       "      <td>74.000000</td>\n",
       "      <td>1.666667</td>\n",
       "      <td>1.666667</td>\n",
       "    </tr>\n",
       "    <tr>\n",
       "      <td>926</td>\n",
       "      <td>639c4989-b0ab-412a-b7ec-be394cb2d372</td>\n",
       "      <td>3</td>\n",
       "      <td>12095.0</td>\n",
       "      <td>4031.666667</td>\n",
       "      <td>4018.166667</td>\n",
       "      <td>1.333333</td>\n",
       "      <td>1.333333</td>\n",
       "    </tr>\n",
       "    <tr>\n",
       "      <td>2112</td>\n",
       "      <td>dfbcfde5-21de-4504-aff4-453e617d81c1</td>\n",
       "      <td>3</td>\n",
       "      <td>2804.0</td>\n",
       "      <td>934.666667</td>\n",
       "      <td>132.486111</td>\n",
       "      <td>6.666667</td>\n",
       "      <td>7.000000</td>\n",
       "    </tr>\n",
       "    <tr>\n",
       "      <td>916</td>\n",
       "      <td>62952c5b-e5ef-4009-a2f9-1ebff401c514</td>\n",
       "      <td>3</td>\n",
       "      <td>1629.0</td>\n",
       "      <td>543.000000</td>\n",
       "      <td>142.600000</td>\n",
       "      <td>3.666667</td>\n",
       "      <td>3.666667</td>\n",
       "    </tr>\n",
       "  </tbody>\n",
       "</table>\n",
       "</div>"
      ],
      "text/plain": [
       "                               customer_id  orders  total_revenue  avg_order_price  avg_price_of_product  avg_products_in_order  avg_goods_in_order\n",
       "128   0d1b15b6-9cf3-4642-8bc3-74c7dee7b40e       3         1538.0       512.666667            139.416667               3.333333            3.666667\n",
       "109   0adba506-249c-40b5-839d-a59d7a275cd7       3          370.0       123.333333             74.000000               1.666667            1.666667\n",
       "926   639c4989-b0ab-412a-b7ec-be394cb2d372       3        12095.0      4031.666667           4018.166667               1.333333            1.333333\n",
       "2112  dfbcfde5-21de-4504-aff4-453e617d81c1       3         2804.0       934.666667            132.486111               6.666667            7.000000\n",
       "916   62952c5b-e5ef-4009-a2f9-1ebff401c514       3         1629.0       543.000000            142.600000               3.666667            3.666667"
      ]
     },
     "execution_count": 37,
     "metadata": {},
     "output_type": "execute_result"
    }
   ],
   "source": [
    "grouped_by_customers.sort_values(by='orders', ascending = False).head()"
   ]
  },
  {
   "cell_type": "markdown",
   "metadata": {},
   "source": [
    "В лидерах рейтинга по количеству купленных за один заказ товаров покупатель с  7 товарами в заказе . Исходя из ящика с усами, покупатели, чьи количество товаров в заказе больше 4 товаров, скорее похожи на выбросы, поэтому удалила их."
   ]
  },
  {
   "cell_type": "markdown",
   "metadata": {},
   "source": [
    "### 3.7. Топ-5 покупателей с наименьшей выручкой"
   ]
  },
  {
   "cell_type": "code",
   "execution_count": 38,
   "metadata": {},
   "outputs": [
    {
     "data": {
      "text/html": [
       "<div>\n",
       "<style scoped>\n",
       "    .dataframe tbody tr th:only-of-type {\n",
       "        vertical-align: middle;\n",
       "    }\n",
       "\n",
       "    .dataframe tbody tr th {\n",
       "        vertical-align: top;\n",
       "    }\n",
       "\n",
       "    .dataframe thead th {\n",
       "        text-align: right;\n",
       "    }\n",
       "</style>\n",
       "<table border=\"1\" class=\"dataframe\">\n",
       "  <thead>\n",
       "    <tr style=\"text-align: right;\">\n",
       "      <th></th>\n",
       "      <th>customer_id</th>\n",
       "      <th>orders</th>\n",
       "      <th>total_revenue</th>\n",
       "      <th>avg_order_price</th>\n",
       "      <th>avg_price_of_product</th>\n",
       "      <th>avg_products_in_order</th>\n",
       "      <th>avg_goods_in_order</th>\n",
       "    </tr>\n",
       "  </thead>\n",
       "  <tbody>\n",
       "    <tr>\n",
       "      <td>2310</td>\n",
       "      <td>f420bf6d-9985-47bc-95a7-5c640ad6d001</td>\n",
       "      <td>1</td>\n",
       "      <td>22.0</td>\n",
       "      <td>22.0</td>\n",
       "      <td>22.0</td>\n",
       "      <td>1.0</td>\n",
       "      <td>1.0</td>\n",
       "    </tr>\n",
       "    <tr>\n",
       "      <td>164</td>\n",
       "      <td>10f79846-2640-4c43-8392-4e76ff5455ef</td>\n",
       "      <td>1</td>\n",
       "      <td>22.0</td>\n",
       "      <td>22.0</td>\n",
       "      <td>22.0</td>\n",
       "      <td>1.0</td>\n",
       "      <td>1.0</td>\n",
       "    </tr>\n",
       "    <tr>\n",
       "      <td>326</td>\n",
       "      <td>2330d859-e9cb-4c8f-abd0-55f9e27e6745</td>\n",
       "      <td>1</td>\n",
       "      <td>15.0</td>\n",
       "      <td>15.0</td>\n",
       "      <td>15.0</td>\n",
       "      <td>1.0</td>\n",
       "      <td>1.0</td>\n",
       "    </tr>\n",
       "    <tr>\n",
       "      <td>2300</td>\n",
       "      <td>f32b5708-af61-42e7-baba-9f3759d87841</td>\n",
       "      <td>1</td>\n",
       "      <td>15.0</td>\n",
       "      <td>15.0</td>\n",
       "      <td>15.0</td>\n",
       "      <td>1.0</td>\n",
       "      <td>1.0</td>\n",
       "    </tr>\n",
       "    <tr>\n",
       "      <td>1903</td>\n",
       "      <td>cab090a5-b8dd-442d-a206-0ef3bf5fc1d8</td>\n",
       "      <td>1</td>\n",
       "      <td>14.0</td>\n",
       "      <td>14.0</td>\n",
       "      <td>14.0</td>\n",
       "      <td>1.0</td>\n",
       "      <td>1.0</td>\n",
       "    </tr>\n",
       "  </tbody>\n",
       "</table>\n",
       "</div>"
      ],
      "text/plain": [
       "                               customer_id  orders  total_revenue  avg_order_price  avg_price_of_product  avg_products_in_order  avg_goods_in_order\n",
       "2310  f420bf6d-9985-47bc-95a7-5c640ad6d001       1           22.0             22.0                  22.0                    1.0                 1.0\n",
       "164   10f79846-2640-4c43-8392-4e76ff5455ef       1           22.0             22.0                  22.0                    1.0                 1.0\n",
       "326   2330d859-e9cb-4c8f-abd0-55f9e27e6745       1           15.0             15.0                  15.0                    1.0                 1.0\n",
       "2300  f32b5708-af61-42e7-baba-9f3759d87841       1           15.0             15.0                  15.0                    1.0                 1.0\n",
       "1903  cab090a5-b8dd-442d-a206-0ef3bf5fc1d8       1           14.0             14.0                  14.0                    1.0                 1.0"
      ]
     },
     "execution_count": 38,
     "metadata": {},
     "output_type": "execute_result"
    }
   ],
   "source": [
    "grouped_by_customers.sort_values(by='total_revenue', ascending = False).tail()"
   ]
  },
  {
   "cell_type": "markdown",
   "metadata": {},
   "source": [
    "Вероятно это покупатели, не являющиеся постоянными клиентами магазина и совершившие единоразовые недорогие покупки (от 14 до 22 у.е.)."
   ]
  },
  {
   "cell_type": "markdown",
   "metadata": {},
   "source": [
    "### 3.8. Топ-10 товаров самых покупаемых товаров по продажам и количеству"
   ]
  },
  {
   "cell_type": "code",
   "execution_count": 39,
   "metadata": {},
   "outputs": [],
   "source": [
    "pivot = ecom.pivot_table(index = 'product', aggfunc ={'customer_id':'nunique', 'quantity':'sum', 'price_total':'sum'})"
   ]
  },
  {
   "cell_type": "code",
   "execution_count": 40,
   "metadata": {},
   "outputs": [
    {
     "data": {
      "image/png": "[encoded data removed]",
      "text/plain": [
       "<Figure size 1080x576 with 1 Axes>"
      ]
     },
     "metadata": {},
     "output_type": "display_data"
    }
   ],
   "source": [
    "pivot.rename(columns={'customer_id':'unique_users'}, inplace=True)\n",
    "pivot = pivot.sort_values(by= 'unique_users', ascending = False).head(10)\n",
    "pivot['price_total'].sort_values(ascending= True).plot(kind=\"barh\", figsize = (15,8), color=\"navy\")\n",
    "plt.title('ТОП-10 самых покупаемых товаров по сумме выручки', fontsize=16)\n",
    "plt.xlabel('Стоимость заказов', fontsize=12) \n",
    "plt.ylabel('Наименование товара', fontsize=12) \n",
    "plt.show()"
   ]
  },
  {
   "cell_type": "code",
   "execution_count": 41,
   "metadata": {},
   "outputs": [
    {
     "data": {
      "image/png": "[encoded data removed]",
      "text/plain": [
       "<Figure size 1080x576 with 1 Axes>"
      ]
     },
     "metadata": {},
     "output_type": "display_data"
    }
   ],
   "source": [
    "pivot['quantity'].sort_values(ascending= True).plot(kind=\"barh\", figsize = (15,8), color=\"orange\")\n",
    "plt.title('ТОП-10 самых покупаемых товаров по количеству', fontsize=16)\n",
    "plt.xlabel('Количество, шт.', fontsize=12) \n",
    "plt.ylabel('Наименование товара', fontsize=12)\n",
    "plt.show()"
   ]
  },
  {
   "cell_type": "markdown",
   "metadata": {},
   "source": [
    "Список товаров, возглавляемых топ-10 по продажам и количеству идентичный. В него входим сумка-тележка и цветок перагония. Как правило сумки-тележки особенно популярны у дачников, впрочем, как и цветы. Также такие цветы обычно высаживают на городских клумбах. Полагаю, что основными клиентами магазина являются как физические лица, закупающие в розницу, так и компании, закупающие оптом."
   ]
  },
  {
   "cell_type": "markdown",
   "metadata": {},
   "source": [
    "### Вывод\n",
    "\n",
    "На основании полученных статистик можно сказать следующее:\n",
    "\n",
    "* в среднем один пользователь сделал 1,15 заказ +/- 2.67;\n",
    "* выручка с одного пользователя составляет около 1986 у.е.;\n",
    "* в среднем в одном заказе 2,5 единины товара;\n",
    "* в среднем в заказе 6 единиц разных товаров;\n",
    "* средняя цена одного товара в заказе 777 у.е.;\n",
    "* средняя стоимость заказа одного товара 1782 у.е.;\n",
    "* чаще в 1 одном заказе один товар встречается 1 раз, однако в каком-то из заказов присутствовало 1000 единиц товара, что вероятно можно отнести к выбросу;\n",
    "* максимальная цена одного товара 14 тысяч у.е., что тоже похоже на выброс, т.к. 75% квантиль 974 у.е.;\n",
    "* минимальная цена заказа 14 у.е., максимальная - 675 000 у.е.\n",
    "\n",
    "В целом стоимость заказов равномерна в течение рассматриваемого периода. Стоимость заказов в 2019 году ниже, чем в октябре-декабре 2018 года. Заказы по стоимости не превышают 420 000 у.е. Отмечается максимальное значение продаж в июне. В августе продажи минимальны - меньше 200 000 у.е.\n",
    "\n",
    "Количество покупателей неоднородно в течение всего рассматриваемого периода. Минимальное количество покупателей в январе 2019 - 155 уникальных покупателей. Максимальные значения зафиксированы в марте и апреле 2019 года. В последующие месяцы наблюдалось снижение количества уникальных покупателей. Их количество колебалось от 155 до 187 пользователей.\n",
    "\n",
    "В лидерах покупатель заказа с суммой заказа 166 997 у.е. Сумма расходов топ-5 покупателей от 53 до 167 тыс. у.е. Исходя из ящика с усами, покупатели, чьи заказы на 15 000 тыс. у.е. скорее похожи на выбросы, поэтому удалила их. \n",
    "\n",
    "В лидерах рейтинга по количеству купленных за один заказ товаров покупатель с  7 товарами в заказе . Исходя из ящика с усами, покупатели, чьи количество товаров в заказе больше 4 товаров, скорее похожи на выбросы, поэтому удалила их.\n",
    "\n",
    "В рейтинг покупателей с наиманьшей выручкой вошли покупатели, вероятно не являющиеся постоянными клиентами магазина и совершившие единоразовые недорогие покупки (от 14 до 22 у.е.).\n",
    "\n",
    "Список товаров, возглавляемых топ-10 по продажам и количеству идентичный. В него входим сумка-тележка и цветок перагония. Как правило сумки-тележки особенно популярны у дачников, впрочем, как и цветы. Также такие цветы обычно высаживают на городских клумбах. Полагаю, что основными клиентами магазина являются как физические лица, закупающие в розницу, так и компании, закупающие оптом.\n",
    "\n",
    "Переходим к сегментации покупателей."
   ]
  },
  {
   "cell_type": "markdown",
   "metadata": {},
   "source": [
    "## Шаг 4. Сегментация покупателей"
   ]
  },
  {
   "cell_type": "markdown",
   "metadata": {},
   "source": [
    "### 4.1. Дендрограмма"
   ]
  },
  {
   "cell_type": "code",
   "execution_count": 42,
   "metadata": {},
   "outputs": [
    {
     "data": {
      "text/html": [
       "<div>\n",
       "<style scoped>\n",
       "    .dataframe tbody tr th:only-of-type {\n",
       "        vertical-align: middle;\n",
       "    }\n",
       "\n",
       "    .dataframe tbody tr th {\n",
       "        vertical-align: top;\n",
       "    }\n",
       "\n",
       "    .dataframe thead th {\n",
       "        text-align: right;\n",
       "    }\n",
       "</style>\n",
       "<table border=\"1\" class=\"dataframe\">\n",
       "  <thead>\n",
       "    <tr style=\"text-align: right;\">\n",
       "      <th></th>\n",
       "      <th>customer_id</th>\n",
       "      <th>orders</th>\n",
       "      <th>total_revenue</th>\n",
       "      <th>avg_order_price</th>\n",
       "      <th>avg_price_of_product</th>\n",
       "      <th>avg_products_in_order</th>\n",
       "      <th>avg_goods_in_order</th>\n",
       "    </tr>\n",
       "  </thead>\n",
       "  <tbody>\n",
       "    <tr>\n",
       "      <td>0</td>\n",
       "      <td>000d6849-084e-4d9f-ac03-37174eaf60c4</td>\n",
       "      <td>1</td>\n",
       "      <td>555.0</td>\n",
       "      <td>555.0</td>\n",
       "      <td>138.75</td>\n",
       "      <td>4.0</td>\n",
       "      <td>4.0</td>\n",
       "    </tr>\n",
       "    <tr>\n",
       "      <td>1</td>\n",
       "      <td>001cee7f-0b29-4716-b202-0042213ab038</td>\n",
       "      <td>1</td>\n",
       "      <td>442.0</td>\n",
       "      <td>442.0</td>\n",
       "      <td>442.00</td>\n",
       "      <td>1.0</td>\n",
       "      <td>1.0</td>\n",
       "    </tr>\n",
       "    <tr>\n",
       "      <td>2</td>\n",
       "      <td>00299f34-5385-4d13-9aea-c80b81658e1b</td>\n",
       "      <td>1</td>\n",
       "      <td>914.0</td>\n",
       "      <td>914.0</td>\n",
       "      <td>457.00</td>\n",
       "      <td>1.0</td>\n",
       "      <td>2.0</td>\n",
       "    </tr>\n",
       "    <tr>\n",
       "      <td>3</td>\n",
       "      <td>002d4d3a-4a59-406b-86ec-c3314357e498</td>\n",
       "      <td>1</td>\n",
       "      <td>1649.0</td>\n",
       "      <td>1649.0</td>\n",
       "      <td>1649.00</td>\n",
       "      <td>1.0</td>\n",
       "      <td>1.0</td>\n",
       "    </tr>\n",
       "    <tr>\n",
       "      <td>4</td>\n",
       "      <td>003bbd39-0000-41ff-b7f9-2ddaec152037</td>\n",
       "      <td>1</td>\n",
       "      <td>2324.0</td>\n",
       "      <td>2324.0</td>\n",
       "      <td>1162.00</td>\n",
       "      <td>1.0</td>\n",
       "      <td>2.0</td>\n",
       "    </tr>\n",
       "  </tbody>\n",
       "</table>\n",
       "</div>"
      ],
      "text/plain": [
       "                            customer_id  orders  total_revenue  avg_order_price  avg_price_of_product  avg_products_in_order  avg_goods_in_order\n",
       "0  000d6849-084e-4d9f-ac03-37174eaf60c4       1          555.0            555.0                138.75                    4.0                 4.0\n",
       "1  001cee7f-0b29-4716-b202-0042213ab038       1          442.0            442.0                442.00                    1.0                 1.0\n",
       "2  00299f34-5385-4d13-9aea-c80b81658e1b       1          914.0            914.0                457.00                    1.0                 2.0\n",
       "3  002d4d3a-4a59-406b-86ec-c3314357e498       1         1649.0           1649.0               1649.00                    1.0                 1.0\n",
       "4  003bbd39-0000-41ff-b7f9-2ddaec152037       1         2324.0           2324.0               1162.00                    1.0                 2.0"
      ]
     },
     "execution_count": 42,
     "metadata": {},
     "output_type": "execute_result"
    }
   ],
   "source": [
    "grouped_by_customers.head()"
   ]
  },
  {
   "cell_type": "code",
   "execution_count": 43,
   "metadata": {},
   "outputs": [],
   "source": [
    "#создаем таблицу для сегментации\n",
    "X = grouped_by_customers.drop(['customer_id'], axis = 1)"
   ]
  },
  {
   "cell_type": "code",
   "execution_count": 44,
   "metadata": {},
   "outputs": [],
   "source": [
    "# стандартизируем данные\n",
    "sc = StandardScaler()\n",
    "x_sc = sc.fit_transform(X)"
   ]
  },
  {
   "cell_type": "code",
   "execution_count": 45,
   "metadata": {},
   "outputs": [],
   "source": [
    "# матрица расстояний\n",
    "linked = linkage(x_sc, method = 'ward') "
   ]
  },
  {
   "cell_type": "code",
   "execution_count": 46,
   "metadata": {},
   "outputs": [
    {
     "data": {
      "image/png": "[encoded data removed]",
      "text/plain": [
       "<Figure size 1800x720 with 1 Axes>"
      ]
     },
     "metadata": {},
     "output_type": "display_data"
    }
   ],
   "source": [
    "#построение дендрограммы\n",
    "plt.figure(figsize=(25, 10))  \n",
    "dendrogram(linked, orientation='top')\n",
    "plt.title('Иерархическая кластеризация', fontsize=16)\n",
    "plt.show()"
   ]
  },
  {
   "cell_type": "markdown",
   "metadata": {},
   "source": [
    "Предложенное оптимальное число кластеров 4 — четыре разных цвета на графике."
   ]
  },
  {
   "cell_type": "markdown",
   "metadata": {},
   "source": [
    "### 4.2. K-Means"
   ]
  },
  {
   "cell_type": "code",
   "execution_count": 47,
   "metadata": {},
   "outputs": [],
   "source": [
    "km = KMeans(n_clusters = 4, random_state = 0)"
   ]
  },
  {
   "cell_type": "code",
   "execution_count": 48,
   "metadata": {},
   "outputs": [],
   "source": [
    "labels = km.fit_predict(x_sc)"
   ]
  },
  {
   "cell_type": "code",
   "execution_count": 49,
   "metadata": {},
   "outputs": [],
   "source": [
    "grouped_by_customers['cluster_km'] = labels"
   ]
  },
  {
   "cell_type": "code",
   "execution_count": 50,
   "metadata": {},
   "outputs": [
    {
     "data": {
      "text/plain": [
       "1    1925\n",
       "0     256\n",
       "2     141\n",
       "3      70\n",
       "Name: cluster_km, dtype: int64"
      ]
     },
     "execution_count": 50,
     "metadata": {},
     "output_type": "execute_result"
    }
   ],
   "source": [
    "#\n",
    "grouped_by_customers['cluster_km'].value_counts()"
   ]
  },
  {
   "cell_type": "markdown",
   "metadata": {},
   "source": [
    "Кластеры получились разные по количеству пользователей. В них входит от 70 до 1925 покупателей."
   ]
  },
  {
   "cell_type": "code",
   "execution_count": 51,
   "metadata": {},
   "outputs": [
    {
     "name": "stdout",
     "output_type": "stream",
     "text": [
      "Silhouette_score: 0.65\n"
     ]
    }
   ],
   "source": [
    "#рассчитаем метрику силуэта\n",
    "print('Silhouette_score: {:.2f}'.format(silhouette_score(x_sc, labels)))"
   ]
  },
  {
   "cell_type": "markdown",
   "metadata": {},
   "source": [
    "Значение метрики силуэта принимает значения от -1 до 1. Чем ближе к 1, тем качественнее кластеризация. Судя по полученному значению кластеризация выполнена качественно."
   ]
  },
  {
   "cell_type": "code",
   "execution_count": 52,
   "metadata": {
    "scrolled": true
   },
   "outputs": [
    {
     "data": {
      "text/html": [
       "<div>\n",
       "<style scoped>\n",
       "    .dataframe tbody tr th:only-of-type {\n",
       "        vertical-align: middle;\n",
       "    }\n",
       "\n",
       "    .dataframe tbody tr th {\n",
       "        vertical-align: top;\n",
       "    }\n",
       "\n",
       "    .dataframe thead th {\n",
       "        text-align: right;\n",
       "    }\n",
       "</style>\n",
       "<table border=\"1\" class=\"dataframe\">\n",
       "  <thead>\n",
       "    <tr style=\"text-align: right;\">\n",
       "      <th>cluster_km</th>\n",
       "      <th>0</th>\n",
       "      <th>1</th>\n",
       "      <th>2</th>\n",
       "      <th>3</th>\n",
       "    </tr>\n",
       "  </thead>\n",
       "  <tbody>\n",
       "    <tr>\n",
       "      <td>orders</td>\n",
       "      <td>1.02</td>\n",
       "      <td>1.00</td>\n",
       "      <td>2.14</td>\n",
       "      <td>1.00</td>\n",
       "    </tr>\n",
       "    <tr>\n",
       "      <td>total_revenue</td>\n",
       "      <td>4730.95</td>\n",
       "      <td>766.01</td>\n",
       "      <td>1701.20</td>\n",
       "      <td>3512.91</td>\n",
       "    </tr>\n",
       "    <tr>\n",
       "      <td>avg_order_price</td>\n",
       "      <td>4626.82</td>\n",
       "      <td>766.01</td>\n",
       "      <td>780.92</td>\n",
       "      <td>3512.91</td>\n",
       "    </tr>\n",
       "    <tr>\n",
       "      <td>avg_price_of_product</td>\n",
       "      <td>3141.32</td>\n",
       "      <td>502.06</td>\n",
       "      <td>441.65</td>\n",
       "      <td>91.77</td>\n",
       "    </tr>\n",
       "    <tr>\n",
       "      <td>avg_products_in_order</td>\n",
       "      <td>1.49</td>\n",
       "      <td>1.62</td>\n",
       "      <td>2.13</td>\n",
       "      <td>13.96</td>\n",
       "    </tr>\n",
       "    <tr>\n",
       "      <td>avg_goods_in_order</td>\n",
       "      <td>3.38</td>\n",
       "      <td>3.13</td>\n",
       "      <td>4.32</td>\n",
       "      <td>51.76</td>\n",
       "    </tr>\n",
       "  </tbody>\n",
       "</table>\n",
       "</div>"
      ],
      "text/plain": [
       "cluster_km                   0       1        2        3\n",
       "orders                    1.02    1.00     2.14     1.00\n",
       "total_revenue          4730.95  766.01  1701.20  3512.91\n",
       "avg_order_price        4626.82  766.01   780.92  3512.91\n",
       "avg_price_of_product   3141.32  502.06   441.65    91.77\n",
       "avg_products_in_order     1.49    1.62     2.13    13.96\n",
       "avg_goods_in_order        3.38    3.13     4.32    51.76"
      ]
     },
     "execution_count": 52,
     "metadata": {},
     "output_type": "execute_result"
    }
   ],
   "source": [
    "#рассчет средних значений по группам\n",
    "clusters = grouped_by_customers.groupby('cluster_km').mean().T.round(2)\n",
    "clusters"
   ]
  },
  {
   "cell_type": "markdown",
   "metadata": {},
   "source": [
    "Для полученных кластеров характерно следующее:\n",
    "\n",
    "**Кластер 0**\n",
    "* Среднее количество заказов 1.02\n",
    "* Совершили в среднем покупки на 4 730 у.е. - самое большое значение среди всех кластеров\n",
    "* В среднем их заказ стоит 4626 у.е.\n",
    "* Среднее количество товаров в заказе 3.38\n",
    "\n",
    "\n",
    "**Кластер 1**\n",
    "* Среднее количество заказов 1\n",
    "* Совершили в среднем покупки на 766 у.е., а, учитывая, среднее количество заказов это значение равно средней стоимости заказа\n",
    "* Среднее количество товаров в заказе 3.13\n",
    "\n",
    "**Кластер 2**\n",
    "* Среднее количество заказов 2.14 - самое большое значение среди всех кластеров\n",
    "* Совершили в среднем покупки на 1701 у.е.\n",
    "* В среднем их заказ стоит 780 у.е.\n",
    "* Среднее количество товаров в заказе 4.32\n",
    "\n",
    "\n",
    "**Кластер 3**\n",
    "* Среднее количество заказов 1.00\n",
    "* Совершили в среднем покупки на 3 512 у.е., а, учитывая, среднее количество заказов это значение равно средней стоимости заказа\n",
    "* Среднее количество товаров в заказе 51.76 - самое большое значение среди всех кластеров\n",
    "\n",
    "\n",
    "Самым прибыльным является кластер 0. Наименее прибыльным является кластер 1 - низкая выручки и небольшое среднее количество товаров в заказе. Кластер 3 - достаточно высокая выручка и количество товаров в заказе. Однако эти кластеры скорее всего не являются постоянными клиентами, поскольку среднее количество заказов близко к единице. Постоянными покупателями можно назвать кластер 2 - самое большое среднее количество заказов, достаточная прибыль и количество товаров в заказе."
   ]
  },
  {
   "cell_type": "markdown",
   "metadata": {},
   "source": [
    "### 4.3. Графики распределения признаков для кластеров"
   ]
  },
  {
   "cell_type": "markdown",
   "metadata": {},
   "source": [
    "Построим графики распределения признаков для кластеров, чтобы определить наиболее похожие кластеры, чтобы на них проверять гипотезы о равенстве среднего."
   ]
  },
  {
   "cell_type": "code",
   "execution_count": 53,
   "metadata": {},
   "outputs": [
    {
     "data": {
      "image/png": "[encoded data removed]",
      "text/plain": [
       "<Figure size 1080x576 with 1 Axes>"
      ]
     },
     "metadata": {},
     "output_type": "display_data"
    }
   ],
   "source": [
    "#диаграмма размаха для выручки\n",
    "plt.figure(figsize=(15,8))\n",
    "sns.boxplot(x ='cluster_km',y = 'avg_order_price', data = grouped_by_customers)\n",
    "plt.title('График распределения средней стоимости заказа по кластерам', fontsize=16)\n",
    "plt.xlabel('Номер кластера', fontsize=12)\n",
    "plt.ylabel('Средняя стоимость заказа', fontsize=12)\n",
    "plt.show()"
   ]
  },
  {
   "cell_type": "code",
   "execution_count": 54,
   "metadata": {},
   "outputs": [
    {
     "data": {
      "image/png": "[encoded data removed]",
      "text/plain": [
       "<Figure size 1080x576 with 1 Axes>"
      ]
     },
     "metadata": {},
     "output_type": "display_data"
    }
   ],
   "source": [
    "#диаграмма размаха для среднего количества товаров в заказе\n",
    "plt.figure(figsize=(15,8))\n",
    "sns.boxplot(x ='cluster_km',y = 'avg_goods_in_order', data = grouped_by_customers)\n",
    "plt.title('График распределения среднего количества товаров в заказе по кластерам', fontsize=16)\n",
    "plt.xlabel('Номер кластера', fontsize=12)\n",
    "plt.ylabel('Среднее количество товаров в заказе', fontsize=12)\n",
    "plt.show()"
   ]
  },
  {
   "cell_type": "markdown",
   "metadata": {},
   "source": [
    "* Наибольшая средняя стоимость заказа в кластере 0. Кластеры 1 и 2 наиболее близки друг к другу по значению среднего чека.\n",
    "* Наибольшее среднее количество товаров в кластере 3. Кластеры 1 и 2 наиболее близки друг к другу по среднему количеству товаров в заказе.\n",
    "* При тестировании гипотез о равенстве среднего буду сравнивать кластеры 1 и 2 между собой, потому что статистически значимая разница между ними по результатам графического анализа и анализа средних неочевидна."
   ]
  },
  {
   "cell_type": "markdown",
   "metadata": {},
   "source": [
    "### Вывод\n",
    "\n",
    "Кластеры получились разные по количеству пользователей. В них входит от 70 до 1925 покупателей.\n",
    "\n",
    "Для полученных кластеров характерно следующее:\n",
    "\n",
    "**Кластер 0**\n",
    "\n",
    "* Среднее количество заказов 1.02\n",
    "* Совершили в среднем покупки на 4 730 у.е. - самое большое значение среди всех кластеров\n",
    "* В среднем их заказ стоит 4626 у.е.\n",
    "* Среднее количество товаров в заказе 3.38\n",
    "\n",
    "**Кластер 1**\n",
    "\n",
    "* Среднее количество заказов 1\n",
    "* Совершили в среднем покупки на 766 у.е., а, учитывая, среднее количество заказов это значение равно средней стоимости заказа\n",
    "* Среднее количество товаров в заказе 3.13\n",
    "\n",
    "**Кластер 2**\n",
    "\n",
    "* Среднее количество заказов 2.14 - самое большое значение среди всех кластеров\n",
    "* Совершили в среднем покупки на 1701 у.е.\n",
    "* В среднем их заказ стоит 780 у.е.\n",
    "* Среднее количество товаров в заказе 4.32\n",
    "\n",
    "**Кластер 3**\n",
    "\n",
    "* Среднее количество заказов 1\n",
    "* Совершили в среднем покупки на 3 512 у.е., а, учитывая, среднее количество заказов это значение равно средней стоимости заказа\n",
    "* Среднее количество товаров в заказе 51.76 - самое большое значение среди всех кластеров\n",
    "* Самым прибыльным является кластер 0. Наименее прибыльным является кластер 1 - низкая выручки и небольшое среднее количество товаров в заказе. \n",
    "\n",
    "\n",
    "Кластер 3 - достаточно высокая выручка и количество товаров в заказе. Однако эти кластеры скорее всего не являются постоянными клиентами, поскольку среднее количество заказов близко к единице. Постоянными покупателями можно назвать кластер 2 - самое большое среднее количество заказов, достаточная прибыль и количество товаров в заказе.\n",
    "\n",
    "* Наибольшая средняя стоимость заказа в кластере 0. Кластеры 1 и 2 наиболее близки друг к другу по значению среднего чека.\n",
    "* Наибольшее среднее количество товаров в кластере 3. Кластеры 1 и 2 наиболее близки друг к другу по среднему количеству товаров в заказе.\n",
    "* При тестировании гипотез о равенстве среднего буду сравнивать кластеры 1 и 2 между собой, потому что статистически значимая разница между ними по результатам графического анализа и анализа средних неочевидна.\n",
    "\n",
    "Переходим к тестированию гипотез."
   ]
  },
  {
   "cell_type": "markdown",
   "metadata": {},
   "source": [
    "## Шаг 5.  Проверка гипотез"
   ]
  },
  {
   "cell_type": "markdown",
   "metadata": {},
   "source": [
    "### 5.1. Проверка нормальности"
   ]
  },
  {
   "cell_type": "code",
   "execution_count": 55,
   "metadata": {},
   "outputs": [],
   "source": [
    "#переменные, участвующие в проверке гипотез\n",
    "cluster1_order_price= grouped_by_customers[(grouped_by_customers['cluster_km'] == 1) & (grouped_by_customers['avg_order_price'] > 0)]['avg_order_price']\n",
    "cluster2_order_price = grouped_by_customers[(grouped_by_customers['cluster_km'] == 2) & (grouped_by_customers['avg_order_price'] > 0)]['avg_order_price']\n",
    "cluster1_goods_in_order = grouped_by_customers[(grouped_by_customers['cluster_km'] == 1) & (grouped_by_customers['avg_goods_in_order'] > 0)]['avg_goods_in_order']\n",
    "cluster2_goods_in_order = grouped_by_customers[(grouped_by_customers['cluster_km'] == 2) & (grouped_by_customers['avg_goods_in_order'] > 0)]['avg_goods_in_order']"
   ]
  },
  {
   "cell_type": "code",
   "execution_count": 56,
   "metadata": {},
   "outputs": [
    {
     "name": "stdout",
     "output_type": "stream",
     "text": [
      "p-значение:  2.7401083262467055e-35\n",
      "Отвергаем нулевую гипотезу: распределение не нормально\n"
     ]
    }
   ],
   "source": [
    "#проверка среднего чека кластера 1\n",
    "alpha = 0.05 \n",
    "results = st.shapiro(cluster1_order_price)\n",
    "p_value = results[1]\n",
    "print('p-значение: ', p_value)\n",
    "if p_value < alpha:\n",
    "    print('Отвергаем нулевую гипотезу: распределение не нормально')\n",
    "else:\n",
    "    print('Не получилось отвергнуть нулевую гипотезу, всё нормально') "
   ]
  },
  {
   "cell_type": "code",
   "execution_count": 57,
   "metadata": {},
   "outputs": [
    {
     "name": "stdout",
     "output_type": "stream",
     "text": [
      "p-значение:  7.918434137554886e-12\n",
      "Отвергаем нулевую гипотезу: распределение не нормально\n"
     ]
    }
   ],
   "source": [
    "#проверка среднего чека кластера 2\n",
    "alpha = 0.05 \n",
    "results = st.shapiro(cluster2_order_price)\n",
    "p_value = results[1]\n",
    "print('p-значение: ', p_value)\n",
    "if p_value < alpha:\n",
    "    print('Отвергаем нулевую гипотезу: распределение не нормально')\n",
    "else:\n",
    "    print('Не получилось отвергнуть нулевую гипотезу, всё нормально') "
   ]
  },
  {
   "cell_type": "code",
   "execution_count": 58,
   "metadata": {},
   "outputs": [
    {
     "name": "stdout",
     "output_type": "stream",
     "text": [
      "p-значение:  0.0\n",
      "Отвергаем нулевую гипотезу: распределение не нормально\n"
     ]
    }
   ],
   "source": [
    "#проверка среднего количетва товаров в заказе кластера 1\n",
    "alpha = 0.05  \n",
    "results = st.shapiro(cluster1_goods_in_order)\n",
    "p_value = results[1]\n",
    "print('p-значение: ', p_value)\n",
    "if p_value < alpha:\n",
    "    print('Отвергаем нулевую гипотезу: распределение не нормально')\n",
    "else:\n",
    "    print('Не получилось отвергнуть нулевую гипотезу, всё нормально') "
   ]
  },
  {
   "cell_type": "code",
   "execution_count": 59,
   "metadata": {},
   "outputs": [
    {
     "name": "stdout",
     "output_type": "stream",
     "text": [
      "p-значение:  1.1766559013963726e-17\n",
      "Отвергаем нулевую гипотезу: распределение не нормально\n"
     ]
    }
   ],
   "source": [
    "#проверка среднего количетва товаров в заказе кластера 2\n",
    "alpha = 0.05\n",
    "results = st.shapiro(cluster2_goods_in_order)\n",
    "p_value = results[1]\n",
    "print('p-значение: ', p_value)\n",
    "if p_value < alpha:\n",
    "    print('Отвергаем нулевую гипотезу: распределение не нормально')\n",
    "else:\n",
    "    print('Не получилось отвергнуть нулевую гипотезу, всё нормально') "
   ]
  },
  {
   "cell_type": "markdown",
   "metadata": {},
   "source": [
    "Все исследуемые переменные распределены не нормально, поэтому при тестировании гипотез будем использовать **критерий Манна-Уитни**."
   ]
  },
  {
   "cell_type": "markdown",
   "metadata": {},
   "source": [
    "### 5.2. Средние чеки покупателей кластеров 1 и 2 одинаковые."
   ]
  },
  {
   "cell_type": "markdown",
   "metadata": {},
   "source": [
    "#### Формулировка гипотез\n",
    "\n",
    "**Н0 (нулевая гипотеза) - средние чеки покупателей кластеров 1 и 2 одинаковые.**\n",
    "\n",
    "**Н1 (альтернативная гипотеза) - средние чеки покупателей кластеров 1 и 2  разные.**"
   ]
  },
  {
   "cell_type": "code",
   "execution_count": 60,
   "metadata": {
    "scrolled": true
   },
   "outputs": [
    {
     "name": "stdout",
     "output_type": "stream",
     "text": [
      "p-значение: 0.36\n",
      "Не получилось отвергнуть нулевую гипотезу, вывод о различии сделать нельзя\n"
     ]
    }
   ],
   "source": [
    "alpha = 0.05 #задаем критический уровень статистической значимости\n",
    "\n",
    "results = st.mannwhitneyu(cluster1_order_price, cluster2_order_price)\n",
    "\n",
    "print('p-значение:', results.pvalue.round(2))\n",
    "\n",
    "if results.pvalue < alpha:\n",
    "    print('Отвергаем нулевую гипотезу: разница статистически значима')\n",
    "else:\n",
    "    print('Не получилось отвергнуть нулевую гипотезу, вывод о различии сделать нельзя') "
   ]
  },
  {
   "cell_type": "markdown",
   "metadata": {},
   "source": [
    "#### Результат тестирования гипотезы\n",
    "\n",
    "**Не отклоняем нулевую гипотезу.**\n",
    "\n",
    "Верно следующее утверждение: средние чеки покупателей кластеров 1 и 2 одинаковые."
   ]
  },
  {
   "cell_type": "markdown",
   "metadata": {},
   "source": [
    "### 5.3. Среднее количество товара в заказе покупателей кластеров 1 и 2 одинаковые."
   ]
  },
  {
   "cell_type": "markdown",
   "metadata": {},
   "source": [
    "#### Формулировка гипотез\n",
    "\n",
    "**Н0 (нулевая гипотеза) - среднее количество товарав в заказе покупателей кластеров 1 и 2 одинаковое.**\n",
    "\n",
    "**Н1 (альтернативная гипотеза) - среднее количество товарав в заказе  покупателей кластеров 1 и 2  разные.**"
   ]
  },
  {
   "cell_type": "code",
   "execution_count": 61,
   "metadata": {},
   "outputs": [
    {
     "name": "stdout",
     "output_type": "stream",
     "text": [
      "p-значение: 0.0\n",
      "Отвергаем нулевую гипотезу: разница статистически значима\n"
     ]
    }
   ],
   "source": [
    "alpha = 0.05 #задаем критический уровень статистической значимости\n",
    "\n",
    "results = st.mannwhitneyu(cluster1_goods_in_order, cluster2_goods_in_order)\n",
    "\n",
    "print('p-значение:', results.pvalue.round(2))\n",
    "\n",
    "if results.pvalue < alpha:\n",
    "    print('Отвергаем нулевую гипотезу: разница статистически значима')\n",
    "else:\n",
    "    print('Не получилось отвергнуть нулевую гипотезу, вывод о различии сделать нельзя') "
   ]
  },
  {
   "cell_type": "markdown",
   "metadata": {},
   "source": [
    "#### Результат тестирования гипотезы\n",
    "\n",
    "**Отвергаем нулевую гипотезу.**\n",
    "\n",
    "Верно следующее утверждение: средние чеки покупателей кластеров 1 и 2 различаются."
   ]
  },
  {
   "cell_type": "markdown",
   "metadata": {},
   "source": [
    "## Шаг 6. Выводы и рекомендации"
   ]
  },
  {
   "cell_type": "markdown",
   "metadata": {},
   "source": [
    "### 6.1. Выводы"
   ]
  },
  {
   "cell_type": "markdown",
   "metadata": {},
   "source": [
    "\n",
    "\n",
    "\n",
    "На основании полученных статистик можно сказать следующее:\n",
    "\n",
    "* в среднем один пользователь сделал 1,15 заказ +/- 2.67;\n",
    "* выручка с одного пользователя составляет около 1986 у.е.;\n",
    "* в среднем в одном заказе 2,5 единины товара;\n",
    "* в среднем в заказе 6 единиц разных товаров;\n",
    "* средняя цена одного товара в заказе 777 у.е.;\n",
    "* средняя стоимость заказа одного товара 1782 у.е.;\n",
    "* чаще в 1 одном заказе один товар встречается 1 раз, однако в каком-то из заказов присутствовало 1000 единиц товара, что вероятно можно отнести к выбросу;\n",
    "* максимальная цена одного товара 14 тысяч у.е., что тоже похоже на выброс, т.к. 75% квантиль 974 у.е.;\n",
    "* минимальная цена заказа 14 у.е., максимальная - 675 000 у.е.\n",
    "\n",
    "В целом стоимость заказов равномерна в течение рассматриваемого периода. Стоимость заказов в 2019 году ниже, чем в октябре-декабре 2018 года. Заказы по стоимости не превышают 420 000 у.е. Отмечается максимальное значение продаж в июне. В августе продажи минимальны - меньше 200 000 у.е.\n",
    "\n",
    "Количество покупателей неоднородно в течение всего рассматриваемого периода. Минимальное количество покупателей в январе 2019 - 155 уникальных покупателей. Максимальные значения зафиксированы в марте и апреле 2019 года. В последующие месяцы наблюдалось снижение количества уникальных покупателей. Их количество колебалось от 155 до 187 пользователей.\n",
    "\n",
    "В лидерах покупатель заказа с суммой заказа 166 997 у.е. Сумма расходов топ-5 покупателей от 53 до 167 тыс. у.е. Исходя из ящика с усами, покупатели, чьи заказы на 15 000 тыс. у.е. скорее похожи на выбросы, поэтому удалила их.\n",
    "\n",
    "В лидерах рейтинга по количеству купленных за один заказ товаров покупатель с 7 товарами в заказе . Исходя из ящика с усами, покупатели, чьи количество товаров в заказе больше 4 товаров, скорее похожи на выбросы, поэтому удалила их.\n",
    "\n",
    "В рейтинг покупателей с наиманьшей выручкой вошли покупатели, вероятно не являющиеся постоянными клиентами магазина и совершившие единоразовые недорогие покупки (от 14 до 22 у.е.).\n",
    "\n",
    "Список товаров, возглавляемых топ-10 по продажам и количеству идентичный. В него входим сумка-тележка и цветок перагония. Как правило сумки-тележки особенно популярны у дачников, впрочем, как и цветы. Также такие цветы обычно высаживают на городских клумбах. Полагаю, что основными клиентами магазина являются как физические лица, закупающие в розницу, так и компании, закупающие оптом.\n",
    "\n",
    "Предложенное оптимальное число кластеров 4.\n",
    "\n",
    "Кластеры получились разные по количеству пользователей. В них входит от 70 до 1925 покупателей.\n",
    "\n",
    "Для полученных кластеров характерно следующее:\n",
    "\n",
    "**Кластер 0**\n",
    "\n",
    "* Среднее количество заказов 1.02\n",
    "* Совершили в среднем покупки на 4 730 у.е. - самое большое значение среди всех кластеров\n",
    "* В среднем их заказ стоит 4626 у.е.\n",
    "* Среднее количество товаров в заказе 3.38\n",
    "\n",
    "**Кластер 1**\n",
    "\n",
    "* Среднее количество заказов 1\n",
    "* Совершили в среднем покупки на 766 у.е., а, учитывая, среднее количество заказов это значение равно средней стоимости заказа\n",
    "* Среднее количество товаров в заказе 3.13\n",
    "\n",
    "**Кластер 2**\n",
    "\n",
    "* Среднее количество заказов 2.14 - самое большое значение среди всех кластеров\n",
    "* Совершили в среднем покупки на 1701 у.е.\n",
    "* В среднем их заказ стоит 780 у.е.\n",
    "* Среднее количество товаров в заказе 4.32\n",
    "\n",
    "**Кластер 3**\n",
    "\n",
    "* Среднее количество заказов 1\n",
    "* Совершили в среднем покупки на 3 512 у.е., а, учитывая, среднее количество заказов это значение равно средней стоимости заказа\n",
    "* Среднее количество товаров в заказе 51.76 - самое большое значение среди всех кластеров\n",
    "\n",
    "Самым прибыльным является кластер 0. Наименее прибыльным является кластер 1 - низкая выручки и небольшое среднее количество товаров в заказе. Кластер 3 - достаточно высокая выручка и количество товаров в заказе. Однако эти кластеры скорее всего не являются постоянными клиентами, поскольку среднее количество заказов близко к единице. Постоянными покупателями можно назвать кластер 2 - самое большое среднее количество заказов, достаточная прибыль и количество товаров в заказе."
   ]
  },
  {
   "cell_type": "markdown",
   "metadata": {},
   "source": [
    "### 6.2. Рекомендации"
   ]
  },
  {
   "cell_type": "markdown",
   "metadata": {},
   "source": [
    "1. В основном все покупатели совершают в среднем 1 заказ (за исключением покупателей из кластера 2). Можно предлагать акции для покупателей из кластеров 0,1 и 3 вроде купона на скидку на повторную покупку или карты постоянного покупателя, скидка по которой будет зависеть от суммы покупок;\n",
    "2. В настоящее время средний чек кластеров различается значительно. Можно наращивать средний чек в кластере 1 за счет кросс-продаж и скидок при покупке второго и последующих товаров;\n",
    "3. В кластере 3 самое большое среднее количество товаров и разных видов товаров в одном заказе. Для кластеров 0,1 и 2 можно также наращивать за счет кросс-продаж и скидок при покупке второго и последующих товаров;\n",
    "4. Поскольку самый большой чек в кластере 0 можно увеличить им предложение более дорогих товаров;\n",
    "5. Поскольку самое большое количество товаров в кластере 3 им можно предлагать скидки при покупке товаров больше среднего по кластеру."
   ]
  }
 ],
 "metadata": {
  "ExecuteTimeLog": [
   {
    "duration": 1516,
    "start_time": "2022-03-06T17:20:28.348Z"
   },
   {
    "duration": 1393,
    "start_time": "2022-03-06T17:20:32.992Z"
   },
   {
    "duration": 49,
    "start_time": "2022-03-06T17:21:03.333Z"
   },
   {
    "duration": 13,
    "start_time": "2022-03-06T17:21:48.028Z"
   },
   {
    "duration": 10,
    "start_time": "2022-03-06T17:21:58.261Z"
   },
   {
    "duration": 8,
    "start_time": "2022-03-06T17:22:12.764Z"
   },
   {
    "duration": 5,
    "start_time": "2022-03-06T17:23:30.211Z"
   },
   {
    "duration": 3,
    "start_time": "2022-03-06T17:23:53.206Z"
   },
   {
    "duration": 10,
    "start_time": "2022-03-06T17:23:54.140Z"
   },
   {
    "duration": 7,
    "start_time": "2022-03-06T17:23:58.092Z"
   },
   {
    "duration": 10,
    "start_time": "2022-03-06T17:24:18.677Z"
   },
   {
    "duration": 9,
    "start_time": "2022-03-06T17:24:32.691Z"
   },
   {
    "duration": 3,
    "start_time": "2022-03-06T17:39:04.893Z"
   },
   {
    "duration": 16,
    "start_time": "2022-03-06T17:39:13.860Z"
   },
   {
    "duration": 15,
    "start_time": "2022-03-06T17:39:33.168Z"
   },
   {
    "duration": 12,
    "start_time": "2022-03-06T17:39:47.263Z"
   },
   {
    "duration": 11,
    "start_time": "2022-03-06T17:39:58.943Z"
   },
   {
    "duration": 12,
    "start_time": "2022-03-06T17:40:16.468Z"
   },
   {
    "duration": 166,
    "start_time": "2022-03-06T17:46:12.957Z"
   },
   {
    "duration": 5,
    "start_time": "2022-03-06T17:46:23.518Z"
   },
   {
    "duration": 11,
    "start_time": "2022-03-06T17:46:30.779Z"
   },
   {
    "duration": 5,
    "start_time": "2022-03-06T17:46:53.101Z"
   },
   {
    "duration": 5,
    "start_time": "2022-03-06T17:47:04.209Z"
   },
   {
    "duration": 5,
    "start_time": "2022-03-06T18:02:52.573Z"
   },
   {
    "duration": 5,
    "start_time": "2022-03-06T18:08:27.949Z"
   },
   {
    "duration": 4,
    "start_time": "2022-03-06T18:08:44.783Z"
   },
   {
    "duration": 8,
    "start_time": "2022-03-06T18:16:30.308Z"
   },
   {
    "duration": 8,
    "start_time": "2022-03-06T18:16:51.129Z"
   },
   {
    "duration": 7,
    "start_time": "2022-03-06T18:19:08.578Z"
   },
   {
    "duration": 8,
    "start_time": "2022-03-06T18:19:12.687Z"
   },
   {
    "duration": 7,
    "start_time": "2022-03-06T18:19:20.030Z"
   },
   {
    "duration": 16,
    "start_time": "2022-03-06T18:21:11.705Z"
   },
   {
    "duration": 16,
    "start_time": "2022-03-06T18:21:28.150Z"
   },
   {
    "duration": 17,
    "start_time": "2022-03-06T18:21:41.641Z"
   },
   {
    "duration": 17,
    "start_time": "2022-03-06T18:21:51.760Z"
   },
   {
    "duration": 16,
    "start_time": "2022-03-06T18:21:57.843Z"
   },
   {
    "duration": 5,
    "start_time": "2022-03-06T18:22:05.926Z"
   },
   {
    "duration": 17,
    "start_time": "2022-03-06T18:22:13.860Z"
   },
   {
    "duration": 16,
    "start_time": "2022-03-06T18:22:21.844Z"
   },
   {
    "duration": 17,
    "start_time": "2022-03-06T18:22:32.315Z"
   },
   {
    "duration": 16,
    "start_time": "2022-03-06T18:22:37.841Z"
   },
   {
    "duration": 5,
    "start_time": "2022-03-06T18:22:53.034Z"
   },
   {
    "duration": 15,
    "start_time": "2022-03-06T18:23:11.246Z"
   },
   {
    "duration": 17,
    "start_time": "2022-03-06T18:23:17.010Z"
   },
   {
    "duration": 16,
    "start_time": "2022-03-06T18:23:31.036Z"
   },
   {
    "duration": 23,
    "start_time": "2022-03-06T18:23:36.376Z"
   },
   {
    "duration": 23,
    "start_time": "2022-03-06T18:23:41.320Z"
   },
   {
    "duration": 17,
    "start_time": "2022-03-06T18:23:47.008Z"
   },
   {
    "duration": 22,
    "start_time": "2022-03-06T18:23:51.614Z"
   },
   {
    "duration": 19,
    "start_time": "2022-03-06T18:24:37.455Z"
   },
   {
    "duration": 7,
    "start_time": "2022-03-06T18:28:58.087Z"
   },
   {
    "duration": 10,
    "start_time": "2022-03-06T18:29:05.373Z"
   },
   {
    "duration": 11,
    "start_time": "2022-03-06T18:29:28.357Z"
   },
   {
    "duration": 12,
    "start_time": "2022-03-06T18:32:06.172Z"
   },
   {
    "duration": 15,
    "start_time": "2022-03-06T18:32:49.539Z"
   },
   {
    "duration": 17,
    "start_time": "2022-03-06T18:34:26.009Z"
   },
   {
    "duration": 16,
    "start_time": "2022-03-06T18:34:54.005Z"
   },
   {
    "duration": 193,
    "start_time": "2022-03-06T18:39:11.689Z"
   },
   {
    "duration": 206,
    "start_time": "2022-03-06T18:39:21.954Z"
   },
   {
    "duration": 4152,
    "start_time": "2022-03-06T18:39:39.068Z"
   },
   {
    "duration": 15,
    "start_time": "2022-03-06T18:39:49.613Z"
   },
   {
    "duration": 14,
    "start_time": "2022-03-06T18:39:58.150Z"
   },
   {
    "duration": 15,
    "start_time": "2022-03-06T18:40:03.037Z"
   },
   {
    "duration": 16,
    "start_time": "2022-03-06T18:40:07.504Z"
   },
   {
    "duration": 6,
    "start_time": "2022-03-06T18:57:35.409Z"
   },
   {
    "duration": 171,
    "start_time": "2022-03-06T19:55:28.014Z"
   },
   {
    "duration": 10,
    "start_time": "2022-03-06T19:55:48.740Z"
   },
   {
    "duration": 6,
    "start_time": "2022-03-06T19:55:50.935Z"
   },
   {
    "duration": 9,
    "start_time": "2022-03-06T19:56:00.723Z"
   },
   {
    "duration": 6,
    "start_time": "2022-03-06T20:04:46.680Z"
   },
   {
    "duration": 8,
    "start_time": "2022-03-06T20:04:47.969Z"
   },
   {
    "duration": 11,
    "start_time": "2022-03-06T20:05:04.261Z"
   },
   {
    "duration": 7,
    "start_time": "2022-03-06T20:05:38.269Z"
   },
   {
    "duration": 9,
    "start_time": "2022-03-06T20:05:38.952Z"
   },
   {
    "duration": 11,
    "start_time": "2022-03-06T20:05:39.866Z"
   },
   {
    "duration": 6,
    "start_time": "2022-03-06T20:05:53.086Z"
   },
   {
    "duration": 8,
    "start_time": "2022-03-06T20:05:53.832Z"
   },
   {
    "duration": 10,
    "start_time": "2022-03-06T20:05:54.688Z"
   },
   {
    "duration": 203,
    "start_time": "2022-03-06T20:06:34.682Z"
   },
   {
    "duration": 191,
    "start_time": "2022-03-06T20:06:41.296Z"
   },
   {
    "duration": 11,
    "start_time": "2022-03-06T20:08:59.461Z"
   },
   {
    "duration": 10,
    "start_time": "2022-03-06T20:09:00.969Z"
   },
   {
    "duration": 17,
    "start_time": "2022-03-06T20:09:01.735Z"
   },
   {
    "duration": 6,
    "start_time": "2022-03-06T20:09:09.817Z"
   },
   {
    "duration": 12,
    "start_time": "2022-03-06T20:09:10.417Z"
   },
   {
    "duration": 9,
    "start_time": "2022-03-06T20:09:11.285Z"
   },
   {
    "duration": 12,
    "start_time": "2022-03-06T20:09:44.061Z"
   },
   {
    "duration": 8,
    "start_time": "2022-03-06T20:09:44.968Z"
   },
   {
    "duration": 10,
    "start_time": "2022-03-06T20:09:45.669Z"
   },
   {
    "duration": 6,
    "start_time": "2022-03-06T20:09:57.131Z"
   },
   {
    "duration": 7,
    "start_time": "2022-03-06T20:09:57.731Z"
   },
   {
    "duration": 17,
    "start_time": "2022-03-06T20:09:58.341Z"
   },
   {
    "duration": 10,
    "start_time": "2022-03-06T20:10:03.788Z"
   },
   {
    "duration": 10,
    "start_time": "2022-03-06T20:10:04.434Z"
   },
   {
    "duration": 18,
    "start_time": "2022-03-06T20:10:05.255Z"
   },
   {
    "duration": 7,
    "start_time": "2022-03-06T20:13:14.496Z"
   },
   {
    "duration": 8,
    "start_time": "2022-03-06T20:13:15.516Z"
   },
   {
    "duration": 10,
    "start_time": "2022-03-06T20:13:16.524Z"
   },
   {
    "duration": 2170,
    "start_time": "2022-03-06T20:13:25.923Z"
   },
   {
    "duration": 50,
    "start_time": "2022-03-06T20:13:28.095Z"
   },
   {
    "duration": 6,
    "start_time": "2022-03-06T20:13:28.148Z"
   },
   {
    "duration": 16,
    "start_time": "2022-03-06T20:13:28.157Z"
   },
   {
    "duration": 11,
    "start_time": "2022-03-06T20:13:28.174Z"
   },
   {
    "duration": 10,
    "start_time": "2022-03-06T20:13:28.187Z"
   },
   {
    "duration": 7,
    "start_time": "2022-03-06T20:13:28.199Z"
   },
   {
    "duration": 42,
    "start_time": "2022-03-06T20:13:28.208Z"
   },
   {
    "duration": 6,
    "start_time": "2022-03-06T20:13:28.255Z"
   },
   {
    "duration": 10,
    "start_time": "2022-03-06T20:13:28.263Z"
   },
   {
    "duration": 22,
    "start_time": "2022-03-06T20:13:28.275Z"
   },
   {
    "duration": 10,
    "start_time": "2022-03-06T20:13:28.299Z"
   },
   {
    "duration": 34,
    "start_time": "2022-03-06T20:13:28.311Z"
   },
   {
    "duration": 16,
    "start_time": "2022-03-06T20:13:28.349Z"
   },
   {
    "duration": 263,
    "start_time": "2022-03-06T20:16:28.220Z"
   },
   {
    "duration": 191,
    "start_time": "2022-03-06T20:16:42.767Z"
   },
   {
    "duration": 211,
    "start_time": "2022-03-06T20:16:50.553Z"
   },
   {
    "duration": 185,
    "start_time": "2022-03-06T20:19:10.016Z"
   },
   {
    "duration": 5,
    "start_time": "2022-03-06T20:19:51.668Z"
   },
   {
    "duration": 1148,
    "start_time": "2022-03-06T20:23:58.665Z"
   },
   {
    "duration": 29,
    "start_time": "2022-03-06T20:23:59.814Z"
   },
   {
    "duration": 11,
    "start_time": "2022-03-06T20:23:59.846Z"
   },
   {
    "duration": 22,
    "start_time": "2022-03-06T20:23:59.862Z"
   },
   {
    "duration": 8,
    "start_time": "2022-03-06T20:23:59.886Z"
   },
   {
    "duration": 6,
    "start_time": "2022-03-06T20:23:59.896Z"
   },
   {
    "duration": 40,
    "start_time": "2022-03-06T20:23:59.903Z"
   },
   {
    "duration": 24,
    "start_time": "2022-03-06T20:23:59.946Z"
   },
   {
    "duration": 25,
    "start_time": "2022-03-06T20:23:59.972Z"
   },
   {
    "duration": 23,
    "start_time": "2022-03-06T20:23:59.999Z"
   },
   {
    "duration": 43,
    "start_time": "2022-03-06T20:24:00.024Z"
   },
   {
    "duration": 31,
    "start_time": "2022-03-06T20:24:00.069Z"
   },
   {
    "duration": 31,
    "start_time": "2022-03-06T20:24:00.102Z"
   },
   {
    "duration": 30,
    "start_time": "2022-03-06T20:24:00.135Z"
   },
   {
    "duration": 1306,
    "start_time": "2022-03-06T20:25:10.831Z"
   },
   {
    "duration": 35,
    "start_time": "2022-03-06T20:25:12.141Z"
   },
   {
    "duration": 5,
    "start_time": "2022-03-06T20:25:12.178Z"
   },
   {
    "duration": 13,
    "start_time": "2022-03-06T20:25:12.185Z"
   },
   {
    "duration": 9,
    "start_time": "2022-03-06T20:25:12.200Z"
   },
   {
    "duration": 33,
    "start_time": "2022-03-06T20:25:12.211Z"
   },
   {
    "duration": 16,
    "start_time": "2022-03-06T20:25:12.247Z"
   },
   {
    "duration": 9,
    "start_time": "2022-03-06T20:25:12.265Z"
   },
   {
    "duration": 4,
    "start_time": "2022-03-06T20:25:12.276Z"
   },
   {
    "duration": 6,
    "start_time": "2022-03-06T20:25:12.282Z"
   },
   {
    "duration": 50,
    "start_time": "2022-03-06T20:25:12.289Z"
   },
   {
    "duration": 12,
    "start_time": "2022-03-06T20:25:12.341Z"
   },
   {
    "duration": 22,
    "start_time": "2022-03-06T20:25:12.356Z"
   },
   {
    "duration": 11,
    "start_time": "2022-03-06T20:25:12.380Z"
   },
   {
    "duration": 1154,
    "start_time": "2022-03-06T20:27:08.755Z"
   },
   {
    "duration": 1846,
    "start_time": "2022-03-06T20:27:09.911Z"
   },
   {
    "duration": -166,
    "start_time": "2022-03-06T20:27:11.928Z"
   },
   {
    "duration": -171,
    "start_time": "2022-03-06T20:27:11.935Z"
   },
   {
    "duration": -170,
    "start_time": "2022-03-06T20:27:11.935Z"
   },
   {
    "duration": -170,
    "start_time": "2022-03-06T20:27:11.936Z"
   },
   {
    "duration": -170,
    "start_time": "2022-03-06T20:27:11.937Z"
   },
   {
    "duration": -170,
    "start_time": "2022-03-06T20:27:11.938Z"
   },
   {
    "duration": -169,
    "start_time": "2022-03-06T20:27:11.938Z"
   },
   {
    "duration": -169,
    "start_time": "2022-03-06T20:27:11.939Z"
   },
   {
    "duration": -167,
    "start_time": "2022-03-06T20:27:11.939Z"
   },
   {
    "duration": -168,
    "start_time": "2022-03-06T20:27:11.940Z"
   },
   {
    "duration": -167,
    "start_time": "2022-03-06T20:27:11.940Z"
   },
   {
    "duration": -167,
    "start_time": "2022-03-06T20:27:11.941Z"
   },
   {
    "duration": 1711,
    "start_time": "2022-03-06T20:27:44.300Z"
   },
   {
    "duration": 1768,
    "start_time": "2022-03-06T20:27:52.291Z"
   },
   {
    "duration": 1666,
    "start_time": "2022-03-06T20:27:58.322Z"
   },
   {
    "duration": 86,
    "start_time": "2022-03-06T20:28:14.186Z"
   },
   {
    "duration": 5,
    "start_time": "2022-03-06T20:28:19.531Z"
   },
   {
    "duration": 13,
    "start_time": "2022-03-06T20:28:20.197Z"
   },
   {
    "duration": 8,
    "start_time": "2022-03-06T20:28:22.805Z"
   },
   {
    "duration": 6,
    "start_time": "2022-03-06T20:28:24.406Z"
   },
   {
    "duration": 8,
    "start_time": "2022-03-06T20:28:27.178Z"
   },
   {
    "duration": 11,
    "start_time": "2022-03-06T20:28:28.332Z"
   },
   {
    "duration": 7,
    "start_time": "2022-03-06T20:28:28.758Z"
   },
   {
    "duration": 4,
    "start_time": "2022-03-06T20:28:28.971Z"
   },
   {
    "duration": 15,
    "start_time": "2022-03-06T20:28:29.171Z"
   },
   {
    "duration": 16,
    "start_time": "2022-03-06T20:28:31.239Z"
   },
   {
    "duration": 8,
    "start_time": "2022-03-06T20:28:31.811Z"
   },
   {
    "duration": 12,
    "start_time": "2022-03-06T20:28:32.561Z"
   },
   {
    "duration": 82,
    "start_time": "2022-03-06T20:29:48.829Z"
   },
   {
    "duration": 4,
    "start_time": "2022-03-06T20:29:49.599Z"
   },
   {
    "duration": 1197,
    "start_time": "2022-03-06T20:29:54.269Z"
   },
   {
    "duration": 75,
    "start_time": "2022-03-06T20:29:55.468Z"
   },
   {
    "duration": 7,
    "start_time": "2022-03-06T20:29:55.547Z"
   },
   {
    "duration": 25,
    "start_time": "2022-03-06T20:29:55.556Z"
   },
   {
    "duration": 13,
    "start_time": "2022-03-06T20:29:55.583Z"
   },
   {
    "duration": 10,
    "start_time": "2022-03-06T20:29:55.598Z"
   },
   {
    "duration": 9,
    "start_time": "2022-03-06T20:29:55.609Z"
   },
   {
    "duration": 22,
    "start_time": "2022-03-06T20:29:55.620Z"
   },
   {
    "duration": 7,
    "start_time": "2022-03-06T20:29:55.646Z"
   },
   {
    "duration": 11,
    "start_time": "2022-03-06T20:29:55.656Z"
   },
   {
    "duration": 19,
    "start_time": "2022-03-06T20:29:55.669Z"
   },
   {
    "duration": 9,
    "start_time": "2022-03-06T20:29:55.689Z"
   },
   {
    "duration": 14,
    "start_time": "2022-03-06T20:29:55.700Z"
   },
   {
    "duration": 35,
    "start_time": "2022-03-06T20:29:55.715Z"
   },
   {
    "duration": 11,
    "start_time": "2022-03-06T20:33:32.631Z"
   },
   {
    "duration": 10,
    "start_time": "2022-03-06T20:33:35.362Z"
   },
   {
    "duration": 17,
    "start_time": "2022-03-06T20:35:01.969Z"
   },
   {
    "duration": 271,
    "start_time": "2022-03-06T21:06:59.689Z"
   },
   {
    "duration": 4324,
    "start_time": "2022-03-06T21:07:04.644Z"
   },
   {
    "duration": 4212,
    "start_time": "2022-03-06T21:07:24.016Z"
   },
   {
    "duration": 82,
    "start_time": "2022-03-06T21:07:40.748Z"
   },
   {
    "duration": 173,
    "start_time": "2022-03-06T21:07:52.163Z"
   },
   {
    "duration": 21,
    "start_time": "2022-03-06T21:11:14.927Z"
   },
   {
    "duration": 26,
    "start_time": "2022-03-06T21:11:51.431Z"
   },
   {
    "duration": 32,
    "start_time": "2022-03-06T21:12:51.254Z"
   },
   {
    "duration": 170,
    "start_time": "2022-03-06T21:13:40.094Z"
   },
   {
    "duration": 29,
    "start_time": "2022-03-06T21:13:47.138Z"
   },
   {
    "duration": 10,
    "start_time": "2022-03-06T21:31:46.271Z"
   },
   {
    "duration": 10,
    "start_time": "2022-03-06T21:31:50.919Z"
   },
   {
    "duration": 6,
    "start_time": "2022-03-06T21:32:57.904Z"
   },
   {
    "duration": 10,
    "start_time": "2022-03-06T21:33:03.190Z"
   },
   {
    "duration": 6,
    "start_time": "2022-03-06T21:34:55.905Z"
   },
   {
    "duration": 8,
    "start_time": "2022-03-06T21:34:56.403Z"
   },
   {
    "duration": 12,
    "start_time": "2022-03-06T21:35:51.287Z"
   },
   {
    "duration": 14,
    "start_time": "2022-03-06T21:36:18.490Z"
   },
   {
    "duration": 12,
    "start_time": "2022-03-06T21:36:43.124Z"
   },
   {
    "duration": 13,
    "start_time": "2022-03-06T21:38:06.904Z"
   },
   {
    "duration": 13,
    "start_time": "2022-03-06T21:38:24.489Z"
   },
   {
    "duration": 12,
    "start_time": "2022-03-06T21:44:52.818Z"
   },
   {
    "duration": 13,
    "start_time": "2022-03-06T21:45:10.800Z"
   },
   {
    "duration": 11,
    "start_time": "2022-03-06T21:48:19.843Z"
   },
   {
    "duration": 13,
    "start_time": "2022-03-06T21:48:26.600Z"
   },
   {
    "duration": 11,
    "start_time": "2022-03-06T21:48:45.857Z"
   },
   {
    "duration": 16,
    "start_time": "2022-03-06T21:49:28.370Z"
   },
   {
    "duration": 11,
    "start_time": "2022-03-06T21:51:21.949Z"
   },
   {
    "duration": 12,
    "start_time": "2022-03-06T21:51:33.366Z"
   },
   {
    "duration": 18,
    "start_time": "2022-03-06T21:52:23.788Z"
   },
   {
    "duration": 12,
    "start_time": "2022-03-06T21:53:18.409Z"
   },
   {
    "duration": 11,
    "start_time": "2022-03-06T21:54:52.198Z"
   },
   {
    "duration": 11,
    "start_time": "2022-03-06T21:55:43.597Z"
   },
   {
    "duration": 12,
    "start_time": "2022-03-06T21:56:05.372Z"
   },
   {
    "duration": 11,
    "start_time": "2022-03-06T21:56:19.294Z"
   },
   {
    "duration": 13,
    "start_time": "2022-03-06T22:11:44.703Z"
   },
   {
    "duration": 12,
    "start_time": "2022-03-06T22:12:05.752Z"
   },
   {
    "duration": 12,
    "start_time": "2022-03-06T22:12:23.789Z"
   },
   {
    "duration": 12,
    "start_time": "2022-03-06T22:12:34.400Z"
   },
   {
    "duration": 216,
    "start_time": "2022-03-06T22:14:13.122Z"
   },
   {
    "duration": 12,
    "start_time": "2022-03-06T22:14:25.388Z"
   },
   {
    "duration": 754,
    "start_time": "2022-03-06T22:22:24.711Z"
   },
   {
    "duration": 669,
    "start_time": "2022-03-06T22:23:04.017Z"
   },
   {
    "duration": 16,
    "start_time": "2022-03-06T22:23:11.915Z"
   },
   {
    "duration": 17,
    "start_time": "2022-03-06T22:36:49.710Z"
   },
   {
    "duration": 17,
    "start_time": "2022-03-06T22:37:19.902Z"
   },
   {
    "duration": 17,
    "start_time": "2022-03-06T22:37:26.725Z"
   },
   {
    "duration": 17,
    "start_time": "2022-03-06T22:37:30.150Z"
   },
   {
    "duration": 19,
    "start_time": "2022-03-06T22:37:35.616Z"
   },
   {
    "duration": 18,
    "start_time": "2022-03-06T22:37:40.848Z"
   },
   {
    "duration": 19,
    "start_time": "2022-03-06T22:37:46.580Z"
   },
   {
    "duration": 188,
    "start_time": "2022-03-06T22:38:18.283Z"
   },
   {
    "duration": 197,
    "start_time": "2022-03-06T22:38:24.363Z"
   },
   {
    "duration": 180,
    "start_time": "2022-03-06T22:38:34.367Z"
   },
   {
    "duration": 189,
    "start_time": "2022-03-06T22:38:44.792Z"
   },
   {
    "duration": 14,
    "start_time": "2022-03-06T22:40:47.591Z"
   },
   {
    "duration": 17,
    "start_time": "2022-03-06T22:40:53.379Z"
   },
   {
    "duration": 60,
    "start_time": "2022-03-06T22:41:54.408Z"
   },
   {
    "duration": 61,
    "start_time": "2022-03-06T22:42:05.585Z"
   },
   {
    "duration": 178,
    "start_time": "2022-03-06T22:43:37.814Z"
   },
   {
    "duration": 170,
    "start_time": "2022-03-06T22:43:46.981Z"
   },
   {
    "duration": 21,
    "start_time": "2022-03-06T22:44:31.257Z"
   },
   {
    "duration": 1906,
    "start_time": "2022-03-06T22:44:41.849Z"
   },
   {
    "duration": 14,
    "start_time": "2022-03-06T22:45:07.848Z"
   },
   {
    "duration": 178,
    "start_time": "2022-03-06T22:45:21.499Z"
   },
   {
    "duration": 9,
    "start_time": "2022-03-06T22:45:43.583Z"
   },
   {
    "duration": 19,
    "start_time": "2022-03-06T22:45:58.680Z"
   },
   {
    "duration": 11,
    "start_time": "2022-03-06T22:46:02.681Z"
   },
   {
    "duration": 16,
    "start_time": "2022-03-06T22:46:08.382Z"
   },
   {
    "duration": 17,
    "start_time": "2022-03-06T22:46:13.090Z"
   },
   {
    "duration": 6,
    "start_time": "2022-03-06T22:46:52.897Z"
   },
   {
    "duration": 17,
    "start_time": "2022-03-06T22:46:58.047Z"
   },
   {
    "duration": 18,
    "start_time": "2022-03-06T22:47:24.882Z"
   },
   {
    "duration": 17,
    "start_time": "2022-03-06T22:47:34.563Z"
   },
   {
    "duration": 19,
    "start_time": "2022-03-06T22:50:10.134Z"
   },
   {
    "duration": 17,
    "start_time": "2022-03-06T22:50:19.773Z"
   },
   {
    "duration": 196,
    "start_time": "2022-03-06T22:53:24.539Z"
   },
   {
    "duration": 17,
    "start_time": "2022-03-06T22:53:33.240Z"
   },
   {
    "duration": 300,
    "start_time": "2022-03-07T06:21:59.401Z"
   },
   {
    "duration": 1136,
    "start_time": "2022-03-07T06:22:04.994Z"
   },
   {
    "duration": 92,
    "start_time": "2022-03-07T06:22:06.132Z"
   },
   {
    "duration": 5,
    "start_time": "2022-03-07T06:22:06.226Z"
   },
   {
    "duration": 19,
    "start_time": "2022-03-07T06:22:06.232Z"
   },
   {
    "duration": 24,
    "start_time": "2022-03-07T06:22:06.252Z"
   },
   {
    "duration": 16,
    "start_time": "2022-03-07T06:22:06.278Z"
   },
   {
    "duration": 18,
    "start_time": "2022-03-07T06:22:06.296Z"
   },
   {
    "duration": 24,
    "start_time": "2022-03-07T06:22:06.316Z"
   },
   {
    "duration": 5,
    "start_time": "2022-03-07T06:22:06.344Z"
   },
   {
    "duration": 19,
    "start_time": "2022-03-07T06:22:06.351Z"
   },
   {
    "duration": 22,
    "start_time": "2022-03-07T06:22:06.372Z"
   },
   {
    "duration": 10,
    "start_time": "2022-03-07T06:22:06.396Z"
   },
   {
    "duration": 20,
    "start_time": "2022-03-07T06:22:06.408Z"
   },
   {
    "duration": 27,
    "start_time": "2022-03-07T06:22:06.430Z"
   },
   {
    "duration": 19,
    "start_time": "2022-03-07T06:22:06.459Z"
   },
   {
    "duration": 18,
    "start_time": "2022-03-07T06:22:06.480Z"
   },
   {
    "duration": 27,
    "start_time": "2022-03-07T06:22:06.500Z"
   },
   {
    "duration": 12,
    "start_time": "2022-03-07T06:22:21.315Z"
   },
   {
    "duration": 14,
    "start_time": "2022-03-07T06:22:33.712Z"
   },
   {
    "duration": 13,
    "start_time": "2022-03-07T06:25:26.412Z"
   },
   {
    "duration": 438,
    "start_time": "2022-03-07T16:35:16.696Z"
   },
   {
    "duration": 425,
    "start_time": "2022-03-07T16:35:27.325Z"
   },
   {
    "duration": 394,
    "start_time": "2022-03-07T16:35:37.990Z"
   },
   {
    "duration": 493,
    "start_time": "2022-03-07T16:35:45.855Z"
   },
   {
    "duration": 1304,
    "start_time": "2022-03-07T16:35:55.072Z"
   },
   {
    "duration": 396,
    "start_time": "2022-03-07T16:35:56.378Z"
   },
   {
    "duration": 4,
    "start_time": "2022-03-07T16:35:56.776Z"
   },
   {
    "duration": 11,
    "start_time": "2022-03-07T16:35:56.782Z"
   },
   {
    "duration": 6,
    "start_time": "2022-03-07T16:35:56.795Z"
   },
   {
    "duration": 6,
    "start_time": "2022-03-07T16:35:56.803Z"
   },
   {
    "duration": 7,
    "start_time": "2022-03-07T16:35:56.810Z"
   },
   {
    "duration": 8,
    "start_time": "2022-03-07T16:35:56.819Z"
   },
   {
    "duration": 4,
    "start_time": "2022-03-07T16:35:56.830Z"
   },
   {
    "duration": 5,
    "start_time": "2022-03-07T16:35:56.836Z"
   },
   {
    "duration": 15,
    "start_time": "2022-03-07T16:35:56.843Z"
   },
   {
    "duration": 5,
    "start_time": "2022-03-07T16:35:56.860Z"
   },
   {
    "duration": 41,
    "start_time": "2022-03-07T16:35:56.866Z"
   },
   {
    "duration": 15,
    "start_time": "2022-03-07T16:35:56.909Z"
   },
   {
    "duration": 11,
    "start_time": "2022-03-07T16:35:56.926Z"
   },
   {
    "duration": 12,
    "start_time": "2022-03-07T16:35:56.939Z"
   },
   {
    "duration": 480,
    "start_time": "2022-03-07T16:35:56.953Z"
   },
   {
    "duration": 349,
    "start_time": "2022-03-07T16:40:47.072Z"
   },
   {
    "duration": 348,
    "start_time": "2022-03-07T16:40:53.107Z"
   },
   {
    "duration": 5483,
    "start_time": "2022-03-07T16:41:05.931Z"
   },
   {
    "duration": 5597,
    "start_time": "2022-03-07T16:43:11.096Z"
   },
   {
    "duration": 4004,
    "start_time": "2022-03-07T16:53:13.443Z"
   },
   {
    "duration": 533,
    "start_time": "2022-03-07T16:54:52.239Z"
   },
   {
    "duration": 3978,
    "start_time": "2022-03-07T16:55:09.247Z"
   },
   {
    "duration": 96,
    "start_time": "2022-03-07T16:55:37.901Z"
   },
   {
    "duration": 5743,
    "start_time": "2022-03-07T16:55:43.132Z"
   },
   {
    "duration": 9,
    "start_time": "2022-03-07T16:58:56.464Z"
   },
   {
    "duration": 1078,
    "start_time": "2022-03-07T16:59:15.925Z"
   },
   {
    "duration": 72,
    "start_time": "2022-03-07T16:59:17.005Z"
   },
   {
    "duration": 5,
    "start_time": "2022-03-07T16:59:17.079Z"
   },
   {
    "duration": 16,
    "start_time": "2022-03-07T16:59:17.085Z"
   },
   {
    "duration": 7,
    "start_time": "2022-03-07T16:59:17.102Z"
   },
   {
    "duration": 6,
    "start_time": "2022-03-07T16:59:17.110Z"
   },
   {
    "duration": 7,
    "start_time": "2022-03-07T16:59:17.117Z"
   },
   {
    "duration": 8,
    "start_time": "2022-03-07T16:59:17.125Z"
   },
   {
    "duration": 4,
    "start_time": "2022-03-07T16:59:17.135Z"
   },
   {
    "duration": 8,
    "start_time": "2022-03-07T16:59:17.141Z"
   },
   {
    "duration": 17,
    "start_time": "2022-03-07T16:59:17.150Z"
   },
   {
    "duration": 35,
    "start_time": "2022-03-07T16:59:17.168Z"
   },
   {
    "duration": 7,
    "start_time": "2022-03-07T16:59:17.204Z"
   },
   {
    "duration": 16,
    "start_time": "2022-03-07T16:59:17.213Z"
   },
   {
    "duration": 10,
    "start_time": "2022-03-07T16:59:17.230Z"
   },
   {
    "duration": 8,
    "start_time": "2022-03-07T16:59:17.241Z"
   },
   {
    "duration": 406,
    "start_time": "2022-03-07T16:59:53.684Z"
   },
   {
    "duration": 104,
    "start_time": "2022-03-07T17:00:03.144Z"
   },
   {
    "duration": 9,
    "start_time": "2022-03-07T17:00:10.505Z"
   },
   {
    "duration": 104,
    "start_time": "2022-03-07T17:00:22.509Z"
   },
   {
    "duration": 9,
    "start_time": "2022-03-07T17:00:28.469Z"
   },
   {
    "duration": 9,
    "start_time": "2022-03-07T17:01:45.537Z"
   },
   {
    "duration": 8,
    "start_time": "2022-03-07T17:02:15.838Z"
   },
   {
    "duration": 303,
    "start_time": "2022-03-07T17:02:19.989Z"
   },
   {
    "duration": 9,
    "start_time": "2022-03-07T17:02:29.250Z"
   },
   {
    "duration": 8,
    "start_time": "2022-03-07T17:03:02.472Z"
   },
   {
    "duration": 9,
    "start_time": "2022-03-07T17:03:07.656Z"
   },
   {
    "duration": 299,
    "start_time": "2022-03-07T17:05:00.853Z"
   },
   {
    "duration": 14,
    "start_time": "2022-03-07T17:05:08.726Z"
   },
   {
    "duration": 283,
    "start_time": "2022-03-07T17:05:20.997Z"
   },
   {
    "duration": 305,
    "start_time": "2022-03-07T17:05:32.868Z"
   },
   {
    "duration": 13,
    "start_time": "2022-03-07T17:07:14.597Z"
   },
   {
    "duration": 11,
    "start_time": "2022-03-07T17:07:49.688Z"
   },
   {
    "duration": 9,
    "start_time": "2022-03-07T17:08:21.349Z"
   },
   {
    "duration": 310,
    "start_time": "2022-03-07T17:08:49.374Z"
   },
   {
    "duration": 5602,
    "start_time": "2022-03-07T17:08:57.482Z"
   },
   {
    "duration": 105,
    "start_time": "2022-03-07T17:09:23.240Z"
   },
   {
    "duration": 4,
    "start_time": "2022-03-07T17:09:30.454Z"
   },
   {
    "duration": 8,
    "start_time": "2022-03-07T17:10:33.866Z"
   },
   {
    "duration": 13,
    "start_time": "2022-03-07T17:14:00.080Z"
   },
   {
    "duration": 12,
    "start_time": "2022-03-07T17:14:04.796Z"
   },
   {
    "duration": 9,
    "start_time": "2022-03-07T17:16:44.054Z"
   },
   {
    "duration": 9,
    "start_time": "2022-03-07T17:16:44.900Z"
   },
   {
    "duration": 15,
    "start_time": "2022-03-07T17:16:52.661Z"
   },
   {
    "duration": 17,
    "start_time": "2022-03-07T17:18:15.752Z"
   },
   {
    "duration": 5460,
    "start_time": "2022-03-07T17:19:39.250Z"
   },
   {
    "duration": 11708,
    "start_time": "2022-03-07T17:20:03.681Z"
   },
   {
    "duration": 315,
    "start_time": "2022-03-07T17:20:28.344Z"
   },
   {
    "duration": 6,
    "start_time": "2022-03-07T17:20:51.864Z"
   },
   {
    "duration": 18,
    "start_time": "2022-03-07T17:21:03.786Z"
   },
   {
    "duration": 16,
    "start_time": "2022-03-07T17:21:57.936Z"
   },
   {
    "duration": 16,
    "start_time": "2022-03-07T17:22:04.787Z"
   },
   {
    "duration": 7,
    "start_time": "2022-03-07T17:24:58.703Z"
   },
   {
    "duration": 1092,
    "start_time": "2022-03-07T17:25:15.499Z"
   },
   {
    "duration": 85,
    "start_time": "2022-03-07T17:25:16.593Z"
   },
   {
    "duration": 4,
    "start_time": "2022-03-07T17:25:16.680Z"
   },
   {
    "duration": 12,
    "start_time": "2022-03-07T17:25:16.686Z"
   },
   {
    "duration": 6,
    "start_time": "2022-03-07T17:25:16.699Z"
   },
   {
    "duration": 6,
    "start_time": "2022-03-07T17:25:16.707Z"
   },
   {
    "duration": 5,
    "start_time": "2022-03-07T17:25:16.714Z"
   },
   {
    "duration": 8,
    "start_time": "2022-03-07T17:25:16.721Z"
   },
   {
    "duration": 4,
    "start_time": "2022-03-07T17:25:16.731Z"
   },
   {
    "duration": 7,
    "start_time": "2022-03-07T17:25:16.737Z"
   },
   {
    "duration": 18,
    "start_time": "2022-03-07T17:25:16.745Z"
   },
   {
    "duration": 5,
    "start_time": "2022-03-07T17:25:16.764Z"
   },
   {
    "duration": 7,
    "start_time": "2022-03-07T17:25:16.801Z"
   },
   {
    "duration": 14,
    "start_time": "2022-03-07T17:25:16.809Z"
   },
   {
    "duration": 11,
    "start_time": "2022-03-07T17:25:16.824Z"
   },
   {
    "duration": 15,
    "start_time": "2022-03-07T17:25:16.836Z"
   },
   {
    "duration": 14,
    "start_time": "2022-03-07T17:25:16.853Z"
   },
   {
    "duration": 45,
    "start_time": "2022-03-07T17:25:16.868Z"
   },
   {
    "duration": 17,
    "start_time": "2022-03-07T17:25:16.915Z"
   },
   {
    "duration": 15,
    "start_time": "2022-03-07T17:25:16.934Z"
   },
   {
    "duration": 19,
    "start_time": "2022-03-07T17:27:20.183Z"
   },
   {
    "duration": 16,
    "start_time": "2022-03-07T17:27:35.735Z"
   },
   {
    "duration": 17,
    "start_time": "2022-03-07T17:27:39.770Z"
   },
   {
    "duration": 3,
    "start_time": "2022-03-07T17:32:06.683Z"
   },
   {
    "duration": 3,
    "start_time": "2022-03-07T17:33:04.839Z"
   },
   {
    "duration": 1076,
    "start_time": "2022-03-07T17:46:56.726Z"
   },
   {
    "duration": 84,
    "start_time": "2022-03-07T17:46:57.804Z"
   },
   {
    "duration": 5,
    "start_time": "2022-03-07T17:46:57.890Z"
   },
   {
    "duration": 11,
    "start_time": "2022-03-07T17:46:57.897Z"
   },
   {
    "duration": 8,
    "start_time": "2022-03-07T17:46:57.910Z"
   },
   {
    "duration": 7,
    "start_time": "2022-03-07T17:46:57.919Z"
   },
   {
    "duration": 6,
    "start_time": "2022-03-07T17:46:57.927Z"
   },
   {
    "duration": 9,
    "start_time": "2022-03-07T17:46:57.935Z"
   },
   {
    "duration": 4,
    "start_time": "2022-03-07T17:46:57.947Z"
   },
   {
    "duration": 7,
    "start_time": "2022-03-07T17:46:57.953Z"
   },
   {
    "duration": 16,
    "start_time": "2022-03-07T17:46:58.002Z"
   },
   {
    "duration": 7,
    "start_time": "2022-03-07T17:46:58.020Z"
   },
   {
    "duration": 15,
    "start_time": "2022-03-07T17:46:58.029Z"
   },
   {
    "duration": 13,
    "start_time": "2022-03-07T17:46:58.045Z"
   },
   {
    "duration": 42,
    "start_time": "2022-03-07T17:46:58.060Z"
   },
   {
    "duration": 375,
    "start_time": "2022-03-07T17:46:58.104Z"
   },
   {
    "duration": -8,
    "start_time": "2022-03-07T17:46:58.488Z"
   },
   {
    "duration": 1074,
    "start_time": "2022-03-07T17:47:12.724Z"
   },
   {
    "duration": 74,
    "start_time": "2022-03-07T17:47:13.800Z"
   },
   {
    "duration": 5,
    "start_time": "2022-03-07T17:47:13.876Z"
   },
   {
    "duration": 12,
    "start_time": "2022-03-07T17:47:13.882Z"
   },
   {
    "duration": 10,
    "start_time": "2022-03-07T17:47:13.895Z"
   },
   {
    "duration": 5,
    "start_time": "2022-03-07T17:47:13.907Z"
   },
   {
    "duration": 6,
    "start_time": "2022-03-07T17:47:13.914Z"
   },
   {
    "duration": 9,
    "start_time": "2022-03-07T17:47:13.922Z"
   },
   {
    "duration": 3,
    "start_time": "2022-03-07T17:47:13.934Z"
   },
   {
    "duration": 7,
    "start_time": "2022-03-07T17:47:13.939Z"
   },
   {
    "duration": 16,
    "start_time": "2022-03-07T17:47:13.947Z"
   },
   {
    "duration": 40,
    "start_time": "2022-03-07T17:47:13.965Z"
   },
   {
    "duration": 14,
    "start_time": "2022-03-07T17:47:14.007Z"
   },
   {
    "duration": 15,
    "start_time": "2022-03-07T17:47:14.022Z"
   },
   {
    "duration": 16,
    "start_time": "2022-03-07T17:47:14.039Z"
   },
   {
    "duration": 45,
    "start_time": "2022-03-07T17:47:14.057Z"
   },
   {
    "duration": 16,
    "start_time": "2022-03-07T17:47:14.104Z"
   },
   {
    "duration": 1441,
    "start_time": "2022-03-08T07:09:24.011Z"
   },
   {
    "duration": 187,
    "start_time": "2022-03-08T07:09:25.455Z"
   },
   {
    "duration": 7,
    "start_time": "2022-03-08T07:09:25.644Z"
   },
   {
    "duration": 18,
    "start_time": "2022-03-08T07:09:25.654Z"
   },
   {
    "duration": 20,
    "start_time": "2022-03-08T07:09:25.674Z"
   },
   {
    "duration": 8,
    "start_time": "2022-03-08T07:09:25.696Z"
   },
   {
    "duration": 8,
    "start_time": "2022-03-08T07:09:25.706Z"
   },
   {
    "duration": 15,
    "start_time": "2022-03-08T07:09:25.716Z"
   },
   {
    "duration": 5,
    "start_time": "2022-03-08T07:09:25.734Z"
   },
   {
    "duration": 5,
    "start_time": "2022-03-08T07:09:25.788Z"
   },
   {
    "duration": 26,
    "start_time": "2022-03-08T07:09:25.795Z"
   },
   {
    "duration": 11,
    "start_time": "2022-03-08T07:09:25.823Z"
   },
   {
    "duration": 51,
    "start_time": "2022-03-08T07:09:25.836Z"
   },
   {
    "duration": 23,
    "start_time": "2022-03-08T07:09:25.889Z"
   },
   {
    "duration": 26,
    "start_time": "2022-03-08T07:09:25.914Z"
   },
   {
    "duration": 63,
    "start_time": "2022-03-08T07:09:25.942Z"
   },
   {
    "duration": 24,
    "start_time": "2022-03-08T07:09:26.008Z"
   },
   {
    "duration": 22,
    "start_time": "2022-03-08T07:09:34.866Z"
   },
   {
    "duration": 383,
    "start_time": "2022-03-08T07:12:29.597Z"
   },
   {
    "duration": 950,
    "start_time": "2022-03-08T07:12:39.395Z"
   },
   {
    "duration": 963,
    "start_time": "2022-03-08T07:12:55.345Z"
   },
   {
    "duration": 709,
    "start_time": "2022-03-08T07:13:03.699Z"
   },
   {
    "duration": 229,
    "start_time": "2022-03-08T07:13:22.300Z"
   },
   {
    "duration": 5,
    "start_time": "2022-03-08T07:41:58.847Z"
   },
   {
    "duration": 26,
    "start_time": "2022-03-08T07:41:59.658Z"
   },
   {
    "duration": 8,
    "start_time": "2022-03-08T07:49:30.497Z"
   },
   {
    "duration": 237,
    "start_time": "2022-03-08T07:49:49.295Z"
   },
   {
    "duration": 226,
    "start_time": "2022-03-08T07:49:56.905Z"
   },
   {
    "duration": 9,
    "start_time": "2022-03-08T07:50:13.383Z"
   },
   {
    "duration": 243,
    "start_time": "2022-03-08T07:50:51.096Z"
   },
   {
    "duration": 9,
    "start_time": "2022-03-08T07:51:08.845Z"
   },
   {
    "duration": 9,
    "start_time": "2022-03-08T07:51:52.163Z"
   },
   {
    "duration": 309,
    "start_time": "2022-03-08T07:52:08.789Z"
   },
   {
    "duration": 234,
    "start_time": "2022-03-08T07:52:16.491Z"
   },
   {
    "duration": 9,
    "start_time": "2022-03-08T07:52:36.726Z"
   },
   {
    "duration": 8,
    "start_time": "2022-03-08T07:54:28.928Z"
   },
   {
    "duration": 9,
    "start_time": "2022-03-08T07:54:39.159Z"
   },
   {
    "duration": 1408,
    "start_time": "2022-03-08T07:58:19.409Z"
   },
   {
    "duration": 117,
    "start_time": "2022-03-08T07:58:20.820Z"
   },
   {
    "duration": 8,
    "start_time": "2022-03-08T07:58:20.940Z"
   },
   {
    "duration": 38,
    "start_time": "2022-03-08T07:58:20.950Z"
   },
   {
    "duration": 12,
    "start_time": "2022-03-08T07:58:20.991Z"
   },
   {
    "duration": 10,
    "start_time": "2022-03-08T07:58:21.006Z"
   },
   {
    "duration": 9,
    "start_time": "2022-03-08T07:58:21.019Z"
   },
   {
    "duration": 8,
    "start_time": "2022-03-08T07:58:21.030Z"
   },
   {
    "duration": 53,
    "start_time": "2022-03-08T07:58:21.042Z"
   },
   {
    "duration": 5,
    "start_time": "2022-03-08T07:58:21.098Z"
   },
   {
    "duration": 8,
    "start_time": "2022-03-08T07:58:21.105Z"
   },
   {
    "duration": 25,
    "start_time": "2022-03-08T07:58:21.115Z"
   },
   {
    "duration": 10,
    "start_time": "2022-03-08T07:58:21.142Z"
   },
   {
    "duration": 51,
    "start_time": "2022-03-08T07:58:21.154Z"
   },
   {
    "duration": 28,
    "start_time": "2022-03-08T07:58:21.207Z"
   },
   {
    "duration": 60,
    "start_time": "2022-03-08T07:58:21.238Z"
   },
   {
    "duration": 30,
    "start_time": "2022-03-08T07:58:21.301Z"
   },
   {
    "duration": 60,
    "start_time": "2022-03-08T07:58:21.334Z"
   },
   {
    "duration": 5,
    "start_time": "2022-03-08T07:58:21.396Z"
   },
   {
    "duration": 32,
    "start_time": "2022-03-08T07:58:21.404Z"
   },
   {
    "duration": 8,
    "start_time": "2022-03-08T07:58:21.438Z"
   },
   {
    "duration": 39,
    "start_time": "2022-03-08T07:58:21.448Z"
   },
   {
    "duration": 790,
    "start_time": "2022-03-08T08:11:44.041Z"
   },
   {
    "duration": 344,
    "start_time": "2022-03-08T08:12:05.429Z"
   },
   {
    "duration": 538,
    "start_time": "2022-03-08T08:12:15.043Z"
   },
   {
    "duration": 298,
    "start_time": "2022-03-08T08:12:19.262Z"
   },
   {
    "duration": 360,
    "start_time": "2022-03-08T08:12:55.074Z"
   },
   {
    "duration": 299,
    "start_time": "2022-03-08T08:13:01.062Z"
   },
   {
    "duration": 293,
    "start_time": "2022-03-08T08:13:07.376Z"
   },
   {
    "duration": 282,
    "start_time": "2022-03-08T08:13:13.314Z"
   },
   {
    "duration": 299,
    "start_time": "2022-03-08T08:13:22.469Z"
   },
   {
    "duration": 276,
    "start_time": "2022-03-08T08:13:32.393Z"
   },
   {
    "duration": 632,
    "start_time": "2022-03-08T08:13:55.142Z"
   },
   {
    "duration": 634,
    "start_time": "2022-03-08T08:14:07.263Z"
   },
   {
    "duration": 843,
    "start_time": "2022-03-08T08:14:29.036Z"
   },
   {
    "duration": 857,
    "start_time": "2022-03-08T08:14:38.037Z"
   },
   {
    "duration": 869,
    "start_time": "2022-03-08T08:14:49.076Z"
   },
   {
    "duration": 862,
    "start_time": "2022-03-08T08:14:55.855Z"
   },
   {
    "duration": 869,
    "start_time": "2022-03-08T08:15:04.629Z"
   },
   {
    "duration": 15,
    "start_time": "2022-03-08T08:52:36.540Z"
   },
   {
    "duration": 17,
    "start_time": "2022-03-08T08:52:52.487Z"
   },
   {
    "duration": 11,
    "start_time": "2022-03-08T08:53:12.876Z"
   },
   {
    "duration": 15,
    "start_time": "2022-03-08T08:53:21.106Z"
   },
   {
    "duration": 26,
    "start_time": "2022-03-08T09:07:49.123Z"
   },
   {
    "duration": 387,
    "start_time": "2022-03-08T09:08:40.522Z"
   },
   {
    "duration": 457,
    "start_time": "2022-03-08T09:08:52.723Z"
   },
   {
    "duration": 603,
    "start_time": "2022-03-08T09:09:26.317Z"
   },
   {
    "duration": 458,
    "start_time": "2022-03-08T09:11:22.173Z"
   },
   {
    "duration": 822,
    "start_time": "2022-03-08T09:14:14.067Z"
   },
   {
    "duration": 629,
    "start_time": "2022-03-08T09:15:15.488Z"
   },
   {
    "duration": 542,
    "start_time": "2022-03-08T09:15:27.999Z"
   },
   {
    "duration": 621,
    "start_time": "2022-03-08T09:15:52.444Z"
   },
   {
    "duration": 646,
    "start_time": "2022-03-08T09:16:30.519Z"
   },
   {
    "duration": 624,
    "start_time": "2022-03-08T09:16:39.651Z"
   },
   {
    "duration": 22,
    "start_time": "2022-03-08T09:18:09.279Z"
   },
   {
    "duration": 625,
    "start_time": "2022-03-08T09:18:14.462Z"
   },
   {
    "duration": 23,
    "start_time": "2022-03-08T09:18:33.024Z"
   },
   {
    "duration": 640,
    "start_time": "2022-03-08T09:18:33.753Z"
   },
   {
    "duration": 759,
    "start_time": "2022-03-08T09:19:27.746Z"
   },
   {
    "duration": 722,
    "start_time": "2022-03-08T09:19:44.346Z"
   },
   {
    "duration": 255,
    "start_time": "2022-03-08T09:25:59.829Z"
   },
   {
    "duration": 19,
    "start_time": "2022-03-08T09:29:15.749Z"
   },
   {
    "duration": 10,
    "start_time": "2022-03-08T09:32:42.338Z"
   },
   {
    "duration": 4,
    "start_time": "2022-03-08T09:45:26.015Z"
   },
   {
    "duration": 7,
    "start_time": "2022-03-08T09:49:14.112Z"
   },
   {
    "duration": 24,
    "start_time": "2022-03-08T10:34:17.560Z"
   },
   {
    "duration": 586,
    "start_time": "2022-03-08T10:34:30.351Z"
   },
   {
    "duration": 581,
    "start_time": "2022-03-08T10:35:05.309Z"
   },
   {
    "duration": 564,
    "start_time": "2022-03-08T10:35:17.141Z"
   },
   {
    "duration": 691,
    "start_time": "2022-03-08T10:35:55.443Z"
   },
   {
    "duration": 552,
    "start_time": "2022-03-08T10:35:57.572Z"
   },
   {
    "duration": 758,
    "start_time": "2022-03-08T10:36:19.650Z"
   },
   {
    "duration": 702,
    "start_time": "2022-03-08T10:36:22.343Z"
   },
   {
    "duration": 689,
    "start_time": "2022-03-08T10:36:31.827Z"
   },
   {
    "duration": 720,
    "start_time": "2022-03-08T10:36:43.884Z"
   },
   {
    "duration": 713,
    "start_time": "2022-03-08T10:37:46.457Z"
   },
   {
    "duration": 818,
    "start_time": "2022-03-08T10:38:14.117Z"
   },
   {
    "duration": 745,
    "start_time": "2022-03-08T11:06:40.483Z"
   },
   {
    "duration": 714,
    "start_time": "2022-03-08T11:06:47.994Z"
   },
   {
    "duration": 691,
    "start_time": "2022-03-08T11:06:57.987Z"
   },
   {
    "duration": 711,
    "start_time": "2022-03-08T11:07:28.835Z"
   },
   {
    "duration": 694,
    "start_time": "2022-03-08T11:07:39.436Z"
   },
   {
    "duration": 717,
    "start_time": "2022-03-08T11:07:54.985Z"
   },
   {
    "duration": 8,
    "start_time": "2022-03-08T11:45:13.135Z"
   },
   {
    "duration": 18,
    "start_time": "2022-03-08T11:45:17.829Z"
   },
   {
    "duration": 27,
    "start_time": "2022-03-08T11:45:38.314Z"
   },
   {
    "duration": 734,
    "start_time": "2022-03-08T11:46:21.161Z"
   },
   {
    "duration": 19,
    "start_time": "2022-03-08T11:48:18.410Z"
   },
   {
    "duration": 10,
    "start_time": "2022-03-08T11:48:45.387Z"
   },
   {
    "duration": 36,
    "start_time": "2022-03-08T11:48:51.736Z"
   },
   {
    "duration": 1041,
    "start_time": "2022-03-08T11:48:52.812Z"
   },
   {
    "duration": 955,
    "start_time": "2022-03-08T11:49:21.420Z"
   },
   {
    "duration": 230,
    "start_time": "2022-03-08T11:53:25.235Z"
   },
   {
    "duration": 8,
    "start_time": "2022-03-08T11:57:27.464Z"
   },
   {
    "duration": 10,
    "start_time": "2022-03-08T11:57:33.442Z"
   },
   {
    "duration": 25,
    "start_time": "2022-03-08T11:57:42.321Z"
   },
   {
    "duration": 714,
    "start_time": "2022-03-08T11:57:46.298Z"
   },
   {
    "duration": 674,
    "start_time": "2022-03-08T11:57:51.095Z"
   },
   {
    "duration": 24,
    "start_time": "2022-03-08T11:59:58.289Z"
   },
   {
    "duration": 11,
    "start_time": "2022-03-08T12:00:37.161Z"
   },
   {
    "duration": 70,
    "start_time": "2022-03-08T12:02:02.368Z"
   },
   {
    "duration": 85,
    "start_time": "2022-03-08T12:02:10.801Z"
   },
   {
    "duration": 79,
    "start_time": "2022-03-08T12:02:15.248Z"
   },
   {
    "duration": 70,
    "start_time": "2022-03-08T12:02:51.969Z"
   },
   {
    "duration": 145,
    "start_time": "2022-03-08T12:03:46.016Z"
   },
   {
    "duration": 31,
    "start_time": "2022-03-08T12:04:59.845Z"
   },
   {
    "duration": 11,
    "start_time": "2022-03-08T12:05:20.384Z"
   },
   {
    "duration": 24,
    "start_time": "2022-03-08T12:10:37.741Z"
   },
   {
    "duration": 750,
    "start_time": "2022-03-08T12:10:38.434Z"
   },
   {
    "duration": 1004,
    "start_time": "2022-03-08T12:10:40.589Z"
   },
   {
    "duration": 1449,
    "start_time": "2022-03-08T12:12:44.110Z"
   },
   {
    "duration": 112,
    "start_time": "2022-03-08T12:12:45.562Z"
   },
   {
    "duration": 10,
    "start_time": "2022-03-08T12:12:45.677Z"
   },
   {
    "duration": 25,
    "start_time": "2022-03-08T12:12:45.689Z"
   },
   {
    "duration": 14,
    "start_time": "2022-03-08T12:12:45.717Z"
   },
   {
    "duration": 8,
    "start_time": "2022-03-08T12:12:45.734Z"
   },
   {
    "duration": 16,
    "start_time": "2022-03-08T12:12:45.744Z"
   },
   {
    "duration": 28,
    "start_time": "2022-03-08T12:12:45.762Z"
   },
   {
    "duration": 13,
    "start_time": "2022-03-08T12:12:45.794Z"
   },
   {
    "duration": 6,
    "start_time": "2022-03-08T12:12:45.810Z"
   },
   {
    "duration": 13,
    "start_time": "2022-03-08T12:12:45.818Z"
   },
   {
    "duration": 38,
    "start_time": "2022-03-08T12:12:45.833Z"
   },
   {
    "duration": 11,
    "start_time": "2022-03-08T12:12:45.888Z"
   },
   {
    "duration": 24,
    "start_time": "2022-03-08T12:12:45.901Z"
   },
   {
    "duration": 23,
    "start_time": "2022-03-08T12:12:45.928Z"
   },
   {
    "duration": 54,
    "start_time": "2022-03-08T12:12:45.954Z"
   },
   {
    "duration": 26,
    "start_time": "2022-03-08T12:12:46.011Z"
   },
   {
    "duration": 56,
    "start_time": "2022-03-08T12:12:46.040Z"
   },
   {
    "duration": 7,
    "start_time": "2022-03-08T12:12:46.098Z"
   },
   {
    "duration": 39,
    "start_time": "2022-03-08T12:12:46.108Z"
   },
   {
    "duration": 950,
    "start_time": "2022-03-08T12:12:46.150Z"
   },
   {
    "duration": 17,
    "start_time": "2022-03-08T12:12:47.103Z"
   },
   {
    "duration": 13,
    "start_time": "2022-03-08T12:12:47.123Z"
   },
   {
    "duration": 17,
    "start_time": "2022-03-08T12:12:47.139Z"
   },
   {
    "duration": 57,
    "start_time": "2022-03-08T12:12:47.158Z"
   },
   {
    "duration": 778,
    "start_time": "2022-03-08T12:12:47.217Z"
   },
   {
    "duration": 20,
    "start_time": "2022-03-08T12:12:47.999Z"
   },
   {
    "duration": 281,
    "start_time": "2022-03-08T12:12:48.021Z"
   },
   {
    "duration": 30,
    "start_time": "2022-03-08T12:12:48.304Z"
   },
   {
    "duration": 54,
    "start_time": "2022-03-08T12:12:48.337Z"
   },
   {
    "duration": 10,
    "start_time": "2022-03-08T12:12:48.393Z"
   },
   {
    "duration": 26,
    "start_time": "2022-03-08T12:12:48.405Z"
   },
   {
    "duration": 745,
    "start_time": "2022-03-08T12:12:48.433Z"
   },
   {
    "duration": 751,
    "start_time": "2022-03-08T12:12:49.187Z"
   },
   {
    "duration": 381,
    "start_time": "2022-03-08T12:15:29.684Z"
   },
   {
    "duration": 86,
    "start_time": "2022-03-08T12:16:10.689Z"
   },
   {
    "duration": 227,
    "start_time": "2022-03-08T12:16:16.452Z"
   },
   {
    "duration": 4,
    "start_time": "2022-03-08T12:18:07.800Z"
   },
   {
    "duration": 1525,
    "start_time": "2022-03-08T12:18:14.120Z"
   },
   {
    "duration": 118,
    "start_time": "2022-03-08T12:18:15.648Z"
   },
   {
    "duration": 7,
    "start_time": "2022-03-08T12:18:15.769Z"
   },
   {
    "duration": 20,
    "start_time": "2022-03-08T12:18:15.779Z"
   },
   {
    "duration": 9,
    "start_time": "2022-03-08T12:18:15.801Z"
   },
   {
    "duration": 7,
    "start_time": "2022-03-08T12:18:15.812Z"
   },
   {
    "duration": 16,
    "start_time": "2022-03-08T12:18:15.821Z"
   },
   {
    "duration": 10,
    "start_time": "2022-03-08T12:18:15.842Z"
   },
   {
    "duration": 37,
    "start_time": "2022-03-08T12:18:15.855Z"
   },
   {
    "duration": 5,
    "start_time": "2022-03-08T12:18:15.894Z"
   },
   {
    "duration": 6,
    "start_time": "2022-03-08T12:18:15.901Z"
   },
   {
    "duration": 28,
    "start_time": "2022-03-08T12:18:15.909Z"
   },
   {
    "duration": 10,
    "start_time": "2022-03-08T12:18:15.939Z"
   },
   {
    "duration": 52,
    "start_time": "2022-03-08T12:18:15.951Z"
   },
   {
    "duration": 25,
    "start_time": "2022-03-08T12:18:16.005Z"
   },
   {
    "duration": 58,
    "start_time": "2022-03-08T12:18:16.032Z"
   },
   {
    "duration": 27,
    "start_time": "2022-03-08T12:18:16.092Z"
   },
   {
    "duration": 75,
    "start_time": "2022-03-08T12:18:16.121Z"
   },
   {
    "duration": 5,
    "start_time": "2022-03-08T12:18:16.198Z"
   },
   {
    "duration": 82,
    "start_time": "2022-03-08T12:18:16.205Z"
   },
   {
    "duration": 962,
    "start_time": "2022-03-08T12:18:16.289Z"
   },
   {
    "duration": 15,
    "start_time": "2022-03-08T12:18:17.253Z"
   },
   {
    "duration": 22,
    "start_time": "2022-03-08T12:18:17.270Z"
   },
   {
    "duration": 22,
    "start_time": "2022-03-08T12:18:17.294Z"
   },
   {
    "duration": 32,
    "start_time": "2022-03-08T12:18:17.318Z"
   },
   {
    "duration": 750,
    "start_time": "2022-03-08T12:18:17.355Z"
   },
   {
    "duration": 22,
    "start_time": "2022-03-08T12:18:18.107Z"
   },
   {
    "duration": 406,
    "start_time": "2022-03-08T12:18:18.132Z"
   },
   {
    "duration": 28,
    "start_time": "2022-03-08T12:18:18.541Z"
   },
   {
    "duration": 33,
    "start_time": "2022-03-08T12:18:18.587Z"
   },
   {
    "duration": 14,
    "start_time": "2022-03-08T12:18:18.622Z"
   },
   {
    "duration": 62,
    "start_time": "2022-03-08T12:18:18.639Z"
   },
   {
    "duration": 908,
    "start_time": "2022-03-08T12:18:18.703Z"
   },
   {
    "duration": 694,
    "start_time": "2022-03-08T12:18:19.614Z"
   },
   {
    "duration": 432,
    "start_time": "2022-03-08T12:18:20.310Z"
   },
   {
    "duration": 289,
    "start_time": "2022-03-08T12:19:38.936Z"
   },
   {
    "duration": 1564,
    "start_time": "2022-03-08T12:21:39.009Z"
   },
   {
    "duration": 125,
    "start_time": "2022-03-08T12:21:40.576Z"
   },
   {
    "duration": 7,
    "start_time": "2022-03-08T12:21:40.704Z"
   },
   {
    "duration": 28,
    "start_time": "2022-03-08T12:21:40.714Z"
   },
   {
    "duration": 11,
    "start_time": "2022-03-08T12:21:40.744Z"
   },
   {
    "duration": 31,
    "start_time": "2022-03-08T12:21:40.758Z"
   },
   {
    "duration": 18,
    "start_time": "2022-03-08T12:21:40.791Z"
   },
   {
    "duration": 8,
    "start_time": "2022-03-08T12:21:40.811Z"
   },
   {
    "duration": 19,
    "start_time": "2022-03-08T12:21:40.823Z"
   },
   {
    "duration": 10,
    "start_time": "2022-03-08T12:21:40.845Z"
   },
   {
    "duration": 35,
    "start_time": "2022-03-08T12:21:40.857Z"
   },
   {
    "duration": 34,
    "start_time": "2022-03-08T12:21:40.895Z"
   },
   {
    "duration": 10,
    "start_time": "2022-03-08T12:21:40.932Z"
   },
   {
    "duration": 53,
    "start_time": "2022-03-08T12:21:40.945Z"
   },
   {
    "duration": 38,
    "start_time": "2022-03-08T12:21:41.001Z"
   },
   {
    "duration": 53,
    "start_time": "2022-03-08T12:21:41.041Z"
   },
   {
    "duration": 31,
    "start_time": "2022-03-08T12:21:41.096Z"
   },
   {
    "duration": 25,
    "start_time": "2022-03-08T12:21:41.130Z"
   },
   {
    "duration": 33,
    "start_time": "2022-03-08T12:21:41.157Z"
   },
   {
    "duration": 35,
    "start_time": "2022-03-08T12:21:41.193Z"
   },
   {
    "duration": 927,
    "start_time": "2022-03-08T12:21:41.231Z"
   },
   {
    "duration": 31,
    "start_time": "2022-03-08T12:21:42.161Z"
   },
   {
    "duration": 21,
    "start_time": "2022-03-08T12:21:42.195Z"
   },
   {
    "duration": 23,
    "start_time": "2022-03-08T12:21:42.218Z"
   },
   {
    "duration": 45,
    "start_time": "2022-03-08T12:21:42.244Z"
   },
   {
    "duration": 755,
    "start_time": "2022-03-08T12:21:42.291Z"
   },
   {
    "duration": 37,
    "start_time": "2022-03-08T12:21:43.050Z"
   },
   {
    "duration": 366,
    "start_time": "2022-03-08T12:21:43.090Z"
   },
   {
    "duration": 36,
    "start_time": "2022-03-08T12:21:43.459Z"
   },
   {
    "duration": 30,
    "start_time": "2022-03-08T12:21:43.497Z"
   },
   {
    "duration": 16,
    "start_time": "2022-03-08T12:21:43.530Z"
   },
   {
    "duration": 60,
    "start_time": "2022-03-08T12:21:43.549Z"
   },
   {
    "duration": 730,
    "start_time": "2022-03-08T12:21:43.611Z"
   },
   {
    "duration": 693,
    "start_time": "2022-03-08T12:21:44.343Z"
   },
   {
    "duration": 419,
    "start_time": "2022-03-08T12:21:45.039Z"
   },
   {
    "duration": 278,
    "start_time": "2022-03-08T12:22:37.880Z"
   },
   {
    "duration": 5,
    "start_time": "2022-03-08T12:23:29.504Z"
   },
   {
    "duration": 1477,
    "start_time": "2022-03-08T12:23:35.665Z"
   },
   {
    "duration": 114,
    "start_time": "2022-03-08T12:23:37.144Z"
   },
   {
    "duration": 7,
    "start_time": "2022-03-08T12:23:37.261Z"
   },
   {
    "duration": 26,
    "start_time": "2022-03-08T12:23:37.270Z"
   },
   {
    "duration": 9,
    "start_time": "2022-03-08T12:23:37.298Z"
   },
   {
    "duration": 6,
    "start_time": "2022-03-08T12:23:37.309Z"
   },
   {
    "duration": 16,
    "start_time": "2022-03-08T12:23:37.317Z"
   },
   {
    "duration": 7,
    "start_time": "2022-03-08T12:23:37.337Z"
   },
   {
    "duration": 45,
    "start_time": "2022-03-08T12:23:37.347Z"
   },
   {
    "duration": 5,
    "start_time": "2022-03-08T12:23:37.394Z"
   },
   {
    "duration": 23,
    "start_time": "2022-03-08T12:23:37.401Z"
   },
   {
    "duration": 34,
    "start_time": "2022-03-08T12:23:37.426Z"
   },
   {
    "duration": 25,
    "start_time": "2022-03-08T12:23:37.463Z"
   },
   {
    "duration": 30,
    "start_time": "2022-03-08T12:23:37.491Z"
   },
   {
    "duration": 30,
    "start_time": "2022-03-08T12:23:37.524Z"
   },
   {
    "duration": 41,
    "start_time": "2022-03-08T12:23:37.556Z"
   },
   {
    "duration": 26,
    "start_time": "2022-03-08T12:23:37.600Z"
   },
   {
    "duration": 23,
    "start_time": "2022-03-08T12:23:37.628Z"
   },
   {
    "duration": 37,
    "start_time": "2022-03-08T12:23:37.653Z"
   },
   {
    "duration": 27,
    "start_time": "2022-03-08T12:23:37.692Z"
   },
   {
    "duration": 1202,
    "start_time": "2022-03-08T12:23:37.721Z"
   },
   {
    "duration": 17,
    "start_time": "2022-03-08T12:23:38.926Z"
   },
   {
    "duration": 10,
    "start_time": "2022-03-08T12:23:38.950Z"
   },
   {
    "duration": 15,
    "start_time": "2022-03-08T12:23:38.987Z"
   },
   {
    "duration": 31,
    "start_time": "2022-03-08T12:23:39.004Z"
   },
   {
    "duration": 765,
    "start_time": "2022-03-08T12:23:39.037Z"
   },
   {
    "duration": 27,
    "start_time": "2022-03-08T12:23:39.804Z"
   },
   {
    "duration": 364,
    "start_time": "2022-03-08T12:23:39.834Z"
   },
   {
    "duration": 29,
    "start_time": "2022-03-08T12:23:40.201Z"
   },
   {
    "duration": 28,
    "start_time": "2022-03-08T12:23:40.232Z"
   },
   {
    "duration": 11,
    "start_time": "2022-03-08T12:23:40.288Z"
   },
   {
    "duration": 38,
    "start_time": "2022-03-08T12:23:40.302Z"
   },
   {
    "duration": 744,
    "start_time": "2022-03-08T12:23:40.344Z"
   },
   {
    "duration": 679,
    "start_time": "2022-03-08T12:23:41.091Z"
   },
   {
    "duration": 389,
    "start_time": "2022-03-08T12:23:41.774Z"
   },
   {
    "duration": 248,
    "start_time": "2022-03-08T12:25:39.561Z"
   },
   {
    "duration": 252,
    "start_time": "2022-03-08T12:29:11.335Z"
   },
   {
    "duration": 229,
    "start_time": "2022-03-08T12:49:22.026Z"
   },
   {
    "duration": 80,
    "start_time": "2022-03-08T12:49:58.560Z"
   },
   {
    "duration": 241,
    "start_time": "2022-03-08T12:50:04.605Z"
   },
   {
    "duration": 18,
    "start_time": "2022-03-08T13:02:08.848Z"
   },
   {
    "duration": 20,
    "start_time": "2022-03-08T13:02:10.721Z"
   },
   {
    "duration": 6,
    "start_time": "2022-03-08T13:06:08.187Z"
   },
   {
    "duration": 34,
    "start_time": "2022-03-08T13:06:19.926Z"
   },
   {
    "duration": 213,
    "start_time": "2022-03-08T13:06:38.760Z"
   },
   {
    "duration": 99,
    "start_time": "2022-03-08T13:13:06.511Z"
   },
   {
    "duration": 213,
    "start_time": "2022-03-08T13:13:18.659Z"
   },
   {
    "duration": 234,
    "start_time": "2022-03-08T13:13:40.120Z"
   },
   {
    "duration": 19,
    "start_time": "2022-03-08T13:13:49.064Z"
   },
   {
    "duration": 18,
    "start_time": "2022-03-08T13:14:38.754Z"
   },
   {
    "duration": 21,
    "start_time": "2022-03-08T13:15:46.969Z"
   },
   {
    "duration": 19,
    "start_time": "2022-03-08T13:16:00.238Z"
   },
   {
    "duration": 21,
    "start_time": "2022-03-08T13:16:20.586Z"
   },
   {
    "duration": 19,
    "start_time": "2022-03-08T13:16:28.562Z"
   },
   {
    "duration": 17,
    "start_time": "2022-03-08T13:16:51.295Z"
   },
   {
    "duration": 697,
    "start_time": "2022-03-08T13:16:59.206Z"
   },
   {
    "duration": 724,
    "start_time": "2022-03-08T13:17:09.213Z"
   },
   {
    "duration": 640,
    "start_time": "2022-03-08T13:17:18.690Z"
   },
   {
    "duration": 233,
    "start_time": "2022-03-08T13:18:01.752Z"
   },
   {
    "duration": 824,
    "start_time": "2022-03-08T13:18:21.750Z"
   },
   {
    "duration": 242,
    "start_time": "2022-03-08T13:19:47.005Z"
   },
   {
    "duration": 68,
    "start_time": "2022-03-08T13:20:14.853Z"
   },
   {
    "duration": 948,
    "start_time": "2022-03-08T13:20:19.650Z"
   },
   {
    "duration": 706,
    "start_time": "2022-03-08T13:20:39.735Z"
   },
   {
    "duration": 20,
    "start_time": "2022-03-08T13:21:22.497Z"
   },
   {
    "duration": 715,
    "start_time": "2022-03-08T13:21:27.304Z"
   },
   {
    "duration": 18,
    "start_time": "2022-03-08T13:26:10.997Z"
   },
   {
    "duration": 15,
    "start_time": "2022-03-08T13:26:29.017Z"
   },
   {
    "duration": 736,
    "start_time": "2022-03-08T13:27:30.551Z"
   },
   {
    "duration": 489,
    "start_time": "2022-03-08T13:27:58.350Z"
   },
   {
    "duration": 534,
    "start_time": "2022-03-08T13:28:29.585Z"
   },
   {
    "duration": 495,
    "start_time": "2022-03-08T13:30:51.535Z"
   },
   {
    "duration": 444,
    "start_time": "2022-03-08T13:31:03.036Z"
   },
   {
    "duration": 629,
    "start_time": "2022-03-08T13:31:24.001Z"
   },
   {
    "duration": 473,
    "start_time": "2022-03-08T13:31:35.931Z"
   },
   {
    "duration": 434,
    "start_time": "2022-03-08T13:31:47.083Z"
   },
   {
    "duration": 533,
    "start_time": "2022-03-08T13:32:05.092Z"
   },
   {
    "duration": 442,
    "start_time": "2022-03-08T13:32:27.032Z"
   },
   {
    "duration": 423,
    "start_time": "2022-03-08T13:32:38.167Z"
   },
   {
    "duration": 447,
    "start_time": "2022-03-08T13:35:52.066Z"
   },
   {
    "duration": 5,
    "start_time": "2022-03-08T13:38:30.503Z"
   },
   {
    "duration": 39,
    "start_time": "2022-03-08T13:38:31.086Z"
   },
   {
    "duration": 16,
    "start_time": "2022-03-08T13:39:27.928Z"
   },
   {
    "duration": 5,
    "start_time": "2022-03-08T13:41:35.849Z"
   },
   {
    "duration": 37,
    "start_time": "2022-03-08T13:41:38.500Z"
   },
   {
    "duration": 14,
    "start_time": "2022-03-08T13:41:42.232Z"
   },
   {
    "duration": 14,
    "start_time": "2022-03-08T13:42:24.221Z"
   },
   {
    "duration": 15,
    "start_time": "2022-03-08T13:42:36.352Z"
   },
   {
    "duration": 391,
    "start_time": "2022-03-08T13:43:44.835Z"
   },
   {
    "duration": 383,
    "start_time": "2022-03-08T13:44:08.880Z"
   },
   {
    "duration": 355,
    "start_time": "2022-03-08T13:44:31.636Z"
   },
   {
    "duration": 3,
    "start_time": "2022-03-08T13:53:19.530Z"
   },
   {
    "duration": 5,
    "start_time": "2022-03-08T13:53:41.522Z"
   },
   {
    "duration": 14,
    "start_time": "2022-03-08T13:55:24.683Z"
   },
   {
    "duration": 67,
    "start_time": "2022-03-08T13:55:31.580Z"
   },
   {
    "duration": 13,
    "start_time": "2022-03-08T13:56:11.906Z"
   },
   {
    "duration": 5437,
    "start_time": "2022-03-08T13:57:14.365Z"
   },
   {
    "duration": 4,
    "start_time": "2022-03-08T13:57:41.576Z"
   },
   {
    "duration": 4,
    "start_time": "2022-03-08T13:57:42.041Z"
   },
   {
    "duration": 13,
    "start_time": "2022-03-08T13:57:42.681Z"
   },
   {
    "duration": 5815,
    "start_time": "2022-03-08T13:57:44.134Z"
   },
   {
    "duration": 33,
    "start_time": "2022-03-08T13:58:42.406Z"
   },
   {
    "duration": 22,
    "start_time": "2022-03-08T13:58:52.238Z"
   },
   {
    "duration": 31,
    "start_time": "2022-03-08T13:58:59.979Z"
   },
   {
    "duration": 240,
    "start_time": "2022-03-08T14:00:51.685Z"
   },
   {
    "duration": 24,
    "start_time": "2022-03-08T14:01:24.047Z"
   },
   {
    "duration": 20,
    "start_time": "2022-03-08T14:02:36.947Z"
   },
   {
    "duration": 31,
    "start_time": "2022-03-08T14:02:44.948Z"
   },
   {
    "duration": 31,
    "start_time": "2022-03-08T14:03:42.530Z"
   },
   {
    "duration": 29,
    "start_time": "2022-03-08T14:03:58.378Z"
   },
   {
    "duration": 32,
    "start_time": "2022-03-08T14:04:10.490Z"
   },
   {
    "duration": 8,
    "start_time": "2022-03-08T14:04:54.687Z"
   },
   {
    "duration": 232,
    "start_time": "2022-03-08T14:05:16.048Z"
   },
   {
    "duration": 252,
    "start_time": "2022-03-08T14:05:30.070Z"
   },
   {
    "duration": 23,
    "start_time": "2022-03-08T14:06:24.499Z"
   },
   {
    "duration": 31,
    "start_time": "2022-03-08T14:07:34.912Z"
   },
   {
    "duration": 9,
    "start_time": "2022-03-08T14:07:42.978Z"
   },
   {
    "duration": 1538,
    "start_time": "2022-03-08T14:08:08.361Z"
   },
   {
    "duration": 127,
    "start_time": "2022-03-08T14:08:09.902Z"
   },
   {
    "duration": 9,
    "start_time": "2022-03-08T14:08:10.033Z"
   },
   {
    "duration": 19,
    "start_time": "2022-03-08T14:08:10.045Z"
   },
   {
    "duration": 12,
    "start_time": "2022-03-08T14:08:10.088Z"
   },
   {
    "duration": 5,
    "start_time": "2022-03-08T14:08:10.102Z"
   },
   {
    "duration": 16,
    "start_time": "2022-03-08T14:08:10.110Z"
   },
   {
    "duration": 20,
    "start_time": "2022-03-08T14:08:10.128Z"
   },
   {
    "duration": 42,
    "start_time": "2022-03-08T14:08:10.152Z"
   },
   {
    "duration": 6,
    "start_time": "2022-03-08T14:08:10.197Z"
   },
   {
    "duration": 6,
    "start_time": "2022-03-08T14:08:10.206Z"
   },
   {
    "duration": 22,
    "start_time": "2022-03-08T14:08:10.215Z"
   },
   {
    "duration": 49,
    "start_time": "2022-03-08T14:08:10.240Z"
   },
   {
    "duration": 24,
    "start_time": "2022-03-08T14:08:10.291Z"
   },
   {
    "duration": 24,
    "start_time": "2022-03-08T14:08:10.318Z"
   },
   {
    "duration": 55,
    "start_time": "2022-03-08T14:08:10.344Z"
   },
   {
    "duration": 30,
    "start_time": "2022-03-08T14:08:10.401Z"
   },
   {
    "duration": 25,
    "start_time": "2022-03-08T14:08:10.434Z"
   },
   {
    "duration": 6,
    "start_time": "2022-03-08T14:08:10.486Z"
   },
   {
    "duration": 33,
    "start_time": "2022-03-08T14:08:10.494Z"
   },
   {
    "duration": 968,
    "start_time": "2022-03-08T14:08:10.530Z"
   },
   {
    "duration": 15,
    "start_time": "2022-03-08T14:08:11.501Z"
   },
   {
    "duration": 11,
    "start_time": "2022-03-08T14:08:11.518Z"
   },
   {
    "duration": 23,
    "start_time": "2022-03-08T14:08:11.532Z"
   },
   {
    "duration": 47,
    "start_time": "2022-03-08T14:08:11.558Z"
   },
   {
    "duration": 21,
    "start_time": "2022-03-08T14:08:11.608Z"
   },
   {
    "duration": 793,
    "start_time": "2022-03-08T14:08:11.636Z"
   },
   {
    "duration": 15,
    "start_time": "2022-03-08T14:08:12.432Z"
   },
   {
    "duration": 540,
    "start_time": "2022-03-08T14:08:12.449Z"
   },
   {
    "duration": 4,
    "start_time": "2022-03-08T14:08:12.992Z"
   },
   {
    "duration": 38,
    "start_time": "2022-03-08T14:08:12.999Z"
   },
   {
    "duration": 51,
    "start_time": "2022-03-08T14:08:13.040Z"
   },
   {
    "duration": 399,
    "start_time": "2022-03-08T14:08:13.094Z"
   },
   {
    "duration": 24,
    "start_time": "2022-03-08T14:08:13.496Z"
   },
   {
    "duration": 373,
    "start_time": "2022-03-08T14:08:13.522Z"
   },
   {
    "duration": 34,
    "start_time": "2022-03-08T14:08:13.898Z"
   },
   {
    "duration": 61,
    "start_time": "2022-03-08T14:08:13.935Z"
   },
   {
    "duration": 12,
    "start_time": "2022-03-08T14:08:13.999Z"
   },
   {
    "duration": 26,
    "start_time": "2022-03-08T14:08:14.014Z"
   },
   {
    "duration": 749,
    "start_time": "2022-03-08T14:08:14.043Z"
   },
   {
    "duration": 712,
    "start_time": "2022-03-08T14:08:14.795Z"
   },
   {
    "duration": 5,
    "start_time": "2022-03-08T14:08:15.510Z"
   },
   {
    "duration": 7,
    "start_time": "2022-03-08T14:08:15.518Z"
   },
   {
    "duration": 62,
    "start_time": "2022-03-08T14:08:15.527Z"
   },
   {
    "duration": 37,
    "start_time": "2022-03-08T14:08:15.592Z"
   },
   {
    "duration": 10,
    "start_time": "2022-03-08T14:08:15.632Z"
   },
   {
    "duration": 34,
    "start_time": "2022-03-08T14:09:28.794Z"
   },
   {
    "duration": 1524,
    "start_time": "2022-03-08T14:09:37.440Z"
   },
   {
    "duration": 131,
    "start_time": "2022-03-08T14:09:38.967Z"
   },
   {
    "duration": 8,
    "start_time": "2022-03-08T14:09:39.102Z"
   },
   {
    "duration": 20,
    "start_time": "2022-03-08T14:09:39.113Z"
   },
   {
    "duration": 11,
    "start_time": "2022-03-08T14:09:39.136Z"
   },
   {
    "duration": 6,
    "start_time": "2022-03-08T14:09:39.187Z"
   },
   {
    "duration": 12,
    "start_time": "2022-03-08T14:09:39.195Z"
   },
   {
    "duration": 8,
    "start_time": "2022-03-08T14:09:39.209Z"
   },
   {
    "duration": 21,
    "start_time": "2022-03-08T14:09:39.221Z"
   },
   {
    "duration": 7,
    "start_time": "2022-03-08T14:09:39.244Z"
   },
   {
    "duration": 8,
    "start_time": "2022-03-08T14:09:39.288Z"
   },
   {
    "duration": 26,
    "start_time": "2022-03-08T14:09:39.299Z"
   },
   {
    "duration": 11,
    "start_time": "2022-03-08T14:09:39.328Z"
   },
   {
    "duration": 65,
    "start_time": "2022-03-08T14:09:39.341Z"
   },
   {
    "duration": 23,
    "start_time": "2022-03-08T14:09:39.408Z"
   },
   {
    "duration": 59,
    "start_time": "2022-03-08T14:09:39.433Z"
   },
   {
    "duration": 29,
    "start_time": "2022-03-08T14:09:39.494Z"
   },
   {
    "duration": 25,
    "start_time": "2022-03-08T14:09:39.526Z"
   },
   {
    "duration": 6,
    "start_time": "2022-03-08T14:09:39.553Z"
   },
   {
    "duration": 52,
    "start_time": "2022-03-08T14:09:39.561Z"
   },
   {
    "duration": 935,
    "start_time": "2022-03-08T14:09:39.615Z"
   },
   {
    "duration": 15,
    "start_time": "2022-03-08T14:09:40.552Z"
   },
   {
    "duration": 29,
    "start_time": "2022-03-08T14:09:40.570Z"
   },
   {
    "duration": 48,
    "start_time": "2022-03-08T14:09:40.601Z"
   },
   {
    "duration": 41,
    "start_time": "2022-03-08T14:09:40.652Z"
   },
   {
    "duration": 20,
    "start_time": "2022-03-08T14:09:40.695Z"
   },
   {
    "duration": 745,
    "start_time": "2022-03-08T14:09:40.720Z"
   },
   {
    "duration": 22,
    "start_time": "2022-03-08T14:09:41.468Z"
   },
   {
    "duration": 528,
    "start_time": "2022-03-08T14:09:41.492Z"
   },
   {
    "duration": 4,
    "start_time": "2022-03-08T14:09:42.023Z"
   },
   {
    "duration": 41,
    "start_time": "2022-03-08T14:09:42.030Z"
   },
   {
    "duration": 16,
    "start_time": "2022-03-08T14:09:42.088Z"
   },
   {
    "duration": 388,
    "start_time": "2022-03-08T14:09:42.106Z"
   },
   {
    "duration": 23,
    "start_time": "2022-03-08T14:09:42.497Z"
   },
   {
    "duration": 271,
    "start_time": "2022-03-08T14:09:42.523Z"
   },
   {
    "duration": 35,
    "start_time": "2022-03-08T14:09:42.798Z"
   },
   {
    "duration": 64,
    "start_time": "2022-03-08T14:09:42.836Z"
   },
   {
    "duration": 11,
    "start_time": "2022-03-08T14:09:42.902Z"
   },
   {
    "duration": 31,
    "start_time": "2022-03-08T14:09:42.915Z"
   },
   {
    "duration": 738,
    "start_time": "2022-03-08T14:09:42.949Z"
   },
   {
    "duration": 709,
    "start_time": "2022-03-08T14:09:43.689Z"
   },
   {
    "duration": 4,
    "start_time": "2022-03-08T14:09:44.400Z"
   },
   {
    "duration": 8,
    "start_time": "2022-03-08T14:09:44.406Z"
   },
   {
    "duration": 36,
    "start_time": "2022-03-08T14:09:44.416Z"
   },
   {
    "duration": 64,
    "start_time": "2022-03-08T14:09:44.455Z"
   },
   {
    "duration": 8,
    "start_time": "2022-03-08T14:09:44.522Z"
   },
   {
    "duration": 219,
    "start_time": "2022-03-08T14:10:19.331Z"
   },
   {
    "duration": 83971,
    "start_time": "2022-03-08T14:10:29.747Z"
   },
   {
    "duration": 1546,
    "start_time": "2022-03-08T14:17:40.862Z"
   },
   {
    "duration": 118,
    "start_time": "2022-03-08T14:17:42.412Z"
   },
   {
    "duration": 6,
    "start_time": "2022-03-08T14:17:42.533Z"
   },
   {
    "duration": 18,
    "start_time": "2022-03-08T14:17:42.542Z"
   },
   {
    "duration": 29,
    "start_time": "2022-03-08T14:17:42.562Z"
   },
   {
    "duration": 5,
    "start_time": "2022-03-08T14:17:42.593Z"
   },
   {
    "duration": 11,
    "start_time": "2022-03-08T14:17:42.601Z"
   },
   {
    "duration": 8,
    "start_time": "2022-03-08T14:17:42.615Z"
   },
   {
    "duration": 12,
    "start_time": "2022-03-08T14:17:42.626Z"
   },
   {
    "duration": 49,
    "start_time": "2022-03-08T14:17:42.640Z"
   },
   {
    "duration": 7,
    "start_time": "2022-03-08T14:17:42.692Z"
   },
   {
    "duration": 23,
    "start_time": "2022-03-08T14:17:42.702Z"
   },
   {
    "duration": 10,
    "start_time": "2022-03-08T14:17:42.727Z"
   },
   {
    "duration": 63,
    "start_time": "2022-03-08T14:17:42.740Z"
   },
   {
    "duration": 23,
    "start_time": "2022-03-08T14:17:42.806Z"
   },
   {
    "duration": 26,
    "start_time": "2022-03-08T14:17:42.831Z"
   },
   {
    "duration": 27,
    "start_time": "2022-03-08T14:17:42.887Z"
   },
   {
    "duration": 23,
    "start_time": "2022-03-08T14:17:42.916Z"
   },
   {
    "duration": 5,
    "start_time": "2022-03-08T14:17:42.941Z"
   },
   {
    "duration": 59,
    "start_time": "2022-03-08T14:17:42.948Z"
   },
   {
    "duration": 914,
    "start_time": "2022-03-08T14:17:43.009Z"
   },
   {
    "duration": 15,
    "start_time": "2022-03-08T14:17:43.925Z"
   },
   {
    "duration": 8,
    "start_time": "2022-03-08T14:17:43.946Z"
   },
   {
    "duration": 39,
    "start_time": "2022-03-08T14:17:43.957Z"
   },
   {
    "duration": 5793,
    "start_time": "2022-03-08T14:17:43.999Z"
   },
   {
    "duration": 6,
    "start_time": "2022-03-08T14:17:49.789Z"
   },
   {
    "duration": 5,
    "start_time": "2022-03-08T14:17:49.791Z"
   },
   {
    "duration": 5,
    "start_time": "2022-03-08T14:17:49.793Z"
   },
   {
    "duration": 5,
    "start_time": "2022-03-08T14:17:49.794Z"
   },
   {
    "duration": 5,
    "start_time": "2022-03-08T14:17:49.796Z"
   },
   {
    "duration": 5,
    "start_time": "2022-03-08T14:17:49.797Z"
   },
   {
    "duration": 5,
    "start_time": "2022-03-08T14:17:49.799Z"
   },
   {
    "duration": 5,
    "start_time": "2022-03-08T14:17:49.800Z"
   },
   {
    "duration": 5,
    "start_time": "2022-03-08T14:17:49.801Z"
   },
   {
    "duration": 4,
    "start_time": "2022-03-08T14:17:49.803Z"
   },
   {
    "duration": 5,
    "start_time": "2022-03-08T14:17:49.804Z"
   },
   {
    "duration": 5,
    "start_time": "2022-03-08T14:17:49.805Z"
   },
   {
    "duration": 5,
    "start_time": "2022-03-08T14:17:49.806Z"
   },
   {
    "duration": 4,
    "start_time": "2022-03-08T14:17:49.808Z"
   },
   {
    "duration": 5,
    "start_time": "2022-03-08T14:17:49.809Z"
   },
   {
    "duration": 5,
    "start_time": "2022-03-08T14:17:49.810Z"
   },
   {
    "duration": 5,
    "start_time": "2022-03-08T14:17:49.811Z"
   },
   {
    "duration": -16,
    "start_time": "2022-03-08T14:17:49.833Z"
   },
   {
    "duration": -15,
    "start_time": "2022-03-08T14:17:49.834Z"
   },
   {
    "duration": -16,
    "start_time": "2022-03-08T14:17:49.836Z"
   },
   {
    "duration": -17,
    "start_time": "2022-03-08T14:17:49.838Z"
   },
   {
    "duration": -22,
    "start_time": "2022-03-08T14:17:49.844Z"
   },
   {
    "duration": -23,
    "start_time": "2022-03-08T14:17:49.846Z"
   },
   {
    "duration": 1522,
    "start_time": "2022-03-08T14:18:27.053Z"
   },
   {
    "duration": 113,
    "start_time": "2022-03-08T14:18:28.586Z"
   },
   {
    "duration": 7,
    "start_time": "2022-03-08T14:18:28.702Z"
   },
   {
    "duration": 19,
    "start_time": "2022-03-08T14:18:28.713Z"
   },
   {
    "duration": 9,
    "start_time": "2022-03-08T14:18:28.735Z"
   },
   {
    "duration": 42,
    "start_time": "2022-03-08T14:18:28.746Z"
   },
   {
    "duration": 13,
    "start_time": "2022-03-08T14:18:28.791Z"
   },
   {
    "duration": 8,
    "start_time": "2022-03-08T14:18:28.806Z"
   },
   {
    "duration": 12,
    "start_time": "2022-03-08T14:18:28.820Z"
   },
   {
    "duration": 5,
    "start_time": "2022-03-08T14:18:28.835Z"
   },
   {
    "duration": 44,
    "start_time": "2022-03-08T14:18:28.843Z"
   },
   {
    "duration": 21,
    "start_time": "2022-03-08T14:18:28.890Z"
   },
   {
    "duration": 10,
    "start_time": "2022-03-08T14:18:28.914Z"
   },
   {
    "duration": 26,
    "start_time": "2022-03-08T14:18:28.926Z"
   },
   {
    "duration": 24,
    "start_time": "2022-03-08T14:18:28.987Z"
   },
   {
    "duration": 30,
    "start_time": "2022-03-08T14:18:29.014Z"
   },
   {
    "duration": 57,
    "start_time": "2022-03-08T14:18:29.046Z"
   },
   {
    "duration": 24,
    "start_time": "2022-03-08T14:18:29.105Z"
   },
   {
    "duration": 6,
    "start_time": "2022-03-08T14:18:29.131Z"
   },
   {
    "duration": 62,
    "start_time": "2022-03-08T14:18:29.139Z"
   },
   {
    "duration": 916,
    "start_time": "2022-03-08T14:18:29.204Z"
   },
   {
    "duration": 14,
    "start_time": "2022-03-08T14:18:30.123Z"
   },
   {
    "duration": 18,
    "start_time": "2022-03-08T14:18:30.140Z"
   },
   {
    "duration": 33,
    "start_time": "2022-03-08T14:18:30.160Z"
   },
   {
    "duration": 22,
    "start_time": "2022-03-08T14:18:30.195Z"
   },
   {
    "duration": 18,
    "start_time": "2022-03-08T14:18:30.220Z"
   },
   {
    "duration": 762,
    "start_time": "2022-03-08T14:18:30.244Z"
   },
   {
    "duration": 15,
    "start_time": "2022-03-08T14:18:31.008Z"
   },
   {
    "duration": 522,
    "start_time": "2022-03-08T14:18:31.025Z"
   },
   {
    "duration": 4,
    "start_time": "2022-03-08T14:18:31.549Z"
   },
   {
    "duration": 55,
    "start_time": "2022-03-08T14:18:31.556Z"
   },
   {
    "duration": 15,
    "start_time": "2022-03-08T14:18:31.614Z"
   },
   {
    "duration": 394,
    "start_time": "2022-03-08T14:18:31.632Z"
   },
   {
    "duration": 21,
    "start_time": "2022-03-08T14:18:32.028Z"
   },
   {
    "duration": 262,
    "start_time": "2022-03-08T14:18:32.051Z"
   },
   {
    "duration": 35,
    "start_time": "2022-03-08T14:18:32.315Z"
   },
   {
    "duration": 54,
    "start_time": "2022-03-08T14:18:32.352Z"
   },
   {
    "duration": 10,
    "start_time": "2022-03-08T14:18:32.409Z"
   },
   {
    "duration": 25,
    "start_time": "2022-03-08T14:18:32.421Z"
   },
   {
    "duration": 735,
    "start_time": "2022-03-08T14:18:32.449Z"
   },
   {
    "duration": 780,
    "start_time": "2022-03-08T14:18:33.187Z"
   },
   {
    "duration": 3,
    "start_time": "2022-03-08T14:18:33.970Z"
   },
   {
    "duration": 4,
    "start_time": "2022-03-08T14:18:33.987Z"
   },
   {
    "duration": 33,
    "start_time": "2022-03-08T14:18:33.993Z"
   },
   {
    "duration": 69,
    "start_time": "2022-03-08T14:18:34.029Z"
   },
   {
    "duration": 7,
    "start_time": "2022-03-08T14:18:34.093Z"
   },
   {
    "duration": 6,
    "start_time": "2022-03-08T14:18:34.095Z"
   },
   {
    "duration": 6,
    "start_time": "2022-03-08T14:18:34.097Z"
   },
   {
    "duration": 1547,
    "start_time": "2022-03-08T14:19:08.181Z"
   },
   {
    "duration": 118,
    "start_time": "2022-03-08T14:19:09.731Z"
   },
   {
    "duration": 7,
    "start_time": "2022-03-08T14:19:09.853Z"
   },
   {
    "duration": 32,
    "start_time": "2022-03-08T14:19:09.863Z"
   },
   {
    "duration": 10,
    "start_time": "2022-03-08T14:19:09.898Z"
   },
   {
    "duration": 6,
    "start_time": "2022-03-08T14:19:09.911Z"
   },
   {
    "duration": 12,
    "start_time": "2022-03-08T14:19:09.919Z"
   },
   {
    "duration": 9,
    "start_time": "2022-03-08T14:19:09.935Z"
   },
   {
    "duration": 13,
    "start_time": "2022-03-08T14:19:09.986Z"
   },
   {
    "duration": 6,
    "start_time": "2022-03-08T14:19:10.001Z"
   },
   {
    "duration": 18,
    "start_time": "2022-03-08T14:19:10.009Z"
   },
   {
    "duration": 57,
    "start_time": "2022-03-08T14:19:10.030Z"
   },
   {
    "duration": 11,
    "start_time": "2022-03-08T14:19:10.089Z"
   },
   {
    "duration": 26,
    "start_time": "2022-03-08T14:19:10.102Z"
   },
   {
    "duration": 23,
    "start_time": "2022-03-08T14:19:10.130Z"
   },
   {
    "duration": 55,
    "start_time": "2022-03-08T14:19:10.156Z"
   },
   {
    "duration": 26,
    "start_time": "2022-03-08T14:19:10.213Z"
   },
   {
    "duration": 51,
    "start_time": "2022-03-08T14:19:10.241Z"
   },
   {
    "duration": 6,
    "start_time": "2022-03-08T14:19:10.294Z"
   },
   {
    "duration": 27,
    "start_time": "2022-03-08T14:19:10.302Z"
   },
   {
    "duration": 1136,
    "start_time": "2022-03-08T14:19:10.331Z"
   },
   {
    "duration": 27,
    "start_time": "2022-03-08T14:19:11.469Z"
   },
   {
    "duration": 7,
    "start_time": "2022-03-08T14:19:11.502Z"
   },
   {
    "duration": 14,
    "start_time": "2022-03-08T14:19:11.512Z"
   },
   {
    "duration": 20,
    "start_time": "2022-03-08T14:19:11.529Z"
   },
   {
    "duration": 52,
    "start_time": "2022-03-08T14:19:11.552Z"
   },
   {
    "duration": 745,
    "start_time": "2022-03-08T14:19:11.607Z"
   },
   {
    "duration": 14,
    "start_time": "2022-03-08T14:19:12.355Z"
   },
   {
    "duration": 524,
    "start_time": "2022-03-08T14:19:12.387Z"
   },
   {
    "duration": 4,
    "start_time": "2022-03-08T14:19:12.913Z"
   },
   {
    "duration": 48,
    "start_time": "2022-03-08T14:19:12.919Z"
   },
   {
    "duration": 30,
    "start_time": "2022-03-08T14:19:12.970Z"
   },
   {
    "duration": 365,
    "start_time": "2022-03-08T14:19:13.002Z"
   },
   {
    "duration": 25,
    "start_time": "2022-03-08T14:19:13.369Z"
   },
   {
    "duration": 245,
    "start_time": "2022-03-08T14:19:13.397Z"
   },
   {
    "duration": 43,
    "start_time": "2022-03-08T14:19:13.644Z"
   },
   {
    "duration": 36,
    "start_time": "2022-03-08T14:19:13.689Z"
   },
   {
    "duration": 10,
    "start_time": "2022-03-08T14:19:13.727Z"
   },
   {
    "duration": 29,
    "start_time": "2022-03-08T14:19:13.739Z"
   },
   {
    "duration": 900,
    "start_time": "2022-03-08T14:19:13.770Z"
   },
   {
    "duration": 679,
    "start_time": "2022-03-08T14:19:14.672Z"
   },
   {
    "duration": 4,
    "start_time": "2022-03-08T14:19:15.354Z"
   },
   {
    "duration": 8,
    "start_time": "2022-03-08T14:19:15.360Z"
   },
   {
    "duration": 50,
    "start_time": "2022-03-08T14:19:15.370Z"
   },
   {
    "duration": 80,
    "start_time": "2022-03-08T14:19:15.422Z"
   },
   {
    "duration": 56,
    "start_time": "2022-03-08T14:19:15.449Z"
   },
   {
    "duration": 56,
    "start_time": "2022-03-08T14:19:15.450Z"
   },
   {
    "duration": 55,
    "start_time": "2022-03-08T14:19:15.452Z"
   },
   {
    "duration": 46,
    "start_time": "2022-03-08T14:20:04.271Z"
   },
   {
    "duration": 39,
    "start_time": "2022-03-08T14:20:36.346Z"
   },
   {
    "duration": 47,
    "start_time": "2022-03-08T14:21:03.755Z"
   },
   {
    "duration": 370,
    "start_time": "2022-03-08T14:21:35.374Z"
   },
   {
    "duration": 8,
    "start_time": "2022-03-08T14:21:38.463Z"
   },
   {
    "duration": 5,
    "start_time": "2022-03-08T14:21:39.416Z"
   },
   {
    "duration": 2110,
    "start_time": "2022-03-08T14:22:00.162Z"
   },
   {
    "duration": 30,
    "start_time": "2022-03-08T14:24:58.247Z"
   },
   {
    "duration": 33,
    "start_time": "2022-03-08T14:26:39.215Z"
   },
   {
    "duration": 36,
    "start_time": "2022-03-08T14:27:45.099Z"
   },
   {
    "duration": 1588,
    "start_time": "2022-03-08T14:35:52.911Z"
   },
   {
    "duration": 122,
    "start_time": "2022-03-08T14:35:54.501Z"
   },
   {
    "duration": 6,
    "start_time": "2022-03-08T14:35:54.626Z"
   },
   {
    "duration": 19,
    "start_time": "2022-03-08T14:35:54.636Z"
   },
   {
    "duration": 38,
    "start_time": "2022-03-08T14:35:54.658Z"
   },
   {
    "duration": 10,
    "start_time": "2022-03-08T14:35:54.699Z"
   },
   {
    "duration": 20,
    "start_time": "2022-03-08T14:35:54.712Z"
   },
   {
    "duration": 10,
    "start_time": "2022-03-08T14:35:54.734Z"
   },
   {
    "duration": 12,
    "start_time": "2022-03-08T14:35:54.748Z"
   },
   {
    "duration": 5,
    "start_time": "2022-03-08T14:35:54.788Z"
   },
   {
    "duration": 7,
    "start_time": "2022-03-08T14:35:54.795Z"
   },
   {
    "duration": 21,
    "start_time": "2022-03-08T14:35:54.804Z"
   },
   {
    "duration": 10,
    "start_time": "2022-03-08T14:35:54.827Z"
   },
   {
    "duration": 59,
    "start_time": "2022-03-08T14:35:54.839Z"
   },
   {
    "duration": 23,
    "start_time": "2022-03-08T14:35:54.900Z"
   },
   {
    "duration": 26,
    "start_time": "2022-03-08T14:35:54.925Z"
   },
   {
    "duration": 55,
    "start_time": "2022-03-08T14:35:54.953Z"
   },
   {
    "duration": 25,
    "start_time": "2022-03-08T14:35:55.010Z"
   },
   {
    "duration": 5,
    "start_time": "2022-03-08T14:35:55.037Z"
   },
   {
    "duration": 55,
    "start_time": "2022-03-08T14:35:55.044Z"
   },
   {
    "duration": 947,
    "start_time": "2022-03-08T14:35:55.101Z"
   },
   {
    "duration": 16,
    "start_time": "2022-03-08T14:35:56.050Z"
   },
   {
    "duration": 23,
    "start_time": "2022-03-08T14:35:56.068Z"
   },
   {
    "duration": 15,
    "start_time": "2022-03-08T14:35:56.094Z"
   },
   {
    "duration": 24,
    "start_time": "2022-03-08T14:35:56.111Z"
   },
   {
    "duration": 55,
    "start_time": "2022-03-08T14:35:56.137Z"
   },
   {
    "duration": 791,
    "start_time": "2022-03-08T14:35:56.198Z"
   },
   {
    "duration": 16,
    "start_time": "2022-03-08T14:35:56.993Z"
   },
   {
    "duration": 523,
    "start_time": "2022-03-08T14:35:57.011Z"
   },
   {
    "duration": 5,
    "start_time": "2022-03-08T14:35:57.537Z"
   },
   {
    "duration": 55,
    "start_time": "2022-03-08T14:35:57.544Z"
   },
   {
    "duration": 14,
    "start_time": "2022-03-08T14:35:57.602Z"
   },
   {
    "duration": 401,
    "start_time": "2022-03-08T14:35:57.618Z"
   },
   {
    "duration": 19,
    "start_time": "2022-03-08T14:35:58.022Z"
   },
   {
    "duration": 268,
    "start_time": "2022-03-08T14:35:58.043Z"
   },
   {
    "duration": 35,
    "start_time": "2022-03-08T14:35:58.314Z"
   },
   {
    "duration": 60,
    "start_time": "2022-03-08T14:35:58.352Z"
   },
   {
    "duration": 9,
    "start_time": "2022-03-08T14:35:58.415Z"
   },
   {
    "duration": 27,
    "start_time": "2022-03-08T14:35:58.427Z"
   },
   {
    "duration": 736,
    "start_time": "2022-03-08T14:35:58.456Z"
   },
   {
    "duration": 726,
    "start_time": "2022-03-08T14:35:59.194Z"
   },
   {
    "duration": 4,
    "start_time": "2022-03-08T14:35:59.923Z"
   },
   {
    "duration": 6,
    "start_time": "2022-03-08T14:35:59.930Z"
   },
   {
    "duration": 70,
    "start_time": "2022-03-08T14:35:59.939Z"
   },
   {
    "duration": 33,
    "start_time": "2022-03-08T14:36:00.012Z"
   },
   {
    "duration": 4,
    "start_time": "2022-03-08T14:36:00.047Z"
   },
   {
    "duration": 7,
    "start_time": "2022-03-08T14:36:00.053Z"
   },
   {
    "duration": 3,
    "start_time": "2022-03-08T14:36:00.088Z"
   },
   {
    "duration": 7,
    "start_time": "2022-03-08T14:36:15.701Z"
   },
   {
    "duration": 3,
    "start_time": "2022-03-08T14:36:17.253Z"
   },
   {
    "duration": 2112,
    "start_time": "2022-03-08T14:36:18.053Z"
   },
   {
    "duration": 4,
    "start_time": "2022-03-08T14:39:41.815Z"
   },
   {
    "duration": 33,
    "start_time": "2022-03-08T14:39:42.722Z"
   },
   {
    "duration": 380,
    "start_time": "2022-03-08T14:39:43.506Z"
   },
   {
    "duration": 4,
    "start_time": "2022-03-08T14:40:02.935Z"
   },
   {
    "duration": 14,
    "start_time": "2022-03-08T14:40:09.701Z"
   },
   {
    "duration": 16,
    "start_time": "2022-03-08T14:40:51.266Z"
   },
   {
    "duration": 8,
    "start_time": "2022-03-08T14:41:21.332Z"
   },
   {
    "duration": 72,
    "start_time": "2022-03-08T14:51:19.456Z"
   },
   {
    "duration": 33,
    "start_time": "2022-03-08T14:52:50.129Z"
   },
   {
    "duration": 231,
    "start_time": "2022-03-08T14:52:53.895Z"
   },
   {
    "duration": 5,
    "start_time": "2022-03-08T14:53:02.651Z"
   },
   {
    "duration": 16,
    "start_time": "2022-03-08T14:53:04.096Z"
   },
   {
    "duration": 3,
    "start_time": "2022-03-08T20:23:04.243Z"
   },
   {
    "duration": 3,
    "start_time": "2022-03-08T20:25:29.123Z"
   },
   {
    "duration": 504,
    "start_time": "2022-03-09T18:37:11.639Z"
   },
   {
    "duration": 1613,
    "start_time": "2022-03-09T18:37:18.938Z"
   },
   {
    "duration": 122,
    "start_time": "2022-03-09T18:37:20.555Z"
   },
   {
    "duration": 8,
    "start_time": "2022-03-09T18:37:20.680Z"
   },
   {
    "duration": 20,
    "start_time": "2022-03-09T18:37:20.691Z"
   },
   {
    "duration": 10,
    "start_time": "2022-03-09T18:37:20.733Z"
   },
   {
    "duration": 6,
    "start_time": "2022-03-09T18:37:20.746Z"
   },
   {
    "duration": 12,
    "start_time": "2022-03-09T18:37:20.754Z"
   },
   {
    "duration": 8,
    "start_time": "2022-03-09T18:37:20.769Z"
   },
   {
    "duration": 55,
    "start_time": "2022-03-09T18:37:20.781Z"
   },
   {
    "duration": 7,
    "start_time": "2022-03-09T18:37:20.839Z"
   },
   {
    "duration": 7,
    "start_time": "2022-03-09T18:37:20.848Z"
   },
   {
    "duration": 21,
    "start_time": "2022-03-09T18:37:20.858Z"
   },
   {
    "duration": 10,
    "start_time": "2022-03-09T18:37:20.882Z"
   },
   {
    "duration": 58,
    "start_time": "2022-03-09T18:37:20.894Z"
   },
   {
    "duration": 24,
    "start_time": "2022-03-09T18:37:20.955Z"
   },
   {
    "duration": 73,
    "start_time": "2022-03-09T18:37:20.981Z"
   },
   {
    "duration": 28,
    "start_time": "2022-03-09T18:37:21.056Z"
   },
   {
    "duration": 57,
    "start_time": "2022-03-09T18:37:21.087Z"
   },
   {
    "duration": 6,
    "start_time": "2022-03-09T18:37:21.147Z"
   },
   {
    "duration": 29,
    "start_time": "2022-03-09T18:37:21.156Z"
   },
   {
    "duration": 978,
    "start_time": "2022-03-09T18:37:21.187Z"
   },
   {
    "duration": 17,
    "start_time": "2022-03-09T18:37:22.168Z"
   },
   {
    "duration": 11,
    "start_time": "2022-03-09T18:37:22.188Z"
   },
   {
    "duration": 45,
    "start_time": "2022-03-09T18:37:22.201Z"
   },
   {
    "duration": 24,
    "start_time": "2022-03-09T18:37:22.249Z"
   },
   {
    "duration": 58,
    "start_time": "2022-03-09T18:37:22.277Z"
   },
   {
    "duration": 805,
    "start_time": "2022-03-09T18:37:22.341Z"
   },
   {
    "duration": 14,
    "start_time": "2022-03-09T18:37:23.150Z"
   },
   {
    "duration": 548,
    "start_time": "2022-03-09T18:37:23.167Z"
   },
   {
    "duration": 4,
    "start_time": "2022-03-09T18:37:23.718Z"
   },
   {
    "duration": 40,
    "start_time": "2022-03-09T18:37:23.733Z"
   },
   {
    "duration": 23,
    "start_time": "2022-03-09T18:37:23.776Z"
   },
   {
    "duration": 412,
    "start_time": "2022-03-09T18:37:23.801Z"
   },
   {
    "duration": 35,
    "start_time": "2022-03-09T18:37:24.216Z"
   },
   {
    "duration": 273,
    "start_time": "2022-03-09T18:37:24.254Z"
   },
   {
    "duration": 37,
    "start_time": "2022-03-09T18:37:24.533Z"
   },
   {
    "duration": 60,
    "start_time": "2022-03-09T18:37:24.573Z"
   },
   {
    "duration": 11,
    "start_time": "2022-03-09T18:37:24.636Z"
   },
   {
    "duration": 26,
    "start_time": "2022-03-09T18:37:24.650Z"
   },
   {
    "duration": 754,
    "start_time": "2022-03-09T18:37:24.679Z"
   },
   {
    "duration": 720,
    "start_time": "2022-03-09T18:37:25.436Z"
   },
   {
    "duration": 8547,
    "start_time": "2022-03-09T18:37:26.159Z"
   },
   {
    "duration": 25,
    "start_time": "2022-03-09T18:37:34.684Z"
   },
   {
    "duration": 24,
    "start_time": "2022-03-09T18:37:34.686Z"
   },
   {
    "duration": 23,
    "start_time": "2022-03-09T18:37:34.688Z"
   },
   {
    "duration": 6,
    "start_time": "2022-03-09T18:37:34.707Z"
   },
   {
    "duration": 6,
    "start_time": "2022-03-09T18:37:34.708Z"
   },
   {
    "duration": 5,
    "start_time": "2022-03-09T18:37:34.710Z"
   },
   {
    "duration": 5,
    "start_time": "2022-03-09T18:37:34.711Z"
   },
   {
    "duration": 6,
    "start_time": "2022-03-09T18:37:34.713Z"
   },
   {
    "duration": 6,
    "start_time": "2022-03-09T18:37:34.715Z"
   },
   {
    "duration": 39,
    "start_time": "2022-03-09T18:39:26.442Z"
   },
   {
    "duration": 1502,
    "start_time": "2022-03-09T18:39:34.379Z"
   },
   {
    "duration": 124,
    "start_time": "2022-03-09T18:39:35.883Z"
   },
   {
    "duration": 7,
    "start_time": "2022-03-09T18:39:36.010Z"
   },
   {
    "duration": 28,
    "start_time": "2022-03-09T18:39:36.020Z"
   },
   {
    "duration": 15,
    "start_time": "2022-03-09T18:39:36.050Z"
   },
   {
    "duration": 6,
    "start_time": "2022-03-09T18:39:36.067Z"
   },
   {
    "duration": 9,
    "start_time": "2022-03-09T18:39:36.076Z"
   },
   {
    "duration": 48,
    "start_time": "2022-03-09T18:39:36.089Z"
   },
   {
    "duration": 13,
    "start_time": "2022-03-09T18:39:36.141Z"
   },
   {
    "duration": 6,
    "start_time": "2022-03-09T18:39:36.156Z"
   },
   {
    "duration": 14,
    "start_time": "2022-03-09T18:39:36.165Z"
   },
   {
    "duration": 61,
    "start_time": "2022-03-09T18:39:36.181Z"
   },
   {
    "duration": 10,
    "start_time": "2022-03-09T18:39:36.244Z"
   },
   {
    "duration": 24,
    "start_time": "2022-03-09T18:39:36.256Z"
   },
   {
    "duration": 50,
    "start_time": "2022-03-09T18:39:36.282Z"
   },
   {
    "duration": 28,
    "start_time": "2022-03-09T18:39:36.335Z"
   },
   {
    "duration": 29,
    "start_time": "2022-03-09T18:39:36.365Z"
   },
   {
    "duration": 59,
    "start_time": "2022-03-09T18:39:36.397Z"
   },
   {
    "duration": 6,
    "start_time": "2022-03-09T18:39:36.459Z"
   },
   {
    "duration": 66,
    "start_time": "2022-03-09T18:39:36.468Z"
   },
   {
    "duration": 1015,
    "start_time": "2022-03-09T18:39:36.538Z"
   },
   {
    "duration": 15,
    "start_time": "2022-03-09T18:39:37.556Z"
   },
   {
    "duration": 7,
    "start_time": "2022-03-09T18:39:37.577Z"
   },
   {
    "duration": 54,
    "start_time": "2022-03-09T18:39:37.588Z"
   },
   {
    "duration": 24,
    "start_time": "2022-03-09T18:39:37.644Z"
   },
   {
    "duration": 20,
    "start_time": "2022-03-09T18:39:37.671Z"
   },
   {
    "duration": 823,
    "start_time": "2022-03-09T18:39:37.693Z"
   },
   {
    "duration": 23,
    "start_time": "2022-03-09T18:39:38.518Z"
   },
   {
    "duration": 529,
    "start_time": "2022-03-09T18:39:38.543Z"
   },
   {
    "duration": 5,
    "start_time": "2022-03-09T18:39:39.076Z"
   },
   {
    "duration": 60,
    "start_time": "2022-03-09T18:39:39.084Z"
   },
   {
    "duration": 14,
    "start_time": "2022-03-09T18:39:39.147Z"
   },
   {
    "duration": 407,
    "start_time": "2022-03-09T18:39:39.164Z"
   },
   {
    "duration": 21,
    "start_time": "2022-03-09T18:39:39.573Z"
   },
   {
    "duration": 264,
    "start_time": "2022-03-09T18:39:39.597Z"
   },
   {
    "duration": 35,
    "start_time": "2022-03-09T18:39:39.864Z"
   },
   {
    "duration": 57,
    "start_time": "2022-03-09T18:39:39.902Z"
   },
   {
    "duration": 10,
    "start_time": "2022-03-09T18:39:39.962Z"
   },
   {
    "duration": 26,
    "start_time": "2022-03-09T18:39:39.975Z"
   },
   {
    "duration": 742,
    "start_time": "2022-03-09T18:39:40.004Z"
   },
   {
    "duration": 697,
    "start_time": "2022-03-09T18:39:40.748Z"
   },
   {
    "duration": 37,
    "start_time": "2022-03-09T18:39:41.447Z"
   },
   {
    "duration": 7,
    "start_time": "2022-03-09T18:39:41.487Z"
   },
   {
    "duration": 40,
    "start_time": "2022-03-09T18:39:41.496Z"
   },
   {
    "duration": 2153,
    "start_time": "2022-03-09T18:39:41.539Z"
   },
   {
    "duration": 3,
    "start_time": "2022-03-09T18:39:43.694Z"
   },
   {
    "duration": 64,
    "start_time": "2022-03-09T18:39:43.700Z"
   },
   {
    "duration": 5,
    "start_time": "2022-03-09T18:39:43.767Z"
   },
   {
    "duration": 25,
    "start_time": "2022-03-09T18:39:43.775Z"
   },
   {
    "duration": 37,
    "start_time": "2022-03-09T18:39:43.803Z"
   },
   {
    "duration": 19,
    "start_time": "2022-03-09T18:39:43.844Z"
   },
   {
    "duration": 1111,
    "start_time": "2022-03-10T17:42:31.444Z"
   },
   {
    "duration": 89,
    "start_time": "2022-03-10T17:42:32.557Z"
   },
   {
    "duration": 5,
    "start_time": "2022-03-10T17:42:32.648Z"
   },
   {
    "duration": 12,
    "start_time": "2022-03-10T17:42:32.654Z"
   },
   {
    "duration": 7,
    "start_time": "2022-03-10T17:42:32.667Z"
   },
   {
    "duration": 4,
    "start_time": "2022-03-10T17:42:32.675Z"
   },
   {
    "duration": 23,
    "start_time": "2022-03-10T17:42:32.681Z"
   },
   {
    "duration": 5,
    "start_time": "2022-03-10T17:42:32.707Z"
   },
   {
    "duration": 13,
    "start_time": "2022-03-10T17:42:32.714Z"
   },
   {
    "duration": 4,
    "start_time": "2022-03-10T17:42:32.728Z"
   },
   {
    "duration": 12,
    "start_time": "2022-03-10T17:42:32.733Z"
   },
   {
    "duration": 14,
    "start_time": "2022-03-10T17:42:32.747Z"
   },
   {
    "duration": 6,
    "start_time": "2022-03-10T17:42:32.763Z"
   },
   {
    "duration": 38,
    "start_time": "2022-03-10T17:42:32.771Z"
   },
   {
    "duration": 15,
    "start_time": "2022-03-10T17:42:32.810Z"
   },
   {
    "duration": 15,
    "start_time": "2022-03-10T17:42:32.827Z"
   },
   {
    "duration": 17,
    "start_time": "2022-03-10T17:42:32.843Z"
   },
   {
    "duration": 43,
    "start_time": "2022-03-10T17:42:32.861Z"
   },
   {
    "duration": 3,
    "start_time": "2022-03-10T17:42:32.906Z"
   },
   {
    "duration": 19,
    "start_time": "2022-03-10T17:42:32.911Z"
   },
   {
    "duration": 504,
    "start_time": "2022-03-10T17:42:32.931Z"
   },
   {
    "duration": 10,
    "start_time": "2022-03-10T17:42:33.436Z"
   },
   {
    "duration": 8,
    "start_time": "2022-03-10T17:42:33.449Z"
   },
   {
    "duration": 9,
    "start_time": "2022-03-10T17:42:33.459Z"
   },
   {
    "duration": 37,
    "start_time": "2022-03-10T17:42:33.469Z"
   },
   {
    "duration": 13,
    "start_time": "2022-03-10T17:42:33.507Z"
   },
   {
    "duration": 424,
    "start_time": "2022-03-10T17:42:33.521Z"
   },
   {
    "duration": 9,
    "start_time": "2022-03-10T17:42:33.947Z"
   },
   {
    "duration": 302,
    "start_time": "2022-03-10T17:42:33.957Z"
   },
   {
    "duration": 2,
    "start_time": "2022-03-10T17:42:34.261Z"
   },
   {
    "duration": 37,
    "start_time": "2022-03-10T17:42:34.265Z"
   },
   {
    "duration": 9,
    "start_time": "2022-03-10T17:42:34.304Z"
   },
   {
    "duration": 212,
    "start_time": "2022-03-10T17:42:34.314Z"
   },
   {
    "duration": 14,
    "start_time": "2022-03-10T17:42:34.528Z"
   },
   {
    "duration": 147,
    "start_time": "2022-03-10T17:42:34.544Z"
   },
   {
    "duration": 29,
    "start_time": "2022-03-10T17:42:34.692Z"
   },
   {
    "duration": 19,
    "start_time": "2022-03-10T17:42:34.723Z"
   },
   {
    "duration": 7,
    "start_time": "2022-03-10T17:42:34.743Z"
   },
   {
    "duration": 16,
    "start_time": "2022-03-10T17:42:34.752Z"
   },
   {
    "duration": 427,
    "start_time": "2022-03-10T17:42:34.769Z"
   },
   {
    "duration": 378,
    "start_time": "2022-03-10T17:42:35.201Z"
   },
   {
    "duration": 32,
    "start_time": "2022-03-10T17:42:35.581Z"
   },
   {
    "duration": 4,
    "start_time": "2022-03-10T17:42:35.614Z"
   },
   {
    "duration": 5,
    "start_time": "2022-03-10T17:42:35.620Z"
   },
   {
    "duration": 1209,
    "start_time": "2022-03-10T17:42:35.627Z"
   },
   {
    "duration": 2,
    "start_time": "2022-03-10T17:42:36.838Z"
   },
   {
    "duration": 19,
    "start_time": "2022-03-10T17:42:36.842Z"
   },
   {
    "duration": 2,
    "start_time": "2022-03-10T17:42:36.863Z"
   },
   {
    "duration": 11,
    "start_time": "2022-03-10T17:42:36.866Z"
   },
   {
    "duration": 23,
    "start_time": "2022-03-10T17:42:36.879Z"
   },
   {
    "duration": 426,
    "start_time": "2022-03-10T17:49:49.745Z"
   },
   {
    "duration": 23,
    "start_time": "2022-03-10T17:50:02.868Z"
   },
   {
    "duration": 30,
    "start_time": "2022-03-10T17:50:20.413Z"
   },
   {
    "duration": 5,
    "start_time": "2022-03-10T17:50:25.862Z"
   },
   {
    "duration": 133,
    "start_time": "2022-03-10T17:50:27.149Z"
   },
   {
    "duration": 45949,
    "start_time": "2022-03-10T17:50:28.448Z"
   },
   {
    "duration": 25,
    "start_time": "2022-03-10T17:52:27.700Z"
   },
   {
    "duration": 6,
    "start_time": "2022-03-10T17:52:43.687Z"
   },
   {
    "duration": 133,
    "start_time": "2022-03-10T17:52:46.365Z"
   },
   {
    "duration": 47105,
    "start_time": "2022-03-10T17:52:49.002Z"
   },
   {
    "duration": 22,
    "start_time": "2022-03-10T17:53:41.550Z"
   },
   {
    "duration": 6,
    "start_time": "2022-03-10T17:53:45.083Z"
   },
   {
    "duration": 140,
    "start_time": "2022-03-10T17:53:46.049Z"
   },
   {
    "duration": 48443,
    "start_time": "2022-03-10T17:53:47.781Z"
   },
   {
    "duration": 3,
    "start_time": "2022-03-10T17:55:05.132Z"
   },
   {
    "duration": 330,
    "start_time": "2022-03-10T17:55:09.434Z"
   },
   {
    "duration": 11,
    "start_time": "2022-03-10T17:55:58.672Z"
   },
   {
    "duration": 293,
    "start_time": "2022-03-10T17:56:06.784Z"
   },
   {
    "duration": 314,
    "start_time": "2022-03-10T17:56:16.399Z"
   },
   {
    "duration": 1173,
    "start_time": "2022-03-10T17:56:58.570Z"
   },
   {
    "duration": 74,
    "start_time": "2022-03-10T17:56:59.744Z"
   },
   {
    "duration": 6,
    "start_time": "2022-03-10T17:56:59.820Z"
   },
   {
    "duration": 13,
    "start_time": "2022-03-10T17:56:59.828Z"
   },
   {
    "duration": 7,
    "start_time": "2022-03-10T17:56:59.843Z"
   },
   {
    "duration": 4,
    "start_time": "2022-03-10T17:56:59.852Z"
   },
   {
    "duration": 7,
    "start_time": "2022-03-10T17:56:59.857Z"
   },
   {
    "duration": 6,
    "start_time": "2022-03-10T17:56:59.900Z"
   },
   {
    "duration": 7,
    "start_time": "2022-03-10T17:56:59.908Z"
   },
   {
    "duration": 3,
    "start_time": "2022-03-10T17:56:59.917Z"
   },
   {
    "duration": 6,
    "start_time": "2022-03-10T17:56:59.922Z"
   },
   {
    "duration": 16,
    "start_time": "2022-03-10T17:56:59.929Z"
   },
   {
    "duration": 6,
    "start_time": "2022-03-10T17:56:59.947Z"
   },
   {
    "duration": 16,
    "start_time": "2022-03-10T17:56:59.954Z"
   },
   {
    "duration": 38,
    "start_time": "2022-03-10T17:56:59.972Z"
   },
   {
    "duration": 16,
    "start_time": "2022-03-10T17:57:00.011Z"
   },
   {
    "duration": 16,
    "start_time": "2022-03-10T17:57:00.028Z"
   },
   {
    "duration": 14,
    "start_time": "2022-03-10T17:57:00.046Z"
   },
   {
    "duration": 3,
    "start_time": "2022-03-10T17:57:00.062Z"
   },
   {
    "duration": 47,
    "start_time": "2022-03-10T17:57:00.067Z"
   },
   {
    "duration": 511,
    "start_time": "2022-03-10T17:57:00.116Z"
   },
   {
    "duration": 10,
    "start_time": "2022-03-10T17:57:00.629Z"
   },
   {
    "duration": 6,
    "start_time": "2022-03-10T17:57:00.642Z"
   },
   {
    "duration": 11,
    "start_time": "2022-03-10T17:57:00.650Z"
   },
   {
    "duration": 13,
    "start_time": "2022-03-10T17:57:00.662Z"
   },
   {
    "duration": 36,
    "start_time": "2022-03-10T17:57:00.677Z"
   },
   {
    "duration": 443,
    "start_time": "2022-03-10T17:57:00.715Z"
   },
   {
    "duration": 10,
    "start_time": "2022-03-10T17:57:01.161Z"
   },
   {
    "duration": 303,
    "start_time": "2022-03-10T17:57:01.173Z"
   },
   {
    "duration": 4,
    "start_time": "2022-03-10T17:57:01.478Z"
   },
   {
    "duration": 28,
    "start_time": "2022-03-10T17:57:01.483Z"
   },
   {
    "duration": 11,
    "start_time": "2022-03-10T17:57:01.513Z"
   },
   {
    "duration": 220,
    "start_time": "2022-03-10T17:57:01.525Z"
   },
   {
    "duration": 12,
    "start_time": "2022-03-10T17:57:01.747Z"
   },
   {
    "duration": 134,
    "start_time": "2022-03-10T17:57:01.761Z"
   },
   {
    "duration": 33,
    "start_time": "2022-03-10T17:57:01.897Z"
   },
   {
    "duration": 20,
    "start_time": "2022-03-10T17:57:01.932Z"
   },
   {
    "duration": 6,
    "start_time": "2022-03-10T17:57:01.954Z"
   },
   {
    "duration": 40,
    "start_time": "2022-03-10T17:57:01.961Z"
   },
   {
    "duration": 410,
    "start_time": "2022-03-10T17:57:02.003Z"
   },
   {
    "duration": 405,
    "start_time": "2022-03-10T17:57:02.415Z"
   },
   {
    "duration": 23,
    "start_time": "2022-03-10T17:57:02.821Z"
   },
   {
    "duration": 5,
    "start_time": "2022-03-10T17:57:02.846Z"
   },
   {
    "duration": 6,
    "start_time": "2022-03-10T17:57:02.852Z"
   },
   {
    "duration": 1206,
    "start_time": "2022-03-10T17:57:02.859Z"
   },
   {
    "duration": 2,
    "start_time": "2022-03-10T17:57:04.067Z"
   },
   {
    "duration": 27,
    "start_time": "2022-03-10T17:57:04.070Z"
   },
   {
    "duration": 10,
    "start_time": "2022-03-10T17:57:04.098Z"
   },
   {
    "duration": 27,
    "start_time": "2022-03-10T17:57:04.109Z"
   },
   {
    "duration": 19,
    "start_time": "2022-03-10T17:57:04.137Z"
   },
   {
    "duration": 67,
    "start_time": "2022-03-10T17:57:04.157Z"
   },
   {
    "duration": 6,
    "start_time": "2022-03-10T17:57:04.226Z"
   },
   {
    "duration": 146,
    "start_time": "2022-03-10T17:57:04.234Z"
   },
   {
    "duration": 45459,
    "start_time": "2022-03-10T17:57:04.381Z"
   },
   {
    "duration": 390,
    "start_time": "2022-03-10T17:57:49.841Z"
   },
   {
    "duration": 3,
    "start_time": "2022-03-10T17:58:28.228Z"
   },
   {
    "duration": 213,
    "start_time": "2022-03-10T17:58:30.695Z"
   },
   {
    "duration": 3,
    "start_time": "2022-03-10T17:58:31.764Z"
   },
   {
    "duration": 322,
    "start_time": "2022-03-10T17:58:34.880Z"
   },
   {
    "duration": 11,
    "start_time": "2022-03-10T17:58:41.612Z"
   },
   {
    "duration": 7694,
    "start_time": "2022-03-10T17:58:47.927Z"
   },
   {
    "duration": 6,
    "start_time": "2022-03-10T17:58:57.693Z"
   },
   {
    "duration": 18,
    "start_time": "2022-03-10T18:00:31.547Z"
   },
   {
    "duration": 5,
    "start_time": "2022-03-10T18:00:33.978Z"
   },
   {
    "duration": 144,
    "start_time": "2022-03-10T18:00:35.378Z"
   },
   {
    "duration": 46387,
    "start_time": "2022-03-10T18:00:37.081Z"
   },
   {
    "duration": 2,
    "start_time": "2022-03-10T18:01:23.469Z"
   },
   {
    "duration": 28,
    "start_time": "2022-03-10T18:01:23.473Z"
   },
   {
    "duration": 3,
    "start_time": "2022-03-10T18:01:23.502Z"
   },
   {
    "duration": 15,
    "start_time": "2022-03-10T18:01:23.507Z"
   },
   {
    "duration": 7,
    "start_time": "2022-03-10T18:01:23.523Z"
   },
   {
    "duration": 23,
    "start_time": "2022-03-10T18:02:14.441Z"
   },
   {
    "duration": 259,
    "start_time": "2022-03-10T18:02:21.909Z"
   },
   {
    "duration": 22,
    "start_time": "2022-03-10T18:02:32.578Z"
   },
   {
    "duration": 23,
    "start_time": "2022-03-10T18:03:20.611Z"
   },
   {
    "duration": 318,
    "start_time": "2022-03-10T18:04:16.224Z"
   },
   {
    "duration": 20,
    "start_time": "2022-03-10T18:04:25.295Z"
   },
   {
    "duration": 5,
    "start_time": "2022-03-10T18:04:29.310Z"
   },
   {
    "duration": 149,
    "start_time": "2022-03-10T18:04:30.479Z"
   },
   {
    "duration": 46378,
    "start_time": "2022-03-10T18:04:33.576Z"
   },
   {
    "duration": 3,
    "start_time": "2022-03-10T18:05:19.956Z"
   },
   {
    "duration": 341,
    "start_time": "2022-03-10T18:05:19.961Z"
   },
   {
    "duration": 4,
    "start_time": "2022-03-10T18:05:20.304Z"
   },
   {
    "duration": 103,
    "start_time": "2022-03-10T18:05:20.310Z"
   },
   {
    "duration": 5,
    "start_time": "2022-03-10T18:05:20.414Z"
   },
   {
    "duration": 417,
    "start_time": "2022-03-10T18:09:50.692Z"
   },
   {
    "duration": 324,
    "start_time": "2022-03-10T18:11:17.896Z"
   },
   {
    "duration": 1095,
    "start_time": "2022-03-10T18:12:51.150Z"
   },
   {
    "duration": 76,
    "start_time": "2022-03-10T18:12:52.247Z"
   },
   {
    "duration": 5,
    "start_time": "2022-03-10T18:12:52.325Z"
   },
   {
    "duration": 14,
    "start_time": "2022-03-10T18:12:52.332Z"
   },
   {
    "duration": 5,
    "start_time": "2022-03-10T18:12:52.347Z"
   },
   {
    "duration": 5,
    "start_time": "2022-03-10T18:12:52.354Z"
   },
   {
    "duration": 5,
    "start_time": "2022-03-10T18:12:52.360Z"
   },
   {
    "duration": 4,
    "start_time": "2022-03-10T18:12:52.368Z"
   },
   {
    "duration": 8,
    "start_time": "2022-03-10T18:12:52.402Z"
   },
   {
    "duration": 5,
    "start_time": "2022-03-10T18:12:52.412Z"
   },
   {
    "duration": 7,
    "start_time": "2022-03-10T18:12:52.419Z"
   },
   {
    "duration": 18,
    "start_time": "2022-03-10T18:12:52.427Z"
   },
   {
    "duration": 6,
    "start_time": "2022-03-10T18:12:52.446Z"
   },
   {
    "duration": 23,
    "start_time": "2022-03-10T18:12:52.454Z"
   },
   {
    "duration": 36,
    "start_time": "2022-03-10T18:12:52.478Z"
   },
   {
    "duration": 16,
    "start_time": "2022-03-10T18:12:52.515Z"
   },
   {
    "duration": 17,
    "start_time": "2022-03-10T18:12:52.533Z"
   },
   {
    "duration": 15,
    "start_time": "2022-03-10T18:12:52.551Z"
   },
   {
    "duration": 34,
    "start_time": "2022-03-10T18:12:52.567Z"
   },
   {
    "duration": 17,
    "start_time": "2022-03-10T18:12:52.603Z"
   },
   {
    "duration": 562,
    "start_time": "2022-03-10T18:12:52.621Z"
   },
   {
    "duration": 20,
    "start_time": "2022-03-10T18:12:53.184Z"
   },
   {
    "duration": 5,
    "start_time": "2022-03-10T18:12:53.207Z"
   },
   {
    "duration": 9,
    "start_time": "2022-03-10T18:12:53.214Z"
   },
   {
    "duration": 15,
    "start_time": "2022-03-10T18:12:53.225Z"
   },
   {
    "duration": 13,
    "start_time": "2022-03-10T18:12:53.241Z"
   },
   {
    "duration": 447,
    "start_time": "2022-03-10T18:12:53.256Z"
   },
   {
    "duration": 10,
    "start_time": "2022-03-10T18:12:53.704Z"
   },
   {
    "duration": 303,
    "start_time": "2022-03-10T18:12:53.715Z"
   },
   {
    "duration": 2,
    "start_time": "2022-03-10T18:12:54.020Z"
   },
   {
    "duration": 27,
    "start_time": "2022-03-10T18:12:54.024Z"
   },
   {
    "duration": 9,
    "start_time": "2022-03-10T18:12:54.053Z"
   },
   {
    "duration": 225,
    "start_time": "2022-03-10T18:12:54.063Z"
   },
   {
    "duration": 20,
    "start_time": "2022-03-10T18:12:54.289Z"
   },
   {
    "duration": 137,
    "start_time": "2022-03-10T18:12:54.310Z"
   },
   {
    "duration": 21,
    "start_time": "2022-03-10T18:12:54.449Z"
   },
   {
    "duration": 36,
    "start_time": "2022-03-10T18:12:54.472Z"
   },
   {
    "duration": 8,
    "start_time": "2022-03-10T18:12:54.509Z"
   },
   {
    "duration": 15,
    "start_time": "2022-03-10T18:12:54.519Z"
   },
   {
    "duration": 398,
    "start_time": "2022-03-10T18:12:54.536Z"
   },
   {
    "duration": 384,
    "start_time": "2022-03-10T18:12:54.936Z"
   },
   {
    "duration": 108,
    "start_time": "2022-03-10T18:12:55.321Z"
   },
   {
    "duration": 88,
    "start_time": "2022-03-10T18:12:55.343Z"
   },
   {
    "duration": 84,
    "start_time": "2022-03-10T18:12:55.348Z"
   },
   {
    "duration": 83,
    "start_time": "2022-03-10T18:12:55.350Z"
   },
   {
    "duration": 82,
    "start_time": "2022-03-10T18:12:55.352Z"
   },
   {
    "duration": 70,
    "start_time": "2022-03-10T18:12:55.364Z"
   },
   {
    "duration": 70,
    "start_time": "2022-03-10T18:12:55.365Z"
   },
   {
    "duration": 69,
    "start_time": "2022-03-10T18:12:55.367Z"
   },
   {
    "duration": 68,
    "start_time": "2022-03-10T18:12:55.369Z"
   },
   {
    "duration": 63,
    "start_time": "2022-03-10T18:12:55.375Z"
   },
   {
    "duration": 62,
    "start_time": "2022-03-10T18:12:55.377Z"
   },
   {
    "duration": 61,
    "start_time": "2022-03-10T18:12:55.378Z"
   },
   {
    "duration": 60,
    "start_time": "2022-03-10T18:12:55.380Z"
   },
   {
    "duration": 60,
    "start_time": "2022-03-10T18:12:55.381Z"
   },
   {
    "duration": 60,
    "start_time": "2022-03-10T18:12:55.382Z"
   },
   {
    "duration": 59,
    "start_time": "2022-03-10T18:12:55.384Z"
   },
   {
    "duration": 59,
    "start_time": "2022-03-10T18:12:55.385Z"
   },
   {
    "duration": 54,
    "start_time": "2022-03-10T18:12:55.391Z"
   },
   {
    "duration": 1156,
    "start_time": "2022-03-10T18:13:22.103Z"
   },
   {
    "duration": 74,
    "start_time": "2022-03-10T18:13:23.260Z"
   },
   {
    "duration": 4,
    "start_time": "2022-03-10T18:13:23.336Z"
   },
   {
    "duration": 11,
    "start_time": "2022-03-10T18:13:23.342Z"
   },
   {
    "duration": 7,
    "start_time": "2022-03-10T18:13:23.355Z"
   },
   {
    "duration": 7,
    "start_time": "2022-03-10T18:13:23.363Z"
   },
   {
    "duration": 6,
    "start_time": "2022-03-10T18:13:23.371Z"
   },
   {
    "duration": 6,
    "start_time": "2022-03-10T18:13:23.401Z"
   },
   {
    "duration": 11,
    "start_time": "2022-03-10T18:13:23.408Z"
   },
   {
    "duration": 4,
    "start_time": "2022-03-10T18:13:23.420Z"
   },
   {
    "duration": 7,
    "start_time": "2022-03-10T18:13:23.426Z"
   },
   {
    "duration": 18,
    "start_time": "2022-03-10T18:13:23.434Z"
   },
   {
    "duration": 6,
    "start_time": "2022-03-10T18:13:23.454Z"
   },
   {
    "duration": 39,
    "start_time": "2022-03-10T18:13:23.462Z"
   },
   {
    "duration": 15,
    "start_time": "2022-03-10T18:13:23.503Z"
   },
   {
    "duration": 15,
    "start_time": "2022-03-10T18:13:23.520Z"
   },
   {
    "duration": 17,
    "start_time": "2022-03-10T18:13:23.536Z"
   },
   {
    "duration": 46,
    "start_time": "2022-03-10T18:13:23.555Z"
   },
   {
    "duration": 4,
    "start_time": "2022-03-10T18:13:23.603Z"
   },
   {
    "duration": 18,
    "start_time": "2022-03-10T18:13:23.608Z"
   },
   {
    "duration": 495,
    "start_time": "2022-03-10T18:13:23.627Z"
   },
   {
    "duration": 9,
    "start_time": "2022-03-10T18:13:24.123Z"
   },
   {
    "duration": 5,
    "start_time": "2022-03-10T18:13:24.135Z"
   },
   {
    "duration": 8,
    "start_time": "2022-03-10T18:13:24.142Z"
   },
   {
    "duration": 13,
    "start_time": "2022-03-10T18:13:24.151Z"
   },
   {
    "duration": 44,
    "start_time": "2022-03-10T18:13:24.165Z"
   },
   {
    "duration": 392,
    "start_time": "2022-03-10T18:13:24.211Z"
   },
   {
    "duration": 10,
    "start_time": "2022-03-10T18:13:24.604Z"
   },
   {
    "duration": 323,
    "start_time": "2022-03-10T18:13:24.616Z"
   },
   {
    "duration": 4,
    "start_time": "2022-03-10T18:13:24.943Z"
   },
   {
    "duration": 26,
    "start_time": "2022-03-10T18:13:24.949Z"
   },
   {
    "duration": 11,
    "start_time": "2022-03-10T18:13:24.977Z"
   },
   {
    "duration": 221,
    "start_time": "2022-03-10T18:13:25.001Z"
   },
   {
    "duration": 13,
    "start_time": "2022-03-10T18:13:25.224Z"
   },
   {
    "duration": 151,
    "start_time": "2022-03-10T18:13:25.239Z"
   },
   {
    "duration": 27,
    "start_time": "2022-03-10T18:13:25.392Z"
   },
   {
    "duration": 29,
    "start_time": "2022-03-10T18:13:25.421Z"
   },
   {
    "duration": 8,
    "start_time": "2022-03-10T18:13:25.452Z"
   },
   {
    "duration": 39,
    "start_time": "2022-03-10T18:13:25.462Z"
   },
   {
    "duration": 405,
    "start_time": "2022-03-10T18:13:25.503Z"
   },
   {
    "duration": 405,
    "start_time": "2022-03-10T18:13:25.910Z"
   },
   {
    "duration": 2,
    "start_time": "2022-03-10T18:13:26.317Z"
   },
   {
    "duration": 4,
    "start_time": "2022-03-10T18:13:26.321Z"
   },
   {
    "duration": 3,
    "start_time": "2022-03-10T18:13:26.327Z"
   },
   {
    "duration": 4,
    "start_time": "2022-03-10T18:13:26.332Z"
   },
   {
    "duration": 4,
    "start_time": "2022-03-10T18:13:26.337Z"
   },
   {
    "duration": 5,
    "start_time": "2022-03-10T18:13:26.342Z"
   },
   {
    "duration": 8,
    "start_time": "2022-03-10T18:13:26.348Z"
   },
   {
    "duration": 9,
    "start_time": "2022-03-10T18:13:26.357Z"
   },
   {
    "duration": 10,
    "start_time": "2022-03-10T18:13:26.367Z"
   },
   {
    "duration": 53,
    "start_time": "2022-03-10T18:13:26.379Z"
   },
   {
    "duration": 6,
    "start_time": "2022-03-10T18:13:26.434Z"
   },
   {
    "duration": 234,
    "start_time": "2022-03-10T18:13:26.442Z"
   },
   {
    "duration": 45205,
    "start_time": "2022-03-10T18:13:26.678Z"
   },
   {
    "duration": 3,
    "start_time": "2022-03-10T18:14:11.885Z"
   },
   {
    "duration": 208,
    "start_time": "2022-03-10T18:14:11.901Z"
   },
   {
    "duration": 97,
    "start_time": "2022-03-10T18:14:12.111Z"
   },
   {
    "duration": 100,
    "start_time": "2022-03-10T18:14:12.210Z"
   },
   {
    "duration": 18,
    "start_time": "2022-03-10T18:14:12.311Z"
   },
   {
    "duration": 28,
    "start_time": "2022-03-10T18:15:37.045Z"
   },
   {
    "duration": 26,
    "start_time": "2022-03-10T18:16:34.974Z"
   },
   {
    "duration": 6,
    "start_time": "2022-03-10T18:16:38.844Z"
   },
   {
    "duration": 229,
    "start_time": "2022-03-10T18:16:40.477Z"
   },
   {
    "duration": 49026,
    "start_time": "2022-03-10T18:16:42.528Z"
   },
   {
    "duration": 252,
    "start_time": "2022-03-10T18:17:47.311Z"
   },
   {
    "duration": 30,
    "start_time": "2022-03-10T18:18:09.692Z"
   },
   {
    "duration": 39,
    "start_time": "2022-03-10T18:18:22.144Z"
   },
   {
    "duration": 6,
    "start_time": "2022-03-10T18:18:25.645Z"
   },
   {
    "duration": 131,
    "start_time": "2022-03-10T18:18:26.562Z"
   },
   {
    "duration": 47722,
    "start_time": "2022-03-10T18:18:28.044Z"
   },
   {
    "duration": 4,
    "start_time": "2022-03-10T18:20:49.061Z"
   },
   {
    "duration": 6,
    "start_time": "2022-03-10T18:21:34.043Z"
   },
   {
    "duration": 31,
    "start_time": "2022-03-10T18:26:06.040Z"
   },
   {
    "duration": 5,
    "start_time": "2022-03-10T18:26:14.260Z"
   },
   {
    "duration": 130,
    "start_time": "2022-03-10T18:26:16.209Z"
   },
   {
    "duration": 47255,
    "start_time": "2022-03-10T18:26:17.859Z"
   },
   {
    "duration": 26,
    "start_time": "2022-03-10T18:56:43.365Z"
   },
   {
    "duration": 5,
    "start_time": "2022-03-10T18:56:51.153Z"
   },
   {
    "duration": 178,
    "start_time": "2022-03-10T18:56:51.851Z"
   },
   {
    "duration": 52894,
    "start_time": "2022-03-10T18:56:52.784Z"
   },
   {
    "duration": 16,
    "start_time": "2022-03-10T18:58:57.913Z"
   },
   {
    "duration": 399,
    "start_time": "2022-03-10T18:59:41.919Z"
   },
   {
    "duration": 30,
    "start_time": "2022-03-10T18:59:50.016Z"
   },
   {
    "duration": 324,
    "start_time": "2022-03-10T19:00:24.848Z"
   },
   {
    "duration": 30,
    "start_time": "2022-03-10T19:00:52.450Z"
   },
   {
    "duration": 310,
    "start_time": "2022-03-10T19:00:55.868Z"
   },
   {
    "duration": 373,
    "start_time": "2022-03-10T19:01:30.468Z"
   },
   {
    "duration": 32,
    "start_time": "2022-03-10T19:01:43.597Z"
   },
   {
    "duration": 7,
    "start_time": "2022-03-10T19:01:46.937Z"
   },
   {
    "duration": 180,
    "start_time": "2022-03-10T19:01:47.932Z"
   },
   {
    "duration": 52493,
    "start_time": "2022-03-10T19:01:49.051Z"
   },
   {
    "duration": 28,
    "start_time": "2022-03-10T19:04:27.235Z"
   },
   {
    "duration": 367,
    "start_time": "2022-03-11T17:15:33.262Z"
   },
   {
    "duration": 1655,
    "start_time": "2022-03-11T17:15:45.320Z"
   },
   {
    "duration": 122,
    "start_time": "2022-03-11T17:15:46.978Z"
   },
   {
    "duration": 8,
    "start_time": "2022-03-11T17:15:47.103Z"
   },
   {
    "duration": 21,
    "start_time": "2022-03-11T17:15:47.115Z"
   },
   {
    "duration": 46,
    "start_time": "2022-03-11T17:15:47.139Z"
   },
   {
    "duration": 6,
    "start_time": "2022-03-11T17:15:47.188Z"
   },
   {
    "duration": 12,
    "start_time": "2022-03-11T17:15:47.196Z"
   },
   {
    "duration": 8,
    "start_time": "2022-03-11T17:15:47.212Z"
   },
   {
    "duration": 51,
    "start_time": "2022-03-11T17:15:47.222Z"
   },
   {
    "duration": 8,
    "start_time": "2022-03-11T17:15:47.276Z"
   },
   {
    "duration": 7,
    "start_time": "2022-03-11T17:15:47.287Z"
   },
   {
    "duration": 25,
    "start_time": "2022-03-11T17:15:47.297Z"
   },
   {
    "duration": 52,
    "start_time": "2022-03-11T17:15:47.325Z"
   },
   {
    "duration": 24,
    "start_time": "2022-03-11T17:15:47.380Z"
   },
   {
    "duration": 24,
    "start_time": "2022-03-11T17:15:47.406Z"
   },
   {
    "duration": 61,
    "start_time": "2022-03-11T17:15:47.432Z"
   },
   {
    "duration": 35,
    "start_time": "2022-03-11T17:15:47.496Z"
   },
   {
    "duration": 57,
    "start_time": "2022-03-11T17:15:47.534Z"
   },
   {
    "duration": 7,
    "start_time": "2022-03-11T17:15:47.594Z"
   },
   {
    "duration": 32,
    "start_time": "2022-03-11T17:15:47.604Z"
   },
   {
    "duration": 1221,
    "start_time": "2022-03-11T17:15:47.639Z"
   },
   {
    "duration": 20,
    "start_time": "2022-03-11T17:15:48.862Z"
   },
   {
    "duration": 10,
    "start_time": "2022-03-11T17:15:48.888Z"
   },
   {
    "duration": 18,
    "start_time": "2022-03-11T17:15:48.901Z"
   },
   {
    "duration": 62,
    "start_time": "2022-03-11T17:15:48.922Z"
   },
   {
    "duration": 22,
    "start_time": "2022-03-11T17:15:48.986Z"
   },
   {
    "duration": 774,
    "start_time": "2022-03-11T17:15:49.010Z"
   },
   {
    "duration": 18,
    "start_time": "2022-03-11T17:15:49.787Z"
   },
   {
    "duration": 593,
    "start_time": "2022-03-11T17:15:49.808Z"
   },
   {
    "duration": 5,
    "start_time": "2022-03-11T17:15:50.403Z"
   },
   {
    "duration": 45,
    "start_time": "2022-03-11T17:15:50.411Z"
   },
   {
    "duration": 18,
    "start_time": "2022-03-11T17:15:50.474Z"
   },
   {
    "duration": 508,
    "start_time": "2022-03-11T17:15:50.495Z"
   },
   {
    "duration": 21,
    "start_time": "2022-03-11T17:15:51.005Z"
   },
   {
    "duration": 274,
    "start_time": "2022-03-11T17:15:51.028Z"
   },
   {
    "duration": 37,
    "start_time": "2022-03-11T17:15:51.305Z"
   },
   {
    "duration": 58,
    "start_time": "2022-03-11T17:15:51.345Z"
   },
   {
    "duration": 13,
    "start_time": "2022-03-11T17:15:51.406Z"
   },
   {
    "duration": 62,
    "start_time": "2022-03-11T17:15:51.422Z"
   },
   {
    "duration": 721,
    "start_time": "2022-03-11T17:15:51.487Z"
   },
   {
    "duration": 751,
    "start_time": "2022-03-11T17:15:52.211Z"
   },
   {
    "duration": 8,
    "start_time": "2022-03-11T17:15:52.965Z"
   },
   {
    "duration": 6,
    "start_time": "2022-03-11T17:15:52.976Z"
   },
   {
    "duration": 17,
    "start_time": "2022-03-11T17:15:52.985Z"
   },
   {
    "duration": 9,
    "start_time": "2022-03-11T17:15:53.004Z"
   },
   {
    "duration": 12,
    "start_time": "2022-03-11T17:15:53.016Z"
   },
   {
    "duration": 9,
    "start_time": "2022-03-11T17:15:53.030Z"
   },
   {
    "duration": 31,
    "start_time": "2022-03-11T17:15:53.042Z"
   },
   {
    "duration": 21,
    "start_time": "2022-03-11T17:15:53.076Z"
   },
   {
    "duration": 9,
    "start_time": "2022-03-11T17:15:53.100Z"
   },
   {
    "duration": 56,
    "start_time": "2022-03-11T17:16:03.227Z"
   },
   {
    "duration": 457,
    "start_time": "2022-03-11T17:16:11.675Z"
   },
   {
    "duration": 54,
    "start_time": "2022-03-11T17:16:43.926Z"
   },
   {
    "duration": 11,
    "start_time": "2022-03-11T17:16:47.526Z"
   },
   {
    "duration": 242,
    "start_time": "2022-03-11T17:16:50.127Z"
   },
   {
    "duration": 85450,
    "start_time": "2022-03-11T17:16:53.360Z"
   },
   {
    "duration": 66,
    "start_time": "2022-03-11T17:19:33.505Z"
   },
   {
    "duration": 92,
    "start_time": "2022-03-11T17:20:10.490Z"
   },
   {
    "duration": 9,
    "start_time": "2022-03-11T17:20:52.390Z"
   },
   {
    "duration": 8,
    "start_time": "2022-03-11T17:21:08.245Z"
   },
   {
    "duration": 50,
    "start_time": "2022-03-11T17:22:51.355Z"
   },
   {
    "duration": 10,
    "start_time": "2022-03-11T17:22:57.408Z"
   },
   {
    "duration": 227,
    "start_time": "2022-03-11T17:22:58.690Z"
   },
   {
    "duration": 90630,
    "start_time": "2022-03-11T17:23:00.957Z"
   },
   {
    "duration": 10,
    "start_time": "2022-03-11T17:24:31.590Z"
   },
   {
    "duration": 51,
    "start_time": "2022-03-11T17:25:44.476Z"
   },
   {
    "duration": 4,
    "start_time": "2022-03-11T17:26:04.606Z"
   },
   {
    "duration": 472,
    "start_time": "2022-03-11T17:26:05.307Z"
   },
   {
    "duration": 6,
    "start_time": "2022-03-11T17:26:06.456Z"
   },
   {
    "duration": 18,
    "start_time": "2022-03-11T17:26:07.524Z"
   },
   {
    "duration": 9,
    "start_time": "2022-03-11T17:26:12.158Z"
   },
   {
    "duration": 7,
    "start_time": "2022-03-11T17:48:23.817Z"
   },
   {
    "duration": 36,
    "start_time": "2022-03-11T17:48:26.068Z"
   },
   {
    "duration": 1832,
    "start_time": "2022-03-11T17:48:34.241Z"
   },
   {
    "duration": 8000,
    "start_time": "2022-03-11T17:59:37.882Z"
   },
   {
    "duration": 7242,
    "start_time": "2022-03-11T18:02:20.304Z"
   },
   {
    "duration": 9,
    "start_time": "2022-03-11T18:03:01.660Z"
   },
   {
    "duration": 6,
    "start_time": "2022-03-11T18:03:10.120Z"
   },
   {
    "duration": 325,
    "start_time": "2022-03-11T18:03:30.672Z"
   },
   {
    "duration": 9,
    "start_time": "2022-03-11T18:04:10.574Z"
   },
   {
    "duration": 19,
    "start_time": "2022-03-11T18:04:12.540Z"
   },
   {
    "duration": 5,
    "start_time": "2022-03-11T18:04:15.523Z"
   },
   {
    "duration": 18,
    "start_time": "2022-03-11T18:04:16.375Z"
   },
   {
    "duration": 685,
    "start_time": "2022-03-11T18:04:47.605Z"
   },
   {
    "duration": 614,
    "start_time": "2022-03-11T18:05:19.392Z"
   },
   {
    "duration": 48,
    "start_time": "2022-03-11T18:47:33.483Z"
   },
   {
    "duration": 38,
    "start_time": "2022-03-11T18:47:44.328Z"
   },
   {
    "duration": 2407,
    "start_time": "2022-03-11T18:51:56.174Z"
   },
   {
    "duration": 2617,
    "start_time": "2022-03-11T18:52:10.292Z"
   },
   {
    "duration": 2669,
    "start_time": "2022-03-11T18:52:44.374Z"
   },
   {
    "duration": 20,
    "start_time": "2022-03-11T18:55:50.264Z"
   },
   {
    "duration": 18,
    "start_time": "2022-03-11T18:56:28.428Z"
   },
   {
    "duration": 8,
    "start_time": "2022-03-11T18:56:33.661Z"
   },
   {
    "duration": 18,
    "start_time": "2022-03-11T18:56:35.610Z"
   },
   {
    "duration": 8,
    "start_time": "2022-03-11T18:57:51.831Z"
   },
   {
    "duration": 24,
    "start_time": "2022-03-11T18:57:52.993Z"
   },
   {
    "duration": 33,
    "start_time": "2022-03-11T18:59:12.177Z"
   },
   {
    "duration": 600,
    "start_time": "2022-03-11T18:59:20.727Z"
   },
   {
    "duration": 11,
    "start_time": "2022-03-11T19:00:21.711Z"
   },
   {
    "duration": 26,
    "start_time": "2022-03-11T19:00:24.379Z"
   },
   {
    "duration": 612,
    "start_time": "2022-03-11T19:00:26.710Z"
   },
   {
    "duration": 4,
    "start_time": "2022-03-11T19:02:19.294Z"
   },
   {
    "duration": 6890,
    "start_time": "2022-03-11T19:03:06.223Z"
   },
   {
    "duration": 308,
    "start_time": "2022-03-11T19:03:34.239Z"
   },
   {
    "duration": 25,
    "start_time": "2022-03-11T19:03:43.991Z"
   },
   {
    "duration": 12,
    "start_time": "2022-03-11T19:04:24.992Z"
   },
   {
    "duration": 732,
    "start_time": "2022-03-11T19:05:56.441Z"
   },
   {
    "duration": 619,
    "start_time": "2022-03-11T19:06:46.223Z"
   },
   {
    "duration": 607,
    "start_time": "2022-03-11T19:07:36.936Z"
   },
   {
    "duration": 626,
    "start_time": "2022-03-11T19:07:48.772Z"
   },
   {
    "duration": 731,
    "start_time": "2022-03-11T19:08:07.952Z"
   },
   {
    "duration": 16,
    "start_time": "2022-03-11T19:24:43.145Z"
   },
   {
    "duration": 234,
    "start_time": "2022-03-11T19:25:37.611Z"
   },
   {
    "duration": 30,
    "start_time": "2022-03-11T19:26:03.109Z"
   },
   {
    "duration": 30,
    "start_time": "2022-03-11T19:26:28.842Z"
   },
   {
    "duration": 16,
    "start_time": "2022-03-11T19:28:21.623Z"
   },
   {
    "duration": 17,
    "start_time": "2022-03-11T19:28:38.542Z"
   },
   {
    "duration": 291,
    "start_time": "2022-03-11T19:34:24.039Z"
   },
   {
    "duration": 1162,
    "start_time": "2022-03-11T19:35:36.445Z"
   },
   {
    "duration": 61,
    "start_time": "2022-03-11T19:36:05.943Z"
   },
   {
    "duration": 287,
    "start_time": "2022-03-11T19:36:12.988Z"
   },
   {
    "duration": 1645,
    "start_time": "2022-03-11T19:36:37.772Z"
   },
   {
    "duration": 123,
    "start_time": "2022-03-11T19:36:39.420Z"
   },
   {
    "duration": 8,
    "start_time": "2022-03-11T19:36:39.547Z"
   },
   {
    "duration": 28,
    "start_time": "2022-03-11T19:36:39.575Z"
   },
   {
    "duration": 44,
    "start_time": "2022-03-11T19:36:39.605Z"
   },
   {
    "duration": 15,
    "start_time": "2022-03-11T19:36:39.651Z"
   },
   {
    "duration": 33,
    "start_time": "2022-03-11T19:36:39.669Z"
   },
   {
    "duration": 15,
    "start_time": "2022-03-11T19:36:39.704Z"
   },
   {
    "duration": 32,
    "start_time": "2022-03-11T19:36:39.722Z"
   },
   {
    "duration": 7,
    "start_time": "2022-03-11T19:36:39.758Z"
   },
   {
    "duration": 33,
    "start_time": "2022-03-11T19:36:39.768Z"
   },
   {
    "duration": 41,
    "start_time": "2022-03-11T19:36:39.804Z"
   },
   {
    "duration": 10,
    "start_time": "2022-03-11T19:36:39.848Z"
   },
   {
    "duration": 35,
    "start_time": "2022-03-11T19:36:39.860Z"
   },
   {
    "duration": 37,
    "start_time": "2022-03-11T19:36:39.898Z"
   },
   {
    "duration": 36,
    "start_time": "2022-03-11T19:36:39.937Z"
   },
   {
    "duration": 32,
    "start_time": "2022-03-11T19:36:39.976Z"
   },
   {
    "duration": 32,
    "start_time": "2022-03-11T19:36:40.010Z"
   },
   {
    "duration": 8,
    "start_time": "2022-03-11T19:36:40.044Z"
   },
   {
    "duration": 65,
    "start_time": "2022-03-11T19:36:40.073Z"
   },
   {
    "duration": 60,
    "start_time": "2022-03-11T19:36:40.140Z"
   },
   {
    "duration": 1887,
    "start_time": "2022-03-11T19:36:40.203Z"
   },
   {
    "duration": 16,
    "start_time": "2022-03-11T19:36:42.092Z"
   },
   {
    "duration": 485,
    "start_time": "2022-03-11T19:36:42.110Z"
   },
   {
    "duration": 19,
    "start_time": "2022-03-11T19:36:42.675Z"
   },
   {
    "duration": 18,
    "start_time": "2022-03-11T19:36:42.677Z"
   },
   {
    "duration": 18,
    "start_time": "2022-03-11T19:36:42.679Z"
   },
   {
    "duration": 18,
    "start_time": "2022-03-11T19:36:42.680Z"
   },
   {
    "duration": 18,
    "start_time": "2022-03-11T19:36:42.681Z"
   },
   {
    "duration": 18,
    "start_time": "2022-03-11T19:36:42.683Z"
   },
   {
    "duration": 12,
    "start_time": "2022-03-11T19:36:42.690Z"
   },
   {
    "duration": 12,
    "start_time": "2022-03-11T19:36:42.691Z"
   },
   {
    "duration": 8,
    "start_time": "2022-03-11T19:36:42.697Z"
   },
   {
    "duration": 7,
    "start_time": "2022-03-11T19:36:42.699Z"
   },
   {
    "duration": 6,
    "start_time": "2022-03-11T19:36:42.701Z"
   },
   {
    "duration": 7,
    "start_time": "2022-03-11T19:36:42.702Z"
   },
   {
    "duration": 6,
    "start_time": "2022-03-11T19:36:42.704Z"
   },
   {
    "duration": 2,
    "start_time": "2022-03-11T19:36:42.710Z"
   },
   {
    "duration": 2,
    "start_time": "2022-03-11T19:36:42.711Z"
   },
   {
    "duration": 1,
    "start_time": "2022-03-11T19:36:42.713Z"
   },
   {
    "duration": -26,
    "start_time": "2022-03-11T19:36:42.742Z"
   },
   {
    "duration": -32,
    "start_time": "2022-03-11T19:36:42.749Z"
   },
   {
    "duration": -32,
    "start_time": "2022-03-11T19:36:42.751Z"
   },
   {
    "duration": -32,
    "start_time": "2022-03-11T19:36:42.752Z"
   },
   {
    "duration": -32,
    "start_time": "2022-03-11T19:36:42.754Z"
   },
   {
    "duration": -32,
    "start_time": "2022-03-11T19:36:42.755Z"
   },
   {
    "duration": 9,
    "start_time": "2022-03-11T19:36:42.763Z"
   },
   {
    "duration": 9,
    "start_time": "2022-03-11T19:36:42.765Z"
   },
   {
    "duration": 9,
    "start_time": "2022-03-11T19:36:42.767Z"
   },
   {
    "duration": 9,
    "start_time": "2022-03-11T19:36:42.768Z"
   },
   {
    "duration": 8,
    "start_time": "2022-03-11T19:36:42.770Z"
   },
   {
    "duration": 8,
    "start_time": "2022-03-11T19:36:42.771Z"
   },
   {
    "duration": 9,
    "start_time": "2022-03-11T19:36:42.772Z"
   },
   {
    "duration": 8,
    "start_time": "2022-03-11T19:36:42.774Z"
   },
   {
    "duration": 0,
    "start_time": "2022-03-11T19:36:42.784Z"
   },
   {
    "duration": -3,
    "start_time": "2022-03-11T19:36:42.788Z"
   },
   {
    "duration": 1716,
    "start_time": "2022-03-11T19:37:23.155Z"
   },
   {
    "duration": 116,
    "start_time": "2022-03-11T19:37:24.873Z"
   },
   {
    "duration": 7,
    "start_time": "2022-03-11T19:37:24.993Z"
   },
   {
    "duration": 18,
    "start_time": "2022-03-11T19:37:25.002Z"
   },
   {
    "duration": 11,
    "start_time": "2022-03-11T19:37:25.023Z"
   },
   {
    "duration": 39,
    "start_time": "2022-03-11T19:37:25.037Z"
   },
   {
    "duration": 12,
    "start_time": "2022-03-11T19:37:25.079Z"
   },
   {
    "duration": 9,
    "start_time": "2022-03-11T19:37:25.095Z"
   },
   {
    "duration": 12,
    "start_time": "2022-03-11T19:37:25.107Z"
   },
   {
    "duration": 5,
    "start_time": "2022-03-11T19:37:25.122Z"
   },
   {
    "duration": 47,
    "start_time": "2022-03-11T19:37:25.130Z"
   },
   {
    "duration": 27,
    "start_time": "2022-03-11T19:37:25.179Z"
   },
   {
    "duration": 10,
    "start_time": "2022-03-11T19:37:25.209Z"
   },
   {
    "duration": 60,
    "start_time": "2022-03-11T19:37:25.222Z"
   },
   {
    "duration": 25,
    "start_time": "2022-03-11T19:37:25.285Z"
   },
   {
    "duration": 29,
    "start_time": "2022-03-11T19:37:25.312Z"
   },
   {
    "duration": 54,
    "start_time": "2022-03-11T19:37:25.344Z"
   },
   {
    "duration": 25,
    "start_time": "2022-03-11T19:37:25.401Z"
   },
   {
    "duration": 8,
    "start_time": "2022-03-11T19:37:25.429Z"
   },
   {
    "duration": 92,
    "start_time": "2022-03-11T19:37:25.439Z"
   },
   {
    "duration": 60,
    "start_time": "2022-03-11T19:37:25.534Z"
   },
   {
    "duration": 1881,
    "start_time": "2022-03-11T19:37:25.597Z"
   },
   {
    "duration": 17,
    "start_time": "2022-03-11T19:37:27.484Z"
   },
   {
    "duration": 13,
    "start_time": "2022-03-11T19:37:27.504Z"
   },
   {
    "duration": 16,
    "start_time": "2022-03-11T19:37:27.520Z"
   },
   {
    "duration": 25,
    "start_time": "2022-03-11T19:37:27.574Z"
   },
   {
    "duration": 730,
    "start_time": "2022-03-11T19:37:27.602Z"
   },
   {
    "duration": 14,
    "start_time": "2022-03-11T19:37:28.335Z"
   },
   {
    "duration": 638,
    "start_time": "2022-03-11T19:37:28.352Z"
   },
   {
    "duration": 19,
    "start_time": "2022-03-11T19:37:28.993Z"
   },
   {
    "duration": 273,
    "start_time": "2022-03-11T19:37:29.015Z"
   },
   {
    "duration": 427,
    "start_time": "2022-03-11T19:37:29.290Z"
   },
   {
    "duration": -42,
    "start_time": "2022-03-11T19:37:29.761Z"
   },
   {
    "duration": -44,
    "start_time": "2022-03-11T19:37:29.764Z"
   },
   {
    "duration": -45,
    "start_time": "2022-03-11T19:37:29.766Z"
   },
   {
    "duration": -51,
    "start_time": "2022-03-11T19:37:29.774Z"
   },
   {
    "duration": -52,
    "start_time": "2022-03-11T19:37:29.776Z"
   },
   {
    "duration": -53,
    "start_time": "2022-03-11T19:37:29.778Z"
   },
   {
    "duration": -53,
    "start_time": "2022-03-11T19:37:29.779Z"
   },
   {
    "duration": -53,
    "start_time": "2022-03-11T19:37:29.781Z"
   },
   {
    "duration": -54,
    "start_time": "2022-03-11T19:37:29.783Z"
   },
   {
    "duration": -54,
    "start_time": "2022-03-11T19:37:29.784Z"
   },
   {
    "duration": -55,
    "start_time": "2022-03-11T19:37:29.786Z"
   },
   {
    "duration": -54,
    "start_time": "2022-03-11T19:37:29.787Z"
   },
   {
    "duration": -55,
    "start_time": "2022-03-11T19:37:29.789Z"
   },
   {
    "duration": -55,
    "start_time": "2022-03-11T19:37:29.790Z"
   },
   {
    "duration": -55,
    "start_time": "2022-03-11T19:37:29.792Z"
   },
   {
    "duration": -55,
    "start_time": "2022-03-11T19:37:29.793Z"
   },
   {
    "duration": -55,
    "start_time": "2022-03-11T19:37:29.794Z"
   },
   {
    "duration": -56,
    "start_time": "2022-03-11T19:37:29.796Z"
   },
   {
    "duration": -56,
    "start_time": "2022-03-11T19:37:29.797Z"
   },
   {
    "duration": -55,
    "start_time": "2022-03-11T19:37:29.798Z"
   },
   {
    "duration": -56,
    "start_time": "2022-03-11T19:37:29.800Z"
   },
   {
    "duration": -56,
    "start_time": "2022-03-11T19:37:29.801Z"
   },
   {
    "duration": -56,
    "start_time": "2022-03-11T19:37:29.802Z"
   },
   {
    "duration": -57,
    "start_time": "2022-03-11T19:37:29.804Z"
   },
   {
    "duration": 5,
    "start_time": "2022-03-11T19:40:55.743Z"
   },
   {
    "duration": 131,
    "start_time": "2022-03-11T19:40:55.751Z"
   },
   {
    "duration": 5,
    "start_time": "2022-03-11T19:40:55.885Z"
   },
   {
    "duration": 17,
    "start_time": "2022-03-11T19:40:55.892Z"
   },
   {
    "duration": 11,
    "start_time": "2022-03-11T19:40:55.912Z"
   },
   {
    "duration": 6,
    "start_time": "2022-03-11T19:40:55.926Z"
   },
   {
    "duration": 45,
    "start_time": "2022-03-11T19:40:55.934Z"
   },
   {
    "duration": 9,
    "start_time": "2022-03-11T19:40:55.982Z"
   },
   {
    "duration": 13,
    "start_time": "2022-03-11T19:40:55.995Z"
   },
   {
    "duration": 6,
    "start_time": "2022-03-11T19:40:56.011Z"
   },
   {
    "duration": 5,
    "start_time": "2022-03-11T19:40:56.020Z"
   },
   {
    "duration": 22,
    "start_time": "2022-03-11T19:40:56.074Z"
   },
   {
    "duration": 11,
    "start_time": "2022-03-11T19:40:56.099Z"
   },
   {
    "duration": 25,
    "start_time": "2022-03-11T19:40:56.113Z"
   },
   {
    "duration": 24,
    "start_time": "2022-03-11T19:40:56.173Z"
   },
   {
    "duration": 29,
    "start_time": "2022-03-11T19:40:56.199Z"
   },
   {
    "duration": 60,
    "start_time": "2022-03-11T19:40:56.231Z"
   },
   {
    "duration": 25,
    "start_time": "2022-03-11T19:40:56.293Z"
   },
   {
    "duration": 7,
    "start_time": "2022-03-11T19:40:56.320Z"
   },
   {
    "duration": 93,
    "start_time": "2022-03-11T19:40:56.329Z"
   },
   {
    "duration": 55,
    "start_time": "2022-03-11T19:40:56.425Z"
   },
   {
    "duration": 2666,
    "start_time": "2022-03-11T19:40:56.482Z"
   },
   {
    "duration": 30,
    "start_time": "2022-03-11T19:40:59.150Z"
   },
   {
    "duration": 20,
    "start_time": "2022-03-11T19:40:59.183Z"
   },
   {
    "duration": 29,
    "start_time": "2022-03-11T19:40:59.206Z"
   },
   {
    "duration": 51,
    "start_time": "2022-03-11T19:40:59.237Z"
   },
   {
    "duration": 735,
    "start_time": "2022-03-11T19:40:59.294Z"
   },
   {
    "duration": 12,
    "start_time": "2022-03-11T19:41:00.032Z"
   },
   {
    "duration": 732,
    "start_time": "2022-03-11T19:41:00.046Z"
   },
   {
    "duration": 17,
    "start_time": "2022-03-11T19:41:00.780Z"
   },
   {
    "duration": 366,
    "start_time": "2022-03-11T19:41:00.799Z"
   },
   {
    "duration": 272,
    "start_time": "2022-03-11T19:41:01.172Z"
   },
   {
    "duration": -81,
    "start_time": "2022-03-11T19:41:01.527Z"
   },
   {
    "duration": -82,
    "start_time": "2022-03-11T19:41:01.530Z"
   },
   {
    "duration": -82,
    "start_time": "2022-03-11T19:41:01.532Z"
   },
   {
    "duration": -83,
    "start_time": "2022-03-11T19:41:01.534Z"
   },
   {
    "duration": -89,
    "start_time": "2022-03-11T19:41:01.541Z"
   },
   {
    "duration": -89,
    "start_time": "2022-03-11T19:41:01.543Z"
   },
   {
    "duration": -90,
    "start_time": "2022-03-11T19:41:01.545Z"
   },
   {
    "duration": -90,
    "start_time": "2022-03-11T19:41:01.546Z"
   },
   {
    "duration": -90,
    "start_time": "2022-03-11T19:41:01.548Z"
   },
   {
    "duration": -90,
    "start_time": "2022-03-11T19:41:01.549Z"
   },
   {
    "duration": -91,
    "start_time": "2022-03-11T19:41:01.551Z"
   },
   {
    "duration": -90,
    "start_time": "2022-03-11T19:41:01.552Z"
   },
   {
    "duration": -91,
    "start_time": "2022-03-11T19:41:01.554Z"
   },
   {
    "duration": -90,
    "start_time": "2022-03-11T19:41:01.555Z"
   },
   {
    "duration": -91,
    "start_time": "2022-03-11T19:41:01.557Z"
   },
   {
    "duration": -91,
    "start_time": "2022-03-11T19:41:01.558Z"
   },
   {
    "duration": -90,
    "start_time": "2022-03-11T19:41:01.559Z"
   },
   {
    "duration": -91,
    "start_time": "2022-03-11T19:41:01.561Z"
   },
   {
    "duration": -90,
    "start_time": "2022-03-11T19:41:01.562Z"
   },
   {
    "duration": -90,
    "start_time": "2022-03-11T19:41:01.563Z"
   },
   {
    "duration": -91,
    "start_time": "2022-03-11T19:41:01.565Z"
   },
   {
    "duration": -91,
    "start_time": "2022-03-11T19:41:01.566Z"
   },
   {
    "duration": -90,
    "start_time": "2022-03-11T19:41:01.567Z"
   },
   {
    "duration": -91,
    "start_time": "2022-03-11T19:41:01.569Z"
   },
   {
    "duration": 31,
    "start_time": "2022-03-11T19:41:35.787Z"
   },
   {
    "duration": 303,
    "start_time": "2022-03-11T19:41:38.452Z"
   },
   {
    "duration": 29,
    "start_time": "2022-03-11T19:41:42.111Z"
   },
   {
    "duration": 16,
    "start_time": "2022-03-11T19:41:46.135Z"
   },
   {
    "duration": 277,
    "start_time": "2022-03-11T19:41:48.885Z"
   },
   {
    "duration": 26,
    "start_time": "2022-03-11T19:41:53.261Z"
   },
   {
    "duration": 717,
    "start_time": "2022-03-11T19:42:04.476Z"
   },
   {
    "duration": 699,
    "start_time": "2022-03-11T19:42:07.567Z"
   },
   {
    "duration": 296,
    "start_time": "2022-03-11T19:42:18.786Z"
   },
   {
    "duration": 1622,
    "start_time": "2022-03-11T19:43:50.339Z"
   },
   {
    "duration": 122,
    "start_time": "2022-03-11T19:43:51.964Z"
   },
   {
    "duration": 7,
    "start_time": "2022-03-11T19:43:52.089Z"
   },
   {
    "duration": 18,
    "start_time": "2022-03-11T19:43:52.099Z"
   },
   {
    "duration": 10,
    "start_time": "2022-03-11T19:43:52.120Z"
   },
   {
    "duration": 44,
    "start_time": "2022-03-11T19:43:52.132Z"
   },
   {
    "duration": 12,
    "start_time": "2022-03-11T19:43:52.179Z"
   },
   {
    "duration": 11,
    "start_time": "2022-03-11T19:43:52.195Z"
   },
   {
    "duration": 15,
    "start_time": "2022-03-11T19:43:52.209Z"
   },
   {
    "duration": 47,
    "start_time": "2022-03-11T19:43:52.228Z"
   },
   {
    "duration": 7,
    "start_time": "2022-03-11T19:43:52.278Z"
   },
   {
    "duration": 24,
    "start_time": "2022-03-11T19:43:52.288Z"
   },
   {
    "duration": 11,
    "start_time": "2022-03-11T19:43:52.315Z"
   },
   {
    "duration": 65,
    "start_time": "2022-03-11T19:43:52.329Z"
   },
   {
    "duration": 27,
    "start_time": "2022-03-11T19:43:52.397Z"
   },
   {
    "duration": 65,
    "start_time": "2022-03-11T19:43:52.426Z"
   },
   {
    "duration": 33,
    "start_time": "2022-03-11T19:43:52.494Z"
   },
   {
    "duration": 49,
    "start_time": "2022-03-11T19:43:52.529Z"
   },
   {
    "duration": 8,
    "start_time": "2022-03-11T19:43:52.580Z"
   },
   {
    "duration": 62,
    "start_time": "2022-03-11T19:43:52.590Z"
   },
   {
    "duration": 38,
    "start_time": "2022-03-11T19:43:52.675Z"
   },
   {
    "duration": 2101,
    "start_time": "2022-03-11T19:43:52.716Z"
   },
   {
    "duration": 16,
    "start_time": "2022-03-11T19:43:54.819Z"
   },
   {
    "duration": 12,
    "start_time": "2022-03-11T19:43:54.837Z"
   },
   {
    "duration": 17,
    "start_time": "2022-03-11T19:43:54.874Z"
   },
   {
    "duration": 23,
    "start_time": "2022-03-11T19:43:54.893Z"
   },
   {
    "duration": 744,
    "start_time": "2022-03-11T19:43:54.921Z"
   },
   {
    "duration": 13,
    "start_time": "2022-03-11T19:43:55.669Z"
   },
   {
    "duration": 650,
    "start_time": "2022-03-11T19:43:55.685Z"
   },
   {
    "duration": 17,
    "start_time": "2022-03-11T19:43:56.337Z"
   },
   {
    "duration": 281,
    "start_time": "2022-03-11T19:43:56.373Z"
   },
   {
    "duration": 39,
    "start_time": "2022-03-11T19:43:56.656Z"
   },
   {
    "duration": 28,
    "start_time": "2022-03-11T19:43:56.697Z"
   },
   {
    "duration": 16,
    "start_time": "2022-03-11T19:43:56.727Z"
   },
   {
    "duration": 51,
    "start_time": "2022-03-11T19:43:56.745Z"
   },
   {
    "duration": 734,
    "start_time": "2022-03-11T19:43:56.799Z"
   },
   {
    "duration": 704,
    "start_time": "2022-03-11T19:43:57.536Z"
   },
   {
    "duration": 3,
    "start_time": "2022-03-11T19:43:58.242Z"
   },
   {
    "duration": 11,
    "start_time": "2022-03-11T19:43:58.248Z"
   },
   {
    "duration": 3,
    "start_time": "2022-03-11T19:43:58.274Z"
   },
   {
    "duration": 7,
    "start_time": "2022-03-11T19:43:58.279Z"
   },
   {
    "duration": 6,
    "start_time": "2022-03-11T19:43:58.288Z"
   },
   {
    "duration": 7,
    "start_time": "2022-03-11T19:43:58.296Z"
   },
   {
    "duration": 6,
    "start_time": "2022-03-11T19:43:58.306Z"
   },
   {
    "duration": 10,
    "start_time": "2022-03-11T19:43:58.314Z"
   },
   {
    "duration": 6,
    "start_time": "2022-03-11T19:43:58.326Z"
   },
   {
    "duration": 6,
    "start_time": "2022-03-11T19:44:01.116Z"
   },
   {
    "duration": 8,
    "start_time": "2022-03-11T19:44:22.743Z"
   },
   {
    "duration": 235,
    "start_time": "2022-03-11T19:44:25.403Z"
   },
   {
    "duration": 86430,
    "start_time": "2022-03-11T19:44:26.704Z"
   },
   {
    "duration": 88,
    "start_time": "2022-03-11T19:48:52.633Z"
   },
   {
    "duration": 12,
    "start_time": "2022-03-11T19:49:01.915Z"
   },
   {
    "duration": 14,
    "start_time": "2022-03-11T19:49:25.467Z"
   },
   {
    "duration": 17,
    "start_time": "2022-03-11T19:50:35.755Z"
   },
   {
    "duration": 24,
    "start_time": "2022-03-11T19:50:43.468Z"
   },
   {
    "duration": 914,
    "start_time": "2022-03-11T19:50:44.178Z"
   },
   {
    "duration": 700,
    "start_time": "2022-03-11T19:50:49.992Z"
   },
   {
    "duration": 6,
    "start_time": "2022-03-11T19:51:05.351Z"
   },
   {
    "duration": 8,
    "start_time": "2022-03-11T19:51:06.477Z"
   },
   {
    "duration": 244,
    "start_time": "2022-03-11T19:51:07.243Z"
   },
   {
    "duration": 112132,
    "start_time": "2022-03-11T19:51:08.242Z"
   },
   {
    "duration": 110385,
    "start_time": "2022-03-11T19:53:47.530Z"
   },
   {
    "duration": 115316,
    "start_time": "2022-03-11T19:56:44.530Z"
   },
   {
    "duration": 15,
    "start_time": "2022-03-11T20:00:34.787Z"
   },
   {
    "duration": 646,
    "start_time": "2022-03-11T20:02:13.947Z"
   },
   {
    "duration": 377,
    "start_time": "2022-03-11T20:03:02.491Z"
   },
   {
    "duration": 369,
    "start_time": "2022-03-11T20:03:12.428Z"
   },
   {
    "duration": 385,
    "start_time": "2022-03-11T20:05:04.063Z"
   },
   {
    "duration": 228,
    "start_time": "2022-03-11T20:05:24.214Z"
   },
   {
    "duration": 420,
    "start_time": "2022-03-11T20:06:06.911Z"
   },
   {
    "duration": 18,
    "start_time": "2022-03-11T20:07:47.942Z"
   },
   {
    "duration": 98,
    "start_time": "2022-03-11T20:08:33.410Z"
   },
   {
    "duration": 498,
    "start_time": "2022-03-11T20:08:47.717Z"
   },
   {
    "duration": 300,
    "start_time": "2022-03-11T20:09:03.359Z"
   },
   {
    "duration": 14,
    "start_time": "2022-03-11T20:09:13.142Z"
   },
   {
    "duration": 18,
    "start_time": "2022-03-11T20:11:12.741Z"
   },
   {
    "duration": 361,
    "start_time": "2022-03-11T20:11:47.641Z"
   },
   {
    "duration": 449,
    "start_time": "2022-03-11T20:11:58.924Z"
   },
   {
    "duration": 389,
    "start_time": "2022-03-11T20:12:03.706Z"
   },
   {
    "duration": 546,
    "start_time": "2022-03-11T20:12:11.278Z"
   },
   {
    "duration": 405,
    "start_time": "2022-03-11T20:12:16.520Z"
   },
   {
    "duration": 1606,
    "start_time": "2022-03-11T20:13:01.461Z"
   },
   {
    "duration": 116,
    "start_time": "2022-03-11T20:13:03.070Z"
   },
   {
    "duration": 7,
    "start_time": "2022-03-11T20:13:03.190Z"
   },
   {
    "duration": 38,
    "start_time": "2022-03-11T20:13:03.200Z"
   },
   {
    "duration": 12,
    "start_time": "2022-03-11T20:13:03.241Z"
   },
   {
    "duration": 18,
    "start_time": "2022-03-11T20:13:03.255Z"
   },
   {
    "duration": 13,
    "start_time": "2022-03-11T20:13:03.276Z"
   },
   {
    "duration": 9,
    "start_time": "2022-03-11T20:13:03.292Z"
   },
   {
    "duration": 15,
    "start_time": "2022-03-11T20:13:03.305Z"
   },
   {
    "duration": 8,
    "start_time": "2022-03-11T20:13:03.324Z"
   },
   {
    "duration": 42,
    "start_time": "2022-03-11T20:13:03.335Z"
   },
   {
    "duration": 34,
    "start_time": "2022-03-11T20:13:03.379Z"
   },
   {
    "duration": 11,
    "start_time": "2022-03-11T20:13:03.415Z"
   },
   {
    "duration": 53,
    "start_time": "2022-03-11T20:13:03.428Z"
   },
   {
    "duration": 25,
    "start_time": "2022-03-11T20:13:03.483Z"
   },
   {
    "duration": 28,
    "start_time": "2022-03-11T20:13:03.511Z"
   },
   {
    "duration": 33,
    "start_time": "2022-03-11T20:13:03.573Z"
   },
   {
    "duration": 25,
    "start_time": "2022-03-11T20:13:03.609Z"
   },
   {
    "duration": 8,
    "start_time": "2022-03-11T20:13:03.636Z"
   },
   {
    "duration": 65,
    "start_time": "2022-03-11T20:13:03.673Z"
   },
   {
    "duration": 59,
    "start_time": "2022-03-11T20:13:03.741Z"
   },
   {
    "duration": 2004,
    "start_time": "2022-03-11T20:13:03.802Z"
   },
   {
    "duration": 18,
    "start_time": "2022-03-11T20:13:05.809Z"
   },
   {
    "duration": 16,
    "start_time": "2022-03-11T20:13:05.830Z"
   },
   {
    "duration": 41,
    "start_time": "2022-03-11T20:13:05.849Z"
   },
   {
    "duration": 29,
    "start_time": "2022-03-11T20:13:05.892Z"
   },
   {
    "duration": 735,
    "start_time": "2022-03-11T20:13:05.925Z"
   },
   {
    "duration": 19,
    "start_time": "2022-03-11T20:13:06.663Z"
   },
   {
    "duration": 644,
    "start_time": "2022-03-11T20:13:06.685Z"
   },
   {
    "duration": 19,
    "start_time": "2022-03-11T20:13:07.332Z"
   },
   {
    "duration": 405,
    "start_time": "2022-03-11T20:13:07.374Z"
   },
   {
    "duration": 16,
    "start_time": "2022-03-11T20:13:07.782Z"
   },
   {
    "duration": 12,
    "start_time": "2022-03-11T20:13:07.800Z"
   },
   {
    "duration": 17,
    "start_time": "2022-03-11T20:13:27.440Z"
   },
   {
    "duration": 398,
    "start_time": "2022-03-11T20:13:43.696Z"
   },
   {
    "duration": 19,
    "start_time": "2022-03-11T20:14:25.067Z"
   },
   {
    "duration": 653,
    "start_time": "2022-03-11T20:14:27.859Z"
   },
   {
    "duration": 12,
    "start_time": "2022-03-11T20:14:41.333Z"
   },
   {
    "duration": 22,
    "start_time": "2022-03-11T20:14:43.763Z"
   },
   {
    "duration": 567,
    "start_time": "2022-03-11T20:14:44.999Z"
   },
   {
    "duration": 367,
    "start_time": "2022-03-11T20:14:52.345Z"
   },
   {
    "duration": 12,
    "start_time": "2022-03-11T20:16:44.315Z"
   },
   {
    "duration": 1611,
    "start_time": "2022-03-11T20:22:14.981Z"
   },
   {
    "duration": 120,
    "start_time": "2022-03-11T20:22:16.595Z"
   },
   {
    "duration": 8,
    "start_time": "2022-03-11T20:22:16.718Z"
   },
   {
    "duration": 19,
    "start_time": "2022-03-11T20:22:16.730Z"
   },
   {
    "duration": 13,
    "start_time": "2022-03-11T20:22:16.774Z"
   },
   {
    "duration": 9,
    "start_time": "2022-03-11T20:22:16.791Z"
   },
   {
    "duration": 15,
    "start_time": "2022-03-11T20:22:16.803Z"
   },
   {
    "duration": 56,
    "start_time": "2022-03-11T20:22:16.821Z"
   },
   {
    "duration": 13,
    "start_time": "2022-03-11T20:22:16.881Z"
   },
   {
    "duration": 6,
    "start_time": "2022-03-11T20:22:16.897Z"
   },
   {
    "duration": 6,
    "start_time": "2022-03-11T20:22:16.906Z"
   },
   {
    "duration": 65,
    "start_time": "2022-03-11T20:22:16.914Z"
   },
   {
    "duration": 11,
    "start_time": "2022-03-11T20:22:16.982Z"
   },
   {
    "duration": 25,
    "start_time": "2022-03-11T20:22:16.995Z"
   },
   {
    "duration": 57,
    "start_time": "2022-03-11T20:22:17.023Z"
   },
   {
    "duration": 27,
    "start_time": "2022-03-11T20:22:17.083Z"
   },
   {
    "duration": 33,
    "start_time": "2022-03-11T20:22:17.112Z"
   },
   {
    "duration": 47,
    "start_time": "2022-03-11T20:22:17.147Z"
   },
   {
    "duration": 7,
    "start_time": "2022-03-11T20:22:17.197Z"
   },
   {
    "duration": 96,
    "start_time": "2022-03-11T20:22:17.207Z"
   },
   {
    "duration": 40,
    "start_time": "2022-03-11T20:22:17.306Z"
   },
   {
    "duration": 1869,
    "start_time": "2022-03-11T20:22:17.349Z"
   },
   {
    "duration": 16,
    "start_time": "2022-03-11T20:22:19.221Z"
   },
   {
    "duration": 34,
    "start_time": "2022-03-11T20:22:19.239Z"
   },
   {
    "duration": 18,
    "start_time": "2022-03-11T20:22:19.276Z"
   },
   {
    "duration": 24,
    "start_time": "2022-03-11T20:22:19.296Z"
   },
   {
    "duration": 1150,
    "start_time": "2022-03-11T20:22:19.325Z"
   },
   {
    "duration": 17,
    "start_time": "2022-03-11T20:22:20.479Z"
   },
   {
    "duration": 697,
    "start_time": "2022-03-11T20:22:20.499Z"
   },
   {
    "duration": 19,
    "start_time": "2022-03-11T20:22:21.198Z"
   },
   {
    "duration": 656,
    "start_time": "2022-03-11T20:22:21.220Z"
   },
   {
    "duration": 17,
    "start_time": "2022-03-11T20:22:21.879Z"
   },
   {
    "duration": 18,
    "start_time": "2022-03-11T20:22:21.898Z"
   },
   {
    "duration": 18,
    "start_time": "2022-03-11T20:22:21.918Z"
   },
   {
    "duration": 392,
    "start_time": "2022-03-11T20:22:21.973Z"
   },
   {
    "duration": 12,
    "start_time": "2022-03-11T20:22:22.372Z"
   },
   {
    "duration": 21,
    "start_time": "2022-03-11T20:22:22.386Z"
   },
   {
    "duration": 25,
    "start_time": "2022-03-11T20:22:22.410Z"
   },
   {
    "duration": 1158,
    "start_time": "2022-03-11T20:22:22.437Z"
   },
   {
    "duration": 1186,
    "start_time": "2022-03-11T20:22:23.599Z"
   },
   {
    "duration": 4,
    "start_time": "2022-03-11T20:22:24.788Z"
   },
   {
    "duration": 18,
    "start_time": "2022-03-11T20:22:24.796Z"
   },
   {
    "duration": 13,
    "start_time": "2022-03-11T20:22:24.817Z"
   },
   {
    "duration": 20,
    "start_time": "2022-03-11T20:22:24.834Z"
   },
   {
    "duration": 19,
    "start_time": "2022-03-11T20:22:24.857Z"
   },
   {
    "duration": 9,
    "start_time": "2022-03-11T20:22:24.879Z"
   },
   {
    "duration": 18,
    "start_time": "2022-03-11T20:22:24.892Z"
   },
   {
    "duration": 13,
    "start_time": "2022-03-11T20:22:24.913Z"
   },
   {
    "duration": 12,
    "start_time": "2022-03-11T20:22:24.929Z"
   },
   {
    "duration": 32,
    "start_time": "2022-03-11T20:22:24.944Z"
   },
   {
    "duration": 14,
    "start_time": "2022-03-11T20:22:24.979Z"
   },
   {
    "duration": 27,
    "start_time": "2022-03-11T20:22:24.997Z"
   },
   {
    "duration": 338,
    "start_time": "2022-03-11T20:22:25.027Z"
   },
   {
    "duration": 99053,
    "start_time": "2022-03-11T20:22:25.367Z"
   },
   {
    "duration": 3,
    "start_time": "2022-03-11T20:24:04.422Z"
   },
   {
    "duration": 8,
    "start_time": "2022-03-11T20:24:04.428Z"
   },
   {
    "duration": 6,
    "start_time": "2022-03-11T20:24:04.439Z"
   },
   {
    "duration": 28,
    "start_time": "2022-03-11T20:24:04.447Z"
   },
   {
    "duration": 8,
    "start_time": "2022-03-11T20:24:04.477Z"
   },
   {
    "duration": 90,
    "start_time": "2022-03-11T20:50:34.783Z"
   },
   {
    "duration": 4,
    "start_time": "2022-03-11T20:52:32.103Z"
   },
   {
    "duration": 1163,
    "start_time": "2022-03-11T20:52:33.111Z"
   },
   {
    "duration": 5,
    "start_time": "2022-03-11T20:52:34.901Z"
   },
   {
    "duration": 7004,
    "start_time": "2022-03-11T20:52:37.124Z"
   },
   {
    "duration": 4,
    "start_time": "2022-03-11T20:53:02.266Z"
   },
   {
    "duration": 10,
    "start_time": "2022-03-11T20:53:03.167Z"
   },
   {
    "duration": 22,
    "start_time": "2022-03-11T20:53:09.717Z"
   },
   {
    "duration": 517,
    "start_time": "2022-03-12T14:50:25.380Z"
   },
   {
    "duration": 1582,
    "start_time": "2022-03-12T14:50:34.829Z"
   },
   {
    "duration": 125,
    "start_time": "2022-03-12T14:50:36.414Z"
   },
   {
    "duration": 8,
    "start_time": "2022-03-12T14:50:36.542Z"
   },
   {
    "duration": 20,
    "start_time": "2022-03-12T14:50:36.552Z"
   },
   {
    "duration": 11,
    "start_time": "2022-03-12T14:50:36.574Z"
   },
   {
    "duration": 7,
    "start_time": "2022-03-12T14:50:36.587Z"
   },
   {
    "duration": 10,
    "start_time": "2022-03-12T14:50:36.632Z"
   },
   {
    "duration": 9,
    "start_time": "2022-03-12T14:50:36.645Z"
   },
   {
    "duration": 14,
    "start_time": "2022-03-12T14:50:36.658Z"
   },
   {
    "duration": 5,
    "start_time": "2022-03-12T14:50:36.675Z"
   },
   {
    "duration": 5,
    "start_time": "2022-03-12T14:50:36.683Z"
   },
   {
    "duration": 24,
    "start_time": "2022-03-12T14:50:36.734Z"
   },
   {
    "duration": 11,
    "start_time": "2022-03-12T14:50:36.760Z"
   },
   {
    "duration": 26,
    "start_time": "2022-03-12T14:50:36.773Z"
   },
   {
    "duration": 52,
    "start_time": "2022-03-12T14:50:36.801Z"
   },
   {
    "duration": 27,
    "start_time": "2022-03-12T14:50:36.855Z"
   },
   {
    "duration": 65,
    "start_time": "2022-03-12T14:50:36.885Z"
   },
   {
    "duration": 26,
    "start_time": "2022-03-12T14:50:36.953Z"
   },
   {
    "duration": 8,
    "start_time": "2022-03-12T14:50:36.981Z"
   },
   {
    "duration": 95,
    "start_time": "2022-03-12T14:50:36.991Z"
   },
   {
    "duration": 52,
    "start_time": "2022-03-12T14:50:37.088Z"
   },
   {
    "duration": 1926,
    "start_time": "2022-03-12T14:50:37.143Z"
   },
   {
    "duration": 17,
    "start_time": "2022-03-12T14:50:39.071Z"
   },
   {
    "duration": 45,
    "start_time": "2022-03-12T14:50:39.090Z"
   },
   {
    "duration": 20,
    "start_time": "2022-03-12T14:50:39.139Z"
   },
   {
    "duration": 31,
    "start_time": "2022-03-12T14:50:39.161Z"
   },
   {
    "duration": 740,
    "start_time": "2022-03-12T14:50:39.197Z"
   },
   {
    "duration": 12,
    "start_time": "2022-03-12T14:50:39.940Z"
   },
   {
    "duration": 883,
    "start_time": "2022-03-12T14:50:39.956Z"
   },
   {
    "duration": 17,
    "start_time": "2022-03-12T14:50:40.842Z"
   },
   {
    "duration": 524,
    "start_time": "2022-03-12T14:50:40.861Z"
   },
   {
    "duration": 17,
    "start_time": "2022-03-12T14:50:41.387Z"
   },
   {
    "duration": 28,
    "start_time": "2022-03-12T14:50:41.406Z"
   },
   {
    "duration": 15,
    "start_time": "2022-03-12T14:50:41.436Z"
   },
   {
    "duration": 395,
    "start_time": "2022-03-12T14:50:41.453Z"
   },
   {
    "duration": 11,
    "start_time": "2022-03-12T14:50:41.850Z"
   },
   {
    "duration": 16,
    "start_time": "2022-03-12T14:50:41.863Z"
   },
   {
    "duration": 50,
    "start_time": "2022-03-12T14:50:41.882Z"
   },
   {
    "duration": 737,
    "start_time": "2022-03-12T14:50:41.935Z"
   },
   {
    "duration": 768,
    "start_time": "2022-03-12T14:50:42.674Z"
   },
   {
    "duration": 17,
    "start_time": "2022-03-12T14:50:43.445Z"
   },
   {
    "duration": 12,
    "start_time": "2022-03-12T14:50:43.465Z"
   },
   {
    "duration": 10,
    "start_time": "2022-03-12T14:50:43.479Z"
   },
   {
    "duration": 289,
    "start_time": "2022-03-12T14:50:43.491Z"
   },
   {
    "duration": 86495,
    "start_time": "2022-03-12T14:50:43.783Z"
   },
   {
    "duration": 3,
    "start_time": "2022-03-12T14:52:10.280Z"
   },
   {
    "duration": 847,
    "start_time": "2022-03-12T14:52:10.286Z"
   },
   {
    "duration": 6,
    "start_time": "2022-03-12T14:52:11.135Z"
   },
   {
    "duration": 12,
    "start_time": "2022-03-12T14:52:11.144Z"
   },
   {
    "duration": 81,
    "start_time": "2022-03-12T14:52:11.158Z"
   },
   {
    "duration": 4,
    "start_time": "2022-03-12T14:52:11.241Z"
   },
   {
    "duration": 4,
    "start_time": "2022-03-12T15:25:27.847Z"
   },
   {
    "duration": 4,
    "start_time": "2022-03-12T15:25:37.082Z"
   },
   {
    "duration": 7,
    "start_time": "2022-03-12T15:25:42.913Z"
   },
   {
    "duration": 8,
    "start_time": "2022-03-12T15:25:54.362Z"
   },
   {
    "duration": 6,
    "start_time": "2022-03-12T15:26:29.320Z"
   },
   {
    "duration": 6,
    "start_time": "2022-03-12T15:26:49.305Z"
   },
   {
    "duration": 20,
    "start_time": "2022-03-12T15:27:11.405Z"
   },
   {
    "duration": 504,
    "start_time": "2022-03-12T15:55:23.754Z"
   },
   {
    "duration": 50362,
    "start_time": "2022-03-12T15:55:35.542Z"
   },
   {
    "duration": 349,
    "start_time": "2022-03-12T15:57:50.915Z"
   },
   {
    "duration": 457,
    "start_time": "2022-03-12T15:58:12.025Z"
   },
   {
    "duration": 713,
    "start_time": "2022-03-12T16:00:24.884Z"
   },
   {
    "duration": 527,
    "start_time": "2022-03-12T16:01:26.687Z"
   },
   {
    "duration": 531,
    "start_time": "2022-03-12T16:01:36.116Z"
   },
   {
    "duration": 514,
    "start_time": "2022-03-12T16:01:46.587Z"
   },
   {
    "duration": 517,
    "start_time": "2022-03-12T16:02:16.895Z"
   },
   {
    "duration": 525,
    "start_time": "2022-03-12T16:03:24.869Z"
   },
   {
    "duration": 530,
    "start_time": "2022-03-12T16:03:36.606Z"
   },
   {
    "duration": 556,
    "start_time": "2022-03-12T16:04:45.604Z"
   },
   {
    "duration": 337,
    "start_time": "2022-03-12T16:06:38.950Z"
   },
   {
    "duration": 495,
    "start_time": "2022-03-12T16:06:49.251Z"
   },
   {
    "duration": 547,
    "start_time": "2022-03-12T16:09:07.600Z"
   },
   {
    "duration": 465,
    "start_time": "2022-03-12T16:40:27.929Z"
   },
   {
    "duration": 527,
    "start_time": "2022-03-12T16:41:33.434Z"
   },
   {
    "duration": 512,
    "start_time": "2022-03-12T16:41:42.527Z"
   },
   {
    "duration": 38131,
    "start_time": "2022-03-12T16:42:38.002Z"
   },
   {
    "duration": 106,
    "start_time": "2022-03-12T16:48:50.546Z"
   },
   {
    "duration": 545,
    "start_time": "2022-03-12T16:52:50.929Z"
   },
   {
    "duration": 534,
    "start_time": "2022-03-12T16:52:57.737Z"
   },
   {
    "duration": 331,
    "start_time": "2022-03-12T16:54:59.227Z"
   },
   {
    "duration": 320,
    "start_time": "2022-03-12T16:56:48.748Z"
   },
   {
    "duration": 5,
    "start_time": "2022-03-12T16:57:16.545Z"
   },
   {
    "duration": 392,
    "start_time": "2022-03-12T16:57:23.321Z"
   },
   {
    "duration": 23,
    "start_time": "2022-03-12T17:00:01.661Z"
   },
   {
    "duration": 1435,
    "start_time": "2022-03-12T17:00:15.606Z"
   },
   {
    "duration": 334,
    "start_time": "2022-03-12T17:01:35.955Z"
   },
   {
    "duration": 409,
    "start_time": "2022-03-12T17:03:45.731Z"
   },
   {
    "duration": 127,
    "start_time": "2022-03-12T17:42:30.219Z"
   },
   {
    "duration": 110,
    "start_time": "2022-03-12T17:45:06.181Z"
   },
   {
    "duration": 362,
    "start_time": "2022-03-12T17:45:16.505Z"
   },
   {
    "duration": 5,
    "start_time": "2022-03-12T17:45:51.614Z"
   },
   {
    "duration": 14,
    "start_time": "2022-03-12T17:45:57.852Z"
   },
   {
    "duration": 15,
    "start_time": "2022-03-12T17:46:11.999Z"
   },
   {
    "duration": 15,
    "start_time": "2022-03-12T17:49:14.019Z"
   },
   {
    "duration": 15,
    "start_time": "2022-03-12T17:49:57.779Z"
   },
   {
    "duration": 15,
    "start_time": "2022-03-12T17:50:21.810Z"
   },
   {
    "duration": 18,
    "start_time": "2022-03-12T17:50:39.808Z"
   },
   {
    "duration": 119,
    "start_time": "2022-03-12T17:51:20.050Z"
   },
   {
    "duration": 15,
    "start_time": "2022-03-12T17:51:27.786Z"
   },
   {
    "duration": 96,
    "start_time": "2022-03-12T17:51:52.150Z"
   },
   {
    "duration": 1565,
    "start_time": "2022-03-12T18:16:39.931Z"
   },
   {
    "duration": 266,
    "start_time": "2022-03-12T18:16:41.502Z"
   },
   {
    "duration": 7,
    "start_time": "2022-03-12T18:16:41.770Z"
   },
   {
    "duration": 17,
    "start_time": "2022-03-12T18:16:41.780Z"
   },
   {
    "duration": 34,
    "start_time": "2022-03-12T18:16:41.799Z"
   },
   {
    "duration": 6,
    "start_time": "2022-03-12T18:16:41.835Z"
   },
   {
    "duration": 10,
    "start_time": "2022-03-12T18:16:41.845Z"
   },
   {
    "duration": 7,
    "start_time": "2022-03-12T18:16:41.858Z"
   },
   {
    "duration": 13,
    "start_time": "2022-03-12T18:16:41.867Z"
   },
   {
    "duration": 5,
    "start_time": "2022-03-12T18:16:41.882Z"
   },
   {
    "duration": 46,
    "start_time": "2022-03-12T18:16:41.889Z"
   },
   {
    "duration": 23,
    "start_time": "2022-03-12T18:16:41.937Z"
   },
   {
    "duration": 10,
    "start_time": "2022-03-12T18:16:41.963Z"
   },
   {
    "duration": 59,
    "start_time": "2022-03-12T18:16:41.975Z"
   },
   {
    "duration": 25,
    "start_time": "2022-03-12T18:16:42.037Z"
   },
   {
    "duration": 26,
    "start_time": "2022-03-12T18:16:42.064Z"
   },
   {
    "duration": 60,
    "start_time": "2022-03-12T18:16:42.092Z"
   },
   {
    "duration": 25,
    "start_time": "2022-03-12T18:16:42.154Z"
   },
   {
    "duration": 7,
    "start_time": "2022-03-12T18:16:42.181Z"
   },
   {
    "duration": 89,
    "start_time": "2022-03-12T18:16:42.190Z"
   },
   {
    "duration": 36,
    "start_time": "2022-03-12T18:16:42.281Z"
   },
   {
    "duration": 1840,
    "start_time": "2022-03-12T18:16:42.331Z"
   },
   {
    "duration": 16,
    "start_time": "2022-03-12T18:16:44.173Z"
   },
   {
    "duration": 15,
    "start_time": "2022-03-12T18:16:44.192Z"
   },
   {
    "duration": 33,
    "start_time": "2022-03-12T18:16:44.213Z"
   },
   {
    "duration": 27,
    "start_time": "2022-03-12T18:16:44.249Z"
   },
   {
    "duration": 717,
    "start_time": "2022-03-12T18:16:44.278Z"
   },
   {
    "duration": 12,
    "start_time": "2022-03-12T18:16:44.998Z"
   },
   {
    "duration": 616,
    "start_time": "2022-03-12T18:16:45.013Z"
   },
   {
    "duration": 16,
    "start_time": "2022-03-12T18:16:45.631Z"
   },
   {
    "duration": 422,
    "start_time": "2022-03-12T18:16:45.649Z"
   },
   {
    "duration": 16,
    "start_time": "2022-03-12T18:16:46.073Z"
   },
   {
    "duration": 12,
    "start_time": "2022-03-12T18:16:46.091Z"
   },
   {
    "duration": 35,
    "start_time": "2022-03-12T18:16:46.105Z"
   },
   {
    "duration": 382,
    "start_time": "2022-03-12T18:16:46.143Z"
   },
   {
    "duration": 14,
    "start_time": "2022-03-12T18:16:46.531Z"
   },
   {
    "duration": 21,
    "start_time": "2022-03-12T18:16:46.548Z"
   },
   {
    "duration": 19,
    "start_time": "2022-03-12T18:16:46.572Z"
   },
   {
    "duration": 57,
    "start_time": "2022-03-12T18:16:46.594Z"
   },
   {
    "duration": 713,
    "start_time": "2022-03-12T18:16:46.654Z"
   },
   {
    "duration": 745,
    "start_time": "2022-03-12T18:16:47.369Z"
   },
   {
    "duration": 19,
    "start_time": "2022-03-12T18:16:48.116Z"
   },
   {
    "duration": 6,
    "start_time": "2022-03-12T18:16:48.137Z"
   },
   {
    "duration": 8,
    "start_time": "2022-03-12T18:16:48.145Z"
   },
   {
    "duration": 248,
    "start_time": "2022-03-12T18:16:48.156Z"
   },
   {
    "duration": 96733,
    "start_time": "2022-03-12T18:16:48.406Z"
   },
   {
    "duration": 3,
    "start_time": "2022-03-12T18:18:25.142Z"
   },
   {
    "duration": 1291,
    "start_time": "2022-03-12T18:18:25.148Z"
   },
   {
    "duration": 7,
    "start_time": "2022-03-12T18:18:26.442Z"
   },
   {
    "duration": 82,
    "start_time": "2022-03-12T18:18:26.452Z"
   },
   {
    "duration": 335,
    "start_time": "2022-03-12T18:18:26.537Z"
   },
   {
    "duration": 20,
    "start_time": "2022-03-12T18:18:26.874Z"
   },
   {
    "duration": 535,
    "start_time": "2022-03-12T18:18:26.897Z"
   },
   {
    "duration": 798,
    "start_time": "2022-03-12T18:18:27.435Z"
   },
   {
    "duration": 19,
    "start_time": "2022-03-12T18:18:28.236Z"
   },
   {
    "duration": 18,
    "start_time": "2022-03-12T18:18:28.258Z"
   },
   {
    "duration": 5,
    "start_time": "2022-03-12T18:36:41.002Z"
   },
   {
    "duration": 132,
    "start_time": "2022-03-12T18:36:41.010Z"
   },
   {
    "duration": 4,
    "start_time": "2022-03-12T18:36:41.146Z"
   },
   {
    "duration": 19,
    "start_time": "2022-03-12T18:36:41.154Z"
   },
   {
    "duration": 10,
    "start_time": "2022-03-12T18:36:41.176Z"
   },
   {
    "duration": 45,
    "start_time": "2022-03-12T18:36:41.188Z"
   },
   {
    "duration": 10,
    "start_time": "2022-03-12T18:36:41.236Z"
   },
   {
    "duration": 13,
    "start_time": "2022-03-12T18:36:41.249Z"
   },
   {
    "duration": 71,
    "start_time": "2022-03-12T18:36:41.269Z"
   },
   {
    "duration": 6,
    "start_time": "2022-03-12T18:36:41.345Z"
   },
   {
    "duration": 14,
    "start_time": "2022-03-12T18:36:41.354Z"
   },
   {
    "duration": 23,
    "start_time": "2022-03-12T18:36:41.371Z"
   },
   {
    "duration": 47,
    "start_time": "2022-03-12T18:36:41.396Z"
   },
   {
    "duration": 31,
    "start_time": "2022-03-12T18:36:41.446Z"
   },
   {
    "duration": 58,
    "start_time": "2022-03-12T18:36:41.479Z"
   },
   {
    "duration": 36,
    "start_time": "2022-03-12T18:36:41.540Z"
   },
   {
    "duration": 63,
    "start_time": "2022-03-12T18:36:41.579Z"
   },
   {
    "duration": 30,
    "start_time": "2022-03-12T18:36:41.644Z"
   },
   {
    "duration": 7,
    "start_time": "2022-03-12T18:36:41.676Z"
   },
   {
    "duration": 100,
    "start_time": "2022-03-12T18:36:41.686Z"
   },
   {
    "duration": 51,
    "start_time": "2022-03-12T18:36:41.789Z"
   },
   {
    "duration": 2951,
    "start_time": "2022-03-12T18:36:41.843Z"
   },
   {
    "duration": 16,
    "start_time": "2022-03-12T18:36:44.796Z"
   },
   {
    "duration": 27,
    "start_time": "2022-03-12T18:36:44.814Z"
   },
   {
    "duration": 16,
    "start_time": "2022-03-12T18:36:44.843Z"
   },
   {
    "duration": 26,
    "start_time": "2022-03-12T18:36:44.861Z"
   },
   {
    "duration": 650,
    "start_time": "2022-03-12T18:36:44.892Z"
   },
   {
    "duration": 11,
    "start_time": "2022-03-12T18:36:45.546Z"
   },
   {
    "duration": 655,
    "start_time": "2022-03-12T18:36:45.560Z"
   },
   {
    "duration": 29,
    "start_time": "2022-03-12T18:36:46.217Z"
   },
   {
    "duration": 422,
    "start_time": "2022-03-12T18:36:46.249Z"
   },
   {
    "duration": 17,
    "start_time": "2022-03-12T18:36:46.674Z"
   },
   {
    "duration": 14,
    "start_time": "2022-03-12T18:36:46.693Z"
   },
   {
    "duration": 17,
    "start_time": "2022-03-12T18:36:46.733Z"
   },
   {
    "duration": 419,
    "start_time": "2022-03-12T18:36:46.752Z"
   },
   {
    "duration": 12,
    "start_time": "2022-03-12T18:36:47.173Z"
   },
   {
    "duration": 19,
    "start_time": "2022-03-12T18:36:47.187Z"
   },
   {
    "duration": 34,
    "start_time": "2022-03-12T18:36:47.208Z"
   },
   {
    "duration": 24,
    "start_time": "2022-03-12T18:36:47.245Z"
   },
   {
    "duration": 839,
    "start_time": "2022-03-12T18:36:47.272Z"
   },
   {
    "duration": 796,
    "start_time": "2022-03-12T18:36:48.113Z"
   },
   {
    "duration": 29,
    "start_time": "2022-03-12T18:36:48.912Z"
   },
   {
    "duration": 7,
    "start_time": "2022-03-12T18:36:48.944Z"
   },
   {
    "duration": 12,
    "start_time": "2022-03-12T18:36:48.954Z"
   },
   {
    "duration": 265,
    "start_time": "2022-03-12T18:36:48.968Z"
   },
   {
    "duration": 1687,
    "start_time": "2022-03-12T18:36:59.925Z"
   },
   {
    "duration": 158,
    "start_time": "2022-03-12T18:37:01.618Z"
   },
   {
    "duration": 7,
    "start_time": "2022-03-12T18:37:01.779Z"
   },
   {
    "duration": 22,
    "start_time": "2022-03-12T18:37:01.789Z"
   },
   {
    "duration": 12,
    "start_time": "2022-03-12T18:37:01.833Z"
   },
   {
    "duration": 14,
    "start_time": "2022-03-12T18:37:01.848Z"
   },
   {
    "duration": 21,
    "start_time": "2022-03-12T18:37:01.864Z"
   },
   {
    "duration": 11,
    "start_time": "2022-03-12T18:37:01.889Z"
   },
   {
    "duration": 44,
    "start_time": "2022-03-12T18:37:01.903Z"
   },
   {
    "duration": 7,
    "start_time": "2022-03-12T18:37:01.951Z"
   },
   {
    "duration": 13,
    "start_time": "2022-03-12T18:37:01.961Z"
   },
   {
    "duration": 54,
    "start_time": "2022-03-12T18:37:01.984Z"
   },
   {
    "duration": 12,
    "start_time": "2022-03-12T18:37:02.041Z"
   },
   {
    "duration": 29,
    "start_time": "2022-03-12T18:37:02.055Z"
   },
   {
    "duration": 56,
    "start_time": "2022-03-12T18:37:02.086Z"
   },
   {
    "duration": 36,
    "start_time": "2022-03-12T18:37:02.146Z"
   },
   {
    "duration": 60,
    "start_time": "2022-03-12T18:37:02.185Z"
   },
   {
    "duration": 32,
    "start_time": "2022-03-12T18:37:02.248Z"
   },
   {
    "duration": 8,
    "start_time": "2022-03-12T18:37:02.282Z"
   },
   {
    "duration": 96,
    "start_time": "2022-03-12T18:37:02.293Z"
   },
   {
    "duration": 51,
    "start_time": "2022-03-12T18:37:02.392Z"
   },
   {
    "duration": 1998,
    "start_time": "2022-03-12T18:37:02.446Z"
   },
   {
    "duration": 18,
    "start_time": "2022-03-12T18:37:04.447Z"
   },
   {
    "duration": 13,
    "start_time": "2022-03-12T18:37:04.468Z"
   },
   {
    "duration": 49,
    "start_time": "2022-03-12T18:37:04.484Z"
   },
   {
    "duration": 26,
    "start_time": "2022-03-12T18:37:04.539Z"
   },
   {
    "duration": 764,
    "start_time": "2022-03-12T18:37:04.568Z"
   },
   {
    "duration": 13,
    "start_time": "2022-03-12T18:37:05.335Z"
   },
   {
    "duration": 623,
    "start_time": "2022-03-12T18:37:05.350Z"
   },
   {
    "duration": 17,
    "start_time": "2022-03-12T18:37:05.976Z"
   },
   {
    "duration": 513,
    "start_time": "2022-03-12T18:37:05.995Z"
   },
   {
    "duration": 24,
    "start_time": "2022-03-12T18:37:06.510Z"
   },
   {
    "duration": 12,
    "start_time": "2022-03-12T18:37:06.537Z"
   },
   {
    "duration": 15,
    "start_time": "2022-03-12T18:37:06.552Z"
   },
   {
    "duration": 393,
    "start_time": "2022-03-12T18:37:06.570Z"
   },
   {
    "duration": 12,
    "start_time": "2022-03-12T18:37:06.966Z"
   },
   {
    "duration": 21,
    "start_time": "2022-03-12T18:37:06.980Z"
   },
   {
    "duration": 40,
    "start_time": "2022-03-12T18:37:07.003Z"
   },
   {
    "duration": 23,
    "start_time": "2022-03-12T18:37:07.046Z"
   },
   {
    "duration": 724,
    "start_time": "2022-03-12T18:37:07.072Z"
   },
   {
    "duration": 856,
    "start_time": "2022-03-12T18:37:07.798Z"
   },
   {
    "duration": 14,
    "start_time": "2022-03-12T18:37:08.656Z"
   },
   {
    "duration": 7,
    "start_time": "2022-03-12T18:37:08.673Z"
   },
   {
    "duration": 10,
    "start_time": "2022-03-12T18:37:08.683Z"
   },
   {
    "duration": 458,
    "start_time": "2022-03-12T18:37:08.695Z"
   },
   {
    "duration": 87041,
    "start_time": "2022-03-12T18:37:09.157Z"
   },
   {
    "duration": 4,
    "start_time": "2022-03-12T18:38:36.201Z"
   },
   {
    "duration": 1130,
    "start_time": "2022-03-12T18:38:36.207Z"
   },
   {
    "duration": 4,
    "start_time": "2022-03-12T18:38:37.340Z"
   },
   {
    "duration": 87,
    "start_time": "2022-03-12T18:38:37.348Z"
   },
   {
    "duration": 340,
    "start_time": "2022-03-12T18:38:37.437Z"
   },
   {
    "duration": 21,
    "start_time": "2022-03-12T18:38:37.780Z"
   },
   {
    "duration": 562,
    "start_time": "2022-03-12T18:38:37.803Z"
   },
   {
    "duration": 755,
    "start_time": "2022-03-12T18:38:38.367Z"
   },
   {
    "duration": 17,
    "start_time": "2022-03-12T18:38:39.133Z"
   },
   {
    "duration": 16,
    "start_time": "2022-03-12T18:38:39.153Z"
   },
   {
    "duration": 133,
    "start_time": "2022-03-12T20:39:00.287Z"
   },
   {
    "duration": 1968,
    "start_time": "2022-03-13T07:04:36.985Z"
   },
   {
    "duration": 174,
    "start_time": "2022-03-13T07:04:38.957Z"
   },
   {
    "duration": 10,
    "start_time": "2022-03-13T07:04:39.134Z"
   },
   {
    "duration": 43,
    "start_time": "2022-03-13T07:04:39.147Z"
   },
   {
    "duration": 14,
    "start_time": "2022-03-13T07:04:39.193Z"
   },
   {
    "duration": 7,
    "start_time": "2022-03-13T07:04:39.209Z"
   },
   {
    "duration": 12,
    "start_time": "2022-03-13T07:04:39.219Z"
   },
   {
    "duration": 10,
    "start_time": "2022-03-13T07:04:39.236Z"
   },
   {
    "duration": 15,
    "start_time": "2022-03-13T07:04:39.283Z"
   },
   {
    "duration": 8,
    "start_time": "2022-03-13T07:04:39.301Z"
   },
   {
    "duration": 10,
    "start_time": "2022-03-13T07:04:39.312Z"
   },
   {
    "duration": 66,
    "start_time": "2022-03-13T07:04:39.325Z"
   },
   {
    "duration": 18,
    "start_time": "2022-03-13T07:04:39.394Z"
   },
   {
    "duration": 27,
    "start_time": "2022-03-13T07:04:39.415Z"
   },
   {
    "duration": 48,
    "start_time": "2022-03-13T07:04:39.444Z"
   },
   {
    "duration": 28,
    "start_time": "2022-03-13T07:04:39.494Z"
   },
   {
    "duration": 32,
    "start_time": "2022-03-13T07:04:39.524Z"
   },
   {
    "duration": 48,
    "start_time": "2022-03-13T07:04:39.559Z"
   },
   {
    "duration": 8,
    "start_time": "2022-03-13T07:04:39.610Z"
   },
   {
    "duration": 97,
    "start_time": "2022-03-13T07:04:39.620Z"
   },
   {
    "duration": 43,
    "start_time": "2022-03-13T07:04:39.719Z"
   },
   {
    "duration": 1922,
    "start_time": "2022-03-13T07:04:39.783Z"
   },
   {
    "duration": 16,
    "start_time": "2022-03-13T07:04:41.711Z"
   },
   {
    "duration": 427,
    "start_time": "2022-03-13T07:04:41.730Z"
   },
   {
    "duration": 22,
    "start_time": "2022-03-13T07:04:42.159Z"
   },
   {
    "duration": 45,
    "start_time": "2022-03-13T07:04:42.183Z"
   },
   {
    "duration": 770,
    "start_time": "2022-03-13T07:04:42.230Z"
   },
   {
    "duration": 12,
    "start_time": "2022-03-13T07:04:43.003Z"
   },
   {
    "duration": 628,
    "start_time": "2022-03-13T07:04:43.017Z"
   },
   {
    "duration": 17,
    "start_time": "2022-03-13T07:04:43.648Z"
   },
   {
    "duration": 419,
    "start_time": "2022-03-13T07:04:43.682Z"
   },
   {
    "duration": 17,
    "start_time": "2022-03-13T07:04:44.103Z"
   },
   {
    "duration": 11,
    "start_time": "2022-03-13T07:04:44.123Z"
   },
   {
    "duration": 47,
    "start_time": "2022-03-13T07:04:44.136Z"
   },
   {
    "duration": 379,
    "start_time": "2022-03-13T07:04:44.187Z"
   },
   {
    "duration": 23,
    "start_time": "2022-03-13T07:04:44.569Z"
   },
   {
    "duration": 22,
    "start_time": "2022-03-13T07:04:44.595Z"
   },
   {
    "duration": 17,
    "start_time": "2022-03-13T07:04:44.620Z"
   },
   {
    "duration": 60,
    "start_time": "2022-03-13T07:04:44.640Z"
   },
   {
    "duration": 981,
    "start_time": "2022-03-13T07:04:44.703Z"
   },
   {
    "duration": 1011,
    "start_time": "2022-03-13T07:04:45.687Z"
   },
   {
    "duration": 15,
    "start_time": "2022-03-13T07:04:46.701Z"
   },
   {
    "duration": 17,
    "start_time": "2022-03-13T07:04:46.719Z"
   },
   {
    "duration": 13,
    "start_time": "2022-03-13T07:04:46.739Z"
   },
   {
    "duration": 270,
    "start_time": "2022-03-13T07:04:46.755Z"
   },
   {
    "duration": 86537,
    "start_time": "2022-03-13T07:04:47.028Z"
   },
   {
    "duration": 15,
    "start_time": "2022-03-13T07:06:13.567Z"
   },
   {
    "duration": 1406,
    "start_time": "2022-03-13T07:06:13.585Z"
   },
   {
    "duration": 88,
    "start_time": "2022-03-13T07:06:14.995Z"
   },
   {
    "duration": 19,
    "start_time": "2022-03-13T07:06:15.086Z"
   },
   {
    "duration": 306,
    "start_time": "2022-03-13T07:06:15.108Z"
   },
   {
    "duration": 22,
    "start_time": "2022-03-13T07:06:15.417Z"
   },
   {
    "duration": 663,
    "start_time": "2022-03-13T07:06:15.442Z"
   },
   {
    "duration": 1052,
    "start_time": "2022-03-13T07:06:16.108Z"
   },
   {
    "duration": 23,
    "start_time": "2022-03-13T07:06:17.163Z"
   },
   {
    "duration": 14,
    "start_time": "2022-03-13T07:06:17.189Z"
   },
   {
    "duration": 1596,
    "start_time": "2022-03-13T15:36:09.581Z"
   },
   {
    "duration": 335,
    "start_time": "2022-03-13T15:36:11.179Z"
   },
   {
    "duration": 6,
    "start_time": "2022-03-13T15:36:11.516Z"
   },
   {
    "duration": 14,
    "start_time": "2022-03-13T15:36:11.524Z"
   },
   {
    "duration": 15,
    "start_time": "2022-03-13T15:36:11.539Z"
   },
   {
    "duration": 4,
    "start_time": "2022-03-13T15:36:11.555Z"
   },
   {
    "duration": 12,
    "start_time": "2022-03-13T15:36:11.561Z"
   },
   {
    "duration": 4,
    "start_time": "2022-03-13T15:36:11.576Z"
   },
   {
    "duration": 20,
    "start_time": "2022-03-13T15:36:11.582Z"
   },
   {
    "duration": 4,
    "start_time": "2022-03-13T15:36:11.603Z"
   },
   {
    "duration": 4,
    "start_time": "2022-03-13T15:36:11.608Z"
   },
   {
    "duration": 17,
    "start_time": "2022-03-13T15:36:11.613Z"
   },
   {
    "duration": 7,
    "start_time": "2022-03-13T15:36:11.632Z"
   },
   {
    "duration": 30,
    "start_time": "2022-03-13T15:36:11.641Z"
   },
   {
    "duration": 23,
    "start_time": "2022-03-13T15:36:11.673Z"
   },
   {
    "duration": 16,
    "start_time": "2022-03-13T15:36:11.701Z"
   },
   {
    "duration": 21,
    "start_time": "2022-03-13T15:36:11.718Z"
   },
   {
    "duration": 15,
    "start_time": "2022-03-13T15:36:11.741Z"
   },
   {
    "duration": 11,
    "start_time": "2022-03-13T15:36:11.757Z"
   },
   {
    "duration": 52,
    "start_time": "2022-03-13T15:36:11.769Z"
   },
   {
    "duration": 24,
    "start_time": "2022-03-13T15:36:11.822Z"
   },
   {
    "duration": 1019,
    "start_time": "2022-03-13T15:36:11.847Z"
   },
   {
    "duration": 10,
    "start_time": "2022-03-13T15:36:12.869Z"
   },
   {
    "duration": 20,
    "start_time": "2022-03-13T15:36:12.882Z"
   },
   {
    "duration": 11,
    "start_time": "2022-03-13T15:36:12.904Z"
   },
   {
    "duration": 16,
    "start_time": "2022-03-13T15:36:12.916Z"
   },
   {
    "duration": 434,
    "start_time": "2022-03-13T15:36:12.934Z"
   },
   {
    "duration": 8,
    "start_time": "2022-03-13T15:36:13.370Z"
   },
   {
    "duration": 333,
    "start_time": "2022-03-13T15:36:13.379Z"
   },
   {
    "duration": 10,
    "start_time": "2022-03-13T15:36:13.714Z"
   },
   {
    "duration": 219,
    "start_time": "2022-03-13T15:36:13.725Z"
   },
   {
    "duration": 9,
    "start_time": "2022-03-13T15:36:13.946Z"
   },
   {
    "duration": 6,
    "start_time": "2022-03-13T15:36:13.956Z"
   },
   {
    "duration": 9,
    "start_time": "2022-03-13T15:36:13.964Z"
   },
   {
    "duration": 216,
    "start_time": "2022-03-13T15:36:13.974Z"
   },
   {
    "duration": 13,
    "start_time": "2022-03-13T15:36:14.191Z"
   },
   {
    "duration": 12,
    "start_time": "2022-03-13T15:36:14.206Z"
   },
   {
    "duration": 9,
    "start_time": "2022-03-13T15:36:14.219Z"
   },
   {
    "duration": 14,
    "start_time": "2022-03-13T15:36:14.229Z"
   },
   {
    "duration": 417,
    "start_time": "2022-03-13T15:36:14.245Z"
   },
   {
    "duration": 410,
    "start_time": "2022-03-13T15:36:14.663Z"
   },
   {
    "duration": 8,
    "start_time": "2022-03-13T15:36:15.075Z"
   },
   {
    "duration": 18,
    "start_time": "2022-03-13T15:36:15.085Z"
   },
   {
    "duration": 6,
    "start_time": "2022-03-13T15:36:15.104Z"
   },
   {
    "duration": 167,
    "start_time": "2022-03-13T15:36:15.111Z"
   },
   {
    "duration": 46370,
    "start_time": "2022-03-13T15:36:15.279Z"
   },
   {
    "duration": 2,
    "start_time": "2022-03-13T15:37:01.651Z"
   },
   {
    "duration": 747,
    "start_time": "2022-03-13T15:37:01.655Z"
   },
   {
    "duration": 3,
    "start_time": "2022-03-13T15:37:02.403Z"
   },
   {
    "duration": 21,
    "start_time": "2022-03-13T15:37:02.408Z"
   },
   {
    "duration": 346,
    "start_time": "2022-03-13T15:37:02.431Z"
   },
   {
    "duration": 24,
    "start_time": "2022-03-13T15:37:02.779Z"
   },
   {
    "duration": 288,
    "start_time": "2022-03-13T15:37:02.804Z"
   },
   {
    "duration": 445,
    "start_time": "2022-03-13T15:37:03.094Z"
   },
   {
    "duration": 9,
    "start_time": "2022-03-13T15:37:03.541Z"
   },
   {
    "duration": 44,
    "start_time": "2022-03-13T15:37:03.552Z"
   },
   {
    "duration": 15,
    "start_time": "2022-03-13T16:02:59.987Z"
   },
   {
    "duration": 731,
    "start_time": "2022-03-13T20:34:18.800Z"
   },
   {
    "duration": 1661,
    "start_time": "2022-03-13T20:39:07.095Z"
   },
   {
    "duration": 311,
    "start_time": "2022-03-13T20:39:08.759Z"
   },
   {
    "duration": 10,
    "start_time": "2022-03-13T20:39:09.074Z"
   },
   {
    "duration": 17,
    "start_time": "2022-03-13T20:39:09.087Z"
   },
   {
    "duration": 36,
    "start_time": "2022-03-13T20:39:09.107Z"
   },
   {
    "duration": 8,
    "start_time": "2022-03-13T20:39:09.146Z"
   },
   {
    "duration": 16,
    "start_time": "2022-03-13T20:39:09.156Z"
   },
   {
    "duration": 12,
    "start_time": "2022-03-13T20:39:09.176Z"
   },
   {
    "duration": 52,
    "start_time": "2022-03-13T20:39:09.192Z"
   },
   {
    "duration": 7,
    "start_time": "2022-03-13T20:39:09.247Z"
   },
   {
    "duration": 9,
    "start_time": "2022-03-13T20:39:09.257Z"
   },
   {
    "duration": 26,
    "start_time": "2022-03-13T20:39:09.268Z"
   },
   {
    "duration": 49,
    "start_time": "2022-03-13T20:39:09.296Z"
   },
   {
    "duration": 29,
    "start_time": "2022-03-13T20:39:09.348Z"
   },
   {
    "duration": 28,
    "start_time": "2022-03-13T20:39:09.380Z"
   },
   {
    "duration": 31,
    "start_time": "2022-03-13T20:39:09.433Z"
   },
   {
    "duration": 30,
    "start_time": "2022-03-13T20:39:09.467Z"
   },
   {
    "duration": 55,
    "start_time": "2022-03-13T20:39:09.500Z"
   },
   {
    "duration": 8,
    "start_time": "2022-03-13T20:39:09.557Z"
   },
   {
    "duration": 84,
    "start_time": "2022-03-13T20:39:09.568Z"
   },
   {
    "duration": 41,
    "start_time": "2022-03-13T20:39:09.654Z"
   },
   {
    "duration": 1958,
    "start_time": "2022-03-13T20:39:09.697Z"
   },
   {
    "duration": 18,
    "start_time": "2022-03-13T20:39:11.657Z"
   },
   {
    "duration": 11,
    "start_time": "2022-03-13T20:39:11.678Z"
   },
   {
    "duration": 15,
    "start_time": "2022-03-13T20:39:11.692Z"
   },
   {
    "duration": 28,
    "start_time": "2022-03-13T20:39:11.737Z"
   },
   {
    "duration": 764,
    "start_time": "2022-03-13T20:39:11.771Z"
   },
   {
    "duration": 12,
    "start_time": "2022-03-13T20:39:12.538Z"
   },
   {
    "duration": 652,
    "start_time": "2022-03-13T20:39:12.552Z"
   },
   {
    "duration": 29,
    "start_time": "2022-03-13T20:39:13.207Z"
   },
   {
    "duration": 429,
    "start_time": "2022-03-13T20:39:13.239Z"
   },
   {
    "duration": 16,
    "start_time": "2022-03-13T20:39:13.670Z"
   },
   {
    "duration": 11,
    "start_time": "2022-03-13T20:39:13.688Z"
   },
   {
    "duration": 44,
    "start_time": "2022-03-13T20:39:13.701Z"
   },
   {
    "duration": 445,
    "start_time": "2022-03-13T20:39:13.747Z"
   },
   {
    "duration": 12,
    "start_time": "2022-03-13T20:39:14.194Z"
   },
   {
    "duration": 37,
    "start_time": "2022-03-13T20:39:14.208Z"
   },
   {
    "duration": 17,
    "start_time": "2022-03-13T20:39:14.248Z"
   },
   {
    "duration": 24,
    "start_time": "2022-03-13T20:39:14.267Z"
   },
   {
    "duration": 783,
    "start_time": "2022-03-13T20:39:14.293Z"
   },
   {
    "duration": 798,
    "start_time": "2022-03-13T20:39:15.078Z"
   },
   {
    "duration": 16,
    "start_time": "2022-03-13T20:39:15.878Z"
   },
   {
    "duration": 7,
    "start_time": "2022-03-13T20:39:15.896Z"
   },
   {
    "duration": 32,
    "start_time": "2022-03-13T20:39:15.905Z"
   },
   {
    "duration": 262,
    "start_time": "2022-03-13T20:39:15.939Z"
   },
   {
    "duration": 90839,
    "start_time": "2022-03-13T20:39:16.204Z"
   },
   {
    "duration": 4,
    "start_time": "2022-03-13T20:40:47.046Z"
   },
   {
    "duration": 887,
    "start_time": "2022-03-13T20:40:47.053Z"
   },
   {
    "duration": 91,
    "start_time": "2022-03-13T20:40:47.944Z"
   },
   {
    "duration": 22,
    "start_time": "2022-03-13T20:40:48.039Z"
   },
   {
    "duration": 385,
    "start_time": "2022-03-13T20:40:48.063Z"
   },
   {
    "duration": 22,
    "start_time": "2022-03-13T20:40:48.451Z"
   },
   {
    "duration": 547,
    "start_time": "2022-03-13T20:40:48.475Z"
   },
   {
    "duration": 570,
    "start_time": "2022-03-13T20:40:49.024Z"
   },
   {
    "duration": 3,
    "start_time": "2022-03-13T20:40:49.597Z"
   },
   {
    "duration": 825,
    "start_time": "2022-03-13T20:40:57.080Z"
   },
   {
    "duration": 386,
    "start_time": "2022-03-13T20:42:32.705Z"
   },
   {
    "duration": 14,
    "start_time": "2022-03-13T20:42:47.916Z"
   },
   {
    "duration": 14,
    "start_time": "2022-03-13T20:43:03.491Z"
   },
   {
    "duration": 14,
    "start_time": "2022-03-13T20:43:54.392Z"
   },
   {
    "duration": 10,
    "start_time": "2022-03-13T20:44:21.444Z"
   },
   {
    "duration": 6,
    "start_time": "2022-03-13T20:48:03.560Z"
   },
   {
    "duration": 331,
    "start_time": "2022-03-13T20:49:00.089Z"
   },
   {
    "duration": 420,
    "start_time": "2022-03-13T20:50:22.975Z"
   },
   {
    "duration": 500,
    "start_time": "2022-03-13T20:50:34.388Z"
   },
   {
    "duration": 6,
    "start_time": "2022-03-13T20:50:40.632Z"
   },
   {
    "duration": 108,
    "start_time": "2022-03-13T20:53:57.094Z"
   },
   {
    "duration": 7825,
    "start_time": "2022-03-13T20:54:05.184Z"
   },
   {
    "duration": 5,
    "start_time": "2022-03-13T20:54:17.349Z"
   },
   {
    "duration": 5,
    "start_time": "2022-03-13T20:54:43.359Z"
   },
   {
    "duration": 8,
    "start_time": "2022-03-13T20:55:44.816Z"
   },
   {
    "duration": 12,
    "start_time": "2022-03-13T20:56:24.586Z"
   },
   {
    "duration": 6,
    "start_time": "2022-03-13T20:57:13.205Z"
   },
   {
    "duration": 4,
    "start_time": "2022-03-13T20:57:14.045Z"
   },
   {
    "duration": 360,
    "start_time": "2022-03-13T21:00:23.210Z"
   },
   {
    "duration": 11,
    "start_time": "2022-03-13T21:00:37.264Z"
   },
   {
    "duration": 338,
    "start_time": "2022-03-13T21:01:19.874Z"
   },
   {
    "duration": 10,
    "start_time": "2022-03-13T21:01:36.038Z"
   },
   {
    "duration": 1097,
    "start_time": "2022-03-14T16:25:13.353Z"
   },
   {
    "duration": 87,
    "start_time": "2022-03-14T16:25:14.451Z"
   },
   {
    "duration": 4,
    "start_time": "2022-03-14T16:25:14.540Z"
   },
   {
    "duration": 11,
    "start_time": "2022-03-14T16:25:14.546Z"
   },
   {
    "duration": 7,
    "start_time": "2022-03-14T16:25:14.559Z"
   },
   {
    "duration": 4,
    "start_time": "2022-03-14T16:25:14.567Z"
   },
   {
    "duration": 6,
    "start_time": "2022-03-14T16:25:14.573Z"
   },
   {
    "duration": 26,
    "start_time": "2022-03-14T16:25:14.581Z"
   },
   {
    "duration": 9,
    "start_time": "2022-03-14T16:25:14.609Z"
   },
   {
    "duration": 3,
    "start_time": "2022-03-14T16:25:14.619Z"
   },
   {
    "duration": 3,
    "start_time": "2022-03-14T16:25:14.624Z"
   },
   {
    "duration": 16,
    "start_time": "2022-03-14T16:25:14.628Z"
   },
   {
    "duration": 8,
    "start_time": "2022-03-14T16:25:14.645Z"
   },
   {
    "duration": 51,
    "start_time": "2022-03-14T16:25:14.654Z"
   },
   {
    "duration": 15,
    "start_time": "2022-03-14T16:25:14.707Z"
   },
   {
    "duration": 16,
    "start_time": "2022-03-14T16:25:14.723Z"
   },
   {
    "duration": 16,
    "start_time": "2022-03-14T16:25:14.740Z"
   },
   {
    "duration": 44,
    "start_time": "2022-03-14T16:25:14.757Z"
   },
   {
    "duration": 5,
    "start_time": "2022-03-14T16:25:14.802Z"
   },
   {
    "duration": 36,
    "start_time": "2022-03-14T16:25:14.808Z"
   },
   {
    "duration": 22,
    "start_time": "2022-03-14T16:25:14.845Z"
   },
   {
    "duration": 1037,
    "start_time": "2022-03-14T16:25:14.869Z"
   },
   {
    "duration": 10,
    "start_time": "2022-03-14T16:25:15.909Z"
   },
   {
    "duration": 22,
    "start_time": "2022-03-14T16:25:15.922Z"
   },
   {
    "duration": 9,
    "start_time": "2022-03-14T16:25:15.946Z"
   },
   {
    "duration": 14,
    "start_time": "2022-03-14T16:25:15.957Z"
   },
   {
    "duration": 423,
    "start_time": "2022-03-14T16:25:15.973Z"
   },
   {
    "duration": 7,
    "start_time": "2022-03-14T16:25:16.398Z"
   },
   {
    "duration": 345,
    "start_time": "2022-03-14T16:25:16.407Z"
   },
   {
    "duration": 11,
    "start_time": "2022-03-14T16:25:16.754Z"
   },
   {
    "duration": 234,
    "start_time": "2022-03-14T16:25:16.766Z"
   },
   {
    "duration": 9,
    "start_time": "2022-03-14T16:25:17.001Z"
   },
   {
    "duration": 7,
    "start_time": "2022-03-14T16:25:17.012Z"
   },
   {
    "duration": 9,
    "start_time": "2022-03-14T16:25:17.020Z"
   },
   {
    "duration": 215,
    "start_time": "2022-03-14T16:25:17.030Z"
   },
   {
    "duration": 8,
    "start_time": "2022-03-14T16:25:17.246Z"
   },
   {
    "duration": 12,
    "start_time": "2022-03-14T16:25:17.255Z"
   },
   {
    "duration": 9,
    "start_time": "2022-03-14T16:25:17.268Z"
   },
   {
    "duration": 31,
    "start_time": "2022-03-14T16:25:17.279Z"
   },
   {
    "duration": 392,
    "start_time": "2022-03-14T16:25:17.311Z"
   },
   {
    "duration": 403,
    "start_time": "2022-03-14T16:25:17.705Z"
   },
   {
    "duration": 9,
    "start_time": "2022-03-14T16:25:18.110Z"
   },
   {
    "duration": 4,
    "start_time": "2022-03-14T16:25:18.121Z"
   },
   {
    "duration": 6,
    "start_time": "2022-03-14T16:25:18.126Z"
   },
   {
    "duration": 175,
    "start_time": "2022-03-14T16:25:18.134Z"
   },
   {
    "duration": 45356,
    "start_time": "2022-03-14T16:25:18.310Z"
   },
   {
    "duration": 2,
    "start_time": "2022-03-14T16:26:03.668Z"
   },
   {
    "duration": 729,
    "start_time": "2022-03-14T16:26:03.672Z"
   },
   {
    "duration": 5,
    "start_time": "2022-03-14T16:26:04.403Z"
   },
   {
    "duration": 8,
    "start_time": "2022-03-14T16:26:04.410Z"
   },
   {
    "duration": 355,
    "start_time": "2022-03-14T16:26:04.420Z"
   },
   {
    "duration": 25,
    "start_time": "2022-03-14T16:26:04.777Z"
   },
   {
    "duration": 286,
    "start_time": "2022-03-14T16:26:04.803Z"
   },
   {
    "duration": 441,
    "start_time": "2022-03-14T16:26:05.090Z"
   },
   {
    "duration": 3,
    "start_time": "2022-03-14T16:26:05.532Z"
   },
   {
    "duration": 414,
    "start_time": "2022-03-14T16:26:05.536Z"
   },
   {
    "duration": 46,
    "start_time": "2022-03-14T16:26:05.906Z"
   },
   {
    "duration": 45,
    "start_time": "2022-03-14T16:26:05.908Z"
   },
   {
    "duration": 44,
    "start_time": "2022-03-14T16:26:05.910Z"
   },
   {
    "duration": 43,
    "start_time": "2022-03-14T16:26:05.912Z"
   },
   {
    "duration": 41,
    "start_time": "2022-03-14T16:26:05.915Z"
   },
   {
    "duration": 40,
    "start_time": "2022-03-14T16:26:05.917Z"
   },
   {
    "duration": 39,
    "start_time": "2022-03-14T16:26:05.918Z"
   },
   {
    "duration": 38,
    "start_time": "2022-03-14T16:26:05.920Z"
   },
   {
    "duration": 37,
    "start_time": "2022-03-14T16:26:05.922Z"
   },
   {
    "duration": 36,
    "start_time": "2022-03-14T16:26:05.924Z"
   },
   {
    "duration": 10,
    "start_time": "2022-03-14T16:26:26.379Z"
   },
   {
    "duration": 5,
    "start_time": "2022-03-14T16:36:28.371Z"
   },
   {
    "duration": 4,
    "start_time": "2022-03-14T16:36:45.594Z"
   },
   {
    "duration": 5,
    "start_time": "2022-03-14T16:37:06.779Z"
   },
   {
    "duration": 5,
    "start_time": "2022-03-14T16:37:14.026Z"
   },
   {
    "duration": 5,
    "start_time": "2022-03-14T16:41:37.357Z"
   },
   {
    "duration": 95,
    "start_time": "2022-03-14T16:43:59.043Z"
   },
   {
    "duration": 5,
    "start_time": "2022-03-14T16:45:58.295Z"
   },
   {
    "duration": 1210,
    "start_time": "2022-03-15T08:13:12.793Z"
   },
   {
    "duration": 82,
    "start_time": "2022-03-15T08:13:14.005Z"
   },
   {
    "duration": 5,
    "start_time": "2022-03-15T08:13:14.088Z"
   },
   {
    "duration": 12,
    "start_time": "2022-03-15T08:13:14.095Z"
   },
   {
    "duration": 7,
    "start_time": "2022-03-15T08:13:14.108Z"
   },
   {
    "duration": 3,
    "start_time": "2022-03-15T08:13:14.116Z"
   },
   {
    "duration": 7,
    "start_time": "2022-03-15T08:13:14.120Z"
   },
   {
    "duration": 4,
    "start_time": "2022-03-15T08:13:14.130Z"
   },
   {
    "duration": 7,
    "start_time": "2022-03-15T08:13:14.136Z"
   },
   {
    "duration": 3,
    "start_time": "2022-03-15T08:13:14.144Z"
   },
   {
    "duration": 7,
    "start_time": "2022-03-15T08:13:14.149Z"
   },
   {
    "duration": 45,
    "start_time": "2022-03-15T08:13:14.157Z"
   },
   {
    "duration": 7,
    "start_time": "2022-03-15T08:13:14.203Z"
   },
   {
    "duration": 21,
    "start_time": "2022-03-15T08:13:14.211Z"
   },
   {
    "duration": 15,
    "start_time": "2022-03-15T08:13:14.233Z"
   },
   {
    "duration": 15,
    "start_time": "2022-03-15T08:13:14.249Z"
   },
   {
    "duration": 37,
    "start_time": "2022-03-15T08:13:14.265Z"
   },
   {
    "duration": 16,
    "start_time": "2022-03-15T08:13:14.303Z"
   },
   {
    "duration": 5,
    "start_time": "2022-03-15T08:13:14.320Z"
   },
   {
    "duration": 38,
    "start_time": "2022-03-15T08:13:14.326Z"
   },
   {
    "duration": 46,
    "start_time": "2022-03-15T08:13:14.365Z"
   },
   {
    "duration": 988,
    "start_time": "2022-03-15T08:13:14.413Z"
   },
   {
    "duration": 10,
    "start_time": "2022-03-15T08:13:15.404Z"
   },
   {
    "duration": 9,
    "start_time": "2022-03-15T08:13:15.415Z"
   },
   {
    "duration": 9,
    "start_time": "2022-03-15T08:13:15.425Z"
   },
   {
    "duration": 15,
    "start_time": "2022-03-15T08:13:15.436Z"
   },
   {
    "duration": 424,
    "start_time": "2022-03-15T08:13:15.452Z"
   },
   {
    "duration": 7,
    "start_time": "2022-03-15T08:13:15.878Z"
   },
   {
    "duration": 467,
    "start_time": "2022-03-15T08:13:15.887Z"
   },
   {
    "duration": 10,
    "start_time": "2022-03-15T08:13:16.356Z"
   },
   {
    "duration": 239,
    "start_time": "2022-03-15T08:13:16.367Z"
   },
   {
    "duration": 9,
    "start_time": "2022-03-15T08:13:16.607Z"
   },
   {
    "duration": 8,
    "start_time": "2022-03-15T08:13:16.618Z"
   },
   {
    "duration": 9,
    "start_time": "2022-03-15T08:13:16.627Z"
   },
   {
    "duration": 216,
    "start_time": "2022-03-15T08:13:16.637Z"
   },
   {
    "duration": 7,
    "start_time": "2022-03-15T08:13:16.855Z"
   },
   {
    "duration": 9,
    "start_time": "2022-03-15T08:13:16.864Z"
   },
   {
    "duration": 27,
    "start_time": "2022-03-15T08:13:16.875Z"
   },
   {
    "duration": 15,
    "start_time": "2022-03-15T08:13:16.904Z"
   },
   {
    "duration": 406,
    "start_time": "2022-03-15T08:13:16.921Z"
   },
   {
    "duration": 429,
    "start_time": "2022-03-15T08:13:17.329Z"
   },
   {
    "duration": 10,
    "start_time": "2022-03-15T08:13:17.759Z"
   },
   {
    "duration": 6,
    "start_time": "2022-03-15T08:13:17.770Z"
   },
   {
    "duration": 5,
    "start_time": "2022-03-15T08:13:17.778Z"
   },
   {
    "duration": 167,
    "start_time": "2022-03-15T08:13:17.785Z"
   },
   {
    "duration": 45185,
    "start_time": "2022-03-15T08:13:17.954Z"
   },
   {
    "duration": 2,
    "start_time": "2022-03-15T08:14:03.141Z"
   },
   {
    "duration": 762,
    "start_time": "2022-03-15T08:14:03.144Z"
   },
   {
    "duration": 95,
    "start_time": "2022-03-15T08:14:03.908Z"
   },
   {
    "duration": 6,
    "start_time": "2022-03-15T08:14:04.005Z"
   },
   {
    "duration": 270,
    "start_time": "2022-03-15T08:14:04.013Z"
   },
   {
    "duration": 23,
    "start_time": "2022-03-15T08:14:04.285Z"
   },
   {
    "duration": 293,
    "start_time": "2022-03-15T08:14:04.310Z"
   },
   {
    "duration": 444,
    "start_time": "2022-03-15T08:14:04.605Z"
   },
   {
    "duration": 10,
    "start_time": "2022-03-15T08:14:05.051Z"
   },
   {
    "duration": 6,
    "start_time": "2022-03-15T08:14:05.062Z"
   },
   {
    "duration": 4,
    "start_time": "2022-03-15T08:14:05.070Z"
   },
   {
    "duration": 4,
    "start_time": "2022-03-15T08:14:05.075Z"
   },
   {
    "duration": 25,
    "start_time": "2022-03-15T08:14:05.081Z"
   },
   {
    "duration": 5,
    "start_time": "2022-03-15T08:14:05.107Z"
   },
   {
    "duration": 6,
    "start_time": "2022-03-15T08:14:05.113Z"
   }
  ],
  "kernelspec": {
   "display_name": "Python 3",
   "language": "python",
   "name": "python3"
  },
  "language_info": {
   "codemirror_mode": {
    "name": "ipython",
    "version": 3
   },
   "file_extension": ".py",
   "mimetype": "text/x-python",
   "name": "python",
   "nbconvert_exporter": "python",
   "pygments_lexer": "ipython3",
   "version": "3.8.8"
  },
  "toc": {
   "base_numbering": 1,
   "nav_menu": {},
   "number_sections": false,
   "sideBar": true,
   "skip_h1_title": true,
   "title_cell": "Содержание проекта",
   "title_sidebar": "Contents",
   "toc_cell": true,
   "toc_position": {
    "height": "calc(100% - 180px)",
    "left": "10px",
    "top": "150px",
    "width": "334px"
   },
   "toc_section_display": true,
   "toc_window_display": true
  }
 },
 "nbformat": 4,
 "nbformat_minor": 2
}
